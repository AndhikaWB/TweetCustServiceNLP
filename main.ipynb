{
 "cells": [
  {
   "cell_type": "markdown",
   "metadata": {},
   "source": [
    "## **Customer Support Sentiment Analysis**\n",
    "- Code: AndhikaWB\n",
    "- Dataset: [Kaggle](https://www.kaggle.com/datasets/thoughtvector/customer-support-on-twitter)"
   ]
  },
  {
   "cell_type": "markdown",
   "metadata": {},
   "source": [
    "### **Set Renderer**"
   ]
  },
  {
   "cell_type": "code",
   "execution_count": 1,
   "metadata": {},
   "outputs": [],
   "source": [
    "import plotly.io as io\n",
    "\n",
    "# Set compatibility for Google Colab\n",
    "# Otherwise, the graphs will not show\n",
    "io.renderers.default = 'colab+vscode'"
   ]
  },
  {
   "cell_type": "markdown",
   "metadata": {},
   "source": [
    "### **Extract and Read Dataset**"
   ]
  },
  {
   "cell_type": "code",
   "execution_count": 2,
   "metadata": {},
   "outputs": [],
   "source": [
    "import glob\n",
    "import shutil\n",
    "import zipfile\n",
    "import os\n",
    "\n",
    "# Combine multi-part zip files\n",
    "with open('archive.zip', 'wb') as final_zip:\n",
    "    for zip_part in glob.glob('archive.zip.*'):\n",
    "        with open(zip_part, 'rb') as f:\n",
    "            shutil.copyfileobj(f, final_zip)\n",
    "\n",
    "# Extract the archive if it hasn't been extracted already\n",
    "if not os.path.isfile('data/twcs.csv'):\n",
    "    with zipfile.ZipFile('archive.zip') as zip:\n",
    "        zip.extractall('data')"
   ]
  },
  {
   "cell_type": "code",
   "execution_count": 3,
   "metadata": {},
   "outputs": [
    {
     "data": {
      "text/html": [
       "<div>\n",
       "<style scoped>\n",
       "    .dataframe tbody tr th:only-of-type {\n",
       "        vertical-align: middle;\n",
       "    }\n",
       "\n",
       "    .dataframe tbody tr th {\n",
       "        vertical-align: top;\n",
       "    }\n",
       "\n",
       "    .dataframe thead th {\n",
       "        text-align: right;\n",
       "    }\n",
       "</style>\n",
       "<table border=\"1\" class=\"dataframe\">\n",
       "  <thead>\n",
       "    <tr style=\"text-align: right;\">\n",
       "      <th></th>\n",
       "      <th>tweet_id</th>\n",
       "      <th>author_id</th>\n",
       "      <th>inbound</th>\n",
       "      <th>created_at</th>\n",
       "      <th>text</th>\n",
       "      <th>response_tweet_id</th>\n",
       "      <th>in_response_to_tweet_id</th>\n",
       "    </tr>\n",
       "  </thead>\n",
       "  <tbody>\n",
       "    <tr>\n",
       "      <th>0</th>\n",
       "      <td>1</td>\n",
       "      <td>sprintcare</td>\n",
       "      <td>False</td>\n",
       "      <td>Tue Oct 31 22:10:47 +0000 2017</td>\n",
       "      <td>@115712 I understand. I would like to assist y...</td>\n",
       "      <td>2</td>\n",
       "      <td>3.0</td>\n",
       "    </tr>\n",
       "    <tr>\n",
       "      <th>1</th>\n",
       "      <td>2</td>\n",
       "      <td>115712</td>\n",
       "      <td>True</td>\n",
       "      <td>Tue Oct 31 22:11:45 +0000 2017</td>\n",
       "      <td>@sprintcare and how do you propose we do that</td>\n",
       "      <td>NaN</td>\n",
       "      <td>1.0</td>\n",
       "    </tr>\n",
       "    <tr>\n",
       "      <th>2</th>\n",
       "      <td>3</td>\n",
       "      <td>115712</td>\n",
       "      <td>True</td>\n",
       "      <td>Tue Oct 31 22:08:27 +0000 2017</td>\n",
       "      <td>@sprintcare I have sent several private messag...</td>\n",
       "      <td>1</td>\n",
       "      <td>4.0</td>\n",
       "    </tr>\n",
       "    <tr>\n",
       "      <th>3</th>\n",
       "      <td>4</td>\n",
       "      <td>sprintcare</td>\n",
       "      <td>False</td>\n",
       "      <td>Tue Oct 31 21:54:49 +0000 2017</td>\n",
       "      <td>@115712 Please send us a Private Message so th...</td>\n",
       "      <td>3</td>\n",
       "      <td>5.0</td>\n",
       "    </tr>\n",
       "    <tr>\n",
       "      <th>4</th>\n",
       "      <td>5</td>\n",
       "      <td>115712</td>\n",
       "      <td>True</td>\n",
       "      <td>Tue Oct 31 21:49:35 +0000 2017</td>\n",
       "      <td>@sprintcare I did.</td>\n",
       "      <td>4</td>\n",
       "      <td>6.0</td>\n",
       "    </tr>\n",
       "    <tr>\n",
       "      <th>...</th>\n",
       "      <td>...</td>\n",
       "      <td>...</td>\n",
       "      <td>...</td>\n",
       "      <td>...</td>\n",
       "      <td>...</td>\n",
       "      <td>...</td>\n",
       "      <td>...</td>\n",
       "    </tr>\n",
       "    <tr>\n",
       "      <th>2811769</th>\n",
       "      <td>2987947</td>\n",
       "      <td>sprintcare</td>\n",
       "      <td>False</td>\n",
       "      <td>Wed Nov 22 08:43:51 +0000 2017</td>\n",
       "      <td>@823869 Hey, we'd be happy to look into this f...</td>\n",
       "      <td>NaN</td>\n",
       "      <td>2987948.0</td>\n",
       "    </tr>\n",
       "    <tr>\n",
       "      <th>2811770</th>\n",
       "      <td>2987948</td>\n",
       "      <td>823869</td>\n",
       "      <td>True</td>\n",
       "      <td>Wed Nov 22 08:35:16 +0000 2017</td>\n",
       "      <td>@115714 wtf!? I’ve been having really shitty s...</td>\n",
       "      <td>2987947</td>\n",
       "      <td>NaN</td>\n",
       "    </tr>\n",
       "    <tr>\n",
       "      <th>2811771</th>\n",
       "      <td>2812240</td>\n",
       "      <td>121673</td>\n",
       "      <td>True</td>\n",
       "      <td>Thu Nov 23 04:13:07 +0000 2017</td>\n",
       "      <td>@143549 @sprintcare You have to go to https://...</td>\n",
       "      <td>NaN</td>\n",
       "      <td>2812239.0</td>\n",
       "    </tr>\n",
       "    <tr>\n",
       "      <th>2811772</th>\n",
       "      <td>2987949</td>\n",
       "      <td>AldiUK</td>\n",
       "      <td>False</td>\n",
       "      <td>Wed Nov 22 08:31:24 +0000 2017</td>\n",
       "      <td>@823870 Sounds delicious, Sarah! 😋 https://t.c...</td>\n",
       "      <td>NaN</td>\n",
       "      <td>2987950.0</td>\n",
       "    </tr>\n",
       "    <tr>\n",
       "      <th>2811773</th>\n",
       "      <td>2987950</td>\n",
       "      <td>823870</td>\n",
       "      <td>True</td>\n",
       "      <td>Tue Nov 21 22:01:04 +0000 2017</td>\n",
       "      <td>@AldiUK  warm sloe gin mince pies with ice cre...</td>\n",
       "      <td>2987951,2987949</td>\n",
       "      <td>NaN</td>\n",
       "    </tr>\n",
       "  </tbody>\n",
       "</table>\n",
       "<p>2811774 rows × 7 columns</p>\n",
       "</div>"
      ],
      "text/plain": [
       "         tweet_id   author_id  inbound                      created_at  \\\n",
       "0               1  sprintcare    False  Tue Oct 31 22:10:47 +0000 2017   \n",
       "1               2      115712     True  Tue Oct 31 22:11:45 +0000 2017   \n",
       "2               3      115712     True  Tue Oct 31 22:08:27 +0000 2017   \n",
       "3               4  sprintcare    False  Tue Oct 31 21:54:49 +0000 2017   \n",
       "4               5      115712     True  Tue Oct 31 21:49:35 +0000 2017   \n",
       "...           ...         ...      ...                             ...   \n",
       "2811769   2987947  sprintcare    False  Wed Nov 22 08:43:51 +0000 2017   \n",
       "2811770   2987948      823869     True  Wed Nov 22 08:35:16 +0000 2017   \n",
       "2811771   2812240      121673     True  Thu Nov 23 04:13:07 +0000 2017   \n",
       "2811772   2987949      AldiUK    False  Wed Nov 22 08:31:24 +0000 2017   \n",
       "2811773   2987950      823870     True  Tue Nov 21 22:01:04 +0000 2017   \n",
       "\n",
       "                                                      text response_tweet_id  \\\n",
       "0        @115712 I understand. I would like to assist y...                 2   \n",
       "1            @sprintcare and how do you propose we do that               NaN   \n",
       "2        @sprintcare I have sent several private messag...                 1   \n",
       "3        @115712 Please send us a Private Message so th...                 3   \n",
       "4                                       @sprintcare I did.                 4   \n",
       "...                                                    ...               ...   \n",
       "2811769  @823869 Hey, we'd be happy to look into this f...               NaN   \n",
       "2811770  @115714 wtf!? I’ve been having really shitty s...           2987947   \n",
       "2811771  @143549 @sprintcare You have to go to https://...               NaN   \n",
       "2811772  @823870 Sounds delicious, Sarah! 😋 https://t.c...               NaN   \n",
       "2811773  @AldiUK  warm sloe gin mince pies with ice cre...   2987951,2987949   \n",
       "\n",
       "         in_response_to_tweet_id  \n",
       "0                            3.0  \n",
       "1                            1.0  \n",
       "2                            4.0  \n",
       "3                            5.0  \n",
       "4                            6.0  \n",
       "...                          ...  \n",
       "2811769                2987948.0  \n",
       "2811770                      NaN  \n",
       "2811771                2812239.0  \n",
       "2811772                2987950.0  \n",
       "2811773                      NaN  \n",
       "\n",
       "[2811774 rows x 7 columns]"
      ]
     },
     "execution_count": 3,
     "metadata": {},
     "output_type": "execute_result"
    }
   ],
   "source": [
    "import pandas as pd\n",
    "\n",
    "df = pd.read_csv('data/twcs.csv')\n",
    "df"
   ]
  },
  {
   "cell_type": "markdown",
   "metadata": {},
   "source": [
    "`inbound` here means whether it's directed to a company's customer support or not."
   ]
  },
  {
   "cell_type": "markdown",
   "metadata": {},
   "source": [
    "### **Data/Text Preprocessing**"
   ]
  },
  {
   "cell_type": "markdown",
   "metadata": {},
   "source": [
    "#### **Data Type Correction**\n",
    "For possible Exploratory Data Analysis (EDA) at the end\n",
    "- String to datetime (`created_at`)\n",
    "- String to integer array (`response_tweet_id`)\n",
    "- Float to integer (other tweet IDs)"
   ]
  },
  {
   "cell_type": "code",
   "execution_count": 4,
   "metadata": {},
   "outputs": [
    {
     "name": "stdout",
     "output_type": "stream",
     "text": [
      "<class 'pandas.core.frame.DataFrame'>\n",
      "RangeIndex: 2811774 entries, 0 to 2811773\n",
      "Data columns (total 7 columns):\n",
      " #   Column                   Non-Null Count    Dtype  \n",
      "---  ------                   --------------    -----  \n",
      " 0   tweet_id                 2811774 non-null  int64  \n",
      " 1   author_id                2811774 non-null  object \n",
      " 2   inbound                  2811774 non-null  bool   \n",
      " 3   created_at               2811774 non-null  object \n",
      " 4   text                     2811774 non-null  object \n",
      " 5   response_tweet_id        1771145 non-null  object \n",
      " 6   in_response_to_tweet_id  2017439 non-null  float64\n",
      "dtypes: bool(1), float64(1), int64(1), object(4)\n",
      "memory usage: 131.4+ MB\n"
     ]
    }
   ],
   "source": [
    "# Check data types and memory usage\n",
    "df.info(show_counts = True)"
   ]
  },
  {
   "cell_type": "code",
   "execution_count": 5,
   "metadata": {},
   "outputs": [
    {
     "data": {
      "text/html": [
       "<div>\n",
       "<style scoped>\n",
       "    .dataframe tbody tr th:only-of-type {\n",
       "        vertical-align: middle;\n",
       "    }\n",
       "\n",
       "    .dataframe tbody tr th {\n",
       "        vertical-align: top;\n",
       "    }\n",
       "\n",
       "    .dataframe thead th {\n",
       "        text-align: right;\n",
       "    }\n",
       "</style>\n",
       "<table border=\"1\" class=\"dataframe\">\n",
       "  <thead>\n",
       "    <tr style=\"text-align: right;\">\n",
       "      <th></th>\n",
       "      <th>tweet_id</th>\n",
       "      <th>author_id</th>\n",
       "      <th>inbound</th>\n",
       "      <th>created_at</th>\n",
       "      <th>text</th>\n",
       "      <th>response_tweet_id</th>\n",
       "      <th>in_response_to_tweet_id</th>\n",
       "    </tr>\n",
       "  </thead>\n",
       "  <tbody>\n",
       "    <tr>\n",
       "      <th>5</th>\n",
       "      <td>6</td>\n",
       "      <td>sprintcare</td>\n",
       "      <td>False</td>\n",
       "      <td>Tue Oct 31 21:46:24 +0000 2017</td>\n",
       "      <td>@115712 Can you please send us a private messa...</td>\n",
       "      <td>5,7</td>\n",
       "      <td>8.0</td>\n",
       "    </tr>\n",
       "    <tr>\n",
       "      <th>6</th>\n",
       "      <td>8</td>\n",
       "      <td>115712</td>\n",
       "      <td>True</td>\n",
       "      <td>Tue Oct 31 21:45:10 +0000 2017</td>\n",
       "      <td>@sprintcare is the worst customer service</td>\n",
       "      <td>9,6,10</td>\n",
       "      <td>NaN</td>\n",
       "    </tr>\n",
       "    <tr>\n",
       "      <th>8</th>\n",
       "      <td>12</td>\n",
       "      <td>115713</td>\n",
       "      <td>True</td>\n",
       "      <td>Tue Oct 31 22:04:47 +0000 2017</td>\n",
       "      <td>@sprintcare You gonna magically change your co...</td>\n",
       "      <td>11,13,14</td>\n",
       "      <td>15.0</td>\n",
       "    </tr>\n",
       "    <tr>\n",
       "      <th>15</th>\n",
       "      <td>21</td>\n",
       "      <td>Ask_Spectrum</td>\n",
       "      <td>False</td>\n",
       "      <td>Tue Oct 31 22:14:37 +0000 2017</td>\n",
       "      <td>@115716 What information is incorrect? ^JK</td>\n",
       "      <td>22,23</td>\n",
       "      <td>24.0</td>\n",
       "    </tr>\n",
       "    <tr>\n",
       "      <th>60</th>\n",
       "      <td>66</td>\n",
       "      <td>115728</td>\n",
       "      <td>True</td>\n",
       "      <td>Tue Oct 31 22:03:38 +0000 2017</td>\n",
       "      <td>@ChipotleTweets @28 \\nI don't fit in my Veggie...</td>\n",
       "      <td>64,67</td>\n",
       "      <td>NaN</td>\n",
       "    </tr>\n",
       "  </tbody>\n",
       "</table>\n",
       "</div>"
      ],
      "text/plain": [
       "    tweet_id     author_id  inbound                      created_at  \\\n",
       "5          6    sprintcare    False  Tue Oct 31 21:46:24 +0000 2017   \n",
       "6          8        115712     True  Tue Oct 31 21:45:10 +0000 2017   \n",
       "8         12        115713     True  Tue Oct 31 22:04:47 +0000 2017   \n",
       "15        21  Ask_Spectrum    False  Tue Oct 31 22:14:37 +0000 2017   \n",
       "60        66        115728     True  Tue Oct 31 22:03:38 +0000 2017   \n",
       "\n",
       "                                                 text response_tweet_id  \\\n",
       "5   @115712 Can you please send us a private messa...               5,7   \n",
       "6           @sprintcare is the worst customer service            9,6,10   \n",
       "8   @sprintcare You gonna magically change your co...          11,13,14   \n",
       "15         @115716 What information is incorrect? ^JK             22,23   \n",
       "60  @ChipotleTweets @28 \\nI don't fit in my Veggie...             64,67   \n",
       "\n",
       "    in_response_to_tweet_id  \n",
       "5                       8.0  \n",
       "6                       NaN  \n",
       "8                      15.0  \n",
       "15                     24.0  \n",
       "60                      NaN  "
      ]
     },
     "execution_count": 5,
     "metadata": {},
     "output_type": "execute_result"
    }
   ],
   "source": [
    "# Let's see why \"response_tweet_id\" is an object, not int/float\n",
    "df[df['response_tweet_id'].notna() & df['response_tweet_id'].str.contains(',')].head()"
   ]
  },
  {
   "cell_type": "markdown",
   "metadata": {},
   "source": [
    "It turns out that `response_tweet_id` is a list (array), so we need to parse it correctly before fixing the data type. However, note that the `response_tweet_id` value can also be nan (float)."
   ]
  },
  {
   "cell_type": "code",
   "execution_count": 6,
   "metadata": {},
   "outputs": [],
   "source": [
    "import math\n",
    "import numpy as np\n",
    "\n",
    "def tweet_id_to_arr(value):\n",
    "    # If empty/nan (aka the first tweet) then no need to make it as an array\n",
    "    if type(value) == float and math.isnan(value): return pd.NA\n",
    "    # Numpy's int array doesn't support nan, while Pandas' array does\n",
    "    # However, converting to Pandas' array can be a lot slower\n",
    "    return np.array(value.split(','), dtype = np.int64)\n",
    "\n",
    "df['response_tweet_id'] = df['response_tweet_id'].apply(tweet_id_to_arr)\n",
    "\n",
    "# https://strftime.org/\n",
    "df['created_at'] = pd.to_datetime(df['created_at'], format = '%a %b %d %H:%M:%S %z %Y')\n",
    "\n",
    "# Convert float to Pandas' Int64 (support nan)\n",
    "# Pandas' Int64 array will use \"pd.NA\" rather than \"np.nan\"\n",
    "# https://pandas.pydata.org/docs/user_guide/integer_na.html\n",
    "cols = ['tweet_id', 'in_response_to_tweet_id']\n",
    "df[cols] = df[cols].astype('Int64')"
   ]
  },
  {
   "cell_type": "code",
   "execution_count": 7,
   "metadata": {},
   "outputs": [
    {
     "name": "stdout",
     "output_type": "stream",
     "text": [
      "<class 'numpy.int64'>\n",
      "<class 'pandas._libs.missing.NAType'>\n",
      "<class 'numpy.int64'>\n",
      "<class 'pandas._libs.missing.NAType'>\n"
     ]
    }
   ],
   "source": [
    "# Check whether Numpy's array and Pandas' array and use the same data type\n",
    "print(type(df['response_tweet_id'].iloc[0][0])) # value row\n",
    "print(type(df['response_tweet_id'].iloc[1])) # nan row\n",
    "\n",
    "print(type(df['in_response_to_tweet_id'].iloc[0])) # value row\n",
    "print(type(df['in_response_to_tweet_id'].iloc[6])) # nan row"
   ]
  },
  {
   "cell_type": "code",
   "execution_count": 8,
   "metadata": {},
   "outputs": [
    {
     "name": "stdout",
     "output_type": "stream",
     "text": [
      "<class 'pandas.core.frame.DataFrame'>\n",
      "RangeIndex: 2811774 entries, 0 to 2811773\n",
      "Data columns (total 7 columns):\n",
      " #   Column                   Non-Null Count    Dtype              \n",
      "---  ------                   --------------    -----              \n",
      " 0   tweet_id                 2811774 non-null  Int64              \n",
      " 1   author_id                2811774 non-null  object             \n",
      " 2   inbound                  2811774 non-null  bool               \n",
      " 3   created_at               2811774 non-null  datetime64[ns, UTC]\n",
      " 4   text                     2811774 non-null  object             \n",
      " 5   response_tweet_id        1771145 non-null  object             \n",
      " 6   in_response_to_tweet_id  2017439 non-null  Int64              \n",
      "dtypes: Int64(2), bool(1), datetime64[ns, UTC](1), object(3)\n",
      "memory usage: 136.8+ MB\n"
     ]
    }
   ],
   "source": [
    "df.info(show_counts = True)"
   ]
  },
  {
   "cell_type": "markdown",
   "metadata": {},
   "source": [
    "#### **Basic Text Preprocessing (1)**\n",
    "Before moving on to sentiment analysis, we need to do some text preprocessing first. However, not everything has to be preprocessed/cleaned before doing the analysis. Some sentiment analysis libraries (e.g. [VADER](https://github.com/cjhutto/vaderSentiment)) are able to process raw text or even make a better prediction compared to cleaned text, so we only need to:\n",
    "- Remove non-English tweets\n",
    "- Remove URLs\n",
    "- Remove HTML tags ([entities](https://www.w3schools.com/html/html_entities.asp) currently won't be checked, e.g. `%20`, `&nbsp`)\n",
    "- Remove emails (must be prioritized before mentions)\n",
    "- Remove mentions and hashtags\n",
    "- Remove phone numbers (it's easier to just remove all numbers, but might mess with slang words or emoticons)\n",
    "- Replace repeated characters (3 times+)\n",
    "- Replace non-standard or multiple whitespaces (can be done last)\n",
    "\n",
    "Depending on the libraries/algorithms, we may also need to do:\n",
    "- Slang words and idioms conversion (to a more common words)\n",
    "- Emojis and emoticons removal (or describe it as words)\n",
    "\n",
    "**Note:** Be aware that some (if not most) sentiment analysis libraries are only able to score 1-gram word. [Splitting or describing](https://www.kaggle.com/code/sudalairajkumar/getting-started-with-text-preprocessing) emojis/emoticons/slang as multiple words may drastically [affect the score](https://medium.com/analytics-vidhya/sentiment-analysis-with-nltk-textblob-and-flair-a321d1460867).\n",
    "\n",
    "See more info about VADER on the next section."
   ]
  },
  {
   "cell_type": "code",
   "execution_count": 9,
   "metadata": {},
   "outputs": [
    {
     "name": "stdout",
     "output_type": "stream",
     "text": [
      "ja\n",
      "False\n"
     ]
    }
   ],
   "source": [
    "# fastText is a NLP library made by Facebook\n",
    "# https://github.com/facebookresearch/fastText\n",
    "import fasttext\n",
    "# Regex\n",
    "import re\n",
    "\n",
    "# Suppress warning on fastText v0.9.2\n",
    "fasttext.FastText.eprint = lambda x: None\n",
    "\n",
    "# Predict language to remove non-English tweets\n",
    "# https://fasttext.cc/docs/en/language-identification.html\n",
    "lang_detector = fasttext.load_model('misc/fastText/lid.176.ftz')\n",
    "\n",
    "def lang_predict(value: str):\n",
    "    # Replace newline and possibly other unsupported whitespace characters\n",
    "    # The model will complain since it thinks each newline might have a different language\n",
    "    value = re.sub(r'\\s+', ' ', value)\n",
    "    # Will return nested tuple (each contains the language code and probability)\n",
    "    result = lang_detector.predict(value)\n",
    "    # ISO-639-1 or ISO-639-2\n",
    "    lang_code = result[0][0].split('__label__')[1]\n",
    "    return lang_code\n",
    "\n",
    "def is_english(value: str):\n",
    "    return lang_predict(value) == 'en'\n",
    "\n",
    "# Check whether fastText can handle non-ASCII text or not\n",
    "# Since there are also non-English tweets (e.g. Japanese)\n",
    "text = 'こんにちは 😊'\n",
    "print(lang_predict(text))\n",
    "print(is_english(text))"
   ]
  },
  {
   "cell_type": "code",
   "execution_count": 10,
   "metadata": {},
   "outputs": [
    {
     "name": "stdout",
     "output_type": "stream",
     "text": [
      "Before non-English language removal: 2811774\n"
     ]
    },
    {
     "data": {
      "application/vnd.jupyter.widget-view+json": {
       "model_id": "10a39b368f8348cb931c48846c531b3d",
       "version_major": 2,
       "version_minor": 0
      },
      "text/plain": [
       "Pandas Apply:   0%|          | 0/2811774 [00:00<?, ?it/s]"
      ]
     },
     "metadata": {},
     "output_type": "display_data"
    },
    {
     "name": "stdout",
     "output_type": "stream",
     "text": [
      "After non-English language removal: 2674836\n"
     ]
    },
    {
     "data": {
      "text/html": [
       "<div>\n",
       "<style scoped>\n",
       "    .dataframe tbody tr th:only-of-type {\n",
       "        vertical-align: middle;\n",
       "    }\n",
       "\n",
       "    .dataframe tbody tr th {\n",
       "        vertical-align: top;\n",
       "    }\n",
       "\n",
       "    .dataframe thead th {\n",
       "        text-align: right;\n",
       "    }\n",
       "</style>\n",
       "<table border=\"1\" class=\"dataframe\">\n",
       "  <thead>\n",
       "    <tr style=\"text-align: right;\">\n",
       "      <th></th>\n",
       "      <th>tweet_id</th>\n",
       "      <th>author_id</th>\n",
       "      <th>inbound</th>\n",
       "      <th>created_at</th>\n",
       "      <th>text</th>\n",
       "      <th>response_tweet_id</th>\n",
       "      <th>in_response_to_tweet_id</th>\n",
       "    </tr>\n",
       "  </thead>\n",
       "  <tbody>\n",
       "    <tr>\n",
       "      <th>0</th>\n",
       "      <td>1</td>\n",
       "      <td>sprintcare</td>\n",
       "      <td>False</td>\n",
       "      <td>2017-10-31 22:10:47+00:00</td>\n",
       "      <td>@115712 I understand. I would like to assist y...</td>\n",
       "      <td>[2]</td>\n",
       "      <td>3</td>\n",
       "    </tr>\n",
       "    <tr>\n",
       "      <th>1</th>\n",
       "      <td>2</td>\n",
       "      <td>115712</td>\n",
       "      <td>True</td>\n",
       "      <td>2017-10-31 22:11:45+00:00</td>\n",
       "      <td>@sprintcare and how do you propose we do that</td>\n",
       "      <td>&lt;NA&gt;</td>\n",
       "      <td>1</td>\n",
       "    </tr>\n",
       "    <tr>\n",
       "      <th>2</th>\n",
       "      <td>3</td>\n",
       "      <td>115712</td>\n",
       "      <td>True</td>\n",
       "      <td>2017-10-31 22:08:27+00:00</td>\n",
       "      <td>@sprintcare I have sent several private messag...</td>\n",
       "      <td>[1]</td>\n",
       "      <td>4</td>\n",
       "    </tr>\n",
       "    <tr>\n",
       "      <th>3</th>\n",
       "      <td>4</td>\n",
       "      <td>sprintcare</td>\n",
       "      <td>False</td>\n",
       "      <td>2017-10-31 21:54:49+00:00</td>\n",
       "      <td>@115712 Please send us a Private Message so th...</td>\n",
       "      <td>[3]</td>\n",
       "      <td>5</td>\n",
       "    </tr>\n",
       "    <tr>\n",
       "      <th>4</th>\n",
       "      <td>5</td>\n",
       "      <td>115712</td>\n",
       "      <td>True</td>\n",
       "      <td>2017-10-31 21:49:35+00:00</td>\n",
       "      <td>@sprintcare I did.</td>\n",
       "      <td>[4]</td>\n",
       "      <td>6</td>\n",
       "    </tr>\n",
       "  </tbody>\n",
       "</table>\n",
       "</div>"
      ],
      "text/plain": [
       "   tweet_id   author_id  inbound                created_at  \\\n",
       "0         1  sprintcare    False 2017-10-31 22:10:47+00:00   \n",
       "1         2      115712     True 2017-10-31 22:11:45+00:00   \n",
       "2         3      115712     True 2017-10-31 22:08:27+00:00   \n",
       "3         4  sprintcare    False 2017-10-31 21:54:49+00:00   \n",
       "4         5      115712     True 2017-10-31 21:49:35+00:00   \n",
       "\n",
       "                                                text response_tweet_id  \\\n",
       "0  @115712 I understand. I would like to assist y...               [2]   \n",
       "1      @sprintcare and how do you propose we do that              <NA>   \n",
       "2  @sprintcare I have sent several private messag...               [1]   \n",
       "3  @115712 Please send us a Private Message so th...               [3]   \n",
       "4                                 @sprintcare I did.               [4]   \n",
       "\n",
       "   in_response_to_tweet_id  \n",
       "0                        3  \n",
       "1                        1  \n",
       "2                        4  \n",
       "3                        5  \n",
       "4                        6  "
      ]
     },
     "execution_count": 10,
     "metadata": {},
     "output_type": "execute_result"
    }
   ],
   "source": [
    "import swifter\n",
    "\n",
    "# Pandas' \"apply\" function is not very efficient and may only use single core\n",
    "# https://stackoverflow.com/questions/45545110/make-pandas-dataframe-apply-use-all-cores\n",
    "# https://github.com/jmcarpenter2/swifter/blob/master/docs/documentation.md\n",
    "swifter.set_defaults(allow_dask_on_strings = True, force_parallel = True)\n",
    "\n",
    "print(f'Before non-English language removal: {len(df)}')\n",
    "\n",
    "# Now remove the non-English languages from the dataset (1-3 minutes)\n",
    "df['text'] = df['text'].swifter.apply(lambda x: x if is_english(x) else pd.NA)\n",
    "df.dropna(subset = ['text'], inplace = True)\n",
    "\n",
    "print(f'After non-English language removal: {len(df)}')\n",
    "\n",
    "df.head()"
   ]
  },
  {
   "cell_type": "code",
   "execution_count": 11,
   "metadata": {},
   "outputs": [
    {
     "name": "stdout",
     "output_type": "stream",
     "text": [
      "Hi @user_name please contact us at aaa@aaa.com or +1 (234) 567-890 #Support\n",
      "Hi please contact us at or \n"
     ]
    }
   ],
   "source": [
    "def preproc_useless_info(value: str):\n",
    "    # Compile regex or not?\n",
    "    # https://stackoverflow.com/questions/452104/is-it-worth-using-pythons-re-compile\n",
    "\n",
    "    # Remove URLs\n",
    "    value = re.sub(r'https?://\\S+|www\\.\\S+', ' ', value)\n",
    "    # Remove HTML tags\n",
    "    value = re.sub(r'<.*?>', ' ', value)\n",
    "    # Remove emails (underscore is already included as part of \"\\w\")\n",
    "    value = re.sub(r'[\\w\\.\\-]+@[\\w\\.]+', ' ', value)\n",
    "    # Remove mentions and hashtags\n",
    "    value = re.sub(r'[@|#]\\w+', ' ', value)\n",
    "    # Remove phone numbers\n",
    "    # +12345678, +1 234-5678, +1 (234) 5678, etc\n",
    "    # https://uibakery.io/regex-library/phone-number-python\n",
    "    phone_re = r'\\+?\\d{1,4}?[-.\\s]?\\(?\\d{1,3}?\\)?[-.\\s]?\\d{1,4}[-.\\s]?\\d{1,4}[-.\\s]?\\d{1,9}'\n",
    "    value = re.sub(phone_re, ' ', value)\n",
    "    # Replace repeating characters 3 times+ (e.g. buuut -> but)\n",
    "    value = re.sub(r'(\\w)(\\1{2,})', r'\\1', value)\n",
    "    # FIXME Replace repeating words/emojis 2 times+ (e.g. very very bad, 🤮 🤮 🤮)\n",
    "    # Still doesn't work on emojis and if the repeated words are odd number\n",
    "    # value = re.sub(r'\\b(\\w+)\\s+\\1\\b', r'\\1', value)\n",
    "\n",
    "    # Replace non-standard or multiple whitespaces with a normal space\n",
    "    value = re.sub(r'\\s+', ' ', value)\n",
    "\n",
    "    return value\n",
    "\n",
    "# Test the preprocessing function\n",
    "text = 'Hi @user_name please contact us at aaa@aaa.com or +1 (234) 567-890 #Support'\n",
    "print(text)\n",
    "print(preproc_useless_info(text))"
   ]
  },
  {
   "cell_type": "code",
   "execution_count": 12,
   "metadata": {},
   "outputs": [
    {
     "data": {
      "application/vnd.jupyter.widget-view+json": {
       "model_id": "22becb3d5d04491f806ea6eea0863817",
       "version_major": 2,
       "version_minor": 0
      },
      "text/plain": [
       "Pandas Apply:   0%|          | 0/2674836 [00:00<?, ?it/s]"
      ]
     },
     "metadata": {},
     "output_type": "display_data"
    },
    {
     "data": {
      "text/html": [
       "<div>\n",
       "<style scoped>\n",
       "    .dataframe tbody tr th:only-of-type {\n",
       "        vertical-align: middle;\n",
       "    }\n",
       "\n",
       "    .dataframe tbody tr th {\n",
       "        vertical-align: top;\n",
       "    }\n",
       "\n",
       "    .dataframe thead th {\n",
       "        text-align: right;\n",
       "    }\n",
       "</style>\n",
       "<table border=\"1\" class=\"dataframe\">\n",
       "  <thead>\n",
       "    <tr style=\"text-align: right;\">\n",
       "      <th></th>\n",
       "      <th>tweet_id</th>\n",
       "      <th>author_id</th>\n",
       "      <th>inbound</th>\n",
       "      <th>created_at</th>\n",
       "      <th>text</th>\n",
       "      <th>response_tweet_id</th>\n",
       "      <th>in_response_to_tweet_id</th>\n",
       "    </tr>\n",
       "  </thead>\n",
       "  <tbody>\n",
       "    <tr>\n",
       "      <th>0</th>\n",
       "      <td>1</td>\n",
       "      <td>sprintcare</td>\n",
       "      <td>False</td>\n",
       "      <td>2017-10-31 22:10:47+00:00</td>\n",
       "      <td>I understand. I would like to assist you. We ...</td>\n",
       "      <td>[2]</td>\n",
       "      <td>3</td>\n",
       "    </tr>\n",
       "    <tr>\n",
       "      <th>1</th>\n",
       "      <td>2</td>\n",
       "      <td>115712</td>\n",
       "      <td>True</td>\n",
       "      <td>2017-10-31 22:11:45+00:00</td>\n",
       "      <td>and how do you propose we do that</td>\n",
       "      <td>&lt;NA&gt;</td>\n",
       "      <td>1</td>\n",
       "    </tr>\n",
       "    <tr>\n",
       "      <th>2</th>\n",
       "      <td>3</td>\n",
       "      <td>115712</td>\n",
       "      <td>True</td>\n",
       "      <td>2017-10-31 22:08:27+00:00</td>\n",
       "      <td>I have sent several private messages and no o...</td>\n",
       "      <td>[1]</td>\n",
       "      <td>4</td>\n",
       "    </tr>\n",
       "    <tr>\n",
       "      <th>3</th>\n",
       "      <td>4</td>\n",
       "      <td>sprintcare</td>\n",
       "      <td>False</td>\n",
       "      <td>2017-10-31 21:54:49+00:00</td>\n",
       "      <td>Please send us a Private Message so that we c...</td>\n",
       "      <td>[3]</td>\n",
       "      <td>5</td>\n",
       "    </tr>\n",
       "    <tr>\n",
       "      <th>4</th>\n",
       "      <td>5</td>\n",
       "      <td>115712</td>\n",
       "      <td>True</td>\n",
       "      <td>2017-10-31 21:49:35+00:00</td>\n",
       "      <td>I did.</td>\n",
       "      <td>[4]</td>\n",
       "      <td>6</td>\n",
       "    </tr>\n",
       "  </tbody>\n",
       "</table>\n",
       "</div>"
      ],
      "text/plain": [
       "   tweet_id   author_id  inbound                created_at  \\\n",
       "0         1  sprintcare    False 2017-10-31 22:10:47+00:00   \n",
       "1         2      115712     True 2017-10-31 22:11:45+00:00   \n",
       "2         3      115712     True 2017-10-31 22:08:27+00:00   \n",
       "3         4  sprintcare    False 2017-10-31 21:54:49+00:00   \n",
       "4         5      115712     True 2017-10-31 21:49:35+00:00   \n",
       "\n",
       "                                                text response_tweet_id  \\\n",
       "0   I understand. I would like to assist you. We ...               [2]   \n",
       "1                  and how do you propose we do that              <NA>   \n",
       "2   I have sent several private messages and no o...               [1]   \n",
       "3   Please send us a Private Message so that we c...               [3]   \n",
       "4                                             I did.               [4]   \n",
       "\n",
       "   in_response_to_tweet_id  \n",
       "0                        3  \n",
       "1                        1  \n",
       "2                        4  \n",
       "3                        5  \n",
       "4                        6  "
      ]
     },
     "execution_count": 12,
     "metadata": {},
     "output_type": "execute_result"
    }
   ],
   "source": [
    "# Preprocess the dataset for sentiment analysis (1-2 minutes)\n",
    "df['text'] = df['text'].swifter.apply(preproc_useless_info)\n",
    "df.head()"
   ]
  },
  {
   "cell_type": "markdown",
   "metadata": {},
   "source": [
    "#### **Sentiment Analysis**\n",
    "I'm going to use VADER ([standalone](https://github.com/cjhutto/vaderSentiment) | [NLTK](https://www.nltk.org/_modules/nltk/sentiment/vader.html)) as the sentiment analysis library. Based on the docs, VADER has/can detect:\n",
    "- 7520 [vocabulary](https://github.com/cjhutto/vaderSentiment/blob/master/vaderSentiment/vader_lexicon.txt) (includes emoticons) and 3570 [emojis](https://github.com/cjhutto/vaderSentiment/blob/master/vaderSentiment/emoji_utf8_lexicon.txt)\n",
    "- Negation and contrasted negation: `not good`, `wasn't very good`\n",
    "- Upper case and punctuation: `I'M ANGRY!!!`\n",
    "- Slang words: `kinda`, `lol`, `sux`, etc\n",
    "- Emojis and emoticons: `:)`, 😁, 💘, etc\n",
    "\n",
    "Obviously, there are also other sentiment analysis algorithms, but VADER seems to be the best for now, with a few [issues](https://github.com/cjhutto/vaderSentiment/issues):\n",
    "- Can't detect irony/satire/sarcasm (like all other alternatives)\n",
    "- Can only work accurately on English language\n",
    "- May not be able to detect N-gram words and idioms (fed up, piece of cake, etc), though it still work with negated/intensified word like `not`, `very`, etc\n",
    "- Most likely not all slang words and emojis/emoticons are covered (especially all that are newer than VADER itself)\n",
    "- When using VADER via NLTK, emojis won't be checked, it is probably using the outdated VADER version\n",
    "\n",
    "VADER alternatives (comparison [[1](https://www.researchgate.net/publication/343473213)] [[2](https://towardsdatascience.com/ab561f834f89)] [[3](https://towardsdatascience.com/the-best-python-sentiment-analysis-package-1-huge-common-mistake-d6da9ad6cdeb)] [[4](https://medium.com/analytics-vidhya/sentiment-analysis-with-nltk-textblob-and-flair-a321d1460867)] [[5](https://www.kaggle.com/discussions/questions-and-answers/231701)]):\n",
    "- AFINN\n",
    "- SentiWordNet\n",
    "- TextBlob\n",
    "- FLAIR (good alternative)\n",
    "- fastText (need model)\n",
    "- Naive Bayes\n",
    "- RNN/LSTM/GRU (which we are gonna do later)"
   ]
  },
  {
   "cell_type": "code",
   "execution_count": 13,
   "metadata": {},
   "outputs": [],
   "source": [
    "# Use the \"misc\" folder to look up for NLTK data\n",
    "# Doesn't always work, may be hardcoded somewhere\n",
    "os.environ['NLTK_DATA'] = os.path.abspath('misc')\n",
    "\n",
    "import nltk\n",
    "nltk.data.path.append(os.path.abspath('misc'))"
   ]
  },
  {
   "cell_type": "code",
   "execution_count": 42,
   "metadata": {},
   "outputs": [
    {
     "name": "stdout",
     "output_type": "stream",
     "text": [
      "Positive: 0\n",
      "Neutral: 1\n",
      "Negative: 2\n"
     ]
    }
   ],
   "source": [
    "import numpy as np\n",
    "# import nltk.sentiment.vader as vader\n",
    "import vaderSentiment.vaderSentiment as vader\n",
    "\n",
    "try:\n",
    "    # Load the pre-downloaded vocabulary (v3.3.2), for NLTK\n",
    "    sia = vader.SentimentIntensityAnalyzer('misc/sentiment/vader_lexicon.txt')\n",
    "except:\n",
    "    # Load the default vocabulary\n",
    "    sia = vader.SentimentIntensityAnalyzer()\n",
    "\n",
    "def vader_sentiment(value: str, class_mode = 'binary'):\n",
    "    # https://github.com/cjhutto/vaderSentiment#about-the-scoring\n",
    "    scores = sia.polarity_scores(value)\n",
    "\n",
    "    if class_mode == 'label':\n",
    "        if scores['compound'] >= 0.5: return 'Positive'\n",
    "        elif scores['compound'] <= -0.5: return 'Negative'\n",
    "        return 'Neutral'\n",
    "    elif class_mode == 'binary':\n",
    "        if scores['compound'] >= 0.5: return 0\n",
    "        elif scores['compound'] <= -0.5: return 2\n",
    "        return 1\n",
    "    elif class_mode == 'one_hot':\n",
    "        if scores['compound'] >= 0.5: return np.array([1, 0, 0])\n",
    "        elif scores['compound'] <= -0.5: return np.array([0, 0, 1])\n",
    "        return np.array([0, 1, 0])\n",
    "\n",
    "# Test the sentiment analysis\n",
    "# Note that NLTK's VADER doesn't support emojis (use standalone VADER instead)\n",
    "print('Positive:', vader_sentiment('It is ok 😁'))\n",
    "print('Neutral:', vader_sentiment('Your customer service is so-so'))\n",
    "print('Negative:', vader_sentiment('The service is NOT GOOD at all!'))"
   ]
  },
  {
   "cell_type": "code",
   "execution_count": 15,
   "metadata": {},
   "outputs": [
    {
     "data": {
      "application/vnd.jupyter.widget-view+json": {
       "model_id": "96ab897aa2d9449e98c99b91ec928bdb",
       "version_major": 2,
       "version_minor": 0
      },
      "text/plain": [
       "Pandas Apply:   0%|          | 0/2674836 [00:00<?, ?it/s]"
      ]
     },
     "metadata": {},
     "output_type": "display_data"
    },
    {
     "data": {
      "text/html": [
       "<div>\n",
       "<style scoped>\n",
       "    .dataframe tbody tr th:only-of-type {\n",
       "        vertical-align: middle;\n",
       "    }\n",
       "\n",
       "    .dataframe tbody tr th {\n",
       "        vertical-align: top;\n",
       "    }\n",
       "\n",
       "    .dataframe thead th {\n",
       "        text-align: right;\n",
       "    }\n",
       "</style>\n",
       "<table border=\"1\" class=\"dataframe\">\n",
       "  <thead>\n",
       "    <tr style=\"text-align: right;\">\n",
       "      <th></th>\n",
       "      <th>tweet_id</th>\n",
       "      <th>author_id</th>\n",
       "      <th>inbound</th>\n",
       "      <th>created_at</th>\n",
       "      <th>text</th>\n",
       "      <th>response_tweet_id</th>\n",
       "      <th>in_response_to_tweet_id</th>\n",
       "      <th>label</th>\n",
       "    </tr>\n",
       "  </thead>\n",
       "  <tbody>\n",
       "    <tr>\n",
       "      <th>0</th>\n",
       "      <td>1</td>\n",
       "      <td>sprintcare</td>\n",
       "      <td>False</td>\n",
       "      <td>2017-10-31 22:10:47+00:00</td>\n",
       "      <td>I understand. I would like to assist you. We ...</td>\n",
       "      <td>[2]</td>\n",
       "      <td>3</td>\n",
       "      <td>0</td>\n",
       "    </tr>\n",
       "    <tr>\n",
       "      <th>1</th>\n",
       "      <td>2</td>\n",
       "      <td>115712</td>\n",
       "      <td>True</td>\n",
       "      <td>2017-10-31 22:11:45+00:00</td>\n",
       "      <td>and how do you propose we do that</td>\n",
       "      <td>&lt;NA&gt;</td>\n",
       "      <td>1</td>\n",
       "      <td>1</td>\n",
       "    </tr>\n",
       "    <tr>\n",
       "      <th>2</th>\n",
       "      <td>3</td>\n",
       "      <td>115712</td>\n",
       "      <td>True</td>\n",
       "      <td>2017-10-31 22:08:27+00:00</td>\n",
       "      <td>I have sent several private messages and no o...</td>\n",
       "      <td>[1]</td>\n",
       "      <td>4</td>\n",
       "      <td>1</td>\n",
       "    </tr>\n",
       "    <tr>\n",
       "      <th>3</th>\n",
       "      <td>4</td>\n",
       "      <td>sprintcare</td>\n",
       "      <td>False</td>\n",
       "      <td>2017-10-31 21:54:49+00:00</td>\n",
       "      <td>Please send us a Private Message so that we c...</td>\n",
       "      <td>[3]</td>\n",
       "      <td>5</td>\n",
       "      <td>1</td>\n",
       "    </tr>\n",
       "    <tr>\n",
       "      <th>4</th>\n",
       "      <td>5</td>\n",
       "      <td>115712</td>\n",
       "      <td>True</td>\n",
       "      <td>2017-10-31 21:49:35+00:00</td>\n",
       "      <td>I did.</td>\n",
       "      <td>[4]</td>\n",
       "      <td>6</td>\n",
       "      <td>1</td>\n",
       "    </tr>\n",
       "  </tbody>\n",
       "</table>\n",
       "</div>"
      ],
      "text/plain": [
       "   tweet_id   author_id  inbound                created_at  \\\n",
       "0         1  sprintcare    False 2017-10-31 22:10:47+00:00   \n",
       "1         2      115712     True 2017-10-31 22:11:45+00:00   \n",
       "2         3      115712     True 2017-10-31 22:08:27+00:00   \n",
       "3         4  sprintcare    False 2017-10-31 21:54:49+00:00   \n",
       "4         5      115712     True 2017-10-31 21:49:35+00:00   \n",
       "\n",
       "                                                text response_tweet_id  \\\n",
       "0   I understand. I would like to assist you. We ...               [2]   \n",
       "1                  and how do you propose we do that              <NA>   \n",
       "2   I have sent several private messages and no o...               [1]   \n",
       "3   Please send us a Private Message so that we c...               [3]   \n",
       "4                                             I did.               [4]   \n",
       "\n",
       "   in_response_to_tweet_id  label  \n",
       "0                        3      0  \n",
       "1                        1      1  \n",
       "2                        4      1  \n",
       "3                        5      1  \n",
       "4                        6      1  "
      ]
     },
     "execution_count": 15,
     "metadata": {},
     "output_type": "execute_result"
    }
   ],
   "source": [
    "# Analyze tweets sentiment analysis (2-4 minute)\n",
    "df['label'] = df['text'].swifter.apply(vader_sentiment)\n",
    "df.head()"
   ]
  },
  {
   "cell_type": "code",
   "execution_count": 16,
   "metadata": {},
   "outputs": [
    {
     "data": {
      "application/vnd.plotly.v1+json": {
       "config": {
        "plotlyServerURL": "https://plot.ly"
       },
       "data": [
        {
         "type": "bar",
         "x": [
          "Positive",
          "Neutral",
          "Negative"
         ],
         "y": [
          730948,
          1709882,
          234006
         ]
        }
       ],
       "layout": {
        "template": {
         "data": {
          "bar": [
           {
            "error_x": {
             "color": "#2a3f5f"
            },
            "error_y": {
             "color": "#2a3f5f"
            },
            "marker": {
             "line": {
              "color": "#E5ECF6",
              "width": 0.5
             },
             "pattern": {
              "fillmode": "overlay",
              "size": 10,
              "solidity": 0.2
             }
            },
            "type": "bar"
           }
          ],
          "barpolar": [
           {
            "marker": {
             "line": {
              "color": "#E5ECF6",
              "width": 0.5
             },
             "pattern": {
              "fillmode": "overlay",
              "size": 10,
              "solidity": 0.2
             }
            },
            "type": "barpolar"
           }
          ],
          "carpet": [
           {
            "aaxis": {
             "endlinecolor": "#2a3f5f",
             "gridcolor": "white",
             "linecolor": "white",
             "minorgridcolor": "white",
             "startlinecolor": "#2a3f5f"
            },
            "baxis": {
             "endlinecolor": "#2a3f5f",
             "gridcolor": "white",
             "linecolor": "white",
             "minorgridcolor": "white",
             "startlinecolor": "#2a3f5f"
            },
            "type": "carpet"
           }
          ],
          "choropleth": [
           {
            "colorbar": {
             "outlinewidth": 0,
             "ticks": ""
            },
            "type": "choropleth"
           }
          ],
          "contour": [
           {
            "colorbar": {
             "outlinewidth": 0,
             "ticks": ""
            },
            "colorscale": [
             [
              0,
              "#0d0887"
             ],
             [
              0.1111111111111111,
              "#46039f"
             ],
             [
              0.2222222222222222,
              "#7201a8"
             ],
             [
              0.3333333333333333,
              "#9c179e"
             ],
             [
              0.4444444444444444,
              "#bd3786"
             ],
             [
              0.5555555555555556,
              "#d8576b"
             ],
             [
              0.6666666666666666,
              "#ed7953"
             ],
             [
              0.7777777777777778,
              "#fb9f3a"
             ],
             [
              0.8888888888888888,
              "#fdca26"
             ],
             [
              1,
              "#f0f921"
             ]
            ],
            "type": "contour"
           }
          ],
          "contourcarpet": [
           {
            "colorbar": {
             "outlinewidth": 0,
             "ticks": ""
            },
            "type": "contourcarpet"
           }
          ],
          "heatmap": [
           {
            "colorbar": {
             "outlinewidth": 0,
             "ticks": ""
            },
            "colorscale": [
             [
              0,
              "#0d0887"
             ],
             [
              0.1111111111111111,
              "#46039f"
             ],
             [
              0.2222222222222222,
              "#7201a8"
             ],
             [
              0.3333333333333333,
              "#9c179e"
             ],
             [
              0.4444444444444444,
              "#bd3786"
             ],
             [
              0.5555555555555556,
              "#d8576b"
             ],
             [
              0.6666666666666666,
              "#ed7953"
             ],
             [
              0.7777777777777778,
              "#fb9f3a"
             ],
             [
              0.8888888888888888,
              "#fdca26"
             ],
             [
              1,
              "#f0f921"
             ]
            ],
            "type": "heatmap"
           }
          ],
          "heatmapgl": [
           {
            "colorbar": {
             "outlinewidth": 0,
             "ticks": ""
            },
            "colorscale": [
             [
              0,
              "#0d0887"
             ],
             [
              0.1111111111111111,
              "#46039f"
             ],
             [
              0.2222222222222222,
              "#7201a8"
             ],
             [
              0.3333333333333333,
              "#9c179e"
             ],
             [
              0.4444444444444444,
              "#bd3786"
             ],
             [
              0.5555555555555556,
              "#d8576b"
             ],
             [
              0.6666666666666666,
              "#ed7953"
             ],
             [
              0.7777777777777778,
              "#fb9f3a"
             ],
             [
              0.8888888888888888,
              "#fdca26"
             ],
             [
              1,
              "#f0f921"
             ]
            ],
            "type": "heatmapgl"
           }
          ],
          "histogram": [
           {
            "marker": {
             "pattern": {
              "fillmode": "overlay",
              "size": 10,
              "solidity": 0.2
             }
            },
            "type": "histogram"
           }
          ],
          "histogram2d": [
           {
            "colorbar": {
             "outlinewidth": 0,
             "ticks": ""
            },
            "colorscale": [
             [
              0,
              "#0d0887"
             ],
             [
              0.1111111111111111,
              "#46039f"
             ],
             [
              0.2222222222222222,
              "#7201a8"
             ],
             [
              0.3333333333333333,
              "#9c179e"
             ],
             [
              0.4444444444444444,
              "#bd3786"
             ],
             [
              0.5555555555555556,
              "#d8576b"
             ],
             [
              0.6666666666666666,
              "#ed7953"
             ],
             [
              0.7777777777777778,
              "#fb9f3a"
             ],
             [
              0.8888888888888888,
              "#fdca26"
             ],
             [
              1,
              "#f0f921"
             ]
            ],
            "type": "histogram2d"
           }
          ],
          "histogram2dcontour": [
           {
            "colorbar": {
             "outlinewidth": 0,
             "ticks": ""
            },
            "colorscale": [
             [
              0,
              "#0d0887"
             ],
             [
              0.1111111111111111,
              "#46039f"
             ],
             [
              0.2222222222222222,
              "#7201a8"
             ],
             [
              0.3333333333333333,
              "#9c179e"
             ],
             [
              0.4444444444444444,
              "#bd3786"
             ],
             [
              0.5555555555555556,
              "#d8576b"
             ],
             [
              0.6666666666666666,
              "#ed7953"
             ],
             [
              0.7777777777777778,
              "#fb9f3a"
             ],
             [
              0.8888888888888888,
              "#fdca26"
             ],
             [
              1,
              "#f0f921"
             ]
            ],
            "type": "histogram2dcontour"
           }
          ],
          "mesh3d": [
           {
            "colorbar": {
             "outlinewidth": 0,
             "ticks": ""
            },
            "type": "mesh3d"
           }
          ],
          "parcoords": [
           {
            "line": {
             "colorbar": {
              "outlinewidth": 0,
              "ticks": ""
             }
            },
            "type": "parcoords"
           }
          ],
          "pie": [
           {
            "automargin": true,
            "type": "pie"
           }
          ],
          "scatter": [
           {
            "fillpattern": {
             "fillmode": "overlay",
             "size": 10,
             "solidity": 0.2
            },
            "type": "scatter"
           }
          ],
          "scatter3d": [
           {
            "line": {
             "colorbar": {
              "outlinewidth": 0,
              "ticks": ""
             }
            },
            "marker": {
             "colorbar": {
              "outlinewidth": 0,
              "ticks": ""
             }
            },
            "type": "scatter3d"
           }
          ],
          "scattercarpet": [
           {
            "marker": {
             "colorbar": {
              "outlinewidth": 0,
              "ticks": ""
             }
            },
            "type": "scattercarpet"
           }
          ],
          "scattergeo": [
           {
            "marker": {
             "colorbar": {
              "outlinewidth": 0,
              "ticks": ""
             }
            },
            "type": "scattergeo"
           }
          ],
          "scattergl": [
           {
            "marker": {
             "colorbar": {
              "outlinewidth": 0,
              "ticks": ""
             }
            },
            "type": "scattergl"
           }
          ],
          "scattermapbox": [
           {
            "marker": {
             "colorbar": {
              "outlinewidth": 0,
              "ticks": ""
             }
            },
            "type": "scattermapbox"
           }
          ],
          "scatterpolar": [
           {
            "marker": {
             "colorbar": {
              "outlinewidth": 0,
              "ticks": ""
             }
            },
            "type": "scatterpolar"
           }
          ],
          "scatterpolargl": [
           {
            "marker": {
             "colorbar": {
              "outlinewidth": 0,
              "ticks": ""
             }
            },
            "type": "scatterpolargl"
           }
          ],
          "scatterternary": [
           {
            "marker": {
             "colorbar": {
              "outlinewidth": 0,
              "ticks": ""
             }
            },
            "type": "scatterternary"
           }
          ],
          "surface": [
           {
            "colorbar": {
             "outlinewidth": 0,
             "ticks": ""
            },
            "colorscale": [
             [
              0,
              "#0d0887"
             ],
             [
              0.1111111111111111,
              "#46039f"
             ],
             [
              0.2222222222222222,
              "#7201a8"
             ],
             [
              0.3333333333333333,
              "#9c179e"
             ],
             [
              0.4444444444444444,
              "#bd3786"
             ],
             [
              0.5555555555555556,
              "#d8576b"
             ],
             [
              0.6666666666666666,
              "#ed7953"
             ],
             [
              0.7777777777777778,
              "#fb9f3a"
             ],
             [
              0.8888888888888888,
              "#fdca26"
             ],
             [
              1,
              "#f0f921"
             ]
            ],
            "type": "surface"
           }
          ],
          "table": [
           {
            "cells": {
             "fill": {
              "color": "#EBF0F8"
             },
             "line": {
              "color": "white"
             }
            },
            "header": {
             "fill": {
              "color": "#C8D4E3"
             },
             "line": {
              "color": "white"
             }
            },
            "type": "table"
           }
          ]
         },
         "layout": {
          "annotationdefaults": {
           "arrowcolor": "#2a3f5f",
           "arrowhead": 0,
           "arrowwidth": 1
          },
          "autotypenumbers": "strict",
          "coloraxis": {
           "colorbar": {
            "outlinewidth": 0,
            "ticks": ""
           }
          },
          "colorscale": {
           "diverging": [
            [
             0,
             "#8e0152"
            ],
            [
             0.1,
             "#c51b7d"
            ],
            [
             0.2,
             "#de77ae"
            ],
            [
             0.3,
             "#f1b6da"
            ],
            [
             0.4,
             "#fde0ef"
            ],
            [
             0.5,
             "#f7f7f7"
            ],
            [
             0.6,
             "#e6f5d0"
            ],
            [
             0.7,
             "#b8e186"
            ],
            [
             0.8,
             "#7fbc41"
            ],
            [
             0.9,
             "#4d9221"
            ],
            [
             1,
             "#276419"
            ]
           ],
           "sequential": [
            [
             0,
             "#0d0887"
            ],
            [
             0.1111111111111111,
             "#46039f"
            ],
            [
             0.2222222222222222,
             "#7201a8"
            ],
            [
             0.3333333333333333,
             "#9c179e"
            ],
            [
             0.4444444444444444,
             "#bd3786"
            ],
            [
             0.5555555555555556,
             "#d8576b"
            ],
            [
             0.6666666666666666,
             "#ed7953"
            ],
            [
             0.7777777777777778,
             "#fb9f3a"
            ],
            [
             0.8888888888888888,
             "#fdca26"
            ],
            [
             1,
             "#f0f921"
            ]
           ],
           "sequentialminus": [
            [
             0,
             "#0d0887"
            ],
            [
             0.1111111111111111,
             "#46039f"
            ],
            [
             0.2222222222222222,
             "#7201a8"
            ],
            [
             0.3333333333333333,
             "#9c179e"
            ],
            [
             0.4444444444444444,
             "#bd3786"
            ],
            [
             0.5555555555555556,
             "#d8576b"
            ],
            [
             0.6666666666666666,
             "#ed7953"
            ],
            [
             0.7777777777777778,
             "#fb9f3a"
            ],
            [
             0.8888888888888888,
             "#fdca26"
            ],
            [
             1,
             "#f0f921"
            ]
           ]
          },
          "colorway": [
           "#636efa",
           "#EF553B",
           "#00cc96",
           "#ab63fa",
           "#FFA15A",
           "#19d3f3",
           "#FF6692",
           "#B6E880",
           "#FF97FF",
           "#FECB52"
          ],
          "font": {
           "color": "#2a3f5f"
          },
          "geo": {
           "bgcolor": "white",
           "lakecolor": "white",
           "landcolor": "#E5ECF6",
           "showlakes": true,
           "showland": true,
           "subunitcolor": "white"
          },
          "hoverlabel": {
           "align": "left"
          },
          "hovermode": "closest",
          "mapbox": {
           "style": "light"
          },
          "paper_bgcolor": "white",
          "plot_bgcolor": "#E5ECF6",
          "polar": {
           "angularaxis": {
            "gridcolor": "white",
            "linecolor": "white",
            "ticks": ""
           },
           "bgcolor": "#E5ECF6",
           "radialaxis": {
            "gridcolor": "white",
            "linecolor": "white",
            "ticks": ""
           }
          },
          "scene": {
           "xaxis": {
            "backgroundcolor": "#E5ECF6",
            "gridcolor": "white",
            "gridwidth": 2,
            "linecolor": "white",
            "showbackground": true,
            "ticks": "",
            "zerolinecolor": "white"
           },
           "yaxis": {
            "backgroundcolor": "#E5ECF6",
            "gridcolor": "white",
            "gridwidth": 2,
            "linecolor": "white",
            "showbackground": true,
            "ticks": "",
            "zerolinecolor": "white"
           },
           "zaxis": {
            "backgroundcolor": "#E5ECF6",
            "gridcolor": "white",
            "gridwidth": 2,
            "linecolor": "white",
            "showbackground": true,
            "ticks": "",
            "zerolinecolor": "white"
           }
          },
          "shapedefaults": {
           "line": {
            "color": "#2a3f5f"
           }
          },
          "ternary": {
           "aaxis": {
            "gridcolor": "white",
            "linecolor": "white",
            "ticks": ""
           },
           "baxis": {
            "gridcolor": "white",
            "linecolor": "white",
            "ticks": ""
           },
           "bgcolor": "#E5ECF6",
           "caxis": {
            "gridcolor": "white",
            "linecolor": "white",
            "ticks": ""
           }
          },
          "title": {
           "x": 0.05
          },
          "xaxis": {
           "automargin": true,
           "gridcolor": "white",
           "linecolor": "white",
           "ticks": "",
           "title": {
            "standoff": 15
           },
           "zerolinecolor": "white",
           "zerolinewidth": 2
          },
          "yaxis": {
           "automargin": true,
           "gridcolor": "white",
           "linecolor": "white",
           "ticks": "",
           "title": {
            "standoff": 15
           },
           "zerolinecolor": "white",
           "zerolinewidth": 2
          }
         }
        },
        "title": {
         "text": "Tweet Sentiment Distribution"
        }
       }
      },
      "text/html": [
       "<html>\n",
       "<head><meta charset=\"utf-8\" /></head>\n",
       "<body>\n",
       "    <div>            <script src=\"https://cdnjs.cloudflare.com/ajax/libs/mathjax/2.7.5/MathJax.js?config=TeX-AMS-MML_SVG\"></script><script type=\"text/javascript\">if (window.MathJax && window.MathJax.Hub && window.MathJax.Hub.Config) {window.MathJax.Hub.Config({SVG: {font: \"STIX-Web\"}});}</script>                <script type=\"text/javascript\">window.PlotlyConfig = {MathJaxConfig: 'local'};</script>\n",
       "        <script charset=\"utf-8\" src=\"https://cdn.plot.ly/plotly-2.27.0.min.js\"></script>                <div id=\"b896dc6c-bfa8-4447-bf3f-e291e7c5f2c1\" class=\"plotly-graph-div\" style=\"height:525px; width:100%;\"></div>            <script type=\"text/javascript\">                                    window.PLOTLYENV=window.PLOTLYENV || {};                                    if (document.getElementById(\"b896dc6c-bfa8-4447-bf3f-e291e7c5f2c1\")) {                    Plotly.newPlot(                        \"b896dc6c-bfa8-4447-bf3f-e291e7c5f2c1\",                        [{\"x\":[\"Positive\",\"Neutral\",\"Negative\"],\"y\":[730948,1709882,234006],\"type\":\"bar\"}],                        {\"template\":{\"data\":{\"histogram2dcontour\":[{\"type\":\"histogram2dcontour\",\"colorbar\":{\"outlinewidth\":0,\"ticks\":\"\"},\"colorscale\":[[0.0,\"#0d0887\"],[0.1111111111111111,\"#46039f\"],[0.2222222222222222,\"#7201a8\"],[0.3333333333333333,\"#9c179e\"],[0.4444444444444444,\"#bd3786\"],[0.5555555555555556,\"#d8576b\"],[0.6666666666666666,\"#ed7953\"],[0.7777777777777778,\"#fb9f3a\"],[0.8888888888888888,\"#fdca26\"],[1.0,\"#f0f921\"]]}],\"choropleth\":[{\"type\":\"choropleth\",\"colorbar\":{\"outlinewidth\":0,\"ticks\":\"\"}}],\"histogram2d\":[{\"type\":\"histogram2d\",\"colorbar\":{\"outlinewidth\":0,\"ticks\":\"\"},\"colorscale\":[[0.0,\"#0d0887\"],[0.1111111111111111,\"#46039f\"],[0.2222222222222222,\"#7201a8\"],[0.3333333333333333,\"#9c179e\"],[0.4444444444444444,\"#bd3786\"],[0.5555555555555556,\"#d8576b\"],[0.6666666666666666,\"#ed7953\"],[0.7777777777777778,\"#fb9f3a\"],[0.8888888888888888,\"#fdca26\"],[1.0,\"#f0f921\"]]}],\"heatmap\":[{\"type\":\"heatmap\",\"colorbar\":{\"outlinewidth\":0,\"ticks\":\"\"},\"colorscale\":[[0.0,\"#0d0887\"],[0.1111111111111111,\"#46039f\"],[0.2222222222222222,\"#7201a8\"],[0.3333333333333333,\"#9c179e\"],[0.4444444444444444,\"#bd3786\"],[0.5555555555555556,\"#d8576b\"],[0.6666666666666666,\"#ed7953\"],[0.7777777777777778,\"#fb9f3a\"],[0.8888888888888888,\"#fdca26\"],[1.0,\"#f0f921\"]]}],\"heatmapgl\":[{\"type\":\"heatmapgl\",\"colorbar\":{\"outlinewidth\":0,\"ticks\":\"\"},\"colorscale\":[[0.0,\"#0d0887\"],[0.1111111111111111,\"#46039f\"],[0.2222222222222222,\"#7201a8\"],[0.3333333333333333,\"#9c179e\"],[0.4444444444444444,\"#bd3786\"],[0.5555555555555556,\"#d8576b\"],[0.6666666666666666,\"#ed7953\"],[0.7777777777777778,\"#fb9f3a\"],[0.8888888888888888,\"#fdca26\"],[1.0,\"#f0f921\"]]}],\"contourcarpet\":[{\"type\":\"contourcarpet\",\"colorbar\":{\"outlinewidth\":0,\"ticks\":\"\"}}],\"contour\":[{\"type\":\"contour\",\"colorbar\":{\"outlinewidth\":0,\"ticks\":\"\"},\"colorscale\":[[0.0,\"#0d0887\"],[0.1111111111111111,\"#46039f\"],[0.2222222222222222,\"#7201a8\"],[0.3333333333333333,\"#9c179e\"],[0.4444444444444444,\"#bd3786\"],[0.5555555555555556,\"#d8576b\"],[0.6666666666666666,\"#ed7953\"],[0.7777777777777778,\"#fb9f3a\"],[0.8888888888888888,\"#fdca26\"],[1.0,\"#f0f921\"]]}],\"surface\":[{\"type\":\"surface\",\"colorbar\":{\"outlinewidth\":0,\"ticks\":\"\"},\"colorscale\":[[0.0,\"#0d0887\"],[0.1111111111111111,\"#46039f\"],[0.2222222222222222,\"#7201a8\"],[0.3333333333333333,\"#9c179e\"],[0.4444444444444444,\"#bd3786\"],[0.5555555555555556,\"#d8576b\"],[0.6666666666666666,\"#ed7953\"],[0.7777777777777778,\"#fb9f3a\"],[0.8888888888888888,\"#fdca26\"],[1.0,\"#f0f921\"]]}],\"mesh3d\":[{\"type\":\"mesh3d\",\"colorbar\":{\"outlinewidth\":0,\"ticks\":\"\"}}],\"scatter\":[{\"fillpattern\":{\"fillmode\":\"overlay\",\"size\":10,\"solidity\":0.2},\"type\":\"scatter\"}],\"parcoords\":[{\"type\":\"parcoords\",\"line\":{\"colorbar\":{\"outlinewidth\":0,\"ticks\":\"\"}}}],\"scatterpolargl\":[{\"type\":\"scatterpolargl\",\"marker\":{\"colorbar\":{\"outlinewidth\":0,\"ticks\":\"\"}}}],\"bar\":[{\"error_x\":{\"color\":\"#2a3f5f\"},\"error_y\":{\"color\":\"#2a3f5f\"},\"marker\":{\"line\":{\"color\":\"#E5ECF6\",\"width\":0.5},\"pattern\":{\"fillmode\":\"overlay\",\"size\":10,\"solidity\":0.2}},\"type\":\"bar\"}],\"scattergeo\":[{\"type\":\"scattergeo\",\"marker\":{\"colorbar\":{\"outlinewidth\":0,\"ticks\":\"\"}}}],\"scatterpolar\":[{\"type\":\"scatterpolar\",\"marker\":{\"colorbar\":{\"outlinewidth\":0,\"ticks\":\"\"}}}],\"histogram\":[{\"marker\":{\"pattern\":{\"fillmode\":\"overlay\",\"size\":10,\"solidity\":0.2}},\"type\":\"histogram\"}],\"scattergl\":[{\"type\":\"scattergl\",\"marker\":{\"colorbar\":{\"outlinewidth\":0,\"ticks\":\"\"}}}],\"scatter3d\":[{\"type\":\"scatter3d\",\"line\":{\"colorbar\":{\"outlinewidth\":0,\"ticks\":\"\"}},\"marker\":{\"colorbar\":{\"outlinewidth\":0,\"ticks\":\"\"}}}],\"scattermapbox\":[{\"type\":\"scattermapbox\",\"marker\":{\"colorbar\":{\"outlinewidth\":0,\"ticks\":\"\"}}}],\"scatterternary\":[{\"type\":\"scatterternary\",\"marker\":{\"colorbar\":{\"outlinewidth\":0,\"ticks\":\"\"}}}],\"scattercarpet\":[{\"type\":\"scattercarpet\",\"marker\":{\"colorbar\":{\"outlinewidth\":0,\"ticks\":\"\"}}}],\"carpet\":[{\"aaxis\":{\"endlinecolor\":\"#2a3f5f\",\"gridcolor\":\"white\",\"linecolor\":\"white\",\"minorgridcolor\":\"white\",\"startlinecolor\":\"#2a3f5f\"},\"baxis\":{\"endlinecolor\":\"#2a3f5f\",\"gridcolor\":\"white\",\"linecolor\":\"white\",\"minorgridcolor\":\"white\",\"startlinecolor\":\"#2a3f5f\"},\"type\":\"carpet\"}],\"table\":[{\"cells\":{\"fill\":{\"color\":\"#EBF0F8\"},\"line\":{\"color\":\"white\"}},\"header\":{\"fill\":{\"color\":\"#C8D4E3\"},\"line\":{\"color\":\"white\"}},\"type\":\"table\"}],\"barpolar\":[{\"marker\":{\"line\":{\"color\":\"#E5ECF6\",\"width\":0.5},\"pattern\":{\"fillmode\":\"overlay\",\"size\":10,\"solidity\":0.2}},\"type\":\"barpolar\"}],\"pie\":[{\"automargin\":true,\"type\":\"pie\"}]},\"layout\":{\"autotypenumbers\":\"strict\",\"colorway\":[\"#636efa\",\"#EF553B\",\"#00cc96\",\"#ab63fa\",\"#FFA15A\",\"#19d3f3\",\"#FF6692\",\"#B6E880\",\"#FF97FF\",\"#FECB52\"],\"font\":{\"color\":\"#2a3f5f\"},\"hovermode\":\"closest\",\"hoverlabel\":{\"align\":\"left\"},\"paper_bgcolor\":\"white\",\"plot_bgcolor\":\"#E5ECF6\",\"polar\":{\"bgcolor\":\"#E5ECF6\",\"angularaxis\":{\"gridcolor\":\"white\",\"linecolor\":\"white\",\"ticks\":\"\"},\"radialaxis\":{\"gridcolor\":\"white\",\"linecolor\":\"white\",\"ticks\":\"\"}},\"ternary\":{\"bgcolor\":\"#E5ECF6\",\"aaxis\":{\"gridcolor\":\"white\",\"linecolor\":\"white\",\"ticks\":\"\"},\"baxis\":{\"gridcolor\":\"white\",\"linecolor\":\"white\",\"ticks\":\"\"},\"caxis\":{\"gridcolor\":\"white\",\"linecolor\":\"white\",\"ticks\":\"\"}},\"coloraxis\":{\"colorbar\":{\"outlinewidth\":0,\"ticks\":\"\"}},\"colorscale\":{\"sequential\":[[0.0,\"#0d0887\"],[0.1111111111111111,\"#46039f\"],[0.2222222222222222,\"#7201a8\"],[0.3333333333333333,\"#9c179e\"],[0.4444444444444444,\"#bd3786\"],[0.5555555555555556,\"#d8576b\"],[0.6666666666666666,\"#ed7953\"],[0.7777777777777778,\"#fb9f3a\"],[0.8888888888888888,\"#fdca26\"],[1.0,\"#f0f921\"]],\"sequentialminus\":[[0.0,\"#0d0887\"],[0.1111111111111111,\"#46039f\"],[0.2222222222222222,\"#7201a8\"],[0.3333333333333333,\"#9c179e\"],[0.4444444444444444,\"#bd3786\"],[0.5555555555555556,\"#d8576b\"],[0.6666666666666666,\"#ed7953\"],[0.7777777777777778,\"#fb9f3a\"],[0.8888888888888888,\"#fdca26\"],[1.0,\"#f0f921\"]],\"diverging\":[[0,\"#8e0152\"],[0.1,\"#c51b7d\"],[0.2,\"#de77ae\"],[0.3,\"#f1b6da\"],[0.4,\"#fde0ef\"],[0.5,\"#f7f7f7\"],[0.6,\"#e6f5d0\"],[0.7,\"#b8e186\"],[0.8,\"#7fbc41\"],[0.9,\"#4d9221\"],[1,\"#276419\"]]},\"xaxis\":{\"gridcolor\":\"white\",\"linecolor\":\"white\",\"ticks\":\"\",\"title\":{\"standoff\":15},\"zerolinecolor\":\"white\",\"automargin\":true,\"zerolinewidth\":2},\"yaxis\":{\"gridcolor\":\"white\",\"linecolor\":\"white\",\"ticks\":\"\",\"title\":{\"standoff\":15},\"zerolinecolor\":\"white\",\"automargin\":true,\"zerolinewidth\":2},\"scene\":{\"xaxis\":{\"backgroundcolor\":\"#E5ECF6\",\"gridcolor\":\"white\",\"linecolor\":\"white\",\"showbackground\":true,\"ticks\":\"\",\"zerolinecolor\":\"white\",\"gridwidth\":2},\"yaxis\":{\"backgroundcolor\":\"#E5ECF6\",\"gridcolor\":\"white\",\"linecolor\":\"white\",\"showbackground\":true,\"ticks\":\"\",\"zerolinecolor\":\"white\",\"gridwidth\":2},\"zaxis\":{\"backgroundcolor\":\"#E5ECF6\",\"gridcolor\":\"white\",\"linecolor\":\"white\",\"showbackground\":true,\"ticks\":\"\",\"zerolinecolor\":\"white\",\"gridwidth\":2}},\"shapedefaults\":{\"line\":{\"color\":\"#2a3f5f\"}},\"annotationdefaults\":{\"arrowcolor\":\"#2a3f5f\",\"arrowhead\":0,\"arrowwidth\":1},\"geo\":{\"bgcolor\":\"white\",\"landcolor\":\"#E5ECF6\",\"subunitcolor\":\"white\",\"showland\":true,\"showlakes\":true,\"lakecolor\":\"white\"},\"title\":{\"x\":0.05},\"mapbox\":{\"style\":\"light\"}}},\"title\":{\"text\":\"Tweet Sentiment Distribution\"}},                        {\"responsive\": true}                    ).then(function(){\n",
       "                            \n",
       "var gd = document.getElementById('b896dc6c-bfa8-4447-bf3f-e291e7c5f2c1');\n",
       "var x = new MutationObserver(function (mutations, observer) {{\n",
       "        var display = window.getComputedStyle(gd).display;\n",
       "        if (!display || display === 'none') {{\n",
       "            console.log([gd, 'removed!']);\n",
       "            Plotly.purge(gd);\n",
       "            observer.disconnect();\n",
       "        }}\n",
       "}});\n",
       "\n",
       "// Listen for the removal of the full notebook cells\n",
       "var notebookContainer = gd.closest('#notebook-container');\n",
       "if (notebookContainer) {{\n",
       "    x.observe(notebookContainer, {childList: true});\n",
       "}}\n",
       "\n",
       "// Listen for the clearing of the current output cell\n",
       "var outputEl = gd.closest('.output');\n",
       "if (outputEl) {{\n",
       "    x.observe(outputEl, {childList: true});\n",
       "}}\n",
       "\n",
       "                        })                };                            </script>        </div>\n",
       "</body>\n",
       "</html>"
      ]
     },
     "metadata": {},
     "output_type": "display_data"
    }
   ],
   "source": [
    "import plotly.express as px\n",
    "import plotly.graph_objects as go\n",
    "\n",
    "fig = go.Figure(\n",
    "    go.Bar(\n",
    "        x = ['Positive', 'Neutral', 'Negative'],\n",
    "        # Binary label\n",
    "        y = df['label'].value_counts().sort_index()\n",
    "        # One hot label\n",
    "        # y = np.sum(df['label'].values)\n",
    "    )\n",
    ")\n",
    "\n",
    "fig.update_layout(title_text = 'Tweet Sentiment Distribution')\n",
    "fig.show()"
   ]
  },
  {
   "cell_type": "markdown",
   "metadata": {},
   "source": [
    "The distribution is not balanced, we need to apply either downsampling and/or upsampling (augmentation) after this."
   ]
  },
  {
   "cell_type": "markdown",
   "metadata": {},
   "source": [
    "##### **Tweet Augmentation**\n",
    "As you can see from the earlier graph, the tweet distribution is not balanced, so we need to augment some tweets to increase the data (especially the negative tweets). There are a few ready-made libraries we can use:\n",
    "- `nlpaug`: Slower, but provide more authentic data (synonym/antonym, insert new word, etc)\n",
    "- `imblearn`: Faster, but the augmented word may not represent real data (vector level augmentation, e.g. SMOTE)\n",
    "\n",
    "Augmentation is a form of oversampling, we may also apply undersampling at the end of this section."
   ]
  },
  {
   "cell_type": "code",
   "execution_count": 17,
   "metadata": {},
   "outputs": [
    {
     "name": "stdout",
     "output_type": "stream",
     "text": [
      "Original: Your service is trully the worst!\n",
      "Synonym: Your service of process is trully the defective!\n",
      "Antonym: Your service is trully the unregretful!\n"
     ]
    }
   ],
   "source": [
    "from nltk.corpus import stopwords\n",
    "import nlpaug.augmenter.word as naw\n",
    "import multiprocessing as mp\n",
    "\n",
    "try:\n",
    "    # Import the stopwords list\n",
    "    # Very important, especially for antonym augmentation\n",
    "    # Words like not, very, etc may have opposite effect if not ignored\n",
    "    stop_words = set(stopwords.words('english'))\n",
    "except:\n",
    "    nltk.download('stopwords')\n",
    "    stop_words = set(stopwords.words('english'))\n",
    "\n",
    "# Don't reinitialize the augmenter on every function call\n",
    "# \"aug_p\" is the percentage of words to be augmented\n",
    "# \"stopwords\" will ignore specified words, but doesn't replace/remove them\n",
    "aug_ant = naw.AntonymAug(aug_p = 0.8, stopwords = stop_words)\n",
    "aug_syn = naw.SynonymAug(aug_src = 'wordnet', aug_p = 0.6, stopwords = stop_words)\n",
    "\n",
    "# Replace words in a sentence with their synonym or antonym\n",
    "# https://github.com/makcedward/nlpaug/blob/master/example/textual_augmenter.ipynb\n",
    "def preproc_augment(value: str, synonym = True):\n",
    "    if synonym:\n",
    "        # Augment will return a list, even if there is only 1 output\n",
    "        value = aug_syn.augment(value, num_thread = mp.cpu_count())[0]\n",
    "    else:\n",
    "        # Note that for antonym, the augmenter doesn't replace emojis with their inverse variants\n",
    "        # So we will need to remove emojis (and/or emoticons) after applying the antonym\n",
    "        # https://stackoverflow.com/questions/33404752/removing-emojis-from-a-string-in-python/\n",
    "        value = aug_ant.augment(value, num_thread = mp.cpu_count())[0]\n",
    "        value = value.encode('latin-1', 'ignore').decode('latin-1')\n",
    "\n",
    "    return value\n",
    "\n",
    "text = 'Your service is trully the worst!'\n",
    "print('Original:', text)\n",
    "\n",
    "print('Synonym:', preproc_augment(text))\n",
    "print('Antonym:', preproc_augment(text, False))"
   ]
  },
  {
   "cell_type": "markdown",
   "metadata": {},
   "source": [
    "Based on my observation, `nlpaug`'s built-in tokenizer will not lowercase words, it only use regex `\\w` (alphabet + digit) match and then split it (check the `WordAugmenter` source code to see it).\n",
    "\n",
    "If there is a stopword in a sentence that contains mixed/upper case (e.g. `It`, `IT`), it will still be processed (not ignored). In this case, the word `it` may be replaced with `information technology` (which is wrong if the original sentence is `IT IS NOT GOOD!`). The side effect is not that severe in the case of sentiment analysis, but still need caution."
   ]
  },
  {
   "cell_type": "code",
   "execution_count": 18,
   "metadata": {},
   "outputs": [],
   "source": [
    "def label_equal(label, df):\n",
    "    # The usual Pandas value query won't work if the data type is an array\n",
    "    # It will assign the array to replace the whole column instead\n",
    "\n",
    "    # Workaround to filter tweets belonging to a certain \"label\" (one hot array)\n",
    "    # \"label\" is either positive (100), neutral (010), or negative (001)\n",
    "    return df['label'].apply(lambda x:\n",
    "        # One hot label\n",
    "        np.array_equal(x, label)\n",
    "        if type(x) == np.ndarray\n",
    "        # Binary label\n",
    "        else x == np.argmax(label)\n",
    "    )"
   ]
  },
  {
   "cell_type": "code",
   "execution_count": 19,
   "metadata": {},
   "outputs": [
    {
     "name": "stdout",
     "output_type": "stream",
     "text": [
      "234006\n"
     ]
    },
    {
     "data": {
      "text/html": [
       "<div>\n",
       "<style scoped>\n",
       "    .dataframe tbody tr th:only-of-type {\n",
       "        vertical-align: middle;\n",
       "    }\n",
       "\n",
       "    .dataframe tbody tr th {\n",
       "        vertical-align: top;\n",
       "    }\n",
       "\n",
       "    .dataframe thead th {\n",
       "        text-align: right;\n",
       "    }\n",
       "</style>\n",
       "<table border=\"1\" class=\"dataframe\">\n",
       "  <thead>\n",
       "    <tr style=\"text-align: right;\">\n",
       "      <th></th>\n",
       "      <th>tweet_id</th>\n",
       "      <th>author_id</th>\n",
       "      <th>inbound</th>\n",
       "      <th>created_at</th>\n",
       "      <th>text</th>\n",
       "      <th>response_tweet_id</th>\n",
       "      <th>in_response_to_tweet_id</th>\n",
       "      <th>label</th>\n",
       "      <th>augmented</th>\n",
       "    </tr>\n",
       "  </thead>\n",
       "  <tbody>\n",
       "    <tr>\n",
       "      <th>0</th>\n",
       "      <td>8</td>\n",
       "      <td>115712</td>\n",
       "      <td>True</td>\n",
       "      <td>2017-10-31 21:45:10</td>\n",
       "      <td>is the bad client military service</td>\n",
       "      <td>[ 9  6 10]</td>\n",
       "      <td>NaN</td>\n",
       "      <td>2</td>\n",
       "      <td>True</td>\n",
       "    </tr>\n",
       "    <tr>\n",
       "      <th>1</th>\n",
       "      <td>11</td>\n",
       "      <td>sprintcare</td>\n",
       "      <td>False</td>\n",
       "      <td>2017-10-31 22:10:35</td>\n",
       "      <td>This is sadden to take heed. Please sprout ame...</td>\n",
       "      <td>NaN</td>\n",
       "      <td>12.0</td>\n",
       "      <td>2</td>\n",
       "      <td>True</td>\n",
       "    </tr>\n",
       "    <tr>\n",
       "      <th>2</th>\n",
       "      <td>12</td>\n",
       "      <td>115713</td>\n",
       "      <td>True</td>\n",
       "      <td>2017-10-31 22:04:47</td>\n",
       "      <td>You gonna as if by magic convert your connecti...</td>\n",
       "      <td>[11 13 14]</td>\n",
       "      <td>15.0</td>\n",
       "      <td>2</td>\n",
       "      <td>True</td>\n",
       "    </tr>\n",
       "    <tr>\n",
       "      <th>3</th>\n",
       "      <td>36</td>\n",
       "      <td>115719</td>\n",
       "      <td>True</td>\n",
       "      <td>2017-10-31 22:10:46</td>\n",
       "      <td>mortal from please assist me 😩 😩 😩 😩 1 ' m hav...</td>\n",
       "      <td>[34]</td>\n",
       "      <td>NaN</td>\n",
       "      <td>2</td>\n",
       "      <td>True</td>\n",
       "    </tr>\n",
       "    <tr>\n",
       "      <th>4</th>\n",
       "      <td>57</td>\n",
       "      <td>115723</td>\n",
       "      <td>True</td>\n",
       "      <td>2017-10-31 19:58:22</td>\n",
       "      <td>Cut out every xx second this is derisory</td>\n",
       "      <td>[56]</td>\n",
       "      <td>58.0</td>\n",
       "      <td>2</td>\n",
       "      <td>True</td>\n",
       "    </tr>\n",
       "  </tbody>\n",
       "</table>\n",
       "</div>"
      ],
      "text/plain": [
       "   tweet_id   author_id  inbound           created_at  \\\n",
       "0         8      115712     True  2017-10-31 21:45:10   \n",
       "1        11  sprintcare    False  2017-10-31 22:10:35   \n",
       "2        12      115713     True  2017-10-31 22:04:47   \n",
       "3        36      115719     True  2017-10-31 22:10:46   \n",
       "4        57      115723     True  2017-10-31 19:58:22   \n",
       "\n",
       "                                                text response_tweet_id  \\\n",
       "0                 is the bad client military service        [ 9  6 10]   \n",
       "1  This is sadden to take heed. Please sprout ame...               NaN   \n",
       "2  You gonna as if by magic convert your connecti...        [11 13 14]   \n",
       "3  mortal from please assist me 😩 😩 😩 😩 1 ' m hav...              [34]   \n",
       "4           Cut out every xx second this is derisory              [56]   \n",
       "\n",
       "   in_response_to_tweet_id  label  augmented  \n",
       "0                      NaN      2       True  \n",
       "1                     12.0      2       True  \n",
       "2                     15.0      2       True  \n",
       "3                      NaN      2       True  \n",
       "4                     58.0      2       True  "
      ]
     },
     "execution_count": 19,
     "metadata": {},
     "output_type": "execute_result"
    }
   ],
   "source": [
    "# Mark all members of the original dataframe as real data (not augmented)\n",
    "df['augmented'] = False\n",
    "\n",
    "if os.path.isfile('data/df_neg_1.csv'):\n",
    "    # Load the saved augmented data if available\n",
    "    df_neg_1 = pd.read_csv('data/df_neg_1.csv')\n",
    "else:\n",
    "    # Apply synonym augmentation to negative tweets (20-23 minutes)\n",
    "    df_neg_1 = df[ label_equal(np.array([0, 0, 1]), df) ]\n",
    "    df_neg_1['text'] = df_neg_1['text'].swifter.apply(preproc_augment)\n",
    "    # Mark the augmented data\n",
    "    df_neg_1['augmented'] = True\n",
    "\n",
    "print(len(df_neg_1))\n",
    "df_neg_1.head()"
   ]
  },
  {
   "cell_type": "markdown",
   "metadata": {},
   "source": [
    "- Negative tweets (combined with the original) after the previous augmentation should be around 468k (234k * 2)\n",
    "- It's still less than the positive tweets count (730k), so we need more augmentation (apply antonym to positive tweets)"
   ]
  },
  {
   "cell_type": "code",
   "execution_count": 20,
   "metadata": {},
   "outputs": [
    {
     "name": "stdout",
     "output_type": "stream",
     "text": [
      "After filter: 30208\n"
     ]
    },
    {
     "data": {
      "text/html": [
       "<div>\n",
       "<style scoped>\n",
       "    .dataframe tbody tr th:only-of-type {\n",
       "        vertical-align: middle;\n",
       "    }\n",
       "\n",
       "    .dataframe tbody tr th {\n",
       "        vertical-align: top;\n",
       "    }\n",
       "\n",
       "    .dataframe thead th {\n",
       "        text-align: right;\n",
       "    }\n",
       "</style>\n",
       "<table border=\"1\" class=\"dataframe\">\n",
       "  <thead>\n",
       "    <tr style=\"text-align: right;\">\n",
       "      <th></th>\n",
       "      <th>tweet_id</th>\n",
       "      <th>author_id</th>\n",
       "      <th>inbound</th>\n",
       "      <th>created_at</th>\n",
       "      <th>text</th>\n",
       "      <th>response_tweet_id</th>\n",
       "      <th>in_response_to_tweet_id</th>\n",
       "      <th>label</th>\n",
       "      <th>augmented</th>\n",
       "    </tr>\n",
       "  </thead>\n",
       "  <tbody>\n",
       "    <tr>\n",
       "      <th>0</th>\n",
       "      <td>159</td>\n",
       "      <td>115736</td>\n",
       "      <td>True</td>\n",
       "      <td>2017-10-31 22:00:10</td>\n",
       "      <td>Btw starve out $ 3 burritos if you undress up ...</td>\n",
       "      <td>[158]</td>\n",
       "      <td>NaN</td>\n",
       "      <td>2</td>\n",
       "      <td>True</td>\n",
       "    </tr>\n",
       "    <tr>\n",
       "      <th>1</th>\n",
       "      <td>316</td>\n",
       "      <td>115785</td>\n",
       "      <td>True</td>\n",
       "      <td>2017-11-01 01:13:10</td>\n",
       "      <td>Kinda obviate to unmake uncertain I have 680 $...</td>\n",
       "      <td>NaN</td>\n",
       "      <td>315.0</td>\n",
       "      <td>2</td>\n",
       "      <td>True</td>\n",
       "    </tr>\n",
       "    <tr>\n",
       "      <th>2</th>\n",
       "      <td>311</td>\n",
       "      <td>115785</td>\n",
       "      <td>True</td>\n",
       "      <td>2017-10-31 20:04:15</td>\n",
       "      <td>Would dislike to ignore so I can break uncerta...</td>\n",
       "      <td>[309]</td>\n",
       "      <td>318.0</td>\n",
       "      <td>2</td>\n",
       "      <td>True</td>\n",
       "    </tr>\n",
       "    <tr>\n",
       "      <th>3</th>\n",
       "      <td>337</td>\n",
       "      <td>115797</td>\n",
       "      <td>True</td>\n",
       "      <td>2017-11-09 20:15:48</td>\n",
       "      <td>Hi! i would dislike to ignore on my itenerary ...</td>\n",
       "      <td>[338]</td>\n",
       "      <td>335.0</td>\n",
       "      <td>2</td>\n",
       "      <td>True</td>\n",
       "    </tr>\n",
       "    <tr>\n",
       "      <th>4</th>\n",
       "      <td>369</td>\n",
       "      <td>115800</td>\n",
       "      <td>True</td>\n",
       "      <td>2017-10-31 14:25:55</td>\n",
       "      <td>You ' ll be even unhappy to ignore that the re...</td>\n",
       "      <td>[368 370]</td>\n",
       "      <td>371.0</td>\n",
       "      <td>2</td>\n",
       "      <td>True</td>\n",
       "    </tr>\n",
       "  </tbody>\n",
       "</table>\n",
       "</div>"
      ],
      "text/plain": [
       "   tweet_id author_id  inbound           created_at  \\\n",
       "0       159    115736     True  2017-10-31 22:00:10   \n",
       "1       316    115785     True  2017-11-01 01:13:10   \n",
       "2       311    115785     True  2017-10-31 20:04:15   \n",
       "3       337    115797     True  2017-11-09 20:15:48   \n",
       "4       369    115800     True  2017-10-31 14:25:55   \n",
       "\n",
       "                                                text response_tweet_id  \\\n",
       "0  Btw starve out $ 3 burritos if you undress up ...             [158]   \n",
       "1  Kinda obviate to unmake uncertain I have 680 $...               NaN   \n",
       "2  Would dislike to ignore so I can break uncerta...             [309]   \n",
       "3  Hi! i would dislike to ignore on my itenerary ...             [338]   \n",
       "4  You ' ll be even unhappy to ignore that the re...         [368 370]   \n",
       "\n",
       "   in_response_to_tweet_id  label  augmented  \n",
       "0                      NaN      2       True  \n",
       "1                    315.0      2       True  \n",
       "2                    318.0      2       True  \n",
       "3                    335.0      2       True  \n",
       "4                    371.0      2       True  "
      ]
     },
     "execution_count": 20,
     "metadata": {},
     "output_type": "execute_result"
    }
   ],
   "source": [
    "if os.path.isfile('data/df_neg_2.csv'):\n",
    "    # Load the saved augmented data if available\n",
    "    df_neg_2 = pd.read_csv('data/df_neg_2.csv')\n",
    "else:\n",
    "    # How many positive tweets do we want to augment?\n",
    "    n = 262000\n",
    "    # Apply antonym augmentation to positive tweets (to help balance negative tweets count)\n",
    "    # Note that not all positive tweets will become negative tweets even after augmentation\n",
    "    df_neg_2 = df[ label_equal(np.array([1, 0, 0]), df) ].head(n)\n",
    "    df_neg_2['text'] = df_neg_2['text'].swifter.apply(lambda x: preproc_augment(x, synonym = False))\n",
    "    # Reapply VADER's sentiment analysis and mark the augmented data\n",
    "    df_neg_2['label'] = df_neg_2['text'].swifter.apply(vader_sentiment)\n",
    "    df_neg_2['augmented'] = True\n",
    "\n",
    "    # Backup the unfiltered antonymized tweets\n",
    "    print('Before filter:', len(df_neg_2))\n",
    "    df_neg_2.to_csv('data/df_neg_2a.csv', index = False)\n",
    "    # Take only the negative tweets\n",
    "    df_neg_2 = df_neg_2 [ label_equal(np.array[0, 0, 1], df_neg_2) ]\n",
    "\n",
    "print('After filter:', len(df_neg_2))\n",
    "df_neg_2.head()"
   ]
  },
  {
   "cell_type": "markdown",
   "metadata": {},
   "source": [
    "- From 262000 positive tweets, only 30208 ends up as negative tweets after applying the antonym augmentation. Combined with the previous synonym augmentation, we only end up with 264k new negative tweets (time needed: ~55 minutes)\n",
    "- **Conclusion:** word based augmentation is slow and doesn't guarantee better class distribution, especially in the case of data balancing (oversampling). Next time, we should try vector level augmentation instead (SMOTE, etc)"
   ]
  },
  {
   "cell_type": "code",
   "execution_count": 21,
   "metadata": {},
   "outputs": [],
   "source": [
    "def str_to_arr(value: str, dtype = None):\n",
    "    if type(value) == float and math.isnan(value):\n",
    "        return pd.NA\n",
    "    else:\n",
    "        # Take everything between square brackets (list)\n",
    "        value = re.sub(r'\\[([^]]+)\\]', r'\\1', value)\n",
    "        # Convert space separated string to Numpy's array\n",
    "        value = [ int(i) for i in value.split() ]\n",
    "        return np.array(value, dtype)\n",
    "\n",
    "def fix_data_type(df):\n",
    "    df['label'] = df['label'].apply(lambda x: str_to_arr(x) if type(x) == str else int(x))\n",
    "    df['response_tweet_id'] = df['response_tweet_id'].apply(lambda x: str_to_arr(x, np.int64))\n",
    "\n",
    "    try:\n",
    "        # https://strftime.org/\n",
    "        df['created_at'] = pd.to_datetime(df['created_at'], format = '%Y-%m-%d %H:%M:%S+00:00')\n",
    "    except ValueError:\n",
    "        df['created_at'] = pd.to_datetime(df['created_at'], format = '%Y-%m-%d %H:%M:%S')\n",
    "\n",
    "    # Convert float to Pandas' Int64 (support nan)\n",
    "    # Pandas' Int64 array will use \"pd.NA\" rather than \"np.nan\"\n",
    "    # https://pandas.pydata.org/docs/user_guide/integer_na.html\n",
    "    cols = ['tweet_id', 'in_response_to_tweet_id']\n",
    "    df[cols] = df[cols].astype('Int64')\n",
    "\n",
    "    return df\n",
    "\n",
    "# ======================\n",
    "\n",
    "if not os.path.isfile('data/df_neg_1.csv'):\n",
    "    # Save the augmented dataframe if it hasn't been saved yet\n",
    "    df_neg_1.to_csv('data/df_neg_1.csv', index = False)\n",
    "    df_neg_2.to_csv('data/df_neg_2.csv', index = False)\n",
    "else:\n",
    "    # If we load the saved augmented dataframe, fix the data type first\n",
    "    df_neg_1 = fix_data_type(df_neg_1)\n",
    "    df_neg_2 = fix_data_type(df_neg_2)"
   ]
  },
  {
   "cell_type": "markdown",
   "metadata": {},
   "source": [
    "Combine the augmented data with the original one, backup the original as `df_orig`."
   ]
  },
  {
   "cell_type": "code",
   "execution_count": 22,
   "metadata": {},
   "outputs": [],
   "source": [
    "df_orig = df.copy()"
   ]
  },
  {
   "cell_type": "code",
   "execution_count": 23,
   "metadata": {},
   "outputs": [
    {
     "name": "stdout",
     "output_type": "stream",
     "text": [
      "2939050\n"
     ]
    },
    {
     "data": {
      "text/html": [
       "<div>\n",
       "<style scoped>\n",
       "    .dataframe tbody tr th:only-of-type {\n",
       "        vertical-align: middle;\n",
       "    }\n",
       "\n",
       "    .dataframe tbody tr th {\n",
       "        vertical-align: top;\n",
       "    }\n",
       "\n",
       "    .dataframe thead th {\n",
       "        text-align: right;\n",
       "    }\n",
       "</style>\n",
       "<table border=\"1\" class=\"dataframe\">\n",
       "  <thead>\n",
       "    <tr style=\"text-align: right;\">\n",
       "      <th></th>\n",
       "      <th>tweet_id</th>\n",
       "      <th>author_id</th>\n",
       "      <th>inbound</th>\n",
       "      <th>created_at</th>\n",
       "      <th>text</th>\n",
       "      <th>response_tweet_id</th>\n",
       "      <th>in_response_to_tweet_id</th>\n",
       "      <th>label</th>\n",
       "      <th>augmented</th>\n",
       "    </tr>\n",
       "  </thead>\n",
       "  <tbody>\n",
       "    <tr>\n",
       "      <th>0</th>\n",
       "      <td>1</td>\n",
       "      <td>sprintcare</td>\n",
       "      <td>False</td>\n",
       "      <td>2017-10-31 22:10:47+00:00</td>\n",
       "      <td>I understand. I would like to assist you. We ...</td>\n",
       "      <td>[2]</td>\n",
       "      <td>3</td>\n",
       "      <td>0</td>\n",
       "      <td>False</td>\n",
       "    </tr>\n",
       "    <tr>\n",
       "      <th>1</th>\n",
       "      <td>2</td>\n",
       "      <td>115712</td>\n",
       "      <td>True</td>\n",
       "      <td>2017-10-31 22:11:45+00:00</td>\n",
       "      <td>and how do you propose we do that</td>\n",
       "      <td>&lt;NA&gt;</td>\n",
       "      <td>1</td>\n",
       "      <td>1</td>\n",
       "      <td>False</td>\n",
       "    </tr>\n",
       "    <tr>\n",
       "      <th>2</th>\n",
       "      <td>3</td>\n",
       "      <td>115712</td>\n",
       "      <td>True</td>\n",
       "      <td>2017-10-31 22:08:27+00:00</td>\n",
       "      <td>I have sent several private messages and no o...</td>\n",
       "      <td>[1]</td>\n",
       "      <td>4</td>\n",
       "      <td>1</td>\n",
       "      <td>False</td>\n",
       "    </tr>\n",
       "    <tr>\n",
       "      <th>3</th>\n",
       "      <td>4</td>\n",
       "      <td>sprintcare</td>\n",
       "      <td>False</td>\n",
       "      <td>2017-10-31 21:54:49+00:00</td>\n",
       "      <td>Please send us a Private Message so that we c...</td>\n",
       "      <td>[3]</td>\n",
       "      <td>5</td>\n",
       "      <td>1</td>\n",
       "      <td>False</td>\n",
       "    </tr>\n",
       "    <tr>\n",
       "      <th>4</th>\n",
       "      <td>5</td>\n",
       "      <td>115712</td>\n",
       "      <td>True</td>\n",
       "      <td>2017-10-31 21:49:35+00:00</td>\n",
       "      <td>I did.</td>\n",
       "      <td>[4]</td>\n",
       "      <td>6</td>\n",
       "      <td>1</td>\n",
       "      <td>False</td>\n",
       "    </tr>\n",
       "  </tbody>\n",
       "</table>\n",
       "</div>"
      ],
      "text/plain": [
       "   tweet_id   author_id  inbound                 created_at  \\\n",
       "0         1  sprintcare    False  2017-10-31 22:10:47+00:00   \n",
       "1         2      115712     True  2017-10-31 22:11:45+00:00   \n",
       "2         3      115712     True  2017-10-31 22:08:27+00:00   \n",
       "3         4  sprintcare    False  2017-10-31 21:54:49+00:00   \n",
       "4         5      115712     True  2017-10-31 21:49:35+00:00   \n",
       "\n",
       "                                                text response_tweet_id  \\\n",
       "0   I understand. I would like to assist you. We ...               [2]   \n",
       "1                  and how do you propose we do that              <NA>   \n",
       "2   I have sent several private messages and no o...               [1]   \n",
       "3   Please send us a Private Message so that we c...               [3]   \n",
       "4                                             I did.               [4]   \n",
       "\n",
       "   in_response_to_tweet_id  label  augmented  \n",
       "0                        3      0      False  \n",
       "1                        1      1      False  \n",
       "2                        4      1      False  \n",
       "3                        5      1      False  \n",
       "4                        6      1      False  "
      ]
     },
     "execution_count": 23,
     "metadata": {},
     "output_type": "execute_result"
    }
   ],
   "source": [
    "# Combine the augmented tweets with the original tweets\n",
    "df = pd.concat([df_orig, df_neg_1, df_neg_2], ignore_index = True)\n",
    "\n",
    "print(len(df))\n",
    "df.head()"
   ]
  },
  {
   "cell_type": "markdown",
   "metadata": {},
   "source": [
    "See the tweets distribution after augmentation process."
   ]
  },
  {
   "cell_type": "code",
   "execution_count": 24,
   "metadata": {},
   "outputs": [
    {
     "data": {
      "application/vnd.plotly.v1+json": {
       "config": {
        "plotlyServerURL": "https://plot.ly"
       },
       "data": [
        {
         "type": "bar",
         "x": [
          "Positive",
          "Neutral",
          "Negative"
         ],
         "y": [
          730948,
          1709882,
          498220
         ]
        }
       ],
       "layout": {
        "template": {
         "data": {
          "bar": [
           {
            "error_x": {
             "color": "#2a3f5f"
            },
            "error_y": {
             "color": "#2a3f5f"
            },
            "marker": {
             "line": {
              "color": "#E5ECF6",
              "width": 0.5
             },
             "pattern": {
              "fillmode": "overlay",
              "size": 10,
              "solidity": 0.2
             }
            },
            "type": "bar"
           }
          ],
          "barpolar": [
           {
            "marker": {
             "line": {
              "color": "#E5ECF6",
              "width": 0.5
             },
             "pattern": {
              "fillmode": "overlay",
              "size": 10,
              "solidity": 0.2
             }
            },
            "type": "barpolar"
           }
          ],
          "carpet": [
           {
            "aaxis": {
             "endlinecolor": "#2a3f5f",
             "gridcolor": "white",
             "linecolor": "white",
             "minorgridcolor": "white",
             "startlinecolor": "#2a3f5f"
            },
            "baxis": {
             "endlinecolor": "#2a3f5f",
             "gridcolor": "white",
             "linecolor": "white",
             "minorgridcolor": "white",
             "startlinecolor": "#2a3f5f"
            },
            "type": "carpet"
           }
          ],
          "choropleth": [
           {
            "colorbar": {
             "outlinewidth": 0,
             "ticks": ""
            },
            "type": "choropleth"
           }
          ],
          "contour": [
           {
            "colorbar": {
             "outlinewidth": 0,
             "ticks": ""
            },
            "colorscale": [
             [
              0,
              "#0d0887"
             ],
             [
              0.1111111111111111,
              "#46039f"
             ],
             [
              0.2222222222222222,
              "#7201a8"
             ],
             [
              0.3333333333333333,
              "#9c179e"
             ],
             [
              0.4444444444444444,
              "#bd3786"
             ],
             [
              0.5555555555555556,
              "#d8576b"
             ],
             [
              0.6666666666666666,
              "#ed7953"
             ],
             [
              0.7777777777777778,
              "#fb9f3a"
             ],
             [
              0.8888888888888888,
              "#fdca26"
             ],
             [
              1,
              "#f0f921"
             ]
            ],
            "type": "contour"
           }
          ],
          "contourcarpet": [
           {
            "colorbar": {
             "outlinewidth": 0,
             "ticks": ""
            },
            "type": "contourcarpet"
           }
          ],
          "heatmap": [
           {
            "colorbar": {
             "outlinewidth": 0,
             "ticks": ""
            },
            "colorscale": [
             [
              0,
              "#0d0887"
             ],
             [
              0.1111111111111111,
              "#46039f"
             ],
             [
              0.2222222222222222,
              "#7201a8"
             ],
             [
              0.3333333333333333,
              "#9c179e"
             ],
             [
              0.4444444444444444,
              "#bd3786"
             ],
             [
              0.5555555555555556,
              "#d8576b"
             ],
             [
              0.6666666666666666,
              "#ed7953"
             ],
             [
              0.7777777777777778,
              "#fb9f3a"
             ],
             [
              0.8888888888888888,
              "#fdca26"
             ],
             [
              1,
              "#f0f921"
             ]
            ],
            "type": "heatmap"
           }
          ],
          "heatmapgl": [
           {
            "colorbar": {
             "outlinewidth": 0,
             "ticks": ""
            },
            "colorscale": [
             [
              0,
              "#0d0887"
             ],
             [
              0.1111111111111111,
              "#46039f"
             ],
             [
              0.2222222222222222,
              "#7201a8"
             ],
             [
              0.3333333333333333,
              "#9c179e"
             ],
             [
              0.4444444444444444,
              "#bd3786"
             ],
             [
              0.5555555555555556,
              "#d8576b"
             ],
             [
              0.6666666666666666,
              "#ed7953"
             ],
             [
              0.7777777777777778,
              "#fb9f3a"
             ],
             [
              0.8888888888888888,
              "#fdca26"
             ],
             [
              1,
              "#f0f921"
             ]
            ],
            "type": "heatmapgl"
           }
          ],
          "histogram": [
           {
            "marker": {
             "pattern": {
              "fillmode": "overlay",
              "size": 10,
              "solidity": 0.2
             }
            },
            "type": "histogram"
           }
          ],
          "histogram2d": [
           {
            "colorbar": {
             "outlinewidth": 0,
             "ticks": ""
            },
            "colorscale": [
             [
              0,
              "#0d0887"
             ],
             [
              0.1111111111111111,
              "#46039f"
             ],
             [
              0.2222222222222222,
              "#7201a8"
             ],
             [
              0.3333333333333333,
              "#9c179e"
             ],
             [
              0.4444444444444444,
              "#bd3786"
             ],
             [
              0.5555555555555556,
              "#d8576b"
             ],
             [
              0.6666666666666666,
              "#ed7953"
             ],
             [
              0.7777777777777778,
              "#fb9f3a"
             ],
             [
              0.8888888888888888,
              "#fdca26"
             ],
             [
              1,
              "#f0f921"
             ]
            ],
            "type": "histogram2d"
           }
          ],
          "histogram2dcontour": [
           {
            "colorbar": {
             "outlinewidth": 0,
             "ticks": ""
            },
            "colorscale": [
             [
              0,
              "#0d0887"
             ],
             [
              0.1111111111111111,
              "#46039f"
             ],
             [
              0.2222222222222222,
              "#7201a8"
             ],
             [
              0.3333333333333333,
              "#9c179e"
             ],
             [
              0.4444444444444444,
              "#bd3786"
             ],
             [
              0.5555555555555556,
              "#d8576b"
             ],
             [
              0.6666666666666666,
              "#ed7953"
             ],
             [
              0.7777777777777778,
              "#fb9f3a"
             ],
             [
              0.8888888888888888,
              "#fdca26"
             ],
             [
              1,
              "#f0f921"
             ]
            ],
            "type": "histogram2dcontour"
           }
          ],
          "mesh3d": [
           {
            "colorbar": {
             "outlinewidth": 0,
             "ticks": ""
            },
            "type": "mesh3d"
           }
          ],
          "parcoords": [
           {
            "line": {
             "colorbar": {
              "outlinewidth": 0,
              "ticks": ""
             }
            },
            "type": "parcoords"
           }
          ],
          "pie": [
           {
            "automargin": true,
            "type": "pie"
           }
          ],
          "scatter": [
           {
            "fillpattern": {
             "fillmode": "overlay",
             "size": 10,
             "solidity": 0.2
            },
            "type": "scatter"
           }
          ],
          "scatter3d": [
           {
            "line": {
             "colorbar": {
              "outlinewidth": 0,
              "ticks": ""
             }
            },
            "marker": {
             "colorbar": {
              "outlinewidth": 0,
              "ticks": ""
             }
            },
            "type": "scatter3d"
           }
          ],
          "scattercarpet": [
           {
            "marker": {
             "colorbar": {
              "outlinewidth": 0,
              "ticks": ""
             }
            },
            "type": "scattercarpet"
           }
          ],
          "scattergeo": [
           {
            "marker": {
             "colorbar": {
              "outlinewidth": 0,
              "ticks": ""
             }
            },
            "type": "scattergeo"
           }
          ],
          "scattergl": [
           {
            "marker": {
             "colorbar": {
              "outlinewidth": 0,
              "ticks": ""
             }
            },
            "type": "scattergl"
           }
          ],
          "scattermapbox": [
           {
            "marker": {
             "colorbar": {
              "outlinewidth": 0,
              "ticks": ""
             }
            },
            "type": "scattermapbox"
           }
          ],
          "scatterpolar": [
           {
            "marker": {
             "colorbar": {
              "outlinewidth": 0,
              "ticks": ""
             }
            },
            "type": "scatterpolar"
           }
          ],
          "scatterpolargl": [
           {
            "marker": {
             "colorbar": {
              "outlinewidth": 0,
              "ticks": ""
             }
            },
            "type": "scatterpolargl"
           }
          ],
          "scatterternary": [
           {
            "marker": {
             "colorbar": {
              "outlinewidth": 0,
              "ticks": ""
             }
            },
            "type": "scatterternary"
           }
          ],
          "surface": [
           {
            "colorbar": {
             "outlinewidth": 0,
             "ticks": ""
            },
            "colorscale": [
             [
              0,
              "#0d0887"
             ],
             [
              0.1111111111111111,
              "#46039f"
             ],
             [
              0.2222222222222222,
              "#7201a8"
             ],
             [
              0.3333333333333333,
              "#9c179e"
             ],
             [
              0.4444444444444444,
              "#bd3786"
             ],
             [
              0.5555555555555556,
              "#d8576b"
             ],
             [
              0.6666666666666666,
              "#ed7953"
             ],
             [
              0.7777777777777778,
              "#fb9f3a"
             ],
             [
              0.8888888888888888,
              "#fdca26"
             ],
             [
              1,
              "#f0f921"
             ]
            ],
            "type": "surface"
           }
          ],
          "table": [
           {
            "cells": {
             "fill": {
              "color": "#EBF0F8"
             },
             "line": {
              "color": "white"
             }
            },
            "header": {
             "fill": {
              "color": "#C8D4E3"
             },
             "line": {
              "color": "white"
             }
            },
            "type": "table"
           }
          ]
         },
         "layout": {
          "annotationdefaults": {
           "arrowcolor": "#2a3f5f",
           "arrowhead": 0,
           "arrowwidth": 1
          },
          "autotypenumbers": "strict",
          "coloraxis": {
           "colorbar": {
            "outlinewidth": 0,
            "ticks": ""
           }
          },
          "colorscale": {
           "diverging": [
            [
             0,
             "#8e0152"
            ],
            [
             0.1,
             "#c51b7d"
            ],
            [
             0.2,
             "#de77ae"
            ],
            [
             0.3,
             "#f1b6da"
            ],
            [
             0.4,
             "#fde0ef"
            ],
            [
             0.5,
             "#f7f7f7"
            ],
            [
             0.6,
             "#e6f5d0"
            ],
            [
             0.7,
             "#b8e186"
            ],
            [
             0.8,
             "#7fbc41"
            ],
            [
             0.9,
             "#4d9221"
            ],
            [
             1,
             "#276419"
            ]
           ],
           "sequential": [
            [
             0,
             "#0d0887"
            ],
            [
             0.1111111111111111,
             "#46039f"
            ],
            [
             0.2222222222222222,
             "#7201a8"
            ],
            [
             0.3333333333333333,
             "#9c179e"
            ],
            [
             0.4444444444444444,
             "#bd3786"
            ],
            [
             0.5555555555555556,
             "#d8576b"
            ],
            [
             0.6666666666666666,
             "#ed7953"
            ],
            [
             0.7777777777777778,
             "#fb9f3a"
            ],
            [
             0.8888888888888888,
             "#fdca26"
            ],
            [
             1,
             "#f0f921"
            ]
           ],
           "sequentialminus": [
            [
             0,
             "#0d0887"
            ],
            [
             0.1111111111111111,
             "#46039f"
            ],
            [
             0.2222222222222222,
             "#7201a8"
            ],
            [
             0.3333333333333333,
             "#9c179e"
            ],
            [
             0.4444444444444444,
             "#bd3786"
            ],
            [
             0.5555555555555556,
             "#d8576b"
            ],
            [
             0.6666666666666666,
             "#ed7953"
            ],
            [
             0.7777777777777778,
             "#fb9f3a"
            ],
            [
             0.8888888888888888,
             "#fdca26"
            ],
            [
             1,
             "#f0f921"
            ]
           ]
          },
          "colorway": [
           "#636efa",
           "#EF553B",
           "#00cc96",
           "#ab63fa",
           "#FFA15A",
           "#19d3f3",
           "#FF6692",
           "#B6E880",
           "#FF97FF",
           "#FECB52"
          ],
          "font": {
           "color": "#2a3f5f"
          },
          "geo": {
           "bgcolor": "white",
           "lakecolor": "white",
           "landcolor": "#E5ECF6",
           "showlakes": true,
           "showland": true,
           "subunitcolor": "white"
          },
          "hoverlabel": {
           "align": "left"
          },
          "hovermode": "closest",
          "mapbox": {
           "style": "light"
          },
          "paper_bgcolor": "white",
          "plot_bgcolor": "#E5ECF6",
          "polar": {
           "angularaxis": {
            "gridcolor": "white",
            "linecolor": "white",
            "ticks": ""
           },
           "bgcolor": "#E5ECF6",
           "radialaxis": {
            "gridcolor": "white",
            "linecolor": "white",
            "ticks": ""
           }
          },
          "scene": {
           "xaxis": {
            "backgroundcolor": "#E5ECF6",
            "gridcolor": "white",
            "gridwidth": 2,
            "linecolor": "white",
            "showbackground": true,
            "ticks": "",
            "zerolinecolor": "white"
           },
           "yaxis": {
            "backgroundcolor": "#E5ECF6",
            "gridcolor": "white",
            "gridwidth": 2,
            "linecolor": "white",
            "showbackground": true,
            "ticks": "",
            "zerolinecolor": "white"
           },
           "zaxis": {
            "backgroundcolor": "#E5ECF6",
            "gridcolor": "white",
            "gridwidth": 2,
            "linecolor": "white",
            "showbackground": true,
            "ticks": "",
            "zerolinecolor": "white"
           }
          },
          "shapedefaults": {
           "line": {
            "color": "#2a3f5f"
           }
          },
          "ternary": {
           "aaxis": {
            "gridcolor": "white",
            "linecolor": "white",
            "ticks": ""
           },
           "baxis": {
            "gridcolor": "white",
            "linecolor": "white",
            "ticks": ""
           },
           "bgcolor": "#E5ECF6",
           "caxis": {
            "gridcolor": "white",
            "linecolor": "white",
            "ticks": ""
           }
          },
          "title": {
           "x": 0.05
          },
          "xaxis": {
           "automargin": true,
           "gridcolor": "white",
           "linecolor": "white",
           "ticks": "",
           "title": {
            "standoff": 15
           },
           "zerolinecolor": "white",
           "zerolinewidth": 2
          },
          "yaxis": {
           "automargin": true,
           "gridcolor": "white",
           "linecolor": "white",
           "ticks": "",
           "title": {
            "standoff": 15
           },
           "zerolinecolor": "white",
           "zerolinewidth": 2
          }
         }
        },
        "title": {
         "text": "Tweet Sentiment Distribution"
        }
       }
      },
      "text/html": [
       "<html>\n",
       "<head><meta charset=\"utf-8\" /></head>\n",
       "<body>\n",
       "    <div>            <script src=\"https://cdnjs.cloudflare.com/ajax/libs/mathjax/2.7.5/MathJax.js?config=TeX-AMS-MML_SVG\"></script><script type=\"text/javascript\">if (window.MathJax && window.MathJax.Hub && window.MathJax.Hub.Config) {window.MathJax.Hub.Config({SVG: {font: \"STIX-Web\"}});}</script>                <script type=\"text/javascript\">window.PlotlyConfig = {MathJaxConfig: 'local'};</script>\n",
       "        <script charset=\"utf-8\" src=\"https://cdn.plot.ly/plotly-2.27.0.min.js\"></script>                <div id=\"77207fc0-6d0d-4c97-a720-e9b06844ad53\" class=\"plotly-graph-div\" style=\"height:525px; width:100%;\"></div>            <script type=\"text/javascript\">                                    window.PLOTLYENV=window.PLOTLYENV || {};                                    if (document.getElementById(\"77207fc0-6d0d-4c97-a720-e9b06844ad53\")) {                    Plotly.newPlot(                        \"77207fc0-6d0d-4c97-a720-e9b06844ad53\",                        [{\"x\":[\"Positive\",\"Neutral\",\"Negative\"],\"y\":[730948,1709882,498220],\"type\":\"bar\"}],                        {\"template\":{\"data\":{\"histogram2dcontour\":[{\"type\":\"histogram2dcontour\",\"colorbar\":{\"outlinewidth\":0,\"ticks\":\"\"},\"colorscale\":[[0.0,\"#0d0887\"],[0.1111111111111111,\"#46039f\"],[0.2222222222222222,\"#7201a8\"],[0.3333333333333333,\"#9c179e\"],[0.4444444444444444,\"#bd3786\"],[0.5555555555555556,\"#d8576b\"],[0.6666666666666666,\"#ed7953\"],[0.7777777777777778,\"#fb9f3a\"],[0.8888888888888888,\"#fdca26\"],[1.0,\"#f0f921\"]]}],\"choropleth\":[{\"type\":\"choropleth\",\"colorbar\":{\"outlinewidth\":0,\"ticks\":\"\"}}],\"histogram2d\":[{\"type\":\"histogram2d\",\"colorbar\":{\"outlinewidth\":0,\"ticks\":\"\"},\"colorscale\":[[0.0,\"#0d0887\"],[0.1111111111111111,\"#46039f\"],[0.2222222222222222,\"#7201a8\"],[0.3333333333333333,\"#9c179e\"],[0.4444444444444444,\"#bd3786\"],[0.5555555555555556,\"#d8576b\"],[0.6666666666666666,\"#ed7953\"],[0.7777777777777778,\"#fb9f3a\"],[0.8888888888888888,\"#fdca26\"],[1.0,\"#f0f921\"]]}],\"heatmap\":[{\"type\":\"heatmap\",\"colorbar\":{\"outlinewidth\":0,\"ticks\":\"\"},\"colorscale\":[[0.0,\"#0d0887\"],[0.1111111111111111,\"#46039f\"],[0.2222222222222222,\"#7201a8\"],[0.3333333333333333,\"#9c179e\"],[0.4444444444444444,\"#bd3786\"],[0.5555555555555556,\"#d8576b\"],[0.6666666666666666,\"#ed7953\"],[0.7777777777777778,\"#fb9f3a\"],[0.8888888888888888,\"#fdca26\"],[1.0,\"#f0f921\"]]}],\"heatmapgl\":[{\"type\":\"heatmapgl\",\"colorbar\":{\"outlinewidth\":0,\"ticks\":\"\"},\"colorscale\":[[0.0,\"#0d0887\"],[0.1111111111111111,\"#46039f\"],[0.2222222222222222,\"#7201a8\"],[0.3333333333333333,\"#9c179e\"],[0.4444444444444444,\"#bd3786\"],[0.5555555555555556,\"#d8576b\"],[0.6666666666666666,\"#ed7953\"],[0.7777777777777778,\"#fb9f3a\"],[0.8888888888888888,\"#fdca26\"],[1.0,\"#f0f921\"]]}],\"contourcarpet\":[{\"type\":\"contourcarpet\",\"colorbar\":{\"outlinewidth\":0,\"ticks\":\"\"}}],\"contour\":[{\"type\":\"contour\",\"colorbar\":{\"outlinewidth\":0,\"ticks\":\"\"},\"colorscale\":[[0.0,\"#0d0887\"],[0.1111111111111111,\"#46039f\"],[0.2222222222222222,\"#7201a8\"],[0.3333333333333333,\"#9c179e\"],[0.4444444444444444,\"#bd3786\"],[0.5555555555555556,\"#d8576b\"],[0.6666666666666666,\"#ed7953\"],[0.7777777777777778,\"#fb9f3a\"],[0.8888888888888888,\"#fdca26\"],[1.0,\"#f0f921\"]]}],\"surface\":[{\"type\":\"surface\",\"colorbar\":{\"outlinewidth\":0,\"ticks\":\"\"},\"colorscale\":[[0.0,\"#0d0887\"],[0.1111111111111111,\"#46039f\"],[0.2222222222222222,\"#7201a8\"],[0.3333333333333333,\"#9c179e\"],[0.4444444444444444,\"#bd3786\"],[0.5555555555555556,\"#d8576b\"],[0.6666666666666666,\"#ed7953\"],[0.7777777777777778,\"#fb9f3a\"],[0.8888888888888888,\"#fdca26\"],[1.0,\"#f0f921\"]]}],\"mesh3d\":[{\"type\":\"mesh3d\",\"colorbar\":{\"outlinewidth\":0,\"ticks\":\"\"}}],\"scatter\":[{\"fillpattern\":{\"fillmode\":\"overlay\",\"size\":10,\"solidity\":0.2},\"type\":\"scatter\"}],\"parcoords\":[{\"type\":\"parcoords\",\"line\":{\"colorbar\":{\"outlinewidth\":0,\"ticks\":\"\"}}}],\"scatterpolargl\":[{\"type\":\"scatterpolargl\",\"marker\":{\"colorbar\":{\"outlinewidth\":0,\"ticks\":\"\"}}}],\"bar\":[{\"error_x\":{\"color\":\"#2a3f5f\"},\"error_y\":{\"color\":\"#2a3f5f\"},\"marker\":{\"line\":{\"color\":\"#E5ECF6\",\"width\":0.5},\"pattern\":{\"fillmode\":\"overlay\",\"size\":10,\"solidity\":0.2}},\"type\":\"bar\"}],\"scattergeo\":[{\"type\":\"scattergeo\",\"marker\":{\"colorbar\":{\"outlinewidth\":0,\"ticks\":\"\"}}}],\"scatterpolar\":[{\"type\":\"scatterpolar\",\"marker\":{\"colorbar\":{\"outlinewidth\":0,\"ticks\":\"\"}}}],\"histogram\":[{\"marker\":{\"pattern\":{\"fillmode\":\"overlay\",\"size\":10,\"solidity\":0.2}},\"type\":\"histogram\"}],\"scattergl\":[{\"type\":\"scattergl\",\"marker\":{\"colorbar\":{\"outlinewidth\":0,\"ticks\":\"\"}}}],\"scatter3d\":[{\"type\":\"scatter3d\",\"line\":{\"colorbar\":{\"outlinewidth\":0,\"ticks\":\"\"}},\"marker\":{\"colorbar\":{\"outlinewidth\":0,\"ticks\":\"\"}}}],\"scattermapbox\":[{\"type\":\"scattermapbox\",\"marker\":{\"colorbar\":{\"outlinewidth\":0,\"ticks\":\"\"}}}],\"scatterternary\":[{\"type\":\"scatterternary\",\"marker\":{\"colorbar\":{\"outlinewidth\":0,\"ticks\":\"\"}}}],\"scattercarpet\":[{\"type\":\"scattercarpet\",\"marker\":{\"colorbar\":{\"outlinewidth\":0,\"ticks\":\"\"}}}],\"carpet\":[{\"aaxis\":{\"endlinecolor\":\"#2a3f5f\",\"gridcolor\":\"white\",\"linecolor\":\"white\",\"minorgridcolor\":\"white\",\"startlinecolor\":\"#2a3f5f\"},\"baxis\":{\"endlinecolor\":\"#2a3f5f\",\"gridcolor\":\"white\",\"linecolor\":\"white\",\"minorgridcolor\":\"white\",\"startlinecolor\":\"#2a3f5f\"},\"type\":\"carpet\"}],\"table\":[{\"cells\":{\"fill\":{\"color\":\"#EBF0F8\"},\"line\":{\"color\":\"white\"}},\"header\":{\"fill\":{\"color\":\"#C8D4E3\"},\"line\":{\"color\":\"white\"}},\"type\":\"table\"}],\"barpolar\":[{\"marker\":{\"line\":{\"color\":\"#E5ECF6\",\"width\":0.5},\"pattern\":{\"fillmode\":\"overlay\",\"size\":10,\"solidity\":0.2}},\"type\":\"barpolar\"}],\"pie\":[{\"automargin\":true,\"type\":\"pie\"}]},\"layout\":{\"autotypenumbers\":\"strict\",\"colorway\":[\"#636efa\",\"#EF553B\",\"#00cc96\",\"#ab63fa\",\"#FFA15A\",\"#19d3f3\",\"#FF6692\",\"#B6E880\",\"#FF97FF\",\"#FECB52\"],\"font\":{\"color\":\"#2a3f5f\"},\"hovermode\":\"closest\",\"hoverlabel\":{\"align\":\"left\"},\"paper_bgcolor\":\"white\",\"plot_bgcolor\":\"#E5ECF6\",\"polar\":{\"bgcolor\":\"#E5ECF6\",\"angularaxis\":{\"gridcolor\":\"white\",\"linecolor\":\"white\",\"ticks\":\"\"},\"radialaxis\":{\"gridcolor\":\"white\",\"linecolor\":\"white\",\"ticks\":\"\"}},\"ternary\":{\"bgcolor\":\"#E5ECF6\",\"aaxis\":{\"gridcolor\":\"white\",\"linecolor\":\"white\",\"ticks\":\"\"},\"baxis\":{\"gridcolor\":\"white\",\"linecolor\":\"white\",\"ticks\":\"\"},\"caxis\":{\"gridcolor\":\"white\",\"linecolor\":\"white\",\"ticks\":\"\"}},\"coloraxis\":{\"colorbar\":{\"outlinewidth\":0,\"ticks\":\"\"}},\"colorscale\":{\"sequential\":[[0.0,\"#0d0887\"],[0.1111111111111111,\"#46039f\"],[0.2222222222222222,\"#7201a8\"],[0.3333333333333333,\"#9c179e\"],[0.4444444444444444,\"#bd3786\"],[0.5555555555555556,\"#d8576b\"],[0.6666666666666666,\"#ed7953\"],[0.7777777777777778,\"#fb9f3a\"],[0.8888888888888888,\"#fdca26\"],[1.0,\"#f0f921\"]],\"sequentialminus\":[[0.0,\"#0d0887\"],[0.1111111111111111,\"#46039f\"],[0.2222222222222222,\"#7201a8\"],[0.3333333333333333,\"#9c179e\"],[0.4444444444444444,\"#bd3786\"],[0.5555555555555556,\"#d8576b\"],[0.6666666666666666,\"#ed7953\"],[0.7777777777777778,\"#fb9f3a\"],[0.8888888888888888,\"#fdca26\"],[1.0,\"#f0f921\"]],\"diverging\":[[0,\"#8e0152\"],[0.1,\"#c51b7d\"],[0.2,\"#de77ae\"],[0.3,\"#f1b6da\"],[0.4,\"#fde0ef\"],[0.5,\"#f7f7f7\"],[0.6,\"#e6f5d0\"],[0.7,\"#b8e186\"],[0.8,\"#7fbc41\"],[0.9,\"#4d9221\"],[1,\"#276419\"]]},\"xaxis\":{\"gridcolor\":\"white\",\"linecolor\":\"white\",\"ticks\":\"\",\"title\":{\"standoff\":15},\"zerolinecolor\":\"white\",\"automargin\":true,\"zerolinewidth\":2},\"yaxis\":{\"gridcolor\":\"white\",\"linecolor\":\"white\",\"ticks\":\"\",\"title\":{\"standoff\":15},\"zerolinecolor\":\"white\",\"automargin\":true,\"zerolinewidth\":2},\"scene\":{\"xaxis\":{\"backgroundcolor\":\"#E5ECF6\",\"gridcolor\":\"white\",\"linecolor\":\"white\",\"showbackground\":true,\"ticks\":\"\",\"zerolinecolor\":\"white\",\"gridwidth\":2},\"yaxis\":{\"backgroundcolor\":\"#E5ECF6\",\"gridcolor\":\"white\",\"linecolor\":\"white\",\"showbackground\":true,\"ticks\":\"\",\"zerolinecolor\":\"white\",\"gridwidth\":2},\"zaxis\":{\"backgroundcolor\":\"#E5ECF6\",\"gridcolor\":\"white\",\"linecolor\":\"white\",\"showbackground\":true,\"ticks\":\"\",\"zerolinecolor\":\"white\",\"gridwidth\":2}},\"shapedefaults\":{\"line\":{\"color\":\"#2a3f5f\"}},\"annotationdefaults\":{\"arrowcolor\":\"#2a3f5f\",\"arrowhead\":0,\"arrowwidth\":1},\"geo\":{\"bgcolor\":\"white\",\"landcolor\":\"#E5ECF6\",\"subunitcolor\":\"white\",\"showland\":true,\"showlakes\":true,\"lakecolor\":\"white\"},\"title\":{\"x\":0.05},\"mapbox\":{\"style\":\"light\"}}},\"title\":{\"text\":\"Tweet Sentiment Distribution\"}},                        {\"responsive\": true}                    ).then(function(){\n",
       "                            \n",
       "var gd = document.getElementById('77207fc0-6d0d-4c97-a720-e9b06844ad53');\n",
       "var x = new MutationObserver(function (mutations, observer) {{\n",
       "        var display = window.getComputedStyle(gd).display;\n",
       "        if (!display || display === 'none') {{\n",
       "            console.log([gd, 'removed!']);\n",
       "            Plotly.purge(gd);\n",
       "            observer.disconnect();\n",
       "        }}\n",
       "}});\n",
       "\n",
       "// Listen for the removal of the full notebook cells\n",
       "var notebookContainer = gd.closest('#notebook-container');\n",
       "if (notebookContainer) {{\n",
       "    x.observe(notebookContainer, {childList: true});\n",
       "}}\n",
       "\n",
       "// Listen for the clearing of the current output cell\n",
       "var outputEl = gd.closest('.output');\n",
       "if (outputEl) {{\n",
       "    x.observe(outputEl, {childList: true});\n",
       "}}\n",
       "\n",
       "                        })                };                            </script>        </div>\n",
       "</body>\n",
       "</html>"
      ]
     },
     "metadata": {},
     "output_type": "display_data"
    }
   ],
   "source": [
    "import plotly.express as px\n",
    "import plotly.graph_objects as go\n",
    "\n",
    "fig = go.Figure(\n",
    "    go.Bar(\n",
    "        x = ['Positive', 'Neutral', 'Negative'],\n",
    "        # Binary label\n",
    "        y = df['label'].value_counts().sort_index()\n",
    "        # One hot label\n",
    "        # y = np.sum(df['label'].values)\n",
    "    )\n",
    ")\n",
    "\n",
    "fig.update_layout(title_text = 'Tweet Sentiment Distribution')\n",
    "fig.show()"
   ]
  },
  {
   "cell_type": "markdown",
   "metadata": {},
   "source": [
    "The tweets are still not balanced, even though the number of negative tweets has now doubled (from 234k to 498k). To make the data more balanced, we can apply undersampling on the neutral tweets. Usually applying undersampling is discouraged since we may lose important features of the data. However, since the data we have is already too big (2.9 million tweets) and we don't use it for a research project, I think it doesn't hurt to apply undersampling, it will also make the training process a lot faster.\n",
    "\n",
    "There are at least 3 types of undersampling:\n",
    "- Stratified (proportionate) undersampling: Take fraction of data from each class proportionally (e.g. 1% of data from each class)\n",
    "- Disproportionate undersampling: Take exactly the same amount of data from each class (e.g. 10000 data from each class)\n",
    "- Random undersampling: Take N amount of data without grouping the data by class distribution (totally random)"
   ]
  },
  {
   "cell_type": "code",
   "execution_count": 25,
   "metadata": {},
   "outputs": [
    {
     "data": {
      "text/html": [
       "<div>\n",
       "<style scoped>\n",
       "    .dataframe tbody tr th:only-of-type {\n",
       "        vertical-align: middle;\n",
       "    }\n",
       "\n",
       "    .dataframe tbody tr th {\n",
       "        vertical-align: top;\n",
       "    }\n",
       "\n",
       "    .dataframe thead th {\n",
       "        text-align: right;\n",
       "    }\n",
       "</style>\n",
       "<table border=\"1\" class=\"dataframe\">\n",
       "  <thead>\n",
       "    <tr style=\"text-align: right;\">\n",
       "      <th></th>\n",
       "      <th>tweet_id</th>\n",
       "      <th>author_id</th>\n",
       "      <th>inbound</th>\n",
       "      <th>created_at</th>\n",
       "      <th>text</th>\n",
       "      <th>response_tweet_id</th>\n",
       "      <th>in_response_to_tweet_id</th>\n",
       "      <th>label</th>\n",
       "      <th>augmented</th>\n",
       "    </tr>\n",
       "  </thead>\n",
       "  <tbody>\n",
       "    <tr>\n",
       "      <th>1382833</th>\n",
       "      <td>1603352</td>\n",
       "      <td>TMobileHelp</td>\n",
       "      <td>False</td>\n",
       "      <td>2017-11-05 07:42:20+00:00</td>\n",
       "      <td>Hi! Yes, there will be a down payment. Send u...</td>\n",
       "      <td>[1603353]</td>\n",
       "      <td>677198</td>\n",
       "      <td>0</td>\n",
       "      <td>False</td>\n",
       "    </tr>\n",
       "    <tr>\n",
       "      <th>1094555</th>\n",
       "      <td>1039342</td>\n",
       "      <td>418675</td>\n",
       "      <td>True</td>\n",
       "      <td>2017-10-26 15:03:40+00:00</td>\n",
       "      <td>ANNOUNCE THE FESTIVE BAKE!</td>\n",
       "      <td>[1275953]</td>\n",
       "      <td>1039331</td>\n",
       "      <td>0</td>\n",
       "      <td>False</td>\n",
       "    </tr>\n",
       "    <tr>\n",
       "      <th>384496</th>\n",
       "      <td>465697</td>\n",
       "      <td>PandoraSupport</td>\n",
       "      <td>False</td>\n",
       "      <td>2017-11-30 23:15:32+00:00</td>\n",
       "      <td>Sorry for the trouble, Jeremy. Perhaps some t...</td>\n",
       "      <td>[465698]</td>\n",
       "      <td>465699</td>\n",
       "      <td>0</td>\n",
       "      <td>False</td>\n",
       "    </tr>\n",
       "    <tr>\n",
       "      <th>508413</th>\n",
       "      <td>606078</td>\n",
       "      <td>264046</td>\n",
       "      <td>True</td>\n",
       "      <td>2017-11-22 11:36:23+00:00</td>\n",
       "      <td>I ordered and paid extra shipping fees for su...</td>\n",
       "      <td>[606080, 606081]</td>\n",
       "      <td>606075</td>\n",
       "      <td>0</td>\n",
       "      <td>False</td>\n",
       "    </tr>\n",
       "    <tr>\n",
       "      <th>302748</th>\n",
       "      <td>368831</td>\n",
       "      <td>Uber_Support</td>\n",
       "      <td>False</td>\n",
       "      <td>2017-10-08 21:46:18+00:00</td>\n",
       "      <td>Here to help! Please send us a note at and we...</td>\n",
       "      <td>&lt;NA&gt;</td>\n",
       "      <td>368832</td>\n",
       "      <td>0</td>\n",
       "      <td>False</td>\n",
       "    </tr>\n",
       "    <tr>\n",
       "      <th>...</th>\n",
       "      <td>...</td>\n",
       "      <td>...</td>\n",
       "      <td>...</td>\n",
       "      <td>...</td>\n",
       "      <td>...</td>\n",
       "      <td>...</td>\n",
       "      <td>...</td>\n",
       "      <td>...</td>\n",
       "      <td>...</td>\n",
       "    </tr>\n",
       "    <tr>\n",
       "      <th>1889220</th>\n",
       "      <td>2140279</td>\n",
       "      <td>629418</td>\n",
       "      <td>True</td>\n",
       "      <td>2017-11-08 22:04:48+00:00</td>\n",
       "      <td>you have lost a customer of 22 years today. Y...</td>\n",
       "      <td>[2140278, 2140280]</td>\n",
       "      <td>&lt;NA&gt;</td>\n",
       "      <td>2</td>\n",
       "      <td>False</td>\n",
       "    </tr>\n",
       "    <tr>\n",
       "      <th>2772782</th>\n",
       "      <td>1362423</td>\n",
       "      <td>Morrisons</td>\n",
       "      <td>False</td>\n",
       "      <td>2016-08-30 15:45:16</td>\n",
       "      <td>Hullo, Aw no, that ' s a pity: (Saint mark</td>\n",
       "      <td>[1362421]</td>\n",
       "      <td>1362424</td>\n",
       "      <td>2</td>\n",
       "      <td>True</td>\n",
       "    </tr>\n",
       "    <tr>\n",
       "      <th>2106433</th>\n",
       "      <td>2374295</td>\n",
       "      <td>684923</td>\n",
       "      <td>True</td>\n",
       "      <td>2017-11-14 01:15:15+00:00</td>\n",
       "      <td>I fucking hate line. It routes the dumbest way...</td>\n",
       "      <td>[2374294]</td>\n",
       "      <td>&lt;NA&gt;</td>\n",
       "      <td>2</td>\n",
       "      <td>False</td>\n",
       "    </tr>\n",
       "    <tr>\n",
       "      <th>1744034</th>\n",
       "      <td>1989394</td>\n",
       "      <td>588748</td>\n",
       "      <td>True</td>\n",
       "      <td>2017-11-21 01:34:41+00:00</td>\n",
       "      <td>Seattle is a joke today! 1st driver \"picked me...</td>\n",
       "      <td>[1989393, 1989395]</td>\n",
       "      <td>&lt;NA&gt;</td>\n",
       "      <td>2</td>\n",
       "      <td>False</td>\n",
       "    </tr>\n",
       "    <tr>\n",
       "      <th>2709036</th>\n",
       "      <td>494601</td>\n",
       "      <td>232951</td>\n",
       "      <td>True</td>\n",
       "      <td>2017-12-01 17:38:43</td>\n",
       "      <td>dead ridiculous help. Meant to get into Greate...</td>\n",
       "      <td>[494600]</td>\n",
       "      <td>&lt;NA&gt;</td>\n",
       "      <td>2</td>\n",
       "      <td>True</td>\n",
       "    </tr>\n",
       "  </tbody>\n",
       "</table>\n",
       "<p>90000 rows × 9 columns</p>\n",
       "</div>"
      ],
      "text/plain": [
       "         tweet_id       author_id  inbound                 created_at  \\\n",
       "1382833   1603352     TMobileHelp    False  2017-11-05 07:42:20+00:00   \n",
       "1094555   1039342          418675     True  2017-10-26 15:03:40+00:00   \n",
       "384496     465697  PandoraSupport    False  2017-11-30 23:15:32+00:00   \n",
       "508413     606078          264046     True  2017-11-22 11:36:23+00:00   \n",
       "302748     368831    Uber_Support    False  2017-10-08 21:46:18+00:00   \n",
       "...           ...             ...      ...                        ...   \n",
       "1889220   2140279          629418     True  2017-11-08 22:04:48+00:00   \n",
       "2772782   1362423       Morrisons    False        2016-08-30 15:45:16   \n",
       "2106433   2374295          684923     True  2017-11-14 01:15:15+00:00   \n",
       "1744034   1989394          588748     True  2017-11-21 01:34:41+00:00   \n",
       "2709036    494601          232951     True        2017-12-01 17:38:43   \n",
       "\n",
       "                                                      text  \\\n",
       "1382833   Hi! Yes, there will be a down payment. Send u...   \n",
       "1094555                         ANNOUNCE THE FESTIVE BAKE!   \n",
       "384496    Sorry for the trouble, Jeremy. Perhaps some t...   \n",
       "508413    I ordered and paid extra shipping fees for su...   \n",
       "302748    Here to help! Please send us a note at and we...   \n",
       "...                                                    ...   \n",
       "1889220   you have lost a customer of 22 years today. Y...   \n",
       "2772782         Hullo, Aw no, that ' s a pity: (Saint mark   \n",
       "2106433  I fucking hate line. It routes the dumbest way...   \n",
       "1744034  Seattle is a joke today! 1st driver \"picked me...   \n",
       "2709036  dead ridiculous help. Meant to get into Greate...   \n",
       "\n",
       "          response_tweet_id  in_response_to_tweet_id  label  augmented  \n",
       "1382833           [1603353]                   677198      0      False  \n",
       "1094555           [1275953]                  1039331      0      False  \n",
       "384496             [465698]                   465699      0      False  \n",
       "508413     [606080, 606081]                   606075      0      False  \n",
       "302748                 <NA>                   368832      0      False  \n",
       "...                     ...                      ...    ...        ...  \n",
       "1889220  [2140278, 2140280]                     <NA>      2      False  \n",
       "2772782           [1362421]                  1362424      2       True  \n",
       "2106433           [2374294]                     <NA>      2      False  \n",
       "1744034  [1989393, 1989395]                     <NA>      2      False  \n",
       "2709036            [494600]                     <NA>      2       True  \n",
       "\n",
       "[90000 rows x 9 columns]"
      ]
     },
     "execution_count": 25,
     "metadata": {},
     "output_type": "execute_result"
    }
   ],
   "source": [
    "# Apply stratified undersampling on the dataframe\n",
    "# df = df.groupby('label', group_keys = False).apply(lambda x: x.sample(frac = 0.03, random_state = 1337))\n",
    "\n",
    "# Apply disproportionate undersampling on the dataframe\n",
    "df = df.groupby('label', group_keys = False).apply(lambda x: x.sample(n = 30000, random_state = 1337))\n",
    "\n",
    "# Apply random undersampling on the dataframe\n",
    "# Can also use \"frac\" instead of \"n\"\n",
    "# df = df.sample(n = 90000)\n",
    "\n",
    "df"
   ]
  },
  {
   "cell_type": "markdown",
   "metadata": {},
   "source": [
    "After applying oversampling/undersampling, ideally we should test whether the model loss curve is similar or not (compared to the unchanged dataset), see [this article](https://freedium.cfd/https://towardsdatascience.com/your-dataset-is-imbalanced-do-nothing-abf6a0049813) for some details. If the curve changed drastically, it means that we may have lose important features of the data."
   ]
  },
  {
   "cell_type": "markdown",
   "metadata": {},
   "source": [
    "#### **Basic Text Preprocessing (2)**\n",
    "We need to apply additional preprocessing to reduce LSTM model complexity. Since tokenization will be applied later, things like punctuations, mixed string case, and other unexpected elements can be interpreted differently by the model if not normalized beforehand (e.g. `I'm`, `I am`, and `i am` are all different words).\n",
    "\n",
    "However, if applied earlier, it can negatively affect VADER's accuracy, because VADER can also detect sentiment based on many factors, including string case and punctuations (`IT WAS SO FRUSTATING!!!`, etc).\n",
    "\n",
    "We need to:\n",
    "- Remove punctuations\n",
    "- Convert text to lowercase\n",
    "- Remove single character word\n",
    "- Remove stopwords - **NOT USED**\n",
    "- Apply stemming/lemmatization - **NOT USED**"
   ]
  },
  {
   "cell_type": "code",
   "execution_count": 26,
   "metadata": {},
   "outputs": [
    {
     "name": "stdout",
     "output_type": "stream",
     "text": [
      "{'ain', 'will', 'they', 'all', \"it's\", 'as', 'should', 'with', 'does', 'for', 'nor', \"mightn't\", \"that'll\", 'over', 'again', 'haven', \"wasn't\", 'be', 'him', 'under', 'shan', 'here', \"won't\", 'then', 'whom', 'their', 'been', 'doing', 'further', 'shouldn', 'your', 'most', 'an', 'were', 'what', \"you've\", 'few', 're', 'doesn', \"hasn't\", 'we', 'at', 'these', \"shouldn't\", 'its', 'some', 'a', 'our', 'such', 'against', \"isn't\", 'she', 'ma', 'theirs', 'that', \"aren't\", 'having', 'in', 'don', 'on', 'each', 'of', 'any', 'more', 'y', 'up', 'did', 'wasn', 'where', 'if', 'other', 'about', \"wouldn't\", 'needn', 'yours', 'yourself', 'he', 'is', 'through', \"doesn't\", 'isn', \"couldn't\", 'mightn', 'd', 'm', 'to', 'itself', 'not', 'same', 'hasn', 'themselves', 'during', 'll', 'didn', 'my', 'you', 'am', 'own', 'why', \"haven't\", 'now', 'but', 'hadn', 'after', 'no', 'which', 'when', 'the', \"should've\", 'there', 'so', 'once', \"you'd\", 'while', 'how', 'into', 's', 'it', 'being', 'very', 'ourselves', \"weren't\", 'myself', 'below', 'had', 'between', 'from', 'are', 'me', 'because', 'hers', 'o', 'those', \"she's\", 'his', 'who', 'won', 'off', \"shan't\", 'wouldn', 'until', 'was', \"didn't\", \"needn't\", 'can', 'both', 'mustn', 've', 'couldn', 'herself', 'only', 'than', \"mustn't\", 'out', \"hadn't\", 'have', 't', 'above', 'has', 'them', 'i', 'her', \"you're\", 'before', 'too', 'by', 'and', 'this', 'ours', 'just', 'down', 'or', \"don't\", 'do', 'weren', \"you'll\", 'aren', 'himself', 'yourselves'}\n"
     ]
    }
   ],
   "source": [
    "# Stopwords we used when we did tweet augmentation earlier\n",
    "print(stop_words)"
   ]
  },
  {
   "cell_type": "code",
   "execution_count": 27,
   "metadata": {},
   "outputs": [
    {
     "name": "stdout",
     "output_type": "stream",
     "text": [
      "Original: Not good... I got the \"Access Denied\" error when opening the application 😤 \n",
      "\n",
      "Porter: not good got the access deni error when open the applic 😤\n",
      "Snowball: not good got the access deni error when open the applic 😤\n",
      "WordNet: not good got the access denied error when opening the application 😤\n",
      "Stopwords: good got access denied error opening application 😤\n",
      "Default: not good got the access denied error when opening the application 😤\n"
     ]
    }
   ],
   "source": [
    "import string\n",
    "from nltk.stem import SnowballStemmer\n",
    "from nltk.stem import WordNetLemmatizer\n",
    "\n",
    "# =================================\n",
    "# Stemmer or lemmatizer\n",
    "# =================================\n",
    "\n",
    "# Stemmer\n",
    "porter = SnowballStemmer('porter')\n",
    "snowball = SnowballStemmer('english')\n",
    "\n",
    "# Lemmatizer\n",
    "try:\n",
    "    wordnet = WordNetLemmatizer()\n",
    "except:\n",
    "    nltk.download('wordnet')\n",
    "    wordnet = WordNetLemmatizer()\n",
    "\n",
    "# =================================\n",
    "# LSTM preprocessing function\n",
    "# =================================\n",
    "\n",
    "def preproc_for_model(value: str, stemmer = None, stop_words = None):\n",
    "    # Remove punctuations (and emoticons)\n",
    "    value = re.sub(f'[{string.punctuation}]', ' ', value)\n",
    "    # Lowercase, but ignore unicode characters\n",
    "    value = value.casefold()\n",
    "    # Remove 1-character word\n",
    "    value = re.sub(r'\\b[a-zA-Z]\\b', '', value)\n",
    "    # Replace multiple spaces with a single space\n",
    "    value = re.sub(r'\\s+', ' ', value)\n",
    "\n",
    "    if stemmer or stop_words:\n",
    "        # Split sentence as words (tokenization)\n",
    "        word_token = value.split()\n",
    "\n",
    "        if stop_words:\n",
    "            # Remove stop words (must be prioritized before stemmer)\n",
    "            word_token = [ word for word in word_token if word not in stop_words ]\n",
    "        if stemmer:\n",
    "            # Stem/lemmatize words\n",
    "            try: word_token = [ stemmer.lemmatize(word) for word in word_token ]\n",
    "            except: word_token = [ stemmer.stem(word) for word in word_token ]\n",
    "\n",
    "        # Join the tokenized words again\n",
    "        # A bit inefficient if we use it with TextVectorization layer\n",
    "        value = ' '.join(word_token)\n",
    "    \n",
    "    return value\n",
    "\n",
    "def preproc_all(value: str, stemmer = None):\n",
    "    # Remove URLs, mentions, hashtags, etc\n",
    "    value = preproc_useless_info(value)\n",
    "    # Remove punctuations, stopwords, etc\n",
    "    value = preproc_for_model(value, stemmer)\n",
    "    return value\n",
    "\n",
    "# =================================\n",
    "# Test the preprocessing function\n",
    "# =================================\n",
    "\n",
    "text = 'Not good... I got the \"Access Denied\" error when opening the application 😤'\n",
    "print('Original:', text, '\\n')\n",
    "\n",
    "print('Porter:', preproc_for_model(text, porter))\n",
    "print('Snowball:', preproc_for_model(text, snowball))\n",
    "print('WordNet:', preproc_for_model(text, wordnet))\n",
    "print('Stopwords:', preproc_for_model(text, None, stop_words))\n",
    "print('Default:', preproc_for_model(text))"
   ]
  },
  {
   "cell_type": "markdown",
   "metadata": {},
   "source": [
    "- As you can see, the stemmer and lemmatizer didn't give good enough results, and similar words can also have slightly different meaning (like VADER scoring system). So, we can just skip it if we want to follow VADER's approach.\n",
    "\n",
    "- As for stopwords removal, it doesn't give a good result either. By default, NLTK's stopwords will remove important features for sentiment analysis, such as `not`, `very`, `most`, etc, while the ones we need to remove are mostly conjunction/transition words (e.g. `although`, `with`, `that`). Unless we want to build our own stopwords list, then it's better to just skip it as it brings more harm than good.\n",
    "\n",
    "The preprocessing will be done right before we apply tokenization/vectorization, so there's no need to apply it right now."
   ]
  },
  {
   "cell_type": "code",
   "execution_count": 28,
   "metadata": {},
   "outputs": [],
   "source": [
    "# df = df.swifter.apply(preproc_for_model)"
   ]
  },
  {
   "cell_type": "markdown",
   "metadata": {},
   "source": [
    "### **LSTM Model Training**"
   ]
  },
  {
   "cell_type": "markdown",
   "metadata": {},
   "source": [
    "#### **Split Training and Test Data**"
   ]
  },
  {
   "cell_type": "code",
   "execution_count": 29,
   "metadata": {},
   "outputs": [],
   "source": [
    "from sklearn.model_selection import train_test_split\n",
    "from sklearn.preprocessing import OneHotEncoder\n",
    "\n",
    "def label_transformer(label_list: pd.Series, class_mode = 'binary'):\n",
    "    if label_list.dtype == np.int64: # Already in binary\n",
    "        if class_mode == 'one_hot':\n",
    "            # Change array shape from [0 1 2 ...] to [[0] [1] [2] ...]\n",
    "            label_list = np.reshape(label_list.values, (-1, 1))\n",
    "            return OneHotEncoder(sparse = False).fit_transform(label_list)\n",
    "        elif class_mode == 'binary':\n",
    "            return label_list\n",
    "    else: # Already one hot encoded\n",
    "        # Fix nested array data type from (object,int) to (int,int)\n",
    "        label_list =  np.stack(label_list.values)\n",
    "        if class_mode == 'one_hot':\n",
    "            return label_list\n",
    "        elif class_mode == 'binary':\n",
    "            return np.argmax(label_list, axis = 1)\n",
    "\n",
    "# Label type (use one hot or binary)\n",
    "# It depends on the model you want to design (sparse or categorical)\n",
    "# Sparse model return probability, while categorical model return label\n",
    "label = label_transformer(df['label'], 'binary')\n",
    "\n",
    "# X is the data (text), while Y is the label (class)\n",
    "x_train, x_test, y_train, y_test = train_test_split(\n",
    "    df['text'],\n",
    "    label,\n",
    "    test_size = 0.2,\n",
    "    # Distribute the data evenly\n",
    "    stratify = label,\n",
    "    # Seed for reproducibility\n",
    "    random_state = 1337\n",
    ")"
   ]
  },
  {
   "cell_type": "code",
   "execution_count": 30,
   "metadata": {},
   "outputs": [
    {
     "name": "stdout",
     "output_type": "stream",
     "text": [
      "2799950    Atomic number 53 bought my safaricom strain so...\n",
      "2150051     The is not the experience we want our guests ...\n",
      "1868750     you never replied my recent tweets but why ca...\n",
      "341469      Hi, thx for reaching out to. I'd like to help...\n",
      "1845158     Change acct plan FROM the $500/yr-Indvid-Pro ...\n",
      "                                 ...                        \n",
      "1381647     my day was already bad then your ATMs decide ...\n",
      "589244      I've tasted the festive bake and ive seen the...\n",
      "1295588     It’s fine. She was licensed to carry. She had...\n",
      "608717      Welcome to the family! If you ever need us we...\n",
      "1183189     I was victim of phishing and my identity hack...\n",
      "Name: text, Length: 72000, dtype: object\n",
      "2799950    2\n",
      "2150051    0\n",
      "1868750    0\n",
      "341469     0\n",
      "1845158    1\n",
      "          ..\n",
      "1381647    1\n",
      "589244     1\n",
      "1295588    1\n",
      "608717     0\n",
      "1183189    2\n",
      "Name: label, Length: 72000, dtype: int64\n"
     ]
    }
   ],
   "source": [
    "print(x_train)\n",
    "print(y_train)"
   ]
  },
  {
   "cell_type": "markdown",
   "metadata": {},
   "source": [
    "#### **Defining Layers**"
   ]
  },
  {
   "cell_type": "markdown",
   "metadata": {},
   "source": [
    "The terms `vector` and `array` are interchangeable.\n",
    "\n",
    "- Tokenization: split sentence to words\n",
    "- Vocabulary: list of known words (usually after tokenization process)\n",
    "- Vectorization: transform the words to other form (one hot encoding, index based, TF-IDF, etc) based on a vocabulary\n",
    "\n",
    "Note that when defining vocabulary size, 1-2 spaces will usually be reserved for OOV (out-of-vocabulary) and/or empty word. There are 2 at least to ways to do tokenization and vectorization:\n",
    "- `Tokenizer` (function) will reserve 1 space\n",
    "- `TextVectorization` (layer) will reserve 2 spaces\n",
    "\n",
    "So you may want to add +1/+2 vocabulary size depending on what you want to use."
   ]
  },
  {
   "cell_type": "code",
   "execution_count": 31,
   "metadata": {},
   "outputs": [],
   "source": [
    "# Max words/features/vocabulary to save (most frequent words only)\n",
    "# For comparison, the latest VADER (v3.3.2) has 11090 vocabulary (combined with emojis)\n",
    "# We should at least match that so the result will be comparable\n",
    "max_vocab = 12000\n",
    "# Max words for each sentence\n",
    "# Sentence longer than that will be truncated\n",
    "max_len = 50\n",
    "# Indicator if you want to use Tokenizer on the model\n",
    "# Otherwise, TextVectorization layer will be used\n",
    "use_tokenizer = True"
   ]
  },
  {
   "cell_type": "markdown",
   "metadata": {},
   "source": [
    "There are many ways to convert words to vectors, you can either use:\n",
    "- One Hot Encoding\n",
    "- Count\n",
    "- TF-IDF\n",
    "- Word Index\n",
    "\n",
    "The problem with one hot encoding is that each array size can be very big (since it's a binary array). For example, if there are 1000 rows (tweets) with 5000 vocab size, then it would produce 1000 arrays, each with 5000 length, which can be worse depending on the batch and data size (2.9 million tweets?).\n",
    "\n",
    "That's why when using `Tokenizer`, `text_to_sequences` (int/word index based array) is preferred rather than `texts_to_matrix` (TF-IDF, one hot encoding, count, etc) nowadays.\n",
    "\n",
    "We can also use `TextVectorization`, which does the same as `Tokenizer`, but can be integrated to the model directly (as preprocessing layer)."
   ]
  },
  {
   "cell_type": "code",
   "execution_count": 32,
   "metadata": {},
   "outputs": [
    {
     "name": "stdout",
     "output_type": "stream",
     "text": [
      "WARNING:tensorflow:From c:\\Users\\Dhika\\Documents\\Projects\\Proto\\Python\\NLP_Cust\\.venv\\Lib\\site-packages\\keras\\src\\losses.py:2976: The name tf.losses.sparse_softmax_cross_entropy is deprecated. Please use tf.compat.v1.losses.sparse_softmax_cross_entropy instead.\n",
      "\n"
     ]
    },
    {
     "data": {
      "application/vnd.jupyter.widget-view+json": {
       "model_id": "33b217d2f9834544ad4e54ee2af1873c",
       "version_major": 2,
       "version_minor": 0
      },
      "text/plain": [
       "Pandas Apply:   0%|          | 0/72000 [00:00<?, ?it/s]"
      ]
     },
     "metadata": {},
     "output_type": "display_data"
    },
    {
     "data": {
      "application/vnd.jupyter.widget-view+json": {
       "model_id": "7c8b3e0c370648528f736aaa7f657aca",
       "version_major": 2,
       "version_minor": 0
      },
      "text/plain": [
       "Pandas Apply:   0%|          | 0/18000 [00:00<?, ?it/s]"
      ]
     },
     "metadata": {},
     "output_type": "display_data"
    },
    {
     "name": "stdout",
     "output_type": "stream",
     "text": [
      "{'[UNK]': 1, 'to': 2, 'the': 3, 'you': 4, 'and': 5, 'for': 6, 'we': 7, 'your': 8, 'this': 9, 'is': 10, 'it': 11, 'my': 12, 'in': 13, 'on': 14, 'can': 15, 'with': 16, 'of': 17, 'us': 18, 'have': 19, 'that': 20, 'please': 21, 'so': 22, 'be': 23, 'me': 24, 'dm': 25, 'not': 26, 'help': 27, 'are': 28, 'no': 29, 'if': 30, 'out': 31, 'but': 32, 'at': 33, 'our': 34, 'thanks': 35, 'get': 36, 'what': 37, 'was': 38, 're': 39, 'there': 40, 'from': 41, 'do': 42, 'hi': 43, 'sorry': 44, 'here': 45, 'up': 46, 'as': 47, 'will': 48, 'service': 49, 'just': 50, '2': 51, 'an': 52, 'they': 53, 'like': 54, 'or': 55, 'all': 56, '’': 57, 'when': 58, 'any': 59, 'number': 60, 'll': 61, 'now': 62, 'about': 63, 'been': 64, 'know': 65, 'one': 66, 'send': 67, 'look': 68, 'more': 69, 'let': 70, 'how': 71, 'account': 72, 'time': 73, '1': 74, 'phone': 75, 'would': 76, 'thank': 77, 'has': 78, 'into': 79, 'back': 80, 'why': 81, 'need': 82, 'amp': 83, 'by': 84, 'order': 85, 'email': 86, 'still': 87, 'issue': 88, 'happy': 89, 'team': 90, 've': 91, 'had': 92, 'hey': 93, 'see': 94, 'take': 95, 'address': 96, 'am': 97, 'want': 98, 'customer': 99, 'hear': 100, 'flight': 101, 'don': 102, 'check': 103, 'details': 104, 'day': 105, 'assist': 106, 'make': 107, 'update': 108, 'today': 109, 'again': 110, 'got': 111, 'could': 112, 'them': 113, 'after': 114, 'only': 115, 'off': 116, 'app': 117, 'go': 118, 'information': 119, 'via': 120, 'call': 121, 'experience': 122, 'very': 123, 'new': 124, '3': 125, 'further': 126, 'great': 127, 'did': 128, 'then': 129, 'store': 130, 'over': 131, 'some': 132, 'which': 133, 'hello': 134, 'good': 135, 'work': 136, 'love': 137, 'going': 138, 'contact': 139, 'iphone': 140, 'support': 141, 'having': 142, 'way': 143, 'really': 144, 'even': 145, 'link': 146, 'sure': 147, 'try': 148, 'use': 149, 'delivery': 150, 'should': 151, 'issues': 152, 'able': 153, 'message': 154, 'fix': 155, 'same': 156, 'were': 157, 'it’': 158, 'because': 159, 'name': 160, 'getting': 161, 'info': 162, 'working': 163, 'bad': 164, 'being': 165, 'also': 166, 'give': 167, 'full': 168, 'right': 169, 'too': 170, 'down': 171, 'does': 172, 'feedback': 173, 'reach': 174, 'never': 175, 'their': 176, 'problem': 177, 'other': 178, 'free': 179, 'than': 180, 'using': 181, 'glad': 182, 'since': 183, 'ios': 184, 'follow': 185, 'last': 186, 'these': 187, 'keep': 188, 'always': 189, 'card': 190, 'already': 191, 'best': 192, 'who': 193, 'assistance': 194, 'pay': 195, '️': 196, 'delay': 197, 'anything': 198, 'where': 199, 'days': 200, 'find': 201, 'driver': 202, 'every': 203, 'provide': 204, 'guys': 205, 'train': 206, 'hope': 207, 'error': 208, 'may': 209, 'yet': 210, 'amazon': 211, 'much': 212, 'through': 213, 'reaching': 214, 'worst': 215, 'money': 216, 'internet': 217, 'trying': 218, 'tell': 219, 'soon': 220, 'device': 221, 'before': 222, 'another': 223, '4': 224, 'trouble': 225, '11': 226, 'well': 227, 'ever': 228, 'he': 229, 'apologies': 230, 'wait': 231, 'feel': 232, 'share': 233, 'available': 234, 'sent': 235, 'two': 236, 'tried': 237, 'first': 238, 'code': 239, 'shit': 240, 'response': 241, 'refund': 242, 'people': 243, 'oh': 244, 'appreciate': 245, 'better': 246, 'gt': 247, 'its': 248, 'yes': 249, 'hours': 250, 'received': 251, 'something': 252, 'due': 253, 'next': 254, 'online': 255, 'care': 256, 'change': 257, '5': 258, 'understand': 259, 'say': 260, '10': 261, 'didn': 262, 'wrong': 263, 'delayed': 264, 'line': 265, 'come': 266, 'reply': 267, 'told': 268, 'doesn': 269, 'home': 270, 'without': 271, 'pass': 272, 'chat': 273, 'kindly': 274, 'week': 275, 'atomic': 276, 'morning': 277, 'date': 278, 'don’': 279, 'package': 280, 'done': 281, 'apologize': 282, 'version': 283, 'game': 284, 'customers': 285, 'hour': 286, 'else': 287, 'stop': 288, 'wtf': 289, 'services': 290, 'someone': 291, 'away': 292, 'think': 293, 'single': 294, 'waiting': 295, 'client': 296, 'twitter': 297, 'offer': 298, 'touch': 299, 'can’': 300, 'nothing': 301, 'minutes': 302, 'long': 303, 'month': 304, 'item': 305, 'times': 306, 'late': 307, 'said': 308, 'won': 309, 'website': 310, 'mobile': 311, 'idea': 312, 'delivered': 313, 'says': 314, 'note': 315, 'made': 316, '7': 317, 'until': 318, 'ticket': 319, 'charge': 320, 'while': 321, 'inconvenience': 322, 'hate': 323, 'ace': 324, 'request': 325, 'direct': 326, 'many': 327, 'apple': 328, 'uber': 329, 'connect': 330, 'pls': 331, 'product': 332, 'currently': 333, 'looking': 334, 'unity': 335, 'cancel': 336, 'cancelled': 337, 'isn': 338, 'welcome': 339, '’ve': 340, 'most': 341, 'set': 342, 'hold': 343, 'steps': 344, 'buy': 345, 'concern': 346, 'lost': 347, 'possible': 348, 'her': 349, 'battery': 350, 'receive': 351, 'data': 352, 'network': 353, '53': 354, 'mail': 355, 'put': 356, 'credit': 357, 'business': 358, 'place': 359, 'start': 360, 'happened': 361, 'once': 362, 'live': 363, 'thing': 364, 'poor': 365, 'continue': 366, 'ane': 367, 'system': 368, 'ordered': 369, 'charged': 370, 'ur': 371, 'end': 372, 'ago': 373, '😡': 374, 'around': 375, 'she': 376, 'case': 377, 'staff': 378, 'fuck': 379, 'technology': 380, 'ok': 381, 'return': 382, 'food': 383, 'company': 384, 'option': 385, 'tracking': 386, '😭': 387, 'access': 388, 'iodine': 389, 'together': 390, '6': 391, 'year': 392, 'point': 393, 'show': 394, 'iodin': 395, 'though': 396, 'tweet': 397, 'click': 398, 'everything': 399, 'future': 400, 'doing': 401, 'questions': 402, '30': 403, 'ask': 404, 'leave': 405, 'few': 406, 'prime': 407, 'options': 408, 'night': 409, 'yesterday': 410, 'open': 411, 'forward': 412, 'both': 413, 'location': 414, 'review': 415, 'paid': 416, 'started': 417, 'called': 418, 'left': 419, 'run': 420, 'resolved': 421, 'running': 422, 'bought': 423, 'xbox': 424, 'longer': 425, 'disappointed': 426, 'saying': 427, 'updated': 428, 'answer': 429, 'question': 430, 'reason': 431, 'page': 432, 'screen': 433, 'definitely': 434, 'following': 435, 'tomorrow': 436, 'play': 437, 'seat': 438, 'life': 439, 'anyone': 440, '8': 441, 'haven': 442, 'watch': 443, 'used': 444, 'tv': 445, 'price': 446, 'old': 447, 'job': 448, 'music': 449, 'things': 450, 'report': 451, 'connection': 452, 'unable': 453, 'travel': 454, 'fucking': 455, 'plan': 456, 'those': 457, 'seems': 458, 'such': 459, 'im': 460, 'wifi': 461, 'experiencing': 462, 'updates': 463, 'confirmation': 464, 'went': 465, 'add': 466, 'state': 467, 'trip': 468, 'flying': 469, 'bank': 470, 'provided': 471, 'fixed': 472, 'sound': 473, 'bill': 474, 'payment': 475, 'kind': 476, 'booking': 477, 'actually': 478, 'happening': 479, 'type': 480, 'however': 481, '24': 482, 'his': 483, 'ride': 484, 'making': 485, 'asap': 486, 'purchase': 487, 'site': 488, 'area': 489, 'concerns': 490, 'box': 491, 'apps': 492, 'caused': 493, 'bag': 494, 'post': 495, 'computer': 496, 'turn': 497, 'cannot': 498, 'person': 499, 'resolve': 500, 'enjoy': 501, 'deliver': 502, 'spotify': 503, 'confirm': 504, 'problems': 505, 'regarding': 506, 'software': 507, 'sharing': 508, 'airport': 509, 'items': 510, 'under': 511, 'lose': 512, 'stock': 513, 'unhappy': 514, 'visit': 515, 'claim': 516, 'tonight': 517, 'taking': 518, 'non': 519, 'months': 520, 'id': 521, '20': 522, 'hard': 523, 'regards': 524, 'closer': 525, 'gate': 526, 'years': 527, 'flights': 528, 'manager': 529, 'upgrade': 530, 'book': 531, 'along': 532, 'happen': 533, 'weeks': 534, 'keeps': 535, '0': 536, 'miss': 537, 'drive': 538, 'sign': 539, 'took': 540, 'extra': 541, 'fine': 542, 'terrible': 543, 'member': 544, 'seeing': 545, 'chance': 546, 'later': 547, 'patience': 548, 'stay': 549, 'different': 550, 'nice': 551, 'awesome': 552, 'deal': 553, 'process': 554, 'found': 555, 'big': 556, 'mind': 557, 'within': 558, 'ignore': 559, 'everyone': 560, 'missing': 561, 'meet': 562, 'board': 563, 'real': 564, 'far': 565, 'broken': 566, 'mean': 567, 'personal': 568, 'literally': 569, 'calls': 570, 'er': 571, 'local': 572, 'pick': 573, 'helps': 574, 'frustration': 575, 'checked': 576, 'cable': 577, 'car': 578, 'frustrating': 579, 'complaint': 580, 'looks': 581, 'speak': 582, 'settings': 583, 'horrible': 584, 'fee': 585, 'sort': 586, 'ty': 587, 'didn’': 588, 'instead': 589, '”': 590, 'dear': 591, 'family': 592, 'directly': 593, '“': 594, 'trains': 595, 'either': 596, 'moment': 597, 'you’re': 598, 'bit': 599, 'him': 600, 'lot': 601, 'matter': 602, 'asked': 603, 'telephone': 604, 'little': 605, 'allow': 606, 'half': 607, 'fly': 608, 'doesn’': 609, 'talk': 610, 'absolutely': 611, '’all': 612, 'plane': 613, 'taken': 614, 'cause': 615, 'guy': 616, 'drop': 617, '15': 618, 'unfortunately': 619, 'earlier': 620, 'given': 621, 'seriously': 622, 'hell': 623, 'wherefore': 624, 'expect': 625, 'missed': 626, 'okay': 627, 'arrive': 628, 'drivers': 629, 'own': 630, 'enough': 631, 'ass': 632, 'messages': 633, 'that’': 634, 'rude': 635, 'weekend': 636, 'high': 637, 'works': 638, 'minute': 639, 'evil': 640, 'we’re': 641, 'ridiculous': 642, 'read': 643, 'form': 644, 'almost': 645, 'below': 646, 'truly': 647, 'dont': 648, 'part': 649, 'crew': 650, 'class': 651, 'slow': 652, 'log': 653, 'mins': 654, 'sending': 655, 'specific': 656, 'sucks': 657, 'agent': 658, 'evening': 659, 'break': 660, 'journey': 661, 'resolution': 662, 'least': 663, 'shows': 664, 'sad': 665, 'second': 666, 'security': 667, 'correct': 668, 'during': 669, 'showing': 670, 'london': 671, 'coming': 672, 'happens': 673, 'between': 674, 'twice': 675, 'damn': 676, 'paying': 677, 'advise': 678, 'past': 679, 'mark': 680, '12': 681, 'wasn': 682, 'shipping': 683, 'country': 684, 'seats': 685, 'gonna': 686, 'ups': 687, 'additional': 688, 'important': 689, 'needs': 690, 'lyft': 691, 'respond': 692, 'switch': 693, 'wanted': 694, 'stores': 695, 'carrier': 696, 'plus': 697, 'recommend': 698, 'content': 699, 'certainly': 700, 'latest': 701, 'might': 702, 'whole': 703, 'cant': 704, 'download': 705, 'move': 706, 'christmas': 707, 'orders': 708, 'man': 709, 'maybe': 710, 'each': 711, 'couldn': 712, 'arrived': 713, 'ready': 714, 'pre': 715, 'zip': 716, 'awful': 717, 'require': 718, 'wish': 719, 'air': 720, 'bring': 721, 'shout': 722, 'helpful': 723, 'annoying': 724, 'power': 725, 'acct': 726, 'thought': 727, 'ne': 728, 'text': 729, 'house': 730, 'english': 731, 'delays': 732, 'gone': 733, 'amazing': 734, 'aware': 735, 'station': 736, 'stuck': 737, 'status': 738, 'supposed': 739, 'useless': 740, 'needed': 741, 'sounds': 742, 'world': 743, 'tickets': 744, 'paypal': 745, 'worry': 746, 'letting': 747, 'video': 748, 'fail': 749, 'current': 750, 'clear': 751, 'fault': 752, 'won’': 753, 'lol': 754, 'situation': 755, 'asking': 756, 'rest': 757, 'policy': 758, 'receipt': 759, 'worse': 760, 'friday': 761, 'posted': 762, 'giving': 763, 'purchased': 764, '9': 765, '🙄': 766, 'quick': 767, 'seem': 768, 'join': 769, 'stupid': 770, 'replacement': 771, 'top': 772, 'exactly': 773, 'ii': 774, 'less': 775, 'completely': 776, '100': 777, 'hulu': 778, 'reset': 779, 'premium': 780, 'gave': 781, 'delta': 782, 'mistake': 783, 'record': 784, 'came': 785, 'consider': 786, 'ill': 787, 'calendar': 788, 'expected': 789, 'makes': 790, 'booked': 791, 'public': 792, 'investigate': 793, 'view': 794, 'black': 795, 'exact': 796, 'close': 797, 'goes': 798, 'file': 799, 'per': 800, 'friend': 801, 'numbers': 802, 'changed': 803, 'list': 804, 'sorted': 805, 'failed': 806, 'changes': 807, 'shopping': 808, 'multiple': 809, 'gets': 810, '50': 811, 'complete': 812, 'must': 813, 'article': 814, 'worked': 815, 'what’': 816, 'checking': 817, 'fill': 818, 'suck': 819, 'shop': 820, 'party': 821, 'min': 822, 'playing': 823, 'believe': 824, '😊': 825, 'model': 826, 'comments': 827, 'finally': 828, 'pathetic': 829, 'recent': 830, 'speed': 831, 'we’ll': 832, 'seller': 833, 'wow': 834, 'office': 835, 'wouldn': 836, 'serve': 837, 'onboard': 838, 'super': 839, 'cost': 840, 'web': 841, 'gift': 842, 'demand': 843, 'room': 844, 'emails': 845, 'calling': 846, '’ll': 847, 'guess': 848, 'till': 849, 'isn’': 850, 'monday': 851, 'early': 852, 'fun': 853, 'pretty': 854, 'afraid': 855, 'rgds': 856, 'displease': 857, 'amount': 858, 'sell': 859, 'contacted': 860, 'social': 861, 'baggage': 862, 'dead': 863, 'delete': 864, 'packaging': 865, 'plz': 866, 'disappointing': 867, 'airline': 868, 'points': 869, 'explain': 870, 'yeah': 871, 'telling': 872, 'products': 873, 'news': 874, 'stuff': 875, 'passed': 876, 'detail': 877, 'ps4': 878, 'side': 879, 'hrs': 880, 'learn': 881, 'signal': 882, 'shortly': 883, 'improve': 884, '00': 885, 'james': 886, 'waste': 887, 'anymore': 888, 'center': 889, 'screenshot': 890, 'hand': 891, 'shoot': 892, 'yo': 893, '1st': 894, 'boarding': 895, 'lack': 896, 'letter': 897, 'private': 898, 'passengers': 899, 'squad': 900, 'packages': 901, 'updating': 902, 'heard': 903, 'suffer': 904, 'connected': 905, 'accept': 906, 'picture': 907, 'disappointment': 908, 'sick': 909, 'suggest': 910, 'track': 911, 'states': 912, 'ba': 913, 'piece': 914, 'reservation': 915, 'charges': 916, 'four': 917, 'password': 918, 'hp': 919, 'cc': 920, 'fast': 921, 'devices': 922, 'restart': 923, 'release': 924, 'deuce': 925, 'chris': 926, 'wireless': 927, 'hasn': 928, 'catch': 929, 'twenty': 930, 'contacting': 931, 'aren': 932, 'solution': 933, 'bags': 934, 'ac': 935, 'channel': 936, 'mess': 937, 'uk': 938, 'three': 939, '😠': 940, 'ensure': 941, 'troubleshooting': 942, 'word': 943, 'avail': 944, 'quite': 945, 'repair': 946, 'games': 947, 'cool': 948, 'thx': 949, 'sometimes': 950, 'mine': 951, 'figure': 952, 'sim': 953, 'season': 954, 'windows': 955, 'console': 956, 'parcel': 957, '😩': 958, 'value': 959, 'subscription': 960, '17': 961, 'responded': 962, 'cut': 963, '£': 964, 'totally': 965, 'friends': 966, 'euston': 967, 'requested': 968, 'shared': 969, 'platform': 970, 'means': 971, 'control': 972, 'safe': 973, 'installed': 974, 'lovely': 975, 'original': 976, 'anyway': 977, 'discuss': 978, 'fraud': 979, 'recently': 980, 'notice': 981, 'spent': 982, 'we’': 983, 'replied': 984, 'laptop': 985, 'listen': 986, 'john': 987, 'bc': 988, 'outage': 989, 'comes': 990, 'select': 991, 'seen': 992, 'button': 993, 'general': 994, 'ship': 995, 'cs': 996, 'feature': 997, 'scam': 998, 'hr': 999, 'choice': 1000, 'chicken': 1001, 'hopefully': 1002, '2017': 1003, 'sprint': 1004, 'transfer': 1005, 'club': 1006, 'tesco': 1007, 'india': 1008, 'hotel': 1009, 'added': 1010, 'mm': 1011, 'net': 1012, 'attention': 1013, 'street': 1014, 'helping': 1015, 'certain': 1016, 'ad': 1017, 'rep': 1018, 'photo': 1019, 'frustrated': 1020, 'united': 1021, 'bullshit': 1022, 'accounts': 1023, 'reference': 1024, 'ahead': 1025, 'tech': 1026, 'damaged': 1027, 'block': 1028, 'offers': 1029, 'verizon': 1030, 'quality': 1031, 'smh': 1032, 'barcode': 1033, 'double': 1034, 'pop': 1035, 'media': 1036, 'fire': 1037, 'previous': 1038, 'luggage': 1039, 'tired': 1040, 'eye': 1041, 'luck': 1042, 'shame': 1043, 'lie': 1044, 'cancellation': 1045, 'bug': 1046, 'save': 1047, 'damage': 1048, '2nd': 1049, 'ap': 1050, 'crap': 1051, 'router': 1052, 'action': 1053, 'pizza': 1054, 'extremely': 1055, 'route': 1056, 'short': 1057, 'apology': 1058, 'normal': 1059, 'couple': 1060, 'others': 1061, 'unacceptable': 1062, 'rr': 1063, 'load': 1064, 'stick': 1065, 'city': 1066, '40': 1067, 'user': 1068, 'incorrect': 1069, '4g': 1070, 'haven’': 1071, 'wood': 1072, 'affected': 1073, 'front': 1074, 'anytime': 1075, 'bottom': 1076, 'sold': 1077, 'wonderful': 1078, 'pm': 1079, 'cb': 1080, 'joke': 1081, 'leaving': 1082, 'quickly': 1083, 'river': 1084, 'disgusting': 1085, 'comcast': 1086, 'afternoon': 1087, 'carry': 1088, 'several': 1089, 'apparently': 1090, 'browser': 1091, 'chase': 1092, 'small': 1093, 'cash': 1094, '3rd': 1095, 'associated': 1096, 'charging': 1097, 'itunes': 1098, 'rather': 1099, 'shipped': 1100, 'onto': 1101, 'door': 1102, 'apply': 1103, '25': 1104, 'total': 1105, 'ah': 1106, '😂': 1107, 'spoke': 1108, 'mac': 1109, 'compensation': 1110, 'miles': 1111, '👍': 1112, 'across': 1113, 'refuse': 1114, 'behind': 1115, 'contract': 1116, 'providing': 1117, 'billing': 1118, '😢': 1119, 'closed': 1120, 'st': 1121, 'username': 1122, 'jordan': 1123, '🤔': 1124, 'song': 1125, 'looked': 1126, 'america': 1127, 'rs': 1128, 'five': 1129, 'songs': 1130, 'empty': 1131, 'fare': 1132, 'instructions': 1133, 'restarting': 1134, 'american': 1135, 'meal': 1136, 'including': 1137, 'clarify': 1138, 'beyond': 1139, 'roll': 1140, 'speech': 1141, '😒': 1142, 'mode': 1143, 'ar': 1144, 'busy': 1145, 'itself': 1146, 'write': 1147, 'final': 1148, 'backward': 1149, 'detest': 1150, 'receiving': 1151, 'david': 1152, 'phones': 1153, 'regret': 1154, 'constantly': 1155, 'low': 1156, 'hit': 1157, 'placed': 1158, 'takes': 1159, 'worth': 1160, 'despite': 1161, 'photos': 1162, 'jb': 1163, 'include': 1164, 'treat': 1165, 'glitch': 1166, 'sunday': 1167, 'bringing': 1168, 'submit': 1169, 'disagree': 1170, 'mad': 1171, 'etc': 1172, 'bt': 1173, 'program': 1174, 'department': 1175, 'chipotle': 1176, 'words': 1177, 'worries': 1178, 'reported': 1179, 'sale': 1180, 'ms': 1181, 'travelling': 1182, 'modem': 1183, '18': 1184, 'ya': 1185, 'immediately': 1186, 'interest': 1187, 'album': 1188, 'turned': 1189, 'ipad': 1190, 'advance': 1191, '😞': 1192, 'near': 1193, 'entire': 1194, 'listed': 1195, 'excited': 1196, 'course': 1197, 'perfect': 1198, 'forget': 1199, 'third': 1200, 'express': 1201, 'pro': 1202, 'force': 1203, '😤': 1204, 'sit': 1205, 'november': 1206, 'there’': 1207, '🙂': 1208, 'assured': 1209, 'wanna': 1210, 'freezing': 1211, 'excuse': 1212, 'delight': 1213, 'destination': 1214, 'tag': 1215, 'stopped': 1216, 'informed': 1217, 'choose': 1218, 'head': 1219, 'story': 1220, 'paddington': 1221, 'table': 1222, 'enjoyed': 1223, 'aw': 1224, 'myself': 1225, 'fall': 1226, 'ones': 1227, 'pc': 1228, 'shitty': 1229, 'cards': 1230, 'storage': 1231, 'menu': 1232, 'spend': 1233, '45': 1234, 'lines': 1235, 'cheers': 1236, 'target': 1237, 'badly': 1238, 'test': 1239, 'agents': 1240, 'saw': 1241, '14': 1242, 'aa': 1243, 'mo': 1244, 'reached': 1245, 'excellent': 1246, 'passenger': 1247, 'removed': 1248, 'machine': 1249, 'absolute': 1250, 'employees': 1251, 'attempt': 1252, 'login': 1253, 'os': 1254, 'coverage': 1255, 'appear': 1256, 'repayment': 1257, 'particular': 1258, 'feed': 1259, 'plans': 1260, 'properly': 1261, 'located': 1262, 'fact': 1263, 'military': 1264, 'spectrum': 1265, '99': 1266, 'co': 1267, 'window': 1268, 'avoid': 1269, 'fucked': 1270, 'understanding': 1271, 'connecting': 1272, 'ebay': 1273, 'fake': 1274, 'locate': 1275, 'fi': 1276, 'red': 1277, 'fees': 1278, 'sitting': 1279, 'sense': 1280, 'virgin': 1281, 'create': 1282, 'holiday': 1283, 'changing': 1284, '60': 1285, 'josh': 1286, 'experienced': 1287, 'road': 1288, 'mw': 1289, 'wi': 1290, 'communication': 1291, 'rob': 1292, 'remove': 1293, 'nov': 1294, 'term': 1295, 'priority': 1296, 'install': 1297, 'usually': 1298, 'prices': 1299, 'hot': 1300, 'outside': 1301, 'transaction': 1302, 'space': 1303, 'shouldn': 1304, 'clearly': 1305, 'registered': 1306, 'step': 1307, 'copy': 1308, 'scheduled': 1309, 'group': 1310, 'against': 1311, 'region': 1312, 'android': 1313, 'offered': 1314, 'server': 1315, 'boxes': 1316, 'section': 1317, 'bonus': 1318, 'serving': 1319, 'locator': 1320, 'zero': 1321, 'reading': 1322, 'stream': 1323, 'odd': 1324, 'similar': 1325, 'watching': 1326, 'choosing': 1327, 'released': 1328, 'sentence': 1329, 'restore': 1330, 'unless': 1331, 'above': 1332, 'especially': 1333, 'sales': 1334, 'auto': 1335, 'none': 1336, 'mentioned': 1337, 'wasted': 1338, 'jw': 1339, 'jl': 1340, 'simply': 1341, 'based': 1342, 'logged': 1343, 'mb': 1344, 'adobe': 1345, 'actual': 1346, 'o2': 1347, 'employee': 1348, 'gamertag': 1349, 'trash': 1350, 'solve': 1351, 'gotta': 1352, 'thru': 1353, 'god': 1354, 'canceled': 1355, 'safety': 1356, 'ab': 1357, 'opened': 1358, 'schedule': 1359, 'probably': 1360, 'deleted': 1361, 'backstage': 1362, 'insurance': 1363, 'upset': 1364, 'mike': 1365, 'pleasure': 1366, 'waited': 1367, 'level': 1368, 'bear': 1369, 'major': 1370, 'refunded': 1371, 'signed': 1372, 'whenever': 1373, 'language': 1374, 'deals': 1375, 'appreciated': 1376, 'face': 1377, 'ruined': 1378, 'ps': 1379, 'yall': 1380, 'speeds': 1381, 'debit': 1382, 'here’': 1383, 'inspection': 1384, 'william': 1385, 'obviate': 1386, 'starting': 1387, 'despair': 1388, 'enter': 1389, 'win': 1390, 'balance': 1391, 'colleagues': 1392, 'selling': 1393, 'forbid': 1394, 'buying': 1395, 'lag': 1396, 'robert': 1397, 'cache': 1398, 'brand': 1399, 'bl': 1400, 'difficult': 1401, 'bar': 1402, 'supplier': 1403, 'screw': 1404, 'eat': 1405, 'departure': 1406, 'rewards': 1407, 'fargo': 1408, 'standard': 1409, 'channels': 1410, 'andy': 1411, 'become': 1412, 'ios11': 1413, 'manage': 1414, 'middle': 1415, 'standing': 1416, 'feeling': 1417, 'voucher': 1418, 'aid': 1419, 'bother': 1420, 'moving': 1421, 'postcode': 1422, 'search': 1423, 'promised': 1424, 'management': 1425, 'pissed': 1426, 'complain': 1427, 'linked': 1428, 'fourth': 1429, '16': 1430, 'ordering': 1431, 'yr': 1432, 'earphone': 1433, 'trust': 1434, 'cheese': 1435, 'related': 1436, 'fresh': 1437, 'rate': 1438, 'difference': 1439, 'behavior': 1440, 'crazy': 1441, 'disruption': 1442, 'hesitate': 1443, 'wasn’': 1444, 'discount': 1445, 'jr': 1446, 'paul': 1447, 'accordingly': 1448, 'helped': 1449, 'promo': 1450, 'airlines': 1451, 'followed': 1452, 'loyal': 1453, 'row': 1454, 'daily': 1455, 'streaming': 1456, 'wife': 1457, 'switching': 1458, 'lady': 1459, 'complaints': 1460, 'pa': 1461, 'jp': 1462, 'handle': 1463, 'special': 1464, 'sarah': 1465, 'query': 1466, 'main': 1467, 'positive': 1468, 'folks': 1469, 'gives': 1470, 'membership': 1471, 'wth': 1472, 'hassle': 1473, 'tweeting': 1474, 'awaiting': 1475, 'advised': 1476, 'display': 1477, 'refused': 1478, 'kevin': 1479, 'easy': 1480, 'size': 1481, 'availability': 1482, 'hoping': 1483, 'io': 1484, 'icloud': 1485, 'pic': 1486, 'guide': 1487, 'prison': 1488, 'weird': 1489, 'ugh': 1490, 'subject': 1491, 'begin': 1492, 'notification': 1493, 'deliveries': 1494, 'wont': 1495, 'wondering': 1496, 'opportunity': 1497, 'inform': 1498, 'waterloo': 1499, 'impressed': 1500, 'remember': 1501, 'cover': 1502, 'act': 1503, 'religious': 1504, 'walk': 1505, 'loyalty': 1506, 'simple': 1507, 'meter': 1508, 'bs': 1509, 'yourself': 1510, 'leadership': 1511, 'clip': 1512, 'ive': 1513, 'expensive': 1514, 'allowed': 1515, 'tree': 1516, 'port': 1517, 'sv': 1518, 'referring': 1519, 'sc': 1520, '13': 1521, 'ca': 1522, 'result': 1523, 'sleep': 1524, 'messed': 1525, 'returned': 1526, 'earpiece': 1527, 'reps': 1528, 'technical': 1529, 'regular': 1530, 'wells': 1531, 'traveling': 1532, 'sh': 1533, 'speaking': 1534, 'earliest': 1535, 'ampere': 1536, 'failure': 1537, 'annoyed': 1538, 'executive': 1539, 'dates': 1540, 'collect': 1541, 'maintenance': 1542, 'pack': 1543, 'natalie': 1544, 'phil': 1545, 'tom': 1546, 'weather': 1547, 'history': 1548, 'electronic': 1549, 'printer': 1550, 'files': 1551, 'logging': 1552, 'repay': 1553, 'true': 1554, 'desk': 1555, 'die': 1556, 'saturday': 1557, 'cod': 1558, 'kudos': 1559, 'promise': 1560, 'serious': 1561, '6s': 1562, 'backup': 1563, 'members': 1564, 'camera': 1565, 'cold': 1566, 'courier': 1567, 'talking': 1568, 'profile': 1569, 'headphone': 1570, 'period': 1571, '😉': 1572, 'guest': 1573, 'vm': 1574, 'stolen': 1575, 'forever': 1576, 'direction': 1577, 'google': 1578, 'verify': 1579, 'son': 1580, 'rattling': 1581, 'adding': 1582, 'branch': 1583, 'sat': 1584, 'upload': 1585, 'cd': 1586, 'student': 1587, 'cookies': 1588, 'nobody': 1589, 'escape': 1590, 'nasty': 1591, 'explanation': 1592, 'alex': 1593, 'clock': 1594, 'locked': 1595, 'airtel': 1596, 'overhaul': 1597, 'straight': 1598, 'position': 1599, 'often': 1600, '😱': 1601, 'servicing': 1602, 'sweet': 1603, 'acid': 1604, 'plenty': 1605, 'driving': 1606, 'random': 1607, 'refer': 1608, 'monophosphate': 1609, 'michael': 1610, 'shocking': 1611, 'confirmed': 1612, 'match': 1613, 'lewis': 1614, 'decided': 1615, 'baby': 1616, 'fair': 1617, 'cyberspace': 1618, 'concerning': 1619, 'noticed': 1620, 'gold': 1621, 'omg': 1622, 'concerned': 1623, 'servers': 1624, 'statement': 1625, 'didnt': 1626, 'trial': 1627, 'faulty': 1628, 'voice': 1629, 'fully': 1630, 'huge': 1631, 'keyboard': 1632, 'water': 1633, 'tho': 1634, 'tweets': 1635, 'bus': 1636, 'ground': 1637, 'rach': 1638, 'checkout': 1639, 'losing': 1640, 'secure': 1641, 'upon': 1642, 'inside': 1643, 'causing': 1644, 'sms': 1645, 'fios': 1646, 'monthly': 1647, 'dealing': 1648, 'cancelling': 1649, 'seconds': 1650, 'known': 1651, 'loading': 1652, 'exchange': 1653, 'disappoint': 1654, 'operating': 1655, 'nm': 1656, 'addressed': 1657, 'dropped': 1658, 'limit': 1659, 'ma': 1660, 'replace': 1661, 'friendly': 1662, 'responding': 1663, 'reception': 1664, 'downloaded': 1665, '😁': 1666, 'required': 1667, 'divine': 1668, 'sauce': 1669, 'mcdonald': 1670, 'shall': 1671, 'sb': 1672, 'provider': 1673, 'adenylic': 1674, 'impossible': 1675, 'jm': 1676, 'uncertain': 1677, 'episode': 1678, 'you’ve': 1679, 'fantastic': 1680, 'lhr': 1681, 'playlist': 1682, 'dimension': 1683, 'let’': 1684, 'light': 1685, 'keeping': 1686, 'duty': 1687, 'fan': 1688, 'birthday': 1689, 'sam': 1690, 'pin': 1691, 'daughter': 1692, 'ppl': 1693, 'shut': 1694, 'broke': 1695, 'limited': 1696, 'hang': 1697, 'anywhere': 1698, 'visible': 1699, 'separate': 1700, 'notifications': 1701, 'armed': 1702, 'suppose': 1703, 'strange': 1704, 'confirming': 1705, 'dumb': 1706, 'al': 1707, 'wants': 1708, 'delivering': 1709, 'blocked': 1710, 'centre': 1711, 'present': 1712, 'tara': 1713, 'revert': 1714, 'favorite': 1715, 'unavailable': 1716, 'adenosine': 1717, 'couldn’': 1718, 'meant': 1719, 'south': 1720, 'girl': 1721, 'km': 1722, 'psn': 1723, 'thanksgiving': 1724, 'crashing': 1725, 'lax': 1726, 'terminal': 1727, 'users': 1728, 'tuned': 1729, 'everytime': 1730, 'gotten': 1731, 'kids': 1732, 'wonder': 1733, 'cross': 1734, 'volume': 1735, 'blue': 1736, 'rn': 1737, 'bluetooth': 1738, 'park': 1739, 'unprofessional': 1740, 'prior': 1741, 'turning': 1742, 'lt': 1743, 'surely': 1744, 'banking': 1745, 'steven': 1746, '😔': 1747, 'unlimited': 1748, 'proper': 1749, 'large': 1750, 'bed': 1751, 'lauren': 1752, 'macbook': 1753, 'breakfast': 1754, 'tuesday': 1755, 'mention': 1756, 'condition': 1757, 'kill': 1758, 'emergency': 1759, 'activate': 1760, 'hullo': 1761, 'moved': 1762, 'confused': 1763, 'valid': 1764, 'desire': 1765, 'sir': 1766, 'arrival': 1767, 'bloody': 1768, 'risk': 1769, 'reasons': 1770, 'automatically': 1771, 'dark': 1772, 'active': 1773, 'property': 1774, 'appears': 1775, 'thinking': 1776, 'kj': 1777, 'coffee': 1778, 'prevent': 1779, 'basically': 1780, 'lied': 1781, 'xi': 1782, 'confusion': 1783, 'becky': 1784, 'unmake': 1785, 'preferred': 1786, 'self': 1787, '🙃': 1788, 'hearing': 1789, 'switched': 1790, 'eligible': 1791, 'raise': 1792, 'estimated': 1793, 'somebody': 1794, 'sandwich': 1795, 'neither': 1796, 'alternate': 1797, 'trajectory': 1798, 'pull': 1799, 'spot': 1800, 'elaborate': 1801, 'guarantee': 1802, 'turns': 1803, 'escalate': 1804, 'human': 1805, 'conversation': 1806, 'peak': 1807, 'managed': 1808, 'dan': 1809, 'conditions': 1810, 'emma': 1811, 'coach': 1812, 'dc': 1813, 'school': 1814, 'troubles': 1815, 'ring': 1816, 'lock': 1817, 'lc': 1818, 'suggestion': 1819, 'fed': 1820, 'ten': 1821, 'method': 1822, 'ww2': 1823, '200': 1824, 'metre': 1825, 'jfk': 1826, 'kept': 1827, 'partner': 1828, 'press': 1829, 'usa': 1830, 'pain': 1831, 'we’ve': 1832, 'discover': 1833, 'cust': 1834, 'print': 1835, 'carriages': 1836, 'lots': 1837, 'yours': 1838, 'internally': 1839, 'oct': 1840, 'cafe': 1841, 'thus': 1842, 'young': 1843, 'picked': 1844, '19': 1845, '🤬': 1846, 'forgot': 1847, 'reservations': 1848, 'upgraded': 1849, 'individual': 1850, 'utterly': 1851, '😫': 1852, 'ra': 1853, 'shown': 1854, 'randomly': 1855, 'supervisor': 1856, 'whether': 1857, 'checks': 1858, 'stand': 1859, 'application': 1860, 'fit': 1861, 'defective': 1862, 'host': 1863, 'except': 1864, 'postponement': 1865, 'pending': 1866, 'aircraft': 1867, 'fares': 1868, 'sync': 1869, 'ended': 1870, 'incompetent': 1871, 'lg': 1872, 'ran': 1873, 'decision': 1874, 'prompt': 1875, 'manner': 1876, '😕': 1877, 'ways': 1878, 'ideas': 1879, 'surprise': 1880, 'october': 1881, 'hacked': 1882, 'biz': 1883, 'library': 1884, 'trade': 1885, 'kick': 1886, 'taste': 1887, 'memory': 1888, 'stops': 1889, 'atm': 1890, 'clicking': 1891, 'angry': 1892, 'steve': 1893, 'description': 1894, 'nearly': 1895, 'reboot': 1896, 'whats': 1897, 'samsung': 1898, 'specialist': 1899, 'occur': 1900, 'advice': 1901, 'funds': 1902, 'steal': 1903, 'paper': 1904, 'mr': 1905, 'opening': 1906, 'spoken': 1907, 'guests': 1908, 'alone': 1909, 'eleven': 1910, 'common': 1911, 'replying': 1912, 'dms': 1913, 'lounge': 1914, 'drink': 1915, 'bundle': 1916, 'heart': 1917, 'rachel': 1918, 'towards': 1919, 'usual': 1920, 'honest': 1921, 'verification': 1922, 'argos': 1923, 'negative': 1924, 'warranty': 1925, 'cellular': 1926, 'tf': 1927, 'screwed': 1928, 'equipment': 1929, 'woman': 1930, 'arrange': 1931, 'deleting': 1932, 'dinner': 1933, 'rules': 1934, 'inbox': 1935, 'kr': 1936, 'crashes': 1937, 'ha': 1938, 'wouldn’': 1939, 'function': 1940, 'processing': 1941, 'potential': 1942, 'event': 1943, 'hawaii': 1944, 'visited': 1945, 'microsoft': 1946, 'they’re': 1947, 'colleague': 1948, 'although': 1949, 'facing': 1950, 'incident': 1951, 'jack': 1952, 'treated': 1953, 'shot': 1954, 'fr': 1955, 'loss': 1956, '21': 1957, 'tips': 1958, 'international': 1959, 'substance': 1960, 'transport': 1961, 'matt': 1962, 'thirty': 1963, 'secret': 1964, 'ny': 1965, 'hasn’': 1966, 'title': 1967, 'dislike': 1968, '😃': 1969, 'swear': 1970, 'dropbox': 1971, 'killing': 1972, 'presently': 1973, 'js': 1974, 'dial': 1975, 'stated': 1976, 'proceed': 1977, 'recharge': 1978, 'crash': 1979, 'katie': 1980, 'supply': 1981, 'cabin': 1982, 'research': 1983, '😍': 1984, 'desktop': 1985, 'emailed': 1986, 'rail': 1987, 'december': 1988, 'halloween': 1989, 'ohio': 1990, 'putting': 1991, 'sl': 1992, 'appointment': 1993, 'bitch': 1994, '😀': 1995, 'teams': 1996, 'playstation': 1997, '“️”': 1998, 'lately': 1999, 'haha': 2000, 'enjoying': 2001, 'agree': 2002, 'pitch': 2003, 'hd': 2004, 'nearest': 2005, 'previously': 2006, 'sg': 2007, 'nyc': 2008, 'pleased': 2009, 'answers': 2010, 'prefer': 2011, 'troubleshoot': 2012, 'sellers': 2013, 'nope': 2014, 'elsewhere': 2015, 'disallow': 2016, 'traffic': 2017, 'transit': 2018, 'thwarting': 2019, 'postal': 2020, 'created': 2021, 'alright': 2022, 'official': 2023, 'promotion': 2024, 'sierra': 2025, 'garbage': 2026, 'key': 2027, 'perfectly': 2028, 'rid': 2029, 'netflix': 2030, 'realize': 2031, 'strike': 2032, 'backwards': 2033, 'remote': 2034, 'danking': 2035, 'cell': 2036, 'ads': 2037, 'exit': 2038, 'gather': 2039, 'clean': 2040, 'consumer': 2041, 'correctly': 2042, 'msg': 2043, 'progress': 2044, 'difficulty': 2045, 'capital': 2046, 'raj': 2047, 'manchester': 2048, 'attendant': 2049, 'attendants': 2050, 'closing': 2051, 'alternative': 2052, 'nectar': 2053, 'stairs': 2054, 'knows': 2055, 'tells': 2056, 'round': 2057, 'dog': 2058, 'burrito': 2059, 'constant': 2060, 'saving': 2061, 'ak': 2062, '22': 2063, 'beat': 2064, 'legal': 2065, 'rides': 2066, 'showed': 2067, 'clarissa': 2068, 'rk': 2069, 'mother': 2070, '2018': 2071, 'unit': 2072, 'atrocious': 2073, 'freezes': 2074, 'sd': 2075, 'hands': 2076, 'attend': 2077, 'perhaps': 2078, 'malfunction': 2079, 'freeze': 2080, 'included': 2081, 'southwest': 2082, 'listening': 2083, 'relevant': 2084, 'em': 2085, 'truth': 2086, 'suggestions': 2087, 'facebook': 2088, 'nowhere': 2089, 'representative': 2090, 'companies': 2091, 'submitted': 2092, 'audio': 2093, 'tmobile': 2094, '👎': 2095, 'unhelpful': 2096, 'knew': 2097, 'redeem': 2098, 'setting': 2099, 'map': 2100, 'idk': 2101, 'default': 2102, 'normally': 2103, 'bro': 2104, 'lies': 2105, 'eta': 2106, 'peter': 2107, '90': 2108, 'airbnb': 2109, 'laura': 2110, 'digital': 2111, 'flt': 2112, 'apart': 2113, 'sincere': 2114, 'chips': 2115, 'afford': 2116, 'commercial': 2117, 'solar': 2118, 'hundred': 2119, '☹': 2120, 'bread': 2121, 'decide': 2122, 'whatever': 2123, 'dozen': 2124, '🖕': 2125, 'dvr': 2126, 'atl': 2127, 'spam': 2128, 'community': 2129, 'tough': 2130, 'decimetre': 2131, 'ugly': 2132, 'television': 2133, 'finish': 2134, 'thats': 2135, 'lisa': 2136, 'gabe': 2137, 'modern': 2138, 'sj': 2139, 'count': 2140, 'texts': 2141, 'talked': 2142, 'results': 2143, 'selection': 2144, 'genuinely': 2145, 'hung': 2146, 'mom': 2147, 'richard': 2148, 'forced': 2149, 'law': 2150, 'render': 2151, 'west': 2152, 'critical': 2153, 'imputable': 2154, 'respect': 2155, 'ain': 2156, 'aim': 2157, 'rider': 2158, 'disgusted': 2159, 'pickup': 2160, '❤️': 2161, 'finding': 2162, 'errors': 2163, 'escalated': 2164, 'plug': 2165, 'pricing': 2166, '😑': 2167, 'register': 2168, 'guaranteed': 2169, 'virago': 2170, 'unlock': 2171, 'sean': 2172, 'practice': 2173, 'nr': 2174, 'highly': 2175, 'indeed': 2176, 'organization': 2177, 'launch': 2178, 'dispute': 2179, 'aren’': 2180, 'faculty': 2181, 'weren': 2182, 'relations': 2183, 'controller': 2184, 'eating': 2185, 'cl': 2186, 'payments': 2187, 'disconnected': 2188, 'sm': 2189, 'otherwise': 2190, '“”': 2191, 'andrew': 2192, 'thoughts': 2193, 'sf': 2194, 'hay': 2195, '😬': 2196, 'logistics': 2197, 'clarence': 2198, 'lying': 2199, 'bodied': 2200, 'meantime': 2201, 'cry': 2202, 'ben': 2203, 'doubt': 2204, 'queso': 2205, 'player': 2206, 'internal': 2207, 'extend': 2208, 'autocorrect': 2209, 'bull': 2210, 'aside': 2211, 'strive': 2212, 'throw': 2213, 'effort': 2214, 'yield': 2215, 'attached': 2216, 'offering': 2217, 'fixing': 2218, 'fails': 2219, 'child': 2220, 'spanish': 2221, 'tay': 2222, 'carriage': 2223, 'mt': 2224, 'san': 2225, 'continued': 2226, 'scan': 2227, '35': 2228, 'lte': 2229, 'range': 2230, 'subscribe': 2231, 'father': 2232, 'ian': 2233, 'nor': 2234, 'holder': 2235, 'basic': 2236, 'xx': 2237, 'wasting': 2238, 'base': 2239, 'white': 2240, 'loving': 2241, 'bacon': 2242, 'cuz': 2243, 'gear': 2244, 'obviously': 2245, 'assure': 2246, 'vs': 2247, 'howdy': 2248, 'disabled': 2249, 'aloha': 2250, 'mk': 2251, 'kinda': 2252, 'karen': 2253, 'movie': 2254, 'af': 2255, 'appropriate': 2256, 'town': 2257, 'ascribable': 2258, 'mj': 2259, 'bristol': 2260, 'persists': 2261, 'chrome': 2262, 'ref': 2263, 'nah': 2264, 'counter': 2265, 'terribly': 2266, 'reporting': 2267, 'false': 2268, 'videos': 2269, 'features': 2270, 'bunch': 2271, 'fb': 2272, 'btw': 2273, 'green': 2274, 'fingers': 2275, 'amex': 2276, 'walmart': 2277, 'smart': 2278, 'kindle': 2279, 'hopes': 2280, 'acceptable': 2281, 'tt': 2282, 'rearward': 2283, 'birmingham': 2284, 'pilot': 2285, 'warning': 2286, 'yep': 2287, 'brian': 2288, 'na': 2289, 'doesnt': 2290, 'workaround': 2291, 'charger': 2292, 'midnight': 2293, 'plastic': 2294, 'police': 2295, 'attempted': 2296, 'expecting': 2297, '\\u200d': 2298, 'troublesomeness': 2299, 'holdup': 2300, 'deserve': 2301, 'north': 2302, 'da': 2303, 'boy': 2304, 'dirty': 2305, 'shipment': 2306, 'cat': 2307, 'performance': 2308, 'glasgow': 2309, 'deposit': 2310, 'relationship': 2311, 'lower': 2312, 'invoice': 2313, 'dec': 2314, 'prove': 2315, 'starve': 2316, 'ja': 2317, 'restaurant': 2318, 'stopping': 2319, 'expert': 2320, 'replaced': 2321, 'locations': 2322, 'correspondence': 2323, 'arriving': 2324, 'bowl': 2325, 'pie': 2326, 'ch': 2327, 'collection': 2328, 'sk': 2329, 'ban': 2330, 'edition': 2331, 'vegan': 2332, 'professional': 2333, 'rm': 2334, 'contacts': 2335, 'dispatched': 2336, 'tea': 2337, 'referable': 2338, 'cr': 2339, 'reinstalling': 2340, 'horrendous': 2341, 'echo': 2342, 'hmm': 2343, 'offline': 2344, 'hv': 2345, 'ignored': 2346, 'sky': 2347, 'kb': 2348, 'tj': 2349, 'alissafast': 2350, 'beautiful': 2351, '23': 2352, 'iphones': 2353, 'terms': 2354, 'sw': 2355, 'living': 2356, 'dr': 2357, 'skies': 2358, 'likely': 2359, '28': 2360, 'saved': 2361, 'uracil': 2362, 'preorder': 2363, 'freaking': 2364, 'buyer': 2365, 'joe': 2366, 'beta': 2367, 'alert': 2368, 'unpleasant': 2369, 'label': 2370, 'filled': 2371, 'nc': 2372, 'comment': 2373, 'notwithstanding': 2374, 'draw': 2375, 'mh': 2376, 'await': 2377, 'episodes': 2378, 'blank': 2379, 'six': 2380, 'organisation': 2381, '48': 2382, 'gs': 2383, 'hawai': 2384, 'sucking': 2385, 'denied': 2386, 'idle': 2387, 'belief': 2388, 'raised': 2389, 'lead': 2390, 'worsen': 2391, 'stress': 2392, 'vouchers': 2393, 'roku': 2394, 'character': 2395, 'interested': 2396, 'reinstall': 2397, 'resetting': 2398, 'tail': 2399, 'la': 2400, 'worn': 2401, '…': 2402, 'hanging': 2403, 'honestly': 2404, 'gr': 2405, 'adam': 2406, 'associate': 2407, 'considering': 2408, 'faster': 2409, 'central': 2410, 'rebooking': 2411, 'answered': 2412, 'ruin': 2413, '–': 2414, 'war': 2415, 'raw': 2416, 'land': 2417, 'yikes': 2418, 'health': 2419, 'jo': 2420, 'lunch': 2421, 'chloe': 2422, 'theme': 2423, 'capable': 2424, 'thursday': 2425, 'advert': 2426, 'daniel': 2427, 'wired': 2428, 'compensate': 2429, 'somehow': 2430, 'listing': 2431, 'festive': 2432, 'activated': 2433, 'upgrades': 2434, 'stave': 2435, 'sara': 2436, 'pitiful': 2437, 'soul': 2438, '‘': 2439, 'ubereats': 2440, 'rearwards': 2441, 'affair': 2442, 'macos': 2443, 'easier': 2444, 'folder': 2445, 'buyers': 2446, 'plot': 2447, 'announcement': 2448, 'possibly': 2449, 'figured': 2450, 'visiting': 2451, 'birth': 2452, 'rush': 2453, 'death': 2454, 'julie': 2455, 'weekly': 2456, 'logic': 2457, 'earth': 2458, 'dollars': 2459, 'de': 2460, 'east': 2461, 'reserve': 2462, 'holding': 2463, 'canceling': 2464, 'loads': 2465, 'forty': 2466, 'barely': 2467, 'recording': 2468, 'manually': 2469, 'costs': 2470, 'convenience': 2471, 'brought': 2472, 'holy': 2473, 'merchandise': 2474, 'nevertheless': 2475, 'push': 2476, 'tinker': 2477, 'je': 2478, 'ed': 2479, 'codes': 2480, 'players': 2481, 'married': 2482, 'meat': 2483, 'everyday': 2484, 'ml': 2485, 'attitude': 2486, 'investigation': 2487, 'played': 2488, 'movies': 2489, '92': 2490, 'frozen': 2491, 'privacy': 2492, 'path': 2493, 'reality': 2494, 'planes': 2495, 'amy': 2496, 'ds': 2497, '3g': 2498, 'solid': 2499, 'miserable': 2500, 'image': 2501, '4th': 2502, 'xmas': 2503, 'queue': 2504, 'reduced': 2505, 'glo': 2506, 'packet': 2507, 'erroneous': 2508, 'field': 2509, 'domain': 2510, 'uh': 2511, 'accidentally': 2512, 'stole': 2513, 'fuckin': 2514, 'tim': 2515, 'parking': 2516, 'hm': 2517, 'dt': 2518, 'score': 2519, 'amanda': 2520, 'slip': 2521, 'uranium': 2522, 'pictures': 2523, 'proof': 2524, 'yea': 2525, 'fri': 2526, 'heads': 2527, 'mechanical': 2528, 'hebdomad': 2529, 'withal': 2530, 'rights': 2531, 'apologise': 2532, 'leg': 2533, 'nonsense': 2534, 'buckeye': 2535, 'pad': 2536, 'diabetes': 2537, 'lee': 2538, 'earn': 2539, 'specifically': 2540, 'xfinity': 2541, 'involve': 2542, 'study': 2543, 'consideration': 2544, 'estimate': 2545, 'journeying': 2546, 'children': 2547, 'dl': 2548, 'congratulations': 2549, 'shift': 2550, 'concert': 2551, 'dealt': 2552, 'detain': 2553, 'star': 2554, 'banned': 2555, 'ns': 2556, 'commit': 2557, 'cycle': 2558, 'imagine': 2559, 'artist': 2560, 'tap': 2561, 'body': 2562, 'clearing': 2563, 'fight': 2564, 'economy': 2565, 'blame': 2566, 'restrictions': 2567, 'sudden': 2568, 'linda': 2569, '💚': 2570, 'alarm': 2571, 'disappeared': 2572, 'flew': 2573, 'walking': 2574, 'ffs': 2575, 'nightmare': 2576, 'dude': 2577, 'platinum': 2578, 'sincerely': 2579, 'transportation': 2580, 'ep': 2581, 'dreadful': 2582, 'robbie': 2583, 'british': 2584, 'immediate': 2585, 'mellitus': 2586, 'hatred': 2587, 'realise': 2588, '—': 2589, 'ct': 2590, 'reserved': 2591, 'partners': 2592, '🙁': 2593, 'jump': 2594, 'mikerice': 2595, 'exist': 2596, 'sr': 2597, 'wanting': 2598, 'charlotte': 2599, 'norton': 2600, 'nw': 2601, 'nonetheless': 2602, 'series': 2603, 'failing': 2604, 'rapid': 2605, 'tl': 2606, 'trips': 2607, 'usage': 2608, 'style': 2609, 'rain': 2610, 'daylight': 2611, 'assume': 2612, 'owe': 2613, 'airtime': 2614, 'quit': 2615, 'passing': 2616, 'mon': 2617, 'applied': 2618, 'decimeter': 2619, 'beginning': 2620, 'hoi': 2621, 'polloi': 2622, 'timed': 2623, 'husband': 2624, 'sadly': 2625, 'ga': 2626, 'fell': 2627, 'kd': 2628, 'cheating': 2629, 'external': 2630, 'lucky': 2631, 'lmao': 2632, 'bakery': 2633, 'complaining': 2634, 'jj': 2635, 'solved': 2636, 'fraudulent': 2637, 'til': 2638, 'sister': 2639, 'died': 2640, 'spoilt': 2641, 'sfo': 2642, 'selected': 2643, 'unsure': 2644, 'gwr': 2645, 'jh': 2646, 'beth': 2647, 'upgrading': 2648, 'covered': 2649, 'handled': 2650, 'crataegus': 2651, 'starts': 2652, 'connexion': 2653, 'technician': 2654, 'cheaper': 2655, 'bugs': 2656, 'investigating': 2657, 'surface': 2658, 'ea': 2659, 'permit': 2660, 'jc': 2661, 'aaron': 2662, 'chicago': 2663, 'systems': 2664, 'delicious': 2665, 'bk': 2666, 'ka': 2667, 'variety': 2668, 'xxx': 2669, 'promotions': 2670, 'ends': 2671, 'loved': 2672, 'sy': 2673, 'maintain': 2674, 'sp': 2675, 'gb': 2676, 'brilliant': 2677, 'siri': 2678, '🏻': 2679, 'buffering': 2680, 'increase': 2681, 'returning': 2682, 'existing': 2683, 'expired': 2684, 'chocolate': 2685, 'playlists': 2686, 'besides': 2687, 'bet': 2688, 'depart': 2689, 'edinburgh': 2690, 'toilet': 2691, 'aj': 2692, 'gain': 2693, 'unwelcome': 2694, 'forth': 2695, 'bm': 2696, 'higher': 2697, 'design': 2698, 'reliable': 2699, 'nk': 2700, 'um': 2701, 'favourite': 2702, 'age': 2703, 'visa': 2704, 'loose': 2705, '😂😂': 2706, 'shelves': 2707, 'connectivity': 2708, 'crappy': 2709, 'stunned': 2710, 'basis': 2711, 'erroneousness': 2712, 'disaster': 2713, 'convenient': 2714, 'coupon': 2715, 'holidays': 2716, 'suddenly': 2717, 'letdown': 2718, 'inquiry': 2719, 'therefore': 2720, 'emily': 2721, 'chosen': 2722, 'example': 2723, 'cab': 2724, 'financial': 2725, 'activity': 2726, 'youtube': 2727, 'continues': 2728, 'restarted': 2729, 'wednesday': 2730, 'whilst': 2731, 'insight': 2732, 'az': 2733, 'document': 2734, 'dallas': 2735, 'alexa': 2736, 'amc': 2737, 'encounter': 2738, 'frightful': 2739, 'pb': 2740, 'fab': 2741, 'defeat': 2742, 'rubbish': 2743, 'unfair': 2744, 'jay': 2745, 'seating': 2746, 'reports': 2747, 'utter': 2748, 'liverpool': 2749, 'mid': 2750, 'jra': 2751, 'forwarded': 2752, 'accepted': 2753, 'announcements': 2754, 'truck': 2755, 'improvements': 2756, 'jason': 2757, 'uncomfortable': 2758, 'gross': 2759, 'brown': 2760, '27': 2761, 'dashing': 2762, 'funny': 2763, 'rice': 2764, 'gas': 2765, 'automated': 2766, 'lb': 2767, 'chatting': 2768, 'hence': 2769, 'au': 2770, 'bruh': 2771, 'codification': 2772, 'piss': 2773, 'reviewing': 2774, 'dfw': 2775, 'fuss': 2776, 'azure': 2777, 'eyes': 2778, 'posting': 2779, 'rule': 2780, 'speaker': 2781, 'agreement': 2782, 'lets': 2783, 'eb': 2784, 'iv': 2785, 'frustrations': 2786, 'exercise': 2787, 'determine': 2788, 'purchases': 2789, 'painful': 2790, 'bin': 2791, 'necessary': 2792, 'entirely': 2793, 'recovery': 2794, 'explore': 2795, 'skip': 2796, 'ec': 2797, 'cheap': 2798, 'es': 2799, 'mi': 2800, 'outstanding': 2801, 'interval': 2802, 'rd': 2803, 'screenshots': 2804, 'corrupt': 2805, 'primary': 2806, 'dell': 2807, 'frm': 2808, 'assigned': 2809, 'hurt': 2810, 'gm': 2811, 'evidence': 2812, 'background': 2813, 'mcdonalds': 2814, 'swap': 2815, 'pee': 2816, 'ji': 2817, 'nine': 2818, 'regrettably': 2819, 'mass': 2820, 'useable': 2821, '👍🏻': 2822, 'building': 2823, 'dropping': 2824, 'differ': 2825, 'rescue': 2826, 'taxi': 2827, 'skymiles': 2828, 'havent': 2829, 'recognize': 2830, 'intention': 2831, 'guard': 2832, 'postulate': 2833, 'alaska': 2834, 'isnt': 2835, 'outages': 2836, 'credits': 2837, 'headphones': 2838, 'boot': 2839, 'rank': 2840, 'incredibly': 2841, 'battle': 2842, 'ag': 2843, 'crossed': 2844, 'junk': 2845, 'workweek': 2846, 'somewhere': 2847, 'jeff': 2848, 'cream': 2849, 'phishing': 2850, 'md': 2851, 'challenge': 2852, 'honor': 2853, 'fa': 2854, 'hardly': 2855, 'strong': 2856, 'survey': 2857, 'rt': 2858, 'illegal': 2859, 'claims': 2860, 'mia': 2861, 'safaricom': 2862, 'cancellations': 2863, 'corporate': 2864, 'actively': 2865, 'behalf': 2866, 'maeghan': 2867, 'outcome': 2868, 'rock': 2869, 'albums': 2870, 'credited': 2871, 'podcast': 2872, 'arrives': 2873, 'danny': 2874, 'reputation': 2875, 'alas': 2876, 'loop': 2877, 'sports': 2878, 'completed': 2879, 'networks': 2880, 'improvement': 2881, 'mcdonald’': 2882, '🤦': 2883, 'floor': 2884, 'ryan': 2885, 'notes': 2886, 'purchasing': 2887, 'occurred': 2888, 'cm': 2889, 'ruining': 2890, 'reckon': 2891, 'stations': 2892, 'slot': 2893, 'fyi': 2894, 'guac': 2895, 'tab': 2896, 'regard': 2897, 'scott': 2898, 'repeatedly': 2899, 'wine': 2900, 'cup': 2901, 'seattle': 2902, 'dad': 2903, 'dash': 2904, 'york': 2905, 'mix': 2906, 'advantage': 2907, 'meeting': 2908, 'standby': 2909, 'feels': 2910, 'reward': 2911, 'novel': 2912, 'mpesa': 2913, 'procedure': 2914, 'hn': 2915, 'interruption': 2916, '8pm': 2917, 'dangerous': 2918, 'george': 2919, 'jf': 2920, 'detailed': 2921, 'stealing': 2922, 'artists': 2923, 'drops': 2924, 'transactions': 2925, 'ng': 2926, 'fam': 2927, 'xs': 2928, 'multiplayer': 2929, 'congestion': 2930, 'biggest': 2931, 'football': 2932, 'tight': 2933, 'thread': 2934, 'society': 2935, 'installing': 2936, 'unexampled': 2937, 'wat': 2938, 'automatic': 2939, 'recover': 2940, 'yrs': 2941, 'rotten': 2942, 'insane': 2943, '😄': 2944, 'answering': 2945, 'college': 2946, 'recompense': 2947, 'plain': 2948, '300': 2949, 'ice': 2950, 'dollar': 2951, 'responses': 2952, 'hs': 2953, 'decade': 2954, '☹️': 2955, 'massive': 2956, 'physical': 2957, 'lga': 2958, 'nick': 2959, 'unsound': 2960, 'ks': 2961, 'frequent': 2962, 'kk': 2963, 'requesting': 2964, 'classic': 2965, 'retrieve': 2966, 'mariya': 2967, 'areas': 2968, 'leaves': 2969, 'unfit': 2970, 'mg': 2971, 'band': 2972, 'agency': 2973, 'rb': 2974, 'ongoing': 2975, 'activation': 2976, 'pr': 2977, 'cart': 2978, 'cozenage': 2979, 'former': 2980, 'gk': 2981, 'rip': 2982, 'fifty': 2983, 'reverse': 2984, 'market': 2985, 'seven': 2986, 'struggling': 2987, 'cyber': 2988, 'travels': 2989, 'premiere': 2990, 'thomas': 2991, 'malus': 2992, 'pumila': 2993, 'acting': 2994, 'fabulous': 2995, '800': 2996, 'mary': 2997, 'pulled': 2998, 'sidereal': 2999, 'federal': 3000, 'wrongdoing': 3001, 'cheat': 3002, 'rebook': 3003, 'foiled': 3004, 'effect': 3005, 'drinks': 3006, 'legit': 3007, 'refunds': 3008, 'protect': 3009, 'neil': 3010, 'hungry': 3011, 'cloud': 3012, 'transferred': 3013, 'killed': 3014, 'goal': 3015, 'citizenry': 3016, 'sea': 3017, 'turkey': 3018, 'experiences': 3019, 'notified': 3020, 'urgent': 3021, 'ages': 3022, 'goodness': 3023, 'brother': 3024, 'quicker': 3025, 'tbw': 3026, 'color': 3027, 'vacation': 3028, 'shoutout': 3029, 'needing': 3030, 'obtain': 3031, 'asks': 3032, 'quiet': 3033, 'portion': 3034, 'older': 3035, 'misplay': 3036, 'greatly': 3037, 'tweeted': 3038, 'restored': 3039, 'fries': 3040, 'joy': 3041, 'vt': 3042, 'involved': 3043, 'itinerary': 3044, 'operate': 3045, 'eats': 3046, '🏼': 3047, '♀': 3048, 'jen': 3049, 'andre': 3050, 'pins': 3051, 'spoiled': 3052, 'requests': 3053, 'unexpected': 3054, 'nobelium': 3055, 'promises': 3056, 'lm': 3057, 'speculative': 3058, 'material': 3059, 'cutting': 3060, 'lazy': 3061, 'carriers': 3062, 'disgrace': 3063, 'plugged': 3064, 'edit': 3065, 'max': 3066, 'cars': 3067, 'heathrow': 3068, 'screwing': 3069, 'rejected': 3070, 'marked': 3071, 'yay': 3072, 'disc': 3073, '🔥': 3074, 'lodge': 3075, 'engineering': 3076, 'typically': 3077, 'glass': 3078, 'planned': 3079, 'rear': 3080, 'written': 3081, 'reinstalled': 3082, '£1': 3083, 'downloading': 3084, 'according': 3085, 'eve': 3086, 'names': 3087, '£5': 3088, 'assistant': 3089, 'misleading': 3090, 'runs': 3091, 'promotional': 3092, 'incompetence': 3093, 'held': 3094, 'owner': 3095, 'benefits': 3096, 'furious': 3097, 'usps': 3098, 'liz': 3099, 'lightroom': 3100, '36': 3101, 'sometime': 3102, 'originally': 3103, 'fifteen': 3104, 'uncollectible': 3105, 'jt': 3106, 'filling': 3107, 'iii': 3108, 'abt': 3109, 'backing': 3110, 'invalid': 3111, 'requirements': 3112, 'corresponding': 3113, 'bang': 3114, 'training': 3115, 'sub': 3116, 'depot': 3117, 'grounds': 3118, 'unitedly': 3119, 'oneself': 3120, 'unlocked': 3121, 'protection': 3122, 'orchard': 3123, 'suction': 3124, 'gg': 3125, 'marc': 3126, 'heading': 3127, 'girls': 3128, 'uninstall': 3129, 'replies': 3130, 'circuit': 3131, 'spirit': 3132, 'appalling': 3133, 'repeat': 3134, 'dave': 3135, 'easily': 3136, 'frame': 3137, '😐': 3138, 'savings': 3139, 'served': 3140, 'wagon': 3141, 'renew': 3142, 'downgrade': 3143, 'responsibility': 3144, 'spending': 3145, 'safely': 3146, 'forum': 3147, '4k': 3148, '😡😡😡': 3149, 'hq': 3150, 'salad': 3151, 'kp': 3152, 'necessitate': 3153, 'sum': 3154, 'amzl': 3155, '08': 3156, 'fruit': 3157, 'steak': 3158, 'acc': 3159, '500': 3160, 'fuel': 3161, 'silly': 3162, 'filed': 3163, 'encountered': 3164, 'vegas': 3165, 'aisle': 3166, 'shuffle': 3167, 'observe': 3168, 'uses': 3169, 'preston': 3170, 'tk': 3171, 'likewise': 3172, 'kidding': 3173, 'suppliers': 3174, 'rectify': 3175, 'rmd': 3176, 'suspended': 3177, 'bath': 3178, 'personally': 3179, 'books': 3180, 'nq': 3181, 'av': 3182, 'worriment': 3183, 'jetblue': 3184, 'smooth': 3185, 'stranded': 3186, '😎': 3187, 'willing': 3188, 'milk': 3189, 'zm': 3190, 'qz': 3191, 'uninstalling': 3192, 'dd': 3193, 'shaun': 3194, 'jd': 3195, 'dept': 3196, 'ro': 3197, 'compliment': 3198, 'terminate': 3199, 'improper': 3200, 'soup': 3201, '30pm': 3202, 'purpose': 3203, 'pages': 3204, 'stamp': 3205, 'apologia': 3206, 'alike': 3207, 'overhead': 3208, '✈': 3209, 'shouldn’': 3210, 'tone': 3211, 'ink': 3212, 'signing': 3213, 'kirsty': 3214, 'expire': 3215, '07': 3216, 'soft': 3217, 'wt': 3218, '🏽': 3219, 'handling': 3220, 'sites': 3221, 'successful': 3222, 'noted': 3223, 'canada': 3224, 'thousands': 3225, 'policies': 3226, 'vue': 3227, 'accident': 3228, 'discontinue': 3229, 'themselves': 3230, 'earned': 3231, 'court': 3232, 'compatible': 3233, 'messaging': 3234, 'clarification': 3235, 'mc': 3236, 'government': 3237, 'unusable': 3238, 'jg': 3239, 'pocket': 3240, 'contain': 3241, 'kingdom': 3242, 'zone': 3243, 'induce': 3244, 'edge': 3245, 'vehicle': 3246, 'bump': 3247, 'rent': 3248, 'clothes': 3249, 'shock': 3250, 'puerto': 3251, 'ailment': 3252, 'glitches': 3253, 'lane': 3254, 'addresses': 3255, 'bout': 3256, 'valued': 3257, 'fd': 3258, 'incredible': 3259, 'cleared': 3260, 'joining': 3261, 'bothered': 3262, 'agreed': 3263, 'sausage': 3264, 'egg': 3265, 'farewell': 3266, 'kid': 3267, 'browsers': 3268, 'felt': 3269, 'corner': 3270, 'handy': 3271, 'blocking': 3272, 'heavy': 3273, 'cute': 3274, 'unwashed': 3275, 'parents': 3276, 'skin': 3277, 'dot': 3278, 'ingredients': 3279, 'atlanta': 3280, 'ss': 3281, 'tsa': 3282, 'incommodiousness': 3283, 'advertising': 3284, 'engineers': 3285, 'unlike': 3286, 'toll': 3287, 'temporarily': 3288, 'anybody': 3289, 'lj': 3290, 'hsb': 3291, 'everywhere': 3292, 'haywire': 3293, 'supported': 3294, 'yogita': 3295, 'smell': 3296, 'conf': 3297, 'routes': 3298, 'ay': 3299, 'token': 3300, 'bh': 3301, 'dump': 3302, 'messing': 3303, 'gates': 3304, 'exclusive': 3305, 'captain': 3306, 'alter': 3307, 'risky': 3308, '75': 3309, 'issued': 3310, 'employ': 3311, 'eight': 3312, 'circumstances': 3313, 'scratch': 3314, 'corey': 3315, 'forged': 3316, '80': 3317, 'identity': 3318, 'absurd': 3319, 'you’': 3320, 'discomfited': 3321, 'diwali': 3322, 'marketing': 3323, 'enabled': 3324, 'deeper': 3325, 'judge': 3326, 'preferences': 3327, 'brick': 3328, 'idiot': 3329, 'useful': 3330, 'split': 3331, 'preordered': 3332, 'mp': 3333, 'laugh': 3334, 'phoebe': 3335, 'icon': 3336, 'cheated': 3337, 'jam': 3338, 'foiling': 3339, 'decent': 3340, 'ate': 3341, '2d': 3342, '150': 3343, 'als': 3344, 'incorrectly': 3345, 'doors': 3346, 'throughout': 3347, 'planning': 3348, 'disable': 3349, 'meaning': 3350, 'wire': 3351, 'fear': 3352, 'et': 3353, 'hapless': 3354, 'grease': 3355, 'commercials': 3356, 'clt': 3357, 'valuable': 3358, 'dispatch': 3359, 'miami': 3360, 'worried': 3361, 'gps': 3362, 'pair': 3363, 'criminal': 3364, 'parent': 3365, 'clue': 3366, 'kl': 3367, 'contains': 3368, 'allowing': 3369, 'bottle': 3370, 'occurring': 3371, 'disconnect': 3372, 'reviews': 3373, 'jz': 3374, '😂😂😂': 3375, 'you’ll': 3376, 'texting': 3377, 'affecting': 3378, 'mile': 3379, 'trick': 3380, 'depending': 3381, 'severely': 3382, 'invalidate': 3383, 'household': 3384, 'utilize': 3385, 'prepaid': 3386, 'regularly': 3387, 'readjust': 3388, 'announced': 3389, 'remain': 3390, 'removing': 3391, 'fleet': 3392, 'nv': 3393, 'hack': 3394, 'essay': 3395, 'rc': 3396, 'build': 3397, 'overall': 3398, 'sends': 3399, 'produce': 3400, 'describe': 3401, 'parcels': 3402, 'lagging': 3403, 'deactivated': 3404, 'depreciate': 3405, 'usable': 3406, 'inconveniences': 3407, 'apartment': 3408, 'keys': 3409, 'ce': 3410, 'shoes': 3411, 'rebooked': 3412, 'examine': 3413, 'aldi': 3414, 'badness': 3415, 'input': 3416, 'uncommitted': 3417, 'stephen': 3418, 'kit': 3419, 'finger': 3420, 'images': 3421, 'messaged': 3422, 'railway': 3423, 'winner': 3424, 'pics': 3425, 'ability': 3426, 'refuses': 3427, 'electric': 3428, 'passport': 3429, 'bell': 3430, 'vicky': 3431, 'dry': 3432, 'swa': 3433, 'nj': 3434, 'beer': 3435, 'masses': 3436, 'chip': 3437, '70': 3438, 'tax': 3439, 'postmates': 3440, 'wallet': 3441, 'bz': 3442, 'representatives': 3443, 'th': 3444, 'regretful': 3445, 'lights': 3446, 'taylor': 3447, 'accurate': 3448, 'lousy': 3449, 'trusted': 3450, 'weak': 3451, 'wide': 3452, 'sooner': 3453, 'exciting': 3454, 'mortal': 3455, '55': 3456, 'minimum': 3457, 'offset': 3458, 'tbh': 3459, 'command': 3460, 'tms': 3461, 'affect': 3462, 'epic': 3463, 'perform': 3464, 'railroad': 3465, 'sorting': 3466, 'drove': 3467, 'celebrate': 3468, 'jennifer': 3469, 'bound': 3470, 'excuses': 3471, 'untimely': 3472, 'kelly': 3473, 'jon': 3474, 'shirt': 3475, 'trolley': 3476, 'silver': 3477, 'experts': 3478, 'jn': 3479, 'flown': 3480, 'simon': 3481, '👏': 3482, '02': 3483, 'strain': 3484, 'unseasonable': 3485, 'eric': 3486, 'matthew': 3487, 'craig': 3488, 'documentation': 3489, 'convey': 3490, 'loud': 3491, 'officially': 3492, 'brightness': 3493, 'global': 3494, 'brief': 3495, 'counting': 3496, 'elbow': 3497, 'drain': 3498, 'bridge': 3499, 'timetable': 3500, 'reviewed': 3501, 'includes': 3502, 'deactivate': 3503, 'wwii': 3504, 'se': 3505, '✈️': 3506, 'inconvenient': 3507, 'nbc': 3508, 'stimulate': 3509, 'caller': 3510, 'cp': 3511, 'admit': 3512, 'safari': 3513, 'approved': 3514, 'landed': 3515, 'yahoo': 3516, 'devote': 3517, 'rico': 3518, 'clients': 3519, 'ray': 3520, 'suit': 3521, 'suitcase': 3522, 'arm': 3523, 'republic': 3524, 'hundreds': 3525, 'looping': 3526, 'pleasant': 3527, 'thence': 3528, '😓': 3529, 'twelvemonth': 3530, 'vote': 3531, 'whoever': 3532, 'usb': 3533, 'tune': 3534, 'ashley': 3535, 'dedicated': 3536, 'knock': 3537, 'greggs': 3538, 'deny': 3539, 'caravan': 3540, 'nookie': 3541, 'levels': 3542, 'wind': 3543, 'pesa': 3544, 'encourage': 3545, 'enjoin': 3546, 'dw': 3547, 'project': 3548, 'butter': 3549, 'maps': 3550, 'engagement': 3551, 'sophie': 3552, 'tablet': 3553, 'shops': 3554, 'obstetrical': 3555, 'natural': 3556, 'anthony': 3557, 'unbelievable': 3558, 'cake': 3559, 'national': 3560, 'orlando': 3561, 'amiss': 3562, 'threw': 3563, 'patient': 3564, 'banks': 3565, '😣': 3566, 'boarded': 3567, 'places': 3568, 'afterwards': 3569, 'chirrup': 3570, 'claire': 3571, 'fl': 3572, 'ph': 3573, 'plate': 3574, 'catering': 3575, 'impression': 3576, 'refers': 3577, 'consistent': 3578, 'warm': 3579, 'oops': 3580, 'yell': 3581, 'com': 3582, 'requirement': 3583, 'publicly': 3584, 'courtesy': 3585, 'ala': 3586, 'cashback': 3587, 'barrage': 3588, 'wedding': 3589, 'crewe': 3590, 'employment': 3591, 'osebi': 3592, 'serial': 3593, 'jesus': 3594, 'patch': 3595, 'hurricane': 3596, '29': 3597, 'refusing': 3598, 'shocked': 3599, 'harassment': 3600, 'sandwiches': 3601, 'dissatisfactory': 3602, 'pk': 3603, 'hire': 3604, 'capture': 3605, 'suli': 3606, 'unusual': 3607, 'renewal': 3608, 'cardiff': 3609, 'interesting': 3610, 'cg': 3611, 'bucks': 3612, 'craving': 3613, 'collected': 3614, '2016': 3615, 'cox': 3616, 'writing': 3617, 'michelle': 3618, 'lend': 3619, 'ludicrous': 3620, '400': 3621, 'weight': 3622, 'newfangled': 3623, 'stating': 3624, 'hub': 3625, 'tip': 3626, 'dca': 3627, 'b4': 3628, 'outlet': 3629, 'rates': 3630, 'acquire': 3631, 'alternatively': 3632, 'musical': 3633, 'invite': 3634, 'enforcement': 3635, '🙈': 3636, 'deducted': 3637, 'reaction': 3638, 'kings': 3639, 'packed': 3640, 'genuine': 3641, 'deep': 3642, 'fixes': 3643, 'creative': 3644, 'comfort': 3645, 'mini': 3646, 'inquire': 3647, 'nicole': 3648, 'photoshop': 3649, 'signalling': 3650, 'role': 3651, '05': 3652, 'ashamed': 3653, 'palms': 3654, 'routine': 3655, 'appalled': 3656, 'refresh': 3657, 'repp': 3658, 'mails': 3659, 'complained': 3660, 'abn': 3661, 'silent': 3662, 'elite': 3663, 'caught': 3664, 'tarmac': 3665, 'ck': 3666, 'mat': 3667, 'smoothly': 3668, 'september': 3669, 'rise': 3670, '😭😭😭': 3671, 'cap': 3672, 'curious': 3673, '😭😭': 3674, 'escort': 3675, 'entry': 3676, 'ball': 3677, 'packing': 3678, 'scrub': 3679, 'success': 3680, 'intended': 3681, 'inadequate': 3682, 'redeemed': 3683, 'companionship': 3684, 'airasia': 3685, 'retail': 3686, 'indian': 3687, 'bake': 3688, 'comfortable': 3689, 'charles': 3690, 'searching': 3691, 'slower': 3692, 'costume': 3693, 'goddamn': 3694, 'vary': 3695, 'vp': 3696, 'intellectual': 3697, 'nourishment': 3698, 'capacity': 3699, 'cont': 3700, 'treatment': 3701, 'animal': 3702, 'wing': 3703, '😳': 3704, 'hood': 3705, 'concluding': 3706, 'proud': 3707, 'ignominy': 3708, 'gearing': 3709, 'numerous': 3710, 'merely': 3711, 'jazz': 3712, 'handed': 3713, 'hardware': 3714, 'coz': 3715, 'ceo': 3716, 'voicemail': 3717, 'heck': 3718, 'bearing': 3719, 'daytime': 3720, 'lease': 3721, 'heed': 3722, 'ri': 3723, 'named': 3724, 'august': 3725, 'seemed': 3726, 'pushed': 3727, 'prestige': 3728, 'testing': 3729, 'returns': 3730, 'crashed': 3731, 'comparable': 3732, 'forms': 3733, 'recipe': 3734, 'subscribed': 3735, 'born': 3736, 'versions': 3737, 'lr': 3738, 'custom': 3739, 'stage': 3740, '42': 3741, 'rl': 3742, '26': 3743, 'typing': 3744, 'thwarted': 3745, 'glitchy': 3746, 'advent': 3747, 'destroyed': 3748, 'requires': 3749, 'lucy': 3750, 'nd': 3751, 'upsetting': 3752, 'blaming': 3753, 'kills': 3754, 'bos': 3755, '01': 3756, 'severe': 3757, 'inflight': 3758, '10pm': 3759, 'retard': 3760, 'escalation': 3761, 'diff': 3762, 'wee': 3763, 'permission': 3764, 'journeys': 3765, 'disappear': 3766, 'operator': 3767, 'pradnya': 3768, 'claiming': 3769, 'jv': 3770, 'factory': 3771, 'horrific': 3772, 'newest': 3773, 'confusing': 3774, 'wretched': 3775, 'rich': 3776, '30am': 3777, 'tp': 3778, 'cipher': 3779, 'instantly': 3780, 'fish': 3781, 'discussed': 3782, 'installation': 3783, 'il': 3784, 'successfully': 3785, 'mum': 3786, 'pixel': 3787, 'jules': 3788, 'wrap': 3789, 'hill': 3790, 'taco': 3791, 'seek': 3792, 'temp': 3793, 'staying': 3794, 'rebooting': 3795, 'sensation': 3796, 'unsatisfying': 3797, 'scheme': 3798, 'hc': 3799, 'repent': 3800, 'mental': 3801, '🤢': 3802, 'sue': 3803, 'jane': 3804, 'noah': 3805, 'solutions': 3806, 'hurry': 3807, 'avios': 3808, 'europe': 3809, 'dress': 3810, 'interface': 3811, 'consistently': 3812, 'fulfilled': 3813, 'deplorable': 3814, 'arts': 3815, 'depends': 3816, 'worker': 3817, 'entering': 3818, 'marks': 3819, 'improved': 3820, 'thin': 3821, 'blow': 3822, 'congrats': 3823, 'managers': 3824, 'alive': 3825, 'sa': 3826, 'intend': 3827, 'bv': 3828, 'maria': 3829, 'dtw': 3830, 'loves': 3831, 'oxycantha': 3832, 'increased': 3833, 'length': 3834, 'lay': 3835, 'communicate': 3836, 'te': 3837, 'smaller': 3838, 'circle': 3839, 'chaos': 3840, '😘': 3841, 'intimate': 3842, 'sex': 3843, 'wlan': 3844, 'houston': 3845, 'nighttime': 3846, 'popular': 3847, 'studio': 3848, '😷': 3849, 'impress': 3850, 'jamie': 3851, 'grocery': 3852, 'cord': 3853, 'alice': 3854, 'notify': 3855, 'bargain': 3856, 'medium': 3857, 'raising': 3858, 'resolving': 3859, 'dm’': 3860, 'lags': 3861, 'misfortunate': 3862, 'anyways': 3863, 'entertainment': 3864, 'slowly': 3865, 'unresponsive': 3866, 'kicked': 3867, 'establish': 3868, 'abuse': 3869, 'processed': 3870, 'filing': 3871, 'shelling': 3872, 'broadcast': 3873, '2x': 3874, 'incur': 3875, 'providers': 3876, 'parliamentary': 3877, 'expend': 3878, 'fund': 3879, '03': 3880, 'female': 3881, 'outreach': 3882, '5th': 3883, 'paste': 3884, 'chose': 3885, 'moldiness': 3886, 'tool': 3887, 'race': 3888, 'coast': 3889, 'shepard': 3890, 'complimentary': 3891, 'eventually': 3892, 'pies': 3893, 'defeated': 3894, 'sour': 3895, 'morrisons': 3896, 'basket': 3897, 'license': 3898, 'nutrient': 3899, 'considered': 3900, 'wm': 3901, 'tm': 3902, 'assault': 3903, 'corn': 3904, 'rely': 3905, 'operation': 3906, 'gotcha': 3907, 'appearance': 3908, 'director': 3909, 'benefit': 3910, 'cases': 3911, 'referral': 3912, 'su': 3913, 'passes': 3914, 'cancels': 3915, 'unreliable': 3916, 'instant': 3917, 'programme': 3918, 'multitude': 3919, 'unfree': 3920, 'tested': 3921, 'flash': 3922, '£10': 3923, '102': 3924, 'grateful': 3925, 'entered': 3926, 'altogether': 3927, 'award': 3928, 'sigh': 3929, 'darshan': 3930, 'att': 3931, 'breaking': 3932, 'squat': 3933, 'fool': 3934, 'downloads': 3935, '😋': 3936, 'actions': 3937, 'watched': 3938, 'arrest': 3939, 'db': 3940, 'fellow': 3941, 'finished': 3942, 'settle': 3943, 'wrongly': 3944, 'charter': 3945, 'swift': 3946, 'irish': 3947, 'parts': 3948, 'corrected': 3949, 'verified': 3950, 'gesture': 3951, 'thrilled': 3952, 'dying': 3953, 'expiration': 3954, 'oxford': 3955, 'infernal': 3956, 'string': 3957, 'scared': 3958, 'wild': 3959, 'tjf': 3960, 'checkin': 3961, '31': 3962, 'twist': 3963, 'aye': 3964, 'production': 3965, 'communicating': 3966, 'aadhar': 3967, 'printing': 3968, 'coaches': 3969, 'gimmick': 3970, 'landing': 3971, 'whatsoever': 3972, 'hair': 3973, 'threatening': 3974, '49': 3975, 'phl': 3976, 'ez': 3977, 'pose': 3978, 'ls': 3979, 'goods': 3980, 'sainsbury': 3981, 'sha': 3982, 'pool': 3983, 'opt': 3984, 'stats': 3985, 'rolling': 3986, 'commute': 3987, '8am': 3988, 'vendor': 3989, 'attack': 3990, '43': 3991, 'reduce': 3992, 'pj': 3993, 'dissimilar': 3994, 'enquire': 3995, 'euphony': 3996, 'mustiness': 3997, 'pitiable': 3998, 'screens': 3999, 'bot': 4000, 'rebooted': 4001, 'bay': 4002, 'thinks': 4003, 'defrayment': 4004, 'hk': 4005, 'buggy': 4006, 'breaks': 4007, 'digit': 4008, 'expectations': 4009, 'nt': 4010, 'anwar': 4011, 'drains': 4012, 'mahindra': 4013, 'kev': 4014, 'contest': 4015, 'source': 4016, 'tenner': 4017, 'mexico': 4018, 'glitching': 4019, 'generally': 4020, 'oeuvre': 4021, 'july': 4022, 'discussion': 4023, 'men': 4024, 'triplet': 4025, 'meals': 4026, 'monetary': 4027, 'import': 4028, '👌': 4029, 'neha': 4030, 'playback': 4031, 'prepare': 4032, 'gluten': 4033, 'occurs': 4034, 'hannah': 4035, 'dream': 4036, 'disk': 4037, 'martin': 4038, 'woke': 4039, 'halt': 4040, 'initiated': 4041, 'reschedule': 4042, 'discontinued': 4043, 'enable': 4044, 'gifts': 4045, '9pm': 4046, 'receipts': 4047, 'contents': 4048, 'slate': 4049, 'ojo': 4050, 'surprised': 4051, 'oyster': 4052, 'hml': 4053, 'theres': 4054, 'bomb': 4055, 'ex': 4056, 'naomi': 4057, 'firefox': 4058, 'warfare': 4059, 'cypher': 4060, 'ineffectual': 4061, 'roast': 4062, 'angel': 4063, 'develop': 4064, 'factor': 4065, 'posts': 4066, 'bike': 4067, 'instance': 4068, 'accounting': 4069, 'van': 4070, 'horrifying': 4071, 'functionality': 4072, '06': 4073, 'joanne': 4074, 'taylorbest': 4075, 'shell': 4076, 'nooky': 4077, 'wear': 4078, 'bummer': 4079, 'links': 4080, 'boycott': 4081, 'cares': 4082, '09': 4083, 'film': 4084, 'sake': 4085, 'june': 4086, 'qualify': 4087, 'nigh': 4088, 'susan': 4089, '✅': 4090, 'unmanageable': 4091, 'satisfactory': 4092, 'hangs': 4093, 'mince': 4094, 'it’ll': 4095, 'dis': 4096, 'coin': 4097, 'halal': 4098, 'fin': 4099, 'destroy': 4100, 'families': 4101, 'picking': 4102, 'xp': 4103, 'expiry': 4104, 'flyer': 4105, 'ears': 4106, 'blocks': 4107, 'supplies': 4108, 'attempting': 4109, 'medicine': 4110, 'tmb': 4111, 'he’': 4112, 'wall': 4113, 'campaign': 4114, 'earnest': 4115, 'vex': 4116, 'merchant': 4117, 'eps': 4118, 'claimed': 4119, '✉': 4120, 'she’': 4121, '👀': 4122, 'anna': 4123, 'tower': 4124, 'locating': 4125, 'fellowship': 4126, 'xv': 4127, 'cn': 4128, 'darn': 4129, 'jim': 4130, 'spare': 4131, 'justin': 4132, 'french': 4133, 'eff': 4134, 'average': 4135, 'whitethorn': 4136, 'gd': 4137, 'prize': 4138, 'selecting': 4139, 'dig': 4140, 'accepting': 4141, 'ante': 4142, 'zombies': 4143, 'tills': 4144, 'browsing': 4145, 'overnight': 4146, 'confidence': 4147, 'suggested': 4148, 'pound': 4149, 'shucks': 4150, 'companion': 4151, 'betray': 4152, 'enunciate': 4153, 'adult': 4154, '1hr': 4155, 'kc': 4156, 'mate': 4157, 'billed': 4158, 'differentiate': 4159, 'tries': 4160, 'liked': 4161, 'greater': 4162, '6th': 4163, 'ninety': 4164, 'king': 4165, 'ws': 4166, 'whitneyj': 4167, 'chronicle': 4168, 'tony': 4169, 'las': 4170, 'felicitous': 4171, 'pine': 4172, 'flat': 4173, '🥕': 4174, 'recognise': 4175, 'papa': 4176, 'aerodrome': 4177, '600': 4178, 'launching': 4179, 'ton': 4180, 'accessing': 4181, 'bundles': 4182, 'bequeath': 4183, 'recorded': 4184, 'represent': 4185, 'rebecca': 4186, 'students': 4187, 'stephanie': 4188, 'foremost': 4189, 'deliverance': 4190, 'ending': 4191, 'cent': 4192, 'kn': 4193, '❤': 4194, 'tracks': 4195, 'unplug': 4196, 'unnecessary': 4197, 'unluckily': 4198, 'liar': 4199, 'rw': 4200, 'beef': 4201, 'behaviour': 4202, 'particularly': 4203, 'connections': 4204, 'ho': 4205, 'topic': 4206, 'resume': 4207, 'suffering': 4208, 'upcoming': 4209, 'piteous': 4210, 'ord': 4211, 'boston': 4212, 'bd': 4213, 'faith': 4214, 'urgently': 4215, 'samantha': 4216, 's8': 4217, 'countries': 4218, 'denver': 4219, 'specifics': 4220, 'becomes': 4221, 'rating': 4222, 'imessage': 4223, 'noticing': 4224, 'megan': 4225, 'focus': 4226, 'aww': 4227, 'reasonable': 4228, 'invariably': 4229, 'energy': 4230, 'earnestly': 4231, 'adjust': 4232, 'hose': 4233, 'attempts': 4234, 'patrick': 4235, 'geartrain': 4236, 'abstain': 4237, 'worthless': 4238, 'pkg': 4239, 'complex': 4240, 'praise': 4241, 'gabby': 4242, 'winter': 4243, 'format': 4244, 'bribe': 4245, 'handset': 4246, 'reject': 4247, 'mco': 4248, 'aboard': 4249, 'emoji': 4250, 'intermittent': 4251, 'fox': 4252, 'coupons': 4253, 'bb': 4254, 'stayed': 4255, 'speedy': 4256, 'ajz': 4257, 'summer': 4258, '📱': 4259, 'kate': 4260, 'mohit': 4261, 'afm': 4262, 'standards': 4263, 'ui': 4264, 'requital': 4265, 'california': 4266, 'square': 4267, 'cook': 4268, 'loaded': 4269, 'enterprise': 4270, 'bogo': 4271, 'alan': 4272, 'overdraft': 4273, 'sept': 4274, 'tryna': 4275, 'pops': 4276, 'colour': 4277, 'million': 4278, 'events': 4279, 'doctor': 4280, 'warehouse': 4281, 'advanced': 4282, 'warner': 4283, 'assay': 4284, 'signature': 4285, 'du': 4286, 'riders': 4287, 'hole': 4288, 'ain’': 4289, 'kittyg': 4290, 'hadn': 4291, 'succeeding': 4292, 'radio': 4293, 'ideal': 4294, '250': 4295, 'bg': 4296, 'shtup': 4297, 'viewing': 4298, 'mostly': 4299, 'allows': 4300, 'characters': 4301, 'jake': 4302, 'understood': 4303, 'various': 4304, 'rescheduled': 4305, 'grab': 4306, 'op': 4307, 'workers': 4308, 'dive': 4309, 'thankful': 4310, 'tr': 4311, 'fetch': 4312, 'monitor': 4313, 'knowing': 4314, 'revenue': 4315, 'multi': 4316, 'laid': 4317, 'headed': 4318, 'ireland': 4319, 'eh': 4320, 'portal': 4321, 'eus': 4322, 'kimball': 4323, 'provides': 4324, 'omit': 4325, 'unmatched': 4326, 'doubly': 4327, 'mv': 4328, 'brings': 4329, 'gladly': 4330, 'shawn': 4331, 'ghost': 4332, 'mathematical': 4333, '47': 4334, 'hide': 4335, 'nfl': 4336, 'dee': 4337, 'stranger': 4338, 'petrol': 4339, 'madeeha': 4340, 'identification': 4341, 'crack': 4342, 'yana': 4343, '59': 4344, 'tx': 4345, 'cf': 4346, 'endure': 4347, 'thousand': 4348, 'permanent': 4349, 'witness': 4350, 'restaurants': 4351, 'jobs': 4352, 'mesh': 4353, 'bo': 4354, 'poster': 4355, 'faced': 4356, 'addition': 4357, 'rag': 4358, 'bali': 4359, 'decline': 4360, 'slightly': 4361, 'disgraceful': 4362, 'obvious': 4363, 'mood': 4364, 'gap': 4365, 'unexpectedly': 4366, 'deficiency': 4367, 'helen': 4368, 'precisely': 4369, 'fiber': 4370, 'motion': 4371, 'roaming': 4372, 'leeds': 4373, '😡😡': 4374, 'tier': 4375, 'reorder': 4376, 'browse': 4377, 'women': 4378, 'pink': 4379, 'texas': 4380, 'gemma': 4381, 'luckily': 4382, 'master': 4383, 'bills': 4384, 'allan': 4385, 'sensitive': 4386, 'wit': 4387, 'costumer': 4388, 'wake': 4389, 'lp': 4390, 'quesadilla': 4391, 'neighborhood': 4392, 'forums': 4393, 'fancy': 4394, 'quadruplet': 4395, 'rang': 4396, 'csr': 4397, 'philly': 4398, 'recognition': 4399, 'welcoming': 4400, 'sight': 4401, 'completing': 4402, 'dam': 4403, 'datum': 4404, 'distance': 4405, 'galaxy': 4406, 'chorizo': 4407, 'selective': 4408, 'nursing': 4409, 'exceptional': 4410, 'unethical': 4411, 'pe': 4412, '😟': 4413, 'filthy': 4414, 'wholly': 4415, 'departed': 4416, 'zw': 4417, 'heat': 4418, 'porting': 4419, 'aos': 4420, 'adp': 4421, 'pilots': 4422, 'habituate': 4423, 'yup': 4424, 'cleaning': 4425, 'dogshit': 4426, 'kul': 4427, 'harm': 4428, 'hat': 4429, 'acceptance': 4430, 'political': 4431, 'intercourse': 4432, 'irritating': 4433, 'wearing': 4434, 'eg': 4435, 'spread': 4436, '360': 4437, 'kfc': 4438, 'incoming': 4439, 'plays': 4440, 'url': 4441, 'developers': 4442, 'twc': 4443, 'messenger': 4444, 'cuts': 4445, 'yourselves': 4446, 'britain': 4447, 'responsible': 4448, 'investigated': 4449, 'cast': 4450, 'bite': 4451, 'boys': 4452, 'applications': 4453, 'awry': 4454, 'nat': 4455, 'trr': 4456, 'rhys': 4457, 'websites': 4458, 'thankyou': 4459, '🌮': 4460, 'mu': 4461, 'insincerely': 4462, 'shite': 4463, 'january': 4464, 'viacom': 4465, 'rocking': 4466, 'overseas': 4467, 'bn': 4468, 'mistakes': 4469, 'initial': 4470, 'carrying': 4471, 'competition': 4472, 'likes': 4473, 'noise': 4474, 'mechanically': 4475, 'programs': 4476, 'queries': 4477, 'persist': 4478, 'guessing': 4479, 'theft': 4480, 'placing': 4481, 'dawn': 4482, 'pointed': 4483, 'headquarters': 4484, '🙏': 4485, 'announce': 4486, 'temporary': 4487, 'repairs': 4488, 'hdmi': 4489, 'smile': 4490, 'livid': 4491, 'survive': 4492, 'repeated': 4493, 'occasion': 4494, 'vii': 4495, 'atleast': 4496, 'ast': 4497, 'unsuccessful': 4498, 'harassing': 4499, '7am': 4500, 'tools': 4501, 'entitled': 4502, 'boost': 4503, 'miza': 4504, 'rg': 4505, 'outrageous': 4506, 'creating': 4507, 'syncing': 4508, 'hb': 4509, 'toilets': 4510, 'fans': 4511, 'preference': 4512, 'pit': 4513, 'loge': 4514, 'deserves': 4515, 'assholes': 4516, 'discounted': 4517, 'ig': 4518, 'root': 4519, 'abroad': 4520, 'cargo': 4521, 'el': 4522, 'baffle': 4523, 'facility': 4524, 'td': 4525, 'mcrib': 4526, 'fork': 4527, 'telecon': 4528, '🤗': 4529, 'rue': 4530, 'prob': 4531, 'farm': 4532, 'dming': 4533, 'florida': 4534, 'advertisement': 4535, 'dp': 4536, 'diddly': 4537, 'horseshit': 4538, 'prabu': 4539, 'sustain': 4540, 'bye': 4541, 'jessica': 4542, 'racist': 4543, 'estimates': 4544, 'resource': 4545, 'unplugged': 4546, 'jet': 4547, 'washington': 4548, 'secured': 4549, '56': 4550, 'billet': 4551, 'gravely': 4552, 'tix': 4553, 'svc': 4554, 'burnt': 4555, 'articulate': 4556, 'depend': 4557, 'embarrassing': 4558, 'logo': 4559, 'chop': 4560, 'directions': 4561, 'lettuce': 4562, 'shape': 4563, 'livery': 4564, 'discounts': 4565, 'unknown': 4566, 'dnd': 4567, 'quaternary': 4568, 'distressed': 4569, 'unrivalled': 4570, 'jayne': 4571, 'unitary': 4572, 'inferno': 4573, 'recieved': 4574, 'tg': 4575, 'setup': 4576, 'bankruptcy': 4577, 'tunes': 4578, 'carte': 4579, 'acj': 4580, 'institution': 4581, 'frequently': 4582, 'ships': 4583, 'purposes': 4584, 'healthy': 4585, 'supporter': 4586, 'continuing': 4587, 'they’ve': 4588, 'pure': 4589, 'injury': 4590, 'vitamin': 4591, 'guidance': 4592, 'unsufferable': 4593, 'movement': 4594, 'mouth': 4595, 'insult': 4596, 'fidelity': 4597, 'garlic': 4598, 'manufacturer': 4599, 'interchange': 4600, 'attach': 4601, 'opens': 4602, 'tb': 4603, 'devil': 4604, 'suitable': 4605, 'holders': 4606, 'pity': 4607, 'met': 4608, 'tiny': 4609, 'reconnect': 4610, 'fashion': 4611, 'pushing': 4612, 'helpline': 4613, 'vh': 4614, 'vb': 4615, 'yummy': 4616, 'snap': 4617, 'callback': 4618, 'disadvantageously': 4619, 'bid': 4620, 'utmost': 4621, 'magnitude': 4622, 'ternary': 4623, 'folders': 4624, 'temperature': 4625, 'extended': 4626, 'tn': 4627, 'panel': 4628, 'hav': 4629, 'mystify': 4630, 'ld': 4631, 'austin': 4632, 'towers': 4633, 'opposite': 4634, 'victoria': 4635, 'nonstarter': 4636, 'naught': 4637, 'li': 4638, 'kitchen': 4639, 'kerry': 4640, 'peerless': 4641, 'layout': 4642, 'aisha': 4643, 'nut': 4644, 'advertise': 4645, 'milton': 4646, 'keynes': 4647, 'comp': 4648, 'sts': 4649, 'regardless': 4650, 'ignoring': 4651, 'layover': 4652, 'buck': 4653, 'liars': 4654, 'couldnt': 4655, 'pl': 4656, 'gary': 4657, 'duplicate': 4658, 'grace': 4659, 'everybody': 4660, 'toys': 4661, 'dreaded': 4662, 'recharged': 4663, 'ripe': 4664, 'utilise': 4665, 'approach': 4666, 'greg': 4667, 'unintelligent': 4668, '7th': 4669, 'advertised': 4670, 'efforts': 4671, 'bucket': 4672, 'chain': 4673, 'crisps': 4674, 'developer': 4675, 'stocking': 4676, 'idiots': 4677, 'troupe': 4678, 'nrc': 4679, 'profit': 4680, 'kh': 4681, 'executives': 4682, 'terzetto': 4683, 'pasta': 4684, 'ol': 4685, 'workplace': 4686, 'aadvantage': 4687, 'tally': 4688, 'moneycard': 4689, 'headache': 4690, 'madison': 4691, 'mrp': 4692, 'flow': 4693, 'hint': 4694, 'closely': 4695, 'tilt': 4696, 'gf': 4697, 'whatsapp': 4698, '2015': 4699, 'fucker': 4700, '2pm': 4701, 'infuriating': 4702, 'pieces': 4703, 'hahaha': 4704, 'exclude': 4705, 'eighter': 4706, 'vn': 4707, 'overcharged': 4708, 'blind': 4709, 'gu': 4710, 'honour': 4711, 'blaze': 4712, 'shelf': 4713, 'puzzle': 4714, 'suspend': 4715, 'restarts': 4716, 'adventure': 4717, 'wayne': 4718, 'robot': 4719, 'explained': 4720, 'buzz': 4721, 'prevaricator': 4722, 'dev': 4723, 'draining': 4724, 'signs': 4725, 'pot': 4726, 'hither': 4727, 'mountain': 4728, 'cared': 4729, 'postpaid': 4730, 'blast': 4731, 'retiring': 4732, 'tick': 4733, 'insufferable': 4734, 'becoming': 4735, 'germany': 4736, 'dazed': 4737, 'leontyne': 4738, 'specialists': 4739, '33': 4740, 'loan': 4741, 'documents': 4742, 'hidden': 4743, 'rolls': 4744, 'trey': 4745, 'lo': 4746, 'boa': 4747, 'jan': 4748, 'improving': 4749, 'woohoo': 4750, 'newcastle': 4751, 'sample': 4752, 'excess': 4753, 'uploaded': 4754, 'beans': 4755, 'passion': 4756, 'stays': 4757, 'cracked': 4758, 'jersey': 4759, 'ganesh': 4760, 'smash': 4761, 'ae': 4762, '🏾': 4763, 'orange': 4764, 'scanned': 4765, 'hiding': 4766, 'shameful': 4767, 'unauthorized': 4768, 'smoke': 4769, 'scorpio': 4770, 'superstore': 4771, 'ram': 4772, 'airways': 4773, 'activision': 4774, 'joano': 4775, 'peace': 4776, 'irma': 4777, 'ridiculously': 4778, 'maine': 4779, 'shag': 4780, 'shake': 4781, 'ta': 4782, 'mailed': 4783, 'sid': 4784, 'machines': 4785, 'scroll': 4786, '2g': 4787, 'spell': 4788, 'unregretful': 4789, 'wipe': 4790, 'drunk': 4791, 'guildford': 4792, 'distressing': 4793, '72': 4794, 'impact': 4795, 'expand': 4796, 'honeymoon': 4797, 'highlight': 4798, 'guidelines': 4799, 'conk': 4800, 'happily': 4801, 'causes': 4802, 'charlie': 4803, 'trine': 4804, 'consequence': 4805, 'admin': 4806, 'lookout': 4807, 'xii': 4808, 'disgust': 4809, 'sticker': 4810, 'slc': 4811, 'wasnt': 4812, 'restricted': 4813, 'flexible': 4814, 'juan': 4815, 'fired': 4816, 'literal': 4817, 'countenance': 4818, 'designed': 4819, 'laevigata': 4820, 'si': 4821, 'ops': 4822, 'auth': 4823, 'batch': 4824, 'unsafe': 4825, 'wicked': 4826, 'cancer': 4827, 'rough': 4828, 'transmission': 4829, 'allowance': 4830, 'swr': 4831, 'threshold': 4832, 'rudeness': 4833, 'deduction': 4834, 'personnel': 4835, 'resend': 4836, 'hiya': 4837, '15th': 4838, 'bigger': 4839, 'shuts': 4840, 'gw': 4841, 'tampa': 4842, 'banker': 4843, 'communications': 4844, '🎄': 4845, 'magazine': 4846, 'reminder': 4847, 'pentad': 4848, 'conduct': 4849, 'runway': 4850, 'wheelchair': 4851, 'stressful': 4852, 'translate': 4853, 'assisting': 4854, 'boss': 4855, 'doorway': 4856, 'rickk': 4857, '39': 4858, 'buddy': 4859, 'trace': 4860, 'scary': 4861, 'tacos': 4862, 'snacks': 4863, 'slots': 4864, '☺': 4865, 'algorithm': 4866, 'potato': 4867, 'ross': 4868, 'solo': 4869, 'steph': 4870, '4pm': 4871, 'greetings': 4872, 'navigate': 4873, '😅': 4874, 'poorly': 4875, 'initiate': 4876, 'degree': 4877, 'belong': 4878, 'revolt': 4879, 'stoke': 4880, 'anti': 4881, 'certificate': 4882, 'adb': 4883, 'adapter': 4884, 'bri': 4885, 'espn': 4886, 'kmg': 4887, 'probs': 4888, 'hotels': 4889, 'wrote': 4890, 'ing': 4891, 'formal': 4892, '5am': 4893, 'bars': 4894, 'maximum': 4895, 'ps3': 4896, 'operations': 4897, 'sing': 4898, 'popping': 4899, 'unrivaled': 4900, 'motorcar': 4901, 'stupefied': 4902, 'fat': 4903, 'amruta': 4904, 'tvs': 4905, 'revised': 4906, 'struggle': 4907, 'perpetually': 4908, 'nigeria': 4909, 'doughnuts': 4910, 'popcorn': 4911, 'pn': 4912, 'floi': 4913, 'lists': 4914, '9th': 4915, 'dealings': 4916, 'adjacent': 4917, 'dematerialize': 4918, 'mf': 4919, '23rd': 4920, 'toy': 4921, 'circles': 4922, 'jeremy': 4923, 'airplane': 4924, 'jk': 4925, 'engineer': 4926, 'recall': 4927, 'correction': 4928, 'lumber': 4929, '👍🏼': 4930, 'melodic': 4931, 'firestick': 4932, 'rescript': 4933, 'ineffective': 4934, '29th': 4935, 'amit': 4936, 'vinod': 4937, 'union': 4938, 'built': 4939, 'nerve': 4940, '£20': 4941, 'cabinet': 4942, 'lobby': 4943, 'donuts': 4944, 'brooklyn': 4945, 'nox': 4946, 'thailand': 4947, 'lit': 4948, 'relax': 4949, '3x': 4950, 'wars': 4951, 'huh': 4952, 'andrea': 4953, 'harry': 4954, 'slice': 4955, 'subscribers': 4956, 'nike': 4957, 'reads': 4958, 'tasty': 4959, 'tercet': 4960, 'wj': 4961, 'hella': 4962, '♂': 4963, 'tire': 4964, 'coins': 4965, 'memories': 4966, 'acknowledge': 4967, 'flavour': 4968, 'ware': 4969, 'cookie': 4970, 'comfy': 4971, 'chad': 4972, 'conceive': 4973, '32': 4974, 'refunding': 4975, 'achievement': 4976, 'knowledge': 4977, 'mislay': 4978, 'nhp': 4979, 'mission': 4980, 'lastly': 4981, 'assuming': 4982, 'hero': 4983, 'marketplace': 4984, 'remind': 4985, 'hook': 4986, 'skills': 4987, 'neighbour': 4988, 'sanal': 4989, 'luv': 4990, 'cbs': 4991, 'beget': 4992, 'cite': 4993, '14th': 4994, 'france': 4995, 'accessories': 4996, 'reversal': 4997, 'cycling': 4998, '57': 4999, 'dies': 5000, 'entropy': 5001, 'satisfaction': 5002, 'nonpareil': 5003, 'drives': 5004, 'sun': 5005, 'dire': 5006, 'managing': 5007, 'lineup': 5008, 'impacted': 5009, 'faiza': 5010, 'vi': 5011, 'bewilder': 5012, 'explains': 5013, 'mightiness': 5014, '💩': 5015, 'burger': 5016, 'throwing': 5017, 'jess': 5018, 'imac': 5019, 'recommended': 5020, 'upshot': 5021, 'spring': 5022, 'visits': 5023, 'boxwood': 5024, 'appeared': 5025, 'tapping': 5026, 'porch': 5027, 'drag': 5028, 'matchless': 5029, 'mob': 5030, 'amounts': 5031, 'firm': 5032, 'wheels': 5033, 'university': 5034, 'harder': 5035, 'silence': 5036, 'unmatchable': 5037, 'tortilla': 5038, 'tmc': 5039, 'clubcard': 5040, 'acm': 5041, '😪': 5042, 'generic': 5043, 'carolina': 5044, 'wren': 5045, 'szechuan': 5046, 'bumped': 5047, 'viii': 5048, 'registration': 5049, 'citi': 5050, 'alison': 5051, 'skype': 5052, 'del': 5053, 'dat': 5054, 'ip': 5055, 'beach': 5056, 'whit': 5057, 'fortune': 5058, 'bonk': 5059, 'whom': 5060, 'xvii': 5061, 'nights': 5062, 'lh': 5063, 'phx': 5064, 'bob': 5065, 'tardy': 5066, 'laggy': 5067, 'earnings': 5068, 'greatest': 5069, 'fuming': 5070, 'lil': 5071, 'declined': 5072, 'trinity': 5073, 'legroom': 5074, 'mall': 5075, 'debt': 5076, 'consume': 5077, 'onion': 5078, 'core': 5079, 'lift': 5080, 'senior': 5081, 'specially': 5082, '85': 5083, 'ts': 5084, 'essentially': 5085, 'ham': 5086, 'receiver': 5087, '27th': 5088, 'seventeen': 5089, 'tues': 5090, 'greedy': 5091, 'moments': 5092, 'shambles': 5093, 'wimbledon': 5094, 'shutting': 5095, 'virtually': 5096, 'cardboard': 5097, 'x1': 5098, 'sn': 5099, 'clarifying': 5100, 'flush': 5101, 'isp': 5102, 'securely': 5103, 'horror': 5104, 'wheel': 5105, 'invitation': 5106, 'olivia': 5107, 'headset': 5108, 'amaze': 5109, 'disclaim': 5110, 'kennedy': 5111, 'northampton': 5112, 'practices': 5113, 'dmed': 5114, 'conductor': 5115, 'mbps': 5116, 'withdraw': 5117, 'podcasts': 5118, 'ascertain': 5119, 'lamentable': 5120, 'engender': 5121, 'melissa': 5122, 'majority': 5123, 'kiosk': 5124, 'camber': 5125, 'butt': 5126, 'flummox': 5127, 'conference': 5128, 'aka': 5129, 'ki': 5130, 'localisation': 5131, 'fibre': 5132, 'darren': 5133, 'aab': 5134, 'celebrating': 5135, 'supposedly': 5136, 'someplace': 5137, '20th': 5138, 'unaccepted': 5139, 'bombardment': 5140, 'qi': 5141, 'fiat': 5142, 'solving': 5143, 'recount': 5144, 'pt': 5145, 'vas': 5146, 'mumbai': 5147, 'techs': 5148, '💯': 5149, 'flip': 5150, 'tbt': 5151, 'amv': 5152, 'filter': 5153, 'carrot': 5154, 'dread': 5155, 'enquiry': 5156, 'quartet': 5157, 'irritated': 5158, 'tour': 5159, 'letters': 5160, 'falling': 5161, 'pumpkin': 5162, 'danielle': 5163, 'officer': 5164, 'constitute': 5165, 'sec': 5166, 'replacing': 5167, 'matters': 5168, 'magic': 5169, '30min': 5170, 'neighbor': 5171, 'jio': 5172, 'reopen': 5173, 'donna': 5174, 'df': 5175, 'carol': 5176, 'ringing': 5177, 'anticipate': 5178, 'narrate': 5179, 'disconnecting': 5180, 'restoring': 5181, 'ladies': 5182, 'dull': 5183, 'blood': 5184, 'frank': 5185, 'ours': 5186, 'seventy': 5187, 'substantially': 5188, 'april': 5189, 'tin': 5190, 'sugar': 5191, '☺️': 5192, 'quint': 5193, 'incompetency': 5194, 'closes': 5195, 'cartridge': 5196, 'bharat': 5197, 'male': 5198, 'army': 5199, 'bozo': 5200, 'disabling': 5201, 'asshole': 5202, 'symbol': 5203, 'vile': 5204, 'metro': 5205, 'realized': 5206, 'speculate': 5207, 'emailing': 5208, 'elderly': 5209, 'dlc': 5210, 'learned': 5211, 'institutionalize': 5212, 'tas': 5213, 'unsubscribe': 5214, 'solvent': 5215, 'boyfriend': 5216, 'blackguard': 5217, '😜': 5218, 'leanne': 5219, 'wed': 5220, 'rental': 5221, 'residential': 5222, 'leverage': 5223, 'brain': 5224, 'interrogation': 5225, '🤷': 5226, 'essential': 5227, 'china': 5228, 'monopoly': 5229, 'raging': 5230, 'bluebird': 5231, 'substitute': 5232, 'rudely': 5233, '9am': 5234, 'declaration': 5235, 'foul': 5236, 'uni': 5237, 'horse': 5238, 'fearsome': 5239, 'premier': 5240, 'operational': 5241, 'decree': 5242, 'snapchat': 5243, 'tcc': 5244, 'unfortunate': 5245, 'ddg': 5246, 'afc': 5247, 'bookings': 5248, 'woking': 5249, 'kyle': 5250, 'allie': 5251, 'exp': 5252, 'dense': 5253, 'followers': 5254, 'grow': 5255, 'diamond': 5256, 'vpn': 5257, 'skipping': 5258, 'whose': 5259, 'taiwanese': 5260, 'tjp': 5261, 'walked': 5262, 'assign': 5263, 'engine': 5264, 'dissatisfied': 5265, 'faire': 5266, 'tertiary': 5267, 'penny': 5268, 'cater': 5269, 'pulling': 5270, 'leading': 5271, 'hall': 5272, 'bogus': 5273, 'streams': 5274, 'mart': 5275, '121': 5276, 'lindsey': 5277, 'ew': 5278, 'pause': 5279, 'discrimination': 5280, 'drome': 5281, 'polite': 5282, 'hospitality': 5283, 'operators': 5284, 'dreary': 5285, 'commission': 5286, 'exec': 5287, 'goose': 5288, 'boots': 5289, 'lives': 5290, 'adequate': 5291, 'panda': 5292, 'centurylink': 5293, 'invest': 5294, 'controls': 5295, '2hrs': 5296, 'wet': 5297, 'cw': 5298, 'monastic': 5299, 'yp': 5300, 'distinguish': 5301, 'airway': 5302, 'elizabeth': 5303, 'crisis': 5304, 'ternion': 5305, 'trio': 5306, 'hotspot': 5307, 'garden': 5308, 'practically': 5309, 'jonathan': 5310, 'permanently': 5311, 'forcing': 5312, 'notch': 5313, 'depository': 5314, 'deeply': 5315, 'ard': 5316, 'dishonest': 5317, 'abominable': 5318, 'txt': 5319, 'timeframe': 5320, 'temple': 5321, 'minor': 5322, 'vegetarian': 5323, 'hump': 5324, 'nature': 5325, 'larger': 5326, 'evidently': 5327, 'transfers': 5328, 'xviii': 5329, 'consumers': 5330, 'rap': 5331, 'cos': 5332, 'tie': 5333, 'lowest': 5334, 'alcohol': 5335, 'coat': 5336, 'quaternity': 5337, 'winners': 5338, 'frightening': 5339, 'inquiries': 5340, '58': 5341, 'tjw': 5342, '17th': 5343, 'hoot': 5344, 'salt': 5345, 'surge': 5346, 'vanish': 5347, 'valeriep': 5348, 'remains': 5349, 'den': 5350, 'pile': 5351, 'beware': 5352, 'twitch': 5353, 'aeroplane': 5354, 'francisco': 5355, 'lynn': 5356, 'grey': 5357, 'respective': 5358, 'neglect': 5359, 'quatern': 5360, 'flipkart': 5361, 'grip': 5362, 'cooked': 5363, 'hjb': 5364, 'allege': 5365, 'crying': 5366, 'bcw': 5367, 'deluxe': 5368, 'freak': 5369, 'pronounce': 5370, 'waitress': 5371, 'northern': 5372, 'foot': 5373, 'poke': 5374, 'infant': 5375, 'paige': 5376, 'dsl': 5377, 'ken': 5378, 'hopeless': 5379, 'engage': 5380, 'preserve': 5381, 'direful': 5382, 'they’ll': 5383, 'gc': 5384, '24th': 5385, 'rope': 5386, 'xl': 5387, 'virgo': 5388, 'franchise': 5389, 'seeking': 5390, 'dogs': 5391, 'medical': 5392, 'wb': 5393, 'lecture': 5394, 'art': 5395, 'stomach': 5396, 'parties': 5397, 'increasing': 5398, 'nate': 5399, 'channeyt': 5400, '12pm': 5401, 'instal': 5402, 'spelling': 5403, 'prepared': 5404, 'unreal': 5405, 'mgr': 5406, 'licensing': 5407, 'woodworking': 5408, 'soda': 5409, 'justine': 5410, 'generate': 5411, 'specify': 5412, 'magenta': 5413, 'quoted': 5414, 'session': 5415, 'contracts': 5416, 'nicola': 5417, 'donate': 5418, '😇': 5419, 'pits': 5420, 'toast': 5421, 'genius': 5422, 'skillful': 5423, '2day': 5424, 'vg': 5425, 'preceding': 5426, 'positioning': 5427, 'category': 5428, 'hoo': 5429, 'tracey': 5430, 'brazil': 5431, 'oppo': 5432, 'jade': 5433, 'trading': 5434, 'legitimate': 5435, 'functions': 5436, 'parkway': 5437, 'occurrence': 5438, 'timeline': 5439, 'ie': 5440, 'execute': 5441, 'chair': 5442, 'serv': 5443, 'computers': 5444, 'suspicious': 5445, 'breach': 5446, 'stinky': 5447, 'fll': 5448, 'ahh': 5449, 'factors': 5450, 'rib': 5451, 'peek': 5452, 'published': 5453, 'hkm': 5454, 'thieves': 5455, 'stinking': 5456, 'conversations': 5457, 'quantity': 5458, 'luke': 5459, 'appearing': 5460, 'dns': 5461, 'compliments': 5462, 'nigga': 5463, 'dg': 5464, 'preposterous': 5465, 'parole': 5466, 'anoop': 5467, '10th': 5468, 'printed': 5469, 'threatened': 5470, '24hrs': 5471, 'inventory': 5472, 'led': 5473, 'today’': 5474, 'pregnant': 5475, 'toronto': 5476, 'definition': 5477, 'consent': 5478, 'alerts': 5479, 'ripped': 5480, 'meshwork': 5481, 'amber': 5482, 'buses': 5483, 'shittiest': 5484, 'supervisors': 5485, 'kt': 5486, 'environment': 5487, '37': 5488, 'publication': 5489, 'canadian': 5490, 'sextet': 5491, 'bandwidth': 5492, 'arguing': 5493, 'loser': 5494, 'ashleynelson': 5495, 'savoir': 5496, 'stacey': 5497, 'approve': 5498, 'ondemand': 5499, 'authorized': 5500, 'billion': 5501, 'santa': 5502, 'aly': 5503, 'storm': 5504, 'distant': 5505, 'traveler': 5506, 'refundable': 5507, 'fedex': 5508, 'airdrome': 5509, 'secern': 5510, 'dumbfound': 5511, 'asset': 5512, 'tape': 5513, 'locally': 5514, 'gens': 5515, 'grim': 5516, 'goodwill': 5517, 'plant': 5518, 'brad': 5519, '\\u200b': 5520, 'avocado': 5521, 'responsive': 5522, '😥': 5523, 'bless': 5524, '5t': 5525, 'oven': 5526, 'devs': 5527, 'eighteen': 5528, 'richmond': 5529, '5s': 5530, 'beam': 5531, '–ek': 5532, 'remark': 5533, 'fax': 5534, 'assisted': 5535, 'funeral': 5536, 'lesson': 5537, 'tkr': 5538, 'nonstop': 5539, 'joel': 5540, 'timely': 5541, '😖': 5542, 'frustrative': 5543, 'recommendations': 5544, 'annual': 5545, 'spinning': 5546, 'pretend': 5547, 'camo': 5548, 'kim': 5549, 'clicked': 5550, 'uninstalled': 5551, 'repast': 5552, 'dv': 5553, 'nathan': 5554, 'meanwhile': 5555, '2k': 5556, 'exclusively': 5557, 'who’': 5558, 'tu': 5559, 'soh': 5560, 'backed': 5561, 'msgs': 5562, 'kimbers': 5563, 'blaket': 5564, 'bastard': 5565, 'cables': 5566, 'alongside': 5567, 'bottles': 5568, 'haul': 5569, 'upkeep': 5570, 'fem': 5571, 'edict': 5572, 'typecast': 5573, 'advisor': 5574, 'nuts': 5575, 'marie': 5576, 'blamed': 5577, 'cubic': 5578, 'tube': 5579, 'calum': 5580, 'snack': 5581, 'disregard': 5582, 'radius': 5583, 'president': 5584, 'reflect': 5585, 'parked': 5586, 'clueless': 5587, 'sheet': 5588, 'resident': 5589, 'preview': 5590, 'substantiation': 5591, 'whoa': 5592, 'expectation': 5593, 'initiatory': 5594, 'performing': 5595, 'nod': 5596, 'prompts': 5597, 'hunt': 5598, 'genus': 5599, 'hash': 5600, 'straightaway': 5601, 'wash': 5602, 'hombre': 5603, 'veg': 5604, 'outlook': 5605, 'thusly': 5606, 'bryan': 5607, 'louise': 5608, 'independent': 5609, 'buttons': 5610, 'moto': 5611, 'blend': 5612, 'paytm': 5613, 'ihg': 5614, 'timing': 5615, 'evergreen': 5616, 'flexibility': 5617, 'remotely': 5618, 'valley': 5619, 'cartesian': 5620, '🗣': 5621, 'meshing': 5622, 'shweta': 5623, 'riding': 5624, 'justify': 5625, 'enounce': 5626, 'airpods': 5627, 'thankfully': 5628, 'alisha': 5629, 'newer': 5630, 'sunrise': 5631, 'ams': 5632, 'oil': 5633, 'educate': 5634, '34': 5635, 'destinations': 5636, 'budget': 5637, 'un': 5638, 'hollyadams': 5639, 'heather': 5640, 'pia': 5641, 'stocks': 5642, 'hospital': 5643, 'infinite': 5644, 'delhi': 5645, 'couriers': 5646, 'takeoff': 5647, 'displayed': 5648, 'disturbing': 5649, 'funko': 5650, 'yngwie': 5651, '😩😩😩': 5652, 'reece': 5653, 'reasonableness': 5654, 'tastes': 5655, 'kettle': 5656, 'compare': 5657, 'hubby': 5658, 'approximation': 5659, 'anopo': 5660, 'fixate': 5661, 'shipper': 5662, 'brandon': 5663, 'signals': 5664, 'infer': 5665, 'nearby': 5666, 'hyc': 5667, 'supports': 5668, 'priced': 5669, 'arby': 5670, 'object': 5671, 'nowadays': 5672, 'materialise': 5673, 'identify': 5674, 'achieve': 5675, 'cmon': 5676, 'biscuit': 5677, 'pointless': 5678, 'intact': 5679, 'outlined': 5680, 'erm': 5681, 'weren’': 5682, 'salisbury': 5683, '👋': 5684, 'pissing': 5685, 'continually': 5686, 'tortillas': 5687, 'eaten': 5688, 'hw': 5689, 'pen': 5690, 'listings': 5691, 'regional': 5692, 'storehouse': 5693, 'mileage': 5694, 'subscriptions': 5695, 'propose': 5696, '16th': 5697, 'zach': 5698, 'difficulties': 5699, 'adjudicate': 5700, 'rarely': 5701, 'fits': 5702, 'pete': 5703, 'adhere': 5704, 'ee': 5705, 'aver': 5706, 'midland': 5707, 'diego': 5708, 'lighting': 5709, 'overcrowded': 5710, 'reconsider': 5711, 'spa': 5712, 'sapphire': 5713, 'thither': 5714, 'deadline': 5715, 'applicable': 5716, 'sham': 5717, 'crucial': 5718, 'favor': 5719, 'gaming': 5720, 'kimpton': 5721, 'relief': 5722, 'forgotten': 5723, 'transferring': 5724, 'blush': 5725, 'ajy': 5726, 'commence': 5727, 'dramatic': 5728, 'virus': 5729, 'institutionalise': 5730, 'teller': 5731, 'tears': 5732, 'discretion': 5733, 'tariff': 5734, 'holly': 5735, 'owen': 5736, 'division': 5737, 'divest': 5738, 'bubble': 5739, 'postage': 5740, 'aspect': 5741, 'twelve': 5742, 'ux': 5743, 'dashboard': 5744, 'hardcore': 5745, 'compatibility': 5746, 'blog': 5747, 'awe': 5748, 'stumble': 5749, 'grass': 5750, 'stinks': 5751, 'flaw': 5752, '22nd': 5753, 'gmail': 5754, 'grade': 5755, 'german': 5756, 'paris': 5757, 'influence': 5758, 'overleap': 5759, 'brake': 5760, 'mn': 5761, 'tons': 5762, 'dim': 5763, 'shoe': 5764, 'rugby': 5765, 'reimburse': 5766, 'peoples': 5767, 'efficient': 5768, 'upper': 5769, 'upfront': 5770, 'moon': 5771, 'summary': 5772, 'grant': 5773, 'merry': 5774, 'phew': 5775, 'rolled': 5776, 'samuel': 5777, 'danih': 5778, 'delighted': 5779, 'flex': 5780, 'tdl': 5781, 'science': 5782, 'bone': 5783, 'giant': 5784, 'choices': 5785, 'continuously': 5786, 'dickhead': 5787, 'groceries': 5788, 'piddle': 5789, 'hro': 5790, 'arrangements': 5791, 'stroke': 5792, 'tragedy': 5793, 'va': 5794, 'schedules': 5795, 'iw': 5796, 'committed': 5797, 'tied': 5798, 'isle': 5799, 'dean': 5800, 't5': 5801, '280': 5802, 'choke': 5803, 'modification': 5804, 'loses': 5805, 'chester': 5806, 'disorder': 5807, 'bum': 5808, 'henry': 5809, 'platforms': 5810, 'msp': 5811, 'fairly': 5812, '700': 5813, '£2': 5814, '127': 5815, 'poisoning': 5816, 'attain': 5817, 'grand': 5818, 'tenders': 5819, 'diet': 5820, 'gatwick': 5821, 'speakers': 5822, 'sport': 5823, 'scenario': 5824, 'quintet': 5825, 'kreme': 5826, 'participating': 5827, 'rated': 5828, 'beauty': 5829, 'responds': 5830, 'hkc': 5831, 'hunting': 5832, 'alarms': 5833, 'saver': 5834, 'situations': 5835, 'unfriendly': 5836, 'rare': 5837, 'lime': 5838, 'xxiv': 5839, 'screaming': 5840, 'arti': 5841, 'equally': 5842, 'alternatives': 5843, 'mend': 5844, 'effective': 5845, 'jjs': 5846, 'jacob': 5847, 'vr': 5848, 'records': 5849, 'smells': 5850, 'destiny': 5851, 'recognizing': 5852, 'gun': 5853, 'modify': 5854, 'subscriber': 5855, 'ti': 5856, 'swing': 5857, 'recede': 5858, 'tnt': 5859, 'opine': 5860, 'hosting': 5861, 'dozens': 5862, 'remaining': 5863, 'interrogative': 5864, 'coventry': 5865, 'buffet': 5866, 'aint': 5867, 'helper': 5868, 'lake': 5869, 'onward': 5870, 'cx': 5871, 'pet': 5872, 'sofa': 5873, 'asmita': 5874, 'hawthorn': 5875, 'alteration': 5876, 'christopher': 5877, 'hca': 5878, 'defect': 5879, 'unwilling': 5880, 'dutch': 5881, 'transmit': 5882, 'trygve': 5883, '🙌': 5884, 'purse': 5885, 'matches': 5886, 'gravy': 5887, 'feet': 5888, 'mug': 5889, 'enjoyable': 5890, 'keithm': 5891, '3pm': 5892, 'overcrowding': 5893, 'pw': 5894, 'lightning': 5895, 'crime': 5896, 'arrangement': 5897, 'rh': 5898, 'crota': 5899, 'inch': 5900, 'mandatory': 5901, 'retain': 5902, 'sextuplet': 5903, 'directed': 5904, 'johns': 5905, 'types': 5906, 'soggy': 5907, 'nix': 5908, 'oliver': 5909, 'leash': 5910, 'shady': 5911, 'pip': 5912, 'outbound': 5913, 'candy': 5914, 'dumped': 5915, 'terminus': 5916, 'pandora': 5917, 'coke': 5918, 'signaling': 5919, 'rings': 5920, 'bean': 5921, 'colin': 5922, 'sets': 5923, 'dice': 5924, 'coiffure': 5925, '£4': 5926, 'stable': 5927, 'chances': 5928, 'spawn': 5929, 'con': 5930, 'australia': 5931, 'sin': 5932, 'lacking': 5933, 'outcry': 5934, 'native': 5935, '£7': 5936, 'arranged': 5937, 'encountering': 5938, 'tanuj': 5939, 'opinion': 5940, 'liam': 5941, 'incessantly': 5942, 'mouldy': 5943, 'sixer': 5944, 'clare': 5945, 'iphone6': 5946, 'drained': 5947, 'caring': 5948, 'vodafone': 5949, 'indicate': 5950, 'satisfied': 5951, 'planing': 5952, 'competitive': 5953, 'rick': 5954, 'ima': 5955, 'eriks': 5956, 'oneplus': 5957, 'posterior': 5958, 'brainsick': 5959, 'bday': 5960, 'lasts': 5961, 'orderliness': 5962, 'passcode': 5963, 'timer': 5964, '2am': 5965, 'trend': 5966, 'helium': 5967, 'joseph': 5968, 'biscuits': 5969, 'heya': 5970, 'hilton': 5971, 'unkindly': 5972, 'tall': 5973, 'supermarket': 5974, 'weapon': 5975, 'misunderstanding': 5976, 'perks': 5977, 'salary': 5978, 'carl': 5979, 'gareth': 5980, 'sire': 5981, 'imbibe': 5982, 'mending': 5983, 'thoroughly': 5984, 'nevermind': 5985, 'eastern': 5986, 'varlet': 5987, 'epithet': 5988, 'convert': 5989, 'gateway': 5990, '💕': 5991, 'scene': 5992, 'exists': 5993, 'empathy': 5994, 'bonuses': 5995, 'industry': 5996, 'issuance': 5997, 'bird': 5998, 'exposed': 5999, '18th': 6000, 'jumping': 6001, 'golf': 6002, 'rebate': 6003, 'comedy': 6004, 'ww': 6005, '11am': 6006, 'txa': 6007, 'ave': 6008, 'forwarding': 6009, 'unsatisfied': 6010, 'pour': 6011, 'creators': 6012, 'decisions': 6013, 'roger': 6014, 'mq': 6015, 'lara': 6016, 'jest': 6017, 'jlm': 6018, 'calculate': 6019, 'trail': 6020, 'birdsong': 6021, 'gorgeous': 6022, 'accessible': 6023, 'queues': 6024, '95': 6025, 'croak': 6026, 'ports': 6027, 'began': 6028, 'eu': 6029, 'cities': 6030, 'careless': 6031, 'renewing': 6032, 'routing': 6033, 'sonia': 6034, 'unresolved': 6035, 'coolheaded': 6036, 'bugger': 6037, 'duct': 6038, 'louis': 6039, 'tetrad': 6040, 'rox': 6041, 'alphabet': 6042, 'iced': 6043, 'ewan': 6044, 'scarce': 6045, 'league': 6046, 'seasons': 6047, 'jpl': 6048, 'roughly': 6049, 'pune': 6050, 'royal': 6051, 'tw': 6052, 'architectural': 6053, 'corrupted': 6054, 'commuter': 6055, 'sack': 6056, '79': 6057, 'scammed': 6058, 'fulfillment': 6059, '41': 6060, 'virtual': 6061, 'ai': 6062, 'queen': 6063, 'existent': 6064, '💔': 6065, 'negatively': 6066, 'liking': 6067, 'atj': 6068, 'careful': 6069, 'empathize': 6070, 'sees': 6071, '46': 6072, 'explaining': 6073, 'sainsburys': 6074, 'melanie': 6075, 'motherfucker': 6076, 'accommodate': 6077, 'joined': 6078, 'posit': 6079, 'popped': 6080, 'guild': 6081, 'allocated': 6082, 'asleep': 6083, 'socks': 6084, '10mins': 6085, '5mins': 6086, 'fry': 6087, 'detect': 6088, 'misinformation': 6089, 'barricade': 6090, 'deck': 6091, 'peril': 6092, 'zippo': 6093, 'horribly': 6094, 'estate': 6095, 'en': 6096, 'swindon': 6097, 'exceedingly': 6098, 'compared': 6099, 'asurion': 6100, 'gild': 6101, 'breath': 6102, 'dy': 6103, 'costly': 6104, 'provender': 6105, 'catalogue': 6106, 'appal': 6107, 'entrepot': 6108, 'vociferation': 6109, '2012': 6110, 'ann': 6111, '737': 6112, '5x': 6113, 'needful': 6114, 'belongings': 6115, 'morn': 6116, 'belated': 6117, 'christian': 6118, 'hai': 6119, 'abandoned': 6120, 'unforeseen': 6121, 'alphabetic': 6122, 'england': 6123, 'tray': 6124, 'sis': 6125, 'rationality': 6126, 'described': 6127, 'adjusted': 6128, 'expedite': 6129, 'bagel': 6130, 'didcot': 6131, 'tz': 6132, 'abusive': 6133, 'harassed': 6134, 'pinch': 6135, 'chromecast': 6136, 'threesome': 6137, 'fort': 6138, 'facilitate': 6139, 'blu': 6140, 'courteous': 6141, 'tmt': 6142, 'hpl': 6143, 'renewed': 6144, 'basingstoke': 6145, 'boxful': 6146, 'fucks': 6147, 'pressing': 6148, 'aggressive': 6149, 'departing': 6150, 'egress': 6151, 'faults': 6152, 'tiff': 6153, 'hdd': 6154, 'tear': 6155, 'medallion': 6156, 'pork': 6157, 'jacket': 6158, 'became': 6159, 'null': 6160, 'tht': 6161, '54': 6162, 'publish': 6163, 'expires': 6164, 'habit': 6165, 's7': 6166, 'hurts': 6167, 'lame': 6168, 'chief': 6169, 'approximately': 6170, 'heptad': 6171, '180': 6172, 'daryl': 6173, 'separately': 6174, 'cal': 6175, 'broad': 6176, 'residence': 6177, 'relate': 6178, 'forthwith': 6179, 'delivers': 6180, 'export': 6181, 'dirt': 6182, 'roof': 6183, 'terril': 6184, 'dish': 6185, 'disrespect': 6186, 'lashkar': 6187, 'wishes': 6188, 'karthik': 6189, 'heavily': 6190, 'boards': 6191, 'merchandising': 6192, 'void': 6193, 'precede': 6194, 'payed': 6195, 'releases': 6196, 'turd': 6197, 'thnx': 6198, '44': 6199, 'shameless': 6200, 'subsequently': 6201, 'flyers': 6202, 'westward': 6203, 'expose': 6204, 'magically': 6205, 'programming': 6206, 'payoff': 6207, 'stretch': 6208, 'ib': 6209, 'accommodations': 6210, 'gigabit': 6211, 'models': 6212, 'trafficker': 6213, 'nexus': 6214, 'marvel': 6215, 'communicated': 6216, 'compromised': 6217, 'watt': 6218, 'esp': 6219, 'arc': 6220, 'repaired': 6221, 'sustenance': 6222, 'derisory': 6223, 'facilities': 6224, 'cognize': 6225, 'sony': 6226, 'neighbors': 6227, 'tiffany': 6228, 'tjh': 6229, '👍🏽': 6230, 'growing': 6231, 'math': 6232, 'supporting': 6233, 'nervous': 6234, 'shortage': 6235, 'disrupted': 6236, 'dodgy': 6237, 'loosing': 6238, 'planet': 6239, 'branded': 6240, 'yyz': 6241, 'humanity': 6242, 'farcical': 6243, 'saint': 6244, 'breaker': 6245, 'unclear': 6246, 'submitting': 6247, 'tush': 6248, 'explicate': 6249, 'binned': 6250, 'adrian': 6251, 'falsify': 6252, '10k': 6253, 'wolverhampton': 6254, 'nonplus': 6255, 'quid': 6256, '2014': 6257, 'taxes': 6258, 'erase': 6259, 'puts': 6260, '3am': 6261, 'clay': 6262, 'provision': 6263, 'clothing': 6264, 'di': 6265, 'instruction': 6266, '⬇': 6267, 'promos': 6268, 'cease': 6269, 'attachment': 6270, 'rahul': 6271, 'toward': 6272, 'outrage': 6273, 'upstairs': 6274, 'ix': 6275, 'debbie': 6276, 'inactive': 6277, 'ipod': 6278, 'reboots': 6279, 'calculator': 6280, 'hollo': 6281, 'bridget': 6282, 'notifying': 6283, 'repel': 6284, '“we': 6285, 'wishing': 6286, 'fifth': 6287, 'rage': 6288, 'extent': 6289, 'ourselves': 6290, 'potatoes': 6291, 'crispy': 6292, '140': 6293, 'hellhole': 6294, 'variant': 6295, '74': 6296, 'nurse': 6297, 'po': 6298, 'joint': 6299, 'uploading': 6300, 'moan': 6301, 'frustrate': 6302, 'shirts': 6303, 'publicity': 6304, 'octonary': 6305, 'unsuccessfully': 6306, 'sticking': 6307, 'gordon': 6308, 'yellow': 6309, 'grave': 6310, 'sojourn': 6311, 'furry': 6312, 'theirs': 6313, 'task': 6314, 'japan': 6315, 'island': 6316, 'derive': 6317, 'dunno': 6318, 'harass': 6319, 'february': 6320, 'scram': 6321, 'aamazing': 6322, 'exploit': 6323, 'affordable': 6324, 'distribution': 6325, 'horrid': 6326, 'gem': 6327, 'cavalry': 6328, 'asia': 6329, 'cellphone': 6330, 'pluck': 6331, 'fukkianese': 6332, 'folk': 6333, 'treating': 6334, 'nn': 6335, 'dnt': 6336, 'angle': 6337, 'ruins': 6338, 'aneurin': 6339, '😨': 6340, 'scratched': 6341, 'exeter': 6342, 'fling': 6343, 'privately': 6344, 'om': 6345, 'busted': 6346, '30th': 6347, 'decease': 6348, 'dick': 6349, 'sicken': 6350, 'tac': 6351, 'suggesting': 6352, 'belly': 6353, 'thrown': 6354, 'wa': 6355, 'belt': 6356, 'cheats': 6357, 'chatted': 6358, '‼': 6359, 'baltimore': 6360, 'discomfort': 6361, 'flaming': 6362, 'sincerest': 6363, 'campus': 6364, 'cakes': 6365, 'march': 6366, 'zh': 6367, 'jour': 6368, 'dissapointed': 6369, 'cock': 6370, 'peg': 6371, 'pi': 6372, 'unwanted': 6373, 'gravel': 6374, 'shower': 6375, 'kf': 6376, 'inconsistent': 6377, 'dvd': 6378, 'clouds': 6379, 'labels': 6380, 'deceitful': 6381, 'disconnects': 6382, 'nashville': 6383, 'additionally': 6384, 'unlikely': 6385, 'scheduling': 6386, 'lancaster': 6387, 'sleeping': 6388, 'powered': 6389, 'chasing': 6390, 'universal': 6391, 'economic': 6392, 'stood': 6393, 'ft': 6394, 'damages': 6395, 'meads': 6396, 'awfully': 6397, 'secernate': 6398, 'veggie': 6399, 'quest': 6400, 'lapse': 6401, 'brooke': 6402, 'bally': 6403, 'should’ve': 6404, 'gloomy': 6405, 'dysphoric': 6406, 'rf': 6407, 'mnp': 6408, 'girlfriend': 6409, '“the': 6410, 'clapham': 6411, 'ridicule': 6412, 'quintuplet': 6413, 'century': 6414, 'societal': 6415, 'colors': 6416, 'limitation': 6417, 'mortgage': 6418, 'clr': 6419, 'troubling': 6420, 'obtuse': 6421, 'ons': 6422, 'clearance': 6423, 'korean': 6424, 'christ': 6425, 'aug': 6426, 'systematically': 6427, 'pressure': 6428, 'edward': 6429, 'stone': 6430, 'ooh': 6431, 'cancelation': 6432, 'plump': 6433, 'erin': 6434, '8th': 6435, '26th': 6436, 'maclaine': 6437, 'measure': 6438, 'manual': 6439, 'sq': 6440, 'withdrawal': 6441, 'kvetch': 6442, 'indesign': 6443, 'fu': 6444, 'pax': 6445, 'cheaters': 6446, 'courtney': 6447, 'lolly': 6448, 'intellect': 6449, 'gogo': 6450, 'bolt': 6451, 'resist': 6452, 'batteries': 6453, 'ajl': 6454, 'testament': 6455, 'icons': 6456, 'monica': 6457, 'orleans': 6458, 'discovered': 6459, '😧': 6460, 'drear': 6461, 'perdition': 6462, 'jod': 6463, 'releasing': 6464, 'forebode': 6465, 'reimbursement': 6466, 'hollow': 6467, 'cooperation': 6468, 'heating': 6469, 'swipe': 6470, 'condone': 6471, 'shipments': 6472, 'suspect': 6473, 'exception': 6474, 'moron': 6475, 'reaches': 6476, '£60': 6477, 'burritos': 6478, 'emir': 6479, 'angela': 6480, 'thurs': 6481, 'detective': 6482, 'operated': 6483, 'kinds': 6484, 'nikki': 6485, 'gen': 6486, 'cody': 6487, 'stuart': 6488, 'stale': 6489, 'instagram': 6490, 'leaders': 6491, 'development': 6492, 'britt': 6493, 'cheer': 6494, 'perish': 6495, 'stocked': 6496, 'honey': 6497, 'pincode': 6498, 'database': 6499, 'jerry': 6500, 'charity': 6501, 'pounds': 6502, 'waiter': 6503, 'georgina': 6504, 'krispy': 6505, 'noon': 6506, 'displeased': 6507, '£30': 6508, 'freedom': 6509, 'gang': 6510, 'lgw': 6511, 'witnessed': 6512, 'reopened': 6513, 'pitched': 6514, 'domestic': 6515, 'crooks': 6516, 'verifying': 6517, 'nina': 6518, 'salmon': 6519, 'dang': 6520, 'battlefront': 6521, 'marian': 6522, 'highest': 6523, 'endeavor': 6524, 'disappears': 6525, 'argo': 6526, 'emojis': 6527, 'recipient': 6528, 'misstep': 6529, 'bachelor': 6530, 'dematerialise': 6531, 'directv': 6532, 'consistency': 6533, 'smartphone': 6534, 'stealer': 6535, 'rudest': 6536, 'virginia': 6537, 'lindy': 6538, 'fastest': 6539, '👿': 6540, 'locomote': 6541, 'leaf': 6542, 'wen': 6543, '7pm': 6544, 'maidenhead': 6545, 'shruti': 6546, 'leader': 6547, 'rec': 6548, 'functioning': 6549, 'fulfill': 6550, 'partnership': 6551, 'faq': 6552, 'trap': 6553, 'conclusion': 6554, 'percentage': 6555, 'reg': 6556, 'embarrassed': 6557, 'offense': 6558, 'handicapped': 6559, 'sup': 6560, 'stupefy': 6561, 'sry': 6562, 'mario': 6563, 'sung': 6564, 'carpenter': 6565, 'nada': 6566, 'tse': 6567, 'convo': 6568, 'alternating': 6569, 'estimation': 6570, 'overlook': 6571, 'bible': 6572, 'drab': 6573, '4x': 6574, 'facetime': 6575, 'realised': 6576, 'maiden': 6577, 'chinese': 6578, 'argument': 6579, 'sharp': 6580, 'innocent': 6581, 'combo': 6582, 'babe': 6583, 'ease': 6584, 'issuing': 6585, 'fiancé': 6586, 'antonio': 6587, 'metal': 6588, 'shutdown': 6589, 'lw': 6590, 'visual': 6591, 'bham': 6592, 'tierce': 6593, 'ana': 6594, 'bastards': 6595, 'sexual': 6596, 'some1': 6597, 'irritate': 6598, 'arse': 6599, 'honored': 6600, 'intelligence': 6601, 'airports': 6602, 'triad': 6603, 'ethernet': 6604, 'formally': 6605, 'unused': 6606, 'sos': 6607, 'downtown': 6608, 'technicians': 6609, 'outta': 6610, 'exhaust': 6611, 'lk': 6612, 'sprightliness': 6613, 'rocket': 6614, 'inner': 6615, 'frederick': 6616, 'wires': 6617, 'tapped': 6618, 'rv': 6619, 'crossing': 6620, 'incomplete': 6621, 'demo': 6622, 'cognise': 6623, 'brush': 6624, 'bothering': 6625, 'entree': 6626, 'anniversary': 6627, 'starving': 6628, 'johnny': 6629, 'regretted': 6630, 'privy': 6631, 'forgive': 6632, 'containing': 6633, 'wrapping': 6634, 'troika': 6635, 'pays': 6636, '£50': 6637, 'slide': 6638, 'detection': 6639, 'rendering': 6640, '😭😭😭😭': 6641, 'salsa': 6642, 'placement': 6643, 'packaged': 6644, '10am': 6645, 'consultation': 6646, 'fifa': 6647, 'doorstep': 6648, 'indirectly': 6649, 'negate': 6650, 'teresa': 6651, 'decatur': 6652, 'liaison': 6653, 'emi': 6654, 'activities': 6655, 'pretermit': 6656, 'asf': 6657, 'ordination': 6658, 'district': 6659, 'ish': 6660, 'reunited': 6661, 'martha': 6662, '😏': 6663, 'profits': 6664, '🎃': 6665, 'urgency': 6666, 'accessibility': 6667, 'dessert': 6668, 'irresponsible': 6669, 'cleaned': 6670, '65': 6671, 'bits': 6672, 'regain': 6673, 'avenue': 6674, 'column': 6675, 'soo': 6676, 'habitation': 6677, 'contd': 6678, 'sammi': 6679, 'stuttering': 6680, 'comfortably': 6681, 'sides': 6682, '🏃': 6683, 'heretofore': 6684, 'nettle': 6685, 'portsmouth': 6686, 'departs': 6687, 'followup': 6688, 'nil': 6689, 'defrayal': 6690, 'bangalore': 6691, 'xlv': 6692, 'consumption': 6693, 'complicated': 6694, 'accompaniment': 6695, 'privileged': 6696, 'ym': 6697, 'undo': 6698, 'screws': 6699, 'recd': 6700, 'unjust': 6701, 'injured': 6702, 'fighting': 6703, 'laughing': 6704, 'trained': 6705, 'latterly': 6706, 'classes': 6707, '🤣': 6708, 'units': 6709, 'resets': 6710, 'thumb': 6711, 'vf': 6712, 'installment': 6713, 'thanx': 6714, 'veterans': 6715, 'singles': 6716, 'intersection': 6717, 'theatre': 6718, 'stars': 6719, 'gauge': 6720, 'godaddy': 6721, 'melj': 6722, 'kampuchea': 6723, 'adds': 6724, 'iphonex': 6725, 'unwatchable': 6726, 'rdu': 6727, '1z': 6728, 'else’': 6729, 'presentment': 6730, 'overcharge': 6731, '30mins': 6732, 'bulk': 6733, 'completion': 6734, 'gp': 6735, 'zc': 6736, 'hdg': 6737, 'lifetime': 6738, 'someone’': 6739, 'chelsea': 6740, 'meds': 6741, 'fools': 6742, 'targets': 6743, 'severalise': 6744, 'callum': 6745, 'treats': 6746, 'presents': 6747, 'enhance': 6748, 'salty': 6749, 'numeral': 6750, 'stadium': 6751, 'arrow': 6752, 'enemy': 6753, 'dwell': 6754, 'classify': 6755, 'junction': 6756, 'angie': 6757, 'recite': 6758, 'understatement': 6759, 'interpret': 6760, 'situate': 6761, 'bcoz': 6762, 'corporation': 6763, 'benjamin': 6764, '52': 6765, 'dated': 6766, 'contactless': 6767, 'bravo': 6768, 'jamiek': 6769, 'occupy': 6770, 'hitting': 6771, 'han': 6772, 'visibility': 6773, 'fraudsters': 6774, 'rad': 6775, 'sally': 6776, 'trucks': 6777, 'atms': 6778, 'mel': 6779, 'unique': 6780, 'motivation': 6781, 'dublin': 6782, 'spirits': 6783, 'insure': 6784, 'peanut': 6785, 'cracking': 6786, 'allyn': 6787, 'lawsuit': 6788, 'snow': 6789, 'traveller': 6790, 'authentication': 6791, 'possibility': 6792, '6pm': 6793, 'identifying': 6794, 'isolated': 6795, 'wendy': 6796, 'befall': 6797, 'youre': 6798, 'rooms': 6799, 'scream': 6800, 'stern': 6801, 'supermarkets': 6802, 'birdcall': 6803, 'booted': 6804, 'watches': 6805, 'meritless': 6806, 'exposure': 6807, 'hind': 6808, '86': 6809, 'receives': 6810, 'travelled': 6811, 'crowded': 6812, 'stephaniegarza': 6813, 'monosodium': 6814, 'glutamate': 6815, 'redmi': 6816, 'wings': 6817, 'fanny': 6818, 'warren': 6819, 'hsd': 6820, 'mdw': 6821, 'informing': 6822, 'squeeze': 6823, 'digits': 6824, 'kannada': 6825, 'demonstrate': 6826, 'scamming': 6827, 'gym': 6828, 'mic': 6829, 'wiped': 6830, 'panic': 6831, 'complications': 6832, 'generation': 6833, 'davina': 6834, 'froze': 6835, 'middleman': 6836, 'brutal': 6837, 'wo': 6838, 'preparing': 6839, 'bins': 6840, 'guacamole': 6841, 'aisles': 6842, 'dependable': 6843, 'ping': 6844, 'pattern': 6845, 'disability': 6846, 'origin': 6847, 'bathroom': 6848, 'reversed': 6849, 'septet': 6850, 'automobile': 6851, 'limits': 6852, '89': 6853, 'ownership': 6854, 'carlisle': 6855, 'mansion': 6856, 'cinque': 6857, 'jokes': 6858, 'feelings': 6859, 'tma': 6860, 'income': 6861, 'fraudulently': 6862, 'finest': 6863, 'lapp': 6864, 'decides': 6865, 'dylan': 6866, 'challenges': 6867, 'inaccurate': 6868, 'failures': 6869, 'adventures': 6870, 'begins': 6871, 'lord': 6872, 'flag': 6873, 'southampton': 6874, 'missive': 6875, 'robbery': 6876, '1x': 6877, 'helpless': 6878, 'recurring': 6879, 'kinect': 6880, 'hiring': 6881, 'localization': 6882, 'caches': 6883, 'interference': 6884, 'typical': 6885, 'kicks': 6886, 'passwords': 6887, 'poop': 6888, 'np': 6889, 'displaying': 6890, 'earlybird': 6891, 'pasty': 6892, 'honesty': 6893, 'amzn': 6894, 'mai': 6895, 'retention': 6896, 'rocks': 6897, 'owners': 6898, 'georgia': 6899, 'pdf': 6900, 'fj': 6901, 'begging': 6902, 'atlantic': 6903, '120': 6904, 'clutch': 6905, 'prick': 6906, 'qj': 6907, 'frequency': 6908, 'minimal': 6909, 'invited': 6910, 'presentation': 6911, 'glazed': 6912, 'hicks': 6913, 'shooting': 6914, 'kiawashington': 6915, 'sps': 6916, 'statements': 6917, 'dom': 6918, 'ego': 6919, 'balls': 6920, 'drug': 6921, 'pumped': 6922, 'employer': 6923, 'netherworld': 6924, 'burned': 6925, 'goodbye': 6926, 'varsha': 6927, '20mins': 6928, 'fence': 6929, 'beg': 6930, 'jenny': 6931, 'wyrd': 6932, 'feast': 6933, 'concealment': 6934, 'digging': 6935, 'proceedings': 6936, 'margin': 6937, 'increases': 6938, 'bulge': 6939, 'fallen': 6940, 'aawesome': 6941, 'amsterdam': 6942, 'demented': 6943, 'enjoyment': 6944, 'materials': 6945, 'consoles': 6946, 'people’': 6947, 'electronics': 6948, 'confabulation': 6949, 'dynasty': 6950, 'pseudo': 6951, 'bios': 6952, 'smaira': 6953, 'ledge': 6954, 'infrastructure': 6955, 'crystal': 6956, 'concourse': 6957, '2fa': 6958, 'neighbours': 6959, 'peradventure': 6960, 'eligibility': 6961, 'chuck': 6962, 'lisi': 6963, 'tlt': 6964, 'cartwheel': 6965, 'admitted': 6966, 'matching': 6967, 'tense': 6968, 'uncommon': 6969, 'assumed': 6970, 'weekends': 6971, 'unimportant': 6972, 'natal': 6973, 'paperwork': 6974, 'mayo': 6975, 'scripture': 6976, 'postman': 6977, 'hve': 6978, 'hayley': 6979, 'plaza': 6980, 'conflicting': 6981, 'sells': 6982, 'gill': 6983, 'sparks': 6984, 'textbook': 6985, 'sympathize': 6986, 'beating': 6987, 'gisellem': 6988, 'they’': 6989, 'inability': 6990, 'appropriately': 6991, 'philadelphia': 6992, 'aswell': 6993, 'alot': 6994, 'sunset': 6995, 'backups': 6996, 'flop': 6997, 'travelers': 6998, 'stories': 6999, 'tyler': 7000, 'curse': 7001, 'jesse': 7002, 'hearts': 7003, 'rural': 7004, 'scammers': 7005, 'tactual': 7006, 'relieve': 7007, 'dual': 7008, 'saves': 7009, 'impart': 7010, 'sufficient': 7011, 'armor': 7012, 'fluid': 7013, 'trailing': 7014, '🤨': 7015, 'timescale': 7016, 'licenses': 7017, 'dismiss': 7018, 'merit': 7019, 'mich': 7020, 'banknote': 7021, 'victim': 7022, 'sjc': 7023, 'composition': 7024, 'comprise': 7025, '💙': 7026, 'speeding': 7027, 's3': 7028, 'controllers': 7029, 'appall': 7030, 'badge': 7031, 'fundamentally': 7032, 'mailbox': 7033, 'phoenix': 7034, 'holds': 7035, 'cocksucker': 7036, 'deposited': 7037, 'perception': 7038, '💰': 7039, 'circumstance': 7040, 'lean': 7041, 'carousel': 7042, 'landmark': 7043, 'disjoin': 7044, 'ldn': 7045, 'importance': 7046, 'gritty': 7047, 'tomato': 7048, 'casualty': 7049, 'affirm': 7050, 'joshua': 7051, 'steady': 7052, 'ear': 7053, 'hou': 7054, 'define': 7055, 'fav': 7056, 'empathise': 7057, 'lasted': 7058, 'preparation': 7059, 'snuff': 7060, 'spicy': 7061, 'mil': 7062, 'dreams': 7063, 'par': 7064, 'birds': 7065, 'harvey': 7066, 'trapped': 7067, 'etd': 7068, 'wks': 7069, 'mislead': 7070, 'sizing': 7071, 'buffalo': 7072, 'brookek': 7073, 'gloworld': 7074, 'busiest': 7075, 'branches': 7076, 'wal': 7077, 'synced': 7078, 'strip': 7079, 'wassup': 7080, 'aimee': 7081, 'sucked': 7082, 'promote': 7083, 'script': 7084, 'hosts': 7085, 'adverts': 7086, 'kirsten': 7087, 'spoil': 7088, '48hrs': 7089, 'focused': 7090, 'methods': 7091, 'xxv': 7092, 'doughnut': 7093, 'carlos': 7094, 'stoppage': 7095, 'tjn': 7096, 'mint': 7097, 'slight': 7098, 'distrust': 7099, 'sixteen': 7100, 'sequence': 7101, 'sizes': 7102, 'newspaper': 7103, 'hop': 7104, 'toss': 7105, 'squared': 7106, 'frankly': 7107, 'launched': 7108, 'gamer': 7109, 'expense': 7110, 'patty': 7111, 'regularize': 7112, 'murder': 7113, 'scale': 7114, 'zilch': 7115, 'confident': 7116, 'thirsty': 7117, 'trolleys': 7118, 'typo': 7119, 'oak': 7120, 'overpriced': 7121, 'inconsiderate': 7122, 'straw': 7123, 'fearful': 7124, 'shortcut': 7125, 'proffer': 7126, 'def': 7127, 'blab': 7128, 'replicate': 7129, 'debited': 7130, 'resort': 7131, 'gettin': 7132, 'crab': 7133, 'clips': 7134, 'stool': 7135, 'spreading': 7136, 'endless': 7137, 'tch': 7138, 'addressing': 7139, 'diligently': 7140, 'iberia': 7141, 'reimbursed': 7142, 'logs': 7143, 'unplugging': 7144, 'preceptor': 7145, '350': 7146, '5gb': 7147, 'everyone’': 7148, 'seatac': 7149, 'smoking': 7150, 'jus': 7151, 'messes': 7152, 'holler': 7153, 'react': 7154, 'bankrupt': 7155, 'democratic': 7156, 'hers': 7157, 'variation': 7158, 'configuration': 7159, 'numb': 7160, 'caps': 7161, 'specified': 7162, 'handles': 7163, 'haa': 7164, 'partly': 7165, 'shits': 7166, 'woah': 7167, 'brummagem': 7168, 'hoc': 7169, 'foursome': 7170, 'plow': 7171, 'audible': 7172, 'tia': 7173, 'substitution': 7174, 'juice': 7175, 'alt': 7176, 'abandon': 7177, 'sol': 7178, 'isps': 7179, 'swearing': 7180, 'wandering': 7181, 'comms': 7182, 'gimme': 7183, 'generated': 7184, 'groups': 7185, 'among': 7186, 'instore': 7187, 'soundcloud': 7188, 'inappropriate': 7189, '3days': 7190, 'powerful': 7191, 'ferment': 7192, 'impressive': 7193, 'fundament': 7194, '5hrs': 7195, 'boycotting': 7196, 'jealous': 7197, 'adorable': 7198, 'chiltern': 7199, 'laughed': 7200, 'foresighted': 7201, 'adhar': 7202, 'strawberry': 7203, 'downtime': 7204, 'descent': 7205, 'demerit': 7206, 'displays': 7207, 'ache': 7208, 'sections': 7209, 'ratio': 7210, 'v30': 7211, '125': 7212, 'equivalent': 7213, 'prasanna': 7214, 'toddler': 7215, 'lowered': 7216, 'optimize': 7217, '🙅': 7218, 'rishi': 7219, 'diverted': 7220, 'dj': 7221, 'texted': 7222, 'disconcerting': 7223, 'eccentric': 7224, 'whereas': 7225, 'severalize': 7226, '🙏🏻': 7227, 'backpack': 7228, 'amie': 7229, 'taryns': 7230, '😆': 7231, 'closest': 7232, 'homework': 7233, 'mannered': 7234, 'kay': 7235, 'pants': 7236, 'chill': 7237, 'frontier': 7238, 'arent': 7239, 'los': 7240, 'streets': 7241, 'stl': 7242, 'convinced': 7243, 'driveway': 7244, 'unimpressed': 7245, 'crapper': 7246, 'misplace': 7247, 'lifespan': 7248, 'swansea': 7249, 'greenback': 7250, 'ash': 7251, 'wokingham': 7252, 'arena': 7253, '38': 7254, '31st': 7255, 'greed': 7256, 'margaret': 7257, 'oneworld': 7258, 'uncle': 7259, 'oi': 7260, 'caramel': 7261, 'dpd': 7262, 'pillow': 7263, 'insignificant': 7264, 'tdc': 7265, '1500': 7266, 'clubs': 7267, 'kent': 7268, 'downhill': 7269, 'freight': 7270, 'resources': 7271, 'locks': 7272, 'nicely': 7273, 'extreme': 7274, 'hh': 7275, 'overheating': 7276, 'sneha': 7277, 'nxt': 7278, 'protector': 7279, 'xb1': 7280, 'expanding': 7281, 'sainsbury’': 7282, 'penalty': 7283, 'eggs': 7284, 'bwi': 7285, 'commerce': 7286, 'palpate': 7287, 'intercept': 7288, 'mailing': 7289, 'european': 7290, 'perchance': 7291, 'imma': 7292, 'animation': 7293, 'cj': 7294, 'excessive': 7295, 'accountability': 7296, 'underground': 7297, 'portions': 7298, 'tasted': 7299, 'bored': 7300, 'delaying': 7301, '7plus': 7302, 'copies': 7303, 'coarse': 7304, 'easiest': 7305, 'volition': 7306, 'flagging': 7307, 'liberty': 7308, 'lyrics': 7309, 'locking': 7310, 'hbo': 7311, 'frl': 7312, 'recognized': 7313, 'occasionally': 7314, 'favour': 7315, 'beast': 7316, 'interruptions': 7317, 'amd': 7318, 'illinois': 7319, 'forza': 7320, 'doorbell': 7321, 'kicking': 7322, 'tjm': 7323, 'wage': 7324, 'unspeakable': 7325, 'icky': 7326, 'govt': 7327, 'sunshine': 7328, 'bent': 7329, 'lid': 7330, 'cashier': 7331, 'insincere': 7332, 'editing': 7333, 'actinium': 7334, 'buns': 7335, 'ut': 7336, 'argue': 7337, 'newark': 7338, 'ellea': 7339, 'yelled': 7340, 'descriptions': 7341, 'autumn': 7342, 'determination': 7343, 'awhile': 7344, 'verbatim': 7345, 'inc': 7346, 'nates': 7347, 'fiona': 7348, 'significant': 7349, 'pageboy': 7350, 'approval': 7351, 'broadband': 7352, '🔍': 7353, 'how’': 7354, 'firmly': 7355, 'bowls': 7356, 'manhattan': 7357, 'explorer': 7358, 'indicates': 7359, 'irritation': 7360, 'nicer': 7361, 'accession': 7362, 'bind': 7363, 'scare': 7364, '28th': 7365, 'hermes': 7366, 'caroline': 7367, 'mbp': 7368, 'apples': 7369, 'lx': 7370, 'palm': 7371, 'gosh': 7372, 'sockets': 7373, 'cunts': 7374, 'slope': 7375, 'senses': 7376, 'rising': 7377, 'falls': 7378, '1k': 7379, 'dance': 7380, 'forgetting': 7381, 'railcard': 7382, 'artium': 7383, 'boom': 7384, 'tha': 7385, 'miscommunication': 7386, 'flagship': 7387, 'inspiron': 7388, 'eek': 7389, '😵': 7390, '1pm': 7391, 'fraudster': 7392, 'mvp': 7393, 'partial': 7394, 'wht': 7395, 'ahold': 7396, 'int': 7397, 'restriction': 7398, 'metropolis': 7399, 'gabriel': 7400, 'gay': 7401, 'diddlyshit': 7402, 'apparent': 7403, 'firmware': 7404, 'sju': 7405, 'defy': 7406, 'cognisant': 7407, 'hostage': 7408, 'weed': 7409, 'newly': 7410, 'leah': 7411, 'disconsolate': 7412, 'retweet': 7413, 'initiative': 7414, '5k': 7415, 'applying': 7416, 'xd': 7417, 'woo': 7418, 'bands': 7419, 'clause': 7420, 'poison': 7421, 'pursue': 7422, '35k': 7423, 'tiresome': 7424, 'blinking': 7425, 'duck': 7426, 'relay': 7427, '5pm': 7428, 'ni': 7429, 'charlesopacki': 7430, 'feb': 7431, 'stellar': 7432, 'wouldnt': 7433, 'interior': 7434, 'ctrl': 7435, 'ontime': 7436, 'millions': 7437, 'wk': 7438, 'gon': 7439, 'considerably': 7440, 'apostle': 7441, 'massively': 7442, 'docs': 7443, 'illustrator': 7444, 'inter': 7445, 'destroying': 7446, 'bananas': 7447, 'nigel': 7448, 'extortionate': 7449, 'layer': 7450, 'punch': 7451, 'pritam': 7452, 'shoddy': 7453, 'would’ve': 7454, 'scorecard': 7455, 'sucker': 7456, 'dingle': 7457, 'logan': 7458, 'locker': 7459, 'selfie': 7460, 'pauperism': 7461, 'faulting': 7462, 'dudes': 7463, 'condescending': 7464, 'tens': 7465, 'potentially': 7466, 'redirected': 7467, 'weymouth': 7468, 'aar': 7469, 'billy': 7470, 'corry': 7471, 'cinnamon': 7472, 'technically': 7473, 'superb': 7474, 'hjh': 7475, 'baseball': 7476, 'conflict': 7477, 'mymathlab': 7478, 'arrogant': 7479, 'duration': 7480, 'domicile': 7481, 'leighton': 7482, '1gb': 7483, 'telecasting': 7484, 'elevate': 7485, 'wl': 7486, 'nicky': 7487, 'relation': 7488, 'assignment': 7489, 'contribute': 7490, 'insanity': 7491, 'maximize': 7492, 'tooshie': 7493, 'ported': 7494, 'simcard': 7495, 'rohit': 7496, 'qs': 7497, 'rouse': 7498, 'hackers': 7499, 'broccoli': 7500, 'autocorrecting': 7501, 'rightfield': 7502, '🤦🏻\\u200d♀️': 7503, 'tables': 7504, 'lesser': 7505, 'jq': 7506, 'wye': 7507, 'incline': 7508, 'kw': 7509, '6am': 7510, 'hopelessly': 7511, 'aadhaar': 7512, 'transparent': 7513, 'wil': 7514, 'backbone': 7515, 'stressed': 7516, 'chilled': 7517, 'censor': 7518, '🚨': 7519, 'felicia': 7520, 'confab': 7521, '😝': 7522, 'adept': 7523, 'soldier': 7524, 'leslie': 7525, 'tags': 7526, 'advising': 7527, 'citibank': 7528, 'unsolicited': 7529, 'doncaster': 7530, 'fivesome': 7531, 'unharmed': 7532, 'norm': 7533, 'hazard': 7534, 'quarter': 7535, 'creation': 7536, 'upright': 7537, 'sestet': 7538, 'mms': 7539, 'bun': 7540, 'props': 7541, 'ultimately': 7542, 'stafford': 7543, 'warn': 7544, 'powering': 7545, 'communities': 7546, 'effectively': 7547, 'twickenham': 7548, 'kindest': 7549, 'win10': 7550, 'res': 7551, 'marketer': 7552, 'minecraft': 7553, 'hiccup': 7554, 'ssn': 7555, 'unreasonably': 7556, 'deets': 7557, 'humbug': 7558, 'blah': 7559, 'christina': 7560, 'lav': 7561, 'paula': 7562, 'incubus': 7563, 'commend': 7564, 'persons': 7565, 'tracked': 7566, 'bloom': 7567, 'differently': 7568, 'julier': 7569, 'reader': 7570, 'iron': 7571, 'identical': 7572, 'worldwide': 7573, 'adress': 7574, 'dubiousness': 7575, '¿': 7576, 'lick': 7577, 'piccadilly': 7578, 'bond': 7579, 'participate': 7580, 'fitting': 7581, 'internationally': 7582, 'volcanic': 7583, 'agung': 7584, 'nba': 7585, 'snes': 7586, 'jimmy': 7587, 'drew': 7588, 'vinyl': 7589, 'sounding': 7590, 'extortion': 7591, 'redownload': 7592, 'mold': 7593, '👌🏻': 7594, 'ju': 7595, 'meg': 7596, 'mute': 7597, 'extradite': 7598, 'jrw': 7599, 'osho': 7600, 'interpretation': 7601, 'chart': 7602, 'cctv': 7603, 'fatigue': 7604, 'dumbest': 7605, 'strategy': 7606, '8plus': 7607, 'warrant': 7608, 'quetch': 7609, 'golden': 7610, 'assess': 7611, 'supplying': 7612, 'cognitive': 7613, 'hooked': 7614, 'gpu': 7615, 'tedious': 7616, '4gb': 7617, 'naira': 7618, 'afn': 7619, 'lunchtime': 7620, 'envision': 7621, 'iphone7': 7622, 'impostor': 7623, 'projection': 7624, 'kris': 7625, 'font': 7626, 'signage': 7627, 'refurbished': 7628, 'restock': 7629, 'laptops': 7630, 'barry': 7631, 'hunky': 7632, 'dory': 7633, 'tdh': 7634, 'perk': 7635, 'torture': 7636, 'z2': 7637, 'gin': 7638, 'sap': 7639, 'doomed': 7640, 'voted': 7641, 'ticketed': 7642, 'senan': 7643, 'percent': 7644, 'apparel': 7645, 'keister': 7646, 'personify': 7647, 'covering': 7648, 'madness': 7649, 'costing': 7650, 'nap': 7651, 'flowers': 7652, 'preorders': 7653, 'tempestuous': 7654, 'recycle': 7655, 'reasoning': 7656, 'newegg': 7657, 'rammed': 7658, 'flick': 7659, 'hooray': 7660, '51': 7661, 'honorable': 7662, 'abuser': 7663, 'worcester': 7664, 'appt': 7665, 'creed': 7666, 'bust': 7667, 'infelicitous': 7668, 'requiring': 7669, 'legally': 7670, 'privileges': 7671, 'julia': 7672, 'recycling': 7673, 'touching': 7674, 'departments': 7675, 'placard': 7676, 'attorney': 7677, 'bureau': 7678, 'tending': 7679, 'views': 7680, 'misplaced': 7681, 'authority': 7682, 'pam': 7683, 'insufficient': 7684, 'hereford': 7685, 'vain': 7686, 'loaf': 7687, 'excitement': 7688, 'diesel': 7689, 'boulder': 7690, 'interrupted': 7691, 'slew': 7692, 'curry': 7693, 'regretfully': 7694, 'annoyance': 7695, 'slept': 7696, 'punk': 7697, 'kenya': 7698, 'hks': 7699, 'tbs': 7700, '🤦🏽\\u200d♀️': 7701, 'performed': 7702, 'hum': 7703, 'sink': 7704, 'rows': 7705, 'sensible': 7706, '£6': 7707, 'repeating': 7708, 'spotted': 7709, 'ye': 7710, 'unaccompanied': 7711, 'bab': 7712, 'throttle': 7713, 'wc': 7714, 'reflected': 7715, 'protocol': 7716, 'bakes': 7717, 'singing': 7718, 'misapprehension': 7719, 'takings': 7720, 'euskadi': 7721, 'askatasuna': 7722, 'prat': 7723, 'livelihood': 7724, 'indonesian': 7725, 'redcard': 7726, 'offspring': 7727, 'menage': 7728, 'wasteland': 7729, 'kieran': 7730, '1am': 7731, 'angeles': 7732, 'burgers': 7733, 'wave': 7734, 'advertizement': 7735, 'radar': 7736, 'strikes': 7737, 'tolerate': 7738, 'melt': 7739, 'feeding': 7740, 'heated': 7741, 'carryon': 7742, 'bellied': 7743, 'hitherto': 7744, 'integration': 7745, 'moves': 7746, 'sheer': 7747, 'dime': 7748, 'titles': 7749, 'deductible': 7750, 'fried': 7751, 'bait': 7752, 'yum': 7753, 'tasteless': 7754, 'tracy': 7755, 'connects': 7756, 'fooled': 7757, 'sql': 7758, 'morgan': 7759, 'forces': 7760, 'vacations': 7761, 'hvi': 7762, 'forge': 7763, 'excel': 7764, 'redirects': 7765, 'retailers': 7766, 'championship': 7767, 'clears': 7768, 'inclination': 7769, 'professionalism': 7770, 'twyford': 7771, 'precise': 7772, 'watford': 7773, 'slm': 7774, 'outdated': 7775, 'uo': 7776, 'occasions': 7777, 'alyson': 7778, 'cataclysm': 7779, 'purposely': 7780, '🎧': 7781, 'covers': 7782, 'collecting': 7783, 'animals': 7784, 'forenoon': 7785, 'shorter': 7786, 'crushed': 7787, 'encouraging': 7788, 'dub': 7789, 'connective': 7790, 'tuesdays': 7791, 'supplied': 7792, 'legion': 7793, 'envelopes': 7794, '£3': 7795, 'undeliverable': 7796, 'champion': 7797, 'vanished': 7798, 'understandable': 7799, 'tks': 7800, 'suffered': 7801, 'tasting': 7802, 'happiness': 7803, 'corroborate': 7804, 'authorization': 7805, 'inn': 7806, 'expression': 7807, 'nhl': 7808, 'valet': 7809, 'upside': 7810, 'vicki': 7811, 'properties': 7812, 'hopeful': 7813, 'fooling': 7814, 'sise': 7815, 'hades': 7816, 'snake': 7817, 'sloppy': 7818, 'robots': 7819, 'corp': 7820, 'boring': 7821, 'pacific': 7822, 'fold': 7823, 'troubleshooter': 7824, 'undecomposed': 7825, 'tripper': 7826, 'foreign': 7827, 'treasury': 7828, 'halvden': 7829, 'mrs': 7830, 'allergy': 7831, 'catherine': 7832, 'muddle': 7833, 'perplex': 7834, 'heartbroken': 7835, 'nos': 7836, 'hating': 7837, 'amend': 7838, 'trophies': 7839, 'aurora': 7840, 'shockingly': 7841, 'diana': 7842, '25th': 7843, 'photographic': 7844, 'insider': 7845, 'fuckers': 7846, 'loot': 7847, 'diddlysquat': 7848, 'faux': 7849, 'pos': 7850, 'trent': 7851, 'begrudge': 7852, 'chats': 7853, 'tfw': 7854, 'deployment': 7855, 'pnr': 7856, 'manipulation': 7857, 'equipped': 7858, 'dps': 7859, 'jumps': 7860, 'foil': 7861, 'nether': 7862, 'sayin': 7863, 'physically': 7864, 'crusade': 7865, 'assurance': 7866, 'closure': 7867, 'construction': 7868, 'nerveless': 7869, 'supreme': 7870, 'intimately': 7871, 'authorize': 7872, '1709': 7873, 'invisible': 7874, 'slough': 7875, 'cheeky': 7876, 'resulting': 7877, 'reckoning': 7878, 'insect': 7879, 'basque': 7880, 'pretender': 7881, 'abysmal': 7882, 'customs': 7883, 'kart': 7884, 'violent': 7885, 'remuneration': 7886, 'browns': 7887, 'violate': 7888, 'bofa': 7889, '👎🏻': 7890, 'logarithm': 7891, 'granted': 7892, 'teach': 7893, 'lover': 7894, 'annoy': 7895, 'plymouth': 7896, 'doin': 7897, 'packs': 7898, 'where’': 7899, 'resolves': 7900, 'zombie': 7901, 'bw': 7902, 'unaware': 7903, 'somewhat': 7904, 'desperately': 7905, 'flower': 7906, '₹': 7907, 'gentleman': 7908, 'pdx': 7909, '15min': 7910, 'reload': 7911, 'logos': 7912, 'banner': 7913, 'expiring': 7914, 'brett': 7915, '£100': 7916, 'promoting': 7917, 'endeavour': 7918, 'carpet': 7919, '11pm': 7920, 'emergence': 7921, 'cherry': 7922, 'connector': 7923, 'grandma': 7924, 'worrying': 7925, 'ic': 7926, 'spaces': 7927, 'yoghurt': 7928, 'creamer': 7929, 'jx': 7930, 'decently': 7931, '10x': 7932, 'refreshing': 7933, 'indiana': 7934, 'sep': 7935, 'baked': 7936, 'derriere': 7937, 'scanner': 7938, 'nose': 7939, 'scotland': 7940, '62': 7941, 'runaround': 7942, 'lily': 7943, 'irregularities': 7944, '12th': 7945, 'picks': 7946, 'pat': 7947, '0x': 7948, 'distributor': 7949, 'costumes': 7950, 'xtc': 7951, 'shuttle': 7952, 'groove': 7953, 'gig': 7954, 'mshwari': 7955, 'lesley': 7956, 'wp': 7957, 'doug': 7958, 'documented': 7959, 'flunk': 7960, 'declassify': 7961, 'verbalise': 7962, 'planer': 7963, 'dialect': 7964, 'surprises': 7965, 'bo3': 7966, 'graham': 7967, 'violation': 7968, 'fc': 7969, 'windowpane': 7970, 'instrument': 7971, 'sdl': 7972, 'legacy': 7973, 'alcoholics': 7974, 'anonymous': 7975, 'ally': 7976, 'unbelievably': 7977, 'boat': 7978, 'promising': 7979, 'zodiac': 7980, 'phase': 7981, 'br': 7982, 'uhm': 7983, 'wheres': 7984, 'woefully': 7985, 'suffice': 7986, 'curl': 7987, 'ssl': 7988, 'adw': 7989, 'luis': 7990, 'triple': 7991, 'probability': 7992, 'incentive': 7993, 'anxiety': 7994, 'centers': 7995, 'ua': 7996, 'jenna': 7997, 'sabbatum': 7998, 'welfare': 7999, 'handler': 8000, 'reflects': 8001, 'bcuz': 8002, 'papu': 8003, 'stupidly': 8004, 'ans': 8005, 'gavin': 8006, 'infact': 8007, 'profiles': 8008, 'uae': 8009, 'switches': 8010, 'roopa': 8011, 'preordering': 8012, 'disgruntled': 8013, 'morons': 8014, 'behave': 8015, 'lobbies': 8016, 'trough': 8017, 'acknowledgment': 8018, 'mehvish': 8019, 'ali': 8020, 'kenneth': 8021, 'nfm': 8022, 'jimy': 8023, 'meetings': 8024, 'csn': 8025, 'specs': 8026, 'emil': 8027, 'applies': 8028, 'cambridge': 8029, 'furniture': 8030, 'sympathise': 8031, 'rectified': 8032, 'declining': 8033, 'lived': 8034, 'incapable': 8035, 'webpage': 8036, 'catalog': 8037, 'wan': 8038, 'disturbed': 8039, 'exhibit': 8040, 'welp': 8041, 'strand': 8042, 'modes': 8043, 'katherine': 8044, 'spider': 8045, 'optic': 8046, 'ek': 8047, '365': 8048, 'gv': 8049, 'grub': 8050, 'sisters': 8051, 'presume': 8052, 'amended': 8053, 'capitan': 8054, 'xf': 8055, 'crowd': 8056, 'suspension': 8057, 'pals': 8058, 'graphics': 8059, 'vids': 8060, 'intent': 8061, 'req': 8062, 'retentive': 8063, 'compensated': 8064, 'remarkably': 8065, 'gl': 8066, 'ellen': 8067, 'statistics': 8068, 'wherever': 8069, 'redundant': 8070, 'barrier': 8071, 'helena': 8072, 'wealthy': 8073, 'micturate': 8074, 'hahahaha': 8075, 'lawyer': 8076, 'pockets': 8077, 'costco': 8078, 'oddly': 8079, 'rosa': 8080, 'trees': 8081, 'contraindicate': 8082, 'magazines': 8083, 'melted': 8084, 'christine': 8085, 'turbo': 8086, 'crude': 8087, 'suite': 8088, 'severn': 8089, 'taunton': 8090, 'ruth': 8091, 'avoided': 8092, 'cultivate': 8093, 'apt': 8094, 'showcase': 8095, 'prompted': 8096, 'fukien': 8097, 'stain': 8098, 'adjusting': 8099, 'mystery': 8100, 'lookup': 8101, 'dissociate': 8102, 'clarity': 8103, 'api': 8104, 'vital': 8105, 'thief': 8106, 'bedlam': 8107, 'veritable': 8108, '£15': 8109, 'russian': 8110, 'prathap': 8111, 'cathy': 8112, 'signup': 8113, 'underworld': 8114, 'caper': 8115, 'damned': 8116, 'fs2': 8117, 'connectedness': 8118, 'warrington': 8119, 'volunteer': 8120, '84': 8121, 'immobilise': 8122, 'bright': 8123, 'penis': 8124, 'memphis': 8125, 'backside': 8126, 'hoped': 8127, 'vessels': 8128, 'marriage': 8129, 'tests': 8130, 'ordeal': 8131, 'accent': 8132, '📝': 8133, 'tutelage': 8134, 'finale': 8135, 'supernumerary': 8136, 'lads': 8137, 'fx': 8138, 'bradley': 8139, 'mexican': 8140, 'grasp': 8141, 'topping': 8142, 'pepper': 8143, 'recourse': 8144, 'elevator': 8145, 'offence': 8146, 'nationwide': 8147, 'friggin': 8148, '50pm': 8149, 'pressed': 8150, 'doordash': 8151, 'wreak': 8152, 'kcb': 8153, 'licence': 8154, 'jeans': 8155, 'oakland': 8156, 'deflower': 8157, 'initially': 8158, 'indication': 8159, '´': 8160, 'watchlist': 8161, 'observation': 8162, 'centric': 8163, 'tot': 8164, 'rat': 8165, 'recordings': 8166, 'workflow': 8167, 'damaging': 8168, 'entrust': 8169, 'trailer': 8170, 'cue': 8171, 'blanket': 8172, 'stag': 8173, 'curb': 8174, 'admirals': 8175, 'gravid': 8176, 'voiceover': 8177, 'outs': 8178, 'foretell': 8179, 'wastefulness': 8180, 'timber': 8181, 'glue': 8182, 'nh': 8183, 'adjoin': 8184, '“it”': 8185, 'offensive': 8186, 'streak': 8187, 'yah': 8188, 'baffled': 8189, 'bites': 8190, 'stat': 8191, 'angstrom': 8192, 'approx': 8193, 'understudy': 8194, 'innovation': 8195, 'tender': 8196, 'activating': 8197, 'dilly': 8198, 'homepage': 8199, 'hyderabad': 8200, 'calendars': 8201, 'toilsome': 8202, 'cockeyed': 8203, 'disrespectful': 8204, 'reducing': 8205, 'responsibleness': 8206, 'calculated': 8207, 'casual': 8208, 'derek': 8209, 'barred': 8210, 'guitar': 8211, 'miscarry': 8212, 'robbed': 8213, 'vegans': 8214, 'ultimate': 8215, 'funding': 8216, 'funky': 8217, 'oo': 8218, 'burning': 8219, 'carnitas': 8220, 'breast': 8221, 'lemon': 8222, 'gripe': 8223, 'coiffe': 8224, 'penalized': 8225, 'promptly': 8226, 'combat': 8227, 'legend': 8228, 'staring': 8229, 'plugging': 8230, 'sacramento': 8231, 'logical': 8232, 'genre': 8233, '😌': 8234, 'unintelligibly': 8235, 'harsh': 8236, 'thrice': 8237, 'drawing': 8238, 'millimetre': 8239, 'ksf': 8240, 'yard': 8241, 'gamey': 8242, 'malfunctioning': 8243, 'copying': 8244, 'sunny': 8245, 'functional': 8246, 'council': 8247, 'restocking': 8248, 'replay': 8249, 'overcrowd': 8250, 'cobalt': 8251, 'sas': 8252, 'ealing': 8253, 'ethan': 8254, 'engaged': 8255, 'stressing': 8256, 'determined': 8257, 'dictionary': 8258, 'chisel': 8259, 'reinforcement': 8260, 'okey': 8261, 'shouting': 8262, 'revise': 8263, 'matchmaking': 8264, '🤷🏻\\u200d♀️': 8265, 'deserving': 8266, 'cheque': 8267, 'puddle': 8268, 'bud': 8269, 'lmfao': 8270, 'countersign': 8271, 'cats': 8272, 'presale': 8273, 'output': 8274, 'binge': 8275, 'smashed': 8276, 'kno': 8277, 'couch': 8278, 'patronising': 8279, 'pod': 8280, 'cheltenham': 8281, 'fridge': 8282, 'outgoing': 8283, 'dismay': 8284, '🎉': 8285, 'mortar': 8286, 'chevy': 8287, 'aright': 8288, 'instalment': 8289, 'colleen': 8290, 'materialize': 8291, 'steals': 8292, 'testify': 8293, 'mellow': 8294, 'knee': 8295, 'abode': 8296, 'samoa': 8297, 'instructed': 8298, 'cents': 8299, 'amr': 8300, 'sliced': 8301, 'dip': 8302, 'layers': 8303, 'cried': 8304, 'mushroom': 8305, 'caterpillar': 8306, 'spots': 8307, 'arcminute': 8308, 'welcomed': 8309, 'advantageously': 8310, 'csrs': 8311, 'ir': 8312, 'nonsensical': 8313, 'bitches': 8314, 'retailer': 8315, 'arlington': 8316, 'proceeds': 8317, 'scandalise': 8318, 'anyplace': 8319, 'fingerprint': 8320, '🤦\\u200d♂️': 8321, 'deposits': 8322, 'goodies': 8323, 'bf': 8324, 'rewind': 8325, 'hampton': 8326, '🤔🤔': 8327, 'phosphorus': 8328, 'watchword': 8329, 'deducting': 8330, 'latitia': 8331, 'cursor': 8332, 'visualize': 8333, 'subscribing': 8334, 'stack': 8335, 'winning': 8336, 'deplane': 8337, 'symbols': 8338, 'commentary': 8339, 'grammar': 8340, 'wished': 8341, 'urban': 8342, '🐶': 8343, 'idaho': 8344, 'amends': 8345, 'qualified': 8346, 'mex': 8347, 'snitch': 8348, 'lego': 8349, 'quaternion': 8350, 'hilarious': 8351, 'hats': 8352, 'cad': 8353, 'valerie': 8354, 'indisputable': 8355, 'cheeseburger': 8356, 'mack': 8357, 'surf': 8358, 'btm': 8359, 'dock': 8360, 'humble': 8361, 'malicious': 8362, 'tossed': 8363, 'spain': 8364, 'mailman': 8365, 'donhebron': 8366, 'centimetre': 8367, 'archiving': 8368, 'pst': 8369, 'potty': 8370, 'topsy': 8371, 'pump': 8372, 'embark': 8373, 'farseeing': 8374, 'chick': 8375, 'rdg': 8376, 'catching': 8377, 'singapore': 8378, 'sob': 8379, 'cluster': 8380, 'regale': 8381, 'halfway': 8382, 'taxicab': 8383, 'strangers': 8384, 'adjustment': 8385, 'danger': 8386, 'semen': 8387, 'bred': 8388, 'brands': 8389, 'churn': 8390, 'scams': 8391, 'mcgriddles': 8392, 'phn': 8393, 'authorisation': 8394, 'kentucky': 8395, 'rerouted': 8396, '🌯': 8397, 'nelson': 8398, 'abused': 8399, 'hatful': 8400, 'equal': 8401, 'relative': 8402, 'invites': 8403, 'teaching': 8404, 'domains': 8405, 'sunup': 8406, 'kristin': 8407, 'precious': 8408, 'commonwealth': 8409, 'spamming': 8410, 'disordered': 8411, 'isaac': 8412, '😩😭': 8413, 'mould': 8414, 'anne': 8415, 'fishy': 8416, 'aggravating': 8417, '😂😂😂😂': 8418, 'telesales': 8419, 'hashemite': 8420, 'tactics': 8421, 'backlog': 8422, 'shadow': 8423, 'hale': 8424, 'fellate': 8425, 'dairy': 8426, 'vip': 8427, 'fo': 8428, 'aftr': 8429, 'heath': 8430, 'offended': 8431, 'pride': 8432, 'mcnuggets': 8433, 'disruptions': 8434, 'credentials': 8435, 'mayhap': 8436, 'molly': 8437, 'agone': 8438, 'xps': 8439, 'salted': 8440, 'scrap': 8441, 'ewr': 8442, 'subs': 8443, 'rethink': 8444, 'keyboards': 8445, 'scarcely': 8446, 'overwatch': 8447, '🤷🏼\\u200d♀️': 8448, 'predict': 8449, 'notices': 8450, 'crown': 8451, 'responsiveness': 8452, 'melindar': 8453, 'preventing': 8454, '🙄🙄🙄': 8455, 'expanse': 8456, 'mixed': 8457, 'counts': 8458, 'doe': 8459, 'dependent': 8460, 'denounce': 8461, 'cheapest': 8462, 'sorts': 8463, 'qr': 8464, 'sized': 8465, 'rly': 8466, 'stink': 8467, 'bash': 8468, 'leaning': 8469, 'dialing': 8470, 'leaked': 8471, 'kristen': 8472, 'dawning': 8473, 'mcd': 8474, 'summation': 8475, 'offend': 8476, 'employed': 8477, 'pretending': 8478, 'underneath': 8479, 'autoplay': 8480, 'aur': 8481, '30days': 8482, 'firstly': 8483, 'sector': 8484, 'indigence': 8485, 'verbalize': 8486, 'processes': 8487, 'mouse': 8488, 'globe': 8489, 'classy': 8490, 'outlets': 8491, 'hmb': 8492, 'punishing': 8493, 'validity': 8494, 'monolithic': 8495, '45am': 8496, 'replacements': 8497, 'anxious': 8498, '“no': 8499, 'casey': 8500, 'autopay': 8501, 'entrance': 8502, 'dearest': 8503, 'num': 8504, 'brighten': 8505, 'trophy': 8506, 'ungrateful': 8507, 'cunt': 8508, 'hlp': 8509, 'introducing': 8510, 'redact': 8511, 'sued': 8512, 'stephaniea': 8513, 'patched': 8514, 'prints': 8515, 'depth': 8516, '5p': 8517, 'usd': 8518, 'cramped': 8519, 'xc': 8520, 'codfish': 8521, 'boneless': 8522, 'customize': 8523, 'excite': 8524, 'ouch': 8525, 'furnish': 8526, 'inbound': 8527, 'intel': 8528, 'narrow': 8529, 'bugging': 8530, 'cheater': 8531, 'separated': 8532, 'sterling': 8533, 'interact': 8534, 'knocking': 8535, 'jy': 8536, 'hacking': 8537, 'stroller': 8538, 'redemption': 8539, 'homeless': 8540, 'labelled': 8541, 'plosive': 8542, 'mal': 8543, 'admittance': 8544, 'abc': 8545, 'unload': 8546, 'griffith': 8547, 'chaney': 8548, '🎅': 8549, 'undivided': 8550, 'seemingly': 8551, 'insulting': 8552, '➡': 8553, 'disco': 8554, 'favorites': 8555, 'punished': 8556, 'comprehend': 8557, 'verifier': 8558, '13th': 8559, 'swell': 8560, '00pm': 8561, 'scrolling': 8562, 'gender': 8563, '1800': 8564, 'outright': 8565, 'bcz': 8566, 'fulfil': 8567, 'niece': 8568, 'resent': 8569, 'installer': 8570, 'indoors': 8571, 'digitally': 8572, 'umm': 8573, 'owed': 8574, 'countless': 8575, 'ratification': 8576, 'insist': 8577, 'bat': 8578, 'nation': 8579, '📦': 8580, '€': 8581, 'doa': 8582, 'formed': 8583, 'exhausted': 8584, 'expedited': 8585, 'thou': 8586, 'hates': 8587, 'phonograph': 8588, 'slowness': 8589, 'counted': 8590, 'righteous': 8591, '🙊': 8592, 'shaking': 8593, '🤤': 8594, 'surprisingly': 8595, 'petty': 8596, 'recollect': 8597, 'usher': 8598, 'bullied': 8599, 'spark': 8600, 'muffin': 8601, 'walea': 8602, 'threat': 8603, 'acrobat': 8604, '😫😫😫': 8605, 'burn': 8606, 'vista': 8607, 'defaults': 8608, '🤓': 8609, 'administration': 8610, 'feeds': 8611, 'listened': 8612, 'contingent': 8613, 'awards': 8614, 'unhinged': 8615, 'crewmembers': 8616, 'sacrifice': 8617, '🍷': 8618, 'lexie': 8619, 'babies': 8620, 'escalations': 8621, 'appreciation': 8622, 'baccalaurens': 8623, 'dining': 8624, 'longsighted': 8625, 'curation': 8626, 'inaugural': 8627, 'chew': 8628, 'entertaining': 8629, 'cleaner': 8630, 'breed': 8631, 'cancun': 8632, 'intl': 8633, 'modest': 8634, 'scum': 8635, 'microphone': 8636, 'unreserved': 8637, 'swiss': 8638, 'lemme': 8639, 'sender': 8640, 'spotty': 8641, 'rented': 8642, 'flavor': 8643, 'thumbs': 8644, 'desert': 8645, 'warnings': 8646, 'pp': 8647, 'scumbag': 8648, 'atmospheric': 8649, 'advisors': 8650, 'minuets': 8651, 'michigan': 8652, 'distinction': 8653, 'polly': 8654, 'momentarily': 8655, 'firing': 8656, 'pleas': 8657, 'onetime': 8658, 'slowed': 8659, 'discussing': 8660, 'velvet': 8661, 'downstairs': 8662, 'jumped': 8663, 'chef': 8664, 'exceeded': 8665, 'icing': 8666, 'vehicles': 8667, 'jillian': 8668, 'herbert': 8669, 'showtime': 8670, 'surrounding': 8671, 'collapse': 8672, 'erik': 8673, 'telegram': 8674, 'tether': 8675, 'truro': 8676, 'cousin': 8677, 'fragile': 8678, 'ignorance': 8679, 'eldritch': 8680, 'hindquarters': 8681, 'shane': 8682, 'lumia': 8683, 'chairs': 8684, 'philip': 8685, 'bhm': 8686, 'nibble': 8687, 'roundtrip': 8688, 'fountainhead': 8689, 'srvc': 8690, 'gee': 8691, 'prashant': 8692, 'hwy': 8693, 'interrupt': 8694, '🍎': 8695, 'repurchase': 8696, 'wrapped': 8697, 'swapped': 8698, 'pittsburgh': 8699, 'widespread': 8700, 'buster': 8701, 'drama': 8702, 'exe': 8703, 'lmk': 8704, 'earlsfield': 8705, 'pisses': 8706, 'praises': 8707, 'appeal': 8708, 'moderate': 8709, '15mins': 8710, 'accurately': 8711, 'certified': 8712, 'halp': 8713, 'gutted': 8714, 'allocate': 8715, 'speedtest': 8716, 'robyn': 8717, 'humor': 8718, 'volunteers': 8719, 'drinking': 8720, 'loo': 8721, 'informative': 8722, 'australian': 8723, 'obtained': 8724, 'parks': 8725, 'reliance': 8726, 'inr': 8727, 'markmclaughlin': 8728, 'saransh': 8729, 'snag': 8730, 'dust': 8731, 'practise': 8732, 'karma': 8733, 'duh': 8734, 'nite': 8735, 'rochester': 8736, 'gmt': 8737, 'wellspring': 8738, 'existence': 8739, 'burst': 8740, '98': 8741, 'entertained': 8742, 'detected': 8743, 'jean': 8744, 'carplay': 8745, 'midst': 8746, 'dupe': 8747, 'eip': 8748, 'laurie': 8749, 'flagged': 8750, 'ahmedabad': 8751, 'africa': 8752, 'filters': 8753, 'indemnity': 8754, 'laughable': 8755, 'mastercard': 8756, 'rug': 8757, 'cec': 8758, 'ceri': 8759, 'ramp': 8760, 'portland': 8761, 'gunpoint': 8762, 'hfg': 8763, 'boorito': 8764, 'warned': 8765, 'disappearing': 8766, '502': 8767, 'posture': 8768, 'sore': 8769, 'strongly': 8770, 'settled': 8771, 'terrorist': 8772, 'envy': 8773, 'ami': 8774, 'mast': 8775, 'trueblue': 8776, 'waitlist': 8777, 'hike': 8778, 'pep': 8779, 'opticians': 8780, 'sheffield': 8781, 'vacuous': 8782, 'altered': 8783, 'moreover': 8784, 'osx': 8785, 'gac7a8e02': 8786, 'foolish': 8787, 'quotation': 8788, 'alexis': 8789, 'fucken': 8790, 'towo': 8791, 'alexander': 8792, 'payroll': 8793, 'largest': 8794, 'quiz': 8795, 'patiently': 8796, 'phrase': 8797, 'gallus': 8798, 'joking': 8799, 'lavatory': 8800, 'thirtieth': 8801, 'migration': 8802, 'modems': 8803, 'jared': 8804, 'universe': 8805, 'clientele': 8806, 'flashlight': 8807, 'burden': 8808, 'montreal': 8809, 'mp3': 8810, 'chore': 8811, 'ln': 8812, 'presuppose': 8813, 'coax': 8814, 'phallus': 8815, 'accusation': 8816, '🎶': 8817, 'doodly': 8818, 'lip': 8819, 'hail': 8820, 'crush': 8821, 'neck': 8822, '2442': 8823, 'linux': 8824, 'permitted': 8825, 'inches': 8826, 'cattle': 8827, 'lxxv': 8828, 'diddley': 8829, 'degrees': 8830, 'bummed': 8831, 'worldtracer': 8832, 'arms': 8833, '😮': 8834, 'expansion': 8835, 'omfg': 8836, 'fml': 8837, 'bedevil': 8838, 'junior': 8839, 'undergoing': 8840, 'basketball': 8841, 'ul': 8842, 'could’ve': 8843, 'reveal': 8844, 'jeromybingham': 8845, 'tinge': 8846, 'tellers': 8847, 'permissive': 8848, 'bespeak': 8849, 'rape': 8850, 'pseud': 8851, 'whoops': 8852, 'riot': 8853, 'railways': 8854, 'inaccessible': 8855, 'larry': 8856, 'specialized': 8857, 'displeasure': 8858, 'phoning': 8859, 'comprehension': 8860, 'invoices': 8861, 'horrified': 8862, 'honolulu': 8863, 'islands': 8864, 'seal': 8865, 'wise': 8866, 'doubtfulness': 8867, 'oooh': 8868, 'emptor': 8869, '£25': 8870, 'artificial': 8871, 'stevenage': 8872, 'ditch': 8873, 'poem': 8874, 'beneficial': 8875, 'katy': 8876, 'shannon': 8877, 'hadn’': 8878, 'camp': 8879, '15pm': 8880, '3d': 8881, 'carried': 8882, 'allison': 8883, 'departures': 8884, 'inspiring': 8885, 'bluedart': 8886, 'dey': 8887, 'nisha': 8888, 'mount': 8889, 'fred': 8890, 'owned': 8891, '69': 8892, 'nuggets': 8893, 'stark': 8894, 'imposter': 8895, 'thrill': 8896, 'bedroom': 8897, 'rack': 8898, 'curly': 8899, 'goin': 8900, 'acknowledged': 8901, 'frauds': 8902, 'caitlin': 8903, 'kellenf': 8904, 'nonentity': 8905, 'buried': 8906, 'nephew': 8907, 'onwards': 8908, 'le': 8909, 'recovered': 8910, 'announcing': 8911, 'warrantee': 8912, 'unprocessed': 8913, 'doll': 8914, 'dudley': 8915, 'explicit': 8916, 'incidents': 8917, 'smiles': 8918, 'lap': 8919, 'ktn': 8920, 'overbooked': 8921, 'microcomputer': 8922, 'tangible': 8923, 'coif': 8924, 'credibly': 8925, 'latter': 8926, 'adjustments': 8927, 'association': 8928, 'fareham': 8929, 'watchos': 8930, '🤘': 8931, '4am': 8932, 'resilient': 8933, 'champagne': 8934, 'cruise': 8935, 'outer': 8936, 'compassion': 8937, 'farce': 8938, '101': 8939, 'ought': 8940, 'carrots': 8941, 'awkward': 8942, 'aba': 8943, 'programmed': 8944, 'rebuy': 8945, 'tremendous': 8946, 'rouge': 8947, 'pole': 8948, 'linking': 8949, 'reminders': 8950, 'extension': 8951, 'footage': 8952, 'kaew': 8953, 'finance': 8954, 'proclamation': 8955, 'lbs': 8956, 'surbiton': 8957, 'hits': 8958, 'longest': 8959, 'shiny': 8960, 'refreshed': 8961, 'tsb': 8962, 'kathy': 8963, 'n50': 8964, 'workout': 8965, 'devastated': 8966, 'thoughtful': 8967, 'inefficient': 8968, 'preboarding': 8969, 'mindful': 8970, 'endorse': 8971, '🤞': 8972, 'nib': 8973, 'ply': 8974, 'achievements': 8975, 'unserviceable': 8976, 'unpaid': 8977, 'quantities': 8978, 'desexualize': 8979, 'southern': 8980, 'kenny': 8981, 'redhill': 8982, 'jewellery': 8983, 'janay': 8984, 'knocked': 8985, 'septenary': 8986, 'batting': 8987, 'photograph': 8988, 'blackout': 8989, 'begun': 8990, 'sml': 8991, 'predictive': 8992, 'marylebone': 8993, 'leasing': 8994, 'breakdown': 8995, 'ron': 8996, 'prescribed': 8997, 'transparency': 8998, 'liv': 8999, 'deport': 9000, '👎👎': 9001, 'grown': 9002, 'commonly': 9003, 'antecedently': 9004, 'reactivate': 9005, 'spectacular': 9006, 'height': 9007, 'proved': 9008, '87': 9009, 'indirect': 9010, 'driven': 9011, 'blink': 9012, 'vanessa': 9013, 'gamy': 9014, 'djessi': 9015, 'tabs': 9016, 'todays': 9017, 'apprize': 9018, '04': 9019, 'respectable': 9020, 'desired': 9021, '“eye”': 9022, 'template': 9023, 'projects': 9024, 'tub': 9025, 'bsod': 9026, 'alexkimbrell': 9027, 'broker': 9028, 'nvr': 9029, 'leigh': 9030, 'hdfc': 9031, 'viewed': 9032, 'jackie': 9033, 'shed': 9034, 'officejet': 9035, 'spg': 9036, 'hst': 9037, 'conveyance': 9038, 'dayspring': 9039, 'ksh': 9040, 'xiv': 9041, 'instruct': 9042, 'uncarrier': 9043, '😡😡😡😡😡': 9044, 'hokkianese': 9045, 'tagged': 9046, 'hdr': 9047, 'bully': 9048, 'ginger': 9049, 'fallacious': 9050, 'clerk': 9051, 'jorge': 9052, 'humans': 9053, 'gail': 9054, 'bagful': 9055, 'sieve': 9056, 'liveliness': 9057, 'throttling': 9058, 'aiming': 9059, 'understands': 9060, 'grain': 9061, 'dwelling': 9062, 'tasks': 9063, 'husbands': 9064, 'xxiii': 9065, 'wracking': 9066, 'progeny': 9067, 'integrity': 9068, 'mega': 9069, 'melody': 9070, 'abuja': 9071, '️’': 9072, 'dislocation': 9073, 'padd': 9074, 'unanimous': 9075, 'waive': 9076, 'elliot': 9077, 'emerald': 9078, 'defined': 9079, 'troy': 9080, 'kinfolk': 9081, 'reliability': 9082, 'byronedwards': 9083, 'drill': 9084, 'spencer': 9085, 'armv7': 9086, 'zoom': 9087, 'airplanes': 9088, 'spooky': 9089, 'unfasten': 9090, 'calm': 9091, 'disease': 9092, 'med': 9093, 'occured': 9094, 'daybreak': 9095, 'encrypted': 9096, 'henley': 9097, 'consumed': 9098, 'touched': 9099, 'organic': 9100, '–xg': 9101, 'penury': 9102, 'dun': 9103, 'nom': 9104, 'tarmacadam': 9105, 'effects': 9106, 'missile': 9107, 'uhh': 9108, 'lasting': 9109, 'vulgar': 9110, 'ao': 9111, 'grandmother': 9112, 'highway': 9113, 'carla': 9114, 'electrical': 9115, 'summate': 9116, 'satellite': 9117, 'seamless': 9118, 'penalise': 9119, 'cans': 9120, 'bots': 9121, 'brie': 9122, '4a': 9123, 'smelling': 9124, 'jyoti': 9125, 'barbpelotte': 9126, 'nici': 9127, 'ultra': 9128, 'suggests': 9129, 'retarded': 9130, 'unfitness': 9131, 'queer': 9132, 'cede': 9133, 'celestial': 9134, 'latitude': 9135, 'est': 9136, 'okeh': 9137, 'mechanism': 9138, 'aldershot': 9139, 'minus': 9140, 'admonisher': 9141, 'categories': 9142, 'combined': 9143, '🚀': 9144, 'referee': 9145, '➡️': 9146, 'tsl': 9147, 'ostracize': 9148, 'tue': 9149, 'springs': 9150, 'fracture': 9151, 'liable': 9152, 'gestate': 9153, 'plat': 9154, '404': 9155, 'demands': 9156, 'bizarre': 9157, 'apn': 9158, 'competitors': 9159, 'contribution': 9160, 'mentioning': 9161, 'varies': 9162, 'intensify': 9163, 'correspond': 9164, 'dq': 9165, 'riposte': 9166, 'hurting': 9167, '🚂': 9168, 'laws': 9169, 'lindsay': 9170, 'parul': 9171, 'millilitre': 9172, 'enroll': 9173, 'observed': 9174, 'yvonne': 9175, 'jose': 9176, 'boo': 9177, 'latency': 9178, 'enrolled': 9179, 'dammit': 9180, 'gregg': 9181, 'marathon': 9182, 'detroit': 9183, 'wetback': 9184, 'substantial': 9185, 'comparison': 9186, 'nl': 9187, 'cerebrate': 9188, 'highlighted': 9189, 'rbc': 9190, 'bp': 9191, 'radon': 9192, 'devoice': 9193, 'recommendation': 9194, 'unready': 9195, 'lanes': 9196, 'eddie': 9197, 'terry': 9198, 'mozzarella': 9199, 'mainly': 9200, 'streamed': 9201, 'blooming': 9202, '1tb': 9203, 'discs': 9204, 'deaf': 9205, 'crews': 9206, 'goggle': 9207, 'obnoxious': 9208, 'philippines': 9209, 'patently': 9210, 'cheerful': 9211, 'realm': 9212, 'pickle': 9213, 'enhancements': 9214, 'aesculapian': 9215, 'outfit': 9216, 'appointments': 9217, 'dustin': 9218, 'meridian': 9219, 'ejaculate': 9220, 'searches': 9221, 'upheld': 9222, 'progression': 9223, 'coincidence': 9224, 'locomotive': 9225, 'concord': 9226, 'barbara': 9227, 'accidental': 9228, 'dynamic': 9229, 'urinate': 9230, 'emotional': 9231, 'investigations': 9232, 'pray': 9233, 'accnt': 9234, '’mon': 9235, 'rhuari': 9236, '11th': 9237, 'hubs': 9238, 'ocean': 9239, 'designer': 9240, 'fend': 9241, '1200': 9242, 'motive': 9243, 'seventh': 9244, 'fobbed': 9245, 'incase': 9246, 'consignment': 9247, 'ow': 9248, 'imessages': 9249, 'stored': 9250, 'barriers': 9251, 'himself': 9252, 'linds': 9253, 'culture': 9254, 'sealed': 9255, 'comer': 9256, 'accuracy': 9257, 'unscathed': 9258, 'competitor': 9259, 'pac': 9260, 'schmooze': 9261, 'scanning': 9262, '🙌🏻': 9263, 'tje': 9264, 'rile': 9265, 'cert': 9266, 'opportunities': 9267, 'enhancement': 9268, 'plates': 9269, 'proficient': 9270, 'tel': 9271, 'overturn': 9272, 'dame': 9273, 'note8': 9274, 'combine': 9275, 'weybridge': 9276, 'malvern': 9277, 'slim': 9278, 'shammer': 9279, 'rainbow': 9280, 'apologizing': 9281, 'accessed': 9282, 'abide': 9283, 'ofunmi': 9284, 'seagate': 9285, 'buoy': 9286, 'princess': 9287, 'winchester': 9288, 'finishing': 9289, 'impersonal': 9290, 'vans': 9291, 'commitment': 9292, 'homes': 9293, 'resolutions': 9294, 'suzanne': 9295, 'facts': 9296, '00am': 9297, 'lenovo': 9298, 'hemipterous': 9299, 'boob': 9300, 'confront': 9301, 'ff': 9302, 'apprisal': 9303, 'joanna': 9304, 'handbag': 9305, 'fatherland': 9306, 'yttrium': 9307, 'sheryll': 9308, 'flee': 9309, 'sharon': 9310, 'precheck': 9311, 'yearly': 9312, 'sterilize': 9313, 'whichever': 9314, 'merged': 9315, 'bushel': 9316, 'anger': 9317, 'olly': 9318, 'fortuity': 9319, 'wn': 9320, '😡😡😡😡': 9321, 'motor': 9322, 'hem': 9323, 'respectful': 9324, 'krystnyogi': 9325, 'ht': 9326, 'einsteinium': 9327, 'tracker': 9328, 'blows': 9329, 'fhc': 9330, 'scraps': 9331, 'accts': 9332, 'chap': 9333, 'aunt': 9334, 'gears': 9335, 'kindness': 9336, 'pairs': 9337, 'dn': 9338, 'restrain': 9339, 'inexcusable': 9340, 'stall': 9341, 'span': 9342, 'mgmt': 9343, 'brixton': 9344, 'cowboy': 9345, 'pointing': 9346, 'volumes': 9347, 'ql': 9348, 'ingest': 9349, 'mlb': 9350, '75k': 9351, 'unopened': 9352, 'peregrine': 9353, 'monster': 9354, 'minneapolis': 9355, 'dale': 9356, 'dingy': 9357, 'quad': 9358, 'countdown': 9359, 'firmness': 9360, 'tract': 9361, 'veteran': 9362, 'blown': 9363, 'imanni': 9364, 'drib': 9365, 'prohibited': 9366, 'positions': 9367, 'leak': 9368, 'shaft': 9369, 'aws': 9370, 'concierge': 9371, 'ubers': 9372, 'measures': 9373, 'designation': 9374, 'batt': 9375, 'fervency': 9376, 'applepay': 9377, 'thr': 9378, 'dealer': 9379, 'whoop': 9380, 'unbend': 9381, 'scottish': 9382, 'proves': 9383, 'ke': 9384, 'circus': 9385, 'unlocking': 9386, 'eager': 9387, 'mutual': 9388, 'friendship': 9389, 'figures': 9390, 'inspite': 9391, 'banana': 9392, 'ronald': 9393, 'chippenham': 9394, 'introduce': 9395, 'kiss': 9396, 'yelling': 9397, 'absorb': 9398, 'mx': 9399, 'char': 9400, 'travis': 9401, 'buttocks': 9402, 'approachable': 9403, 'cia': 9404, 'mcgriddle': 9405, 'inexact': 9406, 'bonnie': 9407, 'unrelated': 9408, 'kumar': 9409, 'typewrite': 9410, 'lowbred': 9411, 'unconstipated': 9412, 'cablegram': 9413, 'hype': 9414, 'flawless': 9415, 'inept': 9416, 'familiar': 9417, 'tripping': 9418, 'skyclub': 9419, '130': 9420, 'schmoose': 9421, 'toni': 9422, 'implemented': 9423, 'reunite': 9424, 'noises': 9425, 'blew': 9426, 'fm': 9427, 'vision': 9428, 'quote': 9429, 'currency': 9430, 'clicks': 9431, 'gif': 9432, 'netmail': 9433, 'dominic': 9434, 'trickster': 9435, 'victor': 9436, 'wid': 9437, 'tricky': 9438, 'sketchy': 9439, 'contend': 9440, 'microwave': 9441, 'sprite': 9442, 'hug': 9443, 'qualifying': 9444, 'murray': 9445, 'bna': 9446, 'cdf': 9447, 'miserably': 9448, 'intimation': 9449, 'dhl': 9450, 'expenses': 9451, 'undelivered': 9452, 'retry': 9453, 'vacuum': 9454, 'chambre': 9455, 'tugo': 9456, 'redeeming': 9457, 'handicap': 9458, 'fillets': 9459, 'flickering': 9460, 'impacting': 9461, 'hap': 9462, 'tetraiodothyronine': 9463, 'citation': 9464, 'liberal': 9465, 'pastry': 9466, 'surgery': 9467, 'developed': 9468, 'wins': 9469, 'argh': 9470, 'pal': 9471, 'negotiate': 9472, 'ambassador': 9473, 'shambolic': 9474, 'donald': 9475, 'likelihood': 9476, 'patronage': 9477, 'ogdoad': 9478, '45mins': 9479, 'hasnt': 9480, 'despatch': 9481, 'subpar': 9482, 'lineal': 9483, '1hour': 9484, 'incognito': 9485, 'hollywood': 9486, 'chafe': 9487, 'stan': 9488, 'actuate': 9489, 'sane': 9490, '2013': 9491, 'brighton': 9492, 'bush': 9493, 'hired': 9494, 'cries': 9495, 'charm': 9496, 'residents': 9497, 'iphone’': 9498, 'prediction': 9499, 'learning': 9500, 'pots': 9501, 'compromise': 9502, 'tammy': 9503, '🙌🏼': 9504, 'pace': 9505, 'odyssey': 9506, 'plaguey': 9507, 'sickish': 9508, 'jodie': 9509, 'tommy': 9510, 'limbo': 9511, 'rosemary': 9512, 'crackling': 9513, 'berth': 9514, 'rapidly': 9515, 'vudu': 9516, 'behold': 9517, 'cheryl': 9518, 'lawrence': 9519, 'packets': 9520, 'wearisome': 9521, 'strength': 9522, 'practiced': 9523, 'everything’': 9524, '😑😑😑': 9525, 'fedup': 9526, 'sundays': 9527, 'justice': 9528, 'docket': 9529, 'peer': 9530, 'approaching': 9531, 'gumption': 9532, 'razor': 9533, 'purchaser': 9534, 'coworker': 9535, 'curiosity': 9536, 'tmo': 9537, 'improperly': 9538, 'circumstantially': 9539, '7728': 9540, 'wigan': 9541, 'implore': 9542, 'extensive': 9543, 'slant': 9544, 'payg': 9545, 'sian': 9546, 'inquiring': 9547, 'embassy': 9548, '📞': 9549, 'education': 9550, 'jmm': 9551, 'spike': 9552, 'heel': 9553, 'hpf': 9554, 'fas': 9555, 'allotted': 9556, 'discipline': 9557, 'recognised': 9558, 'dani': 9559, 'lorna': 9560, 'torn': 9561, 'difficultness': 9562, 'carts': 9563, 'bio': 9564, 'gud': 9565, 'subdivision': 9566, 'unnecessarily': 9567, 'alistair': 9568, '50k': 9569, 'deserved': 9570, 'underwear': 9571, 'animate': 9572, 'theorize': 9573, 'subtitles': 9574, 'whoreson': 9575, 'popup': 9576, 'canned': 9577, 'rachaeltansey': 9578, 'naej': 9579, 'zachary': 9580, 'buttery': 9581, 'mke': 9582, '750': 9583, 'rocsi': 9584, 'telecom': 9585, 'dolby': 9586, 'abnegate': 9587, 'laying': 9588, '24x7': 9589, 'thigh': 9590, 'fran': 9591, 'hotline': 9592, 'bricked': 9593, 'francis': 9594, '💸': 9595, 'tent': 9596, 'staffed': 9597, 'complimenting': 9598, 'intentional': 9599, 'malcolm': 9600, 'cdn': 9601, '21st': 9602, '💖': 9603, 'climb': 9604, 'mistakenly': 9605, '😬😬😬': 9606, 'acclivity': 9607, 'stagnant': 9608, 'hosted': 9609, 'indicated': 9610, 'pill': 9611, 'vulnerable': 9612, '💜': 9613, 'affiliated': 9614, 'lengthy': 9615, 'germ': 9616, 'identified': 9617, 'peanuts': 9618, 'guarantees': 9619, 'keen': 9620, 'glitched': 9621, 'why’': 9622, 'designate': 9623, 'rust': 9624, 'choked': 9625, 'removes': 9626, 'connor': 9627, 'lon': 9628, 'validation': 9629, 'zones': 9630, 'wolfram': 9631, 'flies': 9632, 'inquires': 9633, 'aus': 9634, 'partially': 9635, 'gst': 9636, 'fond': 9637, 'hoops': 9638, 'buffer': 9639, 'pros': 9640, 'rifle': 9641, 'weston': 9642, 'deployed': 9643, 'accommodating': 9644, 'pussy': 9645, 'tnx': 9646, 'examples': 9647, 'joey': 9648, 'stigma': 9649, 'barren': 9650, '2xp': 9651, 'taxis': 9652, 'covert': 9653, 'tfl': 9654, 'conjecture': 9655, 'bounty': 9656, 'kayla': 9657, 'litter': 9658, 'consequences': 9659, 'naw': 9660, 'insecure': 9661, 'scenes': 9662, 'chicane': 9663, 'blackberry': 9664, 'chased': 9665, 'kg': 9666, 'deli': 9667, 'ellie': 9668, 'crewmember': 9669, 'displaced': 9670, 'includi': 9671, 'thee': 9672, 'qualification': 9673, 'petition': 9674, 'nought': 9675, 'fatality': 9676, 'newport': 9677, 'static': 9678, 'commove': 9679, 'cruelty': 9680, 'western': 9681, 'pronto': 9682, 'fires': 9683, 'manc': 9684, 'kingston': 9685, 'stash': 9686, 'alexandra': 9687, 'wilson': 9688, 'dubai': 9689, 'yeh': 9690, 'deb': 9691, 'worlds': 9692, 'hes': 9693, 'enquiries': 9694, 'trigger': 9695, 'owns': 9696, 'workforce': 9697, 'spill': 9698, 'victims': 9699, 'wheaton': 9700, 'thriftlessness': 9701, 'cory': 9702, '15k': 9703, 'blessed': 9704, 'proceeding': 9705, 'mnth': 9706, '123': 9707, 'ella': 9708, 'kiosks': 9709, 'chewy': 9710, 'uploads': 9711, 'festival': 9712, 'heroic': 9713, 'rushed': 9714, 'desperate': 9715, 'insert': 9716, 'fp': 9717, 'safer': 9718, 'liothyronine': 9719, 'corrects': 9720, 'backrest': 9721, 'bechance': 9722, 'hills': 9723, 'acknowledgement': 9724, 'devyngalligher': 9725, 'menus': 9726, 'lookin': 9727, 'slightest': 9728, 'blankets': 9729, 'ambrosia': 9730, 'roanoke': 9731, 'maharashtra': 9732, 'kat': 9733, 'creepy': 9734, 'modality': 9735, 'handing': 9736, 'wack': 9737, 'helo': 9738, 'rant': 9739, 'element': 9740, 'peterborough': 9741, 'grove': 9742, 'cave': 9743, 'crisp': 9744, 'bbq': 9745, 'hints': 9746, 'marcus': 9747, 'accountable': 9748, 'subtract': 9749, 'nuclear': 9750, 'ont': 9751, '🙄🙄': 9752, 'lump': 9753, 'smfh': 9754, 'nark': 9755, 'saudi': 9756, 'wellness': 9757, 'sided': 9758, 'norfolk': 9759, 'dominicus': 9760, 'nvm': 9761, 'grievous': 9762, 'eventide': 9763, 'hardest': 9764, 'makers': 9765, 'dressing': 9766, 'imo': 9767, 'evaluate': 9768, '“sorry': 9769, 'matched': 9770, 'ths': 9771, 'adults': 9772, 'obsolete': 9773, 'meets': 9774, 'agenda': 9775, 'trends': 9776, 'dumbass': 9777, 'divisions': 9778, 'heroes': 9779, 'cliff': 9780, 'cus': 9781, 'thy': 9782, 'cleave': 9783, 'randy': 9784, 'vocal': 9785, 'byplay': 9786, 'hnl': 9787, 'gray': 9788, 'toggle': 9789, 'morally': 9790, 'fabrication': 9791, 'ticker': 9792, 'screenland': 9793, 'jonathanmacinnes': 9794, 'shopped': 9795, 'rancid': 9796, 'sickness': 9797, 'orientation': 9798, 'inconvenienced': 9799, 'debar': 9800, 'msc': 9801, 'spouse': 9802, 'doc': 9803, '3hrs': 9804, 'container': 9805, '£500': 9806, 'accomplishment': 9807, 'teacher': 9808, 'mocha': 9809, 'xvi': 9810, 'adv': 9811, 'pointe': 9812, 'tanya': 9813, 'sluggish': 9814, 'hated': 9815, 'conclude': 9816, '👉': 9817, 'trans': 9818, 'discourage': 9819, 'overcharging': 9820, 'a2': 9821, 'nickel': 9822, 'vague': 9823, 'tpa': 9824, 'trump': 9825, 'reparation': 9826, 'rightfulness': 9827, 'insulted': 9828, 'prognosticate': 9829, 'unfreeze': 9830, 'leather': 9831, 'unite': 9832, '£79': 9833, '19th': 9834, 'ted': 9835, 'consign': 9836, 'despise': 9837, 'lawrencium': 9838, 'citizen': 9839, 'vigil': 9840, 'bonfire': 9841, 'racism': 9842, 'americans': 9843, 'costumers': 9844, 'bestow': 9845, 'robin': 9846, 'diverge': 9847, 'recharging': 9848, 'mikevance': 9849, 'kash': 9850, 'n100': 9851, 'n10': 9852, 'replete': 9853, 'nestling': 9854, 'smasher': 9855, 'pup': 9856, 'diane': 9857, 'appleid': 9858, 'bloke': 9859, '✔': 9860, 'helmet': 9861, '👎🏼': 9862, 'elle': 9863, 'glenn': 9864, 'atc': 9865, 'verbatims': 9866, 'lad': 9867, 'mixer': 9868, 'newspapers': 9869, 'contrast': 9870, 'closures': 9871, 'nys': 9872, 'domesticated': 9873, 'biography': 9874, 'erica': 9875, 'deadened': 9876, '😃👍': 9877, 'alf': 9878, 'undue': 9879, 'planner': 9880, 'signify': 9881, 'shuffling': 9882, 'outwear': 9883, 'bleed': 9884, 'urge': 9885, 'startup': 9886, 'armour': 9887, 'peeled': 9888, 'renee': 9889, 'administrator': 9890, 'declare': 9891, 'reroute': 9892, 'a1': 9893, 'impolitely': 9894, 'cretin': 9895, 'jagjeet': 9896, 'wages': 9897, 'pauses': 9898, 'faker': 9899, 'certification': 9900, 'lithium': 9901, 'transcript': 9902, 'cubs': 9903, 'miguel': 9904, 'sucky': 9905, 'despicable': 9906, 'leads': 9907, 'spin': 9908, 'struck': 9909, 'authorities': 9910, 'discovery': 9911, 'mcds': 9912, 'objectionable': 9913, '1yr': 9914, 'manners': 9915, 'affairs': 9916, 'inferior': 9917, '😠😠': 9918, 'marketed': 9919, 'skinny': 9920, '650': 9921, 'derrick': 9922, 'tennessee': 9923, 'milliliter': 9924, 'empire': 9925, 'geological': 9926, 'lone': 9927, 'fixture': 9928, 'chemical': 9929, 'rot': 9930, 'napa': 9931, 'voip': 9932, 'workings': 9933, 'shirley': 9934, 'cucumber': 9935, 'deduct': 9936, 'deed': 9937, 'starter': 9938, 'horsepower': 9939, 'imovie': 9940, '😰': 9941, 'withdrawn': 9942, 'gallery': 9943, 'inedible': 9944, 'desex': 9945, 'illiterate': 9946, 'supportive': 9947, 'remastered': 9948, 'closet': 9949, 'averted': 9950, 'hangry': 9951, 'springy': 9952, 'accepts': 9953, 'anyhow': 9954, 'jetway': 9955, 'founder': 9956, 'slick': 9957, 'hah': 9958, '⁉': 9959, 'mercy': 9960, 'blvd': 9961, 'gifting': 9962, 'friend’': 9963, 'tease': 9964, 'vegetable': 9965, 'impacts': 9966, 'xxix': 9967, 'advertizing': 9968, 'aliveness': 9969, 'axerophthol': 9970, 'wales': 9971, 'cdg': 9972, 'jerk': 9973, 'dandy': 9974, 'rosie': 9975, 'ple': 9976, '😍😍😍': 9977, 'pizzas': 9978, 'vat': 9979, '24hr': 9980, 'cycles': 9981, 'embarrassment': 9982, 'khairul': 9983, 'doubled': 9984, 'redirect': 9985, 'opprobrious': 9986, 'roman': 9987, 'attender': 9988, 'punt': 9989, 'coward': 9990, 'todd': 9991, 'warms': 9992, 'hotmail': 9993, 'threaten': 9994, 'typed': 9995, 'admission': 9996, 'striking': 9997, '1100': 9998, 'moronic': 9999, 'troublesome': 10000, 'protected': 10001, 'peeps': 10002, 'limiting': 10003, 'skips': 10004, 'agio': 10005, 'blackpool': 10006, 'cyclosis': 10007, 'osteopathy': 10008, 'maui': 10009, 'conducting': 10010, 'sickening': 10011, 'prosecco': 10012, 'aircel': 10013, 'airing': 10014, 'brendan': 10015, 'arduous': 10016, 'ajay': 10017, 'scurvy': 10018, 'vms': 10019, 'reactivated': 10020, 'scammer': 10021, 'tackle': 10022, 'collective': 10023, 'stutter': 10024, 'emplacement': 10025, 'bts': 10026, 'dustup': 10027, 'hinder': 10028, 'squander': 10029, 'salads': 10030, 'occupation': 10031, 'mikeperez': 10032, 'frigidness': 10033, 'madrid': 10034, 'stuffing': 10035, 'reminds': 10036, 'bullying': 10037, '😲': 10038, 'deplaning': 10039, 'shore': 10040, 'cracker': 10041, 'ratings': 10042, 'chargers': 10043, 'faces': 10044, 'disinherit': 10045, 'tottenham': 10046, 'fomite': 10047, 'unbearable': 10048, 'amoy': 10049, 'unblock': 10050, 'blatantly': 10051, 'mcflurry': 10052, 'aol': 10053, 'criteria': 10054, 'consternation': 10055, 'japanese': 10056, '2010': 10057, 'columbus': 10058, 'sixty': 10059, 'ignorant': 10060, 'thick': 10061, 'overly': 10062, 'arun': 10063, 'chile': 10064, 'institute': 10065, 'dorking': 10066, 'greaser': 10067, 'strictly': 10068, 'trebrewbaker': 10069, 'bow': 10070, 'thereof': 10071, 'acknowledging': 10072, 'lemonade': 10073, 'prevarication': 10074, 'ingredient': 10075, 'bueno': 10076, 'alerted': 10077, 'whizz': 10078, 'distress': 10079, 'libraries': 10080, 'proprietor': 10081, 'unicorn': 10082, 'varsity': 10083, 'deflect': 10084, 'surrender': 10085, 'nightly': 10086, '2k18': 10087, 'disturb': 10088, '🤧': 10089, 'aft': 10090, 'spate': 10091, 'maker': 10092, 'hotspots': 10093, 'envelope': 10094, 'citizens': 10095, 'camellia': 10096, 'chilling': 10097, 'sweater': 10098, 'riddance': 10099, 'pipe': 10100, 'precedency': 10101, 'g5': 10102, 'effected': 10103, 'draft': 10104, 'm8': 10105, 'vaca': 10106, 'disney': 10107, 'merger': 10108, 'punctuality': 10109, 'confuse': 10110, 's6': 10111, 'fajita': 10112, 'damian': 10113, 'widget': 10114, 'gaurav': 10115, 'drainage': 10116, 'notebook': 10117, '10p': 10118, '10days': 10119, 'calories': 10120, 'buff': 10121, 'reagan': 10122, 'homo': 10123, 'investment': 10124, 'elmer': 10125, 'cloth': 10126, 'fs1': 10127, 'ipads': 10128, 'deceptive': 10129, '😦': 10130, 'safcom': 10131, 'cheddar': 10132, 'gla': 10133, 'heyo': 10134, 'sheila': 10135, 'stunning': 10136, 'represents': 10137, 'apologizes': 10138, 'instances': 10139, 'circular': 10140, '256gb': 10141, 'myth': 10142, 'hectometer': 10143, 'joker': 10144, 'crawling': 10145, 'articles': 10146, 'disquieted': 10147, 'kya': 10148, 'usernames': 10149, 'banish': 10150, 'superior': 10151, 'effecting': 10152, 'resulted': 10153, 'pesos': 10154, 'retort': 10155, 'viewer': 10156, 'waits': 10157, 'surprising': 10158, 'bare': 10159, 'regulate': 10160, 'guzala': 10161, 'dreadfully': 10162, 'louisville': 10163, 'bend': 10164, 'looped': 10165, 'grownup': 10166, 'estimable': 10167, 'unloaded': 10168, 'parental': 10169, '✌️': 10170, 'tq': 10171, 'labor': 10172, 'tiannahreagor': 10173, 'recline': 10174, 'importantly': 10175, 'roads': 10176, 'dlvry': 10177, 'registry': 10178, 'moe': 10179, 'wasteful': 10180, 'sentences': 10181, 'creates': 10182, 'beverage': 10183, '200mb': 10184, 'shots': 10185, 'stared': 10186, 'gj': 10187, 'nauseate': 10188, 'businesses': 10189, '10mb': 10190, 'indonesia': 10191, 'lauderdale': 10192, 'dots': 10193, 'reduction': 10194, 'discredited': 10195, 'flooding': 10196, 'pixelated': 10197, 'dob': 10198, 'carpool': 10199, 'x2': 10200, 'n20': 10201, 'mackintosh': 10202, 'beats': 10203, 'intentionally': 10204, 'garage': 10205, 'polluted': 10206, 'php': 10207, 'sami': 10208, 'rebuild': 10209, 'slowing': 10210, 'obligation': 10211, 'boi': 10212, 'tabby': 10213, 'payload': 10214, 'farsighted': 10215, 'intervals': 10216, 'attending': 10217, 'overdue': 10218, 'peculiarly': 10219, 'county': 10220, 'terminated': 10221, 'destruction': 10222, 'opposed': 10223, 'pausing': 10224, 'mobil': 10225, '5hr': 10226, '🤦🏽\\u200d♂️': 10227, 'jmr': 10228, 'acount': 10229, 'italy': 10230, 'formation': 10231, 'westbury': 10232, 'struan': 10233, 'steff': 10234, 'regretting': 10235, 'substantiate': 10236, 'consequently': 10237, 'opted': 10238, 'enhanced': 10239, 'gazump': 10240, 'mis': 10241, 'terrific': 10242, 'theyre': 10243, 'inefficiency': 10244, 'quickest': 10245, 'eighty': 10246, 'shelter': 10247, 'preferably': 10248, 'slacking': 10249, 'steamed': 10250, 'downgrading': 10251, 'recvd': 10252, 'sterilise': 10253, '12am': 10254, 'heights': 10255, 'impinging': 10256, 'aboveboard': 10257, 'chunk': 10258, 'hotter': 10259, 'complains': 10260, 'interview': 10261, 'lah': 10262, 'peel': 10263, 'grueling': 10264, 'zipcode': 10265, 'tend': 10266, 'rainfly': 10267, 'termination': 10268, 'trials': 10269, 'redownloading': 10270, 'jax': 10271, 'trainline': 10272, 'ardour': 10273, 'agile': 10274, 'crowding': 10275, 'praying': 10276, 'mattlegleiter': 10277, 'plume': 10278, 'node': 10279, 'service”': 10280, 'jackson': 10281, 'wad': 10282, 'ot': 10283, 'precaution': 10284, 'edwin': 10285, 'hardwired': 10286, 'follower': 10287, 'someway': 10288, 'enceinte': 10289, 'joystick': 10290, 'wrangle': 10291, 'processor': 10292, 'debris': 10293, '“you': 10294, 'sevener': 10295, 'locomotion': 10296, 'dissatisfy': 10297, 'alton': 10298, 'geographical': 10299, 'squall': 10300, 'merge': 10301, 'designated': 10302, 'sims': 10303, 'beak': 10304, 'navigation': 10305, 'minimise': 10306, 'unconscious': 10307, 'halo': 10308, 'x1x': 10309, 'constraints': 10310, 'carolyn': 10311, 'llc': 10312, 'migrate': 10313, 'shrewsbury': 10314, 'eliminate': 10315, 'aoa': 10316, 'wank': 10317, 'vaporize': 10318, 'refuge': 10319, 'resolutionsup': 10320, 'dressed': 10321, 'pets': 10322, '🐻': 10323, 'excellence': 10324, 'beloved': 10325, 'medication': 10326, 'unsex': 10327, 'okc': 10328, 'compute': 10329, 'becca': 10330, 'skilful': 10331, 'ancient': 10332, 'bookmark': 10333, 'conversion': 10334, 'nerves': 10335, 'blake': 10336, 'violating': 10337, 'lamb': 10338, 'toiba': 10339, 'loans': 10340, 'std': 10341, 'antivirus': 10342, 'dinesh': 10343, 'saucy': 10344, 'decorations': 10345, 'reachable': 10346, 'amazingly': 10347, 'roland': 10348, 'flawed': 10349, 'mightily': 10350, 'traverse': 10351, 'mandy': 10352, 'accuse': 10353, 'handiness': 10354, 'earphones': 10355, 'cname': 10356, 'bec': 10357, 'airborne': 10358, 'arbitrary': 10359, 'kananib': 10360, 'sphere': 10361, 'workshop': 10362, 'suing': 10363, 'recieve': 10364, 'waking': 10365, 'oa': 10366, 'mci': 10367, 'calamity': 10368, 'berry': 10369, 'diagnostics': 10370, 'canonical': 10371, 'hesitation': 10372, 'brighthouse': 10373, 'cole': 10374, 'insecurely': 10375, 'policeman': 10376, 'ashok': 10377, 'embarkation': 10378, '🤷🏼\\u200d♂️': 10379, 'wembley': 10380, 'chopine': 10381, 'condo': 10382, 'pinching': 10383, 'fridays': 10384, 'soccer': 10385, 'crop': 10386, 'clash': 10387, '198': 10388, 'buttermilk': 10389, 'zachricketts': 10390, 'tariffs': 10391, 'alimony': 10392, 'bikes': 10393, 'pointedness': 10394, 'compete': 10395, '£300': 10396, 'legs': 10397, 'textual': 10398, 'coco': 10399, 'exceed': 10400, 'leap': 10401, 'keith': 10402, 'celebration': 10403, 'sneak': 10404, 'disbelieve': 10405, 'abolish': 10406, 'apologised': 10407, 'asses': 10408, 'courser': 10409, 'perspective': 10410, 'siege': 10411, '8a': 10412, 'pan': 10413, 'hakikisha': 10414, 'windows10': 10415, 'waiver': 10416, 'arby’': 10417, 'stepping': 10418, 'chk': 10419, 'bounced': 10420, 'copper': 10421, 'dismal': 10422, 'offices': 10423, 'roy': 10424, 'denying': 10425, 'railcar': 10426, 'goals': 10427, 'soak': 10428, 'implement': 10429, 'justinrhodes': 10430, 'untrue': 10431, 'edi': 10432, '•': 10433, 'wiring': 10434, 'sabrina': 10435, 'texture': 10436, 'fussy': 10437, 'windsor': 10438, 'paycheck': 10439, '😫😫': 10440, 'wolves': 10441, 'iam': 10442, 'exiting': 10443, 'daughters': 10444, 'vzw': 10445, 'throws': 10446, 'fewer': 10447, '🍕': 10448, 'strait': 10449, 'ordain': 10450, 'kinsfolk': 10451, 'evoke': 10452, 'trai': 10453, '☕️': 10454, 'tidy': 10455, 'worldly': 10456, 'pq': 10457, 'soften': 10458, 'wirelessly': 10459, 'regulations': 10460, 'booster': 10461, 'poo': 10462, 'shitting': 10463, 'church': 10464, 'assignments': 10465, 'sticks': 10466, 'chocolates': 10467, 'cows': 10468, '❤🐮': 10469, 'spilling': 10470, 'pg': 10471, 'cafes': 10472, 'wellingborough': 10473, 'appstore': 10474, 'flipping': 10475, 'onus': 10476, '240': 10477, 'bounderish': 10478, 'tonic': 10479, 'ivan': 10480, 'finder': 10481, 'christarbox': 10482, 'tigo': 10483, 'furbish': 10484, '👌🏽': 10485, 'shredded': 10486, 'donation': 10487, 'abject': 10488, 'pd': 10489, 'caboodle': 10490, 'importing': 10491, '£8': 10492, 'ecstasy': 10493, 'freakin': 10494, 'towels': 10495, 'apr': 10496, 'amusement': 10497, 'improbably': 10498, 'parm': 10499, 'deplaned': 10500, 'heetali': 10501, 'secs': 10502, 'jun': 10503, 'shopper': 10504, 'comply': 10505, 'crunch': 10506, 'utility': 10507, 'ibooks': 10508, 'surety': 10509, 'tenacious': 10510, 'ticketing': 10511, 'easter': 10512, 'defecate': 10513, 'unforseen': 10514, 'volcano': 10515, '£40': 10516, 'reid': 10517, 'vendee': 10518, 'illness': 10519, 'exculpation': 10520, 'agitate': 10521, 'interlingual': 10522, 'rendition': 10523, 'looting': 10524, 'ko': 10525, 'dictate': 10526, 'fatal': 10527, 'tidings': 10528, 'psa': 10529, 'arthur': 10530, 'jamaica': 10531, 'suffers': 10532, 'thier': 10533, 'rashmi': 10534, 'ky': 10535, 'fro': 10536, 'seasonal': 10537, 'handlers': 10538, 'slogan': 10539, 'delightful': 10540, 'weapons': 10541, 'optimization': 10542, 'wd': 10543, 'wrist': 10544, 'sons': 10545, 'unidays': 10546, '🚫': 10547, 'pretzels': 10548, 'sympathy': 10549, 'dryer': 10550, 'colorado': 10551, 'qatar': 10552, '256': 10553, 'dungeon': 10554, 'circling': 10555, 'arrogate': 10556, 'mates': 10557, 'naked': 10558, 'rum': 10559, 'urself': 10560, 'nevinbruce': 10561, 'rome': 10562, 'patrickullmann': 10563, 'isolate': 10564, 'undesirable': 10565, 'dilute': 10566, 'porn': 10567, 'crimson': 10568, 'hostile': 10569, 'nazareth': 10570, 'boxed': 10571, 'wander': 10572, 'toasted': 10573, '£11': 10574, 'vine': 10575, 'degraded': 10576, 'irrelevant': 10577, 'crosscountry': 10578, 'personalized': 10579, 'skill': 10580, 'badger': 10581, 'waitin': 10582, 'questioning': 10583, 'gibe': 10584, 'blames': 10585, '£90': 10586, 'sweat': 10587, 'negligence': 10588, 'fourteen': 10589, 'construe': 10590, '🌟': 10591, 'gifted': 10592, '97': 10593, 'niner': 10594, 'denial': 10595, '🤮': 10596, 'simulated': 10597, '6x': 10598, 'idiotic': 10599, 'botheration': 10600, 'albert': 10601, 'smoother': 10602, 'rails': 10603, 'shg': 10604, '110': 10605, 'borrowed': 10606, 'tradition': 10607, 'ward': 10608, 'sonos': 10609, 'earning': 10610, 'neat': 10611, 'cooperating': 10612, 'mitch': 10613, 'succeeded': 10614, 'scoop': 10615, 'oz': 10616, 'wordpress': 10617, 'persistent': 10618, 'abrupt': 10619, 'plague': 10620, '5c': 10621, 'barium': 10622, 'austinwebb': 10623, 'repairing': 10624, 'hugs': 10625, 'pf': 10626, 'selfish': 10627, 'elucidate': 10628, 'quarrel': 10629, 'cheesy': 10630, 'diss': 10631, 'crp': 10632, 'donut': 10633, '6p': 10634, 'indianapolis': 10635, 'deceiving': 10636, 'peck': 10637, 'wknd': 10638, 'curtains': 10639, 'cooking': 10640, 'arriver': 10641, 'dishonor': 10642, 'traumatise': 10643, 'cnn': 10644, 'doubles': 10645, 'xxxv': 10646, 'observance': 10647, 'crackers': 10648, '96': 10649, 'broadsheet': 10650, 'everlasting': 10651, 'time”': 10652, 'driver’': 10653, 'imperfect': 10654, 'producing': 10655, 'lan': 10656, 'cuckold': 10657, 'construct': 10658, 'disclose': 10659, 'dereg': 10660, 'appendage': 10661, 'ashleigh': 10662, 'standardized': 10663, 'stylus': 10664, 'involves': 10665, 'enabling': 10666, 'jill': 10667, 'nano': 10668, 'voicemails': 10669, 'der': 10670, 'iso': 10671, '💡': 10672, 'reverted': 10673, 'flour': 10674, 'pooja': 10675, 'eagerly': 10676, 'ohh': 10677, '👻': 10678, 'productivity': 10679, 'feltham': 10680, 'embody': 10681, 'subroutine': 10682, 'repetition': 10683, '7s': 10684, 'logout': 10685, 'tweaking': 10686, 'laughably': 10687, 'aback': 10688, 'advertisements': 10689, 'bluray': 10690, 'overflowing': 10691, 'overdrafted': 10692, 'foretoken': 10693, 'vibes': 10694, 'pullulate': 10695, 'molestation': 10696, 'luxury': 10697, 'jockey': 10698, 'juicy': 10699, 'profoundly': 10700, 'steep': 10701, 'sonjakett': 10702, 'deplete': 10703, 'argumentative': 10704, 'lifestyle': 10705, 'hemel': 10706, 'kari': 10707, 'jasmines': 10708, 'salutary': 10709, 'fallout': 10710, 'sprout': 10711, 'grapes': 10712, 'grid': 10713, '129': 10714, 'shariel': 10715, 'ang': 10716, 'kitty': 10717, 'dedicate': 10718, 'ordinate': 10719, 'odds': 10720, 'maple': 10721, 'deportment': 10722, 'gunna': 10723, 'raisin': 10724, 'distraught': 10725, 'acton': 10726, 'vibration': 10727, 'tc': 10728, 'exempt': 10729, 'zj': 10730, 'singular': 10731, 'disclosing': 10732, 'stumped': 10733, 'pardon': 10734, 'volaille': 10735, 'talks': 10736, 'landscape': 10737, 'dejeuner': 10738, 'predate': 10739, 'ios10': 10740, 'stickers': 10741, 'congress': 10742, 'brent': 10743, 'ironic': 10744, 'kayjay': 10745, 'fluctuates': 10746, 'daisy': 10747, 'escalating': 10748, 'tbf': 10749, 'unhurt': 10750, 'liquid': 10751, 'unsupported': 10752, 'lex': 10753, 'raleigh': 10754, 'telly': 10755, 'graduate': 10756, 'validate': 10757, 'softheaded': 10758, 'percy': 10759, 'inspiration': 10760, 'crammed': 10761, '911': 10762, 'unhappily': 10763, 'existed': 10764, 'acces': 10765, 'onions': 10766, 'famous': 10767, 'oregon': 10768, 'serviced': 10769, '💪': 10770, '1909': 10771, 'demise': 10772, 'queasy': 10773, 'sevice': 10774, 'maditau': 10775, 'rogers': 10776, 'mare': 10777, '🤯': 10778, 'springfield': 10779, 'searched': 10780, 'carnal': 10781, 'turkeys': 10782, 'playin': 10783, 'uninterrupted': 10784, 'spoilers': 10785, 'tattle': 10786, 'bel': 10787, 'cop': 10788, 'selections': 10789, 'fate': 10790, 'jammed': 10791, 'redzone': 10792, 'cristal': 10793, 'lateness': 10794, 'beeping': 10795, 'lug': 10796, 'rend': 10797, 'postulation': 10798, 'cyclooxygenase': 10799, 'gaining': 10800, 'natasha': 10801, 'concomitant': 10802, 'rash': 10803, 'surepost': 10804, 'reoccurring': 10805, 'seduce': 10806, 'hoodie': 10807, 'dissatisfaction': 10808, 'meats': 10809, 'handley': 10810, 'terri': 10811, 'schoolbook': 10812, 'auditory': 10813, 'reductions': 10814, 'deskjet': 10815, 'ewell': 10816, 'diagnostic': 10817, 'johnathan': 10818, '1day': 10819, 'sporting': 10820, 'sixth': 10821, 'parting': 10822, '100mbps': 10823, 'busier': 10824, 'planetary': 10825, 'convince': 10826, 'smutty': 10827, 'tricks': 10828, 'tooth': 10829, 'epithelial': 10830, 'threescore': 10831, 'vent': 10832, 'oxygen': 10833, 'putney': 10834, 'presumably': 10835, 'slowest': 10836, '40mins': 10837, 'fitbit': 10838, 'you”': 10839, 'outraged': 10840, 'constabulary': 10841, 'pictured': 10842, 'eyed': 10843, 'privilege': 10844, 'gateshead': 10845, 'kathryn': 10846, 'ensures': 10847, 'mbs': 10848, 'darlington': 10849, 'philips': 10850, 'crucify': 10851, '45min': 10852, 'defend': 10853, 'noncurrent': 10854, 'brunch': 10855, 'diverse': 10856, 'heatherpeterson': 10857, 'skimp': 10858, 'pcs': 10859, 'obstruct': 10860, 'saddened': 10861, 'wraps': 10862, 'sen': 10863, 'avoidable': 10864, 'odour': 10865, 'prepay': 10866, '103': 10867, 'indicator': 10868, 'passionate': 10869, 'storms': 10870, 'sna': 10871, 'solely': 10872, 'authoritative': 10873, 'lodging': 10874, 'ithiel': 10875, 'ppro': 10876, 'offs': 10877, 'chrgd': 10878, 'sleeve': 10879, 'kara': 10880, '🤙': 10881, 'astronomical': 10882, 'defeats': 10883, 'striving': 10884, 'harriet': 10885, 'confine': 10886, 'permissions': 10887, 'murphy': 10888, 'ily': 10889, 'routers': 10890, 'vexed': 10891, 'horizon': 10892, 'seam': 10893, 'squawk': 10894, 'xlvii': 10895, 'microwaved': 10896, '80s': 10897, 'airplay': 10898, 'largely': 10899, 'omoh': 10900, 'aught': 10901, 'distillery': 10902, 'mwr': 10903, 'puppy': 10904, 'exploring': 10905, 'relatively': 10906, 'counterparts': 10907, 'ttd': 10908, 'yule': 10909, 'rejecting': 10910, 'vietnam': 10911, 'vet': 10912, 'plunk': 10913, 'promissory': 10914, 'trim': 10915, 'warriors': 10916, 'tryed': 10917, 'platter': 10918, 'allegedly': 10919, 'gh': 10920, 'lowering': 10921, 'gods': 10922, '🙌🏽': 10923, 'clangour': 10924, 'installers': 10925, 'ordinary': 10926, 'carly': 10927, 'ladder': 10928, 'diarrhea': 10929, 'measurement': 10930, 'dimensions': 10931, 'disdain': 10932, 'orcus': 10933, 'playscript': 10934, 'noone': 10935, 'cheering': 10936, 'disembark': 10937, 'procedures': 10938, 'penn': 10939, 'soy': 10940, 'awareness': 10941, 'relaxing': 10942, 'labeled': 10943, 'seminal': 10944, 'insights': 10945, 'shepperton': 10946, 'swan': 10947, 'adopt': 10948, '234': 10949, 'gameplay': 10950, 'fought': 10951, 'regenerate': 10952, 'smack': 10953, 'exchanged': 10954, 'imprecate': 10955, 'endorsement': 10956, 'consist': 10957, 'punctuation': 10958, 'trailers': 10959, 'honoring': 10960, 'atmosphere': 10961, '94': 10962, 'prevented': 10963, 'recovering': 10964, '119': 10965, 'competent': 10966, 'theory': 10967, 'surveil': 10968, 'manufacturing': 10969, '3k': 10970, 'reevaluate': 10971, 'redress': 10972, 'mild': 10973, 'raft': 10974, 'trowbridge': 10975, 'encoder': 10976, 'samples': 10977, 'steffi': 10978, 'fundraising': 10979, 'organise': 10980, 'spokane': 10981, 'juliet': 10982, 'colchester': 10983, '£9': 10984, 'beings': 10985, 'apprise': 10986, 'rtn': 10987, 'khmer': 10988, 'ruben': 10989, 'acts': 10990, 'directing': 10991, 'greenwich': 10992, 'rejection': 10993, 'incurred': 10994, 'brace': 10995, 'thoroughgoing': 10996, 'frappe': 10997, 'nichole': 10998, 'archive': 10999, 'vanilla': 11000, '6plus': 11001, 'yuletide': 11002, 'lexi': 11003, 'waived': 11004, '63': 11005, 'plank': 11006, 'scathe': 11007, 'eugene': 11008, 'protective': 11009, 'taxiing': 11010, 'wary': 11011, 'wooden': 11012, 'unretentive': 11013, '🙌🏾': 11014, '✌🏼': 11015, 'orf': 11016, 'cpu': 11017, 'proving': 11018, 'bounce': 11019, 'hacker': 11020, 'introduction': 11021, 'blazing': 11022, 'traces': 11023, 'collide': 11024, 'unsubscribed': 11025, 'randomness': 11026, 'mapping': 11027, 'handily': 11028, 'impotent': 11029, 'noncrucial': 11030, 'sodium': 11031, 'believes': 11032, 'decorated': 11033, 'autocorrected': 11034, 'wwe': 11035, 'blockade': 11036, 'bead': 11037, 'tomorrow’': 11038, 'joshhenegar': 11039, 'discharge': 11040, 'humankind': 11041, 'demeanour': 11042, 'reassign': 11043, 'revisit': 11044, 'glorious': 11045, 'emerson': 11046, 'mib': 11047, 'origins': 11048, 'retrieving': 11049, 'specials': 11050, 'contingency': 11051, 'authentic': 11052, 'hashtag': 11053, 'momma': 11054, 'surd': 11055, 'simpleton': 11056, 'bury': 11057, 'guides': 11058, 'gloves': 11059, 'wrexham': 11060, 'grayed': 11061, 'jazzie': 11062, 'converted': 11063, 'fiasco': 11064, 'perfume': 11065, 'objective': 11066, 'swarm': 11067, 'lcd': 11068, 'uber’': 11069, 'bugged': 11070, 'dh': 11071, 'spiritual': 11072, 'boldness': 11073, 'orig': 11074, 'incompatible': 11075, 'someday': 11076, 'bursting': 11077, 'stutters': 11078, 'ser': 11079, 'dianne': 11080, 'reformat': 11081, 'timings': 11082, 'overground': 11083, 'sandeep': 11084, 'pudding': 11085, 'aditya': 11086, 'err': 11087, 'presented': 11088, 'nottingham': 11089, 'chooses': 11090, 'hover': 11091, 'cape': 11092, 'mar': 11093, 'gah': 11094, 'steam': 11095, 'sledgehammer': 11096, 'forest': 11097, 'freezer': 11098, 'stakes': 11099, 'debate': 11100, 'uberpool': 11101, 'organize': 11102, 'airdrop': 11103, 'clobber': 11104, 'fiddling': 11105, 'sleepy': 11106, 'yc': 11107, 'litigate': 11108, 'prairie': 11109, 'noisy': 11110, 'vendors': 11111, 'kibosh': 11112, 'stephan': 11113, 'nudge': 11114, 'johnward': 11115, 'fives': 11116, 'histrion': 11117, 'relaunch': 11118, 'sustainable': 11119, 'troll': 11120, 'guards': 11121, 'floors': 11122, 'whirl': 11123, 'speakerphone': 11124, 'fortunately': 11125, 'everglade': 11126, 'belfast': 11127, 'yal': 11128, 'mcmuffin': 11129, 'accompany': 11130, 'diagram': 11131, 'eastleigh': 11132, 'lxx': 11133, 'columbia': 11134, 'squished': 11135, 'prius': 11136, 'sounded': 11137, 'prospicient': 11138, 'sponsor': 11139, '68': 11140, 'disprove': 11141, 'foh': 11142, 'leaking': 11143, 'trynna': 11144, 'sand': 11145, 'intuitive': 11146, 'imperfectly': 11147, 'lens': 11148, 'highsierra': 11149, 'spite': 11150, 'grenade': 11151, 'explosive': 11152, 'bein': 11153, 'peep': 11154, 'pains': 11155, 'factual': 11156, 'hindrance': 11157, 'voiceless': 11158, 'playoff': 11159, 'blinks': 11160, 'supercede': 11161, 'dreading': 11162, 'priorities': 11163, 'vents': 11164, 'lorraine': 11165, 'deploy': 11166, 'piano': 11167, 'jail': 11168, 'reproduce': 11169, 'walter': 11170, 'shining': 11171, 'straightened': 11172, 'attract': 11173, 'felix': 11174, 'captured': 11175, 'sardines': 11176, 'cranky': 11177, 'bletchley': 11178, 'livetv': 11179, 'divinity': 11180, 'binful': 11181, 'eatery': 11182, 'tricked': 11183, 'bal': 11184, 'mobility': 11185, 'continuous': 11186, 'unplanned': 11187, 'circa': 11188, 'formatting': 11189, 'allergic': 11190, 'fkn': 11191, 'eminent': 11192, 'verbal': 11193, 'bombay': 11194, 'katrina': 11195, 'memorable': 11196, 'surpass': 11197, 'imitation': 11198, 'sandy': 11199, 'speaks': 11200, 'incrimination': 11201, 'dope': 11202, 'unneeded': 11203, 'alien': 11204, 'recycled': 11205, 'prawns': 11206, 'turvyness': 11207, 'autocorrects': 11208, 'sacked': 11209, 'marry': 11210, 'snd': 11211, 'bee': 11212, '🤦🏾\\u200d♂️': 11213, 'context': 11214, 'smallest': 11215, 'commuters': 11216, 'i5': 11217, 'buisness': 11218, 'conveniently': 11219, 'thrust': 11220, 'modified': 11221, 'wyd': 11222, 'neutralize': 11223, 'eco': 11224, 'ensuring': 11225, '20min': 11226, 'debra': 11227, 'eminence': 11228, 'civil': 11229, 's5': 11230, 'panera': 11231, 'simoleons': 11232, 'tilly': 11233, 'heidi': 11234, 'reek': 11235, 'deadening': 11236, 'kiran': 11237, 'aer': 11238, 'lingus': 11239, 'swag': 11240, 'behaving': 11241, 'interactions': 11242, 'deliberate': 11243, 'wonderfully': 11244, 'bland': 11245, 'kansas': 11246, 'pauperization': 11247, 'peculiar': 11248, '😩😩😩😩': 11249, 'riley': 11250, 'hypothesise': 11251, 'za': 11252, '🍟': 11253, '£400': 11254, 'blacked': 11255, 'woken': 11256, 'nazi': 11257, 'patriotic': 11258, 'ox': 11259, 'norbiton': 11260, 'flashing': 11261, 'talent': 11262, 'beaver': 11263, 'syrup': 11264, '115': 11265, 'cle': 11266, 'cilantro': 11267, 'throttled': 11268, 'startle': 11269, 'alls': 11270, 'suited': 11271, 'magical': 11272, 'urine': 11273, 'takers': 11274, 'replenished': 11275, 'jokers': 11276, 'moldy': 11277, 'ssd': 11278, 'heartbreak': 11279, 'youve': 11280, 'enforce': 11281, 'summertime': 11282, 'ameliorate': 11283, '71': 11284, 'unbanned': 11285, 'vegetables': 11286, 'nicholas': 11287, 'pigs': 11288, 'recruitment': 11289, 'cranberry': 11290, '3gb': 11291, '2009': 11292, 'disconnection': 11293, '25k': 11294, 'nik': 11295, 'wok': 11296, '12hrs': 11297, 'ordinarily': 11298, 'author': 11299, 'cruddy': 11300, 'declared': 11301, 'shattered': 11302, 'baker': 11303, 'supplemental': 11304, 'asian': 11305, 'heartbreaking': 11306, 'surrogate': 11307, 'cooky': 11308, 'component': 11309, 'retro': 11310, '♥': 11311, 'defo': 11312, 'polish': 11313, 'proactive': 11314, 'jakarta': 11315, 'invariant': 11316, 'fluctuating': 11317, 'ota': 11318, 'revoke': 11319, 'offerings': 11320, 'tad': 11321, 'disregarded': 11322, '“downloads': 11323, 'removed”': 11324, 'needa': 11325, 'ire': 11326, 'tragic': 11327, 'thyroxine': 11328, 'revealing': 11329, 'lori': 11330, 'undetermined': 11331, '👊': 11332, 'focal': 11333, 'nav': 11334, 'yg': 11335, 'ploy': 11336, 'chalupa': 11337, 'mildly': 11338, 'stands': 11339, 'innovative': 11340, 'affright': 11341, 'thunderbolt': 11342, 'squashed': 11343, 'contumely': 11344, 'nonexistent': 11345, 'nitrogen': 11346, 'nu': 11347, 'jessicabrenhaug': 11348, 'grandpa': 11349, 'cassie': 11350, 'appetizing': 11351, 'demanding': 11352, 'potter': 11353, 'westfield': 11354, 'fag': 11355, 'jolly': 11356, '2005': 11357, 'agreements': 11358, '🤔🤔🤔': 11359, 'northward': 11360, 'noesis': 11361, 'picayune': 11362, 'janet': 11363, 'sinensis': 11364, 'insensate': 11365, 'wisconsin': 11366, 'jnb': 11367, 'confirms': 11368, 'brill': 11369, 'sop': 11370, 'eod': 11371, 'heritage': 11372, 'facial': 11373, 'autopsy': 11374, 'thoughtfulness': 11375, 'traci': 11376, 'fade': 11377, 'inspect': 11378, 'geezerhood': 11379, 'umber': 11380, 'quieter': 11381, 'crunchy': 11382, 'hemoglobin': 11383, 'underbred': 11384, 'correcting': 11385, 'trench': 11386, 'wf': 11387, 'sweetie': 11388, 'tablets': 11389, '😢😢😢': 11390, 'lowly': 11391, 'utilisation': 11392, 'tailor': 11393, 'rationalize': 11394, 'dumpster': 11395, 'experimental': 11396, 'spinal': 11397, 'productive': 11398, '50p': 11399, 'scandal': 11400, 'mariah': 11401, 'moaning': 11402, 'confidentiality': 11403, 'desolate': 11404, 'indy': 11405, 'feat': 11406, 'guru': 11407, 'inspired': 11408, 'exclamation': 11409, '73': 11410, 'borrow': 11411, 'sheets': 11412, 'teddy': 11413, 'horizontal': 11414, 'sutton': 11415, 'removal': 11416, 'dysfunction': 11417, 'jumper': 11418, 'phony': 11419, 'milkshake': 11420, 'emaciate': 11421, 'esteem': 11422, 'gymnasium': 11423, '2006': 11424, 'frost': 11425, 'tyne': 11426, 'coldness': 11427, 'uncooked': 11428, '6gb': 11429, 'fco': 11430, 'verge': 11431, 'allen': 11432, 'interfering': 11433, 'otp': 11434, 'greeting': 11435, 'cfl': 11436, 'instructor': 11437, 'unlucky': 11438, 'bloodless': 11439, 'unstable': 11440, 'deity': 11441, 'photography': 11442, 'delish': 11443, 'elise': 11444, 'humbled': 11445, 'guilty': 11446, 'bhi': 11447, 'willingness': 11448, 'taa': 11449, 'newbury': 11450, 'availed': 11451, 'ennead': 11452, 'nokia': 11453, 'inexhaustible': 11454, 'generators': 11455, 'inauspicious': 11456, 'younger': 11457, 'cannock': 11458, 'twy': 11459, 'authenticate': 11460, 'chickens': 11461, 'eld': 11462, 'ironware': 11463, 'astatine': 11464, 'lasership': 11465, 'kayleigh': 11466, 'accused': 11467, 'brave': 11468, 'worsened': 11469, 'tis': 11470, 'perturbation': 11471, 'accidently': 11472, 'jennie': 11473, 'susie': 11474, 'mikey': 11475, 'oversold': 11476, 'savage': 11477, 'undefendable': 11478, 'staffing': 11479, 'stockport': 11480, 'mosaic': 11481, 'stu': 11482, 'exporting': 11483, 'disputes': 11484, 'devastate': 11485, 'prizes': 11486, 'intrigued': 11487, 'accommodation': 11488, 'harbor': 11489, 'judgement': 11490, 'vomit': 11491, 'heap': 11492, 'premature': 11493, 'brandy': 11494, 'immoral': 11495, 'gouda': 11496, 'pun': 11497, 'varun': 11498, 'tow': 11499, 'referencing': 11500, 'jerks': 11501, 'mines': 11502, 'storey': 11503, 'gran': 11504, 'establishment': 11505, 'bears': 11506, 'enroute': 11507, 'injure': 11508, 'duped': 11509, 'wilmslow': 11510, '👹': 11511, 'identifiable': 11512, 'counsel': 11513, 'curtis': 11514, 'partake': 11515, 'fur': 11516, 'smf': 11517, 'fir': 11518, 'registering': 11519, 'vic': 11520, 'basement': 11521, 'seas': 11522, 'pursuing': 11523, 'ind': 11524, 'laurence': 11525, 'pertaining': 11526, 'retina': 11527, 'burly': 11528, 'agiotage': 11529, 'windy': 11530, 'chantelle': 11531, 'flier': 11532, 'imported': 11533, 'lydia': 11534, 'alberto': 11535, 'faamily': 11536, 'remedy': 11537, '178': 11538, 'chequer': 11539, 'ptl': 11540, 'benchmark': 11541, '24hours': 11542, 'smg': 11543, '2gb': 11544, 'satisfying': 11545, 'vulnerability': 11546, 'ist': 11547, 'towel': 11548, 'southall': 11549, 'cheek': 11550, 'uberx': 11551, 'vanguard': 11552, '45pm': 11553, 'blowing': 11554, 'sodding': 11555, 'saami': 11556, 'ketchup': 11557, 'forthcoming': 11558, 'blatant': 11559, '£80': 11560, 'sleeps': 11561, 'crawley': 11562, 'ia': 11563, 'wrapper': 11564, 'contour': 11565, '3months': 11566, 'directory': 11567, 'watering': 11568, 'appreciative': 11569, 'ik': 11570, 'deliberately': 11571, 'wife’': 11572, 'fille': 11573, '10min': 11574, 'clench': 11575, 'shrug': 11576, 'tardily': 11577, 'fillet': 11578, 'shares': 11579, 'nicki': 11580, 'commenting': 11581, 'unsurprisingly': 11582, 'octet': 11583, 'pumpkins': 11584, 'broadway': 11585, 'bolton': 11586, 'poulet': 11587, 'consecrate': 11588, 'spice': 11589, 'cashing': 11590, '2months': 11591, 'interaction': 11592, 'matthargleroad': 11593, 'candle': 11594, 'ringer': 11595, '😉👍': 11596, 'aviate': 11597, 'stil': 11598, 'recipes': 11599, 'brothers': 11600, 'atv': 11601, 'marianne': 11602, 'dawg': 11603, 'trainers': 11604, 'centimeter': 11605, 'clem': 11606, 'midway': 11607, 'mothers': 11608, 'prayer': 11609, 'naming': 11610, 'italian': 11611, '2001': 11612, 'discombobulate': 11613, 'override': 11614, 'collaboration': 11615, 'popularity': 11616, 'hitachi': 11617, 'emotions': 11618, 'attachments': 11619, 'depressed': 11620, 'attitudes': 11621, 'diapers': 11622, 'deadlines': 11623, 'casting': 11624, 'inward': 11625, 'america’': 11626, 'karenic': 11627, 'ahmed': 11628, 'gained': 11629, 'mommy': 11630, 'shud': 11631, 'barbados': 11632, 'lis': 11633, 'phon': 11634, 'oversell': 11635, 'hometown': 11636, 'leftover': 11637, 'brendanlee': 11638, 'proceeded': 11639, 'simpler': 11640, 'associates': 11641, 'pearl': 11642, 'scheol': 11643, 'parade': 11644, '“hey': 11645, 'poker': 11646, 'royally': 11647, '170': 11648, 'deliciousness': 11649, 'thnks': 11650, 'barring': 11651, 'strict': 11652, 'sobbing': 11653, '3hr': 11654, 'racks': 11655, 'controlled': 11656, 'https': 11657, 'steelers': 11658, 'a380': 11659, 'vz': 11660, 'exceptionally': 11661, 'alterations': 11662, 'sophia': 11663, 'vauxhall': 11664, 'wreck': 11665, 'sexually': 11666, 'mister': 11667, 'quits': 11668, 'cheesecake': 11669, 'stifle': 11670, 'whn': 11671, 'mae': 11672, 'trays': 11673, 'prank': 11674, 'any1': 11675, 'vicious': 11676, 'detector': 11677, 'moor': 11678, 'astir': 11679, 'smashing': 11680, 'commented': 11681, 'fireworks': 11682, '230': 11683, 'dragon': 11684, 'micro': 11685, 'conscientious': 11686, 'objector': 11687, 'amused': 11688, 'pasting': 11689, 'humiliated': 11690, 'crybaby': 11691, 'commode': 11692, 'dangerously': 11693, 'leon': 11694, 'compass': 11695, 'passage': 11696, 'buildings': 11697, 'happier': 11698, 'float': 11699, 'dancing': 11700, 'chor': 11701, 'dare': 11702, 'hugely': 11703, 'immoderately': 11704, 'maintaining': 11705, 'ricardo': 11706, 'anguish': 11707, 'krypton': 11708, 'footprint': 11709, '4hours': 11710, 'unspoilt': 11711, 'protein': 11712, 'funded': 11713, 'refreshments': 11714, 'consonant': 11715, 'albans': 11716, 'bae': 11717, 'thumbnails': 11718, 'forfend': 11719, 'dignity': 11720, 'cali': 11721, 'interim': 11722, '20p': 11723, 'railing': 11724, '93': 11725, 'plainly': 11726, '🛫': 11727, 'sneaky': 11728, 'ivs': 11729, 'tins': 11730, 'pecker': 11731, 'ghosts': 11732, 'cvg': 11733, 'slowdown': 11734, 'mentions': 11735, 'trustworthy': 11736, 'maggie': 11737, 'ascent': 11738, 'pencil': 11739, 'sensor': 11740, 'themes': 11741, 'kms': 11742, 'yesterday’': 11743, '105': 11744, 'wr': 11745, 'crt': 11746, 'sagar': 11747, 'relying': 11748, 'les': 11749, 'uphold': 11750, 'faves': 11751, 'rig': 11752, 'sultangardezy': 11753, 'cheeseflower': 11754, 'daring': 11755, 'worm': 11756, 'happend': 11757, 'xre': 11758, 'giftcard': 11759, 'mick': 11760, 'doss': 11761, 'intervention': 11762, 'compo': 11763, 'balanced': 11764, 'ramification': 11765, 'considerable': 11766, 'iowa': 11767, 'hurrying': 11768, 'academy': 11769, 'stuffed': 11770, 'grilled': 11771, 'totaling': 11772, 'dorsum': 11773, 'marcos': 11774, '430': 11775, 'brakes': 11776, 'sou': 11777, 'surveys': 11778, 'treacherous': 11779, '🤢🤢': 11780, 'mallow': 11781, 'allium': 11782, 'cepa': 11783, 'leo': 11784, 'graven': 11785, 'gratis': 11786, 'midsection': 11787, 'essence': 11788, 'decoration': 11789, 'zoe': 11790, 'notation': 11791, 'evaluated': 11792, 'walls': 11793, 'sweets': 11794, 'harini': 11795, 'doh': 11796, 'accredited': 11797, 'jag': 11798, 'ncr': 11799, 'retrieved': 11800, 'demarcation': 11801, 'sadden': 11802, 'retrieval': 11803, 'cece': 11804, 'agentive': 11805, 'transatlantic': 11806, 'awake': 11807, 'axe': 11808, 'directs': 11809, '😍😍': 11810, 'micheal': 11811, 'reprint': 11812, 'karo': 11813, 'communist': 11814, 'outward': 11815, 'bournemouth': 11816, 'rupee': 11817, 'migrating': 11818, 'planeside': 11819, 'fountain': 11820, 'yas': 11821, 'confound': 11822, 'arbys': 11823, 'redelivery': 11824, 'russell': 11825, 'duncan': 11826, 'bowling': 11827, 'laurenwalker': 11828, 'adamant': 11829, 'cam': 11830, 'authorised': 11831, 'fraudulence': 11832, 'veggies': 11833, 'tummy': 11834, 'monumental': 11835, 'hep': 11836, 'motorola': 11837, 'ingame': 11838, 'cope': 11839, 'assortment': 11840, 'insensitive': 11841, 'disruptive': 11842, 'assaulted': 11843, 'tokyo': 11844, 'bleeding': 11845, 'powers': 11846, 'surplus': 11847, 'lifted': 11848, 'millimeter': 11849, 'harebrained': 11850, 'pressman': 11851, 'urs': 11852, 'contained': 11853, 'admittedly': 11854, 'lxxii': 11855, 'absolved': 11856, 'mohamed': 11857, 'bitter': 11858, 'kia': 11859, 'mariahdaigle': 11860, 'unrecorded': 11861, 'ideally': 11862, 'prospect': 11863, 'gld': 11864, 'damon': 11865, 'modulation': 11866, 'exits': 11867, 'tring': 11868, 'increasingly': 11869, 'hush': 11870, 'shine': 11871, 'tunukiwa': 11872, 'reopening': 11873, 'quran': 11874, 'describing': 11875, 'nancy': 11876, 'transcription': 11877, 'chiedu': 11878, 'uneasy': 11879, 'fume': 11880, '16gb': 11881, '611': 11882, 'brittany': 11883, 'cycled': 11884, 'washing': 11885, 'engaging': 11886, 'betimes': 11887, '747': 11888, 'illegally': 11889, 'handsome': 11890, 'apace': 11891, 'muckle': 11892, 'cecilia': 11893, 'protest': 11894, 'chennai': 11895, 'leaflet': 11896, 'bagged': 11897, '100mb': 11898, 'ins': 11899, '10gb': 11900, '👌🏼': 11901, 'stare': 11902, 'unfairly': 11903, 'mlr': 11904, 'gaz': 11905, 'salesman': 11906, 'therapy': 11907, 'torment': 11908, 'castle': 11909, 'slippery': 11910, 'smiling': 11911, 'entail': 11912, 'box”': 11913, 'values': 11914, 'mths': 11915, 'baking': 11916, 'jamiepitcher': 11917, 'univision': 11918, 'almond': 11919, 'respite': 11920, 'dialogue': 11921, 'paint': 11922, 'nacho': 11923, 'infliction': 11924, 'fave': 11925, 'countrywide': 11926, 'skirt': 11927, 'reflection': 11928, 'ola': 11929, 'stratford': 11930, 'ada': 11931, 'julian': 11932, 'ranked': 11933, '😠😠😠': 11934, 'tayyiba': 11935, 'skiza': 11936, 'collections': 11937, 'rump': 11938, 'prototype': 11939, 'noodle': 11940, 'pollution': 11941, 'kylevesely': 11942, 'inquired': 11943, 'routed': 11944, '“this': 11945, 'achiever': 11946, 'phoned': 11947, 'malaysia': 11948, 'booklet': 11949, 'callin': 11950, 'koi': 11951, 'belleville': 11952, 'intelcom': 11953, 'ife': 11954, 'wag': 11955, 'tar': 11956, 'pawl': 11957, 'recoup': 11958, 'nail': 11959, 'diversion': 11960, 'bobby': 11961, 'cashbox': 11962, 'ange': 11963, 'devastating': 11964, 'herself': 11965, 'lcy': 11966, 'foods': 11967, 'midday': 11968, 'ripoff': 11969, 'constructive': 11970, 'limitations': 11971, '👋🏾': 11972, 'aired': 11973, 'effectual': 11974, '🤦🏾\\u200d♀️': 11975, 'amongst': 11976, 'celsius': 11977, 'mishandled': 11978, 'chandler': 11979, 'cola': 11980, '2hr': 11981, 'principal': 11982, 'piffling': 11983, '1030': 11984, 'regions': 11985, 'dumping': 11986, 'stupidity': 11987, 'que': 11988, 'goofy': 11989, '‘’': 11990, 'refusal': 11991, 'dixie': 11992, 'cuba': 11993, 'shy': 11994, '8hr': 11995, 'delivrd': 11996, 'drugs': 11997, 'labelling': 11998, 'tactile': 11999, 'uncoerced': 12000, 'weakly': 12001, 'weatherscan': 12002, '10mbps': 12003, 'grandad': 12004, 'inadvertently': 12005, 'jst': 12006, '40pm': 12007, 'cerium': 12008, 'dart': 12009, 'jot': 12010, 'dropoff': 12011, 'submission': 12012, 'ixl': 12013, '2hours': 12014, 'newton': 12015, 'frown': 12016, 'career': 12017, 'purple': 12018, 'callers': 12019, 'grooming': 12020, 'publisher': 12021, 'superfluous': 12022, '“oh': 12023, 'realy': 12024, 'netherlands': 12025, 'translation': 12026, 'resorted': 12027, 'principle': 12028, 'tba': 12029, 'must’ve': 12030, 'dennis': 12031, 'menace': 12032, 'wiser': 12033, 'formatted': 12034, 'havoc': 12035, 'justification': 12036, 'sux': 12037, 'disinterested': 12038, 'cravings': 12039, 'belike': 12040, 'kin': 12041, 'obsessed': 12042, 'regina': 12043, 'homies': 12044, 'revalue': 12045, 'vacate': 12046, '160': 12047, 'untill': 12048, '450': 12049, '91': 12050, 'dal': 12051, 'assassin': 12052, 'plea': 12053, 'pelt': 12054, 'marvelous': 12055, 'negroid': 12056, 'hunger': 12057, 'unremarkably': 12058, 'monish': 12059, 'kickoff': 12060, 'ale': 12061, 'don´': 12062, 'ev': 12063, 'outbox': 12064, '👏🏼': 12065, 'symptoms': 12066, 'concrete': 12067, 'reminded': 12068, 'buds': 12069, 'wield': 12070, 'rummy': 12071, 'shabby': 12072, 'mp4': 12073, 'scotch': 12074, 'carseat': 12075, 'kristy': 12076, 'faithful': 12077, 'parker': 12078, 'roulette': 12079, 'planners': 12080, 'follows': 12081, 'enchantment': 12082, 'patches': 12083, 'cabs': 12084, 'tank': 12085, 'vogue': 12086, 'brenda': 12087, 'trousers': 12088, 'threats': 12089, 'hoover': 12090, 'cloudy': 12091, 'hoax': 12092, 'racing': 12093, 'pepperoni': 12094, 'contractor': 12095, 'examination': 12096, 'tdy': 12097, 'gabriella': 12098, 'scores': 12099, 'hemipteran': 12100, 'outsource': 12101, 'cogitate': 12102, 'plausibly': 12103, 'stung': 12104, 'w10': 12105, 'cereal': 12106, 'convincing': 12107, 's4': 12108, 'criminals': 12109, 'apologising': 12110, 'decreased': 12111, 'nitty': 12112, 'append': 12113, 'fiscal': 12114, 'wrick': 12115, 'qty': 12116, 'alleged': 12117, 'oneplus5': 12118, 'rounds': 12119, 'watchers': 12120, 'dinners': 12121, '£19': 12122, 'son’': 12123, 'samarium': 12124, 'octad': 12125, 'visualise': 12126, 'generous': 12127, 'dominion': 12128, 'that’ll': 12129, 'chatter': 12130, 'chink': 12131, 'fabric': 12132, '£35': 12133, 'metric': 12134, 'figuring': 12135, 'heartfelt': 12136, 'recruit': 12137, 'notate': 12138, 'grumpy': 12139, 'mysql': 12140, 'mychoice': 12141, 'queuing': 12142, 'professionally': 12143, 'absent': 12144, 'morty': 12145, 'assertion': 12146, 'remainder': 12147, 'arsehole': 12148, 'wishlist': 12149, 'relieved': 12150, 'disrupt': 12151, 'prompting': 12152, 'atrociously': 12153, 'karl': 12154, 'bases': 12155, 'babble': 12156, 'orbit': 12157, 'timothy': 12158, 'ceremony': 12159, 'reunion': 12160, 'dubbed': 12161, 'hsl': 12162, 'montana': 12163, 'domination': 12164, 'mahalo': 12165, 'peach': 12166, 'discouraging': 12167, 'possession': 12168, '£45': 12169, 'lapplander': 12170, 'linkage': 12171, '901': 12172, 'wloo': 12173, 'hel': 12174, 'gallic': 12175, 'soph': 12176, 'zelle': 12177, 'wizard': 12178, 'jaime': 12179, 'reggie': 12180, 'in2': 12181, 'fatty': 12182, 'spawns': 12183, 'smoked': 12184, 'nikeplus': 12185, 'photo’': 12186, 'dint': 12187, 'continual': 12188, 'heyy': 12189, 'beguiler': 12190, 'abby': 12191, 'terrifying': 12192, 'algorithms': 12193, 'gruesome': 12194, 'challenging': 12195, 'fresco': 12196, 'apsley': 12197, 'insta': 12198, 'soupcon': 12199, 'jeffrey': 12200, 'tan': 12201, 'poppycock': 12202, 'mom’': 12203, 'tikka': 12204, 'javier': 12205, 'enthusiasm': 12206, 'vindaloo': 12207, 'rotate': 12208, 'indorse': 12209, 'settlement': 12210, 'sass': 12211, 'américa': 12212, 'mud': 12213, 'feta': 12214, 'klm': 12215, '20pm': 12216, 'mga': 12217, 'survivor': 12218, 'flak': 12219, 'soil': 12220, 'portability': 12221, 'shrunk': 12222, 'contemplating': 12223, '199': 12224, 'abomination': 12225, 'mays': 12226, 'ebook': 12227, 'templet': 12228, 'maneuver': 12229, 'pepsi': 12230, 'tjs': 12231, 'nicest': 12232, 'roentgen': 12233, 'surgical': 12234, 'bagels': 12235, 'sped': 12236, 'macintosh': 12237, 'staines': 12238, 'cockpit': 12239, 'deceive': 12240, 'gurgaon': 12241, 'curium': 12242, 'anaaliciacortez': 12243, 'tungsten': 12244, 'southeast': 12245, 'nettlesome': 12246, 'handshake': 12247, 'kirkstall': 12248, 'puddings': 12249, 'finesse': 12250, 'socket': 12251, 'buggin': 12252, 'skull': 12253, 'wrongfulness': 12254, 'tempted': 12255, 'toby': 12256, '20k': 12257, 'cutoff': 12258, 'eilish': 12259, 'lodged': 12260, 'barcodes': 12261, 'inhumane': 12262, 'ric': 12263, 'cling': 12264, 'moreton': 12265, 'deadass': 12266, 'fps': 12267, 'kama': 12268, 'handsets': 12269, 'handgrip': 12270, 'mamma': 12271, 'tethering': 12272, 'validated': 12273, 'dif': 12274, 'viewers': 12275, 'servic': 12276, 'cfo': 12277, 'adverse': 12278, 'warehousing': 12279, 'nola': 12280, 'unfastened': 12281, 'husband’': 12282, 'theater': 12283, 'focussing': 12284, 'thanked': 12285, 'dupery': 12286, 'julissabadillo': 12287, 'milwaukee': 12288, 'transfering': 12289, 'arriere': 12290, 'pensee': 12291, 'pcn': 12292, 'mountains': 12293, 'vivek': 12294, '6hrs': 12295, 'dasher': 12296, 'ba2158': 12297, 'steering': 12298, 'referrals': 12299, 'ratify': 12300, 'bans': 12301, 'prblm': 12302, '5l': 12303, 'reactive': 12304, 'calne': 12305, 'supervisory': 12306, 'kidskin': 12307, '40k': 12308, 'oc': 12309, 'choc': 12310, 'aged': 12311, 'biased': 12312, 'swifties': 12313, 'borderfree': 12314, 'crave': 12315, '144': 12316, 'multitask': 12317, 'bore': 12318, 'searchable': 12319, 'booting': 12320, 'approximate': 12321, 'interestingly': 12322, 'misdirect': 12323, 'centurion': 12324, 'lounges': 12325, 'woot': 12326, 'cld': 12327, 'venture': 12328, 'souls': 12329, 'cancell': 12330, 'geez': 12331, 'smartshop': 12332, 'consummate': 12333, 'barley': 12334, 'pea': 12335, 'deepen': 12336, 'unrestrained': 12337, 'ight': 12338, 'soiled': 12339, 'wool': 12340, 'struggles': 12341, '9php': 12342, 'strips': 12343, 'probe': 12344, 'defiantly': 12345, 'dreamliner': 12346, 'terminals': 12347, 'barack': 12348, 'hydro': 12349, 'sherman': 12350, 'hardworking': 12351, 'underpaid': 12352, 'relentlessly': 12353, 'msy': 12354, 'windshield': 12355, 'sandra': 12356, 'comforting': 12357, 'dawdle': 12358, 'croissants': 12359, 'cabbage': 12360, 'lilliputian': 12361, 'untune': 12362, 'portrait': 12363, 'prepped': 12364, '15a432': 12365, '398': 12366, 'nearer': 12367, 'indicating': 12368, 'doubts': 12369, 'ledger': 12370, 'cabriolet': 12371, 'phone’': 12372, '15days': 12373, 'weary': 12374, 'carentan': 12375, 'dispense': 12376, 'wheat': 12377, 'gov': 12378, 'finds': 12379, 'quinn': 12380, 'rivals': 12381, 'newsboy': 12382, 'cactus': 12383, '20am': 12384, 'upto': 12385, 'warrencamp': 12386, 'seedless': 12387, 'iz': 12388, 'spazzing': 12389, 'formula': 12390, 'pig': 12391, 'gustatory': 12392, '😭💔': 12393, 'extenuating': 12394, 'reacted': 12395, 'admonition': 12396, 'flake': 12397, 'incl': 12398, 'ajr': 12399, 'haryana': 12400, '2007': 12401, 'demonstration': 12402, 'impossibly': 12403, 'nothin': 12404, '🙏🏽': 12405, 'tristan': 12406, 'paseo': 12407, 'norte': 12408, 'elaine': 12409, 'edgar': 12410, 'continent': 12411, 'wiz': 12412, 'blanched': 12413, 'intro': 12414, 'saturdays': 12415, 'gamerpic': 12416, 'pudsey': 12417, 'predicted': 12418, 'annette': 12419, 'ostracise': 12420, 'rockstar': 12421, 'reno': 12422, 'gossip': 12423, 'efficiency': 12424, 'formats': 12425, 'whorl': 12426, 'speechless': 12427, 'pasted': 12428, 'frustrates': 12429, 'refrain': 12430, 'armorial': 12431, 'relied': 12432, 'twin': 12433, 'neighbourhood': 12434, 'wiping': 12435, 'pastrami': 12436, 'flys': 12437, 'offshoot': 12438, '12k': 12439, 'selly': 12440, 'surprisal': 12441, 'afterward': 12442, 'hostess': 12443, 'georgie': 12444, 'guardianship': 12445, 'lush': 12446, 'wats': 12447, 'confrere': 12448, 'topher': 12449, 'deutsche': 12450, 't2': 12451, 'whatsup': 12452, '90s': 12453, 'rainy': 12454, 'whistling': 12455, 'scholarly': 12456, 'sbi': 12457, 'squash': 12458, 'topographic': 12459, '£54': 12460, 'confederacy': 12461, 'lockscreen': 12462, 'mngr': 12463, 'consort': 12464, 'cupful': 12465, 'whisper': 12466, 'chucked': 12467, 'accord': 12468, 'nero': 12469, 'rabbit': 12470, 'doable': 12471, 'indite': 12472, 'sweating': 12473, '32gb': 12474, 'renting': 12475, 'refurb': 12476, '“we’ll': 12477, 'efflorescence': 12478, 'gav': 12479, 'worthy': 12480, 'homeland': 12481, 'xxxii': 12482, 'secant': 12483, 'flavourless': 12484, 'barbie': 12485, 'omitted': 12486, 'disgustingly': 12487, 'activeness': 12488, 'cortana': 12489, 'gamepad': 12490, 'argentina': 12491, 'weds': 12492, 'drone': 12493, 'mho': 12494, 'oppose': 12495, 'constituent': 12496, '😘😘': 12497, 'exceptions': 12498, 'rainwater': 12499, 'bequest': 12500, 'subbed': 12501, 'subtitle': 12502, 'chitter': 12503, 'aweful': 12504, 'canonic': 12505, '5h': 12506, 'customized': 12507, 'versus': 12508, 'pineapple': 12509, 'when’': 12510, 'handwriting': 12511, 'csrf': 12512, 'woof': 12513, 'sans': 12514, '1080p': 12515, 'pedigree': 12516, 'caution': 12517, 'trumpery': 12518, 'glos': 12519, 'neutrality': 12520, 'takeover': 12521, 'assurances': 12522, 'fastrack': 12523, 'careers': 12524, 'embedded': 12525, 'bru': 12526, '£17': 12527, 'restitution': 12528, 'contrive': 12529, 'vertebral': 12530, 'spray': 12531, 'cringe': 12532, '🙏🏼': 12533, 'panicky': 12534, 'ravel': 12535, 'tread': 12536, 'emilio': 12537, 'descend': 12538, 'grapple': 12539, 'kai': 12540, '📩': 12541, 'clangoring': 12542, 'unspoiled': 12543, 'americium': 12544, 'troops': 12545, 'excessively': 12546, 'harbour': 12547, 'crashy': 12548, 'guessed': 12549, 'bianca': 12550, 'frankfurter': 12551, 'purportedly': 12552, 'hypothecate': 12553, 'manages': 12554, 'flood': 12555, 'mighty': 12556, 'swim': 12557, 'grunge': 12558, 'unimaginative': 12559, 'predictable': 12560, 'plugs': 12561, 'hue': 12562, 'bulbs': 12563, 'attentive': 12564, 'xander': 12565, 'tripod': 12566, 'elgato': 12567, 'hazel': 12568, '🇺🇸': 12569, 'chapter': 12570, 'spotting': 12571, 'bi': 12572, 'risking': 12573, 'immortal': 12574, 'sensory': 12575, 'brea': 12576, 'sarnie': 12577, 'topped': 12578, 'geoff': 12579, 'thinned': 12580, 'delivery”': 12581, 'tweeter': 12582, 'perry': 12583, 'gwt': 12584, 'arabia': 12585, 'counters': 12586, 'array': 12587, 'everyplace': 12588, 'kernersville': 12589, '❤️❤️❤️': 12590, 'abruptly': 12591, 'seize': 12592, 'q3': 12593, 'acceleration': 12594, 'dodgers': 12595, 'clifton': 12596, 'unprofessionalism': 12597, 'realistic': 12598, 'stacy': 12599, 'deborah': 12600, 'fwd': 12601, 'feeler': 12602, 'terrorize': 12603, '😂😍': 12604, 'rsw': 12605, 'onedrive': 12606, 'xg': 12607, 'sock': 12608, 'ore': 12609, 'unintentionally': 12610, 'jhb': 12611, 'ridiculousness': 12612, 'defected': 12613, 'upwards': 12614, 'judy': 12615, 'strings': 12616, 'bitched': 12617, 'simplest': 12618, 'somethin': 12619, 'launches': 12620, 'detailing': 12621, 'freeing': 12622, 'meltdown': 12623, 'supergirl': 12624, 'victorianlang': 12625, 'embracing': 12626, 'exchanging': 12627, 'belongs': 12628, 'iceland': 12629, 'emptied': 12630, 'cough': 12631, 'hanged': 12632, 'swaroop': 12633, 'disapointed': 12634, 'crotch': 12635, 'frickin': 12636, 'reassurance': 12637, 'helpdesk': 12638, 'refuel': 12639, 'autistic': 12640, 'professionals': 12641, 'misbehaving': 12642, 'unbalanced': 12643, 'jfc': 12644, 'staple': 12645, '5g': 12646, 'ceramic': 12647, 'reinstated': 12648, 'opera': 12649, 'fascia': 12650, 'greyed': 12651, '🔫': 12652, 'sachin': 12653, 'batman': 12654, 'maven': 12655, 'shorty': 12656, 'loc': 12657, 'blob': 12658, 'filename': 12659, 'cocktail': 12660, 'walnut': 12661, 'abortive': 12662, 'dresses': 12663, 'heraldic': 12664, 'lisbon': 12665, 'focusing': 12666, 'marina': 12667, 'jeopardy': 12668, 'tremendously': 12669, 'terminating': 12670, 'cozy': 12671, 'infuriate': 12672, 'unvoiced': 12673, 'sprouts': 12674, '61': 12675, 'rhenium': 12676, 'chai': 12677, 'aluminium': 12678, '83': 12679, 'zimbabwe': 12680, 'albeit': 12681, 'unfold': 12682, 'tuition': 12683, 'dainty': 12684, 'amusing': 12685, 'tkt': 12686, 'stemma': 12687, 'jumbo': 12688, 'boundaries': 12689, 'tkts': 12690, 'freestanding': 12691, '👎🏾': 12692, 'inauguration': 12693, '88': 12694, 'dads': 12695, 'scuttlebutt': 12696, 'trevor': 12697, 'claver': 12698, '£115': 12699, '141': 12700, 'suicide': 12701, 'shelters': 12702, 'mrn': 12703, 'retired': 12704, 'coop': 12705, 'kaitlyn': 12706, 'standpoint': 12707, 'baw': 12708, '28pm': 12709, 'plough': 12710, 'favourites': 12711, 'condemn': 12712, 'individuals': 12713, 'nintendo': 12714, 'playfulness': 12715, 'julio': 12716, 'tack': 12717, 'initio': 12718, '2mins': 12719, 'shgames': 12720, 'crank': 12721, 'openly': 12722, '😢😢': 12723, 'inclined': 12724, 'ou': 12725, 'sadie': 12726, 'ems': 12727, 'additives': 12728, 'assassins': 12729, 'breadth': 12730, 'configured': 12731, 'impede': 12732, 'derby': 12733, 'analyst': 12734, 'flooded': 12735, 'madam': 12736, 'breastfeed': 12737, 'fonts': 12738, 'goodnight': 12739, 'organized': 12740, 'prefs': 12741, 'asa': 12742, 'snub': 12743, '♥️': 12744, 'extensions': 12745, 'weekday': 12746, 'branson': 12747, 'ther': 12748, 'slows': 12749, 'execution': 12750, 'daft': 12751, 'pith': 12752, 'exploiter': 12753, 'monitors': 12754, 'tripled': 12755, 'moth': 12756, 'lowercase': 12757, '6k': 12758, 'protrude': 12759, 'untruthful': 12760, 'tiger': 12761, 'voluntary': 12762, 'upc': 12763, 'discourteously': 12764, 'incite': 12765, 'yucky': 12766, 'bold': 12767, 'iain': 12768, 'mazed': 12769, '🤷🏾\\u200d♂️': 12770, 'recived': 12771, 'themed': 12772, 'litre': 12773, 'sticky': 12774, 'donovan': 12775, 'tug': 12776, 'livechat': 12777, 'visor': 12778, 'produced': 12779, 'coating': 12780, 'pajamas': 12781, '59pm': 12782, 'proofs': 12783, 'chipotles': 12784, 'attributed': 12785, 'megabyte': 12786, 'literature': 12787, 'feather': 12788, 'primitive': 12789, '20kg': 12790, 'corrections': 12791, 'untried': 12792, 'marsha': 12793, 'rachael': 12794, 'bryce': 12795, 'abilities': 12796, 'externally': 12797, 'politic': 12798, 'wycombe': 12799, 'hows': 12800, 'brianna': 12801, 'despatched': 12802, 'vishal': 12803, 'vainglorious': 12804, 'references': 12805, 'commencement': 12806, 'filtered': 12807, 'arise': 12808, 'throne': 12809, 'frigid': 12810, 'bushed': 12811, 'blueberry': 12812, 'multiply': 12813, 'drawn': 12814, 'cherneilrandolph': 12815, 'paso': 12816, 'briefly': 12817, 'infirmary': 12818, 'authorise': 12819, 'edible': 12820, 'lorry': 12821, 'torch': 12822, 'restrainer': 12823, 'turkish': 12824, 'stalled': 12825, 'billhook': 12826, 'zl': 12827, '442': 12828, 'porthole': 12829, 'tempe': 12830, 'depicted': 12831, 'sinker': 12832, 'nb': 12833, 'solihull': 12834, 'verbalizer': 12835, 'artwork': 12836, 'buenos': 12837, 'aires': 12838, 'santiago': 12839, 'config': 12840, '💘': 12841, 'emcee': 12842, 'tarts': 12843, 'cocked': 12844, 'http': 12845, 'playoffs': 12846, 'pullman': 12847, 'penzance': 12848, 'oder': 12849, 'punish': 12850, 'ncc': 12851, '1703': 12852, 'carefully': 12853, 'bathrooms': 12854, 'nae': 12855, 'bbu': 12856, 'zt': 12857, 'trivial': 12858, 'xavier': 12859, '05am': 12860, 'violates': 12861, 'jacked': 12862, 'ringtone': 12863, '1434': 12864, 'inviting': 12865, 'gujarat': 12866, 'roving': 12867, 'hardin': 12868, 'holley': 12869, 'commitments': 12870, 'oversight': 12871, 'stair': 12872, 'sauces': 12873, 'flats': 12874, 'patent': 12875, 'latino': 12876, 'approached': 12877, 'realizes': 12878, 'wore': 12879, 'bruce': 12880, 'stamps': 12881, 'exceeding': 12882, 'clxxx': 12883, 'doubting': 12884, '💃': 12885, 'mobiles': 12886, 'bullsh': 12887, 'rotted': 12888, 'rocked': 12889, 'dvds': 12890, 'godalming': 12891, 'idgaf': 12892, 'prebook': 12893, 'pyjamas': 12894, 'impairment': 12895, 'woop': 12896, 'dips': 12897, 'xxii': 12898, '100s': 12899, 'index': 12900, 'harrison': 12901, 'kurt': 12902, 'affiliate': 12903, 'darius': 12904, 'goi': 12905, '3mbps': 12906, 'mastering': 12907, 'enquiring': 12908, 'instruments': 12909, 'advocate': 12910, 'befor': 12911, 'hoard': 12912, 'smdh': 12913, 'kylie': 12914, '460': 12915, '1600': 12916, 'targeting': 12917, 'reinstate': 12918, 'judged': 12919, 'keychain': 12920, 'ravioli': 12921, 'cincinnati': 12922, 'rollover': 12923, 'finn': 12924, 'contests': 12925, 'stillness': 12926, '157': 12927, 'yankee': 12928, 'jemma': 12929, 'ashish': 12930, 'meme': 12931, 'i0s': 12932, 'malignant': 12933, 'neoplastic': 12934, 'environmental': 12935, 'illegals': 12936, 'inserted': 12937, 'lifesaver': 12938, 'fh': 12939, 'jasmine': 12940, 'revolutionary': 12941, '15am': 12942, 'crowing': 12943, 'imp': 12944, 'matte': 12945, 'slut': 12946, 'appreciates': 12947, 'technologies': 12948, 'undamaged': 12949, 'thanku': 12950, 'cognizant': 12951, 'xciv': 12952, 'allegiance': 12953, '202': 12954, 'overheats': 12955, 'flo': 12956, 'isa': 12957, 'candidly': 12958, '80p': 12959, '2h': 12960, '250mb': 12961, 'carrie': 12962, 'downs': 12963, 'orderd': 12964, 'chilli': 12965, 'din': 12966, 'smd': 12967, 'ceiling': 12968, '23kg': 12969, 'burnham': 12970, 'unacceptably': 12971, 'criterion': 12972, 'proscription': 12973, 'ranges': 12974, 'opting': 12975, 'fulfilment': 12976, 'assets': 12977, 'myr': 12978, 'spotlight': 12979, 'deceased': 12980, 'decades': 12981, 'pelting': 12982, 'scads': 12983, 'stefan': 12984, 'annotation': 12985, 'gina': 12986, 'niall': 12987, 'fulfilling': 12988, 'fundamental': 12989, '👏🏻👏🏻': 12990, 'cruel': 12991, 'penalisation': 12992, 'generator': 12993, 'taunt': 12994, 'skipped': 12995, 'urgh': 12996, 'messy': 12997, 'russia': 12998, 'cindy': 12999, 'jeremykelley': 13000, 'salvage': 13001, 'extending': 13002, 'lamentably': 13003, '225': 13004, 'bronze': 13005, 'disputed': 13006, 'zinger': 13007, 'ayush': 13008, '😱😱': 13009, 'wondered': 13010, 'era': 13011, 'bronx': 13012, 'outline': 13013, 'amt': 13014, 'unclean': 13015, 'unboxing': 13016, 'decker': 13017, 'kelsey': 13018, 'plaguy': 13019, 'disclaimer': 13020, 'intoxicated': 13021, 'illogical': 13022, 'qam': 13023, 'tuner': 13024, 'durham': 13025, 'vader': 13026, 'cocoa': 13027, 'sarcastic': 13028, 'jerky': 13029, 'wer': 13030, 'eject': 13031, 'pushcart': 13032, 'tuxedo': 13033, 'una': 13034, 'improves': 13035, 'entirety': 13036, 'bedding': 13037, 'impoverished': 13038, 'evan': 13039, 'bumper': 13040, 'justly': 13041, '🍰': 13042, '🍪': 13043, 'scummy': 13044, 'sought': 13045, 'jerome': 13046, 'rightfully': 13047, 'rian': 13048, 'lyfts': 13049, 'pence': 13050, 'saga': 13051, 'causal': 13052, 'sekiasmith': 13053, 'dragged': 13054, 'skb': 13055, 'reciept': 13056, 'mindy': 13057, 'blessing': 13058, 'minnesota': 13059, 'chesty': 13060, 'gracie': 13061, '🤬🤬🤬': 13062, 'infinity': 13063, 'zoomed': 13064, 'hehe': 13065, 'hen': 13066, 'maxwell': 13067, 'judith': 13068, 'exigency': 13069, 'arsed': 13070, 'syndicate': 13071, 'emblem': 13072, 'creator': 13073, 'v2': 13074, 'cerulean': 13075, 'typewriting': 13076, 'eventi': 13077, '4ghz': 13078, 'endowment': 13079, 'reflecting': 13080, '🤦\\u200d♀️': 13081, 'belgian': 13082, 'andover': 13083, 'courses': 13084, 'crock': 13085, 'peaceful': 13086, '☑️': 13087, 'warmed': 13088, 'adulterate': 13089, 'fiver': 13090, 'ajc': 13091, 'acquaintance': 13092, 'revoked': 13093, 'haunt': 13094, 'unearthly': 13095, 'chaff': 13096, 'reminding': 13097, 'goldfish': 13098, 'greeted': 13099, 'sang': 13100, 'killer': 13101, 'oldtimer': 13102, 'htc': 13103, 'fumbling': 13104, '🌮🌮🌮🌮': 13105, '78': 13106, 'tami': 13107, 'amps': 13108, 'piazza': 13109, 'govern': 13110, 'detent': 13111, 'rub': 13112, 'nationally': 13113, 'uxbridge': 13114, 'grammatical': 13115, 'woeful': 13116, 'barcelona': 13117, 'sober': 13118, 'compact': 13119, 'dmd': 13120, 'rottenly': 13121, 'gn': 13122, 'ati': 13123, 'ovr': 13124, 'mos': 13125, 'glen': 13126, 'affects': 13127, 'cynthia': 13128, 'assort': 13129, 'medal': 13130, 'soups': 13131, 'tubes': 13132, 'apologized': 13133, 'kpop': 13134, 'emphatically': 13135, 'creatures': 13136, 'gunstock': 13137, 'damnit': 13138, '“want': 13139, '“do': 13140, 'luncheon': 13141, 'wastes': 13142, 'redo': 13143, 'peppers': 13144, 'lending': 13145, '🤕': 13146, 'freaked': 13147, 'revision': 13148, 'hersham': 13149, 'walton': 13150, 'thames': 13151, 'shouts': 13152, 'jmg': 13153, '10minutes': 13154, 'ordrd': 13155, 'thania': 13156, '«': 13157, 'tamara': 13158, 'annie': 13159, 'decisive': 13160, 'conection': 13161, 'troubled': 13162, 'unauthorised': 13163, 'psvue': 13164, 'peeved': 13165, 'f5': 13166, 'additions': 13167, 'moo': 13168, 'disks': 13169, 'detached': 13170, 'progressively': 13171, 'b7': 13172, 'overweight': 13173, 'yoghurts': 13174, 'madeline': 13175, 'mtg': 13176, 'camille': 13177, 'hackney': 13178, 'extras': 13179, 'titled': 13180, 'tasha': 13181, 'concluded': 13182, 'dmv': 13183, 'fifa18': 13184, 'snazzy': 13185, 'calorie': 13186, 'vry': 13187, 'aaj': 13188, 'darryl': 13189, 'cesar': 13190, 'israel': 13191, 'abusing': 13192, 'hol': 13193, '462': 13194, 'excommunicate': 13195, 'weirdo': 13196, 'fights': 13197, 'shouldnt': 13198, 'overlooked': 13199, 'prebooked': 13200, 'dad’': 13201, 'nicolas': 13202, 'cashed': 13203, 'coulda': 13204, 'exorbitant': 13205, 'notifies': 13206, 'chime': 13207, 'hayes': 13208, 'thymine': 13209, 'residual': 13210, 'estimator': 13211, '0871': 13212, 'warmer': 13213, 'jae': 13214, 'dina': 13215, 'jasper': 13216, 'midpoint': 13217, 'jeez': 13218, 'roadside': 13219, 'resubmit': 13220, 'alternately': 13221, 'remained': 13222, 'awh': 13223, 'bacillus': 13224, 'faisseld': 13225, 'thi': 13226, 'venice': 13227, 'curtain': 13228, 'visitor': 13229, 'eagle': 13230, 'feliciaporter': 13231, 'yahll': 13232, 'bcs': 13233, 'chocolat': 13234, 'aruba': 13235, 'ocado': 13236, 'sarcasm': 13237, '🙂🙂': 13238, 'osterley': 13239, 'pusher': 13240, 'statute': 13241, 'decigram': 13242, 'saame': 13243, 'og': 13244, 'ello': 13245, 'mincemeat': 13246, 'oscar': 13247, 'pmt': 13248, 'stilton': 13249, 'storo': 13250, 'unpair': 13251, 'severally': 13252, 'cxxv': 13253, 'graphic': 13254, 'motortruck': 13255, 'horde': 13256, '🤷🏻\\u200d♂️': 13257, 'illegitimate': 13258, 'café': 13259, 'houmous': 13260, 'ford': 13261, 'aircrafts': 13262, 'hurried': 13263, 'sessions': 13264, 'grandson': 13265, 'commons': 13266, 'illusion': 13267, 'tut': 13268, 'webcam': 13269, 'divide': 13270, 'wes': 13271, 'fut': 13272, 'watercourse': 13273, 'cork': 13274, 'alyssa': 13275, 'donations': 13276, 'chiswick': 13277, 'homophobic': 13278, '35min': 13279, 'faded': 13280, 'preclude': 13281, 'walsall': 13282, 'inspector': 13283, '930': 13284, 'threadbare': 13285, 'mcchicken': 13286, 'specifications': 13287, 'benny': 13288, 'sewage': 13289, '299': 13290, 'snowy': 13291, 'hurly': 13292, 'humanoid': 13293, 'naval': 13294, 'reportage': 13295, 'aggregation': 13296, 'lading': 13297, 'ranch': 13298, '504': 13299, '😩😩': 13300, 'enumeration': 13301, 'ivr': 13302, 'classed': 13303, 'fido': 13304, 'deoxythymidine': 13305, 'bev': 13306, 'iad': 13307, 'tonight’': 13308, 'excerpt': 13309, 'argumentation': 13310, 'fleshly': 13311, 'navigating': 13312, 'mentally': 13313, 'patterns': 13314, 'reincarnate': 13315, 'bedwyn': 13316, 'greatness': 13317, 'breakable': 13318, 'wpa2': 13319, 'populace': 13320, 'border': 13321, 'rollout': 13322, 'rubbing': 13323, 'spoiling': 13324, 'timeworn': 13325, 'trina': 13326, 'debichavarria': 13327, 'prominent': 13328, 'whack': 13329, 'ayo': 13330, 'corners': 13331, 'stationary': 13332, 'woods': 13333, 'fig': 13334, 'deficit': 13335, 'thia': 13336, 'allocation': 13337, 'dft': 13338, 'solicitation': 13339, 'romsey': 13340, 'faf': 13341, 'venison': 13342, 'airwave': 13343, 'reckoner': 13344, 'raffle': 13345, 'avocados': 13346, 'aegis': 13347, 'clj': 13348, 'bourbon': 13349, 'triggered': 13350, 'combining': 13351, 'collectively': 13352, 'wih': 13353, 'fastforward': 13354, 'harrassing': 13355, 'suspensions': 13356, 'devotee': 13357, 'peal': 13358, 'hahah': 13359, 'paused': 13360, 'sniping': 13361, '30m': 13362, 'overwhelming': 13363, 'seated': 13364, 'dented': 13365, 'robotic': 13366, 'backordered': 13367, 'previews': 13368, 'bouncy': 13369, 'unforesightful': 13370, 'timezone': 13371, 'ejecting': 13372, 'regent': 13373, 'salford': 13374, 'gondola': 13375, 'labeling': 13376, 'supper': 13377, 'jgp': 13378, 'unjustified': 13379, '🔥🔥🔥': 13380, 'rp': 13381, 'barn': 13382, 'antiophthalmic': 13383, 'etf': 13384, 'vienna': 13385, 'counterfeit': 13386, 'goddam': 13387, 'phoney': 13388, 'booritos': 13389, 'posters': 13390, 'vx': 13391, 'succeed': 13392, 'lichfield': 13393, 'etr': 13394, 'bunny': 13395, 'swelling': 13396, 'hare': 13397, 'sweden': 13398, 'territory': 13399, 'tge': 13400, 'sanctum': 13401, 'forethought': 13402, 'restrict': 13403, '25mins': 13404, 'tainted': 13405, 'assembly': 13406, 'beforehand': 13407, 'welsh': 13408, 'glas': 13409, 'challenged': 13410, '1v1': 13411, 'charleston': 13412, 'lu': 13413, 'hangover': 13414, 'cure': 13415, 'diaper': 13416, 'delirious': 13417, 'advances': 13418, 'rio': 13419, 'consulting': 13420, 'grabbed': 13421, '👐': 13422, 'fertilise': 13423, 'fe': 13424, 'insured': 13425, 'enrol': 13426, 'ethical': 13427, 'cuddle': 13428, 'shinny': 13429, 'omar': 13430, 'jasonburr': 13431, 'rehearsal': 13432, 'a321': 13433, 'pickups': 13434, 'earbuds': 13435, 'tongue': 13436, 'memorial': 13437, 'rdp': 13438, 'studying': 13439, 'convention': 13440, 'avaliable': 13441, 'boulevard': 13442, 'disconcert': 13443, 'ditched': 13444, 'youngster': 13445, 'martyn': 13446, 'banning': 13447, 'excludes': 13448, 'guinea': 13449, 'judging': 13450, '321': 13451, 'erstwhile': 13452, 'eternal': 13453, 'msa': 13454, 'arguably': 13455, 'ankit': 13456, 'autobus': 13457, 'collapsed': 13458, 'inning': 13459, 'eva': 13460, 'hong': 13461, 'kong': 13462, 'gratitude': 13463, 'transposition': 13464, 'pelican': 13465, 'scripts': 13466, 'nan': 13467, 'sabi': 13468, 'mainland': 13469, 'attendent': 13470, 'ama': 13471, 'clown': 13472, 'gasolene': 13473, 'rode': 13474, 'ℹ️': 13475, 'oblige': 13476, 'montgomery': 13477, 'deductions': 13478, 'authenticity': 13479, 'matthias': 13480, 'darling': 13481, 'dafydd': 13482, 'handbill': 13483, 'distressingly': 13484, 'ordr': 13485, 'debby': 13486, '🧐': 13487, 'norman': 13488, 'widnes': 13489, 'sausages': 13490, 'bur': 13491, 'duet': 13492, 'cage': 13493, 'investing': 13494, 'ent': 13495, 'streamlined': 13496, 'delvry': 13497, 'custmer': 13498, 'calcium': 13499, 'dtv': 13500, 'gentle': 13501, '“not': 13502, 'bombarded': 13503, 'discord': 13504, '300mbps': 13505, 'lxxx': 13506, 'spine': 13507, '🤗🤗🤗': 13508, 'kale': 13509, 'boundary': 13510, 'purely': 13511, 'slider': 13512, 'upsurge': 13513, 'oklahoma': 13514, 'discourse': 13515, 'traveled': 13516, 'quito': 13517, 'belinda': 13518, 'compose': 13519, 'nearing': 13520, 'ax': 13521, 'swop': 13522, 'a350': 13523, 'completes': 13524, 'industrial': 13525, 'elf': 13526, 'adapters': 13527, 'thwart': 13528, 'mason': 13529, '🍫': 13530, 'ukraine': 13531, 'dialed': 13532, 'rooter': 13533, 'cartridges': 13534, 'playacting': 13535, 'kilburn': 13536, 'hitch': 13537, 'hobby': 13538, 'grad': 13539, 'anticipated': 13540, 'hassles': 13541, 'oaks': 13542, 'dfu': 13543, 'angiereyes': 13544, 'bangkok': 13545, 'deprived': 13546, 'frightfully': 13547, 'tracing': 13548, 'urls': 13549, 'aad': 13550, 'clone': 13551, 'lighter': 13552, 'workarounds': 13553, 'daddy': 13554, 'bhai': 13555, 'ikon': 13556, 'dismayed': 13557, 'malta': 13558, 'faint': 13559, 'punta': 13560, 'every1': 13561, 'ofttimes': 13562, 'sensitivity': 13563, 'incidentally': 13564, 'compliant': 13565, 'evelyn': 13566, 'probable': 13567, 'tryin': 13568, 'gumshoe': 13569, 'cinema': 13570, 'ebooks': 13571, 'coats': 13572, 'cavs': 13573, 'fobs': 13574, 'summons': 13575, 'capabilities': 13576, 'governor': 13577, 'gambol': 13578, 'brum': 13579, 'shortages': 13580, 'patsy': 13581, 'ericpayne': 13582, 'situated': 13583, 'bungling': 13584, 'harrow': 13585, 'infection': 13586, 'borrowing': 13587, 'dome': 13588, 'recommends': 13589, 'profession': 13590, 'hamburger': 13591, 'expectant': 13592, 'fluffy': 13593, 'osu': 13594, 'sla': 13595, 'assemble': 13596, 'flock': 13597, 'maggots': 13598, 'dulwich': 13599, 'loughborough': 13600, 'underlined': 13601, 'morsel': 13602, 'allergies': 13603, 'canful': 13604, 'houses': 13605, 'seventeenth': 13606, 'imsg': 13607, 'gopro': 13608, 'dedication': 13609, 'rearrange': 13610, 'implicit': 13611, 'volunteering': 13612, 'clever': 13613, 'cautiously': 13614, 'couldve': 13615, 'deceit': 13616, 'exhausting': 13617, 'fcc': 13618, 'soundtrack': 13619, 'surfing': 13620, 'accomplish': 13621, 'withdrawals': 13622, 'erratic': 13623, 'necessarily': 13624, 'preset': 13625, 'gradually': 13626, 'party’': 13627, 'crapped': 13628, 'sarahpearson': 13629, 'insisted': 13630, 'redditch': 13631, 'phonecall': 13632, 'mishandling': 13633, 'bearer': 13634, 'barrack': 13635, 'contamination': 13636, 'nus': 13637, 'hallo': 13638, 'bakshis': 13639, 'hive': 13640, 'maw': 13641, 'nailed': 13642, '1900': 13643, 'bradford': 13644, 'intense': 13645, 'gtfo': 13646, 'quondam': 13647, '🚊': 13648, '📲': 13649, 'village': 13650, 'aha': 13651, 'contravention': 13652, 'heaton': 13653, 'arbitrarily': 13654, 'linkup': 13655, 'protests': 13656, 'southend': 13657, 'serivce': 13658, 'vc': 13659, 'maryland': 13660, 'edifice': 13661, 'enviousness': 13662, 'emirates': 13663, 'knockout': 13664, 'lidl': 13665, 'wolverton': 13666, 'jeopardize': 13667, 'affirmation': 13668, 'lew': 13669, 'peelers': 13670, 'taproom': 13671, 'recoil': 13672, 'dia': 13673, 'translated': 13674, 'healthcare': 13675, 'g4': 13676, 'rushing': 13677, '🤦🏼\\u200d♀️': 13678, 'dena': 13679, 'b1': 13680, 'unreasonable': 13681, 'fasting': 13682, 'swamp': 13683, 'shoved': 13684, 'electricity': 13685, 'kuala': 13686, 'lumpur': 13687, 'rey': 13688, 'havin': 13689, 'cornflakes': 13690, 'developing': 13691, 'merthyr': 13692, 'kosher': 13693, 'srvce': 13694, 'betterment': 13695, 'mondays': 13696, '50min': 13697, 'goons': 13698, 'flutter': 13699, 'dada': 13700, 'vast': 13701, 'workspace': 13702, 'organised': 13703, 'sliding': 13704, 'discovering': 13705, 'selects': 13706, '82': 13707, 'demolish': 13708, 'viral': 13709, 'dunkin': 13710, 'mikes': 13711, 'incursion': 13712, 'awaits': 13713, 'overheated': 13714, 'explanations': 13715, 'whr': 13716, '📚': 13717, 'promoted': 13718, 'equip': 13719, 'nappies': 13720, 'bays': 13721, 'regaining': 13722, 'macadam': 13723, 'vegetarians': 13724, 'codeshare': 13725, 'nauseated': 13726, 'restocked': 13727, 'labour': 13728, 'weekdays': 13729, '330': 13730, 'irksome': 13731, 'tempered': 13732, 'swallow': 13733, 'terror': 13734, 'landline': 13735, 'jana': 13736, 'kar': 13737, 'btob': 13738, 'ankle': 13739, 'molybdenum': 13740, 'undecided': 13741, 'lacey': 13742, 'gene': 13743, 'sentiments': 13744, 'hoop': 13745, 'nonspecific': 13746, 'distorted': 13747, 'corby': 13748, 'swt': 13749, 'survival': 13750, 'lamp': 13751, 'docking': 13752, 'unaddressed': 13753, 'kernel': 13754, 'legislation': 13755, 'nub': 13756, 'econ': 13757, 'dodge': 13758, 'grandmas': 13759, '£75': 13760, 'dropdown': 13761, '£70': 13762, '🎁': 13763, 'pablo': 13764, 'dangle': 13765, 'utah': 13766, 'mornings': 13767, 'segment': 13768, 'spends': 13769, 'mst': 13770, 'rose': 13771, '128': 13772, 'leia': 13773, 'kerri': 13774, 'dana': 13775, '4days': 13776, 'shes': 13777, 'iffy': 13778, 'suitcases': 13779, 'dally': 13780, 'rma': 13781, 'clocks': 13782, 'liberation': 13783, 'disputing': 13784, '👍🏻👍🏻': 13785, 'criticise': 13786, 'tourist': 13787, 'timetables': 13788, 'tenure': 13789, 'defending': 13790, 'sentiment': 13791, 'symantec': 13792, 'mumble': 13793, 'seasoning': 13794, 'johanna': 13795, 'lobbying': 13796, 'pixelation': 13797, 'intercom': 13798, 'variants': 13799, 'weirdly': 13800, 'xxvii': 13801, 'skycap': 13802, 'veronica': 13803, 'bishop': 13804, 'astros': 13805, 'jillion': 13806, 'pathetically': 13807, 'andreas': 13808, 'shrink': 13809, 'saf': 13810, 'grill': 13811, 'woes': 13812, 'payout': 13813, 'fuller': 13814, 'discontinuing': 13815, 'heyday': 13816, 'intimidating': 13817, 'balloon': 13818, 'savannah': 13819, 'carbonated': 13820, 'roam': 13821, 'representing': 13822, 'gadget': 13823, 'lunches': 13824, 'olives': 13825, 'ids': 13826, 'smarter': 13827, 'fuzzy': 13828, 'scarf': 13829, 'finna': 13830, 'alibi': 13831, 'elses': 13832, 'metropcs': 13833, '♡': 13834, 'eduardo': 13835, 'vk': 13836, 'protections': 13837, 'genres': 13838, 'rcvd': 13839, 'lactate': 13840, 'introduced': 13841, 'bells': 13842, 'jennalundh': 13843, 'divert': 13844, 'motorsport': 13845, 'issuer': 13846, 'slices': 13847, 'researching': 13848, 'avoiding': 13849, '1952': 13850, 'soap': 13851, 'bbd': 13852, 'relocate': 13853, 'infuriated': 13854, '👇': 13855, 'lyn': 13856, 'noncellular': 13857, 'magnate': 13858, 'lottery': 13859, 'proudly': 13860, 'lambert': 13861, 'prep': 13862, 'makeup': 13863, 'alabama': 13864, 'ccc': 13865, '🚗': 13866, 'individually': 13867, 'annoyingly': 13868, 'maddieabbot': 13869, 'clarifies': 13870, 'huawei': 13871, 'recheck': 13872, 'goa': 13873, 'livestream': 13874, 'idol': 13875, 'beaten': 13876, 'tissue': 13877, 'appletv': 13878, 'oldest': 13879, 'farooq': 13880, 'cylinder': 13881, 'annoys': 13882, 'honking': 13883, 'overlap': 13884, 'swore': 13885, 'stratum': 13886, 'od': 13887, 'firebrand': 13888, 'registers': 13889, 'depths': 13890, 'documentary': 13891, 'icn': 13892, 'askd': 13893, '🎂': 13894, 'hemipteron': 13895, 'prescribe': 13896, 'wound': 13897, 'udder': 13898, '🎮': 13899, 'prince': 13900, 'bulkhead': 13901, 'nodal': 13902, 'computing': 13903, 'no1': 13904, 'cousins': 13905, 'primal': 13906, 'cathexis': 13907, 'representation': 13908, '☹️☹️': 13909, 'noodles': 13910, 'chilly': 13911, 'selena': 13912, 'gibberish': 13913, 'voda': 13914, '‼️': 13915, 'greece': 13916, 'exterior': 13917, 'suites': 13918, 'amzon': 13919, 'walks': 13920, 'customers’': 13921, 'brussels': 13922, 'succus': 13923, 'stalling': 13924, 'exclusion': 13925, 'tina': 13926, 'cameras': 13927, 'clitoris': 13928, 'repeal': 13929, 'hugepages': 13930, 'offload': 13931, 'clumsy': 13932, 'connecter': 13933, 'legible': 13934, 'discrepancy': 13935, 'aap': 13936, 'nhi': 13937, 'charley': 13938, 'xxxvii': 13939, 'bon': 13940, 'stacked': 13941, 'racked': 13942, '🙃🙃': 13943, 'catastrophe': 13944, 'diary': 13945, 'merch': 13946, '🤥': 13947, 'reordered': 13948, 'doings': 13949, 'ravens': 13950, 'fathom': 13951, 'horrifically': 13952, 'wellington': 13953, 'iphone8': 13954, 'imei': 13955, 'trunk': 13956, 'savoury': 13957, 'violations': 13958, 'advisement': 13959, 'sakartvelo': 13960, 'subsequent': 13961, 'hebdomadary': 13962, 'chargeable': 13963, 'enjoys': 13964, 'delayed”': 13965, 'marine': 13966, 'burster': 13967, 'footing': 13968, 'crooked': 13969, 'mascara': 13970, 'marco': 13971, '“me”': 13972, 'capped': 13973, 'shabu': 13974, 'arsenic': 13975, 'speck': 13976, 'krack': 13977, 'nando': 13978, '😭😭😭😭😭': 13979, 'integral': 13980, 'xoxo': 13981, 'rubber': 13982, 'obfuscate': 13983, 'ghana': 13984, 'rotation': 13985, 'sailing': 13986, 'axial': 13987, 'tomography': 13988, 'impolite': 13989, 'toc': 13990, 'desexualise': 13991, 'mill': 13992, 'mth': 13993, 'thirst': 13994, 'heathersaenz': 13995, 'cst': 13996, 'fs': 13997, 'dyed': 13998, 'mustard': 13999, 'morrison': 14000, 'h2o': 14001, 'democracy': 14002, 'cc2018': 14003, 'linear': 14004, '76': 14005, 'kinship': 14006, '380': 14007, 'clap': 14008, 'patien': 14009, 'admitting': 14010, 'causa': 14011, 'cartoon': 14012, 'immobilize': 14013, '5520': 14014, '48hours': 14015, 'numbr': 14016, 'outgrowth': 14017, 'uniforms': 14018, 'cups': 14019, '😞😞😞': 14020, 'gingerroot': 14021, 'mankind': 14022, 'significantly': 14023, 'owner’': 14024, 'explaination': 14025, 'swiftly': 14026, 'gull': 14027, 'horsley': 14028, 'unhealthy': 14029, 'addiction': 14030, 'pero': 14031, 'traded': 14032, 'child’': 14033, 'chapeau': 14034, '“’': 14035, 'gerard': 14036, 'stereo': 14037, 'muddied': 14038, 'scant': 14039, 'belatedly': 14040, 'peers': 14041, 'practicing': 14042, 'h8': 14043, 'manipulate': 14044, 'backs': 14045, 'louder': 14046, 'rugged': 14047, 'evaporate': 14048, 'amol': 14049, 'tylerroquemore': 14050, 'ascot': 14051, 'pendolino': 14052, 'pulls': 14053, 'overwhelmed': 14054, 'broadly': 14055, 'dud': 14056, 'swiftness': 14057, 'frome': 14058, 'deplorably': 14059, 'epsom': 14060, 'hockey': 14061, 'believer': 14062, 'g6': 14063, 'prohibition': 14064, 'secondary': 14065, 'disrespected': 14066, 'neon': 14067, 'belts': 14068, 'cameron': 14069, 'grt': 14070, 'complementary': 14071, 'painfulness': 14072, 'dissolve': 14073, 'mesa': 14074, 'servi': 14075, 'chains': 14076, 'chrysanthemum': 14077, 'somethings': 14078, 'shd': 14079, '�': 14080, 'xiii': 14081, 'measly': 14082, 'fractured': 14083, 'lowkey': 14084, '🆘': 14085, '😴': 14086, '25pm': 14087, 'hawaiian': 14088, 'paramount': 14089, 'sidewalk': 14090, '3min': 14091, 'gona': 14092, 'dm’ed': 14093, 'surname': 14094, 'smelt': 14095, 'initialize': 14096, 'arrested': 14097, 'obligated': 14098, 'tecno': 14099, 'touchscreen': 14100, 'idc': 14101, 'fryer': 14102, 'newsletter': 14103, 'bouquet': 14104, 'alcs': 14105, 'tls': 14106, 'blocker': 14107, 'freshly': 14108, 'airbus': 14109, 'quota': 14110, 'hygiene': 14111, 'lexus': 14112, 'quorn': 14113, 'operationally': 14114, 'clump': 14115, 'nemo': 14116, 'java': 14117, 'eleanor': 14118, 'shook': 14119, 'foresightful': 14120, 'fiance': 14121, 'greys': 14122, 'toned': 14123, 'presets': 14124, 'restraint': 14125, 'macerate': 14126, 'pantry': 14127, '107': 14128, 'inline': 14129, 'prevents': 14130, 'slue': 14131, 'obscure': 14132, 'pale': 14133, 'hck': 14134, 'chiefly': 14135, 'multipack': 14136, 'hotcakes': 14137, 'gregory': 14138, '2weeks': 14139, 'whiskey': 14140, 'secondly': 14141, 'attaching': 14142, 'referred': 14143, 'dating': 14144, 'sentiency': 14145, 'tiffin': 14146, 'folding': 14147, 'petra': 14148, 'overturned': 14149, '👏👏': 14150, 'precedence': 14151, 'defaulting': 14152, 'abuses': 14153, 'mathematics': 14154, 'tike': 14155, 'buyback': 14156, 'believably': 14157, 'upi': 14158, 'simone': 14159, 'deaths': 14160, 'auburn': 14161, 'centennial': 14162, 'ascendance': 14163, 'proactively': 14164, 'picket': 14165, 'justified': 14166, 'iet': 14167, 'vide': 14168, 'nontransferable': 14169, 'assurion': 14170, 'judgment': 14171, 'committing': 14172, 'decreasing': 14173, '2002': 14174, 'spur': 14175, 'deferred': 14176, 'straightforward': 14177, 'wangle': 14178, 'allianz': 14179, 'frames': 14180, 'oculus': 14181, 'marker': 14182, 'nontechnical': 14183, 'unwell': 14184, 'chunky': 14185, 'medications': 14186, 'walgreens': 14187, 'cs6': 14188, 'gander': 14189, 'jessicacanada': 14190, 'eternity': 14191, 'sonoma': 14192, 'southward': 14193, 'chin': 14194, 'prolonged': 14195, '£27': 14196, 'chalk': 14197, 'shelby': 14198, 'patricia': 14199, 'nomadic': 14200, 'pear': 14201, 'vodka': 14202, 'traditional': 14203, 'forks': 14204, 'mainstream': 14205, 'athletes': 14206, 'nauseous': 14207, 'unequal': 14208, 'coordination': 14209, 'donating': 14210, 'tension': 14211, '🖕🏽': 14212, 'paperless': 14213, 'jacci': 14214, 'spelled': 14215, 'designs': 14216, '🤒': 14217, 'poll': 14218, '8x': 14219, 'anatomy': 14220, 'retardation': 14221, 'guided': 14222, 'scanners': 14223, 'knowledgeable': 14224, 'aggravated': 14225, 'irony': 14226, 'candidates': 14227, 'oreo': 14228, '2b': 14229, 'characteristic': 14230, 'adenine': 14231, 'extort': 14232, '✔️': 14233, '🤣🤣🤣': 14234, '1234': 14235, 'denies': 14236, 'teeth': 14237, 'mailers': 14238, 'crushes': 14239, 'ttn': 14240, '64': 14241, 'owes': 14242, 'glued': 14243, '😭😭😭😭😭😭😭': 14244, 'monies': 14245, '2008': 14246, 'loveliest': 14247, 'manor': 14248, 'evacuated': 14249, 'politician': 14250, '£13': 14251, 'jape': 14252, 'grandparents': 14253, 'discriminate': 14254, 'kiddos': 14255, '🇬🇧': 14256, 'vincent': 14257, 'conducted': 14258, '✌': 14259, 'kew': 14260, '2days': 14261, 'timescales': 14262, 'grabbing': 14263, '72hours': 14264, 'poole': 14265, 'falsely': 14266, 'subsist': 14267, 'incentives': 14268, 'overbook': 14269, 'ranking': 14270, 'southbound': 14271, 'can´': 14272, 'carter': 14273, 'agony': 14274, 'karan': 14275, 'segments': 14276, 'ignores': 14277, 'applaud': 14278, 'corridor': 14279, 'pamela': 14280, 'competing': 14281, 'misbehaved': 14282, 'abit': 14283, 'module': 14284, 'reloaded': 14285, 'shade': 14286, 'cov': 14287, 'premises': 14288, 'thyroxin': 14289, 'misery': 14290, 'rill': 14291, 'slack': 14292, 'populate': 14293, 'flattop': 14294, '220': 14295, 'jelly': 14296, 'problematic': 14297, 'pix': 14298, 'ei': 14299, 'webmail': 14300, 'unreachable': 14301, 'fathers': 14302, 'infrequently': 14303, 'deciding': 14304, 'enforced': 14305, 'iphone6s': 14306, 'actin': 14307, 'pci': 14308, 'compliance': 14309, 'gamertags': 14310, 'memes': 14311, '66': 14312, 'friendliest': 14313, '5yo': 14314, 'javascript': 14315, 'revoir': 14316, 'imbecile': 14317, 'scoreboard': 14318, 'vertical': 14319, 'decidedly': 14320, 'gospel': 14321, 'sacks': 14322, 'roiled': 14323, 'misinformed': 14324, 'townspeople': 14325, 'convict': 14326, 'haphazardly': 14327, 'phased': 14328, 'beau': 14329, '🤞🏼': 14330, 'anaheim': 14331, '🙄😠': 14332, 'hanley': 14333, 'dino': 14334, 'barbacoa': 14335, 'nationalist': 14336, 'pkgs': 14337, 'crawl': 14338, 'orient': 14339, 'serves': 14340, 'cheeseburgers': 14341, 'madden': 14342, 'company’': 14343, 'suspected': 14344, 'witch': 14345, 'armrest': 14346, 'tocopherol': 14347, 'cfm': 14348, 'ya’ll': 14349, '15p': 14350, 'prakash': 14351, 'raining': 14352, 'directtv': 14353, 'finalized': 14354, 'rugeley': 14355, 'routings': 14356, 'karolina': 14357, 'dough': 14358, 'shoal': 14359, 'noticeable': 14360, 'muted': 14361, 'reconnecting': 14362, 'dried': 14363, 'idml': 14364, 'johannesburg': 14365, 'redirecting': 14366, 'longstanding': 14367, '900': 14368, '950': 14369, 'downgraded': 14370, 'alexgill': 14371, 'penrith': 14372, 'printers': 14373, 'picadilly': 14374, 'tonne': 14375, 'calibre': 14376, 'disconfirming': 14377, 'keeper': 14378, 'blossom': 14379, 'coffees': 14380, 'venting': 14381, '🇮🇳': 14382, 'glory': 14383, 'unsatisfactory': 14384, 'prole': 14385, 'nahi': 14386, 'overheat': 14387, 'huffy': 14388, 'disapprove': 14389, 'tram': 14390, 'brusque': 14391, 'forming': 14392, 'metrics': 14393, 'turvydom': 14394, 'circumscribed': 14395, '150mbps': 14396, 'thanking': 14397, 'taxation': 14398, 'prescription': 14399, 'rotating': 14400, 'comical': 14401, 'decimal': 14402, '810': 14403, 'cutie': 14404, '3h': 14405, 'angrier': 14406, 'reverence': 14407, 'buckets': 14408, 'isabel': 14409, 'unsecure': 14410, 'usance': 14411, 'gratuitous': 14412, 'professor': 14413, 'predatory': 14414, 'stepped': 14415, 'scomberomorus': 14416, 'marvellous': 14417, 'flashes': 14418, 'vexation': 14419, 'meghan': 14420, 'brobdingnagian': 14421, 'resync': 14422, 'plaster': 14423, 'paperwhite': 14424, 'linkedin': 14425, 'zack': 14426, 'rationalise': 14427, 'expressing': 14428, 'bihar': 14429, 'bountiful': 14430, 'racialist': 14431, 'hoosier': 14432, 'jeanette': 14433, 'hassan': 14434, 'refreshes': 14435, 'outset': 14436, 'dusty': 14437, 'rains': 14438, 'woe': 14439, 'repute': 14440, 'bx': 14441, 'laurel': 14442, 'milan': 14443, 'unfavorable': 14444, 'breakout': 14445, 'jonny': 14446, 'bookman': 14447, 'raggedy': 14448, 'earpods': 14449, 'leicester': 14450, 'tamworth': 14451, 'khaled': 14452, 'combination': 14453, 'impatient': 14454, 'favorable': 14455, 'eeuu': 14456, 'creditcard': 14457, 'weeklies': 14458, 'bracket': 14459, '💓': 14460, 'stt': 14461, 'fabulously': 14462, 'manned': 14463, 'mitt': 14464, 'laborious': 14465, 'bangladesh': 14466, '✌🏻': 14467, '11p': 14468, 'tiddler': 14469, 'sar': 14470, 'elisa': 14471, 'marrow': 14472, 'steaming': 14473, 'descriptive': 14474, 'involving': 14475, 'openings': 14476, 'shoping': 14477, 'tutorial': 14478, '“first': 14479, 'sentry': 14480, 'yvr': 14481, 'acoustic': 14482, 'hua': 14483, 'taiba': 14484, 'childhood': 14485, 'shoulda': 14486, 'displace': 14487, 'converting': 14488, 'spotiamb': 14489, 'painfully': 14490, 'graeme': 14491, 'kyu': 14492, 'licensed': 14493, '2003': 14494, 'darrow': 14495, 'kellie': 14496, 'cauliflower': 14497, 'foreman': 14498, 'kuch': 14499, 'raha': 14500, 'bungie': 14501, 'slammed': 14502, 'run”': 14503, '50lbs': 14504, 'reciprocal': 14505, 'ohm': 14506, 'fckn': 14507, 'energizing': 14508, 'paymnt': 14509, 'spy': 14510, 'garry': 14511, 'portout': 14512, '🌴☀️': 14513, 'you´re': 14514, '´ll': 14515, 'bloodshot': 14516, 'accumulation': 14517, 'balancing': 14518, 'efficiently': 14519, 'spt': 14520, 'svcs': 14521, 'walker': 14522, 'wolf': 14523, 'calgary': 14524, 'successor': 14525, 'moral': 14526, 'fervour': 14527, 'fahrenheit': 14528, 'piddling': 14529, 'promulgation': 14530, 'frill': 14531, 'accoun': 14532, 'unlocks': 14533, 'alimentary': 14534, 'famine': 14535, 'toaster': 14536, '170pn': 14537, 'theresa': 14538, 'hijacking': 14539, 'flowing': 14540, 'garlicky': 14541, 'unworthy': 14542, 'thinkpad': 14543, 'sidney': 14544, 'tollfree': 14545, 'recreated': 14546, 'smartcard': 14547, 'obnoxiously': 14548, 'onscreen': 14549, '401': 14550, 'stew': 14551, 'mums': 14552, 'thabks': 14553, 'pall': 14554, 'profound': 14555, 'valve': 14556, 'waist': 14557, 'assed': 14558, 'poles': 14559, 'colleges': 14560, 'fridges': 14561, 'dongle': 14562, 'sling': 14563, 'experiance': 14564, '2c': 14565, 'alluviation': 14566, 'fortnite': 14567, 'ci': 14568, 'consecutive': 14569, 'stillborn': 14570, 'melbourne': 14571, 'vernacular': 14572, 'awaited': 14573, 'metropolitan': 14574, 'components': 14575, 'epitome': 14576, 'prostate': 14577, 'antigen': 14578, 'aline': 14579, 'catastrophic': 14580, 'f1': 14581, 'judicial': 14582, '3mins': 14583, 'sordid': 14584, 'recurrence': 14585, 'marsh': 14586, 'sio': 14587, 'mtu': 14588, 'appliances': 14589, 'infront': 14590, 'finalise': 14591, 'bangor': 14592, 'idealistic': 14593, 'concept': 14594, 'tat': 14595, 'frantic': 14596, 'intrnt': 14597, 'eire': 14598, 'supercenter': 14599, 'holla': 14600, 'changeover': 14601, 'wrecking': 14602, 'ctd': 14603, 'consulate': 14604, '35p': 14605, 'creeping': 14606, 'soya': 14607, 'docks': 14608, 'f3': 14609, 'saddens': 14610, 'thur': 14611, 'multiplication': 14612, 'detachment': 14613, 'hiccups': 14614, 'argosireland': 14615, 'perennial': 14616, 'eleko': 14617, 'bricks': 14618, 'rez': 14619, 'vijay': 14620, 'cha': 14621, '118': 14622, 'creditor': 14623, 'ufc': 14624, 'mummy': 14625, 'huntingdon': 14626, 'tellin': 14627, 'rite': 14628, '“how': 14629, '😩🙄': 14630, 'unfulfilled': 14631, 'structure': 14632, 'systemic': 14633, 'chaps': 14634, 'remembering': 14635, 'attn': 14636, 'lacy': 14637, 'undies': 14638, 'risks': 14639, 'nipponese': 14640, 'cached': 14641, 'upseting': 14642, 'lf': 14643, 'servant’': 14644, 'luving': 14645, 'attitudes—people': 14646, 'fog': 14647, 'recieving': 14648, 'angrily': 14649, 'gracious': 14650, 'pbi': 14651, 'hedge': 14652, 'animations': 14653, 'smc': 14654, 'nvram': 14655, 'footmark': 14656, 'intoxication': 14657, 'picc': 14658, '2moro': 14659, 'taylor’': 14660, 'whoo': 14661, '😊✈️': 14662, '25mbps': 14663, '200mbps': 14664, '125mph': 14665, 'nfs': 14666, 'sheerid': 14667, 'muse': 14668, 'splash': 14669, 'maze': 14670, 'peeler': 14671, 'shampoo': 14672, 'atmos': 14673, '🐱': 14674, 'applecare': 14675, 'election': 14676, '1805': 14677, 'clues': 14678, 'abigailroach': 14679, 'issue”': 14680, 'meh': 14681, 'soreness': 14682, 'overcharges': 14683, 'holborn': 14684, 'ceylon': 14685, 'persuaded': 14686, 'courageous': 14687, 'addl': 14688, 'd17': 14689, 'preg': 14690, 'alliance': 14691, 'integrated': 14692, 'calamitous': 14693, 'sweats': 14694, 'urm': 14695, 'bide': 14696, 'completly': 14697, 'audrey': 14698, 'fairbanks': 14699, 'imposing': 14700, 'bing': 14701, 'maths': 14702, '5d': 14703, 'warwick': 14704, 'capping': 14705, 'disposal': 14706, 'lager': 14707, 'teatime': 14708, 'takeaway': 14709, 'reclining': 14710, 'iterate': 14711, 'persn': 14712, '100rs': 14713, '55pm': 14714, 'burbank': 14715, 'hundredth': 14716, 'lexington': 14717, 'pixel2': 14718, 'procreate': 14719, 'nebraska': 14720, 'depleted': 14721, 'colder': 14722, 'harley': 14723, 'journal': 14724, 'dirk': 14725, 'gently': 14726, 'grimace': 14727, 'anus': 14728, '😈': 14729, 'vexing': 14730, 'that‘': 14731, 'harlow': 14732, 'jorden': 14733, 'diffident': 14734, 'slacken': 14735, '🌴': 14736, 'rando': 14737, '😂😩': 14738, 'jalapeño': 14739, 'cyclists': 14740, '1550': 14741, 'parachuting': 14742, 'naa': 14743, 'djconstable': 14744, 'mso': 14745, 'sylvia': 14746, 'coors': 14747, 'deliverd': 14748, 'yu': 14749, 'kasia': 14750, '´ve': 14751, 'plotted': 14752, 'annul': 14753, 'catchup': 14754, 'fueled': 14755, 'heif': 14756, 'roots': 14757, 'squeaky': 14758, 'receivers': 14759, '1015': 14760, 'touchpad': 14761, 'tinned': 14762, 'anu': 14763, 'whopping': 14764, 'townes': 14765, 'counselor': 14766, 'hawks': 14767, '0717': 14768, 'bsk': 14769, 'obturate': 14770, 'fascinated': 14771, 'iot': 14772, 'stitches': 14773, 'typos': 14774, 'u2f': 14775, 'cartel': 14776, 'branching': 14777, 'methamphetamine': 14778, '£89': 14779, '‘out': 14780, 'multiverse': 14781, 'semite': 14782, 'buzzed': 14783, 'deploying': 14784, 'emptying': 14785, 'domiciliation': 14786, 'slo': 14787, '59p': 14788, 'bothersome': 14789, 'alerting': 14790, 'frick': 14791, 'cearly': 14792, 'headless': 14793, 'uneven': 14794, 'whistle': 14795, 'stove': 14796, 'boxing': 14797, 'anderson': 14798, 'northbound': 14799, 'purrfect': 14800, 'incessant': 14801, 'magnifying': 14802, 'glendale': 14803, '2miles': 14804, 'grr': 14805, 'swiping': 14806, 'prayers': 14807, 'apple’': 14808, 'whispersync': 14809, 'bert': 14810, 'horrify': 14811, 'oranges': 14812, 'governance': 14813, 'edgware': 14814, 'tmrw': 14815, 'lucrative': 14816, 'messin': 14817, 'excluding': 14818, 'wh': 14819, 'iwatch': 14820, 'housemate': 14821, 'ventilated': 14822, 'quickness': 14823, 'argot': 14824, 'shields': 14825, 'trippin': 14826, 'ckp': 14827, 'elaboration': 14828, '🤪': 14829, 'theyll': 14830, 'couples': 14831, 'stead': 14832, 'malware': 14833, 'colours': 14834, 'ironically': 14835, 'registrar': 14836, 'condoms': 14837, 'handcart': 14838, 'township': 14839, '151': 14840, '“one': 14841, 'internet”': 14842, 'whiz': 14843, 'trimmer': 14844, 'lorena': 14845, 'pallid': 14846, 'kaleb': 14847, 'googling': 14848, 'hailey': 14849, 'vest': 14850, 'disqualify': 14851, 'cog': 14852, 'shareholders': 14853, 'poverty': 14854, 'equality': 14855, 'retool': 14856, 'toppings': 14857, 'tori': 14858, 'admirer': 14859, 'avatar': 14860, 'dork': 14861, 'dolls': 14862, 'habitual': 14863, 'mistrust': 14864, 'bo2': 14865, 'flight’': 14866, 'clubhouse': 14867, 'egbeda': 14868, 'remake': 14869, 'navy': 14870, 'complexity': 14871, '1m': 14872, 'ruefulness': 14873, 'pakistan': 14874, '21oct': 14875, 'prdct': 14876, '£12': 14877, 'thorough': 14878, 'mechanics': 14879, 'livestock': 14880, 'eqds': 14881, 'russians': 14882, 'programing': 14883, 'suns': 14884, 'claude': 14885, 'lion': 14886, 'deoxycytidine': 14887, 'hobo': 14888, 'lice': 14889, 'gentiles': 14890, 'pli': 14891, 'contracted': 14892, 'komal': 14893, 'omnibus': 14894, 'tiana': 14895, 'bundled': 14896, '🏿': 14897, 'bitten': 14898, 'foam': 14899, 'destruct': 14900, 'scored': 14901, 'plethora': 14902, 'housewarming': 14903, 'greased': 14904, 'runcorn': 14905, 'cheered': 14906, '😀😀😀': 14907, 'publicize': 14908, '22gb': 14909, 'voiced': 14910, 'jumpy': 14911, 'snl': 14912, 'galley': 14913, 'undergo': 14914, 'realignment': 14915, 'reqs': 14916, 'anish': 14917, 'sorries': 14918, 'prodct': 14919, 'achieved': 14920, 'kx': 14921, '1855': 14922, 'rive': 14923, 'avow': 14924, 'grapevine': 14925, 'sdq': 14926, 'orther': 14927, 'cacelled': 14928, 'thrones': 14929, 'denotation': 14930, 'gruff': 14931, 'cstmer': 14932, 'xbox360': 14933, 'bookcase': 14934, '610': 14935, 'peed': 14936, 'awb': 14937, 'stamford': 14938, 'persea': 14939, 'americana': 14940, '875': 14941, 'hairs': 14942, '137': 14943, 'examined': 14944, 'expressage': 14945, 'wight': 14946, 'beck': 14947, 'recognizes': 14948, 'frnds': 14949, 'ned': 14950, '😊✈': 14951, 'mixing': 14952, 'overestimate': 14953, 'coms': 14954, 'vouch': 14955, '🤤🤤🤤': 14956, 'up”': 14957, 'medals': 14958, 'unloose': 14959, 'intern': 14960, 'pest': 14961, 'outsourced': 14962, '“out': 14963, 'macabre': 14964, 'shouted': 14965, 'senders': 14966, '💥💥': 14967, 'bones': 14968, '1162': 14969, 'agwnt': 14970, 'rollox': 14971, 'dkd': 14972, 'checkpoint': 14973, 'tabular': 14974, '0700': 14975, 'toastie': 14976, 'raipur': 14977, 'filmdom': 14978, 'growth': 14979, 'hch': 14980, 'unsubscribing': 14981, 'anni': 14982, 'ole': 14983, 'glucinium': 14984, 'lyndsey': 14985, '280gb': 14986, 'xiaomi': 14987, 'reassure': 14988, 'figuratively': 14989, 'loops': 14990, 'imogen': 14991, 'assurant': 14992, 'spilled': 14993, 'soaked': 14994, 'haba': 14995, '8yr': 14996, 'guaranty': 14997, 'pek': 14998, 'coo': 14999, 'danke': 15000, 'compiling': 15001, 'ding': 15002, 'livingston': 15003, 'crates': 15004, 'nds': 15005, 'definitive': 15006, 'muddiness': 15007, 'cleanup': 15008, '🖕🖕🖕🖕🖕🖕🖕🖕🖕🖕🖕🖕🖕🖕🖕🖕🖕🖕🖕🖕🖕🖕🖕🖕🖕🖕🖕🖕': 15009, 'essex': 15010, 'allowances': 15011, 'hikes': 15012, 'foreigner': 15013, 'snapping': 15014, 'slips': 15015, '925': 15016, 'lakewood': 15017, 'lin': 15018, '😡😡😡😡😡😡😡': 15019, 'comped': 15020, '726': 15021, 'checkr': 15022, 'dismissive': 15023, 'mech': 15024, 'clockwork': 15025, 'cartilage': 15026, 'operose': 15027, 'consultants': 15028, 'watchos4': 15029, 'misrepresented': 15030, '“sorry”': 15031, 'unwillingness': 15032, 'warminster': 15033, 'dodger': 15034, 'gaurantee': 15035, 'fascinate': 15036, 'pwd': 15037, 'payday': 15038, 'colored': 15039, 'tights': 15040, 'slapped': 15041, '😤😤😤': 15042, 'casually': 15043, 'postie': 15044, 'smoothie': 15045, 'straighten': 15046, 'airbeds': 15047, '3xl': 15048, 'cooler': 15049, 'humane': 15050, 'saller': 15051, 'mulled': 15052, 'unattended': 15053, 'luxe': 15054, 'jeremiah': 15055, 'imply': 15056, 'pud': 15057, 'traumatized': 15058, 'administrative': 15059, 'opener': 15060, '6ft': 15061, 'knees': 15062, 'resultant': 15063, 'phyllis': 15064, 'twisted': 15065, 'terrorise': 15066, '“god’': 15067, 'codeshares': 15068, 'bloomington': 15069, 'lynette': 15070, 'twofold': 15071, 'htp': 15072, '0743': 15073, 'aweless': 15074, 'fourteenth': 15075, '1mbps': 15076, 'woth': 15077, 'harrassment': 15078, 'kristina': 15079, 'entitle': 15080, 'tater': 15081, 'sway': 15082, '😈😈😈😈': 15083, 'inconsistency': 15084, 'mistagged': 15085, 'toiletries': 15086, 'xliv': 15087, 'anchor': 15088, 'bounder': 15089, 'sewer': 15090, 'vid': 15091, 'gillingham': 15092, 'lento': 15093, 'jaw': 15094, 'rudy': 15095, 'a320': 15096, 'burlington': 15097, 'usmanarif': 15098, 'roundabout': 15099, 'businessman': 15100, 'specialty': 15101, 'coaching': 15102, 'tempo': 15103, 'melioration': 15104, 'containers': 15105, '£23': 15106, 'grandkids': 15107, 'abnormal': 15108, 'saul': 15109, 'haptic': 15110, 'bambino': 15111, 'capes': 15112, 'davis': 15113, 'bezos': 15114, 'emotionally': 15115, 'financing': 15116, 'collision': 15117, 'mouthful': 15118, 'flung': 15119, 'disrupting': 15120, '😖😖': 15121, 'scorpion': 15122, 'phungdao': 15123, 'dmya': 15124, 'rupert': 15125, 'sheath': 15126, 'superhost': 15127, 'myo2': 15128, 'sayin’': 15129, '2100': 15130, 'scurrilous': 15131, 'tylerbrown': 15132, 'preservatives': 15133, 'stansted': 15134, 'stx': 15135, 'n200': 15136, '7days': 15137, 'hgtv': 15138, 'lasagne': 15139, 'goat': 15140, 'flyfi': 15141, 'tracerts': 15142, 'boast': 15143, 'conservative': 15144, 'plural': 15145, 'employee’': 15146, '‘just': 15147, 'abba': 15148, 'refurbish': 15149, 'sexy': 15150, 'shamble': 15151, 'collins': 15152, 'delaware': 15153, 'shoppers': 15154, 'upbeat': 15155, 'comoany': 15156, 'easton': 15157, 'nougat': 15158, 'rinsing': 15159, '25p': 15160, 'bottomline': 15161, 'perilously': 15162, 'jeremyj': 15163, 'religion': 15164, 'preach': 15165, 'routinely': 15166, 'argued': 15167, 'pushy': 15168, 'apd': 15169, 'coronation': 15170, 'tale': 15171, 'tivo': 15172, 'stake': 15173, 'quantum': 15174, 'crouch': 15175, 'allyson': 15176, 'supererogatory': 15177, 'handful': 15178, 'haircut': 15179, 'imy': 15180, 'motivate': 15181, 'nora': 15182, 'disastrous': 15183, 'reluctant': 15184, 'amezon': 15185, 'reordering': 15186, 'cupertino': 15187, 'spiel': 15188, 'dictation': 15189, 'dvt': 15190, 'belittled': 15191, 'evidences': 15192, 'jada': 15193, 'deterioration': 15194, 'slogans': 15195, 'chang': 15196, 'fangs': 15197, 'flicks': 15198, 'maureen': 15199, '335': 15200, '4km': 15201, 'prestiging': 15202, 'equation': 15203, 'resched': 15204, 'gangway': 15205, 'aleka': 15206, 'excluded': 15207, 'camper': 15208, 'milo': 15209, 'rgb': 15210, 'hexad': 15211, 'legendary': 15212, '112': 15213, 'slay': 15214, 'xxxviii': 15215, 'drowning': 15216, 'relies': 15217, 'toffee': 15218, '30ish': 15219, '182': 15220, 'streatham': 15221, 'chow': 15222, 'periodically': 15223, 'critique': 15224, 'cnxn': 15225, 'asn': 15226, '75mb': 15227, 'grief': 15228, 'thn': 15229, 'waterford': 15230, 'lining': 15231, '🤷\\u200d♂️': 15232, 'dreamy': 15233, 'overtake': 15234, 'almighty': 15235, 'conman': 15236, '375': 15237, 'bakers': 15238, 'bellevue': 15239, 'deteriorating': 15240, 'auctions': 15241, 'ballpark': 15242, 'incumbrance': 15243, 'rooted': 15244, 'ext': 15245, '👌👌👌': 15246, 'brow': 15247, 'error”': 15248, '🥃': 15249, 'bothers': 15250, 'aparently': 15251, 'donjon': 15252, 'a8': 15253, 'keri': 15254, 'rescan': 15255, 'preposterously': 15256, 'puta': 15257, 'cancled': 15258, '🖕🏼': 15259, 'economically': 15260, 'fright': 15261, 'bluntly': 15262, '“delivered”': 15263, 'perfection': 15264, 'aramex': 15265, 'compeer': 15266, 'impatiently': 15267, 'minority': 15268, 'diddle': 15269, 'vender': 15270, 'slap': 15271, 'snowflake': 15272, 'gook': 15273, 'arrows': 15274, 'durell': 15275, 'santosh': 15276, 'plugins': 15277, 'sofritas': 15278, 'conor': 15279, 'expects': 15280, 'ottoman': 15281, '🇲🇽': 15282, 'unseasoned': 15283, 'suicidal': 15284, 'transition': 15285, 'reverify': 15286, 'pita': 15287, '🦅': 15288, 'exceeds': 15289, 'destitute': 15290, 'mysteriously': 15291, '6700': 15292, 'cfpb': 15293, '200m': 15294, 'agra': 15295, 'similarly': 15296, 'directors': 15297, '1758': 15298, '3yrs': 15299, 'manish': 15300, '“video': 15301, 'idr': 15302, 'frosty': 15303, 'webapp': 15304, 'impost': 15305, '😫😩': 15306, 'ftp': 15307, 'waze': 15308, 'absolutley': 15309, 'markus': 15310, 'crook': 15311, 'sloe': 15312, 'tart': 15313, 'warrior': 15314, '126': 15315, '45m': 15316, 'radlett': 15317, 'sourdough': 15318, '😡😡😡😡😡😡': 15319, 'eyesight': 15320, 'goflexaccess': 15321, 'gasbag': 15322, 'remembers': 15323, 'asos': 15324, 'manoeuvre': 15325, '1511': 15326, 'forecast': 15327, '4620': 15328, 'disarray': 15329, 'hazelnut': 15330, 'miler': 15331, 'personality': 15332, 'rumours': 15333, 'barefoot': 15334, 'twirp': 15335, 'overtime': 15336, 'dateness': 15337, '52pm': 15338, 'persisted': 15339, 'tos': 15340, 'misdemeanor': 15341, 'noblewoman': 15342, 'hinderance': 15343, 'sofia': 15344, 'jacqueline': 15345, 'duly': 15346, 'devin': 15347, 'dishes': 15348, 'hazardous': 15349, '💀': 15350, 'passably': 15351, 'cuddles': 15352, 'gage': 15353, 'celiac': 15354, 'qualitative': 15355, 'cholsey': 15356, 'profiled': 15357, 'beverly': 15358, 'edmonton': 15359, 'comps': 15360, 'huw': 15361, 'smelly': 15362, '6hr': 15363, 'duggee': 15364, 'nominated': 15365, 'pulley': 15366, 'somthing': 15367, 'notorious': 15368, 'checkouts': 15369, 'reseting': 15370, 'cc15': 15371, '64gb': 15372, 'altercate': 15373, 'garageband': 15374, 'pincodes': 15375, '315': 15376, 'revue': 15377, 'pixilation': 15378, 'unnamed': 15379, 'stateside': 15380, 'cleaners': 15381, 'alias': 15382, 'oslo': 15383, 'jarrod': 15384, 'dislikes': 15385, 'amentia': 15386, 'suspense': 15387, 'overselling': 15388, 'offends': 15389, 'scots': 15390, 'rxs': 15391, 'hourlong': 15392, 'unadulterated': 15393, '🖕🏻': 15394, 'huluapi': 15395, 'networkoperationerror': 15396, '😁😁': 15397, 'lassi': 15398, 'airt': 15399, '40lb': 15400, '👓': 15401, 'sail': 15402, 'sayings': 15403, 'electron': 15404, 'bruised': 15405, 'btp': 15406, '773': 15407, 'strawberries': 15408, 'rqst': 15409, 'steer': 15410, 'lessons': 15411, 'distortion': 15412, 'recap': 15413, 'garth': 15414, 'cams': 15415, 'matrix': 15416, 'induction': 15417, 'mainline': 15418, 'aff': 15419, '🎉🎉🎉': 15420, 'saddle': 15421, 'aggrandizing': 15422, 'compound': 15423, 'slaying': 15424, 'larceny': 15425, 'kinesis': 15426, 'firehose': 15427, 'vpc': 15428, 'handwritten': 15429, 'eyeliner': 15430, 'havnt': 15431, 'world’': 15432, 'portable': 15433, 'wrt': 15434, 'unbearably': 15435, 'civilized': 15436, 'alienware': 15437, 'bulb': 15438, 'drunkard': 15439, 'lecturer': 15440, 'reside': 15441, '46pm': 15442, 'hallelujah': 15443, 'berkelium': 15444, 'quac': 15445, 'tearing': 15446, 'brampton': 15447, 'id’': 15448, 'renewals': 15449, '‘tis': 15450, 'satisfy': 15451, 'natalia': 15452, 'gag': 15453, 'michaela': 15454, '1rst': 15455, 'printhead': 15456, '🤷🏾\\u200d♀️': 15457, 'fervidness': 15458, 'dysfunctional': 15459, '“early': 15460, 'bird”': 15461, 'akash': 15462, 'ukmail': 15463, 'unelaborated': 15464, 'trampoline': 15465, 'sabotage': 15466, 'tye': 15467, 'bypassed': 15468, 'on”': 15469, 'embossment': 15470, 'lucas': 15471, 'nonrefundable': 15472, 'jody': 15473, 'instated': 15474, 'gimcrack': 15475, '❤️💙💛': 15476, 'michele': 15477, 'charming': 15478, 'cooker': 15479, 'homemade': 15480, 'cupcake': 15481, 'cult': 15482, 'affiliates': 15483, 'omni': 15484, 'nationality': 15485, 'parr': 15486, 'severs': 15487, '1kg': 15488, 'delisted': 15489, 'mph': 15490, 'uncomfortableness': 15491, 'shortforming': 15492, 'poe': 15493, 'warming': 15494, 'croutons': 15495, 'touches': 15496, 'inconveniently': 15497, '32kg': 15498, 'saturated': 15499, 'remorse': 15500, 'sonja': 15501, 'envisage': 15502, 'v20': 15503, 'expedia': 15504, 'vaibhav': 15505, 'joann': 15506, 'yoga': 15507, 'puzzled': 15508, 'herein': 15509, 'eighth': 15510, 'flavoured': 15511, 'booth': 15512, 'lastnight': 15513, 'penguin': 15514, 'safest': 15515, 'interstate': 15516, 'partner’': 15517, 'nuneaton': 15518, 'flicker': 15519, 'cds': 15520, 'basics': 15521, 'flux': 15522, 'tpm': 15523, 'sylvie': 15524, 'passively': 15525, 'baton': 15526, '2075': 15527, 'bnb': 15528, 'nutshell': 15529, 'shortened': 15530, 'cheadle': 15531, 'commodious': 15532, 'paging': 15533, 'tipped': 15534, '2019': 15535, 'resoluteness': 15536, 'leandra': 15537, 'carson': 15538, 'trooper': 15539, 'weighted': 15540, 'makj': 15541, 'turtle': 15542, 'scope': 15543, 'midair': 15544, 'maintance': 15545, 'explicitly': 15546, 'procurator': 15547, 'pestered': 15548, 'poppy': 15549, 'oof': 15550, 'fastness': 15551, 'webform': 15552, 'peaks': 15553, 'pir': 15554, 'muhammed': 15555, 'poisoned': 15556, 'producer': 15557, 'cogent': 15558, 'monitoring': 15559, 'antenna': 15560, 'yur': 15561, 'trackid': 15562, 'electronically': 15563, 'darth': 15564, 'roommates': 15565, 'uodate': 15566, 'mag': 15567, 'zooming': 15568, 'traumatize': 15569, 'indie': 15570, 'reversing': 15571, 'unceasing': 15572, 'theorise': 15573, '“fresh”': 15574, '4delivery': 15575, 'neets': 15576, 'evn': 15577, '2do': 15578, 'panini': 15579, 'balances': 15580, 'do”': 15581, 'fifteenth': 15582, '🙃🙃🙃🙃': 15583, 'bahamas': 15584, 'lianne': 15585, 'authorizations': 15586, 'libra': 15587, 'racists': 15588, 'abz': 15589, 'fines': 15590, 'freebies': 15591, 'synthetic': 15592, 'pumping': 15593, 'gpa': 15594, 'implementing': 15595, 'exaggerated': 15596, '12mbps': 15597, 'jai': 15598, 'conyers': 15599, 'enters': 15600, 'disoblige': 15601, 'conrad': 15602, 'rainbows': 15603, 'unicorns': 15604, 'kendrick': 15605, 'gasoline': 15606, 'flatbush': 15607, 'fronted': 15608, 'myy': 15609, 'vscr': 15610, 'skyrim': 15611, 'knoxville': 15612, 'inboxed': 15613, 'beyoncé': 15614, 'translating': 15615, 'bypass': 15616, 'demon': 15617, 'fairview': 15618, 'krishna': 15619, 'nic': 15620, 'ariel': 15621, 'ftr': 15622, 'isorait': 15623, 'indigo': 15624, 'iq': 15625, 'mohammed': 15626, '✈️✈️': 15627, 'tentative': 15628, 'ren': 15629, 'aggravation': 15630, 'relist': 15631, 'kaput': 15632, 'subscribtion': 15633, '100k': 15634, 'gamerscore': 15635, 'volt': 15636, 'nonfinancial': 15637, 'cyril': 15638, 'sloth': 15639, 'unpopular': 15640, 'custome': 15641, 'cbk': 15642, 'waster': 15643, 'snapchats': 15644, 'hauteur': 15645, 'uncanny': 15646, 'considerations': 15647, 'aks': 15648, 'westus2': 15649, 'westwood': 15650, 'invested': 15651, '“upgrade': 15652, 'd1': 15653, 'throttles': 15654, 'punishes': 15655, 'uverse': 15656, 'dividing': 15657, 'checkered': 15658, 'spirited': 15659, '5ghz': 15660, 'pore': 15661, 'tannoy': 15662, 'eddy': 15663, 'swapping': 15664, 'grandma’': 15665, 'politics': 15666, 'nitin': 15667, 'stubborn': 15668, 'cracks': 15669, 'hpenvyx360': 15670, 'symmetry': 15671, 'prey': 15672, 'supplant': 15673, 'socio': 15674, 'accountant': 15675, 'yards': 15676, 'pavement': 15677, 'extraordinarily': 15678, 'vancouver': 15679, 'attire': 15680, 'pillows': 15681, 'theyve': 15682, '🔥🔥': 15683, 'xenoblade': 15684, 'putty': 15685, 'untie': 15686, 'milling': 15687, '175': 15688, 'anteriority': 15689, 'augury': 15690, 'disbursement': 15691, 'rishma': 15692, 'fictional': 15693, 'optical': 15694, 'clapping': 15695, 'misbehave': 15696, 'tata': 15697, 'sth': 15698, 'ntwrk': 15699, 'angus': 15700, 'shopworn': 15701, 'dominika': 15702, '🌮🌮🌮': 15703, 'jounce': 15704, 'clark': 15705, 'refresher': 15706, 'friendliness': 15707, 'plush': 15708, 'coated': 15709, 'gratefully': 15710, 'perplexing': 15711, 'baggages': 15712, 'toes': 15713, 'alasdair': 15714, 'languages': 15715, 'raid': 15716, 'souvenir': 15717, '500gb': 15718, 'kailavendar': 15719, 'homers': 15720, 'notecase': 15721, 'autographed': 15722, 'wcdma': 15723, 'impressions': 15724, 'proto': 15725, 'indo': 15726, 'unconvincing': 15727, 'glebe': 15728, 'pringles': 15729, 'luciano': 15730, 'cursorily': 15731, '“check': 15732, 'password”': 15733, 'sighs': 15734, '™': 15735, 'josé': 15736, 'retford': 15737, 'savers': 15738, 'visually': 15739, '3p': 15740, 'forbearance': 15741, 'boyz': 15742, 'sew': 15743, 'versa': 15744, 'distinctive': 15745, 'provisioned': 15746, 'aghast': 15747, 'manning': 15748, 'liliana': 15749, 'winglets': 15750, 'jeni': 15751, 'rediculous': 15752, '👉🏾': 15753, 'easterly': 15754, 'tyke': 15755, 'coleen': 15756, 'costa': 15757, 'blacklisted': 15758, 'trollies': 15759, 'lar': 15760, '£65': 15761, 'influencer': 15762, 'hoddesdon': 15763, 'flatbread': 15764, 'sandwhich': 15765, 'vocalize': 15766, 'cald': 15767, '4m': 15768, 'alrdy': 15769, 'wallace': 15770, 'heaven': 15771, 'neutralise': 15772, 'timbre': 15773, 'scout': 15774, 'evolved': 15775, 'cow': 15776, 'hounslow': 15777, 'bsl': 15778, 'interpreter': 15779, 'nepa': 15780, 'ps4s': 15781, 'unbarred': 15782, 'exaggerating': 15783, 'paddingtons': 15784, 'brooklands': 15785, 'skimped': 15786, 'reintroduce': 15787, 'deepak': 15788, 'smartware': 15789, '🌅': 15790, 'corduroy': 15791, 'miller': 15792, 'builds': 15793, 'specter': 15794, 'taiwan': 15795, 'assit': 15796, 'reloading': 15797, 'norwegian': 15798, 'upp': 15799, 'accrue': 15800, 'gaya': 15801, 'jab': 15802, 'rahi': 15803, 'aloud': 15804, 'lashes': 15805, 'synchronization': 15806, 'pub': 15807, 'brute': 15808, 'incisively': 15809, 'indoor': 15810, 'bth': 15811, 'retrograde': 15812, 'agate': 15813, 'ftw': 15814, 'tocs': 15815, 'rucksack': 15816, 'hijacked': 15817, '😁😁😁': 15818, 'catalogues': 15819, 'unremitting': 15820, 'borne': 15821, 'brushed': 15822, 'deciliter': 15823, 'trashy': 15824, 'guardians': 15825, 'cubicle': 15826, 'muslim': 15827, 'warum': 15828, 'fierce': 15829, 'uniform': 15830, 'thrive': 15831, 'empathetic': 15832, 'slang': 15833, 'addie': 15834, 'henderson': 15835, 'lxii': 15836, 'spiritualist': 15837, 'patna': 15838, '😺': 15839, '£250': 15840, 'whining': 15841, 'mechanic': 15842, 'thinker': 15843, 'divvy': 15844, 'bakehouse': 15845, 'coffeehouse': 15846, 'mulch': 15847, 'calld': 15848, 'nanometre': 15849, 'gwen': 15850, 'minding': 15851, 'misuse': 15852, 'fateful': 15853, 'help🙏': 15854, 'bowlful': 15855, 'zombi': 15856, 'only’': 15857, 'downloadable': 15858, 'yahl': 15859, 'tropical': 15860, 'gloss': 15861, 'thai': 15862, 'denotative': 15863, 'hitchhike': 15864, 'rebuilt': 15865, '†': 15866, 'oblation': 15867, 'sergio': 15868, 'harrassed': 15869, 'logistica': 15870, 'unreasoning': 15871, 'indd': 15872, 'bets': 15873, 'teenage': 15874, 'pricks': 15875, 'elevation': 15876, 'wizards': 15877, '🍻': 15878, '640': 15879, 'oceans': 15880, 'cockcrow': 15881, 'petite': 15882, 'ludgate': 15883, 'gendered': 15884, 'camberley': 15885, 'eh3': 15886, '5da': 15887, 'subjected': 15888, 'academic': 15889, 'amazone': 15890, 'shittier': 15891, 'minded': 15892, 'tylor': 15893, 'fairs': 15894, 'friendlier': 15895, '“new”': 15896, 'cyw': 15897, 'meaningful': 15898, 'greener': 15899, 'censored': 15900, 'revvl': 15901, 'abeg': 15902, '😉😂': 15903, 'mistreated': 15904, 'overage': 15905, 'pranav': 15906, 'n1500': 15907, 'tabloid': 15908, 'bernard': 15909, 'venue': 15910, 'abbie': 15911, '5mb': 15912, 'keighley': 15913, 'fumigate': 15914, 'junkie': 15915, 'federative': 15916, 'inwardly': 15917, 'akshay': 15918, 'condensed': 15919, '496': 15920, 'n1': 15921, 'accou': 15922, 'enraged': 15923, 'chord': 15924, 'finances': 15925, 'poc': 15926, 'nkt': 15927, 'onex': 15928, 'everyones': 15929, 'chs': 15930, 'freely': 15931, 'palomar': 15932, 'wilton': 15933, 'breathe': 15934, 'wannabe': 15935, 'tatty': 15936, 'trisha': 15937, 'doral': 15938, 'obliged': 15939, 'puj': 15940, 'xxvi': 15941, 'cheeks': 15942, 'briefing': 15943, 'talented': 15944, 'emilie': 15945, 'crevice': 15946, 'f2': 15947, 'cartons': 15948, 'pints': 15949, 'maya': 15950, 'progressive': 15951, '°': 15952, 'courrier': 15953, 'headsets': 15954, 'codww2': 15955, 'shoulders': 15956, 'crumbled': 15957, 'unimaginable': 15958, 'brat': 15959, 'fresher': 15960, 'cermak': 15961, 'berwyn': 15962, 'unpaired': 15963, 'naan': 15964, 'rotting': 15965, 'landlord': 15966, 'a7': 15967, '07am': 15968, 'depressing': 15969, 'ripping': 15970, 'mayonnaise': 15971, 'nta': 15972, 'obligations': 15973, 'livelihoods': 15974, 'pearson': 15975, 'bef': 15976, 'gouging': 15977, 'swerving': 15978, 'nominative': 15979, 'wah': 15980, 'pitta': 15981, 'beep': 15982, '190': 15983, 'darker': 15984, 'stowing': 15985, 'jamal': 15986, 'snapshot': 15987, 'rhian': 15988, '355': 15989, 'electrician': 15990, 'enlighten': 15991, 'auction': 15992, 'chargeback': 15993, 'mofos': 15994, '‘boys’': 15995, 'criticize': 15996, 'arabic': 15997, 'scents': 15998, 'flavorless': 15999, 'trueness': 16000, 'geo': 16001, 'hurrah': 16002, 'bom': 16003, 'syd': 16004, 'mulct': 16005, 'qui': 16006, 'vive': 16007, '4hrs': 16008, 'vacay': 16009, 'dexter': 16010, 'elevated': 16011, 'segundo': 16012, 'macbookpro': 16013, 'sniper': 16014, 'armored': 16015, 'captions': 16016, 'portia': 16017, '😊👍': 16018, 'blueprint': 16019, 'anurag': 16020, 'cheddars': 16021, '1400': 16022, 'favs': 16023, 'evident': 16024, 'openhanded': 16025, 'szechwan': 16026, 'beside': 16027, 'houghton': 16028, 'regis': 16029, 'regrettable': 16030, 'adjusts': 16031, 'imperative': 16032, '756': 16033, '😭❤️': 16034, 'ehmb': 16035, 'terrify': 16036, 'hyperactivity': 16037, 'knives': 16038, 'kdp': 16039, 'thrower': 16040, 'ostwal': 16041, 'venter': 16042, 'lightening': 16043, 'alloa': 16044, 'schoolhouse': 16045, 'smartpost': 16046, 'nameless': 16047, 'abandoning': 16048, 'travellers': 16049, 'wardrobe': 16050, '‘genius’': 16051, 'willp': 16052, 'zillion': 16053, 'finishes': 16054, 'tash': 16055, 'willy': 16056, 'duo': 16057, 'submissions': 16058, 'resubscribe': 16059, 'apathetic': 16060, 'slump': 16061, 'automation': 16062, 'conform': 16063, 'googled': 16064, 'clubcards': 16065, 'florist': 16066, 'verse': 16067, 'asheville': 16068, 'swollen': 16069, 'proven': 16070, 'b10': 16071, 'ounces': 16072, 'obsolescence': 16073, 'gwrs': 16074, 'lair': 16075, 'primenow': 16076, '2hour': 16077, 'bcos': 16078, '2102': 16079, 'vicinity': 16080, 'unwrapped': 16081, 'jargon': 16082, 'devolve': 16083, 'makeover': 16084, 'median': 16085, 'freeway': 16086, '970': 16087, 'scoping': 16088, 'crosshair': 16089, 'provie': 16090, 'transpose': 16091, 'geordie': 16092, 'travesty': 16093, 'imminently': 16094, 'erratically': 16095, 'cnex': 16096, 'trish': 16097, 'yest': 16098, 'chevron': 16099, 'kym': 16100, 'twirl': 16101, 'overpaid': 16102, 'lambda': 16103, '“unlimited': 16104, 'desktops': 16105, 'abigail': 16106, 'goodmayes': 16107, 'backseat': 16108, 'sod': 16109, 'bifeather': 16110, 'shashwat': 16111, 'suniel': 16112, 'cari': 16113, 'lincoln': 16114, 'nett': 16115, 'sawbuck': 16116, 'ashabegum': 16117, 'thumbprint': 16118, 'raquel': 16119, 'mere': 16120, 'aed': 16121, 'glitcher': 16122, 'burton': 16123, 'plzz': 16124, 'reseller': 16125, 'trybe': 16126, 'southbest': 16127, 'winston': 16128, 'moose': 16129, 'tlh': 16130, 'xix': 16131, 'jumble': 16132, 'thumbnail': 16133, 'evrything': 16134, 'alarum': 16135, 'dialup': 16136, 'voting': 16137, 'rafael': 16138, 'antic': 16139, 'railhead': 16140, 'rhodes': 16141, 'tricia': 16142, 'tighten': 16143, 'loanword': 16144, 'fistful': 16145, 'jonporter': 16146, 'blr': 16147, 'elaborated': 16148, 'implicated': 16149, 'mantle': 16150, 'comic': 16151, 'lolol': 16152, 'mannikin': 16153, 'licences': 16154, 'samanthacassidy': 16155, 'whiteface': 16156, 'vibrate': 16157, 'lilia': 16158, 'footling': 16159, 'cytosine': 16160, 'lorries': 16161, 'blunder': 16162, 'treasure': 16163, 'grimes': 16164, 'corrode': 16165, 'obliterate': 16166, 'lawley': 16167, 'telford': 16168, 'struggled': 16169, 'cane': 16170, 'judicature': 16171, 'wana': 16172, 'salute': 16173, 'occurrent': 16174, 'lineage': 16175, 'annunciation': 16176, 'sprain': 16177, 'ver': 16178, 'battlefield': 16179, 'nascar': 16180, 'perishable': 16181, 'degrading': 16182, 'mofo': 16183, 'baguettes': 16184, 'turbulence': 16185, 'garment': 16186, '5km': 16187, '1722': 16188, 'ticketless': 16189, 'cohearts': 16190, 'steel': 16191, 'norway': 16192, 'vetting': 16193, 'wrack': 16194, 'jenniferrivera': 16195, 'durable': 16196, 'pappa': 16197, 'receved': 16198, 'homie': 16199, 'irrespective': 16200, 'cel': 16201, 'gallant': 16202, 'slaughter': 16203, '320': 16204, 'sac': 16205, 'distribute': 16206, 'renata': 16207, '863': 16208, '427': 16209, '22k': 16210, 'mebibyte': 16211, 'isd': 16212, 'urumqi': 16213, 'needless': 16214, 'jibe': 16215, 'edges': 16216, 'pestering': 16217, 'tuna': 16218, 'stealthily': 16219, 'entertain': 16220, 'evacuate': 16221, '30hrs': 16222, 'majuscule': 16223, 'forcefully': 16224, 'distinct': 16225, 'coles': 16226, 'typesetter': 16227, '🍺': 16228, 'unsuitable': 16229, 'rhode': 16230, 'hec': 16231, 'vege': 16232, 'ozumba': 16233, 'mbadiwe': 16234, '2500': 16235, 'luisa': 16236, 'mkc': 16237, 'rs10': 16238, 'everlastingly': 16239, 'sunil': 16240, 'depression': 16241, 'brass': 16242, 'alrighty': 16243, 'alpha': 16244, 'decider': 16245, 'csr’': 16246, 'denise': 16247, 'renewable': 16248, 'summit': 16249, 'notif': 16250, 'paired': 16251, 'voices': 16252, 'utilized': 16253, 'customer’': 16254, 'gigs': 16255, 'imperil': 16256, 'doha': 16257, 'boutta': 16258, 'hideous': 16259, 'deer': 16260, 'bankroll': 16261, 'extremity': 16262, 'tolerated': 16263, 'reassert': 16264, 'drake': 16265, 'wargrave': 16266, 'cots': 16267, 'deliverer': 16268, '12hours': 16269, 'blackwater': 16270, 'returnable': 16271, 'flatness': 16272, 'shuffled': 16273, 'replays': 16274, 'recommending': 16275, 'appealing': 16276, 'jobsworth': 16277, '100gb': 16278, 'underhanded': 16279, 'val': 16280, 'hdtv': 16281, 'foe': 16282, 'shiv': 16283, 'want2': 16284, 'antony': 16285, 'hacks': 16286, 'tinsel': 16287, 'beds': 16288, 'hyperlink': 16289, 'oversees': 16290, 'mnl': 16291, 'mara': 16292, 'rejects': 16293, '9k': 16294, 'malden': 16295, 'jacquelyn': 16296, 'consult': 16297, '7p': 16298, 'byod': 16299, 'giftcards': 16300, 'vonesha': 16301, 'orotund': 16302, 'cluck': 16303, 'hahhaha': 16304, 'kolkata': 16305, 'news”': 16306, 'xtra': 16307, 'vacancies': 16308, 'paybill': 16309, 'dug': 16310, 'dsm': 16311, 'bane': 16312, '£28': 16313, 'frivol': 16314, 'abstract': 16315, 'luk': 16316, 'unhealthful': 16317, 'lotta': 16318, 'shekels': 16319, 'malva': 16320, 'sylvestris': 16321, 'preferring': 16322, 'poppin': 16323, 'recyclable': 16324, 'pretended': 16325, 'uncross': 16326, 'tabatha': 16327, 'gaa': 16328, 'ud': 16329, 'regained': 16330, 'mockery': 16331, 'spire': 16332, 'booty': 16333, 'charcoal': 16334, 'delvrd': 16335, 'member”': 16336, 'awakening': 16337, 'farnham': 16338, 'disingenuous': 16339, 'bunker': 16340, 'newmarket': 16341, 'logitech': 16342, 'consolation': 16343, 'd7': 16344, '799': 16345, 'dubble': 16346, 'netherfield': 16347, 'keybank': 16348, 'shaped': 16349, 'intensity': 16350, 'qualifies': 16351, 'wimp': 16352, 'powerpoint': 16353, 'discompose': 16354, 'mhm': 16355, 'ach': 16356, 'ment': 16357, 'dslr': 16358, '500rs': 16359, 'xlviii': 16360, 'highlighting': 16361, '££': 16362, 'recomend': 16363, 'neath': 16364, 'mite': 16365, 'undertake': 16366, 'bald': 16367, 'brit': 16368, 'cosmos': 16369, 'racecourse': 16370, 'varying': 16371, 'networking': 16372, 'epos': 16373, '41pm': 16374, 'elusive': 16375, 'loum': 16376, 'riverside': 16377, 'vizio': 16378, 'caffeine': 16379, 'homer': 16380, 'spat': 16381, 'outtage': 16382, 'flirt': 16383, 'abrasive': 16384, 'collector': 16385, 'restrictive': 16386, 'arive': 16387, 'polar': 16388, 'payega': 16389, 'willingly': 16390, '1137': 16391, 'g5s': 16392, 'afoul': 16393, 'seacoast': 16394, '409': 16395, 'prone': 16396, 'postpone': 16397, 'illustrated': 16398, 'drift': 16399, 'wedges': 16400, 'swho': 16401, 'liaise': 16402, '8gb': 16403, 'owl': 16404, 'viscount': 16405, 'coil': 16406, 'bark': 16407, 'ditching': 16408, 'vestibule': 16409, 'bcn': 16410, 'blackness': 16411, 'pledge': 16412, 'underpowered': 16413, '’ham': 16414, 'differs': 16415, 'cancs': 16416, 'decency': 16417, 'twoscore': 16418, 'stance': 16419, 'outing': 16420, 'raises': 16421, 'variance': 16422, 'systemwide': 16423, 'awol': 16424, 'pns': 16425, 'cadbury': 16426, 'reduces': 16427, 'randi': 16428, 'compton': 16429, 'scrape': 16430, 'chamfer': 16431, 'michiel': 16432, 'tonite': 16433, 'seizure': 16434, 'deprivation': 16435, 'nevr': 16436, '2km': 16437, 'regulation': 16438, 'flippant': 16439, 'hector': 16440, 'undefended': 16441, 'cer': 16442, 'mapped': 16443, 'huddle': 16444, '70k': 16445, 'augusta': 16446, 'collisions': 16447, 'psu': 16448, 'edits': 16449, 'fundraiser': 16450, 'pelham': 16451, 'carnage': 16452, 'inculpation': 16453, 'resistant': 16454, 'shove': 16455, 'nagpur': 16456, 'penalties': 16457, 'carmensipes': 16458, 'mowgli': 16459, 'newsworthiness': 16460, 'berlin': 16461, 'lieing': 16462, 'mutually': 16463, 'unavoidable': 16464, 'coldest': 16465, 'poppers': 16466, 'fasttrack': 16467, 'finaly': 16468, 'presence': 16469, 'owning': 16470, 'disengage': 16471, 'mfs': 16472, 'florence': 16473, 'pooch': 16474, 'behaved': 16475, 'iget': 16476, 'vacaville': 16477, 'barney': 16478, 'betoken': 16479, 'jaimie': 16480, 'snarky': 16481, 'mailer': 16482, 'reship': 16483, 'men’': 16484, 'jackets': 16485, 'seeable': 16486, 'cleanliness': 16487, 'tunde': 16488, 'abbot': 16489, 'escrow': 16490, '🤷🏽\\u200d♀️': 16491, 'payment”': 16492, 'serena': 16493, 'overjoyed': 16494, 'laggin': 16495, 'dangers': 16496, 'flimsy': 16497, 'preload': 16498, 'screening': 16499, 'banging': 16500, 'poorer': 16501, '😸': 16502, 'baffling': 16503, 'laserjet': 16504, 'filipino': 16505, 'smear': 16506, 'miyapur': 16507, 'revolution': 16508, 'bulletin': 16509, 'extract': 16510, 'pigeons': 16511, 'dismaying': 16512, 'ascribe': 16513, 'brutally': 16514, 'tump': 16515, '🌈🌈🌈': 16516, 'screams': 16517, 'deicing': 16518, 'shenanigans': 16519, 'scar': 16520, 'remix': 16521, 'chivy': 16522, 'saya': 16523, 'dong': 16524, 'wonderment': 16525, 'lade': 16526, 'dialog': 16527, 'foreboding': 16528, 'damp': 16529, 'aide': 16530, 'tribute': 16531, 'repetitively': 16532, 'lowlife': 16533, 'pas': 16534, 'loudspeaker': 16535, 'acquired': 16536, 'recaptcha': 16537, 'vagas': 16538, '£1k': 16539, 'farad': 16540, 'fitness': 16541, 'p1': 16542, '0807': 16543, '–lindsey': 16544, '💻': 16545, 'grainy': 16546, 'peope': 16547, '😍✈️': 16548, 'teammates': 16549, 'yogesh': 16550, 'dumps': 16551, 'pickles': 16552, 'ayy': 16553, 'slit': 16554, 'outdoors': 16555, 'punctual': 16556, 'ravi': 16557, 'cameronmadore': 16558, 'beacuse': 16559, 'again”': 16560, 'saz': 16561, 'supervisordr': 16562, 'sherry': 16563, 'pushback': 16564, '😱😱😱': 16565, 'xbl': 16566, 'seige': 16567, 'champ': 16568, 'frigidity': 16569, '“supervisor”': 16570, 'thug': 16571, '530': 16572, '535': 16573, '545': 16574, 'airprint': 16575, 'manila': 16576, 'slippers': 16577, '🍔🍟': 16578, 'celebs': 16579, 'embrown': 16580, 'infrequent': 16581, 'gillian': 16582, 'goddamnit': 16583, 'xox': 16584, 'pisces': 16585, 'brink': 16586, 'pulse': 16587, 'iss': 16588, 'bonga': 16589, 'tesco’': 16590, 'styles': 16591, 'sennheiser': 16592, 'becoz': 16593, 'razr': 16594, 'modal': 16595, 'teammate': 16596, 'shelbymartin': 16597, 'busybodied': 16598, 'detecting': 16599, 'sources': 16600, 'portuguese': 16601, 'muffins': 16602, 'legete': 16603, 'heart’': 16604, 'scares': 16605, 'defer': 16606, 'nugget': 16607, 'sparkle': 16608, 'snakes': 16609, '🐍': 16610, 'faithfully': 16611, 'nagar': 16612, 'jenni': 16613, 'givin': 16614, 'regulatory': 16615, 'ip7': 16616, 'sparkly': 16617, 'sexuality': 16618, 'marble': 16619, 'frankfurt': 16620, 'gingerbread': 16621, 'aristo': 16622, 'paradise': 16623, 'mirror': 16624, 'strap': 16625, 'ncis': 16626, 'arnab': 16627, 'justinphillips': 16628, 'week’': 16629, 'pram': 16630, 'replication': 16631, 'topology': 16632, 'installs': 16633, 'reticle': 16634, 'competitions': 16635, 'lukas': 16636, 'spellings': 16637, 'hallmark': 16638, 'regime': 16639, 'declaring': 16640, 'inconvience': 16641, 'jackfruit': 16642, 'evilness': 16643, 'tomb': 16644, 'has2be': 16645, 'climbing': 16646, 'payment2mk': 16647, 'bride': 16648, 'faxed': 16649, 'referenced': 16650, 'taper': 16651, 'skid': 16652, 'lockers': 16653, 'srinagar': 16654, '₹100': 16655, 'punishment': 16656, 'naive': 16657, 'trainwreck': 16658, 'specifying': 16659, 'overlay': 16660, 'lagos': 16661, 'veridical': 16662, 'tomfool': 16663, 'shatter': 16664, 'sideways': 16665, 'advocates': 16666, '1700': 16667, 'ernest': 16668, 'wonky': 16669, 'replicated': 16670, 'retweets': 16671, 'arcsecond': 16672, 'syfy': 16673, 'markets': 16674, 'photobombs': 16675, 'memo': 16676, 'ivrs': 16677, 'triiodothyronine': 16678, 'busting': 16679, 'chrge': 16680, 'crd': 16681, 'clunky': 16682, 'undependable': 16683, 'watertown': 16684, 'inverse': 16685, 'marinara': 16686, 'jessa': 16687, '🛒': 16688, 'alfred': 16689, 'ohare': 16690, '12hr': 16691, 'wkend': 16692, 'quotes': 16693, 'pandemonium': 16694, 'teamwork': 16695, 'obsauced': 16696, '50am': 16697, 'pedal': 16698, 'multichoice': 16699, '☀️': 16700, 'pkwy': 16701, 'cigarettes': 16702, 'resumes': 16703, 'cxl': 16704, 'welling': 16705, 'unofficial': 16706, 'nvidia': 16707, 'moore': 16708, 'wines': 16709, 'breakthrough': 16710, 'flicking': 16711, 'bila': 16712, 'stepdad': 16713, 'mallory': 16714, '\\u200b\\u200b\\u200b\\u200b\\u200b\\u200b\\u200b\\u200b\\u200b': 16715, 'pjs': 16716, 'declan': 16717, 'seler': 16718, 'fil': 16719, 'doubletree': 16720, 'employing': 16721, 'capitalism': 16722, 'avery': 16723, 'joslynlajoie': 16724, 'shifting': 16725, 'appdata': 16726, 'casper': 16727, 'haunted': 16728, 'a330': 16729, 'bak': 16730, 'remembered': 16731, 'lst': 16732, 'moms': 16733, 'motorcycle': 16734, 'farnborough': 16735, 'mackenzie': 16736, 'dannyharvey': 16737, '🙄😭': 16738, 'proxy': 16739, 'lilly': 16740, 'hocus': 16741, 'stained': 16742, 'drubbing': 16743, 'bilk': 16744, 'oldfield': 16745, 'penge': 16746, 'ciabatta': 16747, 'vega': 16748, 'evrytime': 16749, 'plese': 16750, 'rupees': 16751, 'slash': 16752, 'ambiguity': 16753, 'disparity': 16754, 'eform': 16755, 'reenforcement': 16756, 'halve': 16757, 'connie': 16758, '1002': 16759, 'loony': 16760, 'soonest': 16761, 'luna': 16762, 'spoon': 16763, 'hednesford': 16764, 'polluting': 16765, 'ciera': 16766, 'ahmad': 16767, 'escorted': 16768, 'disapointment': 16769, 'shorted': 16770, 'countersink': 16771, 'pica': 16772, 'rebranding': 16773, 'sedimentation': 16774, 'elastic': 16775, 'fitted': 16776, 'dispose': 16777, 'indolent': 16778, '😏😏😏😏': 16779, 'chitchat': 16780, 'concentrated': 16781, 'snatch': 16782, 'smoothest': 16783, 'winnersh': 16784, 'gifs': 16785, 'bodies': 16786, 'amplitude': 16787, 'twelfth': 16788, 'hii': 16789, 'lul': 16790, 'reappraisal': 16791, 'gimmicks': 16792, 'preeminence': 16793, 'anxiousness': 16794, 'avois': 16795, '197': 16796, '₹150': 16797, 'minimize': 16798, 'montanadaniels': 16799, 'meaghan': 16800, 'myfios': 16801, 'campaigns': 16802, 'ledbury': 16803, '1836': 16804, 'raphael': 16805, 'nc6': 16806, 'dickheads': 16807, 'gsm': 16808, 'agin': 16809, 'avon': 16810, 'noida': 16811, 'levy': 16812, 'importunity': 16813, 'dishonestly': 16814, 'admiration': 16815, '1300': 16816, 'anirban': 16817, 'derian': 16818, 'bluegrass': 16819, 'swerve': 16820, '35am': 16821, 'penalization': 16822, 'xxviii': 16823, 'reeked': 16824, 'adhesion': 16825, 'aston': 16826, 'electrification': 16827, 'himanshu': 16828, 'detriment': 16829, 'amply': 16830, 'concession': 16831, 'bart': 16832, 'crediting': 16833, 'immaculate': 16834, 'didnot': 16835, 'porridge': 16836, 'handforth': 16837, 'cheshire': 16838, 'toggling': 16839, 'inactivate': 16840, 'permutation': 16841, '💀💀': 16842, 'manufacture': 16843, 'jonathon': 16844, 'jdg': 16845, 'confined': 16846, 'i7': 16847, 'harmless': 16848, 'cigarette': 16849, 'vaping': 16850, 'woudn': 16851, 'covent': 16852, '“yeah': 16853, 'delicacy': 16854, 'bungle': 16855, 'haggard': 16856, '🚮': 16857, 'destroyer': 16858, 'quedgeley': 16859, '0713': 16860, 'propaganda': 16861, 'cuss': 16862, 'knead': 16863, '5yr': 16864, 'oat': 16865, 'korea': 16866, 'downright': 16867, 'meddling': 16868, 'insides': 16869, 'lynsey': 16870, '👍👏': 16871, 'thursdays': 16872, 'nappy': 16873, 'twins': 16874, 'galleries': 16875, 'palace': 16876, 'leeway': 16877, 'shity': 16878, 'softwood': 16879, 'embarkment': 16880, 'editions': 16881, 'padding': 16882, 'bexleyheath': 16883, '1d': 16884, 'vocalisation': 16885, 'shades': 16886, 'anticipating': 16887, 'qualcomm': 16888, 'cocky': 16889, 'flote': 16890, 'capetown': 16891, 'melvin': 16892, 'detainment': 16893, 'manufacturers': 16894, 'pasties': 16895, 'mohd': 16896, 'ludicrously': 16897, 'suitably': 16898, 'sorcery': 16899, 'weigh': 16900, 'unnaceptable': 16901, 'baguette': 16902, '165': 16903, '166': 16904, 'sanjay': 16905, 'pesto': 16906, 'brudda': 16907, 'gtf': 16908, 'phrases': 16909, 'abbreviation': 16910, 'brigade': 16911, 'reactivating': 16912, 'performs': 16913, 'jigaboo': 16914, 'envoy': 16915, 'drs': 16916, 'cutest': 16917, 'weetle': 16918, 'decor': 16919, 'chic': 16920, 'itouch': 16921, 'sydney': 16922, 'invitee': 16923, 'dta': 16924, '235': 16925, 'rply': 16926, 'hourly': 16927, 'chapiter': 16928, '🏀': 16929, 'yul': 16930, 'arizona': 16931, 'unblocked': 16932, 'yeezys': 16933, 'woops': 16934, 'hypothetically': 16935, 'deposition': 16936, 'agn': 16937, 'marathi': 16938, 'condones': 16939, 'positivity': 16940, 'offloaded': 16941, 'goody': 16942, 'advisory': 16943, 'jos': 16944, 'ue': 16945, 'confetti': 16946, 'ticketmaster': 16947, 'devoid': 16948, 'verbally': 16949, 'onesie': 16950, 'homecoming': 16951, 'delivry': 16952, 'gilbert': 16953, 'passel': 16954, 'stevie': 16955, 'ba0326': 16956, '£26': 16957, '720': 16958, 'gel': 16959, 'vagabond': 16960, 'romance': 16961, 'turnaround': 16962, 'cde': 16963, 'badges': 16964, 'awarded': 16965, 'finalize': 16966, 'tantalize': 16967, 'realness': 16968, 'zea': 16969, 'everta': 16970, 'shan': 16971, 'thornton': 16972, 'pleading': 16973, 'firetv': 16974, 'series1': 16975, 'mungo': 16976, 'baubles': 16977, 'isit': 16978, 'roberto': 16979, 'wii': 16980, 'cooperate': 16981, 'worle': 16982, 'commodity': 16983, 'shamed': 16984, 'squirrel': 16985, 'tiring': 16986, 'sickly': 16987, 'lectures': 16988, 'compulsory': 16989, 'cts': 16990, 'spiral': 16991, 'knowingly': 16992, 'coughing': 16993, 'pharynx': 16994, '“error”': 16995, 'howard': 16996, 'pari': 16997, 'danlawrence': 16998, 'conveyor': 16999, 'romantic': 17000, 'empower': 17001, 'buyout': 17002, '£82': 17003, 'charts': 17004, 'snagged': 17005, 'appallingly': 17006, 'visibly': 17007, 'staggering': 17008, 'muffled': 17009, 'rno': 17010, 'manageable': 17011, 'dianna': 17012, 'embarrass': 17013, 'madder': 17014, 'clang': 17015, 'creep': 17016, 'nativity': 17017, 'pardner': 17018, 'dbq': 17019, 'rave': 17020, 'hudson': 17021, 'nrt': 17022, 'whitechapel': 17023, '825': 17024, 'checker': 17025, 'lind': 17026, 'downward': 17027, 'fairer': 17028, 'bullshitting': 17029, 'teredo': 17030, 'conceal': 17031, 'obama': 17032, 'chairman': 17033, 'homescreen': 17034, 'reappeared': 17035, 'regularise': 17036, 'deletes': 17037, 'sweeter': 17038, 'takeout': 17039, 'losses': 17040, 'bo1': 17041, 'withheld': 17042, 'amazed': 17043, 'tracer': 17044, 'disorganized': 17045, 'originals': 17046, '21f': 17047, '1077': 17048, 'curt': 17049, 'aliciabanks': 17050, 'princeton': 17051, 'emphasise': 17052, 'tuesday’': 17053, '£24': 17054, 'fart': 17055, 'positively': 17056, 'eurostar': 17057, 'rdk': 17058, 'falafel': 17059, 'shwari': 17060, '£14': 17061, 'deem': 17062, 'incommode': 17063, 'yogurt': 17064, '0530': 17065, 'isles': 17066, 'broth': 17067, 'motherboard': 17068, 'intolerable': 17069, 'recession': 17070, '30mb': 17071, 'liers': 17072, 'glasses': 17073, 'scenarios': 17074, 'richer': 17075, 'traditions': 17076, 'hinge': 17077, 'walkden': 17078, 'untrained': 17079, '✨': 17080, 'samoaljasim': 17081, 'treble': 17082, 'strucked': 17083, 'debilitate': 17084, 'niggas': 17085, 'fasten': 17086, 'refrigerator': 17087, 'innings': 17088, 'hilary': 17089, '5005': 17090, '5003': 17091, 'gibson': 17092, 'marcia': 17093, 'cayman': 17094, 'logistical': 17095, 'razvanm': 17096, 'brilliantly': 17097, 'ogun': 17098, 'vending': 17099, '👍🏼👍🏼': 17100, 'rafts': 17101, 'gown': 17102, 'anyof': 17103, 'slipping': 17104, 'asda’': 17105, 'ryanair': 17106, 'donyou': 17107, 'productiveness': 17108, 'nugs': 17109, 'controlling': 17110, 'faggot': 17111, 'easygoing': 17112, 'sysctl': 17113, 'mylabs': 17114, 'prophet': 17115, 'bullet': 17116, 'on…and': 17117, 'narration': 17118, 'tv’': 17119, 'kare': 17120, 'liye': 17121, 'visitors': 17122, 'unexpectable': 17123, 'civilize': 17124, 'cornwall': 17125, 'freshness': 17126, 'vibrates': 17127, 'mongrel': 17128, 'attacks': 17129, 'physician': 17130, 'scandalize': 17131, 'overdrawn': 17132, 'ddos': 17133, 'shelton': 17134, 'sears': 17135, '“update': 17136, 'reassured': 17137, 'indexed': 17138, 'apologie': 17139, '👍👍': 17140, 'rmn': 17141, 'paddle': 17142, 'combinations': 17143, 'minimised': 17144, 'fintech': 17145, '😡😠': 17146, 'arhh': 17147, 'betrayed': 17148, 'inviolable': 17149, 'christmastide': 17150, 'exposes': 17151, 'dtd': 17152, 'foward': 17153, 'recognises': 17154, 'figurehead': 17155, 'incense': 17156, 'stmt': 17157, 'housing': 17158, 'lucie': 17159, 'nhs': 17160, 'breached': 17161, 'bra': 17162, 'papajohns': 17163, '😑😤': 17164, 'spikes': 17165, 'chili': 17166, 'touchdown': 17167, 'soundbar': 17168, 'timewarner': 17169, 'gardens': 17170, 'xbox1': 17171, 'postbox': 17172, 'latin': 17173, 'proccess': 17174, 'jessie': 17175, 'yesteryear': 17176, 'flapjack': 17177, 'motto': 17178, 'adaptor': 17179, 'deployments': 17180, 'mtn': 17181, 'immure': 17182, 'pesapal': 17183, 'opposition': 17184, 'unquestionably': 17185, 'valuables': 17186, 'switzerland': 17187, 'whomp': 17188, 'sfdc': 17189, 'youth': 17190, '😧😧': 17191, 'longbridge': 17192, 'negro': 17193, 'hera': 17194, 'cripple': 17195, '😉😉': 17196, 'disinterest': 17197, 'abi': 17198, 'yw': 17199, 'gne': 17200, 'scramble': 17201, '😒😒😒': 17202, 'popups': 17203, 'capitalist': 17204, 'monkeys': 17205, 'ady': 17206, 'shrinking': 17207, 'polo': 17208, 'anil': 17209, 'mmm': 17210, 'articulatio': 17211, 'litigation': 17212, 'temerity': 17213, 'culinary': 17214, 'criticism': 17215, 'viable': 17216, 'impersonating': 17217, 'timeout': 17218, 'commuting': 17219, 'accout': 17220, 'retaining': 17221, 'substitutions': 17222, 'mashed': 17223, 'invaluable': 17224, 'crass': 17225, 'highlights': 17226, 'suckle': 17227, 'ombudsmen': 17228, 'naruto': 17229, 'refering': 17230, 'calculation': 17231, 'aled': 17232, 'chassis': 17233, 'lv': 17234, 'babes': 17235, 'computerized': 17236, 'arrivals': 17237, 'chapters': 17238, 'headings': 17239, 'assoc': 17240, 'repugnance': 17241, 'ndio': 17242, 'rendered': 17243, 'hypocrite': 17244, 'distasteful': 17245, 'dolt': 17246, 'goldie': 17247, 'howell': 17248, 'swi': 17249, 'shudder': 17250, 'intercontinental': 17251, 'demanded': 17252, 'inappropriately': 17253, 'tanner': 17254, 'tmobilehelp': 17255, '10yr': 17256, 'pleasantly': 17257, '1391': 17258, 'baristas': 17259, 'puking': 17260, 'rigorously': 17261, 'regulated': 17262, 'gist': 17263, 'nfa': 17264, 'coloured': 17265, 'prem': 17266, 'sentience': 17267, 'clinic': 17268, 'remnant': 17269, 'pbs': 17270, '680': 17271, '🍸': 17272, '😤😡': 17273, 'ronnie': 17274, 'uncivil': 17275, 'gamestop': 17276, 'hopkins': 17277, 'attracted': 17278, 'rightly': 17279, 'craft': 17280, 'tah': 17281, '📺': 17282, '🌎': 17283, 'bulletproof': 17284, 'fluorine': 17285, 'triggering': 17286, 'knicks': 17287, 'sword': 17288, 'nataliekelm': 17289, 'lacks': 17290, 'bhawesh': 17291, 'uberevents': 17292, 'navigational': 17293, '2300': 17294, 'serviceman': 17295, 'celebrity': 17296, 'endorsing': 17297, 'renovation': 17298, 'iman': 17299, 'noting': 17300, 'lectured': 17301, '4tb': 17302, 'johan': 17303, 'tuck': 17304, 'maynard': 17305, 'sunglasses': 17306, 'cricket': 17307, 'eset': 17308, 'depone': 17309, 'accumulated': 17310, 'nmbr': 17311, 'teens': 17312, 'hotdog': 17313, 'crippled': 17314, 'glacial': 17315, 'rinse': 17316, 'williamsburg': 17317, 'carmen': 17318, 'legends': 17319, 'forcible': 17320, 'immigration': 17321, 'saml': 17322, 'forreal': 17323, 'infrm': 17324, 'semester': 17325, 'workbook': 17326, 'shyam': 17327, 'adage': 17328, 'raynes': 17329, 'grady': 17330, '30k': 17331, 'wel': 17332, 'freddy': 17333, 'winglet': 17334, 'swadlincote': 17335, 'unchanged': 17336, 'dl1727': 17337, 'screech': 17338, 'rescheduling': 17339, 'galax': 17340, 'condolences': 17341, 'rename': 17342, 'disjointed': 17343, 'penalize': 17344, 'pestiferous': 17345, 'tommorow': 17346, 'distracting': 17347, 'probook': 17348, 'bigotry': 17349, 'hypothesize': 17350, 'lou': 17351, 'northfield': 17352, 'wilmington': 17353, 'dripping': 17354, 'yuck': 17355, 'kurtis': 17356, 'municipal': 17357, 'foreclosure': 17358, 'instantaneous': 17359, 'lowers': 17360, 'jaffa': 17361, 'celery': 17362, 'corpus': 17363, 'broadcasting': 17364, 'colligate': 17365, 'deactivating': 17366, 'ratios': 17367, 'studios': 17368, '544': 17369, '🇺🇸🇺🇸🇺🇸': 17370, 'sven': 17371, 'refine': 17372, '““': 17373, 'mesage': 17374, 'burying': 17375, 'funniest': 17376, 'specialised': 17377, 'mundane': 17378, 'devise': 17379, 'webpages': 17380, 'undermentioned': 17381, 'flags': 17382, 'clipped': 17383, 'clipping': 17384, 'plectron': 17385, 'mushrooms': 17386, 'shank': 17387, 'publically': 17388, 'vice': 17389, 'obscene': 17390, 'fairy': 17391, 'gf’': 17392, 'inactivity': 17393, 'ineligible': 17394, '😭😭😠😠': 17395, 'dover': 17396, 'supremacy': 17397, 'deflate': 17398, 'frankie': 17399, 'magister': 17400, 'nabil': 17401, 'neighbouring': 17402, 'ilya': 17403, 'oml': 17404, '⚽️': 17405, 'reelect': 17406, 'evrythng': 17407, 'midweek': 17408, 'cc2017': 17409, 'chronological': 17410, 'smiley': 17411, 'canx': 17412, 'magnolia': 17413, 'relaunching': 17414, 'pushchair': 17415, 'oxf': 17416, 'rational': 17417, 'libby': 17418, 'ayr': 17419, 'klick': 17420, 'keed': 17421, 'curtly': 17422, 'champs': 17423, 'poxmaphixat': 17424, 'schools': 17425, '26pm': 17426, 'fusion': 17427, 'reverberate': 17428, 'sekhar': 17429, 'olive': 17430, 'authorizing': 17431, 'fck': 17432, 'unquiet': 17433, 'bulwark': 17434, 'invoke': 17435, 'motility': 17436, 'choppy': 17437, 'prolly': 17438, 'kearny': 17439, '5hours': 17440, 'manifestly': 17441, 'consuming': 17442, 'nullify': 17443, 'cosy': 17444, 'oneplus5t': 17445, 'throat': 17446, 'cotton': 17447, 'lovin': 17448, 'onsite': 17449, '5min': 17450, '757': 17451, '00p': 17452, 'complying': 17453, 'oxide': 17454, 'xboxs': 17455, 'redownloaded': 17456, 'stroud': 17457, 'lids': 17458, 'domino': 17459, 'bilal': 17460, '💥': 17461, '45p': 17462, 'ellis': 17463, 'abbey': 17464, 'defaulted': 17465, 'casket': 17466, 'suburban': 17467, '😾': 17468, 'champions': 17469, 'finical': 17470, 'interrupting': 17471, 'org': 17472, 'coincidental': 17473, 'decorating': 17474, 'pirated': 17475, 'thesis': 17476, 'repost': 17477, 'grande': 17478, 'yuma': 17479, 'gila': 17480, 'receieved': 17481, 'amro': 17482, 'abdulmuhsen': 17483, 'alhezaimi': 17484, 'trauma': 17485, 'requisite': 17486, 'rubbed': 17487, 'exasperate': 17488, 'hoe': 17489, '399': 17490, 'matrimonial': 17491, 'oftentimes': 17492, 'birla': 17493, 'singled': 17494, '£170': 17495, 'infinix': 17496, 'decennary': 17497, 'admonish': 17498, '“it’': 17499, '34th': 17500, 'obvs': 17501, 'agnise': 17502, 'bronsonbarretto': 17503, 'tysm': 17504, 'hogwarts': 17505, 'teen': 17506, 'cheesecakes': 17507, 'dummy': 17508, 'ghetto': 17509, 'prc': 17510, 'nfc': 17511, 'carving': 17512, 'gracias': 17513, 'merriment': 17514, 'bankers': 17515, 'lined': 17516, 'gameboard': 17517, 'rapacity': 17518, 'penetrate': 17519, 'prune': 17520, 'wga': 17521, 'canyon': 17522, 'bowie': 17523, 'quay': 17524, 'penang': 17525, 'memos': 17526, 'distinctly': 17527, 'bipolar': 17528, 'paving': 17529, 'instrumentalist': 17530, 'politely': 17531, 'legere': 17532, 'antoinewhite': 17533, 'fella': 17534, 'fernanda': 17535, 'spaghetti': 17536, 'bacpac': 17537, 'signification': 17538, 'ssms': 17539, 'michellebradbury': 17540, 'nilesh': 17541, 'porch”': 17542, 'ingroup': 17543, 'papers': 17544, 'satiate': 17545, 'radical': 17546, 'syndrome': 17547, 'bosses': 17548, 'amerindic': 17549, '80k': 17550, 'incision': 17551, '🍏': 17552, 'dl19': 17553, 'islington': 17554, '4h': 17555, 'blade': 17556, 'playable': 17557, 'cops': 17558, 'deletion': 17559, 'knack': 17560, 'snapped': 17561, 'prevailing': 17562, 'creditworthy': 17563, 'bldg': 17564, 'naija': 17565, 'clack': 17566, 'omm': 17567, 'manus': 17568, 'cheery': 17569, 'kyla': 17570, 'competency': 17571, 'andheri': 17572, 'underage': 17573, '“delivery': 17574, 'expedition': 17575, 'rhiân': 17576, 'tops': 17577, 'margins': 17578, 'trz': 17579, 'lakh': 17580, 'fiddle': 17581, '5800': 17582, 'patrons': 17583, 'sequel': 17584, 'suffrng': 17585, 'rodeo': 17586, 'creme': 17587, 'jaunt': 17588, 'jobsheet': 17589, 'recved': 17590, 'straits': 17591, 'globes': 17592, 'pans': 17593, 'abominably': 17594, 'defended': 17595, 'boca': 17596, 'vitriolic': 17597, 'fraser': 17598, 'nodes': 17599, 'ranging': 17600, 'androids': 17601, 'cunning': 17602, 'decorate': 17603, '🎣': 17604, 'rethinking': 17605, 'às': 17606, 'rebuilding': 17607, 'wadding': 17608, 'customization': 17609, '40rs': 17610, 'airmiles': 17611, 'busbar': 17612, '🤦🏻\\u200d♂️': 17613, '“good': 17614, 'rstrm': 17615, 'knob': 17616, 'tee': 17617, 'rst': 17618, 'doltishly': 17619, 'accidents': 17620, 'teddington': 17621, 'succeeder': 17622, 'pocketbook': 17623, 'degenerate': 17624, 'ringlet': 17625, '1h': 17626, 'aftersales': 17627, 'misfire': 17628, 'touchstone': 17629, 'establishing': 17630, 'alisonb': 17631, 'chappals': 17632, 'underwater': 17633, 'pravin': 17634, 'foreshorten': 17635, 'signalize': 17636, 'plunge': 17637, 'dorothy': 17638, 'buzzer': 17639, 'munch': 17640, 'unplayable': 17641, 'population': 17642, 'mannequin': 17643, 'problem”': 17644, 'pursuit': 17645, 'exclusivity': 17646, 'motown': 17647, 'nauseating': 17648, 'relinquish': 17649, 'maid': 17650, 'buffers': 17651, 'southwestward': 17652, 'lotto': 17653, 'viktoria': 17654, 'theatrical': 17655, 'stiff': 17656, 'brits': 17657, 'macbooks': 17658, 'thugs': 17659, 'spans': 17660, '😊😊😊': 17661, 'sums': 17662, '58am': 17663, 'featured': 17664, 'finchley': 17665, 'abq': 17666, 'franklin': 17667, '128mb': 17668, 'gorilla': 17669, 'smith': 17670, 'restroom': 17671, 'clit': 17672, 'actor': 17673, '04am': 17674, 'cookbook': 17675, 'rigid': 17676, 'uninstaller': 17677, 'wrecked': 17678, 'taped': 17679, 'magnificent': 17680, 'shifts': 17681, 'ruffianly': 17682, 'pho': 17683, 'hewitt': 17684, '10hrs': 17685, 'nly': 17686, '7kbps': 17687, 'warmers': 17688, 'bpl': 17689, 'stem': 17690, 'missy': 17691, 'theses': 17692, 'weighing': 17693, 'discontented': 17694, 'faro': 17695, 'conviction': 17696, 'queried': 17697, 'gordita': 17698, 'maidstone': 17699, 'brownies': 17700, '🍩': 17701, 'bj': 17702, 'caleb': 17703, 'blasting': 17704, '1445': 17705, 'deregulate': 17706, 'guardian': 17707, 'aaronb': 17708, 'kitchens': 17709, '753': 17710, 'brochure': 17711, 'angered': 17712, 'diagnose': 17713, 'splitters': 17714, 'localise': 17715, 'ebt': 17716, 'unpairing': 17717, 'bookmarks': 17718, 'readable': 17719, 'maddening': 17720, '😳😳😳😳': 17721, 'atcha': 17722, 'decilitre': 17723, 'shafy': 17724, 'probide': 17725, 'invention': 17726, 'gloflat': 17727, 'sbmm': 17728, 'pvd': 17729, 'grinch': 17730, 'macrocosm': 17731, 'sammy': 17732, 'randall': 17733, 'anime': 17734, 'spitting': 17735, 'victimized': 17736, 'infrangible': 17737, 'hornsey': 17738, 'advises': 17739, 'quell': 17740, 'cleveland': 17741, '150mb': 17742, 'disappoints': 17743, 'lgv30': 17744, 'dealership': 17745, 'commutation': 17746, 'heater': 17747, '⬅': 17748, 'hema': 17749, 'educating': 17750, 'qur': 17751, 'unstopping': 17752, 'qa': 17753, 'x10': 17754, 'dependability': 17755, 'monologue': 17756, '🙃🙃🙃': 17757, 'lineups': 17758, 'surduanemcgurn': 17759, '12gb': 17760, 'capability': 17761, 'hinting': 17762, 'booporium': 17763, '“unable': 17764, 'fever': 17765, 'cooperator': 17766, 'terra': 17767, 'firma': 17768, 'codwwii': 17769, 'lizrackliff': 17770, 'swindle': 17771, 'vacant': 17772, 'lifts': 17773, 'unmannered': 17774, 'herald': 17775, 'leelovelace': 17776, 'essentials': 17777, 'wisely': 17778, 'trolly': 17779, '1930': 17780, 'pious': 17781, 'platitude': 17782, 'underway': 17783, 'spares': 17784, 'cigs': 17785, '90p': 17786, 'vertically': 17787, 'horizontally': 17788, 'convulsion': 17789, 'trusting': 17790, 'hardwick': 17791, 'king’': 17792, 'sum1': 17793, 'perfumes': 17794, '‘the': 17795, 'belgium': 17796, 'eye’': 17797, 'majid': 17798, '60mb': 17799, 'repercussions': 17800, 'blaspheme': 17801, 'bre': 17802, 'carmel': 17803, 'accumulate': 17804, 'seamlessly': 17805, 'afflictive': 17806, '8610': 17807, 'sleeper': 17808, 'repetitious': 17809, 'hooey': 17810, 'reema': 17811, 'needle': 17812, 'astray': 17813, 'declassified': 17814, '🤞🤞': 17815, 'evoucher': 17816, 'jar': 17817, 'preferent': 17818, 'republican': 17819, 'falderol': 17820, '💪😎🌟': 17821, '🤐': 17822, 'hardship': 17823, 'stripling': 17824, 'remembrance': 17825, 'streamer': 17826, 'mattress': 17827, 'elated': 17828, 'isht': 17829, 'argufy': 17830, '7mbps': 17831, 'listens': 17832, '£16': 17833, 'family’': 17834, 'analytics': 17835, 'internships': 17836, 'fomo': 17837, 'jalen': 17838, 'pharmacies': 17839, 'lloyd': 17840, 'jkuat': 17841, 'angels': 17842, 'eyeing': 17843, 'alafu': 17844, 'truths': 17845, 'calculates': 17846, 'tatiana': 17847, 'gsp': 17848, 'wienerwurst': 17849, 'wilco': 17850, 'shells': 17851, 'melting': 17852, 'andi': 17853, 'onboarding': 17854, 'trainee': 17855, 'screeching': 17856, 'tonya': 17857, 'trolling': 17858, 'forgetful': 17859, 'tissues': 17860, 'yanked': 17861, 'aux': 17862, 'revelation': 17863, '500g': 17864, 'utilities': 17865, 'limitd': 17866, 'appts': 17867, 'harmonize': 17868, 'truedepth': 17869, 'petit': 17870, 'kilmarnock': 17871, 'foxy': 17872, 'deepest': 17873, 'aah': 17874, 'sc1234': 17875, 'speculation': 17876, 'earthly': 17877, 'capitalized': 17878, 'damm': 17879, '£900': 17880, '£600': 17881, 'atom': 17882, 'ioway': 17883, '40th': 17884, '41st': 17885, 'providence': 17886, 'blimey': 17887, 'swallowed': 17888, 'confronted': 17889, 'mama': 17890, 'costumier': 17891, 'hillsborough': 17892, 'groovy': 17893, 'kilometre': 17894, 'raspberry': 17895, 'shoving': 17896, 'zipper': 17897, 'jiffy': 17898, 'commemorate': 17899, '😠😠😠😠': 17900, 'registrer': 17901, 'delights': 17902, 'territorial': 17903, 'unrecognized': 17904, 'regrets': 17905, 'scientific': 17906, '‘arriving': 17907, 'delivery’': 17908, 'bitching': 17909, 'pouches': 17910, 'awk': 17911, 'j7': 17912, 'drayton': 17913, 'thefts': 17914, 'typeface': 17915, 'governments': 17916, 'dispatching': 17917, 'wade': 17918, 'biscoff': 17919, 'claustrophobic': 17920, 'wld': 17921, 'decelerate': 17922, 'empowered': 17923, '520': 17924, 'hears': 17925, 'demote': 17926, 'pennies': 17927, 'hectic': 17928, 'recitation': 17929, 'capturing': 17930, 'insisting': 17931, 'mas': 17932, 'ineed': 17933, 'bail': 17934, 'hires': 17935, 'napkins': 17936, 'elements': 17937, '919': 17938, '💙💙💙': 17939, 'successive': 17940, 'longanimity': 17941, 'scottsdale': 17942, 'assumption': 17943, 'dupont': 17944, '❄️': 17945, 'workfellow': 17946, 'yalls': 17947, 'cardholder': 17948, 'unfollow': 17949, '1720': 17950, '4gig': 17951, '1gig': 17952, 'thievery': 17953, 'erased': 17954, 'assessed': 17955, 'viosterol': 17956, 'layovers': 17957, 'iphone7plus': 17958, 'forex': 17959, 'droop': 17960, '🤷🏽\\u200d♂️': 17961, 'bah': 17962, 'hides': 17963, 'forbiddance': 17964, 'resign': 17965, 'recapitulation': 17966, 'verizon’': 17967, 'conned': 17968, 'shoplift': 17969, '👁': 17970, 'smelled': 17971, 'wives': 17972, 'peice': 17973, 'islet': 17974, 'holes': 17975, 'wharf': 17976, 'erikaholeman': 17977, 'dex': 17978, 'leveling': 17979, 'dom50': 17980, 'spm': 17981, 'hardpoint': 17982, 'wearable': 17983, 'colombia': 17984, 'eddiegough': 17985, 'chiller': 17986, 'retire': 17987, 'r2': 17988, 'conferences': 17989, 'workshops': 17990, 'tarnished': 17991, 'sot': 17992, 'coaxial': 17993, 'unsighted': 17994, 'seized': 17995, 'mcd’': 17996, 'caliber': 17997, 'oecumenical': 17998, 'concorde': 17999, 'unprofessionally': 18000, 'nz': 18001, 'splendid': 18002, 'lmaoo': 18003, 'emphasize': 18004, 'contempt': 18005, 'persisting': 18006, 'necklace': 18007, 'dundee': 18008, 'spectacularly': 18009, 'ricki': 18010, 'disables': 18011, 'gracefranco': 18012, 'cpm': 18013, 'headlines': 18014, 'howler': 18015, '“so': 18016, 'meadowbank': 18017, 'trending': 18018, 'ruination': 18019, 'casing': 18020, 'patients': 18021, 'deceived': 18022, '“upgraded”': 18023, 'erectile': 18024, 'francesca': 18025, '464': 18026, 'wally': 18027, 'refinement': 18028, 'moolah': 18029, 'arriva': 18030, 'lips': 18031, 'gauging': 18032, 'cisco': 18033, 'sso': 18034, 'dragging': 18035, '50th': 18036, 'poultry': 18037, 'sorrow': 18038, 'cana': 18039, 'heidipowell': 18040, 'rationale': 18041, '“️': 18042, 'ambala': 18043, 'erth': 18044, 'peripherals': 18045, 'inhuman': 18046, 'woodford': 18047, 'sweaty': 18048, 'gloria': 18049, 'hieroglyphics': 18050, 'dipping': 18051, 'hata': 18052, '👻🎃': 18053, 'gta': 18054, 'biting': 18055, 'flesh': 18056, 'cara': 18057, 'ventilation': 18058, 'christoph': 18059, 'menses': 18060, 'dimming': 18061, '1957': 18062, 'facsimile': 18063, 'deflection': 18064, 'larn': 18065, 'dsc': 18066, '0725': 18067, 'joule': 18068, 'feeble': 18069, 'viki': 18070, 'disapointing': 18071, 'garages': 18072, 'mickle': 18073, 'yodel': 18074, 'incidental': 18075, 'prosperous': 18076, 'abysmally': 18077, '😂😷': 18078, 'toolbar': 18079, 'shakes': 18080, 'locater': 18081, 'dss': 18082, 'bounces': 18083, 'separates': 18084, 'gillyflower': 18085, 'brook': 18086, 'knackered': 18087, 'delta’': 18088, 'malaysian': 18089, 'dent': 18090, 'solves': 18091, 'sorry”': 18092, 'a320s': 18093, 'wellsfargo': 18094, 'nonsensicality': 18095, 'tarun': 18096, 'shadows': 18097, '“too': 18098, 'breadsticks': 18099, 'pounding': 18100, 'bearable': 18101, 'cvv': 18102, 'imprecisely': 18103, 'peaked': 18104, 'unpredictable': 18105, 'priduct': 18106, 'relaxation': 18107, '109': 18108, 'prosecuted': 18109, 'concur': 18110, 'harvesting': 18111, 'wildlife': 18112, 'ernesto': 18113, 'taplow': 18114, 'deliveroo': 18115, 'stagecoach': 18116, 'savvy': 18117, 'pixels': 18118, 'moq': 18119, 'oats': 18120, 'informs': 18121, 'transferable': 18122, 'antecedence': 18123, 'modding': 18124, 'printout': 18125, 'reddit': 18126, 'unbox': 18127, 'siri”': 18128, 'munish': 18129, 'twinkle': 18130, 'indica': 18131, 'blemish': 18132, 'depletion': 18133, 'immense': 18134, '😡😩': 18135, 'millionth': 18136, 'rogue': 18137, 'rung': 18138, 'whoot': 18139, 'writ': 18140, 'ticked': 18141, 'oliviastewart': 18142, 'fatimah': 18143, 'yeesh': 18144, 'dougie': 18145, 'lycopersicon': 18146, 'esculentum': 18147, 'chromebook': 18148, 'katharine': 18149, 'lxxxiv': 18150, 'garish': 18151, 'behaviors': 18152, 'srsly': 18153, 'woody': 18154, 'bexley': 18155, 'ascorbic': 18156, 'enduring': 18157, 'pictorial': 18158, 'projectile': 18159, 'perth': 18160, 'statue': 18161, 'deregistered': 18162, 'upd': 18163, 'nominate': 18164, 'peeress': 18165, 'throwaway': 18166, 'thebrewhead': 18167, 'camden': 18168, '4glte': 18169, '🏆': 18170, 'wrench': 18171, 'canal': 18172, 'reimbursements': 18173, 'provoke': 18174, 'libertyville': 18175, 'meredith': 18176, '£0': 18177, 'adblock': 18178, '323': 18179, 'tends': 18180, 'influencers': 18181, 'grossed': 18182, 'environs': 18183, 'candidate': 18184, 'historical': 18185, 'intentions': 18186, 'asl': 18187, 'ascendency': 18188, 'signatures': 18189, '3t': 18190, 'whitelist': 18191, 'arjun': 18192, 'sip': 18193, 'automatize': 18194, '“our': 18195, 'honeybourne': 18196, 'postponed': 18197, 'finland': 18198, '38pm': 18199, 'wording': 18200, 'mumbled': 18201, 'brittanyjones': 18202, 'beeps': 18203, 'eczema': 18204, 's1': 18205, 'activeteachonline': 18206, 'ecomm': 18207, 'inscribe': 18208, 'runaway': 18209, 'sponge': 18210, 'alleviate': 18211, 'amar': 18212, '1520': 18213, '🏈': 18214, 'chichester': 18215, '🆔': 18216, 'ancestry': 18217, 'hnw': 18218, 'infested': 18219, 'limitless': 18220, 'amz': 18221, 'foray': 18222, 'thriftiness': 18223, '12months': 18224, 'banbury': 18225, 'bowel': 18226, 'tuning': 18227, '440': 18228, 'ambulance': 18229, 'encumbrance': 18230, 'transcribed': 18231, 'tvm': 18232, 'slides': 18233, 'superlative': 18234, 'bouncing': 18235, 'uninterested': 18236, 'heartattack': 18237, 'derailed': 18238, 'workmates': 18239, '0830': 18240, 'stumper': 18241, 'frustratingly': 18242, 'leery': 18243, 'competitively': 18244, 'meliorate': 18245, 'jenkins': 18246, 'frenzy': 18247, 'sourcing': 18248, 'gatundu': 18249, 'thismorning': 18250, 'katz': 18251, 'hypothesis': 18252, 'exclusiveness': 18253, 'rotational': 18254, 'robby': 18255, 'indians': 18256, 'patronise': 18257, 'umbrellas': 18258, 'complainer': 18259, 'dinosaur': 18260, 'acme': 18261, 'outfitters': 18262, 'amazes': 18263, 'sierrarichards': 18264, 'teh': 18265, 'appellate': 18266, 'win7': 18267, 'unanswered': 18268, 'traumatic': 18269, 'deplumate': 18270, 'ramon': 18271, 'ibadan': 18272, 'liii': 18273, 'fueling': 18274, 'monopolize': 18275, 'ciaran': 18276, 'downfall': 18277, 'relooking': 18278, 'oxenholme': 18279, 'safeguard': 18280, 'quesadillas': 18281, '75p': 18282, '😣😣😣': 18283, 'inconceivable': 18284, 'misspelled': 18285, 'lamont': 18286, 'toyota': 18287, 'blooded': 18288, 'roommate': 18289, 'auckland': 18290, 'flushing': 18291, 'uve': 18292, 'vinegar': 18293, 'bandwagon': 18294, 'mailboat': 18295, 'monaco': 18296, 'eternally': 18297, 'calorimeter': 18298, 'complacent': 18299, 'usha': 18300, 'douglas': 18301, 'proportion': 18302, 'fields': 18303, 'riyadh': 18304, 'rewarding': 18305, 'rachelmartin': 18306, 'bunk': 18307, 'mum’': 18308, 'tendency': 18309, 'leatherhead': 18310, 'davey': 18311, 'ftc': 18312, 'inherent': 18313, 'yap': 18314, 'pinkie': 18315, 'stability': 18316, 'sauerkraut': 18317, 'tote': 18318, 'painting': 18319, 'masts': 18320, '707': 18321, 'docomo': 18322, 'nlp': 18323, 'apo': 18324, 'oft': 18325, 'neatly': 18326, 'mtv': 18327, 'turner': 18328, '👏👏👏👏': 18329, 'aberdeen': 18330, 'aes': 18331, 'strongest': 18332, 'geting': 18333, 'ashleyhamilton': 18334, 'ari': 18335, 'practitioner': 18336, 'alicja': 18337, '😳😳😳': 18338, 'bas': 18339, 'ignition': 18340, 'dhcp': 18341, 'micah': 18342, 'unexcited': 18343, 'mukilteo': 18344, 'hanan': 18345, '👍😊': 18346, 'atx': 18347, 'heywood': 18348, 'suzy': 18349, 'hearted': 18350, 'differences': 18351, 'diligent': 18352, 'respectfully': 18353, 'boodle': 18354, 'thw': 18355, 'foyer': 18356, 'unsurprised': 18357, 'phenomenal': 18358, 'trammel': 18359, 'granite': 18360, 'rachis': 18361, 'posh': 18362, 'turismo': 18363, 'concerts': 18364, 'amenities': 18365, 'chaffer': 18366, 'warframe': 18367, 'xyz': 18368, 'projector': 18369, 'foresight': 18370, 'reckless': 18371, 'bizspark': 18372, 'repellant': 18373, '23gb': 18374, 'chipolte': 18375, 'fiesta': 18376, 'solomon': 18377, 'redaction': 18378, 'contender': 18379, 'hm…': 18380, 'ralf': 18381, 'eastward': 18382, 'metered': 18383, 'ridicules': 18384, 'nairobi': 18385, 'jude': 18386, 'dynamodb': 18387, 'deezer': 18388, 'uri': 18389, 'felicity': 18390, 'survived': 18391, 'whatchu': 18392, 'yusuf': 18393, 'transgress': 18394, 'alcoholic': 18395, 'lacked': 18396, 'surcharge': 18397, 'audacity': 18398, 'buchanan': 18399, 'rescuing': 18400, 'asthma': 18401, 'morifolium': 18402, 'extinguish': 18403, 'max8': 18404, 'invitations': 18405, 'thnk': 18406, 'ethics': 18407, 'swedish': 18408, 'pairing': 18409, 'partnered': 18410, 'colorful': 18411, 'egypt': 18412, '645': 18413, 'caudex': 18414, 'lightly': 18415, 'undercooked': 18416, 'believed': 18417, 'nirma': 18418, 'jenn': 18419, 'fourscore': 18420, 'tum': 18421, 'abhi': 18422, 'launcher': 18423, 'freq': 18424, 'abu': 18425, 'venmo': 18426, 'unmediated': 18427, 'trashing': 18428, 'depict': 18429, '£150': 18430, '1552': 18431, 'quadruple': 18432, 'southsea': 18433, 'prognostic': 18434, 'gees': 18435, '“most': 18436, 'dixieland': 18437, 'cassyfitzgerald': 18438, 'kermit': 18439, 'impersonally': 18440, 'overrefinement': 18441, 'logotype': 18442, 'signified': 18443, 'youll': 18444, 'restless': 18445, 'modifying': 18446, 'naturally': 18447, 'surly': 18448, 'toggled': 18449, 'recon': 18450, 'fined': 18451, 'mozz': 18452, 'darrin': 18453, 'birmns': 18454, 'impulse': 18455, 'commands': 18456, 'unoriginal': 18457, 'redeye': 18458, 'swimmingly': 18459, '\\xad': 18460, 'chattanooga': 18461, 'egyptian': 18462, 'peaple': 18463, 'feedbacks': 18464, 'bsnl': 18465, 'postmortem': 18466, 'namely': 18467, 'forgiven': 18468, 'soliciting': 18469, 'meatball': 18470, '80mbps': 18471, 'graduation': 18472, 'windscreen': 18473, 'wipers': 18474, 'conegliano': 18475, 'ontario': 18476, 'qualifications': 18477, 'steadily': 18478, 'malefactor': 18479, 'jas': 18480, 'doughy': 18481, 'highspeed': 18482, 'purge': 18483, 'mixes': 18484, 'midlands': 18485, 'airpod': 18486, 'knife': 18487, '174': 18488, 'birthdays': 18489, 'thermal': 18490, '12m': 18491, 'primed': 18492, 'saviour': 18493, 'unsecured': 18494, 'procession': 18495, 'wildlands': 18496, 'dane': 18497, 'originated': 18498, '131': 18499, 'skywest': 18500, 'hertfordshire': 18501, 'fuk': 18502, 'dunkin’': 18503, 'prorated': 18504, 'screenplay': 18505, 'syncs': 18506, 'comrade': 18507, 'beshrew': 18508, 'laden': 18509, 'gpo': 18510, 'appreciating': 18511, 'dicks': 18512, 'sacking': 18513, 'dibs': 18514, 'voicing': 18515, 'freebie': 18516, 'operative': 18517, 'mileageplan': 18518, '¬': 18519, 'ava': 18520, 'groom': 18521, '8days': 18522, 'sweaters': 18523, 'kel': 18524, 'linate': 18525, 'bella': 18526, 'intercity': 18527, '💪🏻': 18528, 'squanchy': 18529, 'fakes': 18530, 'drinkable': 18531, 'wiretap': 18532, 'resumed': 18533, 'trespasser': 18534, '149': 18535, 'celebrated': 18536, 'ec2': 18537, 'shark': 18538, 'goats': 18539, 'salman': 18540, 'breaches': 18541, 'middling': 18542, 'horses': 18543, 'shanghai': 18544, 'pogo': 18545, 'freehanded': 18546, 'duvet': 18547, 'jury': 18548, '8s': 18549, 'foolishness': 18550, 'atoms': 18551, 'franjo': 18552, 'inverness': 18553, '5mbps': 18554, 'moray': 18555, 'hustle': 18556, 'asda': 18557, 'deemed': 18558, 'kimberley': 18559, 'lackland': 18560, 'ipa': 18561, 'inst': 18562, 'disguise': 18563, 'poof': 18564, 'beers': 18565, 'tucking': 18566, 'quitting': 18567, 'carbon': 18568, 'realising': 18569, 'dsnt': 18570, 'poorest': 18571, 'baron': 18572, 'verulam': 18573, 'halved': 18574, 'fullmetal': 18575, 'alchemist': 18576, 'possessor': 18577, 'attendee': 18578, 'cristina': 18579, 'kimberly': 18580, 'preservative': 18581, 'coerce': 18582, 'enuf': 18583, '✌🏽': 18584, 'nanometer': 18585, 'fricken': 18586, 'slam': 18587, 'parentage': 18588, 'bedtime': 18589, 'philosophy': 18590, 'tidal': 18591, 'numbe': 18592, 'shew': 18593, 'dailies': 18594, 'creamy': 18595, 'hurricanes': 18596, 'rashid': 18597, 'ctf': 18598, 'oasis': 18599, 'tushar': 18600, '»': 18601, '\\u200bon': 18602, 'tdm': 18603, 'taurus': 18604, 'chouse': 18605, 'ewa': 18606, 'monty': 18607, 'fussed': 18608, 'furtherance': 18609, '211': 18610, 'hwg': 18611, 'lena': 18612, 'scourge': 18613, 'wificalling': 18614, 'hymeneals': 18615, 'egham': 18616, 'sporadic': 18617, 'styrofoam': 18618, 'waitrose': 18619, 'alligator': 18620, 'nolan': 18621, 'ariela': 18622, 'pinky': 18623, '2tb': 18624, 'conditioning': 18625, 'pipelines': 18626, 'unripe': 18627, 'marilyn': 18628, 'cynical': 18629, 'scumbags': 18630, 'acquisition': 18631, 'commissions': 18632, 'lyndsay': 18633, 'unceasingly': 18634, '😴😴': 18635, 'collaborate': 18636, 'jeet': 18637, 'khan': 18638, 'instigated': 18639, 'electronegative': 18640, 'rumour': 18641, 'attacked': 18642, 'transference': 18643, 'dishonour': 18644, 'paragon': 18645, 'sci': 18646, 'becuz': 18647, 'killcam': 18648, 'entitlement': 18649, 'yer': 18650, 'oceanic': 18651, 'abyss': 18652, 'dissipate': 18653, 'strands': 18654, 'maize': 18655, 'allergen': 18656, 'kotor': 18657, 'ano': 18658, 'nomiworld': 18659, 'ninja': 18660, 'gaiden': 18661, 'cardinal': 18662, 'oguz': 18663, 'brassiere': 18664, 'wacker': 18665, 'echos': 18666, 'u2': 18667, 'fubar': 18668, 'cvs': 18669, '035': 18670, 'weakness': 18671, '2of2': 18672, 'oj': 18673, '0035': 18674, 'unpatriotic': 18675, 'cutaneous': 18676, 'appoint': 18677, 'jut': 18678, 'nicholaskale': 18679, 'pie’': 18680, 'futurity': 18681, 'tik': 18682, 'lucknow': 18683, 'buckle': 18684, '👌🏻👌🏻👌🏻': 18685, 'mikaela': 18686, '722': 18687, 'brewery': 18688, 'giggle': 18689, '’hare': 18690, 'impose': 18691, 'towboat': 18692, 'senseless': 18693, 'pointer': 18694, 'centuries': 18695, '2step': 18696, 'duplicates': 18697, 'yday': 18698, 'redressal': 18699, 'cancellable': 18700, 'digest': 18701, '3mb': 18702, 'unchecked': 18703, 'kennethstone': 18704, 'polaris': 18705, 'outrageously': 18706, 'youngest': 18707, 'gladiola': 18708, 'snail': 18709, 'exemptions': 18710, 'prissy': 18711, 'bass': 18712, 'proposal': 18713, 'missouri': 18714, 'displacement': 18715, 'graduated': 18716, 'carole': 18717, 'arounds': 18718, 'yelp': 18719, 'divorce': 18720, 'nowt': 18721, 'juja': 18722, 'saltation': 18723, '186': 18724, 'bloxwich': 18725, 'jets': 18726, 'scotrail': 18727, '1000': 18728, 'bailing': 18729, 'thts': 18730, 'billingham': 18731, 'cooper': 18732, 'agrees': 18733, 'mediums': 18734, 'paulina': 18735, 'mogul': 18736, 'karte': 18737, 'nas': 18738, '¡': 18739, 'flame': 18740, 'spliff': 18741, 'ling': 18742, 'kdly': 18743, 'matyer': 18744, 'yesterdays': 18745, 'bollocks': 18746, 'mammy': 18747, 'mackeeper': 18748, 'unconcerned': 18749, 'quebec': 18750, 'racial': 18751, 'defraud': 18752, 'sliver': 18753, 'infix': 18754, 'dubious': 18755, 'furthermore': 18756, 'sweeteners': 18757, 'aistuation': 18758, 'winnings': 18759, 'wala': 18760, 'overt': 18761, 'trumpet': 18762, 'shifnal': 18763, 'loudly': 18764, 'renderer': 18765, 'porsche': 18766, 'xlii': 18767, '£140': 18768, 'boeing': 18769, 'comically': 18770, 'ignominious': 18771, 'heartbeat': 18772, 'pmts': 18773, 'freshener': 18774, 'horn': 18775, 'landmarks': 18776, 'bdl': 18777, 'centigrade': 18778, 'compartment': 18779, 'swans': 18780, 'earl': 18781, 'neal': 18782, 'forfeit': 18783, 'flu': 18784, 'upping': 18785, 'recreate': 18786, 'slimy': 18787, 'curries': 18788, 'meeter': 18789, 'omnitrix': 18790, 'faceid': 18791, 'enlarge': 18792, '⛔': 18793, 'mrng': 18794, '30minutes': 18795, 'kerala': 18796, 'forsake': 18797, 'gng': 18798, '🤦🏿\\u200d♂️': 18799, 'plebeian': 18800, 'races': 18801, 'unpack': 18802, 'exchnge': 18803, 'cit': 18804, 'afaik': 18805, 'tampered': 18806, 'shauna': 18807, 'appetite': 18808, 'pospaid': 18809, '🇺': 18810, '🇸': 18811, 'thane': 18812, 'outride': 18813, 'monk': 18814, 'confidently': 18815, 'greaat': 18816, 'upcharge': 18817, 'outdoor': 18818, 'ciara': 18819, 'kuna': 18820, '290': 18821, 'whipped': 18822, 'refreshen': 18823, 'amnt': 18824, 'os11': 18825, 'marion': 18826, 'drunken': 18827, 'marshall': 18828, 'dl45': 18829, 'nby': 18830, 'ominous': 18831, 'habanero': 18832, 'geofence': 18833, 'russ': 18834, 'ugg': 18835, 'fashioning': 18836, 'soton': 18837, 'fantastically': 18838, 'sc1': 18839, 'st1': 18840, 'symptom': 18841, 'alway': 18842, 'ksh25': 18843, 'kwa': 18844, 'wichita': 18845, 'weaker': 18846, 'l700': 18847, 'cód': 18848, 'rohaniah': 18849, 'aberdare': 18850, 'quoting': 18851, 'wakefield': 18852, 'knobs': 18853, 'buf': 18854, 'flaws': 18855, 'racketeering': 18856, 'trite': 18857, 'changer': 18858, 'monstrous': 18859, 'allot': 18860, 'steelbook': 18861, 'hampshire': 18862, 'maximizing': 18863, 'str': 18864, 'prohibitionist': 18865, '405': 18866, 'lumen': 18867, '“my': 18868, 'condom': 18869, 'munster': 18870, 'features”': 18871, 'eloise': 18872, 'conventional': 18873, 'pikup': 18874, 'irregular': 18875, 'kibibyte': 18876, 'jovial': 18877, 'compromising': 18878, 'dinosaurs': 18879, 'rubbery': 18880, 'wu': 18881, 'increments': 18882, '3835': 18883, 'grahm': 18884, 'hoes': 18885, 'bootloader': 18886, 'wonderboom': 18887, 'xcii': 18888, 'breeze': 18889, '😊😊': 18890, 'mbna': 18891, 'xie': 18892, 'blitz': 18893, 'mickey': 18894, '14k': 18895, 'allegation': 18896, 'wimpy': 18897, 'retainer': 18898, 'ricky': 18899, '25days': 18900, 'wheni': 18901, 'errant': 18902, 'davids': 18903, '0848': 18904, 'minimized': 18905, 'recuperation': 18906, 'airside': 18907, 'tagging': 18908, '♻️': 18909, 'nickname': 18910, 'wicking': 18911, 'indvid': 18912, 'individ': 18913, 'fuking': 18914, 'bix': 18915, 'lucifer': 18916, 'biggy': 18917, '✈️😞': 18918, 'nonrandom': 18919, 'unpredictability': 18920, 'granton': 18921, '370': 18922, 'iah': 18923, 'youthful': 18924, 'massimo': 18925, 'sammyd': 18926, 'klia': 18927, 'bernat': 18928, 'eter': 18929, 'grounded': 18930, 'habits': 18931, 'weighting': 18932, 'rumors': 18933, 'pismire': 18934, '159': 18935, '🐜': 18936, 'goddess’': 18937, 'annoying😡': 18938, 'undermined': 18939, 'needsto': 18940, 'aloofness': 18941, 'knot': 18942, 'spiderman': 18943, 'expcept': 18944, 'audiobook': 18945, 'jefferson': 18946, 'davies': 18947, 'astley': 18948, 'rockbot': 18949, 'hiss': 18950, 'signboard': 18951, 'tnumber': 18952, 'poxy': 18953, 'pressie': 18954, '😡🤬😡🤬😡🤬': 18955, 'charyn': 18956, 'bridgeport': 18957, 'bet🤙🏽': 18958, 'neroli': 18959, 'grade🙄': 18960, 'aviad': 18961, 'boniface': 18962, '7’': 18963, 'randoms': 18964, 'mussiness': 18965, 'zephyr': 18966, 'boiling': 18967, 'multiorder': 18968, 'bake👅👌🏻😍': 18969, 'kraft': 18970, 'uneatable': 18971, 't430': 18972, 'uefi': 18973, 'jobbie': 18974, 'bilston': 18975, '640xl': 18976, 'som': 18977, 'precept': 18978, 'padded': 18979, 'wheelers': 18980, 'syracuse': 18981, 'sufian': 18982, '🙌🏻🙌🏻🙌🏻': 18983, 'nieces': 18984, 'unnu': 18985, 'nuh': 18986, 'thrash': 18987, 'bridges': 18988, '205': 18989, 'oceanside': 18990, 'suffolk': 18991, 'noonday': 18992, 'stella': 18993, 'blocked51': 18994, '1204': 18995, 'aborted': 18996, 'psdr': 18997, '✨✨🙌🏻': 18998, 'lebkuchen': 18999, 'florentines': 19000, 'hops': 19001, 'reeking': 19002, 'reclines': 19003, 'rectangle': 19004, 'stretching': 19005, 'rectangles': 19006, 'appdoesnf': 19007, '👍🏻😒': 19008, 'kool': 19009, 'misdirected': 19010, 'chnging': 19011, 'flght': 19012, 'screwup': 19013, 'faineant': 19014, 'onboad': 19015, '“di': 19016, 'yi': 19017, 'warhorse': 19018, 'baldric': 19019, '1iq9bj': 19020, 'dannyb': 19021, '“brassiere”': 19022, 'edjang': 19023, 'chanal': 19024, 'grievance': 19025, 'keenly': 19026, 'ruling': 19027, 'illicitly': 19028, 'ontological': 19029, 'apologetics': 19030, 'mca': 19031, 'lxxi': 19032, 'kierstin': 19033, 'hyundai': 19034, 'xcent': 19035, 'mh04gd9484': 19036, 'tahiti': 19037, 'perpetual': 19038, 'mortify': 19039, 'concatenation': 19040, 'phratry': 19041, 'realistically': 19042, 'hersh': 19043, 'forepart': 19044, 'seein': 19045, 'mnishow': 19046, 'mkitaka': 19047, 'kuwekea': 19048, 'bows': 19049, 'eccles': 19050, 'ulhasnagar': 19051, 'suede': 19052, 'coding': 19053, 'rokutv': 19054, 'insignia': 19055, 'rokutb': 19056, 'arggh': 19057, 'stanley': 19058, 'reliable…': 19059, 'breadstick': 19060, 'flustered': 19061, 'vittal': 19062, 'uis': 19063, 'decoy': 19064, 'redraw': 19065, 'interacting': 19066, 'bmi': 19067, 'personable': 19068, '0026': 19069, 'maia': 19070, 'colourblind': 19071, 'jemel': 19072, 'honeymooning': 19073, 'maldives': 19074, '😰🤯😭': 19075, 'hillaryturner': 19076, 'occlusion': 19077, '🤞🏻🤞🏻🤞🏻🤞🏻🤞🏻': 19078, 'exctive': 19079, 'wrng': 19080, '9hr': 19081, 'apurv': 19082, 'u4': 19083, '3wks': 19084, 'imposible': 19085, '4me2bring': 19086, 'weddingdress': 19087, 'urruining': 19088, 'svs': 19089, 'shoaib': 19090, '🇦': 19091, '🇪': 19092, 'irresistible': 19093, 'rims': 19094, 'why😩😫😩😫': 19095, 'nevenka': 19096, 'meili': 19097, 'aidan': 19098, 'queensboro': 19099, '4gnetwork': 19100, '100php': 19101, 'scrapping': 19102, 'supremes': 19103, 'vipul': 19104, 'centrally': 19105, 'bayern': 19106, 'dortmund': 19107, 'bundesliga': 19108, 'klassiker': 19109, '4ever': 19110, 'dishonesty': 19111, 'unloyal': 19112, 'educator': 19113, 'adopted': 19114, '5912': 19115, '3645': 19116, 'dvla': 19117, 'euro': 19118, 'confession': 19119, '3mos': 19120, 'geometry': 19121, 'ruler': 19122, '990': 19123, '1895': 19124, 'dojt': 19125, 'townsen': 19126, 'violife': 19127, 'idled': 19128, 'txts': 19129, 'aidea': 19130, 'pee’': 19131, 'myself’': 19132, 'restored😔tried': 19133, 'still🤷🏽\\u200d♂️': 19134, 'verif': 19135, '“service': 19136, 'charges”': 19137, 'boondocks': 19138, '55hrs': 19139, 'isabella': 19140, 'haunting': 19141, 'beneficence': 19142, 'dl4072': 19143, 'costomer': 19144, 'raina': 19145, 'lace': 19146, 'grumbleweeds': 19147, 'chocoladilla': 19148, 'attracting': 19149, 'rada': 19150, 'ayfonkarahisar': 19151, 'afyonkarahisar': 19152, 'officers': 19153, 'imaginable': 19154, '6hours': 19155, 'smoky': 19156, 'extensively': 19157, 'bolshevik': 19158, 'jacksonville': 19159, 'niches': 19160, 'niente': 19161, 'rebranded': 19162, 'tiffani': 19163, '👌🏻🙄': 19164, 'flightradar24': 19165, 'bugwith': 19166, 'polaroids': 19167, 'ba8714': 19168, 'bandstand': 19169, 'bourbonbbqturkey': 19170, 'permently': 19171, 'naughty': 19172, 'refs': 19173, 'bcoming': 19174, 'learnt': 19175, '2resident': 19176, 'spoke2': 19177, 'anele': 19178, 'audaciousness': 19179, 'gateacre': 19180, 'benifit': 19181, 'uptill': 19182, 'calmer': 19183, 'there”': 19184, 'evidenced': 19185, 'postcard': 19186, 'bcse': 19187, 'infrmd': 19188, 'analyze': 19189, 'mypanera': 19190, 'expertness': 19191, 'apologetic': 19192, 'too✊': 19193, 'custys': 19194, 'spd': 19195, '“awesome”': 19196, 'cook’': 19197, 'glaringly': 19198, '“surprise': 19199, 'assessments': 19200, 'buttie': 19201, 'floods': 19202, 'airon': 19203, 'shoutouts': 19204, 'inuayasha': 19205, 'prestiged': 19206, 'psvita': 19207, 'mislabeled': 19208, 'shillings': 19209, 'aa2947': 19210, 'recalculates': 19211, 'cookers': 19212, 'seprate': 19213, 'raider': 19214, 'shirtless': 19215, 'gourd': 19216, 'halfterm': 19217, 'ollie': 19218, 'dhara': 19219, 'infringement': 19220, 'hopsin': 19221, 'timid': 19222, 'badham': 19223, 'preschool': 19224, 'sotfs': 19225, 'wile': 19226, 'crust': 19227, '😋😋omg': 19228, 'dl2572': 19229, 'downtime—hey': 19230, '5363': 19231, 'merciful': 19232, 'pinellas': 19233, '🆗': 19234, 'pastas': 19235, 'oleophobic': 19236, 'mansfield': 19237, '1427': 19238, 'trackside': 19239, 'line’': 19240, 'unites': 19241, 'beijing’': 19242, 'daxing…': 19243, 'splosh': 19244, 'automatonlike': 19245, 'mascot': 19246, 'bruhh': 19247, 'dlcs': 19248, 'n26': 19249, 'votes': 19250, 'mahesh': 19251, 'mop': 19252, 'haste': 19253, 'shido': 19254, 'sussex': 19255, '“free”': 19256, 'loupedeck': 19257, 'populates': 19258, 'verifies': 19259, 'misleads': 19260, 'tsk': 19261, 'appy': 19262, '🐯': 19263, 'emergencies': 19264, '“package': 19265, 'facility”': 19266, 'bianny': 19267, 'nako': 19268, 'gi': 19269, 'ilis2': 19270, 'bwesit': 19271, 'samok': 19272, 'salvageable': 19273, 'hunts': 19274, 'loathsome': 19275, 'wrost': 19276, 'proposition': 19277, 'bhopal': 19278, 'tangled': 19279, 'getaway': 19280, 'tome': 19281, 'velocity': 19282, 'oaklyn': 19283, 'insulate': 19284, 'stulet': 19285, 'nastiest': 19286, 'throughly': 19287, 'disinfect': 19288, '“flap': 19289, 'indicators': 19290, 'racetrack': 19291, 'skincare': 19292, '🙌🏻💚🍃': 19293, 'ucks': 19294, 'youcould': 19295, 'starr': 19296, 'suprise': 19297, 'hobble': 19298, 'bakeshop': 19299, 'torsten': 19300, 'obama’': 19301, '‘likes’': 19302, 'dl209': 19303, 'rayindra': 19304, 'clubecard': 19305, 'mqds': 19306, 'ebbsfleet': 19307, 'all😱': 19308, '2gether': 19309, 'd21': 19310, 'k25': 19311, 'k29': 19312, '‘not': 19313, 'supported’': 19314, 'flap': 19315, 'cartoonist': 19316, 'cs4': 19317, 'stewart': 19318, 'prl': 19319, 'tipsy': 19320, 'gymnastic': 19321, 'humeirapatel': 19322, 'pramod': 19323, 'mahtami': 19324, 'southeastward': 19325, 'hoick': 19326, 'unwrap': 19327, 'maddie': 19328, 'doomsday': 19329, 'lacuna': 19330, 'sweatshirts': 19331, 'velveteen': 19332, 'niger': 19333, 'amassoma': 19334, 'bayelsa': 19335, 'squints': 19336, '67ce6732': 19337, 'tessa': 19338, 'ba0279': 19339, 'seacroft': 19340, 'lorcan': 19341, 'centos': 19342, 'rhel': 19343, 'billboards': 19344, 'colky': 19345, 'overdoing': 19346, 'bannd': 19347, 'excrescence': 19348, 'sevenoaks': 19349, 'deafening': 19350, 'stabroek': 19351, 'jasmyn': 19352, 'title👍': 19353, 'hallown': 19354, 'hove': 19355, '12tb': 19356, 'ironwolf': 19357, 'vn07': 19358, 'contractual': 19359, 'tomorrows': 19360, 'met❤️❤️': 19361, '🌸🌼': 19362, 'jeanice': 19363, 'psychos': 19364, 'fefund': 19365, 'flight358': 19366, 'pimple': 19367, 'saudagar': 19368, 'sirji': 19369, 'souvenirs': 19370, 'zeeland': 19371, 'amyy': 19372, 'paulsey': 19373, '615am': 19374, 'publsh': 19375, 'timelapse': 19376, 'dependably': 19377, 'vw': 19378, 'rerouting': 19379, 'h1t': 19380, 'imekuwa': 19381, 'haina': 19382, 'headquaters': 19383, 'dagnabbit': 19384, 'athletics': 19385, 'yeng': 19386, 'shafting': 19387, 'starch': 19388, 'ohmygah': 19389, '🧜🏽\\u200d♀️': 19390, 'oxidize': 19391, 'decrease': 19392, 'cheyenne': 19393, 'colo': 19394, 'religions': 19395, 'christians': 19396, 'cirumnavigating': 19397, 'pblb': 19398, '3tpings': 19399, 'adoring': 19400, 'cussed': 19401, 'baccage': 19402, 'any😭😪😤': 19403, 'hawkshaw': 19404, 'decorator': 19405, 'jacking': 19406, 'clamp': 19407, 'recevie': 19408, '55p': 19409, 'caterpillars': 19410, 'cavendish': 19411, 'ug': 19412, 'mcgriddles’': 19413, '💈💈': 19414, 'irks': 19415, 'easypeeler’': 19416, 'seeds': 19417, 'bashed': 19418, 'puns': 19419, 'fracking': 19420, '🖕🏾🖕🏾': 19421, 'lugging': 19422, 'keyframing': 19423, 'accomplishable': 19424, 'loida': 19425, 'publishes': 19426, 'allende': 19427, 'cm20': 19428, '2ag': 19429, '6h18m': 19430, 'transforming': 19431, 'mobile’': 19432, '✈️️': 19433, '☀️️': 19434, 'google’': 19435, 'vibe': 19436, 'vivo': 19437, 'participated': 19438, 'thanks💕': 19439, 'cellularly': 19440, '⚡fast': 19441, 'blackhole': 19442, 'dispair': 19443, 'murrayfield': 19444, 'megathread': 19445, 'ay😞😂': 19446, '✊✌': 19447, 'sevond': 19448, 'redcoat': 19449, 'redcoats': 19450, 'scent': 19451, 'scented': 19452, 'durex': 19453, 'lube': 19454, 'sef': 19455, 'silicon': 19456, 'touring': 19457, '4758': 19458, 'unaccertable': 19459, '3684': 19460, 'nicaragua': 19461, 'coordinates': 19462, '6°28': 19463, '3°36': 19464, 'obscured': 19465, 'reds': 19466, 'lisitng': 19467, '1350': 19468, 'conducts': 19469, 'mfa': 19470, 'mim': 19471, 'moden': 19472, 'everting': 19473, 'digeso': 19474, '40gb': 19475, '300gb': 19476, 'nonpayment': 19477, 'cascade': 19478, 'update1': 19479, 'shara': 19480, 'fries®': 19481, 'montano': 19482, 'unser': 19483, 'ladera': 19484, 'everify': 19485, 'dbt': 19486, 'capisce': 19487, '5lines': 19488, 'wud': 19489, 'awaken': 19490, 'statewide': 19491, 'giv': 19492, 'bensalem': 19493, 'envenom': 19494, 'chillin': 19495, 'venial': 19496, 'cannady': 19497, 'graphical': 19498, 'svb': 19499, 'remburse': 19500, '💩😞': 19501, '2600': 19502, 'browning': 19503, 'reassures': 19504, '🙏🏿': 19505, 'bedan': 19506, 'primrose': 19507, '…especially': 19508, 'teetto': 19509, 'it´': 19510, 'soundless': 19511, '🎄🥕': 19512, 'sigrun': 19513, '4600': 19514, 'rechive': 19515, 'louisiana': 19516, 'nigra': 19517, 'heres': 19518, 'undelete': 19519, 'nationalism': 19520, 'leftfield': 19521, 'hymn': 19522, 'slayer': 19523, 'khal': 19524, 'hevc': 19525, '🌎✨': 19526, 'rana': 19527, 'nao': 19528, 'gloo': 19529, 'shattering': 19530, 'squeak': 19531, 'tecumseh': 19532, '😎👍': 19533, 'prerecord': 19534, 'minuscule': 19535, 'vx1518': 19536, 'tul': 19537, 'gigahertz': 19538, '15miles': 19539, 'implication': 19540, 'splitscreen': 19541, 'ba2157': 19542, 'cyclops': 19543, 'oksy': 19544, 'wherein': 19545, 'youv': 19546, 'responsability': 19547, 'godawful': 19548, 'simplicity': 19549, 'semantics': 19550, 'prasad': 19551, 'stinkiest': 19552, 'blinged': 19553, 'piled': 19554, '0724': 19555, '30kg': 19556, 'ak380': 19557, '£103': 19558, 'inbred': 19559, 'gta5': 19560, 'noob': 19561, 'guts': 19562, '2192': 19563, '“snitches': 19564, 'nonreturnable': 19565, 'pleasing': 19566, 'raged': 19567, 'layaway': 19568, 'coddle': 19569, 'dl82': 19570, 'dl84': 19571, 'sug': 19572, 'arielle': 19573, 'desse': 19574, 'jeito': 19575, 'aí': 19576, '💗': 19577, 'stock’': 19578, 'rj': 19579, 'suckss': 19580, 'aa443': 19581, '2m': 19582, 'reloads': 19583, 'nodejs': 19584, 'eaddrinuse': 19585, 'amazonaws': 19586, 'sharad': 19587, 'scc': 19588, 'discouragement': 19589, '260': 19590, 'butcher': 19591, 'bods': 19592, 'e14': 19593, 'expidited': 19594, 'cohere': 19595, 'mssql': 19596, 'redic': 19597, 'aylesbury': 19598, 'ellanutty': 19599, 'ellaoriginal': 19600, 'shit🙄': 19601, 'pedestal': 19602, 'brighting': 19603, 'roses': 19604, 'stems': 19605, 'poppadoms': 19606, 'jayfi': 19607, 'finessing': 19608, 'me😤😤': 19609, '3050a': 19610, 'rosalyn': 19611, 'maitenence': 19612, 'bouncer': 19613, '🙂🙃': 19614, 'pisstake': 19615, 'paws': 19616, '556': 19617, 'superstores': 19618, 'aiden': 19619, 'contry': 19620, 'kosovo': 19621, 'expands': 19622, 'apoligize': 19623, 'hhzm2v': 19624, '“be': 19625, 'postmats': 19626, 'df0f570d': 19627, 'ab25ff7ea': 19628, 'd87': 19629, 'oredered': 19630, '¥2940': 19631, 'midwest': 19632, 'payoneer': 19633, 'surroundings': 19634, 'arbroath': 19635, 'fix—but': 19636, '💬': 19637, '⚾️⚾️': 19638, 'berries': 19639, 'tapas': 19640, '4vac': 19641, 'doree': 19642, 'grams': 19643, 'nrcoc': 19644, 'seattac': 19645, 'inconveniced': 19646, 'workaday': 19647, 'installations': 19648, 'consolidated': 19649, 'failed9': 19650, 'vickram': 19651, 'bakerloo': 19652, '1346': 19653, 'mmmkay': 19654, 'reticles': 19655, 'evening’': 19656, 'ba820': 19657, 'heloc': 19658, 'dunfermline': 19659, '🙄🍗': 19660, '☀': 19661, '👉🏼': 19662, 'sicilian': 19663, '😢😢😢😢😢😢': 19664, 'hy': 19665, 'sneaker': 19666, 'burnley': 19667, 'colne': 19668, 'fault😒': 19669, 'hausa': 19670, '💙❤️💛': 19671, 'beginner': 19672, 'tharrison': 19673, 'squares': 19674, '3296': 19675, 'niki': 19676, '31mts': 19677, '1z90x152d': 19678, 'eidabi': 19679, 'jizan': 19680, '✌🖕🏼': 19681, 'onmethrice': 19682, 'dumb🙃': 19683, '734': 19684, '3409': 19685, 'misadvised': 19686, 'commie': 19687, 'mybusb': 19688, 'anshuman': 19689, 'assoil': 19690, 'hmftqk4hz4': 19691, 'globacom': 19692, '20mph': 19693, 'garner': 19694, 'gigabyte': 19695, 'colly': 19696, 'bytodayonly': 19697, 'alreadycsteam': 19698, '4day': 19699, 'awesomeness': 19700, 'pmb': 19701, 'moline': 19702, 'spelt': 19703, 'witches': 19704, 'tbat': 19705, 'wentworth': 19706, 'downladed': 19707, 'yor': 19708, 'misspelt': 19709, 'cringy': 19710, 'niva': 19711, '🤬😠': 19712, '😊orders': 19713, 'reminiscence': 19714, 'repeatable': 19715, 'sailor': 19716, 'week😓😓😓': 19717, 'indianexpress': 19718, 'customr': 19719, '“auto': 19720, 'brightness”': 19721, 'chgd': 19722, 'wallets': 19723, 'bellies': 19724, 'squeezed': 19725, '100😒': 19726, 'mazda': 19727, 'hev': 19728, 'methedrine': 19729, 'hmeshcjztb': 19730, 'addtl': 19731, 'anhum': 19732, 'noe': 19733, 'kateyarnett': 19734, 'teck': 19735, 'pushes': 19736, 'surprised⁉️': 19737, 'corruption': 19738, 'off”': 19739, '😵🤔': 19740, 'transnational': 19741, 'bf1': 19742, 'scandals': 19743, 'positivistic': 19744, 'warje': 19745, 'customeroffers': 19746, 'bhajis': 19747, 'domani': 19748, 'josie': 19749, 'reagrds': 19750, 'diabolical': 19751, 'malarkey': 19752, 'murdering': 19753, 'jailable': 19754, 'quiche': 19755, '294th': 19756, 'allies': 19757, 'spellcheck': 19758, '❤❤❤': 19759, 'geolocation': 19760, '386': 19761, 'vulcanizer': 19762, 'akowonjo': 19763, '🙏🏾😩': 19764, '🎤🎼': 19765, '4oct': 19766, '„your': 19767, 'hyperlapse': 19768, 'stabilization”': 19769, 'timelapses': 19770, 'haah': 19771, 'mgkin': 19772, 'kot': 19773, 'sbb': 19774, 'smlm': 19775, 'btul2': 19776, 'hari': 19777, 'boleh': 19778, 'deffos': 19779, 'bombs': 19780, 'thot': 19781, 'offlined': 19782, 'ceramicist': 19783, 'potters': 19784, 'minuite': 19785, 'expting': 19786, 'order😭': 19787, 'plung': 19788, 'pattie': 19789, '😤😩😤😤😤😩😩': 19790, 'eventuality': 19791, 'interpose': 19792, 'lattes': 19793, 'bluebiz': 19794, 'elwood': 19795, 'uservoice': 19796, 'why’re': 19797, '🙅🏻': 19798, '😃👞👍': 19799, 'trivia': 19800, 'over…': 19801, '👍🏼👍🏼👍🏼': 19802, 'colby': 19803, 'ddosed': 19804, 'denis': 19805, 'atascocita': 19806, 'deerbrook': 19807, 'persuade': 19808, 'obtaining': 19809, 'mun': 19810, 'nout': 19811, 'unavailable😪😪😌': 19812, '😒2nd': 19813, 'parasite': 19814, 'sleek': 19815, 'gbam': 19816, 'billings': 19817, '🙄like': 19818, '🏡': 19819, 'dl468': 19820, 'remarkeble': 19821, 'subjugate': 19822, 'ihealth': 19823, '😫😫fml': 19824, 'rats': 19825, 'whem': 19826, 'vincenzo': 19827, 'witty': 19828, 'hughsnet': 19829, 'rqstd': 19830, 'nbd': 19831, 'fightig': 19832, 'activion': 19833, 'activions': 19834, 'commendation': 19835, 'hr40': 19836, '0653': 19837, '13yr': 19838, 'spook': 19839, 'tacular': 19840, 'jace': 19841, '😁✈': 19842, 'easing': 19843, 'vodaphone': 19844, 'defenders': 19845, 'coolio': 19846, '👌🏻🍾': 19847, 'lhrba': 19848, 'shamelessly': 19849, 'plankton': 19850, 'crabby': 19851, 'comforter': 19852, 'assimilate': 19853, 'wrath': 19854, 'birdperson': 19855, 'nettled': 19856, '1935': 19857, '2020': 19858, 'remold': 19859, 'subsidiary': 19860, 'accommodative': 19861, 'praseodymium': 19862, 'forehead': 19863, '740pm': 19864, 'bhusawal': 19865, 'notifiation': 19866, 'onstage': 19867, '😩😫😩': 19868, 'omer': 19869, 'it…yet': 19870, 'knit': 19871, 'tafadhali': 19872, 'gateflies': 19873, 'backoff': 19874, 'utc': 19875, 'soldiers': 19876, 'sweetener': 19877, '🙋🏻\\u200d♂️': 19878, 'lastest': 19879, '3hours': 19880, '9534': 19881, 'lugged': 19882, 'strewn': 19883, '😠no': 19884, 'time4': 19885, 'cocktails': 19886, 'leamington': 19887, 'slated': 19888, 'sorta': 19889, 'dethroned': 19890, 'mayor': 19891, 'osint': 19892, 'proactivity': 19893, 'foundation': 19894, 'dysart': 19895, 'ky1': 19896, '2xn': 19897, 'pubic': 19898, 'dismission': 19899, '132': 19900, '😊🙂': 19901, 'connecticut': 19902, 'conditioner': 19903, 'insertion': 19904, 'littering': 19905, 'teron': 19906, 'cierra': 19907, 'chernobyl': 19908, 'kiev': 19909, '😞😢😞': 19910, 'month🙄': 19911, 'disturbance': 19912, 'edm': 19913, '12yo': 19914, 'feasting': 19915, 'baby’': 19916, 'petermann': 19917, 'e521b120': 19918, 'tiles': 19919, '“free': 19920, 'answerable': 19921, 'relapse': 19922, 'restate': 19923, 'reinvited': 19924, 'milda': 19925, 'banevičiūtė': 19926, 'totes': 19927, 'secrecy': 19928, 'payal': 19929, '1970': 19930, '“maximum': 19931, 'volume”': 19932, 'hieroglyphic': 19933, '18am': 19934, 'bfd': 19935, 'soundcheck': 19936, 'smacks': 19937, 'hernandez': 19938, 'reiterate': 19939, 'manipulative': 19940, 'tactic': 19941, 'acvounts': 19942, 'puzzling': 19943, 'alphabetical': 19944, 'sianne': 19945, 'trodden': 19946, '1ft': 19947, 'thatch': 19948, 'merylee': 19949, 'wenig': 19950, 'sharpening': 19951, 'gardons': 19952, 'alors': 19953, 'xfinitywifi': 19954, 'matilda': 19955, 'garrett': 19956, 'pormotional': 19957, '6wks': 19958, 'discreetness': 19959, 'skyline': 19960, 'neots': 19961, 'airplaying': 19962, 'ugghh': 19963, 'lecithin': 19964, 'o365': 19965, 'win8': 19966, 'poems': 19967, 'monstrosity': 19968, 'bosom': 19969, 'striped': 19970, 'pvg': 19971, 'skylounge': 19972, 'heartless': 19973, 'stockholders': 19974, 'dazzled': 19975, 'queensbury': 19976, 'unavailability': 19977, 'someting': 19978, 'wamt': 19979, 'lkt4fcbluu': 19980, 'painstakingly': 19981, 'vrom': 19982, '😁📦': 19983, 'droped': 19984, 'messge': 19985, 'strted': 19986, 'teir': 19987, 'pargunan': 19988, 'loganathan': 19989, 'kohwlp': 19990, '210': 19991, 's2': 19992, 'sus': 19993, 'spinner': 19994, 'jovit': 19995, 'lissette': 19996, 'mfe': 19997, 'indemnification': 19998, 'cheng': 19999, 'publicized': 20000, 'halfstores': 20001, 'mather': 20002, '😡😡😡😡😡😡😡😡😡😡😡😡': 20003, 'overspill': 20004, 'ansel': 20005, 'elgort': 20006, 'mixture': 20007, '☠': 20008, 'msn': 20009, 'devloppers': 20010, 'freakish': 20011, 'calk': 20012, 'resubmite': 20013, 'lotus': 20014, 'kippers': 20015, 'authorisations': 20016, 'supermassive': 20017, 'seemless': 20018, 'ambiguous': 20019, 'changeable': 20020, '😕😕😕': 20021, 'bottleful': 20022, 'sealskin': 20023, 'indications': 20024, 'bjoern': 20025, 'subnotica': 20026, 'nilibuy': 20027, 'nikapoteza': 20028, 'puke': 20029, 'nikasaau': 20030, 'mtanisaidia': 20031, 'aje': 20032, '🍚': 20033, 'f9a': 20034, 'ff9': 20035, 'a296ff7ef823': 20036, 'eyesore': 20037, 'favors': 20038, 'nobble': 20039, 'n2': 20040, 'margot': 20041, 'cah': 20042, 'fairmount': 20043, 'nini': 20044, 'undetectable': 20045, 'riddler': 20046, 'affording': 20047, 'motorbus': 20048, 'mammals': 20049, '‘christmas': 20050, 'ratings’': 20051, 'aus2mci': 20052, 'attorneys': 20053, '👀👀👀👀👀👀': 20054, 'bridal': 20055, 'forgets': 20056, 'iphone8plus': 20057, 'tradein': 20058, 'reverberation': 20059, 'mikelo': 20060, 'porches': 20061, 'salvation': 20062, 'pirates': 20063, 'charities': 20064, 'anchorage': 20065, 'renembered': 20066, 'dispachet': 20067, 'barf': 20068, 'atcs': 20069, 'insinuated': 20070, 'earshot': 20071, 'glances': 20072, 'woodmere': 20073, 'omega': 20074, 'turmeric': 20075, 'oregano': 20076, 'butternut': 20077, 'farro': 20078, 'inconvenience’': 20079, 'd2': 20080, 'jamocha': 20081, 'smokehouse': 20082, 'reloadable': 20083, 'ail': 20084, 'anglesey': 20085, 'contradict': 20086, 'klaus': 20087, 'greet': 20088, '‘happy': 20089, 'day’': 20090, 'wn6979': 20091, 'baptismal': 20092, 'matter😩': 20093, 'ambush': 20094, 'aerate': 20095, 'detects': 20096, 'restaurant”': 20097, 'headwinds': 20098, 'nop': 20099, 'gocentral': 20100, 'slippin': 20101, '492': 20102, 'tosses': 20103, 'ingurgitate': 20104, '“im': 20105, 'nyack”': 20106, 'hade': 20107, 'decompress': 20108, 'bros': 20109, 'acvount': 20110, 'ardenne': 20111, 'ilford': 20112, 'overheard': 20113, 'tranmer': 20114, 'blockers': 20115, 'collectors': 20116, 'gojng': 20117, '1921hrs': 20118, 'chrisfuimaono': 20119, 'rainfall': 20120, 'viking': 20121, 'jarrow': 20122, 'tyneside': 20123, 'deflated': 20124, '7c': 20125, '31e': 20126, 'eledsoe': 20127, 'escaping': 20128, 'la’': 20129, 'disembarking': 20130, 'ey': 20131, 'tucked': 20132, 'luxurious': 20133, '💙🛫✌️': 20134, 'blemished': 20135, '❤️👥': 20136, 'sellerorderid': 20137, 'shiptrack': 20138, 'belive': 20139, 'acoustical': 20140, 'confessional': 20141, 'preseason': 20142, 'wadsley': 20143, 'jaz': 20144, '“promo': 20145, 'card”': 20146, 'zoey': 20147, 'adjustwhat': 20148, 'confutable': 20149, 'tocourt': 20150, 'ftth': 20151, 'corporates': 20152, '18mb': 20153, '“when': 20154, 'network”': 20155, 'ओम्': 20156, 'भूर': 20157, 'भवआ': 20158, 'स्वाहा': 20159, 'neb': 20160, 'update🙄😤': 20161, 'rutledge': 20162, 'gpedit': 20163, 'templates': 20164, 'taskbar': 20165, 'notnget': 20166, 'krispey': 20167, 'sodomite': 20168, 'sumn': 20169, 'battalion': 20170, 'ventured': 20171, '🎄😀': 20172, 'view”': 20173, '‘saucesome’': 20174, 'buffy': 20175, '1058': 20176, 'digitizer': 20177, 'mpls': 20178, '3283': 20179, 'magicians': 20180, '48pm': 20181, 'drivethru': 20182, '45’': 20183, 'upgrade40pix': 20184, 'summed': 20185, 'transferee': 20186, 'baloney': 20187, 'a16': 20188, 'exbibyte': 20189, 'wch': 20190, '0750': 20191, 'valueless': 20192, '2571': 20193, 'squeezing': 20194, 'redevelopment': 20195, '7200': 20196, 'humorless': 20197, 'votea': 20198, 'aleah': 20199, 'inconstant': 20200, 'bank’': 20201, 'unplayed': 20202, '3232': 20203, 'ayse': 20204, 'flexi': 20205, 'backorder': 20206, 'lii': 20207, 'myitlab': 20208, 'joburg': 20209, 'pompey': 20210, 'enthalpy': 20211, 'intentionally…it': 20212, 'illiberal': 20213, 'hsbc': 20214, 'inprogress': 20215, 'arif': 20216, 'comin': 20217, '191': 20218, 'god’': 20219, '☹️🤬': 20220, 'thoughts—and': 20221, '💜💜': 20222, 'harare': 20223, 'tisbury': 20224, 'daughter’': 20225, 'taxing': 20226, '🙂👍': 20227, '😆🎁🎉': 20228, 'nonstandard': 20229, 'maudit': 20230, 'prevails': 20231, 'malpractice': 20232, 'skipton': 20233, '6gig': 20234, 'shophouse': 20235, 'pats': 20236, 'tonwaste': 20237, 'operates': 20238, 'stank': 20239, 'expatiate': 20240, 'subsidise': 20241, 'smackdown': 20242, 'chandimal': 20243, '2138': 20244, 'racy': 20245, 'emon': 20246, 'manifest': 20247, 'jurisdiction': 20248, 'available😞': 20249, 'chest': 20250, 'bhaw': 20251, 'vermont': 20252, 'excogitate': 20253, 'abeyance': 20254, 'canning': 20255, 'confide': 20256, 'ba117': 20257, 'wrg': 20258, 'ksh150': 20259, 'mustache': 20260, 'ivana': 20261, 'ypu': 20262, 'exemplar': 20263, 'smartcards': 20264, 'scott—possibly': 20265, '1310': 20266, 'frontlet': 20267, 'onrush': 20268, '🤷\\u200d♂️😂': 20269, 'backlund': 20270, 'uggh': 20271, 'richa': 20272, 'optimism': 20273, 'synthnetic': 20274, '😢😫': 20275, 'winking': 20276, 'wifey': 20277, 'concirmed': 20278, 'runnel': 20279, 'watermelon': 20280, 'traced': 20281, '2tries': 20282, 'adscommercials': 20283, 'idid': 20284, 'editor': 20285, 'fuks': 20286, 'bloomin': 20287, 'month’': 20288, 'fortnight': 20289, 'majed': 20290, 'ṭo': 20291, 'overhear': 20292, 'custo': 20293, 'phd': 20294, 'dimmable': 20295, 'coghlin': 20296, 'felton': 20297, 'lewerke': 20298, 'addicted': 20299, 'simplistic': 20300, 'resellers': 20301, 'maywhether': 20302, 'ssing': 20303, 'innumerous': 20304, '“microsoft': 20305, 'cognitive”': 20306, 'whatup': 20307, 'australians': 20308, 'idea’': 20309, 'nanogram': 20310, 'pedagogy': 20311, '110k': 20312, 'payperview': 20313, 'tapism': 20314, 'mgv6rq': 20315, '912': 20316, 'honeycomb': 20317, '😇🎆': 20318, '🔥is': 20319, 'bylaws': 20320, 'jmhc': 20321, 'sydnee': 20322, 'soldier‼️': 20323, 'keitaroh': 20324, 'qualities': 20325, 'overheads': 20326, 'olá': 20327, 'adriano': 20328, 'acho': 20329, 'genial': 20330, 'aa490': 20331, 'unassailable': 20332, 'beckie': 20333, 'plumber': 20334, 'codww': 20335, 'chrisontopofer': 20336, '“undelay”': 20337, 'swf': 20338, 'dragons': 20339, 'redbreast': 20340, 'schulz': 20341, 'nbk': 20342, 'fenchurch': 20343, 'penchant': 20344, 'denote': 20345, 'plt': 20346, 'originate': 20347, 'sébastien': 20348, 'bousquet': 20349, '‘strongest': 20350, 'ever’': 20351, '3hour': 20352, 'monetization': 20353, 'recents': 20354, 'catalan': 20355, 'sloppiness': 20356, '117': 20357, 'mmi': 20358, 'baubls': 20359, 'flatten': 20360, 'rory': 20361, 'pretenses': 20362, 'n500': 20363, '14days': 20364, 'composed': 20365, 'n8': 20366, 'tumble': 20367, 'cranbrook': 20368, 'devonshire': 20369, 'excruciatingly': 20370, 'saltless': 20371, 'unforced': 20372, 'obsess': 20373, 'voyage': 20374, 'smileys': 20375, 'lir➡atl': 20376, 'lir': 20377, 'weights': 20378, 'edmunds': 20379, '‘only': 20380, 'iphone4': 20381, 'replaces': 20382, 'ranger': 20383, 'smoothed': 20384, 'commotion': 20385, 'kamasutra': 20386, 'songs😤': 20387, '😨😣': 20388, 'loopholes': 20389, '😡😡😡😡😧😧😧😧please': 20390, 'flir': 20391, 'pennsylvania': 20392, '😓😓😓🙁': 20393, 'remiss': 20394, 'rockaway': 20395, 'varification': 20396, 'cristoforo': 20397, 'colombo': 20398, 'asmaa': 20399, 'oldbury': 20400, 'disagreed': 20401, 'rochelle': 20402, 'dl2811': 20403, '09p': 20404, '“loving': 20405, 'dom50”': 20406, 'obj': 20407, 'gamemodss': 20408, '50pt': 20409, '2837': 20410, 'schlep': 20411, '😳😳': 20412, 'wiht': 20413, 'gugust': 20414, 'thing’': 20415, 'aulani': 20416, 'emmanuel': 20417, 'killer”': 20418, '😢😰😭': 20419, 'luton': 20420, '🙌🙌🙌': 20421, 'screwball': 20422, '49am': 20423, 'jeopardise': 20424, 'sketch': 20425, 'salespeople': 20426, '203': 20427, 'payatpump': 20428, 'sskickoff': 20429, 'inertia': 20430, 'lisnagelvin': 20431, '“screenshot”': 20432, 'mayi': 20433, 'sister’': 20434, 'lacerated': 20435, 'acl': 20436, 'christa': 20437, 'plentiful': 20438, 'nocostemi': 20439, 'bubbly': 20440, 'debark': 20441, 'cooperative': 20442, 'nadeem': 20443, '😂👌🏻': 20444, 'loadig': 20445, 'bolivia': 20446, 'bellman': 20447, 'dos': 20448, 'dias': 20449, 'daub': 20450, 'dismissed': 20451, 'appotizing': 20452, 'wetland': 20453, 'clive': 20454, 'doctors': 20455, 'eldon': 20456, 'gong': 20457, 'br718b': 20458, 'endercrate': 20459, '🙁😡': 20460, '‘umm': 20461, 'frazzled': 20462, 'tryn2': 20463, 'recurrent': 20464, 'bollock': 20465, 'erst': 20466, 'cape’': 20467, 'jodi': 20468, 'ented': 20469, 'photographers': 20470, 'windown': 20471, 'vasco': 20472, 'walthamstow': 20473, 'ready”': 20474, 'mutahari': 20475, 'madseman': 20476, 'st89hr': 20477, 'eruca': 20478, 'sativa': 20479, 'trvst': 20480, '🍑': 20481, 'travelcars': 20482, 'whitecross': 20483, 'crohns': 20484, 'frontward': 20485, 'immingham': 20486, 'jarrett': 20487, 'parallel': 20488, 'transfarency': 20489, 'darcy': 20490, 'indefinitely': 20491, '👍👊': 20492, 'ernl': 20493, 'img': 20494, 'bristow': 20495, 'pistachios': 20496, 'halie': 20497, 'figurines': 20498, 'cug': 20499, 'sumthin': 20500, 'presign': 20501, 'presigned': 20502, 'willcall': 20503, 'charwoman': 20504, 'barge': 20505, 'smeared': 20506, 'autonomous': 20507, 'chromaticity': 20508, '🇨🇱': 20509, 'chrisscott': 20510, 'malik': 20511, 'fkight': 20512, '1174': 20513, 'koroyo': 20514, 'feline': 20515, 'gradients': 20516, 'masks': 20517, 'shapes': 20518, 'satanic': 20519, 'greenie': 20520, 'partnerships': 20521, 'karate': 20522, 'oldham': 20523, 'hudderfield': 20524, 'unleaded': 20525, 'carterton': 20526, 'oxfordshire': 20527, 'unwavering': 20528, 'ba118': 20529, 'terence': 20530, '15hours': 20531, 'freefrom': 20532, 'meringue': 20533, 'refrigerated': 20534, 'bucharesti': 20535, 'dispensers': 20536, '🤣🤣': 20537, 'lucian': 20538, 'upmost': 20539, 'adrianh': 20540, 'carrel': 20541, 'pouch': 20542, 'trounce': 20543, '600th': 20544, 'shortstop': 20545, '138': 20546, 'mystified': 20547, 'ruine': 20548, 'unpleasantly': 20549, 'paranormal': 20550, 'reduplicate': 20551, '🍾🥂🤗😎': 20552, 'kileleshwa': 20553, 'children’': 20554, '58pm': 20555, '🤙🏻': 20556, 'unbooked': 20557, 'mnths': 20558, 'cnnctn': 20559, 'insistence': 20560, 'bellingham': 20561, '3items': 20562, 'alfonso': 20563, 'oklahoman': 20564, '‘someone’': 20565, 'bransons': 20566, 'n351jb': 20567, 'gentlewoman': 20568, 'howay': 20569, 'lenny': 20570, 'bagage': 20571, 'cimb': 20572, 'bridgend': 20573, 'unmarried': 20574, 'karlos': 20575, 'unscheduled': 20576, 'aisham': 20577, 'chagrin': 20578, '295': 20579, 'wnt5gt': 20580, '🤢😷😂😭': 20581, 'fremont': 20582, 'lustrelessness': 20583, 'appraisal': 20584, 'stateless': 20585, 'forefront': 20586, 'gateau': 20587, 'unpacking': 20588, 'gonzales': 20589, 'thstblittle': 20590, 'rack💔': 20591, 'knw': 20592, '“loose”': 20593, 'abound': 20594, 'charade': 20595, 'fks': 20596, 'organizing': 20597, 'schedules🤷🏽\\u200d♀️💖': 20598, 'parris': 20599, 'othe': 20600, 'kalilah': 20601, 'jiashu': 20602, 'inserting': 20603, 'runt': 20604, 'pharmacy': 20605, 'powerbi': 20606, 'updateblobstorageconnector': 20607, '“connection': 20608, 'proceded': 20609, 'questioned': 20610, 'patronized': 20611, 'drivers’': 20612, 'upholstery': 20613, 'infomercials': 20614, 'dislodge': 20615, 'chasten': 20616, 'clot': 20617, 'samfamily': 20618, 'bt23': 20619, '6hj': 20620, 'anticipation': 20621, 'scrolled': 20622, 'rarest': 20623, '“folders': 20624, 'dropbox”': 20625, '“add”': 20626, '‘year’': 20627, 'rowing': 20628, 'alw': 20629, 'foley': 20630, 'chapel': 20631, 'sendero': 20632, 'luminoso': 20633, 'unconditional': 20634, 'lovelies': 20635, 'washroom': 20636, 'announcer': 20637, 'shuttlecock': 20638, 'tubful': 20639, 'cumble': 20640, '😳😁': 20641, 'teal': 20642, 'valium': 20643, '‘standard': 20644, 'class’': 20645, 'datas': 20646, 'techni': 20647, 'butterfield': 20648, 'stares': 20649, 'bikram': 20650, 'wasred': 20651, 'tunga': 20652, 'chanchaga': 20653, '298': 20654, 'placebo': 20655, '“change': 20656, 'flight”': 20657, 'culpable': 20658, 'untrustworthy': 20659, 'lawful': 20660, 'kelsi': 20661, 'cellar': 20662, 'tpnsew': 20663, 'propane': 20664, '🤔🤔😏': 20665, 'grittiness': 20666, 'personal😩😩😩': 20667, 'sole': 20668, '2wks': 20669, 'time2think': 20670, 'serbian': 20671, 'cyrillic': 20672, 'would’': 20673, 'downham': 20674, 'pedestrians': 20675, 'yoo': 20676, 'weep': 20677, 'a9': 20678, '15sec': 20679, 'dion': 20680, 'nursery': 20681, 'pinhead': 20682, '378': 20683, 'attd': 20684, 'nibbles': 20685, 'loreena': 20686, 'tactical': 20687, 'concealed': 20688, 'improvise': 20689, '1didnt': 20690, '2didnt': 20691, '3finally': 20692, '480p': 20693, 'deadlock': 20694, 'donos': 20695, 'phone…': 20696, 'serail': 20697, '👯': 20698, '27mins': 20699, '🤔🙄': 20700, 'scorpius': 20701, '⛅🍁': 20702, '☘️': 20703, 'msi': 20704, 'courtc': 20705, '😞tuning': 20706, '2nt': 20707, '2👂': 20708, 'starbucks': 20709, 'wia': 20710, 'the…': 20711, 'changeling': 20712, 'pentapati': 20713, 'slumber': 20714, 'mula': 20715, 'terible': 20716, 'brainstorm': 20717, 'belanganj': 20718, 'relegated': 20719, 'crackles': 20720, 'butane': 20721, 'of…': 20722, 'mccafe': 20723, 'cathie': 20724, 'crapping': 20725, 'flint': 20726, 'glossy': 20727, 'bled': 20728, 'bahrain': 20729, 'response👍🏻': 20730, 'freezies': 20731, 'robb': 20732, 'categoric': 20733, 'lka54jt32n': 20734, 'rupiah': 20735, 'shoppin': 20736, 'serafinowicz': 20737, 'down😞': 20738, 'bundt': 20739, '\\xad\\xad': 20740, '2mrw': 20741, 'sxw': 20742, 'soused': 20743, '70min': 20744, 'avert': 20745, 'patric': 20746, 'nachappa': 20747, 'fncrwt': 20748, 'mondawmin': 20749, 'chira': 20750, 'saba': 20751, 'coral': 20752, 'tarnishes': 20753, 'paradis': 20754, 'psychic': 20755, 'bigg': 20756, 'hotshot': 20757, 'longans': 20758, 'megascopic': 20759, 'nats': 20760, 'masn': 20761, 'yanks': 20762, 'merchandice': 20763, 'bagless': 20764, 'curriculum': 20765, 'scunthorpe': 20766, 'grassed': 20767, 'regagrds': 20768, 'awoof': 20769, '“made”': 20770, 'yeast': 20771, '£100tostand': 20772, 'volunteered': 20773, 'who’ve': 20774, 'cornish': 20775, 'embarassment': 20776, 'ba66': 20777, 'swimwear': 20778, 'curves': 20779, 'swimsuits': 20780, 'andrés': 20781, '🛫great': 20782, '🍷thank': 20783, 'slc➡️san': 20784, '👍🏽👻': 20785, 'bajaj': 20786, 'finserv': 20787, '1922': 20788, 'misfunction': 20789, '🔥👄': 20790, 'watsapp': 20791, 'railcards': 20792, 'a18': 20793, '😷😷😷': 20794, 'redelivered': 20795, '628': 20796, '😔🍩': 20797, '4million': 20798, '3718': 20799, '⭐️': 20800, 'astounding': 20801, 'nay': 20802, 'revlon': 20803, 'wand': 20804, 'espescially': 20805, 'msft': 20806, 'backspace': 20807, 'northerhampton': 20808, '😂😂😂😂😂😂😂😂': 20809, 'confining': 20810, 'kooky': 20811, 'bunco': 20812, 'accrd': 20813, '128gb': 20814, 'expirence': 20815, 'jockeys': 20816, 'reprimanded': 20817, 'gx30': 20818, 'sofiam': 20819, 'spitter': 20820, 'kets': 20821, 'asst': 20822, 'thrn': 20823, 'yiu': 20824, 'grind': 20825, 'eprint': 20826, 'avenel': 20827, 'wehn': 20828, 'journeycheck': 20829, '8420': 20830, 'lotman': 20831, 'loking': 20832, '😷😷': 20833, 'welshpool': 20834, 'complication': 20835, 'pureness': 20836, 'blackfriday': 20837, 'rifled': 20838, 'tireing': 20839, 'inp28a': 20840, '50mb': 20841, 'shorctuts': 20842, 'cc18': 20843, 'forwards': 20844, 'nicetreat': 20845, 'max2': 20846, 'messiness': 20847, 'constraint': 20848, 'childlike': 20849, 'ulimta': 20850, 'luncha': 20851, 'tres': 20852, 'blank…every': 20853, 'harrisburg': 20854, 'jonestown': 20855, 'ramie': 20856, 'brith': 20857, 'thanks❤': 20858, 'landlines': 20859, '985': 20860, '🐐': 20861, 'headland': 20862, 'czech': 20863, 'ms10': 20864, 'corruptible': 20865, 'convoluted': 20866, 'morose': 20867, 'systems’': 20868, 'gaga': 20869, 'subspecies': 20870, 'activison': 20871, 'belizean': 20872, 'relayed': 20873, 'back😞': 20874, 'dua': 20875, 'lipa': 20876, 'musics': 20877, 'predominantly': 20878, 'stripes': 20879, 'ssc': 20880, 'ericr': 20881, 'versatile': 20882, 'haddish': 20883, 'cun': 20884, '15m': 20885, 'iep': 20886, 'transplant': 20887, '🖕🖕': 20888, 'cymru': 20889, 'cymry': 20890, 'aa787': 20891, '990k': 20892, 'kubwa': 20893, 'faamous': 20894, 'spunk': 20895, 'sana': 20896, 'sautéed': 20897, 'spinach': 20898, 'heedful': 20899, 'duties': 20900, 'nagetive': 20901, 'cheerio': 20902, 'fitful': 20903, '😂😂😂🤦🏾\\u200d♀️': 20904, 'michelangelo': 20905, 'trere': 20906, 'clamorously': 20907, 'something’': 20908, 'melts': 20909, 'fqlt8u': 20910, '1715': 20911, 'hipstreet': 20912, 'outmoded': 20913, 'contradictory': 20914, 'soma': 20915, 'comcastfl': 20916, '4125': 20917, 'soln': 20918, 'hefty': 20919, 'reoair': 20920, 'samsung🤦🏽\\u200d♂️': 20921, 'overdrafts': 20922, 'sarai': 20923, 'ormskirk': 20924, 'squid': 20925, 'octopus': 20926, 'the🐟': 20927, 'seasonally': 20928, 'marlboro': 20929, 'noones': 20930, 'lavanya': 20931, 'baskar': 20932, 'she’ll': 20933, 'unearth': 20934, 'fazakerley': 20935, 'uhg': 20936, 'lavazza': 20937, 'millicano': 20938, 'mylab': 20939, 'ceased': 20940, 'aggro': 20941, 'remorseless': 20942, 'claw': 20943, 'endorser': 20944, 'nefarious': 20945, 'miscreants': 20946, 'geotags': 20947, 'wyck': 20948, 'brooks': 20949, 'unilaterally': 20950, 'reciprocated': 20951, 'rakshitha': 20952, 'spammy': 20953, 'gents': 20954, 'forefill': 20955, 'shay': 20956, 'neeraj': 20957, 'vivian': 20958, 'excl': 20959, 'sandlay': 20960, 'than2': 20961, 'rarer': 20962, 'mervyn': 20963, 'night’': 20964, 'gamebattles': 20965, 'detonating': 20966, 'stubble': 20967, 'anothers': 20968, 'deceiver': 20969, 'plecnz': 20970, 'approachability': 20971, 'oppressor': 20972, 'asm': 20973, 'positives': 20974, 'elasticsearch': 20975, '😯🙁': 20976, 'infallible': 20977, 'glistening': 20978, 'garnet': 20979, 'eyelids': 20980, 'jocelin': 20981, 'hrs—they': 20982, 'disassembled': 20983, 'cuddo’': 20984, 'bobbi': 20985, 'elder': 20986, 'dormancy': 20987, 'sues': 20988, 'bich': 20989, 'biktvh': 20990, 'gyp': 20991, 'ion360': 20992, 'immersive': 20993, 'ogbomoso': 20994, 'zucchini': 20995, 'fours': 20996, '2box': 20997, '–ag': 20998, 'yousef': 20999, 'larboard': 21000, 'fritter': 21001, 'idiocy': 21002, 'pneumatic': 21003, '‘email': 21004, '‘ve': 21005, 'a2dp': 21006, 'tooks': 21007, 'decamp': 21008, 'doodle': 21009, 'dateless': 21010, 'aa0571': 21011, 'arranger': 21012, 'malky': 21013, 'hdst': 21014, 'scones': 21015, 'n11': 21016, 'hull': 21017, 'descovered': 21018, 'frauded': 21019, 'brookie': 21020, 'qu': 21021, 'quietens': 21022, 'alwayse': 21023, 'lenox': 21024, 'dekametre': 21025, '1h10am': 21026, '😒🤥': 21027, 'nad': 21028, 'ghosted…': 21029, 'titanic': 21030, '😊🥕🎄😍': 21031, 'dummies': 21032, 'ashorina': 21033, 'vsco': 21034, 'hesitant': 21035, '👨🏽\\u200d🍳': 21036, 'kacey': 21037, 'retraining': 21038, '5yrs': 21039, 'latestest': 21040, 'guerrero': 21041, '29d': 21042, '4c66': 21043, '9d62': 21044, '4d2ff6e1cfa1': 21045, 'pitty': 21046, 'minsk': 21047, 'lunacy': 21048, 'raves': 21049, 'bbcamerica': 21050, 'that👎': 21051, 'resub': 21052, 'continuos': 21053, 'bottled': 21054, 'copenhagen': 21055, 'gate✔️my': 21056, '“same': 21057, 'day”': 21058, 'eliminating': 21059, 'mcdouble': 21060, 'brownish': 21061, 'lands': 21062, 'landover': 21063, '😔👎': 21064, 'vs104': 21065, 'mived': 21066, 'vs4048': 21067, 'revers': 21068, 'lj81lgu4c3': 21069, 'tabu': 21070, '🤔😜': 21071, 'srx': 21072, 'marathoning': 21073, '“last': 21074, 'kthnxbye': 21075, 'leopard': 21076, 'bry': 21077, 'arden': 21078, 'liter': 21079, '🇦🇺': 21080, 'pabllo': 21081, 'vittar': 21082, 'orbitz': 21083, 'eline': 21084, 'cass': 21085, 'larl': 21086, '😒🤔😩😡': 21087, '\\u200b\\u200b\\u200b\\u200b\\u200b': 21088, '😠😠😠😠😠': 21089, 'macs': 21090, 'discusses': 21091, 'somerset': 21092, 'tightly': 21093, 'whe': 21094, 'fib': 21095, 'want2listen2my': 21096, 'revolutionised': 21097, 'blitzed': 21098, 'grew': 21099, 'beasts': 21100, 'minced': 21101, 'passata': 21102, 'coonagh': 21103, 'sny': 21104, 'yankees': 21105, 'mets': 21106, 'passve': 21107, 'dentition': 21108, 'uncomplicated': 21109, 'voicestream': 21110, '‘accidentally’': 21111, '500mb': 21112, '606': 21113, 'reproducible': 21114, '“hwrlgk”': 21115, 'ridepass': 21116, 'redeliver': 21117, 'lane😎': 21118, 'overeat': 21119, 'fing': 21120, 'uy': 21121, 'vaguely': 21122, 'pertain': 21123, 'talbot': 21124, 'finisheds': 21125, 'plss': 21126, 'yestee': 21127, '900g': 21128, 'acceptions': 21129, 'dheeraj': 21130, 'uphill': 21131, 'hsts': 21132, 'hangout': 21133, 'respectively': 21134, 'uselessnw': 21135, '160km': 21136, 'empowering': 21137, 'strong”': 21138, 'future”': 21139, 'averaging': 21140, 'kyc': 21141, 'octo': 21142, 'buttered': 21143, 'dunk': 21144, 'dins': 21145, '😋😙': 21146, 'fohh': 21147, 'dl1374': 21148, 'ncl': 21149, 'daze': 21150, 'yizie': 21151, 'cahoots': 21152, '0814': 21153, 'fats': 21154, 'codpoints': 21155, 'saleroom': 21156, 'mathikere': 21157, 'neodymium': 21158, '2304': 21159, 'shankar': 21160, 'waver': 21161, 'isabelles': 21162, 'menstruum': 21163, 'raghu': 21164, 'archived': 21165, 'dah': 21166, 'civic': 21167, 'shepards': 21168, 'deepdale': 21169, 'hotfood': 21170, 'kebab': 21171, 'simulate': 21172, 'scrutinise': 21173, 'gaap': 21174, 'paulperkins': 21175, 's16': 21176, 'either😢': 21177, '748': 21178, 'naimullah': 21179, 'lnl': 21180, 'jaynee': 21181, '👟': 21182, 'ozzy': 21183, 'प्रतिक': 21184, 'it‘': 21185, 'haven‘': 21186, 'weekends…': 21187, 'crafty': 21188, '🤙🏼': 21189, '“as': 21190, 'copy”': 21191, '“but': 21192, '“save': 21193, 'as”': 21194, 'g6r6xo': 21195, 'niche': 21196, 'whispers': 21197, 'whs': 21198, 'gameshare': 21199, 'vikkie': 21200, 'liquidy': 21201, 'venetia': 21202, 'horan': 21203, 'budgeting': 21204, 'entrepreneurs': 21205, '💞😘': 21206, '🌱': 21207, 'amazonsmile': 21208, 'prosecute': 21209, 'desecrated': 21210, 'sil': 21211, 'cldnt': 21212, 'willow': 21213, 'longbeach': 21214, 'meanly': 21215, '2250': 21216, 'veer': 21217, 'promps': 21218, '😰😕': 21219, 'ttyl': 21220, 'now😂': 21221, '9ulls': 21222, '3962': 21223, 'dwarf': 21224, 'stereophonic': 21225, 'faded💔': 21226, '😍🚝': 21227, 'longlegs': 21228, 'prizm': 21229, 'ballard': 21230, 'redbull': 21231, 'unbowed': 21232, 'rockwell': 21233, 'danica': 21234, 'lumiere': 21235, 'unsubstantial': 21236, 'youtuber': 21237, 'interlock': 21238, 'rushden': 21239, 'lakes': 21240, 'playstation™store': 21241, 'arris': 21242, '5150': 21243, 'relatable': 21244, '😄👀': 21245, 'misgiving': 21246, 'fgcuwin': 21247, 'sudharma': 21248, '👏🏻👏🏻👏🏻👏🏻': 21249, 'smacking': 21250, 'sysyem': 21251, 'approving': 21252, 'merchants': 21253, 'parsnip': 21254, 'rom': 21255, 'disheartening': 21256, 'gravesend': 21257, 'millennial': 21258, 'millennials': 21259, 'vanishes': 21260, 'webheads': 21261, 'twitterites': 21262, 'swbf': 21263, 'atw': 21264, '10kg': 21265, 'mcgovern': 21266, '👏🏻': 21267, 'lwqsrq': 21268, 'edna': 21269, '🐢': 21270, 'trawling': 21271, 'col': 21272, '3xp': 21273, 'felon': 21274, 'balk': 21275, 'shear': 21276, 'kilbride': 21277, 'issuers': 21278, 'unhelpfully': 21279, '‘deal’': 21280, '❤😢': 21281, 'briana': 21282, 'brianaw': 21283, 'sesame': 21284, 'peeple': 21285, 'unfriendliest': 21286, '🙈🙉': 21287, 'firewall': 21288, 'nightlight': 21289, 'suds': 21290, 'righty': 21291, 'sollution': 21292, 'midia': 21293, 'utility’': 21294, 'internet’': 21295, 'advancedhelp': 21296, 'forsaken': 21297, 'spended': 21298, 'coincidentally': 21299, 'ganjar': 21300, 'sensational': 21301, 'facets': 21302, 'jinkies': 21303, 'lux': 21304, 'transpo': 21305, 'eyedropper': 21306, 'teaming': 21307, 'sheima': 21308, 'unethically': 21309, 'trepidation': 21310, '5cr': 21311, 'downhearted': 21312, 'whhat': 21313, 'changdako': 21314, 'specification': 21315, 'derision': 21316, 'cab’': 21317, 'seatbelt': 21318, '651': 21319, 'sepulveda': 21320, '🖕🏽🖕🏽🖕🏽🖕🏽': 21321, 'pew': 21322, 'magnifier': 21323, 'teensy': 21324, 'creased': 21325, 'nutrition': 21326, 'the📱better': 21327, 'worse👎🏼': 21328, 'firefire': 21329, 'merrick': 21330, 'fuxked': 21331, 'imusic': 21332, 'hebdomadal': 21333, 'terrycloth': 21334, 'orangeness': 21335, '550': 21336, '4release': 21337, 'shitheads': 21338, 'mislabeling': 21339, 'envir': 21340, 'excrement': 21341, 'supliers': 21342, 'marthe': 21343, 'toulouse': 21344, 'aholes': 21345, 'mistaken': 21346, 'ailish': 21347, 'sparm': 21348, 'congratz': 21349, 'elvetham': 21350, 'akair': 21351, 'pointbreaks': 21352, 'utc±00': 21353, '4mth': 21354, 'suprised': 21355, 'ddosing': 21356, 'brusk': 21357, 'climax': 21358, 'skippack': 21359, '👵🏼': 21360, 'barca': 21361, 'lhw': 21362, 'vocals': 21363, 'alamabeta': 21364, 'efun': 21365, 'osogbo': 21366, 'olorunda': 21367, '383rd': 21368, 'brushup': 21369, 'retains': 21370, 'koa': 21371, '“avoid': 21372, 'sprinklers”': 21373, 'snip': 21374, 'brock': 21375, '“overdraft': 21376, 'rewind”': 21377, 'winding': 21378, 'woman’': 21379, 'gmail’': 21380, 'paypal’': 21381, 'marathons': 21382, 'remedied': 21383, '–ay': 21384, 'yuunix': 21385, 'of30': 21386, 'unsaved': 21387, 'angieshaw': 21388, 'bst': 21389, 'ba1317': 21390, 'flybe': 21391, 'eas': 21392, 'arthrities': 21393, 'overstayed': 21394, 'regulative': 21395, 'agencies': 21396, 'havant': 21397, 'phenix': 21398, 'dl44': 21399, 'overpowering': 21400, 'resistance': 21401, 'fashioncreate': 21402, 'merton': 21403, 'sw19': 21404, 'gall': 21405, 'slender': 21406, 'impertinence': 21407, 'didactics': 21408, 'bwib': 21409, 'amorous': 21410, 'ｸﾞｯ': 21411, '￣ε￣〃': 21412, 'ｂ': 21413, '237mbps': 21414, 'admixture': 21415, 'overwritten': 21416, 'shaky': 21417, 'biger': 21418, 'usable—too': 21419, 'umesh': 21420, 'ginmill': 21421, 'giddiness': 21422, 'wormhole': 21423, 'domenico': 21424, 'wast9ng': 21425, 'mool': 21426, 'chand': 21427, 'laddie': 21428, 'daniele': 21429, 'cui': 21430, 'ksrx432': 21431, 'initialized': 21432, 'reevaluating': 21433, 'hinckley': 21434, '14working': 21435, 'tmobiile': 21436, 'nikhil': 21437, 'chorizos': 21438, '1z5v572e': 21439, 'tuh': 21440, '2343': 21441, 'brickhill': 21442, 'bedford': 21443, 'shipboard': 21444, 'lossless': 21445, 'blt': 21446, '💗💓🌸🌻🌼🌞✨💕': 21447, 'sprint1': 21448, 'tien': 21449, 'informat': 21450, 'revieved': 21451, 'raynard': 21452, '06yzxewtojxsgqtwrip9qa': 21453, 'colliers': 21454, 'lukewarm': 21455, 'uninteresting': 21456, 'credi': 21457, 'xb1x': 21458, 'ps4pro': 21459, 'unbar': 21460, 'tamra': 21461, '2451': 21462, 'tus': 21463, 'nonparallel': 21464, 'seemsto': 21465, '“delay”': 21466, 'opaque': 21467, 'unimpressive': 21468, 'braggy': 21469, 'unbending': 21470, 'mentation': 21471, 'morning’': 21472, 'sturm': 21473, 'und': 21474, 'drang': 21475, 'damilola': 21476, 'ba8735': 21477, 'muckup': 21478, 'shelled': 21479, 'prado': 21480, 'norcross': 21481, 'maxed': 21482, 'superstars': 21483, 'sbout': 21484, 'kylo': 21485, 'cosplay': 21486, 'forearm': 21487, 'kicker': 21488, 'ontop': 21489, 'picky': 21490, 'kelli': 21491, 'knkw': 21492, 'bit’': 21493, '1z88y7y': 21494, 'raul': 21495, 'jpmiles': 21496, 'ezeclick': 21497, 'scratching': 21498, 'pooop': 21499, 'merchandiser': 21500, 'yasmin': 21501, 'cholecalciferol': 21502, 'synchronize': 21503, 'esthetic': 21504, 'overflows': 21505, 'perf': 21506, 'firat': 21507, 'requalifying': 21508, 'hellot': 21509, 'rockwall': 21510, 'totalling': 21511, 'civilisation': 21512, 'stolidity': 21513, 'gaslighting': 21514, 'beckons': 21515, 'heals': 21516, '😴🔎💙': 21517, 'makh': 21518, 'thorns': 21519, 'succulent': 21520, 'tlk': 21521, '148': 21522, 'acexphi': 21523, 'wads': 21524, '2sir': 21525, 'money1': 21526, 'ferrells': 21527, '🌪✈️': 21528, 'homelife': 21529, 'juno': 21530, 'therapeutics': 21531, 'code”': 21532, 'shahganj': 21533, 'jaunpur': 21534, 'aystem': 21535, '12km': 21536, 'patrice': 21537, 'meghann': 21538, 'usability': 21539, 'slp': 21540, 'styed': 21541, 'shengyang': 21542, 'zhongsan': 21543, 'rmb': 21544, '3984': 21545, 'lgv10': 21546, 'tmp': 21547, 'scuse': 21548, 'b2s': 21549, 'koreasouth': 21550, 'allocationfailed': 21551, 'crackly': 21552, '“reputation”': 21553, 'hatchway': 21554, 'ocasional': 21555, 'josey': 21556, 'renders': 21557, 'danbury': 21558, 'resubbing': 21559, 'boils': 21560, 'brotherly': 21561, 'evaluation': 21562, 'tekken': 21563, '27ths': 21564, 'bedfordshire': 21565, '🤔🤔🤔🤔🤔': 21566, 'correlate': 21567, 'objectively': 21568, '😥😥😫😫': 21569, 'clement': 21570, 'dussehra': 21571, 'auspicious': 21572, 'jor': 21573, 'pounder': 21574, 'them😐’all': 21575, 'seb': 21576, '🤣🤣🤦🏽\\u200d♀️🤦🏽\\u200d♀️🤷🏽\\u200d♀️🤷🏽\\u200d♀️': 21577, 'parades': 21578, 'exclusives': 21579, 'etext': 21580, 'f10': 21581, 'restores': 21582, 'jolyon': 21583, 'phonix': 21584, 'decry': 21585, 'new🤔': 21586, 'nitesh': 21587, '5660': 21588, 'sliders': 21589, 'nakay': 21590, 'ideate': 21591, 'rec’': 21592, 'goner': 21593, 'manitowoc': 21594, '2wk': 21595, 'worthing': 21596, 'lyons': 21597, 'avions': 21598, 'stylishly': 21599, 'defrauded': 21600, 'n150': 21601, 'cuphead': 21602, 'captures': 21603, 'kaliena': 21604, 'hadnt': 21605, 'undersin': 21606, 'pedofile': 21607, 'pornographic': 21608, 'dl201': 21609, 'jaistambh': 21610, 'chowk': 21611, 'chhattisgarh': 21612, 'ruthmarie86': 21613, 'these…': 21614, 'with…': 21615, 'deliverable': 21616, 'giants': 21617, 'unaggressive': 21618, 'nec': 21619, '🤗♥️': 21620, 'unmannerly': 21621, 'snot': 21622, 'nosed': 21623, 'allhallows': 21624, 'experient': 21625, 'impel': 21626, 'pelletier': 21627, 'chronicles': 21628, 'porto': 21629, 'lorger': 21630, 'potentiality': 21631, 'serveral': 21632, 'tryingg': 21633, 'pinnacle': 21634, 'enquired': 21635, '👇🏼': 21636, 'esn': 21637, '¡gracias': 21638, 'evie': 21639, '💙🛫🦃': 21640, 'blasterx': 21641, 'plenti': 21642, 'rechargable': 21643, 'froid': 21644, 'rhythm': 21645, 'stephenie': 21646, 'idiot’': 21647, 'tpke': 21648, 'rememberance': 21649, 'durgesh': 21650, 'indigofera': 21651, 'tinctoria': 21652, 'mp04ta8404': 21653, 'instability': 21654, 'complaind': 21655, 'isus': 21656, 'masterchef': 21657, 'customercare': 21658, 'javen': 21659, 'instillation': 21660, 'lindh': 21661, 'cassino': 21662, 'pret': 21663, '🌮🌮🌮🌮🌮': 21664, '80min': 21665, '723': 21666, 'toot': 21667, 'magenta⁉': 21668, 'crayon': 21669, 'fa’': 21670, 'aa735': 21671, 'shelly': 21672, 'degrade': 21673, 'mce': 21674, 'divider': 21675, 'beryllium': 21676, 'winds': 21677, '👍every': 21678, '😂😂😂😂👍': 21679, '128gig': 21680, '32gig': 21681, '🛑': 21682, 'flipphone': 21683, '“swaddled': 21684, 'infant”': 21685, 'quesurito': 21686, 'arno': 21687, 'plantation': 21688, 'cockfosters': 21689, 'kensington': 21690, '🤦🏻\\u200d♂️👎🏼': 21691, 'confronting': 21692, 'hôtel': 21693, 'sounders': 21694, 'crawly': 21695, 'braving': 21696, 'wilderness': 21697, 'lapel': 21698, 'gutter': 21699, 'pomegranate': 21700, '⚙️': 21701, 'skepticism': 21702, '8lbs': 21703, 'arouse': 21704, 'kerrie': 21705, 'relaying': 21706, 'whatis': 21707, 'ranged': 21708, 'blastin': 21709, 'attractive': 21710, 'down😡': 21711, 'as498': 21712, 'shoplifting': 21713, 'ba2202': 21714, 'k8': 21715, '🤬😡🤬': 21716, 'nicked': 21717, '43mins': 21718, 'tubs': 21719, 'mingye': 21720, 'captureone': 21721, 'conflicts': 21722, 'fascinating': 21723, 'pissy': 21724, 'distances': 21725, 'dp1': 21726, 'lql': 21727, '90rs': 21728, '‘will': 21729, 'plane’': 21730, 'copious': 21731, 'impaired': 21732, '“calling': 21733, 'name”': 21734, '0673': 21735, 'geriatric': 21736, 'cablecard': 21737, '05p': 21738, '“we’re': 21739, 'mmom': 21740, 'nu😓': 21741, '‘mobilizing': 21742, 'hairband': 21743, 'dye': 21744, '3year': 21745, 'cmn': 21746, 'tyson': 21747, 'harris': 21748, 'feinting': 21749, '😴😤': 21750, 'whiskers': 21751, 'tighter': 21752, '👷🚧🎄': 21753, 'ℹ👉': 21754, 'perthis': 21755, 'synthesis': 21756, '❤❤❤❤': 21757, 'frak': 21758, 'frailty': 21759, 'polaroid': 21760, 'toilette': 21761, 'maritime': 21762, 'enclosure': 21763, 'warthogs': 21764, 'gic': 21765, '😁😎': 21766, 'playstore': 21767, 'chastisement': 21768, 'employers': 21769, 'changes”': 21770, 'reizenstein': 21771, 'p2p': 21772, 'koreans': 21773, 'mischa': 21774, 'roi': 21775, 'insoles': 21776, 'teapot': 21777, 'disfunction': 21778, 'homebutton': 21779, 'figureout': 21780, 'blain': 21781, '❤️🥕': 21782, 'trusty': 21783, 'comfirmed': 21784, 'tangle': 21785, 'overcooked': 21786, 'lotte': 21787, 'microbiology': 21788, 'pathfinder': 21789, 'ooo': 21790, 'nyasha': 21791, 'marissac': 21792, 'prouducts': 21793, 'thi…': 21794, 'inaction': 21795, 'stfu': 21796, 'ksa': 21797, '2247': 21798, '😠😡🌮': 21799, 'yoursoftware': 21800, 'pedophiles': 21801, 'maki': 21802, 'flips': 21803, 'rica': 21804, 'fnb': 21805, 'tatters': 21806, 'surrey': 21807, 'unbolted': 21808, 'whang': 21809, 'budgets': 21810, 'wombfruits': 21811, 'erecticle': 21812, 'philippa': 21813, 'shey': 21814, 'activatet': 21815, 'reprinted': 21816, '£56': 21817, 'iliangukia': 21818, 'horwich': 21819, 'carries': 21820, 'hotpockets': 21821, 'vueling': 21822, '“stop”': 21823, '🥛': 21824, 'wollet': 21825, 'lada': 21826, 'snobby': 21827, 'forrad': 21828, 'aftd': 21829, 'calin': 21830, 'borked': 21831, '“behind': 21832, 'lyrics”': 21833, '“lyrics”': 21834, 'quirky': 21835, '42gb': 21836, '»what’': 21837, 'plants': 21838, 'upgrd': 21839, 'thatsall': 21840, 'technican': 21841, 'bois': 21842, 'underst': 21843, 'hornbeak': 21844, '⭐️⭐️⭐️': 21845, 'jmizz': 21846, 'tock': 21847, 'typing”': 21848, 'straighteners': 21849, '“classic': 21850, 'austria': 21851, 'lindsaye': 21852, 'ingenuous': 21853, 'spalding': 21854, 'virginal': 21855, 'krushem': 21856, '4tbs': 21857, '1tbs': 21858, 'unmounted': 21859, 'uhd': 21860, 'emitting': 21861, 'diode': 21862, '😢😢😢😭😭💔💔💔': 21863, 'harrasment': 21864, 'ombudsman': 21865, 'edmund': 21866, 'hitman': 21867, 'fiction': 21868, 'moisture': 21869, 'soaking': 21870, 'redstone': 21871, 'kilode': 21872, 'outdone': 21873, 'yourswlf': 21874, 'chiliad': 21875, '2187': 21876, 'necropolis': 21877, 'fuckn': 21878, '686': 21879, 'lovebirds': 21880, 'ba0489': 21881, 'traceroute': 21882, 'dragonball': 21883, 'swooped': 21884, '4012': 21885, 'starwood': 21886, 'jono': 21887, 'snug': 21888, 'inclimate': 21889, 'canuck': 21890, 'resv': 21891, 'umunnakwe': 21892, 'celin': 21893, 'fishing': 21894, '“fix”': 21895, 'grateley': 21896, 'peripheral': 21897, '🙅🏻🙅🏻🙅🏻': 21898, 'pantheon': 21899, 'racquet': 21900, 'ralation': 21901, 'v30s': 21902, 'alesandro': 21903, 'gio': 21904, 'farmhouse': 21905, 'redneck': 21906, 'tep': 21907, 'swayze': 21908, 'reapply': 21909, 'sufferer': 21910, 'zona': 21911, 'ride😤': 21912, 'heeps': 21913, 'autoplaying': 21914, 'keely': 21915, 'desserts': 21916, 'glow': 21917, 'nihb9c': 21918, 'tpnb': 21919, 'etickets': 21920, 'maricar': 21921, 'hota': 21922, 'jati': 21923, 'pura': 21924, 'kristoffer': 21925, 'hawaiʻi': 21926, 'leanne’': 21927, 'nazie': 21928, 'arturo': 21929, '😶': 21930, 'marielyne': 21931, 'out😊': 21932, '😭😫': 21933, 'confect': 21934, 'sleep😔': 21935, 'scarey': 21936, 'helpers': 21937, 'philippine': 21938, 'peso': 21939, 'canaanite': 21940, 'taphouse': 21941, 'whew': 21942, 'distract': 21943, '0hrs': 21944, 'happenstance': 21945, '2280': 21946, '1zw': 21947, 'idimu': 21948, 'aderibigbe': 21949, '250m': 21950, 'inking': 21951, 'nobodies': 21952, '🤦🏼\\u200d♂️': 21953, 'rakesh': 21954, 'motorist': 21955, '‘understanding’': 21956, 'murdered': 21957, 'functioned': 21958, 'hululive—but': 21959, 'boon': 21960, 'sycamore': 21961, 'maroon': 21962, 'oversized': 21963, 'followings': 21964, 'hinding': 21965, 'exploration': 21966, '👍🏼✈️😊': 21967, 'yaa': 21968, 'wifi’': 21969, 'dosn': 21970, 'tryt': 21971, 'dosnt': 21972, 'endorsed': 21973, 'wiki': 21974, 'reel': 21975, 'flatus': 21976, '5845': 21977, 'retrovert': 21978, 'upgrand': 21979, 'bigot': 21980, 'imogene': 21981, '📱🔋🤷\\u200d♀️': 21982, 'atat': 21983, 'digs': 21984, 'roseadams': 21985, 'debase': 21986, 'redistributable': 21987, 'stammer': 21988, 'coustomer': 21989, '68p': 21990, 'ppsh': 21991, 'ba0362': 21992, 'staffer': 21993, 'shubham': 21994, 'custer': 21995, 'statistical': 21996, '2cellphone': 21997, 'aggrwal': 21998, 'gulf': 21999, 'reexamination': 22000, '“handed': 22001, 'resident”': 22002, 'cecile': 22003, 'twd': 22004, '🤡’': 22005, 'kelly’': 22006, 'aadventures': 22007, 'snafu': 22008, 'db1t733': 22009, 'personalize': 22010, 'carpeting': 22011, '7x10': 22012, 'baird': 22013, 'himashu': 22014, 'kapania': 22015, '13hrs': 22016, 'contesting': 22017, 'identifications': 22018, 'confutative': 22019, 'signalers': 22020, 'conductive': 22021, 'baring': 22022, 'strung': 22023, 'adrs': 22024, 'conveyors': 22025, 'splitter': 22026, 'spreadsheet': 22027, 'becks': 22028, 'pcb': 22029, 'ayam': 22030, '🎄🎁🎄🎅🏻❄️': 22031, '28am': 22032, 'tbc': 22033, 'bakeware': 22034, 'attribute': 22035, 'appointed': 22036, 'jog': 22037, 'drool': 22038, 'jeeps': 22039, 'coups': 22040, 'bimaz': 22041, 'benz': 22042, 'advert😍😍😍': 22043, '🎄🎆🎄🎆🎄🎆': 22044, '“next”': 22045, 'fuccs': 22046, 'fuccing': 22047, 'pist': 22048, '‘collection': 22049, 'tamar': 22050, 'satire': 22051, 'alafghan': 22052, 'fami': 22053, 'detour': 22054, 'tahll': 22055, 'posen': 22056, 'hadda': 22057, 'substantive': 22058, 'sentimental': 22059, 'stipulates': 22060, 'denuing': 22061, '6months': 22062, 'rugrats': 22063, 'auctioned': 22064, '21k': 22065, 'restructure': 22066, 'immensely': 22067, 'macmini': 22068, '✈️💕': 22069, 'uclawrence': 22070, 'collar': 22071, 'companys': 22072, 'ussa': 22073, 'usse': 22074, 'servise': 22075, 'suckis': 22076, 'gree†': 22077, 'p0': 22078, '“repair”': 22079, '3830': 22080, 'lbg': 22081, 'chas': 22082, 'hye': 22083, 'dm☺️': 22084, 'surgeries': 22085, 'ckers': 22086, 'fliers': 22087, 'racialism': 22088, 'umbrage': 22089, 'mish': 22090, 'dk': 22091, 'unmovable': 22092, 'nice”': 22093, 'relinked': 22094, 'indb': 22095, 'zhang': 22096, 'yixings': 22097, 'italia': 22098, 'enemies': 22099, 'yeading': 22100, 'successiveness': 22101, 'rosy': 22102, 'experience👎👎': 22103, 'modeled': 22104, 'syncd': 22105, 'webapps': 22106, 'haemoglobin': 22107, 'melissastephens': 22108, '😃🙌': 22109, 'ukvut': 22110, 'kunas': 22111, 'amazonhelp': 22112, 'heels': 22113, 'abdominal': 22114, 'muscle': 22115, 'manana': 22116, 'hasheesh': 22117, 'hasbrowns': 22118, '🖕🏾🖕🏾🖕🏾': 22119, 'skeleton': 22120, 'walkouts': 22121, 'pouring': 22122, 'celia': 22123, 'sanchez': 22124, 'eest': 22125, 'covina': 22126, 'workman': 22127, 'sred': 22128, 'cedit': 22129, 'raylene': 22130, 'smirked': 22131, 'proposed': 22132, 'tearms': 22133, 'lbk': 22134, 'afghanistan': 22135, 'susheel': 22136, 'deepa’': 22137, 'wonders': 22138, 'fr😂😂': 22139, '7x': 22140, '‘regular’': 22141, 'sky’': 22142, 'thermometer': 22143, '35pm': 22144, 'speedbird': 22145, '“aka': 22146, 'skies”': 22147, 'ervce': 22148, 'pimp': 22149, 'butterfly': 22150, 'soured': 22151, 'grated': 22152, 'gatsby': 22153, 'garki': 22154, 'axis': 22155, 'jide': 22156, 'thrilling': 22157, 'ferrell': 22158, 'cheese”': 22159, '“apology': 22160, 'pizza”': 22161, '😧😣😟🙁🤢': 22162, 'jessalyn': 22163, 'disembodied': 22164, 'aal1293': 22165, 'pecan': 22166, 'wronged': 22167, 'laurenchan': 22168, 'postive': 22169, 'hypnotism': 22170, 'chocolatiest': 22171, 'aparts': 22172, 'trachinotus': 22173, 'falcatus': 22174, 'lol’': 22175, 'dissappeared': 22176, 'hampered': 22177, 'injustice': 22178, '3310': 22179, 'chancing': 22180, 'hulus': 22181, 'vanderwaal': 22182, 'evolve': 22183, 'rejoin': 22184, 'christofer': 22185, 'winphone10': 22186, 'm30': 22187, 'luftwaffe': 22188, 'drilling': 22189, 'floral': 22190, 'deja': 22191, 'chu': 22192, '‘fukrey’': 22193, '60k': 22194, '359': 22195, 'ascendence': 22196, 'solace': 22197, 'sherwin': 22198, 'l5ely2': 22199, '✊🏽✊🏽': 22200, 'depriving': 22201, 'talents': 22202, 'spying': 22203, 'stneots': 22204, '💲💲': 22205, '5602': 22206, 'hakuna': 22207, 'haja': 22208, 'nipate': 22209, 'foreland': 22210, 'inboxes': 22211, 'dmk': 22212, 'hdy': 22213, 'note3': 22214, '435hdc': 22215, 'p2': 22216, 'is😭': 22217, 'drum': 22218, 'nismo': 22219, 'slingtv': 22220, 'palomarchicago': 22221, 'aleem': 22222, 'overlooking': 22223, 'sorrento': 22224, 'hendersonville': 22225, '500k': 22226, 'disappointments': 22227, 'elmhurst': 22228, 'shoreditch': 22229, 'insubstantial': 22230, 'particulate': 22231, 'respirators': 22232, 'roomy': 22233, 'rina': 22234, 'faze': 22235, 'quickscoper': 22236, 'thankful🙏🏼🙏🏼': 22237, 'misses': 22238, 'by”': 22239, 'remarkable': 22240, 'ferryboat': 22241, 'predecessor': 22242, '1150': 22243, 'myamjacob44': 22244, 'n1981': 22245, 'n1961': 22246, 'nonremittal': 22247, 'expedience': 22248, '90min': 22249, 'blantantly': 22250, 'inkiness': 22251, '💆': 22252, 'attendent’': 22253, 'tana': 22254, 'chippy': 22255, '👆see': 22256, 'neutral': 22257, 'blowhole': 22258, '✍️': 22259, '1oct': 22260, 'vtn': 22261, 'bgwq': 22262, 'jusy': 22263, 'pint': 22264, 'flgts': 22265, 'yike': 22266, 'offender': 22267, '656': 22268, 'ygis': 22269, 'paolo': 22270, 'joinder': 22271, 'shrugs': 22272, 'doorsteps': 22273, 'uncovering': 22274, 'handoff': 22275, 'optimisation': 22276, 'therein': 22277, 'turn10': 22278, 'hei': 22279, 'wripped': 22280, 'pears': 22281, 'soils': 22282, 'toxicity': 22283, '“equipment”…': 22284, '🙂we': 22285, 'fd399': 22286, 'cxled': 22287, 'os4': 22288, 'borough': 22289, 'wallasey': 22290, 'crossover': 22291, 'lanre': 22292, 'burgher': 22293, 'daum': 22294, 'unreadable': 22295, 'phenomenally': 22296, 'applause': 22297, '⚔️': 22298, 'reb': 22299, 'aa0175': 22300, 'kennington': 22301, '“sweater”': 22302, 'abhay': 22303, 'amazonin': 22304, 'confessed': 22305, 'desmond': 22306, '🐮': 22307, 'acquaint': 22308, 'fireplace': 22309, 'nutcrackers': 22310, 'robber': 22311, '“£5”': 22312, 'virgins': 22313, 'deodorants': 22314, 'itemisation': 22315, 'transformed': 22316, 'volte': 22317, 'antonius': 22318, 'alsp': 22319, 'accn': 22320, 'mht': 22321, 'oversupply': 22322, 'uniting': 22323, 'stak': 22324, 'getin': 22325, 'steak👎': 22326, 'plaything': 22327, 'digress': 22328, 'relie': 22329, 'wensite': 22330, 'numeration': 22331, 'majestic': 22332, 'wraith': 22333, 'gatherer': 22334, 'discernible': 22335, 'kinect’': 22336, 'lizzie': 22337, 'resigned': 22338, 'fenty': 22339, 'ers': 22340, '😤😤😤😤': 22341, 'atv4': 22342, '2107': 22343, '⛽️': 22344, 'bekki': 22345, 'bescot': 22346, 'live⚡️🔥': 22347, '“pending”': 22348, 'affection': 22349, 'bids': 22350, 'hun': 22351, 'prevention': 22352, 'csv': 22353, '😂😭🙊': 22354, 'shun': 22355, 'ubnt': 22356, '“hot': 22357, 'item”': 22358, 'unfavorited': 22359, '“action”': 22360, 'yoiu': 22361, 'wan2': 22362, '4black': 22363, 'messege': 22364, 'usng': 22365, 'clickin': 22366, '‘girls’': 22367, 'dl1230': 22368, 'obfuscated': 22369, 'mariano': 22370, 'candles': 22371, 'autumnal': 22372, 'perceptiveness': 22373, 'chalky': 22374, 'powder': 22375, 'teri': 22376, 'impermanent': 22377, 'piles': 22378, 'depressive': 22379, 'websire😬': 22380, 'bria': 22381, '99p': 22382, 'criss': 22383, '😐⭐️': 22384, '10°': 22385, '35°': 22386, 'qstn': 22387, 'pomegranate”': 22388, '“best': 22389, 'cards”': 22390, 'heavens': 22391, 'oau': 22392, 'parter': 22393, 'gwnrdp': 22394, 'mahbub': 22395, 'kshs267': 22396, 'riled': 22397, 'megs': 22398, 'flythru': 22399, 'contravene': 22400, 'exclusions': 22401, 'benson': 22402, 'orderda': 22403, 'sucha': 22404, 'battlestar': 22405, 'galactica': 22406, 'asap”': 22407, 'curator': 22408, 'activates': 22409, 'yesenia': 22410, 'pewsey': 22411, 'juke': 22412, 'flushed': 22413, 'gabriela': 22414, 'wowed': 22415, 'daimond': 22416, 'assult': 22417, 'closse': 22418, 'gwml': 22419, 'music5': 22420, 'badala': 22421, 'tehsil': 22422, 'hansi': 22423, 'hisar': 22424, 'tholepin': 22425, 'gerne': 22426, 'vanesa': 22427, 'seatools': 22428, 'cnflctng': 22429, 'nocturnal': 22430, '38aest': 22431, '55aest': 22432, '30aest': 22433, '13pest': 22434, 'conclusively': 22435, 'baki': 22436, 'gratify': 22437, 'finnair': 22438, 'está': 22439, 'disorganisation': 22440, 'disdainful': 22441, 'wobbly': 22442, '5406': 22443, 'motörhead': 22444, '28c': 22445, 'bischoff': 22446, 'nichelle': 22447, 'concealing': 22448, 'custard': 22449, 'creams': 22450, '🙈😭': 22451, '“solution': 22452, 'snort': 22453, 'martins': 22454, 'heron': 22455, 'abney': 22456, '😞😭😒🤦🏻\\u200d♀️': 22457, '17mins': 22458, 'uberxl': 22459, 'reform': 22460, 'midshow': 22461, 'codsall': 22462, 'missguided': 22463, 'senzen': 22464, 'defilement': 22465, 'province': 22466, 'phlebotomy': 22467, 'frowny': 22468, 'jakob': 22469, 'funmi': 22470, 'catalina': 22471, 'masquerade': 22472, '3548': 22473, 'leases': 22474, '😩😩😩😕😕': 22475, 'certainty': 22476, 'contestation': 22477, 'mishelle': 22478, 'activsion': 22479, 'normandie': 22480, '4954': 22481, 'zte': 22482, 'quartz': 22483, 'ptx': 22484, 'uht': 22485, 'angled': 22486, '€1': 22487, '😍😂': 22488, 'galary': 22489, 'empir': 22490, 'boisar': 22491, 'aviv': 22492, 'shelley': 22493, 'cosmetic': 22494, '311': 22495, '699': 22496, '709': 22497, 'warcross': 22498, '😎🎉': 22499, 'özlem': 22500, 'vigilant': 22501, 'keeo': 22502, 'cwmbran': 22503, 'blair': 22504, 'treyarch': 22505, 'fallfun': 22506, 'norther': 22507, 'mía': 22508, 'vi7wxi': 22509, 'artefact': 22510, '‘abrasion’': 22511, 'tokimeki': 22512, '\\u200bfollowing': 22513, 'shreveport': 22514, 'mispelled': 22515, 'bigmacs': 22516, 'wrappers': 22517, 'prising': 22518, 'getvon': 22519, 'trash🚮': 22520, 'trained🚫': 22521, 'free🙄': 22522, 'hunched': 22523, 'demotivated': 22524, 'razer': 22525, 'judd': 22526, 'upgarde': 22527, 'whois': 22528, 'saran': 22529, 'pixelating': 22530, 'rah': 22531, 'restful': 22532, 'plushes': 22533, 'brisket': 22534, 'prefix': 22535, '0746': 22536, 'seirra': 22537, 'impingement': 22538, 'autorenew': 22539, 'embrasure': 22540, 'sourav': 22541, 'slopey': 22542, 'shoulder': 22543, 'ema': 22544, 'scavenger': 22545, 'mascots': 22546, 'grates': 22547, 'marquis': 22548, 'toyal': 22549, '😵😵😵😢😢😢': 22550, 'vinnie': 22551, 'e13': 22552, 'dl1665': 22553, '😳😒': 22554, 'victory': 22555, 'sweeper': 22556, 'sternly': 22557, 'mash': 22558, 'ecover': 22559, 'samia': 22560, 'antechamber': 22561, 'masteringphysics': 22562, 'nosepiece': 22563, 'bod': 22564, 'narc': 22565, 'twine': 22566, 'doublespeak': 22567, '6siege': 22568, 'organizer': 22569, 'htgawm': 22570, 'reentered': 22571, 'fills': 22572, '173': 22573, 'seryoso': 22574, 'liit': 22575, 'namin': 22576, 'meron': 22577, 'dito': 22578, 'ascend': 22579, 'widd': 22580, '🤦🏽\\u200d♀️😂': 22581, 'alexgreen': 22582, 'hessa': 22583, 'intemperately': 22584, 'codec': 22585, 'gigi': 22586, 'reynoldsburg': 22587, 'help🙂🙂': 22588, 'beaumont': 22589, 'pluses': 22590, 'nerfed': 22591, 'saki': 22592, '16oct17': 22593, 'cheapjack': 22594, 'antimony': 22595, '1145am': 22596, 'popley': 22597, 'johnson': 22598, '✈️👍🏼': 22599, '——': 22600, 'rolleyes': 22601, '38secs': 22602, '😆you’re': 22603, 'crf': 22604, 'thanks®': 22605, 'senesce': 22606, '827': 22607, 'pitter': 22608, 'patter': 22609, 'morden': 22610, 'teem': 22611, 'corking': 22612, '0554': 22613, '😱😱😱😱': 22614, 'r25': 22615, 'uncompromising': 22616, 'transposed': 22617, 'e175s': 22618, 'crumpled': 22619, 'masse': 22620, 'hells': 22621, 'mairi': 22622, 'craw': 22623, 'plan”': 22624, '2gb…': 22625, 'credits…': 22626, 'yohana': 22627, 'prerelease': 22628, '13nov': 22629, '🤦🏼\\u200d♀️🤦🏼\\u200d♀️🤦🏼\\u200d♀️🤦🏼\\u200d♀️👿👿👿👿👿': 22630, 'bingley': 22631, 'ino': 22632, 'loren': 22633, 'fistbump': 22634, 'punched': 22635, 'blk': 22636, 'rundown': 22637, 'sedan': 22638, '“you’re': 22639, 'asynchronous': 22640, 'scalawag': 22641, 'panels': 22642, 'standardised': 22643, 'f13thegame': 22644, 'hayward’': 22645, '“pay': 22646, 'store”': 22647, 'it😤': 22648, 'stev': 22649, '🤦🏼\\u200d♂️error': 22650, '🤷🏽\\u200d♀️😩': 22651, 'unborn': 22652, 'unconventional': 22653, 'afrom': 22654, 'agr': 22655, 'mila': 22656, 'apko': 22657, 'uska': 22658, 'dugi': 22659, 'amiep': 22660, 'refurnished': 22661, 'stinkpot': 22662, 'cleansing': 22663, 'anecdotes': 22664, 'thieving': 22665, 'flashed': 22666, 'jaipur': 22667, '“pre': 22668, 'tree”': 22669, '😡🙈': 22670, 'puk': 22671, 'moro': 22672, '“affordable”': 22673, 'suspicios': 22674, 'mixups': 22675, 'misinfo': 22676, 'codecs': 22677, 'quicktime': 22678, 'prores': 22679, '😓😷': 22680, 'kmrzft': 22681, 'pierce': 22682, 'debilitation': 22683, 'athi': 22684, 'rulashe': 22685, 'donalds': 22686, 'rondebosch': 22687, 'craze': 22688, 'mouths': 22689, 'though😉': 22690, 'goosey': 22691, 'ciao': 22692, '1992': 22693, 'boise': 22694, 'mchtr': 22695, 'superstar': 22696, 'a25': 22697, 'jessep': 22698, '💘mcdonalds💘': 22699, 'french💘': 22700, 'fries💘': 22701, 'warranties': 22702, 'dl1616': 22703, 'hairy': 22704, 'trapping': 22705, 'sleazy': 22706, 'ikr': 22707, 'job”': 22708, 'termintate': 22709, 'conections': 22710, '🦇🔮': 22711, 'worest': 22712, 'victimize': 22713, 'evon': 22714, 'crescent': 22715, 'permits': 22716, 'roxie': 22717, 'althought': 22718, 'massage': 22719, 'recalled': 22720, '601': 22721, 'pooped': 22722, 'tabloids': 22723, 'jobsworths': 22724, 'ixr': 22725, 'tescos': 22726, 'everynight': 22727, 'timon': 22728, 'aw3': 22729, 'cz': 22730, 'johnetta': 22731, '150dec': 22732, 'knell': 22733, '☁': 22734, '415': 22735, 'jacinth': 22736, 'shorten': 22737, '🎄check': 22738, 'fillers': 22739, '“fast': 22740, 'track”': 22741, 'attacking': 22742, 'yoyr': 22743, 'discourteous': 22744, 'uds': 22745, '£39': 22746, 'ayisha': 22747, 'afflicted': 22748, 'ofallon': 22749, 'towns': 22750, '3804': 22751, 'aa5397': 22752, 'strives': 22753, 'maam': 22754, 'dueto': 22755, 'feverishness': 22756, 'brochitis': 22757, 'reexamine': 22758, 'fdbk': 22759, '“oo': 22760, 'gbe': 22761, 'egun': 22762, 'eleegun”': 22763, 'founded': 22764, 'federico': 22765, '🌁🍗': 22766, 'undone': 22767, 'witb': 22768, '16am': 22769, 'brightens': 22770, 'silverburn': 22771, 'weirdest': 22772, '😁👍🏻': 22773, 'inflated': 22774, 'viorel': 22775, '😉👑': 22776, 'kaye': 22777, 'calender': 22778, 'ba197': 22779, 'obeys': 22780, 'bongapoints': 22781, 'used4my': 22782, 'dirtbags': 22783, 'bandaged': 22784, 'hornchurch': 22785, '“there': 22786, 'enfeeble': 22787, 'differed': 22788, 'phillip': 22789, 'wtfapple': 22790, 'thanks—but': 22791, 'melodramatic': 22792, 'exprs': 22793, 'gambling': 22794, '3weeks': 22795, 'cheeses': 22796, '402': 22797, 'nautical': 22798, 'daneza': 22799, 'fightin': 22800, 'expanded': 22801, 'starz': 22802, 'lxviii': 22803, 'postdate': 22804, 'suck’😤': 22805, '49pm': 22806, 'surreal': 22807, 'flaked': 22808, 'quentin': 22809, '20€': 22810, '🌐': 22811, 'trudy': 22812, 'tjjones': 22813, 'pic…': 22814, '102rs': 22815, '35kms': 22816, '35km': 22817, 'sinister': 22818, 'pil': 22819, 'lawcourt': 22820, 'nilla': 22821, 'hotelvintagepdx': 22822, 'windsock': 22823, 'caps—and': 22824, 'enforcement—on': 22825, '50gb': 22826, '👍🏾👏🏾👏🏾👏🏾': 22827, 'kobe': 22828, 'kmt': 22829, 'massacre': 22830, 'passports': 22831, 'tmro': 22832, 'gandy': 22833, 't460s': 22834, 'machinist': 22835, 'nellis': 22836, '352': 22837, 'youngn’👲🏽✊🏽': 22838, 'disproportionately': 22839, 'dumber': 22840, 'hydrated': 22841, 'kissimmee': 22842, '3bars': 22843, 'bttm': 22844, 'susannah': 22845, 'netwk': 22846, 'pasture': 22847, 'pple': 22848, 'ekiti': 22849, 'ondo': 22850, 'trolls': 22851, 'hough': 22852, '“tough”': 22853, 'indestructible': 22854, 'drivin': 22855, 'guarded': 22856, 'definetly': 22857, 'awespme': 22858, 'agbor': 22859, 'joureny': 22860, 'avaritia': 22861, 'eudaimonia': 22862, 'lucre': 22863, '🤑': 22864, 'hazzard': 22865, 'celtics': 22866, 'pacifier': 22867, 'joan': 22868, 'freeload': 22869, 'gainful': 22870, 'somewhere👌': 22871, 'indefensible': 22872, '😝😝': 22873, 'regroup': 22874, '6📱': 22875, 'tropicana': 22876, 'unblocking': 22877, 'optimizing': 22878, 'europium': 22879, 'rupaul': 22880, 'amandacross': 22881, 'mohammedw': 22882, 'crapshow': 22883, 'ifran': 22884, 'addendum': 22885, 'happing': 22886, 'rapist': 22887, 'britains': 22888, 'offenders': 22889, 'deeds': 22890, 'blackcab': 22891, 'unwelcoming': 22892, 'systemupdate': 22893, '😱😑': 22894, 'strained': 22895, 'juniorbeaman': 22896, 'anaesthetic': 22897, 'therevis': 22898, 'astana': 22899, 'rips': 22900, 'essas': 22901, 'belezuras': 22902, 'stills': 22903, 'receving': 22904, 'folded': 22905, 'elhenawy': 22906, '22e': 22907, 'skinflint': 22908, 'enables': 22909, '“more”': 22910, 'well”': 22911, 'valencia': 22912, 'fleecing': 22913, 'ebookers': 22914, 'romulo': 22915, 'undownloading': 22916, '💆🏽': 22917, 'handedly': 22918, 'contentservice': 22919, 'cscfg': 22920, 'parsed': 22921, 'scuffle': 22922, 'gheselle': 22923, 'whipe': 22924, 'admatting': 22925, 'transiting': 22926, '“nike': 22927, 'lj83ldlo4p': 22928, 'faten': 22929, 'gazillion': 22930, 'rubi': 22931, 'crony': 22932, 'makkah': 22933, 'samanthadeolloqui': 22934, 'unworn': 22935, '1024gb': 22936, '952gb': 22937, 'occlude': 22938, 'gambled': 22939, 'provoked': 22940, 'k6': 22941, 'epileptic': 22942, '1004': 22943, '€64': 22944, '1126': 22945, 'rideshare': 22946, 'juiceup': 22947, 'eden': 22948, 'calpe': 22949, 'agata': 22950, 'promethium': 22951, 'councilor': 22952, 'tyvm': 22953, 'rs5': 22954, 'reseated': 22955, 'amtruta': 22956, 'sofresh': 22957, 'arraged': 22958, 'placate': 22959, 'musixmatch': 22960, 'reauthorizing': 22961, 'webchat': 22962, 'ashanti': 22963, 'tamia': 22964, 'struggly': 22965, '🤔🙏🏻': 22966, 'ria': 22967, 'wristbands': 22968, 'nathen': 22969, 'siobhan': 22970, 'ravishment': 22971, 'bonkers': 22972, '✈️😌': 22973, 'duncanworks': 22974, 'affiliation': 22975, '🎇': 22976, 'jonah': 22977, 'axiata': 22978, 'robocop': 22979, 'agreeing': 22980, 'kingsteignton': 22981, '1730': 22982, '😞😭😭': 22983, 'attentiveness': 22984, 'disengaged': 22985, 'antlarr': 22986, 'my📱13': 22987, 'obstructed': 22988, '60days': 22989, 'pinless': 22990, 'topup': 22991, 'hols': 22992, 'rehearse': 22993, '50ms': 22994, 'dashawndafoster': 22995, 'forte': 22996, 'discern': 22997, 'obsession': 22998, 'decapitated': 22999, 'thrid': 23000, 'tbell': 23001, 'punts': 23002, 'xbo': 23003, 'aboriginal': 23004, 'inebriate': 23005, 'complicate': 23006, 'jams': 23007, 'leanna': 23008, 'slow😣': 23009, 'demandy': 23010, 'maintenence': 23011, 'reinstating': 23012, '✌️✌️✌️': 23013, 'mobbed': 23014, 'qaeda': 23015, 'evade': 23016, 'chuckle': 23017, 'escalator': 23018, '5697': 23019, 'seahawks': 23020, '🎄🎅🏻': 23021, 'kaiden': 23022, 'cutscene': 23023, 'thompson': 23024, 'vey': 23025, 'finnish': 23026, 'terve': 23027, 'yksi': 23028, 'kaksi': 23029, 'kolme': 23030, 'beautful': 23031, 'grumblers': 23032, 'twentieth': 23033, 'fingerstall': 23034, 'xxxi': 23035, 'astric': 23036, 'symbolization': 23037, 'prov': 23038, 'underinvests': 23039, 'way”': 23040, 'translates': 23041, '“gfy': 23042, 'convincingly': 23043, 'cabaret': 23044, 'aperture': 23045, 'iteration': 23046, 'airdropping': 23047, 'latoya': 23048, 'sukri': 23049, '149st': 23050, '🎊': 23051, 'haps': 23052, '‘may': 23053, 'larvae’': 23054, 'limp': 23055, 'cxn': 23056, 'differing': 23057, 'romania': 23058, 'gopicnics': 23059, 'mimiola': 23060, 'quintessentially': 23061, 'cabanas': 23062, 'calibration': 23063, 'utilitarian': 23064, 'bruno': 23065, 'mahima': 23066, 'steinman102': 23067, '500th': 23068, 'wreaths': 23069, 'distressfulness': 23070, 'proficiency': 23071, 'injurious': 23072, 'centres': 23073, '🗣this': 23074, 'nazka': 23075, 'checkpoints': 23076, 'favourited': 23077, 'plantains': 23078, '0723': 23079, '329': 23080, 'gettingg': 23081, 'pepers': 23082, '🌶': 23083, 'vzfios': 23084, 'representations': 23085, 'iomega': 23086, 'ix4': 23087, '200d': 23088, 'st20dm001': 23089, 'st20dm006': 23090, 'ninoy': 23091, 'aquino': 23092, 'liscense': 23093, 'traumatised': 23094, 'diazepam': 23095, 'mukbang': 23096, 'assistance👍': 23097, 'rayleigh': 23098, 'careworn': 23099, 'n345': 23100, 'bonomo': 23101, 'thulium': 23102, 'contentedness': 23103, 'videomicro': 23104, 'martial': 23105, 'psh': 23106, 'commentating': 23107, 'ordinance': 23108, 'contractually': 23109, 'otiose': 23110, 'salamander': 23111, 'system’': 23112, '345': 23113, '495': 23114, 'robosupport': 23115, 'balraj': 23116, 'thom': 23117, 'heic': 23118, 'encoded': 23119, 'objet': 23120, '28”': 23121, 'skylanders': 23122, 'pastor': 23123, 'nim': 23124, 'cak': 23125, 'bong': 23126, '“mobile': 23127, 'notifications”': 23128, '“discounts': 23129, '“off”': 23130, 'cowley': 23131, 'meddlesome': 23132, 'uneager': 23133, 'elect': 23134, 'callouse': 23135, 'tails': 23136, 'lcj648': 23137, '23🤔': 23138, 'replaced—antiques': 23139, 'hospitals': 23140, 'ganga': 23141, 'kims': 23142, 'trivandrum': 23143, 'negatives': 23144, 'applicationinsights': 23145, 'lucas’': 23146, 'overpayment': 23147, 'mediocre': 23148, 'arty': 23149, 'eml': 23150, 'aimlessly': 23151, 'tragically': 23152, 'undrerstand': 23153, '2030': 23154, 'cancld': 23155, 'betrayal': 23156, 'lola': 23157, 'owls': 23158, 'kitschy': 23159, 'kerning': 23160, 'unaired': 23161, 'discarded': 23162, 'teachers': 23163, 'yvj': 23164, '1bn': 23165, 'landfilled': 23166, 'wish😂': 23167, 'overreact': 23168, 'a15': 23169, 'selden': 23170, '384': 23171, '731': 23172, 'randomguy': 23173, 'backyard': 23174, 'ususl': 23175, 'vips': 23176, 'proximity': 23177, 'burr': 23178, 'ornaments': 23179, 'salima': 23180, 'expectedly': 23181, 'wallop': 23182, 'i880': 23183, 'i80': 23184, 'mateo': 23185, 'traff': 23186, 'mastermind': 23187, 'virtualmachines': 23188, 'storageaccountnotfound': 23189, 'reqst': 23190, 'altough': 23191, 'parkhead': 23192, '💃🕺🎶': 23193, 'supplements': 23194, 'wft': 23195, '🖕🏻jfk': 23196, 'equate': 23197, 'hmw235eww3': 23198, 'hmx2mrfsz2': 23199, 'murdo': 23200, '90days': 23201, 'desegregation': 23202, 'demesne': 23203, 'prisoner': 23204, 'rajaram': 23205, 'lass': 23206, 'dcx': 23207, '3400': 23208, 'condoned': 23209, 'intoxicating': 23210, 'quarantine': 23211, 'widgets': 23212, 'eunice': 23213, 'q9h7k3': 23214, 'g430': 23215, 'prepayment': 23216, 'froud': 23217, 'misselling': 23218, 'nagwa': 23219, '🤔🤔👎🏻': 23220, 'personification': 23221, 'diligence': 23222, 'schoolwork': 23223, 'submarine': 23224, '03pm': 23225, 'wampum': 23226, 'hangup': 23227, 'excoose': 23228, 'mee': 23229, 'speeling': 23230, 'sausalito': 23231, '8years': 23232, 'fatima': 23233, 'cherish': 23234, 'hundre': 23235, 'pencils': 23236, 'giraffes': 23237, 'salesforce': 23238, 'erasing': 23239, 'reunites': 23240, 'guns': 23241, 'heatherb': 23242, 'spins': 23243, 'thicker': 23244, 'smss': 23245, 'evey': 23246, 'hoir': 23247, 'danone': 23248, 'namit': 23249, 'openned': 23250, 'jamming': 23251, 'unsightly': 23252, 'divil': 23253, '😖😳': 23254, '“operating': 23255, 'conditions”': 23256, 'facepalm': 23257, 'airfield': 23258, 'rustington': 23259, 'tutu': 23260, 'arlan': 23261, 'canon1300d': 23262, '🤔🤔🤔🤔🤔🤔🤔': 23263, '🌞': 23264, 'shoots': 23265, 'pierre': 23266, '”️”': 23267, 'liphook': 23268, 'kareem': 23269, 'snapdeal': 23270, 'doorstop': 23271, 'paddy': 23272, 'misread': 23273, 'imagined': 23274, 'saddest': 23275, 'roe': 23276, 'ismael': 23277, 'screensh': 23278, 'salvador': 23279, 'komzy': 23280, 'fulk': 23281, 'peimary': 23282, 'kimberlee': 23283, 'outweighed': 23284, '443': 23285, 'lingo': 23286, 'eithout': 23287, 'suppossed': 23288, 'initiating': 23289, 'keepsake': 23290, '‘healthy’': 23291, '😂🐷👍🏾': 23292, 'govts': 23293, 'courtyard': 23294, 'scorn': 23295, 'jubilee': 23296, '30om': 23297, 'occlusive': 23298, 'vanya': 23299, 'nfrwdm': 23300, '17am': 23301, 'policies🙄': 23302, 'gait': 23303, 'roofs': 23304, 'aw2': 23305, 'nice👌🏻': 23306, 'sever': 23307, '6year': 23308, 'zomobie': 23309, 'stopzo': 23310, 'n0': 23311, 'wisemen': 23312, 'tjk': 23313, 'alanna': 23314, 'greig': 23315, 'spade': 23316, 'macro': 23317, 'drinkers': 23318, 'freedome': 23319, 'patronize': 23320, 'adams': 23321, '🥕❤️🥕': 23322, 'mueller': 23323, 'boatload': 23324, 'macys': 23325, '¢': 23326, 'drink🤤': 23327, 'outwit': 23328, 'illustrates': 23329, 'oyin': 23330, 'handmade': 23331, 'k3g': 23332, 'mollie': 23333, 'kingstown': 23334, 'appaz': 23335, 'harpy': 23336, 'enticing': 23337, 'founders': 23338, 'bosting': 23339, 'brunt': 23340, 'registrations': 23341, 'freed': 23342, 'hog': 23343, 'evryone': 23344, 'silchar': 23345, 'assam': 23346, 'stamped': 23347, '2319': 23348, 'niceties': 23349, 'leaks': 23350, '125mins': 23351, 'scans': 23352, 'tumse': 23353, 'gordano': 23354, 'pentatonix': 23355, 'cappella': 23356, 'nervelessly': 23357, 'qy7': 23358, 'confirmatory': 23359, 'southwesterly': 23360, 'distractingly': 23361, '🛫😎': 23362, 'wayne…': 23363, 'violated': 23364, 'dillon': 23365, 'cures': 23366, 'unlmtd': 23367, 'milleage': 23368, 'leaver': 23369, '✈️🇦🇷': 23370, 'gorda': 23371, 'lwh': 23372, 'whlchair': 23373, 'theale': 23374, 'shocker': 23375, 'ita': 23376, 'ridden': 23377, 'surendranagar': 23378, 'doubtful': 23379, 'recollective': 23380, 'exageration': 23381, '😠😤': 23382, '💔💔': 23383, 'marcomalp': 23384, 'personell': 23385, 'womp': 23386, 'keef': 23387, 'kitties': 23388, '🐾': 23389, 'brood': 23390, 'dasha': 23391, 'pwm': 23392, 'lingual': 23393, 'compulsion': 23394, 'scrapped': 23395, 'gale😂': 23396, 'exploiting': 23397, 'shitter': 23398, 'pittas': 23399, 'disintegrating': 23400, 'akarsh': 23401, 'enouf': 23402, 'stabilization': 23403, 'ip8': 23404, 'roxanne': 23405, 'ignite': 23406, 'banglore': 23407, '£347': 23408, '£174': 23409, 'necker': 23410, 'zul': 23411, 'paperweight': 23412, 'stashing': 23413, 'shoebox': 23414, 'spicey': 23415, 'baylor': 23416, 'fsse5': 23417, 'robotlike': 23418, '💪🏻🙌🏻🎉': 23419, 'waiving': 23420, 'moca': 23421, 'tavern': 23422, '🥐☕️🥤': 23423, '1324': 23424, 'intensive': 23425, 'adblocker': 23426, 'bellyache': 23427, 'ma’am': 23428, 'relook': 23429, '❤️💛💙': 23430, 'jackpot': 23431, '15yrs': 23432, 'nachos': 23433, 'consisted': 23434, 'abv': 23435, 'overnighting': 23436, 'christmas😠😠': 23437, 'jimbo': 23438, 'folio': 23439, 'bumpy': 23440, '0kd': 23441, 'hulk': 23442, 'stephy': 23443, 'randomizer': 23444, 'vagina': 23445, 'paymentt': 23446, 'uruguay': 23447, '😎😄': 23448, 'severnb': 23449, 'turnback': 23450, 'kcpe': 23451, '10mbs': 23452, 'details…': 23453, '£190': 23454, 'outa': 23455, 'taara': 23456, 'cellphones': 23457, 'fok': 23458, 'zombies😂😂plz': 23459, '100x': 23460, 'disclosed': 23461, 'snacking': 23462, 'hays': 23463, 'qdoba': 23464, '2sorry': 23465, 'blacksout': 23466, 'shoukdnt': 23467, '£44': 23468, 'compelling': 23469, 'execplat': 23470, 'cy': 23471, 'lance': 23472, '👿👿👿': 23473, 'gamechanger': 23474, 'manachester': 23475, '“deleted': 23476, 'files”': 23477, '“events”': 23478, 'achilles': 23479, 'westchester': 23480, 'charms': 23481, 'hybrid': 23482, '“say': 23483, 'significance': 23484, 'circulation': 23485, 'othr': 23486, 'cornflake': 23487, 'marshmallow': 23488, '🎊🎉': 23489, 'cannonball': 23490, 'tomrz': 23491, 'o0o0o': 23492, '🎄and': 23493, 'hip': 23494, '7510': 23495, '64bit': 23496, 'pasteurised': 23497, 'you🎁': 23498, 'fast🕜': 23499, '8505': 23500, 'adherence': 23501, 'lvi': 23502, '2tell': 23503, '4an': 23504, '🤦🏾\\u200d♀️🖕🏾': 23505, 'mikem': 23506, 'hululive': 23507, 'bounties': 23508, 'fertilize': 23509, 'batter': 23510, 'kelley': 23511, '3sec': 23512, 'switchers': 23513, 'appologize': 23514, 'mcbeth': 23515, 'bashing': 23516, 'alki': 23517, 'exhange': 23518, 'eli': 23519, 'unemployed': 23520, 'unmistakeable': 23521, 'simswap': 23522, 'dl403': 23523, 'pluralsight': 23524, 'ncst': 23525, 'iu': 23526, 'ia01': 23527, 'tarrif': 23528, 'snaz': 23529, 'cortaca': 23530, 'jug': 23531, 'adaleta': 23532, 'leny': 23533, 'furnitures': 23534, 'londoner': 23535, '😭🥂': 23536, 'burial': 23537, 'legume': 23538, 'trains👌': 23539, 'panicked': 23540, 'crumbles': 23541, 'jacks': 23542, '1313': 23543, 'ngeno': 23544, '0722x962': 23545, '32bit': 23546, 'munchkin': 23547, 'basil': 23548, 'imperialists': 23549, 'kennel': 23550, 'conversing': 23551, 'arrogancy': 23552, 'stableness': 23553, 'html': 23554, 'json': 23555, '€7': 23556, 'holger': 23557, '🤣❤️': 23558, 'sloane': 23559, 'impeach': 23560, 'frosted': 23561, 'malt': 23562, 'wheaties': 23563, 'liquidation': 23564, 'innkeeper': 23565, 'infos': 23566, '530pm': 23567, 'retaped': 23568, 'empanada': 23569, 'japaleno': 23570, 'panada': 23571, 'roswell': 23572, '2393': 23573, 'knickers': 23574, 'eep': 23575, 'driveways': 23576, 'workmen': 23577, 'oxgangs': 23578, '😕😒': 23579, 'jondavid': 23580, 'supplementation': 23581, 'nudity': 23582, 'minds': 23583, 'esher': 23584, 'aps': 23585, 'kindke': 23586, 'foolproof': 23587, 'sweetest': 23588, 'fruitful': 23589, 'composing': 23590, 'sixers': 23591, 'ariathne': 23592, 'jamaluddin': 23593, 'yahya': 23594, 'ihave2close': 23595, 'holmium': 23596, 'seethe': 23597, '0754': 23598, 'adjunction': 23599, 'germinate': 23600, 'programe': 23601, '‘text': 23602, 'notification’': 23603, '1847': 23604, 'wdt': 23605, '1910': 23606, 'workouts': 23607, '5009': 23608, 'clarke': 23609, '1759': 23610, '0729': 23611, 'gib': 23612, 'steeped': 23613, 'betise': 23614, 'coshare': 23615, 'implausibly': 23616, '11rdg': 23617, 'aryani': 23618, 'me😂': 23619, '“launch”': 23620, 'bollox': 23621, 'iphone6plus': 23622, 'sabatoging': 23623, 'bridgford': 23624, 'corrupting': 23625, 'gonnie': 23626, '🎃💀🖤🕷🎃': 23627, '“late': 23628, 'airport”': 23629, 'verision': 23630, 'relatives': 23631, 'matty': 23632, 'luminosity': 23633, 'cpo': 23634, 'chansons': 23635, 'amour': 23636, 'mophie': 23637, 'steely': 23638, 'pleasurable': 23639, '😀👍': 23640, 'looms': 23641, 'rebels': 23642, 'punishments': 23643, 'stuffy': 23644, 'educators': 23645, 'terrors': 23646, 'joshmonty': 23647, 'joyce': 23648, 'diverting': 23649, 'uneccessarily': 23650, '721': 23651, 'embellish': 23652, '727': 23653, '😻': 23654, 'payback': 23655, 'definetely': 23656, 'intrested': 23657, '😡😡😡😡😡😠😠😠😠😠😠': 23658, 'agnt': 23659, 'bcming': 23660, 'erroneously': 23661, 'deactivation': 23662, 'clarified': 23663, 'worms': 23664, 'paperback': 23665, 'hardback': 23666, 'quesadilla’🙄🙄': 23667, 'oleaginous': 23668, 'graph': 23669, 'mathlab': 23670, '5days': 23671, 'everydy': 23672, 'nre': 23673, 'cbg': 23674, 'ctsi': 23675, 'scandinavian': 23676, '‘report': 23677, 'item’': 23678, 'anathemize': 23679, 'lexy': 23680, 'renovations': 23681, 'itchiness': 23682, 'assist\\u200b': 23683, '“disconnected': 23684, 'server”': 23685, 'jinesh': 23686, 'ntc': 23687, 'quiting': 23688, 'wildcat': 23689, 'martijn': 23690, '1178': 23691, 'c37': 23692, 'cm1415': 23693, '🎄😃😃😃😃': 23694, 'lightlessness': 23695, 'bedtimes': 23696, '75pp': 23697, 'frok': 23698, 'shoul': 23699, 'telangana': 23700, 'sidedoor': 23701, 'diadem': 23702, '🤔that': 23703, 'beatles': 23704, 'piggies': 23705, 'haim': 23706, 'have1': 23707, 'ret': 23708, 'wtff': 23709, 'calendar😭😭😭': 23710, 'informati': 23711, 'synchrony': 23712, 'airtunes': 23713, 'maccas': 23714, '🎉🎉🎉🎉': 23715, 'omagh': 23716, '€10': 23717, '€18': 23718, 'amanjeet': 23719, 'schofield': 23720, 'voluntarily': 23721, 'unripened': 23722, 'sidesplitter': 23723, 'orly': 23724, 'suman': 23725, 'help🙈': 23726, 'days😩': 23727, 'survives': 23728, 'broncos': 23729, 'purbi': 23730, 'anc': 23731, 'tiptop': 23732, 'shamless': 23733, 'zarina': 23734, 'kok': 23735, 'lagu': 23736, 'ilank': 23737, 'banyak': 23738, 'ost': 23739, 'gab': 23740, 'tolong': 23741, 'infonya': 23742, 'pcma': 23743, 'wezulu': 23744, '2461': 23745, 'chipperly': 23746, 'leeann': 23747, 'sweated': 23748, '2reboot': 23749, 'remodel': 23750, 'concepts': 23751, 'countryside': 23752, 'thinki': 23753, 'cancún': 23754, 'pesky': 23755, 'automate': 23756, '62k': 23757, '24karat': 23758, '20gm': 23759, 'ultrabook': 23760, 'ericacardwell': 23761, 'clai': 23762, 'parth': 23763, 'patel': 23764, '🤞🏼🤞🏼🤞🏼': 23765, 'braunfels': 23766, 'salkewicz': 23767, 'approaches': 23768, 'csy': 23769, 'karim': 23770, 'beanz': 23771, 'becki': 23772, 'boiled': 23773, 'dvrs': 23774, 'chiptole': 23775, 'leveled': 23776, '3700': 23777, 'tout': 23778, 'vince': 23779, 'lombardi': 23780, 'classics': 23781, 'boolin': 23782, 'girlfriends': 23783, 'eureka': 23784, 'androidtv': 23785, 'inglby': 23786, 'etiquette': 23787, 'cinemas': 23788, 'norma': 23789, 'myopic': 23790, 'schooling': 23791, 'option\\u200b': 23792, 'richie': 23793, 'lissy': 23794, 'antoinette': 23795, 'egest': 23796, '12ish': 23797, '💗💗': 23798, 'wastage': 23799, '⑩': 23800, 'bombed': 23801, 'jordanne': 23802, 'elwin': 23803, 'scarefrst': 23804, 'hawkeyes': 23805, 'abnb': 23806, 'breeders': 23807, 'gbit': 23808, '35mpbs': 23809, 'egression': 23810, 'stirred': 23811, '“hi': 23812, 'elara': 23813, 'manfrotto': 23814, '629': 23815, '😭😭😭😭😭😭': 23816, 'bir': 23817, 'lnd': 23818, 'eust': 23819, 'antoine': 23820, 'kdr': 23821, 'sildan': 23822, 'tharaka': 23823, 'ngakaa': 23824, 'makueni': 23825, 'arn': 23826, 'spen': 23827, 'witnesses': 23828, 'ableism': 23829, 'lefty': 23830, 'infotainment': 23831, 'redpill': 23832, 'ribena': 23833, 'soldiering': 23834, 'gumby': 23835, 'accounted': 23836, 'whatcha': 23837, 'rumbling': 23838, 'years…': 23839, 'stronger': 23840, 'hybridization': 23841, 'keinika': 23842, 'clink': 23843, 'isig': 23844, 'miracles': 23845, 'teleportation': 23846, '348': 23847, '“try': 23848, 'pavilion': 23849, 'relive': 23850, 'hid': 23851, 'mchappy': 23852, 'darned': 23853, '“eat': 23854, 'now”': 23855, 'ignacio': 23856, 'starfred': 23857, 'quietus': 23858, '😠😡': 23859, '85min': 23860, 'spk': 23861, 'poops': 23862, 'dna': 23863, 'woh': 23864, 'maxim': 23865, '3506': 23866, 'commencing': 23867, 'taxiway': 23868, 'hiatus': 23869, 'miracle': 23870, 'oddity': 23871, 'coustmer': 23872, '🤤🤰🏽': 23873, 'dl2257': 23874, 'nikefuel': 23875, 'wintertime': 23876, 'resourced': 23877, 'memberships': 23878, '‘continue': 23879, 'shopping’': 23880, 'amenity': 23881, 'karina': 23882, 'basinet': 23883, 'droves': 23884, 'unwise': 23885, 'enfrocement': 23886, 'd6z693h': 23887, 'skillz': 23888, 'arbitarily': 23889, 'followups': 23890, 'chavs': 23891, 'amok': 23892, 'selfies': 23893, '17r4': 23894, 'plastered': 23895, '515': 23896, 'invent': 23897, '📺🤗💚': 23898, 'issac': 23899, 'admiral': 23900, 'dissentious': 23901, 'palaver': 23902, 'dsn': 23903, '👣😒': 23904, 'coustmers': 23905, 'actvacting': 23906, 'pastel': 23907, 'sullen': 23908, 'sofrito': 23909, 'smb': 23910, 'paleyfest': 23911, 'consequential': 23912, 'surges': 23913, '700mhz': 23914, 'cspire': 23915, 'uscellular': 23916, 'charlottesville': 23917, 'univ': 23918, 'naresh': 23919, 'atkinson': 23920, 'licking': 23921, 'bourbons': 23922, 'gofundme': 23923, 'dubrovnik': 23924, 'tryjng': 23925, 'spay': 23926, 'dales': 23927, 'renowned': 23928, 'ich': 23929, 'gangrene': 23930, 'vee': 23931, 'voiceview': 23932, 'avious': 23933, 'cathay': 23934, 'ashely': 23935, 'calexico': 23936, 'dorito’': 23937, 'heeled': 23938, 'mule': 23939, 'crocs': 23940, 'obv': 23941, 'flavoursome': 23942, 'momentum': 23943, 'momentums': 23944, 'iberia’': 23945, 'thirteen': 23946, 'layla': 23947, 'proofreader': 23948, 'grabber': 23949, 'anon': 23950, 'ipohne': 23951, 'pernicious': 23952, 'dues': 23953, '50km': 23954, 'lch': 23955, 'itenerary': 23956, '640x480': 23957, 'royce': 23958, 'deuced': 23959, 'skewers': 23960, 'satay': 23961, 'skewer': 23962, 'misguiding': 23963, 'unloading': 23964, 'prashanshu': 23965, 'dribble': 23966, 'incitement': 23967, 'entrapment': 23968, 'jafar': 23969, 'lun': 23970, 'rbs': 23971, 'airpod’': 23972, '20gb': 23973, 'syr': 23974, 'standbys': 23975, 'groupon': 23976, 'took…': 23977, 'stjjogod': 23978, '“guaranteed': 23979, 'libitum': 23980, 'aamzon': 23981, '😁😂': 23982, 'mona': 23983, 'praising': 23984, 'deepika': 23985, 'gowda': 23986, 'alicante': 23987, '😃😃': 23988, '👋🏼': 23989, 'vinyls': 23990, '💖😘': 23991, 'umbdud': 23992, 'bromus': 23993, 'secalinus': 23994, 'b7a78f0d': 23995, '15b1': 23996, '44af': 23997, '84da': 23998, 'a0cd0ed5409d': 23999, '340': 24000, 'ox11': 24001, '16x4': 24002, 'gårėth': 24003, 'propositioned': 24004, 'headaches': 24005, 'devyn': 24006, 'deducts': 24007, 'reefer': 24008, 'spurs50': 24009, 'celebrations': 24010, 'maoam': 24011, 'swets': 24012, 'feh': 24013, 'hanoi': 24014, 'jqw13h': 24015, 'lagguage': 24016, 'strangers’': 24017, '😫😭😭': 24018, '215am': 24019, 'cancelld': 24020, 'doubld': 24021, 'kanpur': 24022, 'accessable': 24023, 'tantrums': 24024, 'interfaces': 24025, 'excruciating': 24026, 'earmark': 24027, 'standstill': 24028, 'niranjan': 24029, 'presentations': 24030, '✈️✈️✈️😁': 24031, 'reflex': 24032, 'fullest': 24033, 'andres': 24034, '👍🐇': 24035, '0910': 24036, 'ferries': 24037, 'idno': 24038, 'kellogs': 24039, 'vik': 24040, 'alhosani': 24041, 'cosine': 24042, 'dere': 24043, 'halloweekend': 24044, 'syafiq': 24045, 'fci5qn': 24046, 'kaitlin': 24047, 'constitutes': 24048, 'dullard': 24049, 'stormed': 24050, '6064': 24051, 'mysteries': 24052, 'quèbêc': 24053, 'unprofitable': 24054, 'brunei': 24055, '750mb': 24056, 'indictmentof': 24057, 'jew': 24058, 'assumptions': 24059, 'cor': 24060, 'sk7mkg': 24061, 'flightak889': 24062, 'kix': 24063, 'd7532': 24064, 'moulali': 24065, 'readjusts': 24066, 'vol': 24067, 'fatally': 24068, 'simplymac': 24069, 'monopolized': 24070, 'bachelorette': 24071, 'luigi': 24072, 'alight': 24073, 'navya': 24074, 'blight': 24075, 'moochers': 24076, 'aimbo': 24077, '🤞🏽': 24078, 'proximty': 24079, 'problem👍': 24080, '6898': 24081, 'goty': 24082, 'wanderer': 24083, 'discus': 24084, '11nov': 24085, 'committee': 24086, 'kelsie': 24087, 'bookmyshow': 24088, 'amazonrder': 24089, 'sametime': 24090, 'regedit': 24091, 'ceremonies': 24092, 'unread': 24093, 'coriander': 24094, 'parsley': 24095, 'rel': 24096, 'xb3': 24097, 'downstream': 24098, 'fw17': 24099, 'fwy': 24100, 'serenity': 24101, '700m': 24102, 'nags': 24103, 'raissa': 24104, 'greensboro': 24105, 'mediakeys': 24106, '😟😡': 24107, 'grouse': 24108, 'kassie': 24109, 'uneducated': 24110, 'guys👌': 24111, 'nothing’': 24112, 'lqmlh': 24113, 'botch': 24114, 'curate': 24115, 'derailment': 24116, 'uncooperative': 24117, 'apposite': 24118, '0757': 24119, 'wtrloo': 24120, 'reframe': 24121, 'attent': 24122, '🙏🏾': 24123, 'stench': 24124, 'fumes': 24125, 'retried': 24126, 'bln': 24127, 'tjellwood': 24128, '👞': 24129, 'inkjet': 24130, 'saath': 24131, 'poori': 24132, 'laxation': 24133, 'fxnow': 24134, '5075': 24135, 'fishmeal': 24136, 'acids': 24137, 'encouraged': 24138, '😞🚗🚙🚕': 24139, 'sinning': 24140, '30gmt': 24141, 'visas': 24142, 'sadist3n': 24143, 'nibs': 24144, '“transferred”': 24145, 'salesmen': 24146, '2342': 24147, 'guarding': 24148, 'jfk”': 24149, 'fixd': 24150, 'itm': 24151, 'canpost': 24152, '👏🏻👏🏻👏🏻': 24153, 'surmise': 24154, 'conveniences': 24155, 'futher': 24156, 'kaila': 24157, 'piyush': 24158, 'sinus': 24159, 'richardson': 24160, 'status”': 24161, 'sumana': 24162, 'london☺️☺️☺️': 24163, 'indifferent': 24164, 'stacks': 24165, 'irfan': 24166, 'sched': 24167, 'mekka': 24168, 'chrg': 24169, 'boya': 24170, 'm1': 24171, 'microphones': 24172, 'investments': 24173, 'retirement': 24174, 'sonomaco': 24175, 'venom': 24176, 'k3': 24177, 'uws': 24178, 'elliott': 24179, 'us…': 24180, 'increaing': 24181, 'kahan': 24182, 'crudity': 24183, 'footstep': 24184, 'unproblematic': 24185, 'fishers': 24186, '2x05': 24187, 'bernice': 24188, 'vx1870': 24189, 'jinxed': 24190, '😰🔫': 24191, '49hr': 24192, 'okayy': 24193, 'up🙅': 24194, 'cau': 24195, 'hummer': 24196, 'dl3628': 24197, 'cs5': 24198, 'tri': 24199, 'inks': 24200, 'can‘': 24201, 'won‘': 24202, 'cooperates': 24203, 'skimmed': 24204, '🙃🔫': 24205, '250cdn': 24206, 'hippa': 24207, '277': 24208, 'rd👍🏻': 24209, 'awakens': 24210, 'blag': 24211, 'girlfriend’': 24212, '🙄🙈': 24213, '24am': 24214, '5505': 24215, 'barolo': 24216, 'accomodating': 24217, 'kena': 24218, 'buat': 24219, 'foster': 24220, 'support1': 24221, 'chasetc': 24222, 'unexpended': 24223, 'firstwing': 24224, 'fazed': 24225, 'surbhii': 24226, '£85': 24227, 'cruiserweight': 24228, 'encompass': 24229, 'capitol': 24230, 'chik': 24231, '😎👔': 24232, 'a11': 24233, 'fang': 24234, 'smashville': 24235, 'cellblock': 24236, '303': 24237, 'sains': 24238, 'bigots': 24239, 'loging': 24240, 'sharalynn': 24241, 'harris’': 24242, 'bloodborne': 24243, 'danekah': 24244, '👎👎👎': 24245, 'quickscoping': 24246, 'constrained': 24247, 'antiquated': 24248, 'finalcut': 24249, 't450s': 24250, '460s': 24251, '470s': 24252, '❤️💞': 24253, 'queta': 24254, 'commingle': 24255, 'redundancy': 24256, 'mg7315': 24257, 'weardale': 24258, 'terrace': 24259, 'annfield': 24260, 'farmingdale': 24261, 'vietnamese': 24262, 'hangin': 24263, 'fatter': 24264, 'billboard': 24265, 'kirkintilloch': 24266, 'rappidly': 24267, 'fittest': 24268, 'personnal': 24269, 'suscribing': 24270, 'vintage': 24271, 'lighted': 24272, '1933': 24273, 'updater': 24274, 'dockage': 24275, 'waves': 24276, 'titanfal': 24277, 'othet': 24278, 'reslvd': 24279, 'contctng': 24280, 'rslts': 24281, 'expctd': 24282, 'wtf😠': 24283, 'carrier’': 24284, 'played”': 24285, 'sild': 24286, 'thunderstorm': 24287, 'vadavem': 24288, 'lucritia': 24289, 'seh': 24290, 'r419': 24291, 'r532': 24292, 'rod': 24293, '15minutes': 24294, 'wingdings': 24295, 'tsn': 24296, 'witton': 24297, '—two': 24298, 'hudl': 24299, 'renter': 24300, '53mins': 24301, '“do”': 24302, 'cuprinol': 24303, 'cadaver': 24304, 'beejay': 24305, 'vanquish': 24306, 'tameka': 24307, 'problum': 24308, '—gate': 24309, 'nascency': 24310, 'superintendent': 24311, 'coun': 24312, 'spags': 24313, '£25each': 24314, 'locus': 24315, 'scissorhands': 24316, 'pleae': 24317, 'canf': 24318, 'lisfen': 24319, 'shaddybekevstor': 24320, 'ashlynn': 24321, 'fete': 24322, 'o3o': 24323, 'myaccount': 24324, 'writer': 24325, 'reac': 24326, 'crg': 24327, '2522': 24328, 'regardin': 24329, 'andew': 24330, 'foerst': 24331, 'shope': 24332, 'se20': 24333, '7ex': 24334, 'asuku': 24335, 'maltreat': 24336, 'shmucks': 24337, 'crm': 24338, '“tough': 24339, 'luck”': 24340, 'jevon': 24341, 'legitimacy': 24342, 'sniffles': 24343, 'inspirion': 24344, 'saraniya': 24345, 'me£23': 24346, 'repulsed': 24347, 'mylks': 24348, '£18': 24349, 'ba0176': 24350, 'galdo': 24351, '😍👏🏻': 24352, 'sunbury': 24353, 'terrys': 24354, 'akasha': 24355, '1210': 24356, 'fts': 24357, 'honoured': 24358, 'raisd': 24359, 'wani': 24360, 'headers': 24361, 'honours': 24362, 'shandy': 24363, 'unpacked': 24364, 'hugh': 24365, '809': 24366, 'laurabeasley': 24367, 'irresponsive': 24368, 'acidic': 24369, 'overpowers': 24370, 'uselessly': 24371, 'howeve': 24372, 'trbl': 24373, 'sawyer': 24374, 'rignt': 24375, '“forget': 24376, 'ppls': 24377, 'computer’': 24378, 'latch': 24379, '084': 24380, '087': 24381, '‘super': 24382, 'saver’': 24383, '12weeks': 24384, 'tiffanny': 24385, 'textnow': 24386, 'situ': 24387, 'slenderize': 24388, '30p': 24389, 'bloopies': 24390, 'pollute': 24391, 'missued': 24392, '“attempted”': 24393, 'froelich': 24394, 'gigblast': 24395, 'sini': 24396, 'daniela': 24397, 'vesey': 24398, 'myers': 24399, '757s': 24400, 'reshipped': 24401, 'mattie': 24402, 'liquids': 24403, '⚠️': 24404, 'spokesperson': 24405, 'therese': 24406, 'jermaine': 24407, 'notebooks': 24408, 'satyajit': 24409, 'nance': 24410, '😴😴😴': 24411, 'hologram': 24412, 'laborer': 24413, 'tireak': 24414, 'vmware': 24415, 'pecans': 24416, '😪😡': 24417, 'qq': 24418, 'fnc': 24419, '1023': 24420, 'desactivated': 24421, '4465': 24422, 'daria': 24423, 'comm': 24424, '‘ll': 24425, 'antennas': 24426, '😪😪😪': 24427, 'delegacy': 24428, 'creatable': 24429, 'latam': 24430, 'utterer': 24431, 'cakehole': 24432, 'rookie': 24433, '700pc': 24434, '300pc': 24435, 'southwesttrains': 24436, '100’': 24437, 'ardor': 24438, 'mildred': 24439, 'disclassifying': 24440, 'reappears': 24441, 'tommarow': 24442, 'offwhite': 24443, 'collab': 24444, 'delayin': 24445, '👊👊': 24446, 'ayubmogradia': 24447, 'roadblock': 24448, 'dayglow': 24449, 'maltesers': 24450, 'njata': 24451, 'fantastical': 24452, '“dog': 24453, 'homework”': 24454, 'nevada': 24455, '171': 24456, 'nima': 24457, 'strood': 24458, 'coma': 24459, 'continuity': 24460, '😩🤣': 24461, 'sanckrite': 24462, '👅👅👅how': 24463, 'emas': 24464, 'burscough': 24465, 'lancashire': 24466, 'tabbing': 24467, '719': 24468, '19minutes': 24469, 'diferent': 24470, 'brandish': 24471, 'dpa': 24472, '🤞🏻': 24473, 'freakishly': 24474, 'vai': 24475, 'hypocritical': 24476, 'breakin': 24477, 'lash': 24478, 'please🤗': 24479, 'throngs': 24480, '👏👏👏👏👏👏👏': 24481, 'dollop': 24482, 'bareilly': 24483, 'faultless': 24484, 'helensburgh': 24485, 'bradfrod': 24486, 'paarth': 24487, 'freshman': 24488, 'irate': 24489, '🙏🏻🙏🏻': 24490, 'chorley': 24491, 'mistakingly': 24492, '1250': 24493, 'sourc😩': 24494, 'meltham': 24495, 'nandeesh': 24496, 'dekstop': 24497, 'bani': 24498, 'hater': 24499, 'taylormichaels': 24500, 'here😡': 24501, 'susieadams': 24502, 'deboard': 24503, 'teymur': 24504, 'sahil': 24505, 'unravel': 24506, 'depleting': 24507, 'comparative': 24508, 'incontinence': 24509, 'auspices': 24510, 'abduction': 24511, 'underarm': 24512, '🙄🙄😡🤦🏽\\u200d♀️🤦🏽\\u200d♀️': 24513, 'preserving': 24514, 'xcity': 24515, 'magnified': 24516, 'clairvoyance': 24517, 'ubiquiti': 24518, 'jasminef': 24519, 'pedro': 24520, 'blurred': 24521, 'blacklist': 24522, 'maipulated': 24523, 'villa': 24524, 'gadhey': 24525, 'bharey': 24526, 'huvian': 24527, 'nerdy': 24528, 'querying': 24529, 'playboy': 24530, 'hisoka': 24531, 'rin': 24532, 'raced': 24533, 'madeleine': 24534, 'hazardously': 24535, 'brs': 24536, 'indexing': 24537, 'interlocutor': 24538, 'cardholders': 24539, 'bonding': 24540, 'shakeem': 24541, 'dl2096': 24542, '😫😂': 24543, 'dl107': 24544, 'deterrent': 24545, 'courthouse': 24546, 'unfeigned': 24547, 'perchest': 24548, 'premiering': 24549, 'enforcing': 24550, 'stereotypes': 24551, 'proportionateness': 24552, 'directions😳': 24553, 'custs': 24554, 'everyonethey': 24555, '—to': 24556, 'encase': 24557, 'skunk': 24558, 'spells': 24559, 'off😡😡😡😡😡': 24560, 'stortford': 24561, 'px': 24562, 'netwrk': 24563, 'replys': 24564, '“intercity': 24565, 'express”': 24566, 'pallette': 24567, 'hackneyed': 24568, 'nightmares': 24569, 'slating': 24570, 'breakage': 24571, 'brunel': 24572, 'lackluster': 24573, 'audibly': 24574, 'kirstie': 24575, 'afl': 24576, '🥗': 24577, 'thanks☺️': 24578, 'adam’': 24579, 'ddm': 24580, 'unfortunately😣': 24581, 'pasty’': 24582, 'vegetarianism': 24583, 'samsung’': 24584, '🤘🤘': 24585, 'aa3292': 24586, 'nexus5x': 24587, '623': 24588, 'towing': 24589, 'them🤔': 24590, 'ook': 24591, 'dennys': 24592, '“ok”': 24593, 'yourselfs': 24594, 'compulsorily': 24595, 'abl': 24596, 'tania': 24597, 'ile': 24598, 'amesubscribe': 24599, 'walahi': 24600, 'yangu': 24601, 'hukataa': 24602, 'kuunsubscribe🙏🙏🙏🙏🙏🙏🙏': 24603, 'tomororw': 24604, 'nostolgia': 24605, 'protoactinium': 24606, 'shimmering…': 24607, '🍌and': 24608, 'debklajbor': 24609, 'noka': 24610, 'stamping': 24611, '⭐': 24612, 'klemen': 24613, 'symmetricalness': 24614, 'overs': 24615, '💁🏻': 24616, 'irregularity': 24617, 'overcooks': 24618, '2408': 24619, 'marsdon': 24620, '3ghz': 24621, 'mbpr': 24622, 'wn235': 24623, 'tolerable': 24624, 'authenticator': 24625, 'flgt': 24626, '1594': 24627, 'christnas': 24628, 'iou': 24629, '😂now': 24630, 'house😂👍': 24631, 'unsat': 24632, 'oy': 24633, 'carwash': 24634, 'northerner': 24635, 'audit': 24636, 'q1': 24637, 'cyclequietway': 24638, 'marking': 24639, 'manny': 24640, 'slop': 24641, '£450': 24642, 'appartantly': 24643, 'originating': 24644, '324': 24645, 'barsella': 24646, 'fascist': 24647, 'doxx': 24648, '069': 24649, 'darr': 24650, '£10k': 24651, 'glob': 24652, 'adina': 24653, 'roundness': 24654, 'previous😟': 24655, '2yr': 24656, 'q12': 24657, 'soundpeats': 24658, 'latté': 24659, 'ymca': 24660, 'nes': 24661, 'ampong': 24662, 'mixface': 24663, 'jailbroken': 24664, '✊🏼': 24665, 'extreamly': 24666, 'fop': 24667, 'unattractive': 24668, 'celebrities': 24669, 'bettie': 24670, 'enrique': 24671, 'bb4': 24672, 'toad': 24673, 'refrigerate': 24674, 'lat': 24675, 'arran': 24676, 'cokes': 24677, 'carbonation': 24678, 'snifter': 24679, '602': 24680, 'contecting': 24681, 'dionne': 24682, 'rak': 24683, '2h30m': 24684, '55s': 24685, '521': 24686, '1040': 24687, 'politicians': 24688, 'dongwan': 24689, 'unskilled': 24690, 'cxl’': 24691, 'drafted': 24692, 'crit': 24693, 'btwn': 24694, 'rrcuved': 24695, 'intex': 24696, 'experinc': 24697, 'my—this': 24698, 'propped': 24699, 'so0o0': 24700, 'mourning': 24701, 'killin': 24702, 'snapdragon': 24703, 'primark': 24704, 'dowload': 24705, 'natso': 24706, '1z9909yf': 24707, '😈😧': 24708, 'going2': 24709, 'ontorio': 24710, 'irvine': 24711, 'chelcie': 24712, 'keegs': 24713, 'lured': 24714, 'nehemie': 24715, 'exclnt': 24716, 'designations': 24717, 'sustained': 24718, 'c2': 24719, 'hartford': 24720, 'boundless': 24721, 'footed': 24722, 'baited': 24723, 'infield': 24724, 'pressi': 24725, 'holidaying': 24726, 'parsal': 24727, 'bootloops': 24728, 'lgg4': 24729, 'derail': 24730, 'shorthaul': 24731, 'faron': 24732, 'iulluminated': 24733, 'turb': 24734, 'quartermaster': 24735, 'atvi': 24736, 'exhort': 24737, 'sureness': 24738, '🎮😉': 24739, 'theatres': 24740, 'reputable': 24741, 'yawl': 24742, 'diagrams': 24743, 'scripted': 24744, 'curtisk': 24745, 'tfc': 24746, 'vazquez': 24747, 'altidore': 24748, 'commcast': 24749, 'berated': 24750, 'lifelong': 24751, 'astonished': 24752, 'vrz': 24753, 'tethering”': 24754, '128k': 24755, 'webassessor': 24756, 'rosso': 24757, 'fictive': 24758, 'scissors': 24759, 'cutlery': 24760, 'guste': 24761, 'appartement': 24762, 'healthtrax': 24763, 'greewhich': 24764, 'rhody': 24765, 'porphyria': 24766, 'diseases': 24767, 'disarrange': 24768, 'alphabetically': 24769, 'por': 24770, 'amigos': 24771, 'definitions': 24772, 'utkarsh': 24773, 'bench': 24774, 'imperialist': 24775, 'chesterfield': 24776, 'amzar': 24777, 'neigborhood': 24778, 'unshipped': 24779, 'unsent': 24780, 'beverages': 24781, 'findout': 24782, 'hopped': 24783, '3462': 24784, 'corstorphine': 24785, 'zika': 24786, 'g29': 24787, 'ferry': 24788, 'ch42': 24789, 'retainers': 24790, 'fwog': 24791, 'abwout': 24792, 'wuve': 24793, 'rainier': 24794, 'researched': 24795, 'wdw': 24796, '860': 24797, 'lode': 24798, '💙💙💙💙': 24799, 'lina': 24800, '❤️swa': 24801, '🤯🤔': 24802, 'eerie': 24803, 'farheen': 24804, 'giveaway': 24805, 'hdqrt': 24806, 'santi': 24807, 'shenley': 24808, '28mbps': 24809, 'dpdarriving': 24810, 'amzagent': 24811, 'julien': 24812, 'verop': 24813, 'danaeya': 24814, '4235': 24815, '4718': 24816, 'alternet': 24817, '🤢🖕🏻': 24818, 'isolation': 24819, 'mehrnaz': 24820, 'glorified': 24821, '😊🎇': 24822, '4013': 24823, 'womab': 24824, 'resell': 24825, 'selliing': 24826, 'depop': 24827, 'reselling': 24828, 'jairam': 24829, 'shea': 24830, 'winnie': 24831, 'fequently': 24832, 'lordliness': 24833, 'prospector': 24834, 'sove': 24835, 'selma': 24836, 'might’ve': 24837, 'lapachhapi': 24838, 'ctn': 24839, 'roped': 24840, 'assistants': 24841, '£240': 24842, 'brigades': 24843, 'jochen': 24844, 'zok': 24845, 'miniskirt': 24846, 'm3speakers': 24847, '1513': 24848, '1543': 24849, 'toter': 24850, 'fortunate': 24851, 'afflicting': 24852, 'margaretha': 24853, '0802': 24854, 'panadol': 24855, 'to10x': 24856, '5xs': 24857, 'bathroom…': 24858, 'plateau': 24859, '“speak': 24860, 'english”': 24861, 'cruelest': 24862, 'limping': 24863, 'tzahi': 24864, 'oresists': 24865, 'eastbourne': 24866, 'littlehampton': 24867, 'purchage': 24868, 'auguest': 24869, 'pel': 24870, 'mound': 24871, 'multibillion': 24872, 'armani': 24873, 'sarnies': 24874, 'delaing': 24875, 'sinful': 24876, 'musoc': 24877, 'microsoft’': 24878, 'aa2266': 24879, 'shortbread': 24880, '😎😂': 24881, 'mindless': 24882, 'shallow': 24883, 'captcha': 24884, 'tryimg': 24885, 'pedantic': 24886, '“preserve': 24887, 'photo”': 24888, 'hcw': 24889, 'grn': 24890, 'sundried': 24891, 'tomatoes': 24892, 's0a00': 24893, 'adware': 24894, 'praveen': 24895, '38am': 24896, 'hacced': 24897, 'earwig': 24898, 'pensacola': 24899, 'fictitious': 24900, 'akiba': 24901, '“extra': 24902, 'roque': 24903, 'ydy': 24904, '451': 24905, 'decontrolled': 24906, '22hrs': 24907, 'coit': 24908, 'suported': 24909, 'xcode': 24910, 'jubail': 24911, 'fortuitously': 24912, 'scotty': 24913, 'redding': 24914, 'carer': 24915, 'indebtedness': 24916, 'ina': 24917, 'fundraise': 24918, 'crabtree': 24919, 'understaffed': 24920, 'watchband': 24921, '2of': 24922, 'drollery': 24923, 'frogman': 24924, 'xcvi': 24925, 'zumiez': 24926, 'wynwood': 24927, '☺💚💛': 24928, 'blessings': 24929, 'cudnt': 24930, '😒🤔': 24931, 'takin': 24932, 'lyk': 24933, 'infinitesimal': 24934, 'phae': 24935, 'toothbrush': 24936, 'brz': 24937, 'slv': 24938, 'variable': 24939, 'delviery': 24940, 'rockafeller': 24941, 'justs': 24942, 'conjestion': 24943, 'avertible': 24944, 'hayward': 24945, 'prima': 24946, 'mkii': 24947, 'mki': 24948, 'smalls': 24949, 'devalued': 24950, 'reinvigorating': 24951, 'waite': 24952, 'motorolla': 24953, 'droid': 24954, 'maxx': 24955, 'bosch': 24956, '😠👿😭': 24957, 'surcharged': 24958, 'jeanne': 24959, '“hashtag': 24960, 'halli': 24961, 'categorized': 24962, 'functionalities': 24963, 'pasword': 24964, 'guve': 24965, 'jave': 24966, 'fotc': 24967, '✏️': 24968, '💄': 24969, 'chipped': 24970, 'loreal': 24971, 'upsets': 24972, 'wut': 24973, 'ostensibly': 24974, 'dood': 24975, 'personalised': 24976, 'sprucefield': 24977, 'job🙄': 24978, 'converse': 24979, 'dl6059': 24980, 'eastvale': 24981, 'cadre': 24982, 'locale': 24983, 'tosu': 24984, 'winfield': 24985, 'ounce': 24986, 'fetching': 24987, '‘shipped’': 24988, '‘standing': 24989, '1453': 24990, '1go': 24991, 'wbin': 24992, 'v66': 24993, 'scintillation': 24994, 'horticultural': 24995, 'coconut': 24996, 'butters': 24997, 'downer': 24998, 'sheldon': 24999, 'homeward': 25000, 'whitley': 25001, 'nicolette': 25002, 'patio': 25003, 'batclam': 25004, 'network😭😭😭😭😭plzz': 25005, 'dwld': 25006, '❤😊': 25007, 'perambulator': 25008, 'vikki': 25009, 'vacation😩': 25010, '🤦🏾\\u200d♀️🤦🏾\\u200d♀️': 25011, '14mb': 25012, 'betsy': 25013, '👍looking': 25014, 'aolajide': 25015, 'dammage': 25016, 'dokey': 25017, 'ge': 25018, 'coordinate': 25019, 'loathing': 25020, 'syllabus': 25021, 'diming': 25022, 'ack': 25023, 'lotsa': 25024, 'inhouse': 25025, 'sprints': 25026, 'mistaking': 25027, '2times': 25028, '😡😞': 25029, 'srvs': 25030, '😡😡😡😡😡😡😡😡😡😡😡😡😡': 25031, 'perfecto': 25032, '£29': 25033, 'eclair': 25034, '👰🏼': 25035, 'whispered': 25036, '”🔥': 25037, 'hglevy': 25038, 'centering': 25039, '“failed”': 25040, 'butty': 25041, 'ziza': 25042, 'bennett': 25043, 'adenuga': 25044, 'edinbirgh': 25045, 'cashe': 25046, 'co’': 25047, 'ntwk': 25048, '🚎😱': 25049, 'dose': 25050, 'cmk': 25051, 'sensors': 25052, 'd7460': 25053, 'withput': 25054, 'girly': 25055, '🏡👍🏻🌟': 25056, 'siamese': 25057, 'zest': 25058, 'vfm': 25059, 'kayak': 25060, '😉📷': 25061, 'innocently': 25062, 'oké': 25063, 'resset': 25064, '🥕🙏🏼': 25065, 'disoriented': 25066, 'iniquity': 25067, 'evince': 25068, 'fishcakes': 25069, '😭😱hoping': 25070, 'much💜☮️': 25071, 'ells': 25072, 'i2': 25073, 'olb': 25074, 'bleep': 25075, 'watery': 25076, 'gravey': 25077, 'travelcard': 25078, 'photocard': 25079, 'reapplying': 25080, 'roc': 25081, '“send': 25082, 'tacked': 25083, 'installments': 25084, 'lise': 25085, 'deform': 25086, 'thes': 25087, 'taylormoon': 25088, 'receipted': 25089, 'hoisin': 25090, 'audiotape': 25091, '“malfunction”': 25092, 'unseal': 25093, 'materialised': 25094, 'leaderboards': 25095, 'pippa': 25096, 'd7050': 25097, 'longsight': 25098, 'gbps': 25099, 'fasfasfasdfasf': 25100, '175ml': 25101, 'greviance': 25102, 'muthafuckas': 25103, 'nomo': 25104, 'kentyah': 25105, 'divergence': 25106, '👋🏽': 25107, 'thank’': 25108, '👋🏻👋🏻👋🏻': 25109, '✈️🌌🌎': 25110, 'etod': 25111, 'smone': 25112, 'selina': 25113, 'corporations’': 25114, 'jarful': 25115, 'ssue': 25116, 'sarthak': 25117, 'ceili': 25118, 'speedss': 25119, 'neatest': 25120, 'ipad’': 25121, 'remoting': 25122, 'workstation': 25123, 'inwood': 25124, 'limon': 25125, 'bren': 25126, 'calles': 25127, 'nisar': 25128, 'atri': 25129, 'recdifying': 25130, 'hereafter': 25131, 'retest': 25132, 'carpal': 25133, 'tunnel': 25134, 'shalissa': 25135, 'unprompted': 25136, '😍✈': 25137, '🎉🎉': 25138, 'finalised': 25139, 'grinding': 25140, 'trasfer': 25141, 'leyton': 25142, 'supertore': 25143, 'e10': 25144, '7aa': 25145, 'series3': 25146, 'narita': 25147, 'dl747': 25148, 'characterization': 25149, 'helge': 25150, 'browned': 25151, 'leopold': 25152, 'pinto': 25153, 'dimmed': 25154, 'uncorrected': 25155, 'irn': 25156, 'aboit': 25157, '960': 25158, 'bluffed': 25159, 'clickbait': 25160, 'breadbasket': 25161, 'stripped': 25162, '‘simply': 25163, 'mac’': 25164, 'pickaxe': 25165, 'quesorito': 25166, 'lopsided': 25167, '‘pea': 25168, 'sed’': 25169, '👑❤️': 25170, 'teignmouth': 25171, 'heeded': 25172, 'craap': 25173, 'pirate': 25174, 'chestnut': 25175, 'safdar': 25176, 'drugstore': 25177, 'verizion': 25178, 'hackensack': 25179, 'doorbuster': 25180, '“every': 25181, 'different”': 25182, 'usccupdatebanandctninfo': 25183, 'icsh': 25184, 'oysters': 25185, 'whgen': 25186, 'feelfree': 25187, '0716': 25188, '655': 25189, 'ccr': 25190, 'garnishment': 25191, 'avonmouth': 25192, 'collapses': 25193, 'intracting': 25194, 'hammpering': 25195, 'delievry': 25196, '“contacter': 25197, 'vendeur”': 25198, 'nerfing': 25199, 'grampus': 25200, 'decrepit': 25201, 'confidential': 25202, '20minutes': 25203, 'sumit': 25204, 'whore': 25205, 'hsi': 25206, 'duos': 25207, 'moreno': 25208, 'stuffs': 25209, 'wissam': 25210, 'ba138': 25211, 'ba285': 25212, 'bullseye': 25213, 'spuds': 25214, 'terrier': 25215, 'likey': 25216, 'giulia': 25217, 'intelligible': 25218, 'stewards': 25219, 'bookers': 25220, '1870': 25221, 'permiter': 25222, 'creds': 25223, 'emmanuellopez': 25224, '“ratings': 25225, 'would’ya': 25226, 'mandem': 25227, 'falthu': 25228, 'attaint': 25229, 'ghastly': 25230, 'filetypes': 25231, 'doc😫😓': 25232, 'lita': 25233, 'sideway': 25234, 'ijebu': 25235, 'igbo': 25236, 'graphs': 25237, 'enclose': 25238, '8km': 25239, 'roberts': 25240, 'mango': 25241, '811': 25242, 'brownie': 25243, 'varieties': 25244, 'helens': 25245, 'thera': 25246, 'tijani': 25247, 'bowled': 25248, 'bte': 25249, 'overinflated': 25250, 'inert': 25251, 'greek': 25252, 'flakes': 25253, 'caversham': 25254, 'seldom': 25255, 'spectating': 25256, 'accounts😡': 25257, 'bandit': 25258, 'armrests': 25259, 'here😡😡😡': 25260, 'hanna': 25261, 'discounting': 25262, 'anz': 25263, '938': 25264, 'caramelised': 25265, 'disfubctiinal': 25266, 'arches': 25267, '👋🙂': 25268, 'thoo': 25269, 'confiscated': 25270, 'refi': 25271, 'radios': 25272, 'neg': 25273, 'u4rvplkotoxsk4n6wnfersoth': 25274, 'obstruction': 25275, 'dike': 25276, 'animated': 25277, 'breaching': 25278, 'in😬😬': 25279, 'they´re': 25280, 'dined': 25281, '🤝': 25282, 'fourfold': 25283, 'rajendra': 25284, 'mhetre': 25285, '如何重新激活即用即付订阅，仪表盘无法激活，还有如何删除信用卡？how': 25286, 'dashboard，and': 25287, 'clew': 25288, '☺️😒': 25289, 'reinvent': 25290, 'corny': 25291, 'wop': 25292, '❤️✈️': 25293, 'say👀': 25294, 'eurys': 25295, 'coxial': 25296, 'vkgtic': 25297, 'falatu': 25298, 'asspl': 25299, 'vdsl': 25300, 'askin': 25301, '7hours': 25302, 'hookers': 25303, 'disorganised': 25304, '5422': 25305, 'discussions': 25306, 'home2': 25307, 'willowbrook': 25308, 'for…': 25309, 'shivery': 25310, 'goldtop': 25311, 'epiphone': 25312, 'knockoff': 25313, 'hmv': 25314, 'fopp': 25315, 'comon': 25316, 'jaritza': 25317, 'tones': 25318, 'wensleydale': 25319, 'chutney': 25320, 'ba0015': 25321, 'depature': 25322, 'weariness': 25323, '£410': 25324, 'shading': 25325, 'clotheshorse': 25326, 'malindo': 25327, 'howabout': 25328, 'apportioning': 25329, 'ergo': 25330, 'apparatus': 25331, 'hitler': 25332, 'invented': 25333, 'atheism': 25334, 'bns': 25335, 'silencing': 25336, 'squeal': 25337, 'hideaway': 25338, 'potable': 25339, 'nysc': 25340, 'sagamu': 25341, 'numbness': 25342, 'anywhoo': 25343, 'goochi': 25344, '£93': 25345, '😐😐😐😐😐': 25346, '‘signalling’': 25347, '“delayed”': 25348, 'blackcurrant': 25349, 'surrealistic': 25350, 'dum': 25351, 'allay': 25352, 'reconnection': 25353, '2plus': 25354, 'bernie': 25355, 'verniece': 25356, 'denomination': 25357, 'anton': 25358, 'dilvery': 25359, '60hz': 25360, '30hz': 25361, '2560': 25362, 'jamieenglish': 25363, 'jeegar': 25364, 'basura': 25365, '🚮🚮🚮': 25366, 'csa': 25367, 'eeek': 25368, '507': 25369, 'multicore': 25370, 'eminem': 25371, 'remover': 25372, 'thermus': 25373, 'itopa': 25374, 'phonea': 25375, 'sriracha': 25376, 'bracelet': 25377, 'jsyk': 25378, 'mohsin': 25379, '😔🍩💔': 25380, 'hbonow': 25381, 'craps': 25382, 'iflix': 25383, 'lapeer': 25384, 'sudo': 25385, 'reiss': 25386, 'widening': 25387, '2011': 25388, 'publicise': 25389, 'unbiassed': 25390, 'gob': 25391, 'on…': 25392, 'pborbm': 25393, '62q74t': 25394, 'potto': 25395, 'americanairlines': 25396, 'befriend': 25397, 'squeakers': 25398, 'omission': 25399, 'cosign': 25400, '👏😡': 25401, 'plz🤧': 25402, 'cocks': 25403, 'dropboxing': 25404, 'mahi': 25405, 'cunningham': 25406, 'chodte': 25407, 'deilver': 25408, 'karenge': 25409, 'vendetta': 25410, 'gibibyte': 25411, 'sai': 25412, 'alba': 25413, 'mabey': 25414, 'hgv': 25415, 'afroman': 25416, 'dan’': 25417, 'rudraksh': 25418, 'shirl': 25419, 'harry’': 25420, '🍬🍫': 25421, 'mocked': 25422, 'riverpark': 25423, 'fresno': 25424, 'skinker': 25425, 'conjuration': 25426, 'avod': 25427, 'bustle': 25428, 'scoffed': 25429, 'puneet': 25430, 'preferable': 25431, 'occupier': 25432, 'offstage': 25433, 'pontypridd': 25434, 'greenwood': 25435, 'flt88': 25436, 'flts': 25437, 'bpg': 25438, 'incentivize': 25439, 'misrepresent': 25440, 'advisable': 25441, 'flightradar': 25442, 'ba5': 25443, '200s': 25444, 'meats”': 25445, 'counterpoise': 25446, 'got😅': 25447, 'alec': 25448, 'exculpated': 25449, 'mvpgold': 25450, 'hoeless👎👎👎👎👎👎😀😀👎😀😀😀😀😀😀😀😀😀😀😀😀😀😀😀😀😀👎👎👎👎👎👎👎👎👎👎👎👎👎': 25451, 'lxiii': 25452, 'ase': 25453, '£10k’': 25454, '“might”': 25455, 'logistician': 25456, '3428': 25457, 'wacky': 25458, 'slying': 25459, 'motherfucking': 25460, 'forefend': 25461, 'idont': 25462, 'ando': 25463, 'ladders': 25464, 'mandated': 25465, 'dl4561': 25466, 'amendments': 25467, 'plainfield': 25468, 'outdistance': 25469, 'malfunctions': 25470, 'flatmates': 25471, 'imitate': 25472, '“within': 25473, 'reliability”': 25474, 'usind': 25475, 'settling': 25476, '🥕🥕': 25477, '19t': 25478, 'counseling': 25479, 'billiards': 25480, 'iphone6se': 25481, 'urbanears': 25482, 'plattan': 25483, '😳😂': 25484, 'bording': 25485, 'keaton': 25486, 'loin': 25487, 'unable\\u200b': 25488, '“simple”': 25489, 'drastically': 25490, 'roasties': 25491, 'yorkshires': 25492, 'ample': 25493, 'mull': 25494, 'muggins': 25495, 'workmanship': 25496, 'smartypants': 25497, 'validating': 25498, 'tsung': 25499, 'dao': 25500, 'hurdles': 25501, 'belligerent': 25502, 'listo': 25503, 'lester': 25504, 'bard': 25505, 'utill': 25506, 'infonotice®️number': 25507, 'topside': 25508, 'guardia': 25509, 'basava': 25510, 'bhaaskara': 25511, 'over😑': 25512, 'harold': 25513, 'texans': 25514, '“lost': 25515, 'damaged”': 25516, 'weeks…': 25517, 'disappointingfor': 25518, 'alienated': 25519, 'suma': 25520, 'reply’': 25521, 'cashflo': 25522, 'giveaways': 25523, 'oxted': 25524, 'simba': 25525, 'anythng': 25526, 'clermont': 25527, '“question': 25528, '“main”': 25529, 'mornington': 25530, 'remand': 25531, 'palash': 25532, 'untroubled': 25533, 'aika': 25534, 'subsidize': 25535, 'spurred': 25536, 'dalton': 25537, 'instead🤷🏼\\u200d♀️': 25538, 'akl': 25539, '👀👀': 25540, 'bady': 25541, 'fra': 25542, '🍰🎂🍕🍟🍔🍫': 25543, 'migraine': 25544, 'aways': 25545, '“nearby': 25546, 'trip”': 25547, 'inge': 25548, 'ofcourse': 25549, 'torquay': 25550, '😢😢😢😢😢😭': 25551, 'spotter': 25552, '🚙🚙🚙': 25553, 'phasing': 25554, 'usps’': 25555, 'elio': 25556, '953': 25557, 'afternoons': 25558, 'dominique': 25559, 'fr9m': 25560, 'pr9ject': 25561, 'undertaking': 25562, 'magnification': 25563, 'intial': 25564, 'mayflower': 25565, '1620': 25566, 'savouries': 25567, 'existant': 25568, 'lekki': 25569, 'sangotedo': 25570, 'aganist': 25571, 'cued': 25572, '498': 25573, '0x0': 25574, 'melon': 25575, 'ripeness': 25576, '😞🍉': 25577, 'hilsea': 25578, 'rigors': 25579, 'thanku4': 25580, 'confirmin': 25581, 'apprehensions': 25582, 'giuseppe': 25583, '🥂✈️🎄': 25584, '257': 25585, 'zips': 25586, 'godox': 25587, 'ad200': 25588, '6weeks': 25589, 'kristie': 25590, 'sugars': 25591, 'micky': 25592, 'conversant': 25593, '256g': 25594, 'indorser': 25595, 'scrubbed': 25596, 'thaku': 25597, 'aa604': 25598, 'glc': 25599, 'you👌🤣': 25600, 'rajasthan': 25601, 'disregardless': 25602, 'ybrfvb': 25603, 'piping': 25604, 'chx': 25605, 'incurious': 25606, 'cinematics': 25607, 'worshipper': 25608, 'reaolve': 25609, '😫😖😤': 25610, '‘fix’': 25611, 'boarder': 25612, 'enormous': 25613, 'blockage': 25614, 'attemted': 25615, 'subscriptionnotregistered': 25616, 'bribed': 25617, 'hammering': 25618, 'afterll': 25619, 'sthg': 25620, 'repays': 25621, 'batches': 25622, 'hobbies': 25623, 'reviewer': 25624, 'soz': 25625, 'infestation': 25626, 'intensively': 25627, 'farmed': 25628, '😂😂😂😂😂😂😂😂😂😂😂': 25629, 'showking': 25630, '59am': 25631, 'nickelback': 25632, 'iche': 25633, 'op5': 25634, 'hackathons': 25635, 'popularize': 25636, 'trashes': 25637, 'stingy': 25638, 'woithout': 25639, '✈️🍗': 25640, 'mbpro': 25641, 'maddy': 25642, 'changeless': 25643, '😕where’': 25644, 'joshryan': 25645, 'parkin': 25646, 'umba50': 25647, 'integrate': 25648, 'truthfull': 25649, 'wringer': 25650, 'presumptively': 25651, 'authenticated': 25652, 'cleanse': 25653, '“welcome': 25654, 'hq”': 25655, 'specifies': 25656, 'bbb': 25657, 'bivalent': 25658, 'sellerit': 25659, 'embark…': 25660, 'transient': 25661, 'ischemic': 25662, 'forma': 25663, '25am': 25664, 'chia': 25665, 'dl2175': 25666, 'goggles': 25667, 'chash': 25668, 'boasting': 25669, 'toothpaste': 25670, 'triclosan': 25671, 'harmful': 25672, 'gruelling': 25673, 'sic': 25674, 'artifacts': 25675, 'tbk': 25676, 'cot': 25677, '1972': 25678, 'hunter': 25679, 'tiered': 25680, 'inspections': 25681, 'dynamex': 25682, 'fabby': 25683, 'rattled': 25684, '\\u200b\\u200b': 25685, 'vesture': 25686, 'toots': 25687, 'siriusxm': 25688, 'cfto': 25689, 'dst': 25690, 'radiocarpea': 25691, 'uncool': 25692, 'jeopardized': 25693, 'thiz': 25694, 'wattage': 25695, 'php130': 25696, 'php129': 25697, 'yhe': 25698, 'pitman': 25699, 'reckons': 25700, 'sideboard': 25701, 'macula': 25702, 'abhinav': 25703, 'hbd': 25704, 'stretches': 25705, 'foresee': 25706, 'fled': 25707, 'yiur': 25708, 'denationalisation': 25709, 'baguet': 25710, 'isaiah': 25711, 'bubbles': 25712, '🍾❤️💙💛': 25713, '🗺': 25714, 'ba275': 25715, 'ant': 25716, 'dontcare': 25717, 'cud': 25718, 'untenable': 25719, 'jurisprudence': 25720, 'dep': 25721, 'pfb': 25722, 'tolerances': 25723, 'benedict': 25724, '1176': 25725, 'complement': 25726, 'alaskaair': 25727, 'cemetery': 25728, 'conectet': 25729, 'sabriyurga': 25730, 'thingy': 25731, 'housekeeping': 25732, 'residuum': 25733, 'honda': 25734, 'am🙈': 25735, 'toxic': 25736, 'breakers': 25737, '4128': 25738, 'diona': 25739, '£63': 25740, 'jny': 25741, 'ljp0uyx84g': 25742, 'ngethe': 25743, 'shippuden': 25744, 'dupped': 25745, 'jure': 25746, 'unbl': 25747, 'batted': 25748, '7upfree': 25749, 'chewing': 25750, 'outlay': 25751, '✊': 25752, 'cability': 25753, 'lucinda': 25754, '830': 25755, 'maloree': 25756, '‘complete’': 25757, 'revaluation': 25758, 'questionnaire': 25759, 'talkers': 25760, 'pixy': 25761, '🍾🍾🍾': 25762, 'aa2436': 25763, 'hero’': 25764, 'kiyomi': 25765, 'wakes': 25766, 'sam’': 25767, 'incidences': 25768, '7ov594': 25769, 'gerlis': 25770, 'blks': 25771, 'xag': 25772, '🌮🌯🥑✨🌴': 25773, 'handfull': 25774, 'mutiplayer': 25775, '0637': 25776, '😀🤓': 25777, 'doored': 25778, 'motorcoach': 25779, 'fkin': 25780, 'xperience': 25781, 'xpected': 25782, 'hooking': 25783, 'assemblage': 25784, 'skeletal': 25785, 'thuggery': 25786, 'kenyans': 25787, 'resisting': 25788, 'mij': 25789, 'rotterdam': 25790, '🙄🤦\\u200d♀️': 25791, 'harcourt': 25792, 'obioakpor': 25793, 'saharra': 25794, '💜📱💚': 25795, 'tau': 25796, '0906': 25797, 'billie': 25798, 'freshinstall': 25799, 'buckhead': 25800, '4527': 25801, 'overture': 25802, 'spaceland': 25803, 'sz': 25804, 'jonas': 25805, 'endpoint': 25806, 'bleeds': 25807, 'aa206': 25808, 'mxp': 25809, 'amtrak': 25810, 'newscasts': 25811, 'clif': 25812, 'grnd': 25813, 'supervisors’': 25814, 'quem': 25815, 'shin': 25816, 'kaleigh': 25817, 'ziggy': 25818, 'isshowing': 25819, 'bux': 25820, 'tawdry': 25821, 'shmuck': 25822, 'trawl': 25823, 'som1': 25824, '😤😤😤😤😤😤😤😤': 25825, 'payp': 25826, 'relating': 25827, 'goldsmiths': 25828, 'preciously': 25829, 'whoremonger': 25830, 'xxl': 25831, 'dyialasis': 25832, 'tolerance': 25833, 'paraphernalia': 25834, 'verbaliser': 25835, 'handgun': 25836, 'guys’': 25837, 'trek': 25838, 'memorize': 25839, 'girlguiding': 25840, '🍁🦃': 25841, 'talktime': 25842, 'wesite': 25843, 'runtime': 25844, 'aw3418dw': 25845, 'lizard': 25846, 'sacredly': 25847, 'slaughtered': 25848, 'enamor': 25849, 'espana': 25850, 'vmusa': 25851, 'slicing': 25852, 'bandaide': 25853, 'worded': 25854, 'unintuitive': 25855, 'balze': 25856, 'dme': 25857, 'jena': 25858, 'insensible': 25859, 'antione': 25860, 'taught': 25861, 'chelmsford': 25862, 'queing': 25863, '0845': 25864, 'peds': 25865, 'sibling': 25866, 'perverted': 25867, 'subsurface': 25868, 'repro': 25869, '🕷': 25870, '“arriving': 25871, 'width': 25872, 'unuseable': 25873, '‘stop’': 25874, '‘snooze': 25875, 'repeat’': 25876, 'exhibits': 25877, 'plonker': 25878, 'cockup': 25879, 'wrking': 25880, 'f12': 25881, 'folderol': 25882, 'expenditure': 25883, 'seeding': 25884, 'shalford': 25885, '😤please': 25886, 'sequittous': 25887, 'chequered': 25888, 'liken': 25889, '3for2': 25890, 'timekeeping': 25891, 'phone”': 25892, 'uncontrolled': 25893, 'fibgys': 25894, 'discrepant': 25895, '😭😭😩': 25896, 'vegie': 25897, 'ladbaby': 25898, '🎃👻': 25899, 'erroring': 25900, 'ds”': 25901, 'exton': 25902, '1325': 25903, '1501': 25904, 'audacious': 25905, 'purifier': 25906, 'recrg': 25907, 'pedo': 25908, 'sympathising': 25909, 'fked': 25910, 'tittle': 25911, 'oiktgs': 25912, 'mulyadi': 25913, 'pauzi': 25914, 'erorr': 25915, 'fluke': 25916, 'wildfires': 25917, 'interludes': 25918, 'announces': 25919, 'fazlyn': 25920, 'kshs': 25921, 'freesim': 25922, 'fuckface': 25923, 'aware—and': 25924, 'harddisk': 25925, 'grinder': 25926, '‘prime’': 25927, 'cks': 25928, '17a': 25929, 'barroom': 25930, 'amphetamine': 25931, 'acquiring': 25932, 'feedback😃': 25933, 'flatrate': 25934, 'lowball': 25935, 'intrusion': 25936, 'pacifc': 25937, 'ganna': 25938, 'downman': 25939, 'plc': 25940, 'ch4': 25941, '9ga': 25942, 'itvis': 25943, 'satnav': 25944, 'battered': 25945, 'humid': 25946, 'brentwood': 25947, 'shenfield': 25948, 'bowers': 25949, 'salvaged': 25950, '🥔': 25951, 'sammie': 25952, '7500': 25953, 'getinstacash': 25954, 'cashify': 25955, 'kakamega': 25956, 'sanitation': 25957, '🌭': 25958, 'powerfulness': 25959, 'hz': 25960, 'sicko': 25961, 'distributed': 25962, '36pm': 25963, 'ocac': 25964, 'phishers': 25965, 'cuticle': 25966, 'vani': 25967, 'musa': 25968, 'custodial': 25969, 'considerately': 25970, 'zrh': 25971, 'retch': 25972, 'reann': 25973, 'lemons': 25974, 'ammend': 25975, 'kj5ntz': 25976, 'inflates': 25977, 'chantal': 25978, 'nioh': 25979, 'barking': 25980, '1856': 25981, 'preboards': 25982, 'shrank': 25983, 'rupess': 25984, 'ibrahim': 25985, 'service—': 25986, 'dayog': 25987, 'strabismus': 25988, 'ecumenical': 25989, 'redwood': 25990, '😑😑😑😑😑😑': 25991, 'reign': 25992, 'osirix': 25993, '2ce': 25994, 've4zkr': 25995, 'populated': 25996, 'kino': 25997, 'toten': 25998, '🌚': 25999, 'casseroles': 26000, 'w8': 26001, 'katheryna': 26002, 'juggernog': 26003, 'camos': 26004, '104': 26005, 'pumps': 26006, 'berates': 26007, 'incesant': 26008, 'flim': 26009, 'flam': 26010, 'tester': 26011, 'fiendish': 26012, 'pallav': 26013, 'sari': 26014, 'lesli': 26015, 'smuggled': 26016, 'lakers': 26017, 'blazers': 26018, 'konekt': 26019, 'laziness': 26020, '“log': 26021, 'in”': 26022, '“back”': 26023, 'towage': 26024, 'reply\\u200b': 26025, '₹180': 26026, 'storytime': 26027, 'siti': 26028, 'delegated': 26029, 'josephs': 26030, 'sidenote': 26031, 'chevvy': 26032, 'bending': 26033, 'ties': 26034, 'ayanna': 26035, 'studyblue': 26036, '4220': 26037, 'naturalization': 26038, 'consists': 26039, '500s': 26040, 'devising': 26041, 'ilex': 26042, 'paraguariensis': 26043, 'qn': 26044, 'uneconomical': 26045, 'buzzard': 26046, 'myfrenchlab': 26047, 'bucketload': 26048, 'spices': 26049, 'dicksmacks': 26050, 'gerry': 26051, '1zev713r': 26052, 'adios': 26053, '孙明': 26054, 'lisamariearnold': 26055, 'wolfenstein': 26056, '💁🏻\\u200d♀️': 26057, 'toolkit': 26058, 'jazmin': 26059, 'beeb': 26060, 'wrks': 26061, 'rountrip': 26062, 'secondarily': 26063, 'phonation': 26064, 'purchasers': 26065, 'elisabeth': 26066, '“cannot': 26067, 'ps4”': 26068, 'mang': 26069, 'awsome': 26070, '5ft': 26071, 'faecal': 26072, '😗': 26073, 'reuped': 26074, 'charle': 26075, 'snowman': 26076, 'offine': 26077, 'espouse': 26078, 'xcviii': 26079, 'centum': 26080, 'stereotyped': 26081, 'segregated': 26082, 'basonette': 26083, 'multipacks': 26084, 'ljnk': 26085, 'ofthe': 26086, 'boycotted': 26087, '715': 26088, 'unsuspectingly': 26089, 'ilxxx': 26090, 'overusing': 26091, '350rs': 26092, 'jøåñńę': 26093, 'prefect': 26094, 'andre’': 26095, 'craisin': 26096, 'era…': 26097, 'lament': 26098, 'dispirited': 26099, 'gaw': 26100, '445pm': 26101, 'everythings': 26102, 'deary': 26103, 'effingham': 26104, '96₹': 26105, 'phuket': 26106, 'wonderland': 26107, 'fitly': 26108, 'trimmings': 26109, 'year👍🏼': 26110, 'declination': 26111, 'porno': 26112, 'corporal': 26113, 'purser': 26114, '✌✌✌': 26115, '💩💩💩💩': 26116, 'responsibles': 26117, 'puyenta': 26118, 'dli': 26119, 'mka': 26120, 'fvcking': 26121, 'mgmnt': 26122, '☘': 26123, 'grail': 26124, 'deconflict': 26125, 'this”': 26126, 'foreclose': 26127, 'ireful': 26128, 'westborne': 26129, 'pocketinet': 26130, 'decoder': 26131, 'duty®': 26132, 'advocating': 26133, 'theu': 26134, 'rollers': 26135, 'coure': 26136, 'enfranchisement': 26137, 'paramedic': 26138, '🙄😩': 26139, 'cheerless': 26140, 'shravani': 26141, 'photoset': 26142, '80badlyspent': 26143, 'bib': 26144, 'shorts': 26145, 'nerds': 26146, 'ulookaapattey': 26147, 'goalposts': 26148, 'infected': 26149, 'it—thanks': 26150, 'grotty': 26151, 'pmdg': 26152, 'nameiztaken': 26153, 'hornswoggle': 26154, 'cascaded': 26155, 'nightspot': 26156, 'samething': 26157, 'unicom': 26158, 'claudia': 26159, 'cabo': 26160, '2gethr': 26161, 'blecch': 26162, 'adieu': 26163, 'chan': 26164, 'sarojini': 26165, 'goodfellow': 26166, 'steagall': 26167, 'titel': 26168, 'noc': 26169, 'pto': 26170, 'intercrossed': 26171, 'adpter': 26172, 'christi': 26173, 'retiree': 26174, 'kevinless': 26175, '💔🥕': 26176, 'braggart': 26177, 'pleaser': 26178, 'empirically': 26179, 'd1g1tal': 26180, 'sheikh': 26181, 'films': 26182, 'decertify': 26183, '21pm': 26184, 'm3': 26185, '1736': 26186, 'gu7': 26187, '1lq': 26188, 'eisendrache': 26189, 'boron': 26190, 'vunerable': 26191, 'weite': 26192, 'seperate': 26193, '1506': 26194, 'grossness': 26195, 'passyunk': 26196, '🥑😢': 26197, '“latest': 26198, 'version”': 26199, 'wipeout': 26200, 'bernadine': 26201, 'work😫😬🙄🤔😡': 26202, 'flamin’': 26203, 'taliesin': 26204, 'sweep': 26205, 'address😬': 26206, 'ruby': 26207, 'collegeville': 26208, '“manage”': 26209, '“request': 26210, 'points”': 26211, 'classmates': 26212, 'bbox': 26213, 'trilogy': 26214, 'woodfords': 26215, 'blizzcon': 26216, 'keynote': 26217, '2to': 26218, 'understandably': 26219, 'spookalada': 26220, 'graves': 26221, 'now🤷🏽\\u200d♀️🤷🏽\\u200d♀️': 26222, 'handclasp': 26223, 'vt😕': 26224, 'couriar': 26225, 'charmi': 26226, '1633': 26227, 'assistance”': 26228, 'giggles': 26229, '🌱💜': 26230, 'lxiv': 26231, 'southerly': 26232, 'marcel': 26233, 'eradicate': 26234, 'avgeek': 26235, 'aspiring': 26236, '“loose': 26237, 'connection”': 26238, 'curls': 26239, 'on1': 26240, 'goldcard': 26241, 'bazooka': 26242, 'binary': 26243, 'nails': 26244, 'dl1959': 26245, 'itasca': 26246, 'itchy': 26247, 'debiting': 26248, 'stoked': 26249, 'wry': 26250, 'accommodated': 26251, 'crashing…': 26252, 'violence': 26253, '“damage': 26254, 'reports”': 26255, 'morals': 26256, 'radita': 26257, 'goflex': 26258, 'flack': 26259, 'saturday’': 26260, 'rm625w': 26261, 'wn990': 26262, 'wn223': 26263, 'wn372': 26264, 'wn5592': 26265, 'nuttingkam': 26266, 'binging': 26267, 'firearm': 26268, 'acquirement': 26269, 'gladiolus': 26270, 'handshaking': 26271, 'avaialable': 26272, 'robbed💔': 26273, 'avantage': 26274, '🛫🙈': 26275, 'oneplus3t': 26276, 'dest': 26277, 'inbetween': 26278, 'omarmadrid2': 26279, 'apolgies': 26280, 'wooing': 26281, 'vigilance': 26282, 'hotline😕': 26283, 'lxvii': 26284, '😡🔫': 26285, 'cdu': 26286, 'aluminum': 26287, 'ipswich': 26288, 'prepping': 26289, '👍❤': 26290, 'sia': 26291, 'gogo’': 26292, 'streamers': 26293, 'ps4share': 26294, '🍛🍲': 26295, 'lucks': 26296, 'in👀': 26297, 'freedivers': 26298, 'unamerican': 26299, 'derrico': 26300, 'carlisle2wolverhampton': 26301, 'closeby': 26302, 'beset': 26303, 'renegotiate': 26304, 'adison': 26305, '5wokirng': 26306, 'tmobiletues': 26307, 'dominos': 26308, 'gilled': 26309, 'vijayawada': 26310, 'showroom': 26311, 's2s': 26312, 'sdf': 26313, 'tess': 26314, '🤳🏼🤦🏻\\u200d♀️': 26315, 'impending': 26316, 'severity': 26317, '🎿': 26318, '4hour': 26319, 'viewpoint': 26320, 'truthfulness': 26321, '😡😕': 26322, 'pintu': 26323, 'cells': 26324, 'damag': 26325, '💃🏾': 26326, 'bullslawdan': 26327, 'vizor': 26328, 'disjuncture': 26329, '0x80a': 26330, 'jayilla': 26331, 'unvalued': 26332, 'dissatisfying': 26333, '🙏🏽😃': 26334, 'ashleecooper': 26335, 'stymied': 26336, 'gravelly': 26337, 'succession': 26338, 'kiln': 26339, 'hanwell': 26340, 'ineluctable': 26341, 'kievs': 26342, 'duff': 26343, '😴💯': 26344, 'rhonda': 26345, 'madeira': 26346, 'ba👎🏾': 26347, '💜✈️': 26348, 'chareters': 26349, 'explane': 26350, 'thet': 26351, '“indefinitely': 26352, 'finicky': 26353, '2dys': 26354, 'theif': 26355, 'painstaking': 26356, 'tussle': 26357, 'parag': 26358, 'rasen': 26359, 'failover': 26360, '0851': 26361, '200k': 26362, 'inadvertent': 26363, '5607': 26364, 'regan': 26365, 'inherited': 26366, 'mutton': 26367, 'wellies': 26368, 'ecredits': 26369, 'transferrable': 26370, 'bungo': 26371, 'ahw': 26372, 'wax': 26373, 'fatimo': 26374, 'nocustomer': 26375, 'firsa': 26376, 'paulo': 26377, 'mouly': 26378, 'operable': 26379, '“satellite': 26380, 'good”': 26381, 'hypnotized': 26382, 'wcp': 26383, 'blackhall': 26384, 'explosion': 26385, 'jailor': 26386, '⌒‿⌒': 26387, 'abubakar': 26388, 'shuaibu': 26389, 'liman': 26390, 'interactive': 26391, 'multimedia': 26392, 'underdrawers': 26393, 'shroud': 26394, '1202': 26395, 'brokerage': 26396, 'mugg': 26397, 'retweeted': 26398, 'regulates': 26399, 'enfold': 26400, 'godforsaken': 26401, 'dse': 26402, 'corkscrew': 26403, 'candela': 26404, '34c': 26405, 'lagurdia': 26406, 'victimization': 26407, 'miscalculating': 26408, 'gfy': 26409, 'igneous': 26410, 'strident': 26411, 'grabs': 26412, 'itineraries': 26413, 'smidge': 26414, 'expections': 26415, 'stoping': 26416, 'directl': 26417, 'chrisy': 26418, 'carpus': 26419, '👺': 26420, 'threatning': 26421, 'station’': 26422, 'breadcrumbs': 26423, 'thumbed': 26424, 'funkier': 26425, 'grooves': 26426, 'philippe': 26427, 'banesco': 26428, 'telephoner': 26429, 'hnd': 26430, 'bicyclists': 26431, 'korissa': 26432, 'tonee': 26433, 'aida': 26434, '👍🤣': 26435, 'gili': 26436, 'pesistant': 26437, 'syed': 26438, '2407': 26439, 'sprinting': 26440, 'endangered': 26441, 'species': 26442, 'futile': 26443, 'rtv': 26444, 'mobilityaid': 26445, 'glamour': 26446, 'no1s': 26447, 'prop': 26448, 'defile': 26449, 'aussie': 26450, 'decisiveness': 26451, 'hindley': 26452, 'apni': 26453, 'dukaan': 26454, 'multliple': 26455, 'vist': 26456, '64g': 26457, 'srikrishna': 26458, 'pilli': 26459, 'comptroller': 26460, 'glight': 26461, 'peacefully': 26462, '🌸': 26463, 'amira': 26464, 'jaywalking': 26465, 'uturn': 26466, 'dismembered': 26467, 'recipients': 26468, 'katarina': 26469, 'reuniting': 26470, 'whome': 26471, 'sopranos': 26472, 'graduates': 26473, 'mississippi': 26474, 'women’': 26475, 'woan': 26476, '💛': 26477, 'pyrus': 26478, 'communis': 26479, 'unfinished': 26480, 'exprnce': 26481, 'handover': 26482, 'axelle': 26483, '“install”': 26484, 'haggled': 26485, 'omairz': 26486, '🖤✈️': 26487, 'cdma': 26488, 'debacle': 26489, 'adrianamarie': 26490, 'jars': 26491, 'dafuck': 26492, 'zigzag3143': 26493, 'affirmative': 26494, 'complainers': 26495, 'jedi': 26496, '🖖': 26497, 'culver': 26498, 'norwood': 26499, 'slashed': 26500, 'vetinary': 26501, 'rspca': 26502, 'petitions': 26503, '1563': 26504, 'fosters': 26505, 'whimsey': 26506, 'caro': 26507, 'suvi': 26508, 'castro': 26509, '1931': 26510, 'kriss': 26511, 'kringle': 26512, 'aa0739': 26513, 'prosaic': 26514, 'allegany': 26515, 'gamemode': 26516, 'poore': 26517, 'instantaneously': 26518, 'longtime': 26519, 'penelope': 26520, 'on’': 26521, '🤦🏻\\u200d♂️😡': 26522, 'qrdq8e': 26523, 'bloodline': 26524, 'tnc': 26525, 'honourable': 26526, '🇯🇲': 26527, 'misrepresentation': 26528, 'carrier”': 26529, 'racine': 26530, 'dea': 26531, 'nitrous': 26532, 'shippment': 26533, 'islamic': 26534, 'shama': 26535, 'reissue': 26536, 'det': 26537, 'ayomideo': 26538, 'passworded': 26539, 'best👅💦': 26540, 'redesign': 26541, 'wolfgang': 26542, 'mozart': 26543, '“contact': 26544, 'us”': 26545, 'preco': 26546, 'mistel': 26547, 'again🤚🏾👋🏾🤚🏾👋🏾': 26548, 'raya': 26549, 'jac': 26550, '6305': 26551, 'bvd': 26552, '21at': 26553, 'amascam': 26554, '🍔🍟🥤': 26555, 'loveland': 26556, '147': 26557, 'snowfall': 26558, 'nip': 26559, 'coyote': 26560, 'falmouth': 26561, '̇': 26562, 'slimey': 26563, 'ungodly': 26564, 'robo': 26565, '“snack”': 26566, 'stoop': 26567, 'bree': 26568, 'coug': 26569, 'spyglass': 26570, 'ransom': 26571, 'nineteen': 26572, '“fuck': 26573, 'driving”': 26574, 'northam': 26575, 'selfless': 26576, 'evryday': 26577, 'upgrad': 26578, 'competition…': 26579, '😑😠🙄': 26580, 'connectvity': 26581, 'amb': 26582, 'lighten': 26583, 'pecuniary': 26584, '😉😍': 26585, 'transpac': 26586, 'dl836': 26587, 'casa': 26588, 'sonoita': 26589, 'pinal': 26590, 'killingworth': 26591, 'spades': 26592, 'crockery': 26593, 'failings': 26594, 'patronisingly': 26595, 'abo': 26596, '0835': 26597, 'haifa': 26598, 'abdulaziz': 26599, 'mansour': 26600, 'briny': 26601, 'rosemont': 26602, '487': 26603, '2272': 26604, 'competence': 26605, '183': 26606, 'facetious': 26607, 'hunsbry': 26608, '’hampton': 26609, 'untransferable': 26610, 'kilometer': 26611, 'eppudu': 26612, 'rls': 26613, 'tamil': 26614, 'veskuntam': 26615, 'talm': 26616, 'wath': 26617, 'gmsfu': 26618, '£380': 26619, 'accomodation': 26620, 'ys': 26621, 'underdeveloped': 26622, 'laveen': 26623, 'peder': 26624, 'roomba': 26625, 'hateful': 26626, 'kindy': 26627, 'resymcing': 26628, 'bilbrook': 26629, 'declassification': 26630, 'statics': 26631, 'scrambling': 26632, 'periscope': 26633, 'swet': 26634, 'gospeler': 26635, 'shortsighted': 26636, 'sultan': 26637, '☝🏾': 26638, 'treme': 26639, 'chau': 26640, 'tots': 26641, 'tremedous': 26642, 'lulu': 26643, 'sequent': 26644, 'nicksuzuki': 26645, 'och': 26646, 'faktureringssupport': 26647, 'quickly…': 26648, 'buut': 26649, 'gratiot': 26650, 'solidarity': 26651, 'aabhas': 26652, 'tryied': 26653, 'banished': 26654, 'unenroll': 26655, 'unenrolled': 26656, 'exploded': 26657, 'fizzed': 26658, 'almonds': 26659, 'pnuts': 26660, 'mortality': 26661, 'ark': 26662, '◦the': 26663, 'patriots': 26664, '0xc': 26665, 'validates': 26666, 'anshu': 26667, 'k7': 26668, 'comparts': 26669, 'bf2': 26670, 'disn’': 26671, 'wrk': 26672, 'tota': 26673, '🛩': 26674, 'bomber': 26675, 'uche': 26676, 'millivolt': 26677, 'forsure': 26678, 'skyscrapers': 26679, 'wuna': 26680, '658': 26681, 'obvi': 26682, 'anutter': 26683, 'amiibos': 26684, 'palmer': 26685, 'hardcover': 26686, 'runny': 26687, 'ba1435': 26688, 'ba0676': 26689, '0935': 26690, 'mysubscriptions': 26691, 'permonace': 26692, 'rewiew': 26693, 'bevers': 26694, 'ilana': 26695, 'abbi': 26696, 'scince': 26697, 'refusals': 26698, 'illnesses': 26699, 'vomiting': 26700, 'beleaguering': 26701, 'no😑😑😑😑😑😑😶😡😡😡😡😡': 26702, '11mins': 26703, 'raintree': 26704, 'annasalai': 26705, '270': 26706, '179': 26707, 'copyright': 26708, '4475': 26709, '17nov': 26710, '19nov': 26711, '👎🏽': 26712, 'stringer': 26713, 'danillo': 26714, 'guidepost': 26715, 'ciphers': 26716, 'help👍🏽': 26717, 'prorate': 26718, '😍👂': 26719, '35bday': 26720, 'bpass': 26721, '3029': 26722, 'exsqueeze': 26723, 'broswers': 26724, 'chronically': 26725, 'miniature': 26726, 'mitm': 26727, 'injecting': 26728, 'scrambled': 26729, '😍🍳🥓': 26730, 'langdon': 26731, 'painted': 26732, '4802': 26733, 'kfuf2p': 26734, 'jpy': 26735, '23a': 26736, '23b': 26737, '46a': 26738, '47c': 26739, 'haneda': 26740, 'schemes': 26741, 'fun😊': 26742, 'flute': 26743, 'tarnaka': 26744, 'marque': 26745, 'spanking': 26746, '👈': 26747, 'frantically': 26748, 'out😶': 26749, 'machinelike': 26750, 'balboa': 26751, 'anymore😢': 26752, 'brawl': 26753, '1256': 26754, 'lite': 26755, 'freaky': 26756, 'wallpaper': 26757, 'omoluabi': 26758, 'disguised': 26759, 'primavera': 26760, 'dixon': 26761, 'vws': 26762, 'anita': 26763, 'patterned': 26764, 'lagged': 26765, 'acaunt': 26766, 'app😒': 26767, 'wajeeda': 26768, 'notoriously': 26769, 'parry': 26770, 'calderon': 26771, 'an1': 26772, 'newyork': 26773, 'armoury': 26774, 'combined—it’': 26775, 'wulp': 26776, 'swippers': 26777, '🖕🏾👍🏾👍🏾👍🏾': 26778, '🤷\\u200d♀️': 26779, '😍😍😍😍': 26780, 'credible': 26781, 'ecodiva': 26782, 'thriftshop': 26783, '💩💩💩🤮': 26784, 'nuevo': 26785, 'dejan': 26786, 'tuitear': 26787, 'xboxone': 26788, 'numerate': 26789, 'jenniferrogers': 26790, 'contiue': 26791, 'j4': 26792, 'george’': 26793, 'billions': 26794, 'xterra': 26795, 'back😡😡': 26796, 'baggage—makes': 26797, 'urday': 26798, 'meow': 26799, 'purr': 26800, 'fect': 26801, '2764': 26802, 'featherbed': 26803, 'verity': 26804, 'repayments': 26805, 'descriped': 26806, '“prediction”': 26807, '5year': 26808, 'aw…': 26809, 'glamorous': 26810, 'brontosaurus…': 26811, 'ba’al': 26812, 'panel’': 26813, 'blankly': 26814, 'leta': 26815, 'micromax': 26816, 'guitars': 26817, 'carmelita': 26818, 'reactivation': 26819, 'runni': 26820, 'haley': 26821, 'spend😕': 26822, 'rogie': 26823, 'available”': 26824, 'env': 26825, 'gravitational': 26826, 'nemorg': 26827, 'outputs': 26828, 'compilation': 26829, 'gorillaz': 26830, 'humanz': 26831, 'voyager': 26832, 'partway': 26833, 'wallpapers': 26834, 'chawbacon': 26835, 'caw': 26836, 'landess': 26837, '01pm': 26838, '25min': 26839, '150kes': 26840, 'ir59he': 26841, 'feckin': 26842, 'delatww': 26843, 'wvweyevi': 26844, 'kink': 26845, 'though🤫': 26846, 'knish': 26847, 'unsolved': 26848, 'mcj4wb': 26849, 'soviet': 26850, 'brezhnev': 26851, 'lg5': 26852, 'upl': 26853, 'pay”': 26854, 'castleford': 26855, 'jaskamal': 26856, 'allt': 26857, 'combustion': 26858, 'emollient': 26859, 'ballsacks': 26860, 'pmd': 26861, 'p9': 26862, 'wfj': 26863, 'giardino': 26864, 'morissons': 26865, 'gresham': 26866, 'craziest': 26867, 'sits': 26868, 'plists': 26869, 'dongles': 26870, 'sherekap': 26871, '😘💗': 26872, 'acres': 26873, 'dimwit': 26874, 'blurays': 26875, 'julieann': 26876, 'mains': 26877, 'hae': 26878, 'hada': 26879, 'dsame': 26880, 'yoha': 26881, 'accelerator': 26882, 'cheesley': 26883, 'nested': 26884, 'sainsbos': 26885, 'monarch': 26886, '“stolen': 26887, 'thodi': 26888, 'sharm': 26889, 'kuchh': 26890, 'serbia': 26891, 'kathleen': 26892, 'hasten': 26893, 'tards': 26894, 'grohl': 26895, 'samosa': 26896, 'tenth': 26897, 'tryig': 26898, 'discard': 26899, 'kimmi': 26900, 'thickheaded': 26901, 'selenium': 26902, 'southparkway': 26903, 'joannah': 26904, 'kenwood': 26905, 'bm450': 26906, 'dispenser': 26907, 'temporaily': 26908, '“applicable”fees': 26909, '8h': 26910, 'unlettered': 26911, 'superoxide': 26912, 'dismutase': 26913, 'miranda': 26914, 'hesitated': 26915, 'autechre': 26916, 'lexicon': 26917, 'unsuspecting': 26918, 'toms': 26919, 'maximise': 26920, 'sponsoring': 26921, 'scandalisation': 26922, 'inspecting': 26923, 'irritatingly': 26924, 'jagged': 26925, 'fakeex': 26926, 'clara': 26927, 'reimburses': 26928, 'gigabits': 26929, 'gigabitting': 26930, 'testers': 26931, 'gramme': 26932, 'arseholes': 26933, 'naya': 26934, 'mechanisms': 26935, 'seams': 26936, 'costmers': 26937, 'robey': 26938, 'housemates': 26939, 'slutten': 26940, 'homegirl': 26941, 'heighten': 26942, 'negociate': 26943, 'mmt': 26944, 'omoniyi': 26945, 'subset': 26946, '0628': 26947, 'bruiser': 26948, '😂🎉': 26949, 'seatbelts': 26950, 'bugy': 26951, 'hierarchal': 26952, 'feasible': 26953, 'lawfully': 26954, 'flighy': 26955, 'primenpackage': 26956, 'vadodara': 26957, 'minal': 26958, 'stoopid': 26959, 'fore': 26960, 'sendgrid': 26961, 'twac': 26962, '0518': 26963, 'bka': 26964, 'progresses': 26965, 'naks': 26966, 'ecesis': 26967, 'perpetrated': 26968, 'withstander': 26969, '🤣🤣🤣🤣🤣🤣': 26970, 'simplify': 26971, 'sytem': 26972, 'jin': 26973, 'periphery': 26974, 'p60': 26975, 'fencing': 26976, 'azor': 26977, 'what’re': 26978, 'softened': 26979, 'ankofamerica': 26980, 'disabilities': 26981, '327': 26982, 'coupled': 26983, 'seanbrittain': 26984, 'crafted': 26985, 'bartenders': 26986, '🎉🎂🎈': 26987, 'glove': 26988, 'gums': 26989, 'thickeners': 26990, 'diner': 26991, '207': 26992, 'attempts”': 26993, 'organisations': 26994, 'pillocks': 26995, 'maría': 26996, 'carajo': 26997, 'screensaver': 26998, 'pokemon': 26999, 'd43': 27000, 'panick': 27001, '🐷🐖': 27002, 'dl1571': 27003, 'dl4655': 27004, 'spar': 27005, 'campany': 27006, 'muffie': 27007, '\\u200bplease': 27008, 'comair': 27009, 'pasenger': 27010, '🥟🥧': 27011, 'ba93': 27012, 'insensitivity': 27013, 'ds4': 27014, '❗️': 27015, '🐻⚾️': 27016, 'bibbing': 27017, 'elden': 27018, 'farthest': 27019, 'bofa’': 27020, 'egde': 27021, 'shani': 27022, 'feeback': 27023, 'rarity': 27024, 'balto': 27025, 'reanimate': 27026, 'particles': 27027, 'knox': 27028, 'onsale': 27029, 'kamehameha': 27030, '🔥♥🐉': 27031, 'protracted': 27032, 'cacophonously': 27033, 'exited': 27034, 'oreos': 27035, 'citizenship': 27036, 'extraneous': 27037, 'msoutlook': 27038, 'cuties': 27039, 'tokens': 27040, 'apy': 27041, 'deadbolt': 27042, 'springboard': 27043, 'siddharth': 27044, 'tuk': 27045, 'vch': 27046, 'hvn': 27047, 'intemittant': 27048, 'hayat': 27049, 'miladies': 27050, 'doylestown': 27051, 'contagious': 27052, 'changr': 27053, 'centiliter': 27054, 'msu': 27055, '😋😋': 27056, '🍴': 27057, 'anything—': 27058, 'conan': 27059, 'mattroyo': 27060, '\\u200bwe': 27061, 'ontrac': 27062, 'braehead': 27063, '⚠️watchlist': 27064, 'highschool': 27065, '905': 27066, 'hunners': 27067, 'raton': 27068, 'misogynist': 27069, 'cibc': 27070, '‘quality’': 27071, 'thugging': 27072, 'toffy': 27073, 'yumyums': 27074, 'yumyum': 27075, '3meals': 27076, 'vesicle': 27077, 'availble': 27078, 'hpc': 27079, 'concludes': 27080, '’mvery': 27081, 'deems': 27082, 'alignment': 27083, 'analogue': 27084, 'playstion': 27085, 'suddenlink': 27086, 'quicken': 27087, '👏🏼👏🏼🙌🏽🙌🏽': 27088, 'gumbo': 27089, 'lifters': 27090, 'hallowe': 27091, 'ghostwriter': 27092, 'sweetness': 27093, 'formative': 27094, 'eyw': 27095, '💺': 27096, 'maos': 27097, 'dpi': 27098, 'snding': 27099, 'timmy': 27100, 'mgrs': 27101, 'incorporate': 27102, 'delineate': 27103, 'burdensome': 27104, 'discouraged': 27105, 'brenthayashi': 27106, 'waned': 27107, 'capablity': 27108, 'horseman': 27109, 'apocalypse': 27110, '😈🐴': 27111, 'beardy': 27112, 'englush': 27113, 'replenishment': 27114, 'clamber': 27115, 'rootage': 27116, 'continously': 27117, 'conpany': 27118, 'trainings': 27119, 'springburn': 27120, 'that”': 27121, 'counterpunch': 27122, 'prams': 27123, 'buggies': 27124, 'clarifications': 27125, 'reestablish': 27126, 'reposts': 27127, 'coveted': 27128, 'turntable': 27129, 'dhruv': 27130, 'leila': 27131, 'alexisgovea': 27132, 'asterisked': 27133, '☺️👏🏽👏🏽♥️': 27134, 'unpleasure': 27135, 'relevance': 27136, '“delaying”': 27137, 'janine': 27138, 'pgs': 27139, 'gamplay': 27140, 'softlocked': 27141, 'alook': 27142, 'motoz': 27143, 'rioting': 27144, 'coldcock': 27145, 'condemnable': 27146, 'coveting': 27147, 'reindeer': 27148, 'rhyl': 27149, 'caerwys': 27150, 'revolutionise': 27151, '150gbp': 27152, 'vamshi': 27153, 'grandmothers': 27154, 'journalist': 27155, 'or3': 27156, 'pac12': 27157, '4completely': 27158, 'mcrib®': 27159, 'underwhelmed': 27160, 'considers': 27161, 'candid': 27162, 'oppressive': 27163, 'unscrupulous': 27164, 'terribe': 27165, 'consen': 27166, 'itll': 27167, 'freedompop': 27168, '😀😀': 27169, 'aiport': 27170, 'danel': 27171, 'sreelakshmi': 27172, '“strict”': 27173, 'mene': 27174, 'saari': 27175, 'krdi': 27176, 'tumhare': 27177, 'uppr': 27178, 'tumhe': 27179, 'apne': 27180, 'hone': 27181, 'yehi': 27182, 'derangement': 27183, 'centrepieces': 27184, 'rothschild': 27185, 'disheartened': 27186, 'iapologize': 27187, 'collocate': 27188, 'knotted': 27189, 'refold': 27190, 'cashmere': 27191, 'jumpers': 27192, 'trample': 27193, 'softee': 27194, 'nikhita': 27195, '☹️so': 27196, 'aa295': 27197, '“sure': 27198, 'gnocchi': 27199, 'corrow': 27200, '72hrs': 27201, 'plaque': 27202, 'wittiness': 27203, 'snuggle': 27204, 'bandits': 27205, 'mathis': 27206, 'bourgeois': 27207, 'scrumptious': 27208, 'gaps': 27209, '618': 27210, 'abilash': 27211, 'cinna': 27212, 'twists': 27213, 'underfilled': 27214, 'time😡': 27215, 'amen': 27216, 'tylenol': 27217, 'mistrustful': 27218, 'skies😍': 27219, 'lipped': 27220, 'begrudgingly': 27221, 'whites': 27222, 'venal': 27223, 'jbl': 27224, 'gopal': 27225, 'wtat': 27226, 'teetering': 27227, 'asunder': 27228, 'azeem': 27229, 'k2': 27230, 'gena': 27231, 'rainchecks': 27232, 'encash': 27233, 'topically': 27234, 'crux': 27235, '💕💕💕💕': 27236, 'detachable': 27237, 'kauai': 27238, 'helicopter': 27239, 'jogging': 27240, 'vitacat': 27241, '£320': 27242, 'blackscreens': 27243, 'operatives': 27244, 'tacoes': 27245, 'pleaseplease': 27246, 'experienc': 27247, 'lunes': 27248, 'kanye': 27249, '😍😎😀😁🤣😆': 27250, 'rebundle': 27251, 'entais': 27252, 'recyclability': 27253, '🛫🇦🇷🇩🇴💖': 27254, 'tec': 27255, 'imporntant': 27256, 'eurythmics': 27257, 'nomination': 27258, '🍔🍟❤❤': 27259, 'toleration': 27260, '‘printhead': 27261, 'aac': 27262, '😬😬😬😬😬': 27263, 'graciously': 27264, 'indulge': 27265, 'stripper': 27266, 'smokes': 27267, 'nrmnh': 27268, 'annbettymrs': 27269, 'goddammit': 27270, '7273': 27271, 'grandwood': 27272, '695': 27273, 'baylie': 27274, 'assigning': 27275, 'interfered': 27276, 'sagaciousness': 27277, 'sik': 27278, '805': 27279, 'xps13': 27280, 'ubuntu': 27281, '3376': 27282, 'clusters…': 27283, 'bnm': 27284, 'mauritius': 27285, 'honks': 27286, 'sharrows': 27287, '7nzu817': 27288, 'bryant': 27289, 'bhaidhuj': 27290, 'jacques': 27291, 'elastane': 27292, '😠coz': 27293, 'standalone': 27294, 'cabling': 27295, 'coverages': 27296, 'umair': 27297, '😩😤☹️': 27298, 'lasst': 27299, 'windaura': 27300, 'malodor': 27301, 'allude': 27302, 'ranks': 27303, 'enlist': 27304, '541': 27305, 'go2': 27306, 'byron': 27307, 't3': 27308, 'sujit': 27309, 'trouser': 27310, 'asured': 27311, 'sanket': 27312, 'perosnal': 27313, 'twiiter': 27314, 'vitamix': 27315, 'obstacles': 27316, 'smthng': 27317, 'waco': 27318, 'fady': 27319, 'muck': 27320, '👀🤔': 27321, 'pegleg': 27322, 'mrning': 27323, 'oahu': 27324, 'construing': 27325, 'hanukkah': 27326, '🤔anywho': 27327, 'cedric': 27328, '–jules': 27329, 'uber😒': 27330, 'swain': 27331, 'chrarged': 27332, 'kodi': 27333, 'flourish': 27334, '😘they’re': 27335, '554': 27336, 'd47': 27337, 'culprit': 27338, '✨🏆✨☕️🍩🚗': 27339, '✈✈': 27340, 'walgrave': 27341, 'triangle': 27342, 'ecstatic': 27343, 'sergiol': 27344, 'wiggle': 27345, '👈🏻does': 27346, 'a59': 27347, 'playact': 27348, 'brookfield': 27349, 'mohali': 27350, 'aread': 27351, 'bobtail': 27352, 'darcie': 27353, 'glades': 27354, 'ipv6': 27355, 'omaha': 27356, 'tiakappus': 27357, 'pcworld': 27358, 'solidifying': 27359, 'heartsick': 27360, 'hesley': 27361, 'hsb1': 27362, 'elegant': 27363, 'hearth': 27364, 'retractable': 27365, 'anarchy': 27366, 'inopportune': 27367, 'freakout': 27368, 'grapheme': 27369, '😄tgif': 27370, 'baapp': 27371, 'nonmeaningful': 27372, 'yess': 27373, 'videophone': 27374, 'tryone': 27375, 'gummy': 27376, 'smite': 27377, 'locals': 27378, 'pick2': 27379, 'immature': 27380, '😩😩😩😭😭😭😭😭😭': 27381, 'occupancy': 27382, 'musty': 27383, 'bartlett': 27384, 'adebowale': 27385, 'parkruns': 27386, '🇬': 27387, '🇧': 27388, '28d': 27389, '😊☺️': 27390, 'rebroadcast': 27391, 'arie': 27392, 'locs': 27393, 'scared😳': 27394, 'wtf🙄': 27395, 'rhiannon': 27396, '😱😤': 27397, 'attmobile': 27398, '820': 27399, 'thankss': 27400, 'aisa': 27401, '0840': 27402, '1630': 27403, 'molest': 27404, 'intervene': 27405, 'hayden': 27406, 'denisha': 27407, '18oct': 27408, 'psyche': 27409, 'lunatics': 27410, '70mb': 27411, '9yo': 27412, 'rheinhammer': 27413, 'lawn': 27414, 'staci': 27415, 'okoa': 27416, '108': 27417, '1million': 27418, 'parenting': 27419, '6m': 27420, 'fabbyceja': 27421, '50mph': 27422, 'hagley': 27423, '80mins': 27424, 'oftenly': 27425, 'tory': 27426, 'subway': 27427, 'you💖you': 27428, 'awesome💖': 27429, 'ba0559': 27430, 'blimp': 27431, 'catherineg': 27432, 'deansgate': 27433, 'tomeka': 27434, 'sephora': 27435, 'carters': 27436, 'wic': 27437, 'itz': 27438, 'arises': 27439, 'gred': 27440, 'topanga': 27441, 'swindled': 27442, 'inputs': 27443, 'clowns': 27444, 'mont': 27445, '828b5f26': 27446, 'stefanie': 27447, 'promoter': 27448, 'pregaming': 27449, '😘💪🏻': 27450, 'gwrr': 27451, 'bghv': 27452, 'autopilot”': 27453, 'modeand': 27454, '14am': 27455, 'camon': 27456, 'mhz': 27457, 'superphone': 27458, 'gs8': 27459, 'commercialize': 27460, 'pronoun': 27461, '🍝': 27462, 'dl0105': 27463, 'simmonds': 27464, 'configurations': 27465, 'shanice': 27466, 'outmatch': 27467, 'fgw': 27468, 'varinia': 27469, 'chrono': 27470, 'gamers': 27471, '🎄🍭🎁': 27472, '0841': 27473, 'gaseous': 27474, 'frightened': 27475, 'lampoon': 27476, 'carrey': 27477, 'indianartvilla': 27478, 'poisonous': 27479, 'leakage': 27480, 'spazz': 27481, 'mongolian': 27482, 'fervor': 27483, 'monkey': 27484, 'jerries': 27485, 'cadbury’': 27486, 'palatable': 27487, '2749': 27488, 'hamstead': 27489, 'dunking': 27490, 'sugary': 27491, 'düsseldorf': 27492, 'saffi': 27493, 'effing': 27494, '“student”': 27495, 'snipe': 27496, 'edol': 27497, 'liquidate': 27498, 'shippiden': 27499, 'ystrdy': 27500, 'recv': 27501, 'backnforth': 27502, 'sequential': 27503, '“adhering': 27504, 'policy”': 27505, 'raychel': 27506, 'wnat': 27507, 'insulated': 27508, 'coolers': 27509, 'judwa': 27510, 'herd': 27511, 'jayme': 27512, 'insted': 27513, '😤😡two': 27514, 'peels': 27515, 'negotiations': 27516, 'henrik': 27517, 'cathartic': 27518, 'demons': 27519, 'beatrice': 27520, '1140p': 27521, 'accolade': 27522, 'realisation': 27523, 'tranquillise': 27524, 'widely': 27525, 'bibi': 27526, 'nominal': 27527, 'lope': 27528, 'sanctioned': 27529, 'magazine😩': 27530, 'bahasa': 27531, 'guaranteed”': 27532, 'thule': 27533, 'unbx': 27534, 'unloved': 27535, 'usvis': 27536, 'forcemeat': 27537, 'herbs': 27538, 'droitwich': 27539, 'bunched': 27540, 'pliant': 27541, 'adm': 27542, 'diversionary': 27543, 'architect': 27544, 'trudeau': 27545, 'petroleum': 27546, 'vimeo': 27547, 'bada': 27548, '516': 27549, '3mbs': 27550, '‘made': 27551, 'without’': 27552, 'newsletters': 27553, '⚠': 27554, 'ifthat': 27555, 'playhead': 27556, 'unexpectedly…': 27557, 'bxl': 27558, 'ìf': 27559, 'skylark': 27560, 'sputters': 27561, 'cosmopolitan': 27562, 'playbacks': 27563, 'reconsideration': 27564, 'ysis': 27565, 'tearful': 27566, 'x100': 27567, 'racking': 27568, 'verona': 27569, 'mofi': 27570, '4500': 27571, 'sim4': 27572, 'goodbuy': 27573, 'membr': 27574, 'watermark': 27575, 'grandview': 27576, 'fossilized': 27577, 'furth': 27578, 'toxicant': 27579, 'physique': 27580, 'offer…': 27581, 'dissclose': 27582, 'lyin': 27583, 'hommos': 27584, 'yeo': 27585, 'chessington': 27586, 'iothub': 27587, 'intermediate': 27588, 'franco': 27589, 'daulton': 27590, 'certificates': 27591, 'analysis': 27592, 'detestable': 27593, 'bias': 27594, 'protip': 27595, 'notifs': 27596, 'jaqy': 27597, 'sealioning': 27598, 'slyly': 27599, 'cyberstalked': 27600, '1item': 27601, '💅': 27602, 'customes': 27603, 'host”': 27604, '🏀💘': 27605, 'avni': 27606, '“happy': 27607, 'sunday”': 27608, 'wasp': 27609, 'blighty': 27610, '£130': 27611, 'b42a': 27612, 'thereby': 27613, 'forbidden': 27614, 'giffnock': 27615, 'marshmallows': 27616, 'ste': 27617, '4280': 27618, 'bridgewater': 27619, 'garunteed': 27620, 'chatters': 27621, 'cnd': 27622, 'uplay': 27623, 'sailors': 27624, 'alicia': 27625, 'souza': 27626, 'decling': 27627, 'emabarrassing': 27628, 'pathway': 27629, 'unaceptal': 27630, 'imprsed': 27631, 'youbgenrric': 27632, 'opps': 27633, 'boomer': 27634, 'regs': 27635, 'storm💩💩💩💩💩💩💩💩💩💩💩💩💩💩💩': 27636, 'søren': 27637, 'chesham': 27638, 'redbook': 27639, 'tru': 27640, 'fll🛬🛫msy🛬': 27641, 'sufficiently': 27642, 'bsods': 27643, 'patching': 27644, '🗣🗣': 27645, 'amoma': 27646, 'chg': 27647, 'ablanked': 27648, 'geeze': 27649, 'guaranteeing': 27650, 'kenco': 27651, 'refills': 27652, 'ribbon': 27653, 'bron': 27654, 'shittest': 27655, 'wolly': 27656, 'rees': 27657, 'moggs': 27658, 'furore': 27659, 'peruse': 27660, '✈️👊🏻': 27661, 'assembled': 27662, 'peroid': 27663, 'infrared': 27664, 'ghi75f': 27665, 'wewo': 27666, 'crapola': 27667, 'yearn': 27668, 'honeyed': 27669, 'spillage': 27670, 'nonpaying': 27671, 'epitomises': 27672, '“customer': 27673, 'nepal': 27674, 'clerical': 27675, 'ibbie': 27676, '🚨🆘': 27677, 'harried': 27678, 'counselling': 27679, 'fleetwood': 27680, 'eventual': 27681, 'bestowed': 27682, 'raam': 27683, 'yemi': 27684, 'sizer': 27685, 'oops’': 27686, 'preacher': 27687, '😣😣😣😣😥😥😥😥😢': 27688, 'conditioners': 27689, 'footer': 27690, '7843': 27691, 'enniskillen': 27692, '😭give': 27693, 'greco': 27694, 'smiled': 27695, 'aa0352': 27696, 'quin': 27697, 'nineteenth': 27698, 'pawan': 27699, 'ohno': 27700, 'skezza': 27701, 'shanae': 27702, 'aintree': 27703, 'altrincham': 27704, 'correspondences': 27705, '5500': 27706, 'buhbye': 27707, 'disappointd': 27708, 'repeate': 27709, 'ehr9g': 27710, 'quenched': 27711, '747s': 27712, 'unrefurbed': 27713, 'prisoners': 27714, 'humidifier': 27715, '😄😀🙂': 27716, '😠🙄😤😑': 27717, 'sprig': 27718, 'hangover😂': 27719, 'gradient': 27720, 'treachery': 27721, 'pelf': 27722, '1637': 27723, 'tmw': 27724, 'epi': 27725, 'sad😴🙄😞': 27726, 'elephant': 27727, 'debenhams': 27728, 'nisa': 27729, 'unsurprising': 27730, 'vir': 27731, 'cramming': 27732, 'airs': 27733, 'zig': 27734, 'again😂😂😂😂😂': 27735, 'minsas': 27736, 'buycraft': 27737, '800apple': 27738, 'mand': 27739, 'sapna': 27740, 'recreation': 27741, 'patented': 27742, 'reversible': 27743, 'trashcan': 27744, 'acceptably': 27745, '“buy”': 27746, 'contac': 27747, 'at…': 27748, 'doung': 27749, 'afternoonas': 27750, '😤😠': 27751, 'autorenewal': 27752, 'rima': 27753, 'oris': 27754, 'cecillia': 27755, 'booing': 27756, 'croydon': 27757, 'name’': 27758, 'mariea': 27759, 'aldred': 27760, 'nifty': 27761, '🙃😒🖕': 27762, 'swift’': 27763, 'rotherhithe': 27764, 'houndshill': 27765, 'there’snt': 27766, 'wep': 27767, 'taradiddle': 27768, 'fcking': 27769, 'diverseness': 27770, '😚': 27771, 'flagstone': 27772, '🤷🏻\\u200d♂️🙅🏻\\u200d♂️': 27773, 'diaphragm': 27774, 'hpn': 27775, 'barrings': 27776, 'hbogo': 27777, '‘rich': 27778, 'creamy’': 27779, 'benno': 27780, 'hypocrisy': 27781, '26days': 27782, 'waiting😥😩': 27783, 'oriented': 27784, 'terabyte': 27785, 'ubisoft': 27786, 'chrissy': 27787, 'roel': 27788, 'unbelieveable': 27789, '24days': 27790, 'granny': 27791, '⚾⚾⚾⚾⚾': 27792, 'rivalry': 27793, 'uncover': 27794, 'unvarying': 27795, 'flapping': 27796, '“on': 27797, 'way”🙄': 27798, 'alycia': 27799, 'chaska': 27800, 'lessened': 27801, '🎃🎉': 27802, 'leona': 27803, 'assures': 27804, 'sys': 27805, 'waining': 27806, 'camels': 27807, 'infuriates': 27808, 'postseason': 27809, '⚾️': 27810, 'vnets': 27811, 'janise': 27812, 'dyson': 27813, 'cordless': 27814, 'whizzing': 27815, '👨\\u200d👩\\u200d👧\\u200d👦🐶': 27816, 'police😭😭😭': 27817, '😪💔': 27818, '😂❤️': 27819, 'fcken': 27820, 'ba2587': 27821, 'shitshow': 27822, 'condolence': 27823, 'meager': 27824, 'whip': 27825, 'aggy': 27826, 'reaaly': 27827, 'rumuola': 27828, 'polytechnic': 27829, 'amo': 27830, 'bloatware': 27831, 'disgustinh': 27832, 'winder': 27833, 'asamfp': 27834, 'trvllng': 27835, 'enjyng': 27836, 'cured': 27837, 'xprnc': 27838, 'gttng': 27839, 'hr38s4495': 27840, 'j5': 27841, 'liza': 27842, 'individualise': 27843, 'raring': 27844, 'resynched': 27845, 'muza': 27846, 'evar': 27847, 'replenish': 27848, 'pinko': 27849, 'sweetcorn': 27850, '🤔🙈': 27851, 'iphone7s': 27852, 'apprently': 27853, 'ohon': 27854, 'gia': 27855, 'won😥also': 27856, 'whiteout': 27857, 'rachey': 27858, 'barstool': 27859, 'jacoby': 27860, 'fabr': 27861, 'reciving': 27862, 'irreplicable': 27863, 'lords': 27864, 'embrace': 27865, 'itt': 27866, 'unprecedented': 27867, 'problm': 27868, 'captain’': 27869, 'fastreted': 27870, 'wether': 27871, 'veering': 27872, 'wyb': 27873, '8m': 27874, 'screensho': 27875, 'montague': 27876, 'dtb': 27877, 'reliever': 27878, '🖍️': 27879, 'equalizer': 27880, 'wakora': 27881, 'nyinyi': 27882, 'ata': 27883, 'siwezi': 27884, 'pata': 27885, 'safcom👎👎👎👉🐌💩': 27886, 'survay': 27887, 'carley': 27888, 'nannas': 27889, 'arpit': 27890, 'transation': 27891, 'backstory': 27892, 'rainforest': 27893, 'repeatly': 27894, 'fico': 27895, 'engr': 27896, 'slipped': 27897, '🥕🥕🥕🤣🤣🤣': 27898, 'anther': 27899, 'bisping': 27900, 'garbrandt': 27901, 'dillashaw': 27902, 'unsociable': 27903, 'derol': 27904, 'kristopher': 27905, 'se22': 27906, '8bb': 27907, 'tiptree': 27908, 'ecoupon': 27909, 'revenge': 27910, 'chelsey': 27911, '1060': 27912, 'sh50': 27913, 'sh41': 27914, 'occupies': 27915, 'bureaucratic': 27916, 'drastic': 27917, 'nuptials': 27918, 'erythrocyte': 27919, 'installationing': 27920, 'whimsy': 27921, 'gamecenter': 27922, 'cheerfulness': 27923, 'oval': 27924, 'titty': 27925, 'clappers': 27926, 'pails': 27927, 'h20': 27928, 'proration': 27929, 'branding': 27930, 'agsipnj': 27931, 'wildcard': 27932, 'prety': 27933, 'alao': 27934, 'riverdale': 27935, '“currently': 27936, 'artical': 27937, 'bookmarking': 27938, '❤❤': 27939, 'blockhead': 27940, 'undercut': 27941, 'cac': 27942, 'udaipur': 27943, 'flipcart': 27944, 'darjeeling': 27945, 'wrongdoer': 27946, 'idea👏': 27947, '895': 27948, 'clien': 27949, 'carolyne': 27950, 'calming': 27951, 'ballads': 27952, 'inductions': 27953, '👏🏽': 27954, 'ispcpr': 27955, 'myself…why': 27956, '“english': 27957, 'illmannered': 27958, 'intermission': 27959, 'whitened': 27960, 'sapidity': 27961, '“wast': 27962, 'enough”': 27963, 'disgruntle': 27964, 'tranquil': 27965, 'davenport': 27966, 'scrummage': 27967, '‘stock': 27968, 'up’': 27969, 'arepopular': 27970, 'sniffling': 27971, '❌⛔️😡': 27972, 'adrift': 27973, 'resemblance': 27974, 'sethh': 27975, 'endings': 27976, '7yo': 27977, 'too😊': 27978, 'bolbbalgan4': 27979, 'puberty': 27980, 'apparently…': 27981, '‘valuing': 27982, 'established': 27983, 'accts’': 27984, 'oodles': 27985, 'cominn': 27986, 'png': 27987, 'picsart': 27988, 'signifies': 27989, 'csp': 27990, 'macaroni': 27991, '187g': 27992, 'walmart’': 27993, 'natter': 27994, 'encouragement': 27995, 'indemnify': 27996, 'nywcff': 27997, 'anglo': 27998, 'saxon': 27999, 'protestant': 28000, '452': 28001, 'ofer': 28002, 'lik': 28003, 'blaady': 28004, 'yank': 28005, 'saavn': 28006, 'hindi': 28007, 'cux': 28008, 'garett': 28009, 'beefs': 28010, '😡😡😡😡😡😡😡😡😡😡😡': 28011, 'bushnell': 28012, 'morris': 28013, 'dlls': 28014, 'mediterranean': 28015, '400g': 28016, 'hotpot': 28017, '320g': 28018, '😫🤢': 28019, 'satisfactorily': 28020, 'pin’': 28021, 'retaliation': 28022, 'whitk': 28023, '331': 28024, '662': 28025, 'linx': 28026, 'mixup': 28027, 'laissez': 28028, 'passer': 28029, 'washed': 28030, 'scottsvalley': 28031, '💸💸💸💸': 28032, 'amas': 28033, 'conspiracy': 28034, 'ver15': 28035, 'the18': 28036, 'predction': 28037, 'carring': 28038, 'hetton': 28039, 'folake': 28040, 'dampish': 28041, 'sewerage': 28042, 'cheep': 28043, 'harrogate': 28044, 'purchasable': 28045, 'processors': 28046, 'contemptuous': 28047, 'condescend': 28048, '😢how': 28049, 'sunnyvale': 28050, '😂💖': 28051, 'rikkie': 28052, 'xboxlive': 28053, 'callbacks': 28054, 'konstantin': 28055, 'ramada': 28056, 'aero': 28057, 'surrendered': 28058, 'carelessness': 28059, '⚾': 28060, 'switcheroo': 28061, '2507': 28062, 'keybrd': 28063, 'trifle': 28064, 'dikhead': 28065, 'never🤦🏾\\u200d♀️': 28066, 'constitution': 28067, 'harlem': 28068, '42nd': 28069, 'fumming': 28070, 'semora': 28071, 'thousandth': 28072, 'bopping': 28073, '😎🎶': 28074, 'cavalier': 28075, 'groundcrew': 28076, 'paroxysm': 28077, 'me☺️': 28078, 'discotheque': 28079, 'plectrum': 28080, 'hailstone': 28081, 'confectionery': 28082, 'downpour': 28083, 'timbers': 28084, '“dumping': 28085, 'area”': 28086, 'olds': 28087, 'modernized': 28088, '50frs': 28089, 'hormone': 28090, 'kirstin': 28091, 'finis': 28092, 'inr10k': 28093, 'flexibleness': 28094, 'southbridge': 28095, 'ect': 28096, 'faqs': 28097, 'riann': 28098, 'necropsy': 28099, 'conjunction': 28100, '😩not': 28101, 'e100': 28102, 'ado': 28103, 'odo': 28104, 'spud': 28105, 'dkm': 28106, 'marita': 28107, 'césar': 28108, 'coleman': 28109, 'paygrade': 28110, 'unasked': 28111, 'veneration': 28112, 'sw9': 28113, '1215am': 28114, 'pembroke': 28115, 'initiatives': 28116, '2qfy17': 28117, '🎄🎄🎁': 28118, 'regress': 28119, 'rending': 28120, '1230': 28121, '3484': 28122, 'polynesian': 28123, 'reconcile': 28124, 'bs2': 28125, 'expeditious': 28126, 'elsha': 28127, 'jimi': 28128, 'seclusion': 28129, 'tydfil': 28130, 'kiari': 28131, 'b13': 28132, 'centrism': 28133, 'divulge': 28134, 'rm64': 28135, 'middlebrook': 28136, 'misusing': 28137, 'glenburn': 28138, 'selflessness': 28139, 'orr': 28140, 'vtec': 28141, 'repaid': 28142, 'strugglin': 28143, '4pk': 28144, 'cinnabon': 28145, 'lizzerella': 28146, 'campbell': 28147, 'reasonably': 28148, 'hokum': 28149, 'racially': 28150, 'bbccs': 28151, 'apostrophe': 28152, 'bose': 28153, 'stawp': 28154, '☺☺': 28155, 'stonewall': 28156, '120gb': 28157, 'toughen': 28158, 'conexion': 28159, 'irreplaceable': 28160, '28min': 28161, '11min': 28162, 'viciously': 28163, 'counsumer': 28164, 'pankaj': 28165, 'volute': 28166, 'rebrand': 28167, 'nlt': 28168, 'shit😂': 28169, 'yoghourt': 28170, 'lazarus': 28171, 'portfolio': 28172, 'robinhood': 28173, 'falae': 28174, 'dispatches': 28175, 'reworked': 28176, 'tribe': 28177, 'neverending': 28178, 'nodel': 28179, 'niek': 28180, 'spurs': 28181, '725': 28182, '3180': 28183, '683': 28184, 'advertisements”': 28185, '400mbps': 28186, '29mbps': 28187, 'humanly': 28188, 'findings': 28189, 'again”in': 28190, '“anywhere”': 28191, 'middle’': 28192, 'merona': 28193, 'mossimo': 28194, 'xhilaration': 28195, 'plying': 28196, 'mqm': 28197, 'peteharman': 28198, 'adjectives': 28199, 'overdone': 28200, 'futilely': 28201, 'ceding': 28202, 'bailouts': 28203, 'unemployment': 28204, 'crimes': 28205, 'freal': 28206, 'readymade': 28207, 'activisions': 28208, 'nois': 28209, '“white': 28210, 'christmas”': 28211, 'aslam': 28212, 'torerro': 28213, '‘well': 28214, 'prompted’': 28215, 'organising': 28216, '🍗🍜🍞🍰🍪': 28217, 'lames': 28218, 'a322': 28219, 'edb': 28220, 'elimination': 28221, 'b55': 28222, 'tanked': 28223, '242': 28224, 'lasse': 28225, 'appraiser': 28226, '639': 28227, 'peering': 28228, 'ruislip': 28229, '😡🤢': 28230, 'cjtikk': 28231, 'armageddon': 28232, 'heh': 28233, 'bees': 28234, 'ayou': 28235, 'refunds👍🏻': 28236, 'lab': 28237, '😫👩🏽\\u200d🎓': 28238, 'expresspay': 28239, '4870': 28240, '13p': 28241, 'bridgwater': 28242, 'playerbase': 28243, 'retrying': 28244, 'hecks': 28245, 'wallahi': 28246, 'recrudesce': 28247, 'befriended': 28248, 'christim': 28249, 'adris': 28250, '…using': 28251, 'viber': 28252, '1a94': 28253, 'maltreatment': 28254, 'straining': 28255, 'cearon': 28256, 'lastrts': 28257, 'wetting': 28258, 'serios': 28259, 'kondhwa': 28260, '‘no’': 28261, 'appetising': 28262, 'gunter': 28263, 'sushanta': 28264, 'softener': 28265, 'jojo': 28266, '44am': 28267, 'amazons': 28268, 'kacye': 28269, 'mbok': 28270, '🙄😫': 28271, 'resinstated': 28272, '35mins': 28273, '🚖': 28274, 'conceivable': 28275, '☎': 28276, 'say’': 28277, '95gb': 28278, 'utensils': 28279, '🦃👍🏽': 28280, 'dyad': 28281, 'mindflayer': 28282, 'gtbank': 28283, 'uba': 28284, 'antecedency': 28285, 'tk421': 28286, 'rebel': 28287, 'endor': 28288, 'vapes': 28289, 'supposition': 28290, 'porsha': 28291, 'sujay': 28292, 'carey': 28293, 'greaseball': 28294, '❓': 28295, 'imrpove': 28296, 'ryanmitchener': 28297, 'q515m9': 28298, 'yaslinv': 28299, 'sev': 28300, 'zulkarnain': 28301, 'efficacy': 28302, 'ri8': 28303, '8500rs': 28304, 'compensating': 28305, 'jewel': 28306, 'earll': 28307, '😕😕😕😕😕😕😕😕😕😕': 28308, 'misguided': 28309, '99rs': 28310, 'rntl': 28311, '“sometimes': 28312, 'freezes”': 28313, 'temps': 28314, 'audition': 28315, '50mbps': 28316, 'unpurchased': 28317, 'ba006': 28318, 'bengal': 28319, 'titans': 28320, 'mollycoddle': 28321, '45minutes': 28322, 'gideon': 28323, 'refueling': 28324, 'wheelie': 28325, 'costless': 28326, 'reaosn': 28327, 'reconfirm': 28328, 'swinging': 28329, 'dieing': 28330, '4032': 28331, 'monroeville': 28332, 'gnr': 28333, 'hogan': 28334, 'screengrab': 28335, '️”': 28336, 'gentlemen': 28337, '542': 28338, 'mtchee': 28339, 'hunted': 28340, 'elgin': 28341, 'disrepair': 28342, 'racket': 28343, 'ready2visit': 28344, 'putrescence': 28345, 'rocksmith': 28346, 'stuttered': 28347, 'condensation': 28348, 'obsurd': 28349, 'sexism': 28350, 'enthusiastic': 28351, 'youd': 28352, 'museum': 28353, 'uncertainties': 28354, 'dieting': 28355, 'elidgable': 28356, 'fixit': 28357, 'peckish': 28358, 'quicks': 28359, 'adviser': 28360, 'lxxiv': 28361, 'sculpt': 28362, 'vada': 28363, 'pav': 28364, 'behaves': 28365, 'stochasticity': 28366, 'olmsted': 28367, 'cappuccino': 28368, 'environmentally': 28369, 'bernio': 28370, 'redeposited': 28371, '2130': 28372, 'livered': 28373, 'denon': 28374, 'ora': 28375, 'loaners': 28376, 'clutches': 28377, 'teehee': 28378, 'caitlyn': 28379, 'dl163': 28380, 'arab': 28381, 'mcgoodness': 28382, 'backlogged': 28383, 'pts': 28384, 'kilt': 28385, 'fairport': 28386, 'psplus': 28387, 'pawleys': 28388, 'nmc': 28389, 'unfortuantely': 28390, 'unbale': 28391, 'laquinda': 28392, 'future👍': 28393, 'checkmark': 28394, 'filton': 28395, 'nervus': 28396, '“waive': 28397, 'online”': 28398, 'francium': 28399, 'aios': 28400, 'ep2unn': 28401, '716': 28402, '1752': 28403, 'contradicting': 28404, 'cary': 28405, 'midget': 28406, 'annd': 28407, 'karnataka': 28408, 'beggars': 28409, '1mb': 28410, '🤦🏻\\u200d♀️😩': 28411, '1418': 28412, 'darbens': 28413, 'sunningdale': 28414, 'databe': 28415, 'embodied': 28416, '509': 28417, 'wecome': 28418, 'dreaming': 28419, 'brecci': 28420, 'callertune': 28421, 'donot': 28422, 'breastmilk': 28423, 'shahul': 28424, 'pmtcvd': 28425, 'wnyrxd': 28426, 'believability': 28427, 'potus': 28428, 'grandfather': 28429, 'werent': 28430, 'reassessed': 28431, 'fisherman’': 28432, 'hjq7jg': 28433, '006': 28434, 'pissin': 28435, 'bevel': 28436, 'arvind': 28437, 'childish': 28438, 'tempers': 28439, 'flaring': 28440, 'replcmnt': 28441, '🍞': 28442, 'whitepaper': 28443, 'vl': 28444, 'noncommercial': 28445, 'aiyo': 28446, 'dragonville': 28447, 'favored': 28448, '30yrs': 28449, '40l': 28450, 'comission': 28451, 'miror': 28452, 'ajit': 28453, 'pai': 28454, 'thing…': 28455, 'bartram': 28456, 'celebratory': 28457, 'lincolnshire': 28458, 'clacking': 28459, '1232': 28460, 'ownself': 28461, 'sensibly': 28462, '“homework”': 28463, 'you😨': 28464, 'fudge': 28465, 'sundae': 28466, 'taxed': 28467, 'stipulation': 28468, '1351': 28469, '“unlimited”': 28470, 'scp': 28471, 'slb': 28472, 'aarti': 28473, 'bil': 28474, 'sse001': 28475, 'cse001': 28476, 'strategic': 28477, 'pierpont': 28478, 'nationalise': 28479, 'payer': 28480, 'shittiness': 28481, 'reciprocally': 28482, 'orin': 28483, 'ginna': 28484, 'itemization': 28485, 'dementedly': 28486, 'strick': 28487, 'prioritised': 28488, 'lazier': 28489, 'robins': 28490, '☹️☹️☹️': 28491, 'strawbs': 28492, 'insatiable': 28493, 'whiplash': 28494, 'ba1595': 28495, 'unwatched': 28496, 'founders’': 28497, 'your\\u200b': 28498, 'reconstruct': 28499, '1652': 28500, 'aubry': 28501, 'relists': 28502, 'footspace': 28503, 'bithday': 28504, 'yaya': 28505, 'aaliyah’': 28506, 'shit😤': 28507, 'prostitutes': 28508, '🤔🤔🤔wtf': 28509, 'collectibles': 28510, 'glain': 28511, '😡thanks': 28512, 'fingerling': 28513, 'denials': 28514, 'unambiguous': 28515, 'midori': 28516, 'petrified': 28517, '9yr': 28518, 'k80': 28519, 'autodesk': 28520, 'inventor': 28521, 'andrej': 28522, 'mive': 28523, 'zkk1uc': 28524, 'lonniewoods': 28525, 'eloborate': 28526, 'purch': 28527, 'omen': 28528, 'formulate': 28529, 'subscriptn': 28530, 'stationed': 28531, '👨🏻': 28532, 'facilitated': 28533, '231st': 28534, 'gherkins': 28535, '1832': 28536, 'lob': 28537, '😄✈️': 28538, 'frau': 28539, 'me💸💸': 28540, 'objects': 28541, '✌🏾✌🏾✌🏾': 28542, 'incapacitated': 28543, 'expriance': 28544, 'totly': 28545, 'draughty': 28546, '1299': 28547, '30f': 28548, 'temperament': 28549, 'delt': 28550, '5kbps': 28551, 'betw': 28552, 'shave': 28553, '🕘🍔🥓😤': 28554, 'pixar': 28555, '💀❤️✈️': 28556, 'roamed': 28557, 'afterdriver': 28558, 'aa2189': 28559, 'vellication': 28560, 'stranger’': 28561, 'withe': 28562, 'screencast': 28563, 'osmín': 28564, 'propertieswithin': 28565, 'intermediary': 28566, 'sudor': 28567, 'aa5358': 28568, 'cumbias': 28569, 'sanika': 28570, '“striking': 28571, 'out”': 28572, 'iver': 28573, 'artists’': 28574, 'ponds': 28575, 'lakme': 28576, 'colossus': 28577, 'appreciatr': 28578, '0843': 28579, 'mgkl2ll': 28580, '15n202': 28581, 'recurred': 28582, 'appliance': 28583, 'reslutn': 28584, 'sevrl': 28585, 'bounteous': 28586, 'mssgs': 28587, 'cheri': 28588, 'wn61': 28589, 'uha': 28590, 'sunsets': 28591, '1bar': 28592, '“meet': 28593, 'minutes”': 28594, 'tammie': 28595, 'lacpa': 28596, '👍🏻🖕🏻': 28597, 'conversation”': 28598, '🙉': 28599, 'unsold': 28600, 'candace': 28601, '“chase': 28602, 'sun”': 28603, 'geg': 28604, 'disciplinary': 28605, '😎☀': 28606, 'forgoe': 28607, 'wainwright': 28608, 'guy’': 28609, 'lololol': 28610, 'timers': 28611, 'spotlights': 28612, '“chicken': 28613, 'sub”': 28614, 'waisted': 28615, 'eugh': 28616, 'esmeralda': 28617, 'clank': 28618, 'internetonly': 28619, 'bailey': 28620, 'messagetoday': 28621, 'malarmimng': 28622, 'hard…but': 28623, 'you🙂': 28624, 'pubg': 28625, 'sheeran': 28626, 'karine': 28627, '“black': 28628, 'friday”': 28629, 'sista': 28630, 'violently': 28631, 'tomrrw': 28632, 'jed': 28633, 'roethlisberger': 28634, 'chanels': 28635, 'contingence': 28636, 'charlotsville': 28637, 'víctor': 28638, 'fadi': 28639, '😃😃😃': 28640, 'ine': 28641, 'micheldever': 28642, '₹3': 28643, 'transmitter': 28644, 'cube': 28645, '145': 28646, 'punitive': 28647, 'incentivizes': 28648, 'auggeat': 28649, 'dispatcher': 28650, 'maffia': 28651, 'magnetic': 28652, '0739': 28653, 'peppermint': 28654, 'eudaemonia': 28655, 'tormented': 28656, 'plight': 28657, 'yoy': 28658, 'customre': 28659, 'mony': 28660, 'amrata': 28661, '“unexpectedly': 28662, 'use”': 28663, 'kellye': 28664, '7weeks': 28665, 'wizardry': 28666, 'implications': 28667, '“fixed”': 28668, 'ka51c8909': 28669, 'instinct': 28670, 'contoller': 28671, 'mutiple': 28672, 'applewatch': 28673, 'everysize': 28674, 'demarco': 28675, 'bulverde': 28676, 'gilberto': 28677, 'uv': 28678, 'astrid': 28679, 'weenie': 28680, 'shelita': 28681, 'newry': 28682, 'cyder': 28683, 'southwestair': 28684, 'interenet': 28685, 'overcome': 28686, 't2101': 28687, 't0619': 28688, 'paano': 28689, 'makakuha': 28690, 'nito': 28691, 'egent': 28692, 'nest': 28693, '0828': 28694, 'tile': 28695, 'growling': 28696, 'upswewonthelp': 28697, 'upshelp': 28698, 'enamour': 28699, 'cya': 28700, 'ives': 28701, 'uganda': 28702, 'sparkler': 28703, 'frins': 28704, 'grape': 28705, 'pckged': 28706, 'fleck': 28707, 'hunters': 28708, 'corrective': 28709, 'logistic': 28710, 'soar': 28711, 'momentous': 28712, '☔️': 28713, 'socal': 28714, 'incorporated': 28715, 'stoplight': 28716, 'silvia': 28717, 'bogotá': 28718, 'ether': 28719, 'mostly😂': 28720, '⚾️⚾️⚾️': 28721, 'walber': 28722, 'uninformed': 28723, 'roomie': 28724, 'accomodations': 28725, '❤️❤️❤️❤️': 28726, 'mudcat': 28727, 'joh': 28728, 'raunds': 28729, 'rlly': 28730, 'card🤦🏾\\u200d♀️': 28731, 'spooktacular': 28732, 'porth': 28733, 'hostes': 28734, 'ahit': 28735, 'lucci': 28736, 'preflight': 28737, 'scaled': 28738, 'psnetwork': 28739, 'alrd': 28740, 'whys': 28741, 'aa4332': 28742, '737max': 28743, 'redskins': 28744, 'boxers': 28745, 'airflow': 28746, '🐶❤️': 28747, 'gathering': 28748, 'issa': 28749, 'maj': 28750, 'african': 28751, 'divides': 28752, 'influencing': 28753, 'bragging': 28754, '344': 28755, 'peterngari': 28756, 'denton': 28757, '2576': 28758, 'shepton': 28759, 'mallet': 28760, 'carom': 28761, 'skyrocketed': 28762, 'themn': 28763, 'jalipenos': 28764, 'khatra': 28765, 'mukutmonipur': 28766, 'oii': 28767, 'gatecrashing': 28768, 'tkk28z': 28769, 'ranjithamalar': 28770, 'lingam': 28771, 'handphone': 28772, 'overthrow': 28773, 'doyen': 28774, 'hkb3ze': 28775, 'ba429': 28776, 'handluggage': 28777, 'stolen😡': 28778, '🤦🏽\\u200d♀️🤦🏽\\u200d♀️🤦🏽\\u200d♀️🤦🏽\\u200d♀️🤦🏽\\u200d♀️': 28779, 'overlaps': 28780, '2v94': 28781, 'pendleton': 28782, 'sunnyside': 28783, 'symone': 28784, 'defacto': 28785, 'compansation': 28786, 'customercentic': 28787, 'somone': 28788, '“trouble': 28789, 'connecting”': 28790, 'channing': 28791, 'broke😭': 28792, 'brk': 28793, 'workaholics': 28794, 'couplet': 28795, '😳🔥': 28796, 'dumbasses': 28797, 'farted': 28798, '😷👎🏿': 28799, 'anymore…': 28800, 'bombastic': 28801, 'w33d': 28802, 'bailiwick': 28803, 'legged': 28804, '🐶☺️': 28805, 'vandwich': 28806, 'hairdryer': 28807, '😙😙': 28808, 'jenah': 28809, 'twitterrific': 28810, '2h0z6': 28811, 'leyla': 28812, 'techno': 28813, 'p5': 28814, 'brookwood': 28815, 'frijj': 28816, 'haraam': 28817, 'deez': 28818, 'deviates': 28819, 'iduh': 28820, 'telecomm': 28821, 'po16': 28822, '7tj': 28823, 'illuminating': 28824, 'trveling': 28825, 'chandigarh': 28826, 'narnoul': 28827, 'unv': 28828, 'dyc': 28829, 'nyks': 28830, 'persònal': 28831, '😢😭😔': 28832, 'crib': 28833, 'bmw': 28834, '🖕🏻🖕🏻🤦🏻\\u200d♂️': 28835, 'razors': 28836, 'hispanic': 28837, 'robbing': 28838, '“business': 28839, 'giraffe': 28840, 'allegro': 28841, '💯🤦🏾\\u200d♂️': 28842, 'overshadowed': 28843, 'kenan': 28844, '☰': 28845, '20mbps': 28846, 'demean': 28847, '₹75': 28848, 'unwarranted': 28849, 'entity': 28850, 'sp00ky': 28851, 'thanks🙂': 28852, 'focalize': 28853, 'nawala': 28854, 'ung': 28855, 'kilig': 28856, '😢it': 28857, 'plains': 28858, '1of3': 28859, 'pester': 28860, 'primetv': 28861, 'bea': 28862, '“have': 28863, 'cables”': 28864, 'trademarked': 28865, 'copyrighted': 28866, 'ion': 28867, '‘safe': 28868, 'place’': 28869, 'midriff': 28870, 'meleagris': 28871, 'gallopavo': 28872, 'isrc': 28873, 'qzanl': 28874, '½': 28875, 'racquel': 28876, 'attampetd': 28877, 'lubbock': 28878, 'lows': 28879, 'a4': 28880, 'demonstrates': 28881, 'articled': 28882, 'cadet': 28883, 'addon': 28884, 'flippity': 28885, 'floppity': 28886, 'sculpture': 28887, 'techincal': 28888, 'scarily': 28889, 'dfntly': 28890, 'enugu': 28891, 'biggie': 28892, '🙌🏾🙌🏾🙌🏾': 28893, 'quiets': 28894, 'propagation': 28895, '🙌🏽😍': 28896, '200lb': 28897, '30sec': 28898, 'aa1458': 28899, 'aa1034': 28900, 'pranush': 28901, 'united’': 28902, '8yo': 28903, 'kindergartener': 28904, '1706': 28905, 'tricksters': 28906, '2606': 28907, 'zidny': 28908, 'midvile': 28909, 'rewatch': 28910, 'implosion': 28911, '😭😡': 28912, 'dings': 28913, '1272': 28914, 'alley': 28915, 'pablito': 28916, '’day': 28917, 'philanthropic': 28918, 'bishopsgate': 28919, 'extrorting': 28920, 'cashless': 28921, 'wankers': 28922, 'kida': 28923, 'cuscare': 28924, 'sioux': 28925, 'pizza’': 28926, 'inflicted': 28927, 'resetted': 28928, 'descriptor': 28929, 'resuming': 28930, 'safus': 28931, 'f17': 28932, 'hain': 28933, 'canadians': 28934, 'estas': 28935, 'tenk': 28936, '1400paperweight': 28937, 'penalised': 28938, 'massager': 28939, 'omniserve': 28940, 'margarets': 28941, 'beto': 28942, 'irl': 28943, 'manged': 28944, 'disconcerted': 28945, 'haizal': 28946, 'ahahahhaagahha': 28947, 'merging': 28948, '😬🙁': 28949, '216': 28950, '349': 28951, 'oxymoron': 28952, 'bne': 28953, 'doorbells': 28954, 'snoozing': 28955, 'handeling': 28956, 'rabbet': 28957, '😊😂': 28958, 'contemplate': 28959, 'collateral': 28960, 'easements': 28961, 'perturbed': 28962, 'fulton': 28963, 'powershell': 28964, 'cmdlet': 28965, 'ahole': 28966, 'socialmedia': 28967, 'banding': 28968, '‘il': 28969, 'redelivered’': 28970, 'briggate': 28971, 'kinks': 28972, 'alexl': 28973, '👍🥕': 28974, 'mcdon': 28975, 'attaches': 28976, 'aa4276': 28977, '0625': 28978, 'thd': 28979, 'lgtv': 28980, 'offerred': 28981, 'reapplied': 28982, 'sceen': 28983, 'multitasking': 28984, 'bauh': 28985, 'numbing': 28986, 'lucious': 28987, 'executiveoffice': 28988, 'dtr': 28989, 'twisting': 28990, 'dimmer': 28991, 'originative': 28992, 'sidebar': 28993, 'hours😂': 28994, 'too😂': 28995, 'peterstjohelli': 28996, 'currentness': 28997, 'harshit': 28998, '0929': 28999, 'haversack': 29000, 'cxld': 29001, 'taser': 29002, 'it’snot': 29003, 'reccomended': 29004, 'foreget': 29005, 'sonar': 29006, 'xcom': 29007, 'modbuddy': 29008, 'cockblocking': 29009, 'iya': 29010, 'biro': 29011, 'pens': 29012, 'diolch': 29013, 'femi': 29014, 'seafaring': 29015, '💔😞': 29016, 'securities': 29017, '🔎': 29018, '“azure': 29019, 'cosmosdb”': 29020, 'yielding': 29021, 'ytd': 29022, 'huzzah': 29023, 'ongata': 29024, 'rongai': 29025, 'ngong': 29026, 'kerarapon': 29027, 'adhered': 29028, 'archaic': 29029, 'darkens': 29030, '🌽': 29031, 'britons': 29032, 'i11': 29033, 'congressman': 29034, 'menues': 29035, 'depose': 29036, '😒😢': 29037, 'riverwood': 29038, 'workin': 29039, 'greasy': 29040, 'methodology': 29041, '776': 29042, 'ceb': 29043, '💅🏼💁🏻\\u200d♂️': 29044, '😒😔': 29045, '👀👀👀': 29046, 'jase': 29047, 'boby': 29048, 'jatinder': 29049, '“approving”': 29050, 'alishia': 29051, 'miestrone': 29052, 'hrm': 29053, 'cocksure': 29054, 'luminousness': 29055, '‘jaffa': 29056, 'spheres’': 29057, 'naps': 29058, 'restitute': 29059, 'tn11v2784': 29060, 'see”': 29061, 'scarier': 29062, 'prachi': 29063, 'kshant': 29064, 'enq': 29065, 'unforgivable': 29066, 'knocker': 29067, 'knowingness': 29068, 'haiti': 29069, 'rayburn': 29070, '27am': 29071, 'nagas': 29072, 'axle': 29073, 'pivotally': 29074, 'transversely': 29075, 'spaced': 29076, 'steerable': 29077, 'spindle': 29078, 'assemblies': 29079, 'tech’': 29080, '🙄😂😂': 29081, 'misteriously': 29082, 'averts': 29083, 'cheyeanne': 29084, 'promoters': 29085, 'labal': 29086, 'brigitte': 29087, 'cooled': 29088, 'iesz2m': 29089, 'seed': 29090, 'surviving': 29091, '“jio': 29092, 'fi”': 29093, '🙏🙏': 29094, 'yoruba': 29095, 'wldnt': 29096, 'chases': 29097, 'cherie': 29098, 'lyla': 29099, 'doo': 29100, 'humming': 29101, 'harkat': 29102, 'ansar': 29103, 'ba0217': 29104, 'bt399wu': 29105, 'postscript': 29106, 'smartphones': 29107, 'frederico': 29108, 'litchfield': 29109, 'carrousel': 29110, 'distilled': 29111, '1545': 29112, 'shuttling': 29113, 'posse': 29114, 'ivory': 29115, 'pursual': 29116, 'doritos': 29117, 'locos': 29118, 'royalty': 29119, 'k2so': 29120, 'feeder': 29121, 'getters': 29122, 'thew': 29123, 'sappire': 29124, 'hillingdon': 29125, 'statuses': 29126, 'ariyana': 29127, 'parrots': 29128, 'associating': 29129, 'combusted': 29130, 'slw': 29131, 'cxr': 29132, 'sgn': 29133, '🎄😁🎁': 29134, 'amobarbital': 29135, 'kidcraft': 29136, 'ashes': 29137, 'umteenth': 29138, 'clangor': 29139, 'nitish': 29140, '‘’ll': 29141, 'champagne’': 29142, '‘anything': 29143, 'sir’': 29144, '‘oh': 29145, 'received\\u200b': 29146, 'jeph': 29147, 'unnoticed': 29148, 'assesment': 29149, '“charles”': 29150, 'campkinrd': 29151, 'floaters': 29152, 'humiliation': 29153, 'replacemt': 29154, 'ixm': 29155, 'vac': 29156, 'fufufufufufuufufu0': 29157, 'rebekah': 29158, 'whelp': 29159, 'torpoint': 29160, 'applicants': 29161, 'outisde': 29162, 'customerservice': 29163, 'rammed🤦\\u200d♂️': 29164, 'tapingo': 29165, 'sahra': 29166, 'narin': 29167, 'rdgs': 29168, 'moncton': 29169, 'sycophant': 29170, 'wriggling': 29171, 'maggot': 29172, 'piccolo': 29173, 'phewf': 29174, 'gothu': 29175, 'noght': 29176, '😂😂😂😅😅': 29177, 'beantown': 29178, 'absymal': 29179, 'skipper': 29180, '445': 29181, 'paye': 29182, '84gb': 29183, 'maire': 29184, 'temptationtion': 29185, '😹😹': 29186, 'marky': 29187, 'prestwich': 29188, '201': 29189, 'phillips': 29190, 'awefull': 29191, 'supervise': 29192, 'exemplary': 29193, 'solemnity': 29194, 'carissa': 29195, 'carryon’': 29196, 'escallations': 29197, '1440p': 29198, 'dissapinting': 29199, 'emial': 29200, 'slicker': 29201, 'hings': 29202, 'iy': 29203, 'pish': 29204, 'hulutv': 29205, '😩🆘’': 29206, 'ugh😩': 29207, 'keilee': 29208, 'terribleness': 29209, '👿📞👿': 29210, 'beignets': 29211, 'sirena': 29212, 'barstewards': 29213, 'hhoollee': 29214, 'abs': 29215, 'initialise': 29216, '💯👏🏻👌🏻🙌🏻': 29217, '😳😠': 29218, '😭😭😭😭😠😳😭😭😭😠': 29219, 'yoseph': 29220, 'bbm': 29221, 'cephalalgia': 29222, 'all’': 29223, '😭😩😭': 29224, 'day😜': 29225, '“up': 29226, 'to”': 29227, '43khj': 29228, '44kh': 29229, 'buckingham': 29230, 'listening😂’': 29231, 'cailey': 29232, 'attempeted': 29233, 'hound': 29234, 'dissapointment': 29235, 'custmr': 29236, 'oli': 29237, '1795': 29238, 'sherlock': 29239, '4degits': 29240, 'though😢😢': 29241, 'contriteness': 29242, 'commodore': 29243, 'reebok': 29244, 'bool': 29245, 'rik': 29246, '410': 29247, 'imaginative': 29248, 'columbian': 29249, 'unplayful': 29250, 'hummus': 29251, 'gotham': 29252, 'alisia': 29253, 'deputation': 29254, 'rooting': 29255, '1527': 29256, 'transacti9n': 29257, 'galey': 29258, 'ordre': 29259, '2464': 29260, 'flavors': 29261, 'dietary': 29262, 'fre': 29263, 'californian': 29264, 'upstate': 29265, 'whisky': 29266, 'shabbiness': 29267, 'yxe': 29268, 'betterk': 29269, 'vernon': 29270, 'ruh': 29271, 'prg': 29272, 'ba262': 29273, 'dysphemistic': 29274, 'topeka': 29275, 'wanamaker': 29276, 'macvicar': 29277, 'imaged': 29278, 'abash': 29279, 'bpw': 29280, 'butts': 29281, '👎👎🏻👎🏼❌': 29282, 'skinnergate': 29283, 'hellish': 29284, '“and': 29285, 'to…': 29286, '‘error': 29287, 'request’': 29288, 'piloting': 29289, '😍👌': 29290, 'laure': 29291, 'stirling': 29292, 'stowmarket': 29293, '…to': 29294, 'heade': 29295, 'suzzee': 29296, 'alli': 29297, '•be': 29298, '•have': 29299, 'guam': 29300, 'colleage': 29301, 'kousj': 29302, 'atoz': 29303, 'furthest': 29304, 'selectively': 29305, 'kryss': 29306, 'sardine': 29307, 'corsage': 29308, 'goof': 29309, 'saving💵💰is': 29310, 'egerly': 29311, 'grovel': 29312, 'hexonet': 29313, 'millionaires': 29314, '🙄😒': 29315, 'juann': 29316, 'rrwards': 29317, 'awarenes': 29318, 'towson': 29319, 'treadwheel': 29320, 'ruled': 29321, 'dm’ing': 29322, 'elene': 29323, 'sage': 29324, 'earrings': 29325, 'basildon': 29326, 'williams': 29327, 'gladstone': 29328, '0015': 29329, '0545': 29330, '🇬🇧🇬🇧🇬🇧🇬🇧🇬🇧': 29331, 'dellcarespro': 29332, '“elite”': 29333, '‘ready': 29334, 'eat’': 29335, '😷🐛': 29336, 'eastbrook': 29337, 'gloucester': 29338, 'pigsty': 29339, '“nutritional': 29340, 'balance”': 29341, 'chucking': 29342, 'allergens': 29343, 'flanders': 29344, 'eggstremely': 29345, 'terese': 29346, 'robust': 29347, 'captive': 29348, 'portals': 29349, 'ambidextrous': 29350, 'dreamies': 29351, 'arroyo': 29352, '😂🤦🏾\\u200d♀️': 29353, 'parroting': 29354, 'miniplayer': 29355, 'tulog': 29356, 'ako': 29357, 'inflexibleness': 29358, '🙄👌🏻': 29359, 'grey’': 29360, 'aug20': 29361, 'congo': 29362, 'problemes': 29363, '😡😡😡and': 29364, 'trafficky': 29365, '503': 29366, 'bjs': 29367, 'actualy': 29368, 'camscanner': 29369, 'eqms': 29370, 'eqss': 29371, 'supervene': 29372, '261': 29373, '2004': 29374, 'every5secs': 29375, 'moly': 29376, 'watsonville': 29377, 'igbe': 29378, 'ikorodu': 29379, 'dominating': 29380, 'pheobe': 29381, 'jonner': 29382, 'delvin': 29383, 'wreaking': 29384, 'crummy': 29385, 'derogatory': 29386, 'spottily': 29387, 'pscc': 29388, 'continental': 29389, 'kitten': 29390, 'yd': 29391, 'uav': 29392, '6585': 29393, 'flashbacks': 29394, 'darnley': 29395, 'twister': 29396, 'tellurium': 29397, 'chucklehead': 29398, 'real😂': 29399, 'asus': 29400, 'telcos': 29401, 'hydroxide': 29402, '5608': 29403, 'poesy': 29404, '🔕': 29405, 'shrugged': 29406, 'cilary': 29407, 'office365': 29408, 'ndr': 29409, 'arses': 29410, 'noel': 29411, 'toner': 29412, '‘meal’': 29413, 'number😭': 29414, 'seaford': 29415, 'lunched': 29416, 'ksu': 29417, 'sprained': 29418, 'overview': 29419, '234kbs': 29420, '🚍🚍': 29421, 'ba217': 29422, 'krystal': 29423, 'piggy': 29424, 'itty': 29425, 'bitty': 29426, 'mordors': 29427, '😂”': 29428, 'wreathes': 29429, 'lemonae': 29430, 'amman': 29431, 'had…': 29432, 'teething': 29433, 'chewed': 29434, '“indestructible': 29435, 'leashes”': 29436, 'bloodrayne': 29437, 'fighters': 29438, 'neowave': 29439, 'bedhampton': 29440, 'siyam': 29441, 'instill': 29442, '3dys': 29443, 'joruney': 29444, 'knightdale': 29445, 'yorkshire': 29446, 'papaslam': 29447, '🦃': 29448, 'rpm': 29449, 'karaok': 29450, 'emily—hulu': 29451, 'inflation': 29452, 'wherin': 29453, '20mo': 29454, 'fancied': 29455, 'acrylic': 29456, 'jabber': 29457, 'disloyal': 29458, 'abhishek': 29459, 'conscious': 29460, 'callous': 29461, 'shpmnt': 29462, '1zx228y': 29463, 'rivers': 29464, 'relaunches': 29465, '—cache': 29466, 'support—': 29467, '0day': 29468, '10gig': 29469, 'rovi': 29470, 'ramachandran': 29471, 'tempest': 29472, 'ntando': 29473, 'kano': 29474, 'emeer': 29475, 'kurmawa': 29476, 'jennyrowe': 29477, 'crumpet': 29478, '❤️❤️❤️❤️❤️❤️❤️❤️❤️❤️❤️❤️❤️❤️❤️❤️❤️': 29479, 'chriselle': 29480, 'winnow': 29481, 'other’': 29482, 'zainab': 29483, '🤙🏾': 29484, 'egregious': 29485, 'tswift': 29486, 'postnord': 29487, 'denmark': 29488, 'twxt': 29489, '1742': 29490, '2219': 29491, 'dinnertime': 29492, 'friggin’': 29493, 'eurgh': 29494, 'hark': 29495, 'traction': 29496, 'dl4052': 29497, 'kerb': 29498, '👎👎👎👎': 29499, 'scre': 29500, 'gsme': 29501, 'gradation': 29502, 'inflatable': 29503, 'pussycats': 29504, 'sharday': 29505, 'overrunning': 29506, 'accede': 29507, 'tailgating': 29508, 'recklessly': 29509, 'geneva': 29510, 'flavours': 29511, '2114': 29512, 'interacted': 29513, 'thameslink': 29514, 'bedamn': 29515, 'winging': 29516, '👎🏽👎🏽👎🏽': 29517, '“error': 29518, '“wrong': 29519, '0516': 29520, '1907': 29521, '😆🤣': 29522, '😇💭': 29523, 'classified': 29524, 'banco': 29525, 'llibres': 29526, 'laith': 29527, 'pilus': 29528, 'donated': 29529, 'studies': 29530, 'contributing': 29531, 'servant': 29532, '☝🏻☝🏻☝🏻so': 29533, 'touché': 29534, '🙃😉': 29535, 'scalpers': 29536, 'tmz': 29537, 'days🙄🙄🙄': 29538, 'protagonist': 29539, 'sublime': 29540, 'to—it’': 29541, 'qb': 29542, 'heaving': 29543, 'reporters': 29544, '15day': 29545, 'gr8': 29546, 'rght': 29547, 'gale': 29548, 'blackball': 29549, 'brexit’': 29550, 'hawkins': 29551, 'tightened': 29552, 'pinched': 29553, 'unauthenticated': 29554, 'mammothmessiah': 29555, 'mangifera': 29556, 'pomegranates': 29557, '😨👎🏾': 29558, 'angolan': 29559, 'xperia': 29560, 'z5': 29561, 'weewee': 29562, 'civilised': 29563, 'authentically': 29564, 'pretzel': 29565, 'gamble': 29566, '🔓': 29567, 'chetan': 29568, 'viyas': 29569, 'carpark': 29570, '032': 29571, 'snafus': 29572, 'devision': 29573, 'compress': 29574, 'inexpensive': 29575, 'receptacle': 29576, 'modifications': 29577, 'cheeto': 29578, 'insistency': 29579, 'bootup': 29580, '0753': 29581, 'tutor': 29582, 'ilham': 29583, '00idr': 29584, 'koryann': 29585, 'thorium': 29586, 'abandonment': 29587, 'fratton': 29588, 'skeletons': 29589, 'gerie': 29590, 'unicodes': 29591, '5day': 29592, 'rosario': 29593, 'lyssa': 29594, 'warqaa': 29595, 'reword': 29596, '4x440ml': 29597, '10x440ml': 29598, 'handrail': 29599, '👍👍👍': 29600, 'curd': 29601, 'kabali': 29602, 'briyani': 29603, 'havana': 29604, 'imposs': 29605, 'greentree': 29606, '❤️💙💛💚': 29607, 'withough': 29608, 'ariport': 29609, 'maitnance': 29610, 'overdraw': 29611, '💯🙌🏻': 29612, 'emilynewman': 29613, 'bmth': 29614, 'souci': 29615, 'adversity': 29616, 'wrongfully': 29617, 'wnt': 29618, 'love”': 29619, 'tipoxio': 29620, 'excesive': 29621, '😴😴😴😴😴': 29622, 'agh': 29623, 'stymy': 29624, 'seville': 29625, 'dietetic': 29626, 'acsident': 29627, 'technological': 29628, 'graspable': 29629, 'truthful': 29630, 'bast': 29631, 'inconsistencies': 29632, 'xcrosscity': 29633, 'hwvr': 29634, 'scalable': 29635, 'storagekey': 29636, '❤️❤️🙄': 29637, 'bestie': 29638, 'helene': 29639, '🎅🏻🎄🎁': 29640, 'qualifiers': 29641, 'diabetic': 29642, 'dietorhueterin': 29643, 'jonnie': 29644, 'enumerate': 29645, 'credibleness': 29646, 'fullscreen': 29647, 'masters': 29648, 'lkr6ecp2g2': 29649, 'actualize': 29650, 'zeal': 29651, 'cg8nmy': 29652, 'technic': 29653, '‘non': 29654, 'functional’': 29655, 'haslemere': 29656, 'alledged': 29657, 'nbcs': 29658, '’em': 29659, 'delvered': 29660, 'nycers': 29661, 'cheeper': 29662, '😖😖😖': 29663, '3101': 29664, 'baseline': 29665, 'durango': 29666, 'honeymooners': 29667, 'thxs': 29668, 'custodian': 29669, 'capt': 29670, 'glade': 29671, 'yello': 29672, 'sichuan': 29673, 'abbreviated': 29674, 'singultus': 29675, 'cutomer': 29676, 'athirst': 29677, 'growl': 29678, 'aa182': 29679, '738': 29680, 'powerports': 29681, 'tonnes': 29682, 'unfathomable': 29683, 'survivors': 29684, 'huitre': 29685, 'resettled': 29686, 'amd64': 29687, 'x64': 29688, 'arr': 29689, 'harddrive': 29690, 'oluedebe': 29691, 'quantify': 29692, 'smartrecharge': 29693, 'sande': 29694, 'synchronise': 29695, 'realty': 29696, 'nokia6': 29697, 'it📱': 29698, 'douchebags': 29699, 'jabril': 29700, 'moreso': 29701, 'turnover': 29702, 'kinga': 29703, 'gtdzwb': 29704, 'yhm6qy': 29705, 'debrief': 29706, 'betterdelivery': 29707, 'shamefful': 29708, 'mica': 29709, 'colorise': 29710, 'coded': 29711, 'diagusted': 29712, 'sophyabates': 29713, 'shush': 29714, 'georgette': 29715, 'fritz': 29716, 's18': 29717, 's19': 29718, 'address…': 29719, 'me2u': 29720, 'compounded': 29721, 'efing': 29722, 'wamu': 29723, '11yr': 29724, 'herb': 29725, 'tasking': 29726, 'classmate': 29727, '💓our': 29728, 'saoirse': 29729, '👏to': 29730, 'offshore': 29731, 'sakes': 29732, 'readjng': 29733, 'aircraift': 29734, '😀👏👍': 29735, 'dsct': 29736, 'deathly': 29737, 'unsatiated': 29738, 'sissy': 29739, 'purulent': 29740, 'craigslist': 29741, 'upchuck': 29742, '£38': 29743, 'chitr': 29744, 'manpal': 29745, 'pliers': 29746, 'allowable': 29747, 'hahahhaa': 29748, 'uncouple': 29749, 'enliven': 29750, 'gems': 29751, 'butchery': 29752, 'tickled': 29753, '🤷🏼\\u200d♀️🍊⚾️': 29754, 'generosity': 29755, '🤳🏾': 29756, 'cfiy': 29757, 'housekeep': 29758, 'mcdelivery': 29759, 'ceasing': 29760, '“pointe': 29761, 'hoc”': 29762, 'constitutional': 29763, 'mullein': 29764, '“lol': 29765, 'informatics': 29766, 'haltere': 29767, 'resourcemoveprovidervalidationfailed': 29768, '0b3dd62d': 29769, '236a': 29770, '830d': 29771, 'chit': 29772, 'rollerboard': 29773, '14thoct': 29774, 'catalyst': 29775, 'carrol': 29776, 'prev': 29777, 'paidim': 29778, 'amberw': 29779, 'unessicary': 29780, 'charlieswag': 29781, 'ammount': 29782, '👌🏾': 29783, '❄⛄😂': 29784, '1010': 29785, 'azza': 29786, 'dnce': 29787, 'hex': 29788, 'relocation': 29789, '“blind': 29790, 'pilot”': 29791, 'hon’ble': 29792, 'life’': 29793, 'guttle': 29794, '10s': 29795, 'desireed': 29796, 'dalia': 29797, '🗽': 29798, 'manoj': 29799, 'buzzword': 29800, 'fortress': 29801, 'witcher': 29802, 'kyd': 29803, 'calenders': 29804, 'qts': 29805, 'jaya': 29806, 'lizzy': 29807, '’ed': 29808, 'payin': 29809, 'kingsmead': 29810, 'hyphen': 29811, 'haloween': 29812, 'exacting': 29813, 'versioning': 29814, 'kosta': 29815, 'revolutions': 29816, 'demostrated': 29817, 'blackmail': 29818, 'ebbw': 29819, 'vale': 29820, 'petersfield': 29821, 'fdldty': 29822, 'go—we': 29823, 'hounded': 29824, 'échos': 29825, 'betty': 29826, '2715': 29827, '318': 29828, '1928': 29829, 'egift': 29830, 'gameboy': 29831, '😭😔😠': 29832, 'latte': 29833, 'frosting': 29834, 'marshy': 29835, 'pokémon': 29836, 'legwork': 29837, 'vini': 29838, 'reclaimed': 29839, '“quickly”': 29840, 'nichola': 29841, 'senr': 29842, 'cuppa': 29843, 'encode': 29844, 'displayin': 29845, 'stormy': 29846, '46mins': 29847, 'assits': 29848, 'claygate': 29849, 'megabit': 29850, 'periods': 29851, 'atuba': 29852, 'oyo': 29853, 'week🙃🙂🙂': 29854, 'mccarran': 29855, 'slaps': 29856, 'protectors': 29857, '😩💔': 29858, 'curing': 29859, '🙌🏾🚀': 29860, '320’': 29861, 'mosque': 29862, 'sri': 29863, 'lanka': 29864, 'adhaar': 29865, 'becloud': 29866, 'weber': 29867, 'highwoods': 29868, 'varifocals': 29869, 'hurray': 29870, 'exempts': 29871, 'gouge': 29872, '110°': 29873, '100aud': 29874, 'diing': 29875, 'moths': 29876, 'waybto': 29877, 'trustfailure': 29878, '“your': 29879, '“deactivate”': 29880, 'chandra': 29881, '🍏ng': 29882, 'pro‼️': 29883, '🖥': 29884, 'reassuring': 29885, 'pressurised': 29886, 'chadic': 29887, 'kienan': 29888, 'ipswitch': 29889, 'copdock': 29890, 'unification': 29891, 'remaking': 29892, 'dems': 29893, '🍲🍞': 29894, 'demoralising': 29895, '30kbps': 29896, 'convalescence': 29897, 'hypertext': 29898, 'trance': 29899, 'playstations': 29900, 'fearnet': 29901, 'labored': 29902, 'interloper': 29903, 'staircase': 29904, 'playready': 29905, 'drm': 29906, 'widevine': 29907, 'jwt': 29908, '1408': 29909, 'predictably': 29910, 'jomari': 29911, '–thanks': 29912, 'supp': 29913, 'hous': 29914, 'alfonosm': 29915, 'cystic': 29916, 'fibrosis': 29917, 'ordere': 29918, 'unsalted': 29919, 'lightbulb': 29920, 'wingtip': 29921, 'timekeeper': 29922, 'guesses': 29923, 'atrial': 29924, 'fibrillation': 29925, 'unsympathetic': 29926, 'sterilised': 29927, 'rowdy': 29928, 'jewish': 29929, '“walking': 29930, 'locations”': 29931, 'horibly': 29932, 'hotstar': 29933, '😒😤': 29934, 'that´': 29935, 'ridgeland': 29936, '😢💩😫🤔😿💩💩💩': 29937, 'agreem': 29938, 'maral': 29939, 'karly': 29940, 'ba1484': 29941, '4b': 29942, 'sorrows': 29943, 'pertinent': 29944, 'poised': 29945, 'kendall': 29946, 'copyrights': 29947, 'ouat': 29948, 'davinder': 29949, 'jilleonm': 29950, '90mins': 29951, 'earls': 29952, 'northfields': 29953, 'donkey': 29954, 'excerption': 29955, 'sulking': 29956, 'distraction': 29957, 'technique': 29958, 'stuffd': 29959, '👏🏾👏🏾👏🏾👏🏾': 29960, 'funning': 29961, 'giggling': 29962, 'subpriction': 29963, 'ayrshire': 29964, 'blackhills': 29965, 'dakota': 29966, 'flatbed': 29967, 'flatbeds': 29968, '5bdays': 29969, 'e4': 29970, 'wll': 29971, 'sittingbourne': 29972, 'tribulations': 29973, 'pipes': 29974, 'rikita': 29975, 'recur': 29976, 'slug': 29977, 'tit': 29978, 'thm': 29979, '95min': 29980, 'etihad': 29981, '✈💺': 29982, '1753': 29983, 'clxxv': 29984, 'pymt': 29985, '582': 29986, 'kilmnarnock': 29987, '2l': 29988, 'culdesac': 29989, 'sentinel': 29990, 'gainesville': 29991, 'ruiru': 29992, 'kasen': 29993, 'iets': 29994, 'rife': 29995, 'achromatic': 29996, 'apron': 29997, 'jalgaon': 29998, 'bruise': 29999, 'picker': 30000, 'belle': 30001, 'boggles': 30002, 'rotich': 30003, '0703': 30004, '824': 30005, 'howd': 30006, 'hazim': 30007, 'moe’': 30008, 'pancheros': 30009, 'manger': 30010, 'engrave': 30011, '👀that': 30012, 'tintinnabulation': 30013, 'dormitory': 30014, 'abreast': 30015, 'slvd': 30016, 'l8': 30017, 'rae': 30018, 'delainey': 30019, 'portillo': 30020, 'proportionality': 30021, 'hungama': 30022, 'dosto': 30023, 'medion': 30024, 'marta': 30025, 'adobecrdaemon': 30026, 'elan': 30027, 'heinz': 30028, 'oxtail': 30029, 'floppy': 30030, 'mikhail': 30031, 'psp': 30032, 'radhe': 30033, 'ds76': 30034, 'mueang': 30035, 'antonia': 30036, 'bolingbroke': 30037, 'felipe': 30038, 'comics': 30039, 'nanny': 30040, 'aa6179': 30041, 'ztuvpa': 30042, 'haggayudbdudjghdnhdd': 30043, 'committees': 30044, 'cns': 30045, 'unt': 30046, 'socia': 30047, 'probing': 30048, 'gellan': 30049, 'cooling': 30050, 'business😤': 30051, 'enot': 30052, 'alb': 30053, 'laziest': 30054, 'hamster': 30055, 'abayomio': 30056, 'pamphlet': 30057, 'mastery': 30058, 'unruly': 30059, '🎅📺': 30060, 'unexplained': 30061, 'awaltham': 30062, '5minutes': 30063, 'pancras': 30064, '13meg': 30065, 'dreamed': 30066, 'kidos': 30067, 'bidding': 30068, 'bidder': 30069, 'overcompensate': 30070, 'delivererd': 30071, 'pushin': 30072, 'offer😡': 30073, 'naughtily': 30074, 'fcu': 30075, 'is！there': 30076, 'plesae': 30077, 'mikkel': 30078, 'imbecility': 30079, 'onsitewarranty': 30080, 'detritus': 30081, '3christmas': 30082, 'otley': 30083, 'chevin': 30084, 'question💍': 30085, 'year❤️🎄': 30086, 'ses': 30087, 'ngurah': 30088, 'rai': 30089, 'disappointed☹️☹️☹️☹️': 30090, 'gibbousness': 30091, 'micorsoft': 30092, 'chords': 30093, 'giffgaff': 30094, 'pers': 30095, 'unscrupulously': 30096, 'syst': 30097, 'marvi': 30098, 'crowds': 30099, 'accordance': 30100, 'alex’': 30101, 'alumni': 30102, 'hotel…': 30103, '“fix': 30104, 'dialer': 30105, 'keypad': 30106, 'grok': 30107, 'amobile': 30108, 'mticket': 30109, 'customised': 30110, '🧛🧟👻💀': 30111, 'punjabi': 30112, 'bagh': 30113, 'tahir': 30114, 'pr77s': 30115, 'zam': 30116, 'dl2603': 30117, 'backdated': 30118, 'resorts': 30119, '🤬😡😡😡': 30120, 'hoffs': 30121, 'cryptikreap': 30122, '🙃🙃🙃🙃🙃': 30123, 'mesgs': 30124, 'lpb': 30125, 'legimate': 30126, 'supporters': 30127, 'sudesh': 30128, '470kbps': 30129, 'unfixable': 30130, 'weathered': 30131, 'proposer': 30132, 'worcestershire': 30133, 'horseradish': 30134, 'dusk': 30135, 'cannt': 30136, 'doent': 30137, 'loggins': 30138, 'tic': 30139, 'cardless': 30140, 'pranay': 30141, '‘transaction': 30142, 'care’': 30143, '🙌🏼😂': 30144, 'aptitude': 30145, 'interdepartmental': 30146, 'catcher': 30147, 'pms': 30148, 'onerous': 30149, 'anatole': 30150, 'rusty': 30151, 'auk': 30152, 'zen': 30153, '262': 30154, '238': 30155, '940': 30156, '948': 30157, 'edamame': 30158, 'concise': 30159, '🖕🏾': 30160, 'hyphenate': 30161, 'cowboys': 30162, 'glum': 30163, 'gvn': 30164, 'stages': 30165, 'timebar': 30166, 'youu': 30167, '💯😁': 30168, 'stephenville': 30169, 'inhibit': 30170, 'evant': 30171, '27pm': 30172, 'drunkenly': 30173, '“lux': 30174, 'lyft”': 30175, '820g': 30176, 'hengstenberg': 30177, '680g': 30178, 'hopen': 30179, 'atif': 30180, 'tbis': 30181, '♿': 30182, 'unmanaged': 30183, 'strangle': 30184, 'days😡😡': 30185, 'yk': 30186, '🎅🏼🎄🎁💛': 30187, 'e105': 30188, 'e102': 30189, 'perked': 30190, 'sindo': 30191, 'mugendi': 30192, 'nyakwara': 30193, 'suba': 30194, '3200': 30195, 'avalon': 30196, '😍💯': 30197, 'n2k': 30198, 'signd': 30199, 'deoxyguanosine': 30200, 'completions': 30201, 'lozenge': 30202, '🎂✈️🎂': 30203, 'seo': 30204, '“safari': 30205, 'convinently': 30206, '1393': 30207, 'sourced': 30208, 'anush': 30209, 'discriminating': 30210, 'seniors': 30211, 'distraint': 30212, 'vs27': 30213, 'explode': 30214, 'car😕': 30215, 'fuck‼️': 30216, 'quat': 30217, 'greenhorn': 30218, 'apprenticeships': 30219, 'scaby': 30220, 'jpg': 30221, 'archetype': 30222, 'macair': 30223, 'pdw': 30224, 'charing': 30225, 'fpo': 30226, 'cettsin': 30227, '14min': 30228, 'stewardess': 30229, '“help': 30230, 'here”': 30231, '😂🤣': 30232, 'pensive': 30233, 'pods': 30234, 'paraphrase': 30235, '59th': 30236, 'inequality': 30237, 'anthem': 30238, 'rplying': 30239, 'christophe': 30240, 'larnaca': 30241, 'aa1038': 30242, 'nanus': 30243, '840': 30244, 'billionaire': 30245, 'lima': 30246, 'dtdc': 30247, 'miz': 30248, '105mb': 30249, 'vh1': 30250, 'spectrum🤦🏼\\u200d♀️': 30251, 'fruther': 30252, '❄🏂': 30253, 'london’': 30254, '🚲': 30255, 'g5aca9a2a': 30256, 'lem': 30257, 'jaxfl': 30258, '1pm2day': 30259, 'farmers': 30260, 'flurry': 30261, 'cobra': 30262, 'ibeg': 30263, 'transmitted': 30264, 'encryption': 30265, 'scrubs': 30266, 'stanway': 30267, '24hrdel': 30268, 'airasiasupport': 30269, 'ei0603': 30270, 'exculpate': 30271, '1916': 30272, '371': 30273, 'landlady': 30274, 'eyeballs': 30275, 'altoid': 30276, '💺😒': 30277, 'moira': 30278, 'dobbs': 30279, 'eticket': 30280, 'camelback': 30281, '💕😊': 30282, 'eeei': 30283, 'sw2': 30284, '1aw': 30285, 'pinging': 30286, 'dental': 30287, '1977': 30288, 'criously': 30289, '787': 30290, 'skim': 30291, '😍🤭': 30292, 'brenham': 30293, 'heathyre': 30294, 'transfered': 30295, '‘dm': 30296, 'anke': 30297, 'optional': 30298, 'anchit': 30299, '✈️😫': 30300, '😫✈️': 30301, 'uswd': 30302, 'lockups': 30303, '😍🙏😏🤙🏽': 30304, 'pressies': 30305, '884': 30306, 'portabello': 30307, 'shrimp': 30308, 'stringy': 30309, 'drea': 30310, 'vs12': 30311, '20yrs': 30312, 'cp1525nw': 30313, 'pur': 30314, 'aco': 30315, 'incommodious': 30316, 'caved': 30317, 'jumia': 30318, 'politically': 30319, 'balachandar': 30320, '🙏🙏🙏': 30321, 'fallible': 30322, 'apeshit': 30323, 'bryony': 30324, 'purples': 30325, 'marinan': 30326, 'region—our': 30327, 'raping': 30328, 'georgio': 30329, 'think🖕🏼': 30330, 'morphed': 30331, 'maverick': 30332, 'musicians': 30333, '£1149': 30334, 'moses': 30335, 'sipecialist': 30336, 'lyric': 30337, 'latched': 30338, 'colwyn': 30339, 'plave': 30340, 'fwiw': 30341, 'encoding': 30342, 'midlothian': 30343, 'portray': 30344, 'despoilment': 30345, 'milkybar': 30346, 'rurico': 30347, 'similarity': 30348, '20😒': 30349, 'everyday🙄': 30350, 'messedup': 30351, 'jww': 30352, 'kown': 30353, 'befofe': 30354, 'foreseeable': 30355, 'adverting': 30356, 'mineral': 30357, 'kids’': 30358, 'chomped': 30359, 'publica': 30360, 'teetotum': 30361, 'compositor': 30362, 'trtmnt': 30363, '🍩😃👌': 30364, 'leftovers': 30365, 'tiddlywinks': 30366, 'socialization': 30367, 'germantown': 30368, 'restauranteur': 30369, 'sitcom': 30370, 'reopens': 30371, 'ecu': 30372, 'articulation': 30373, 'farting': 30374, 'medallions': 30375, 'pagal': 30376, 'banane': 30377, 'shuru': 30378, 'kiya': 30379, 'hitesh': 30380, 'wink': 30381, 'inducement': 30382, 'lakshmi': 30383, 'weather’': 30384, 'agbole': 30385, 'ifo': 30386, 'h7': 30387, 'mam': 30388, 'pacifer': 30389, 'plowshare': 30390, 'blurry': 30391, 'planck': 30392, 'heats': 30393, 'multivalent': 30394, 'andwho': 30395, 'signifier': 30396, '116': 30397, '🍭': 30398, '🍬': 30399, 'influenced': 30400, 'accesories': 30401, 'claustrophobia': 30402, 'missions': 30403, 'ba2798': 30404, 'sibuk': 30405, 'awak': 30406, 'chelseamischek': 30407, 'puka': 30408, 'necklaces': 30409, 'wait—what’': 30410, 'uhh…': 30411, '3600': 30412, 'aesthetically': 30413, 'defectiveness': 30414, '1382': 30415, 'lihue': 30416, 'respiratory': 30417, '🗑🗑🗑': 30418, 'cresswell': 30419, 'boil': 30420, 'mostafa': 30421, 'readers': 30422, 'kindles': 30423, 'dlo438': 30424, 'decennium': 30425, 'wearables': 30426, 'pawel': 30427, 'sweetened': 30428, 'unsweetened': 30429, 'wouldnmy': 30430, 'describes': 30431, 'toster': 30432, 'aangel': 30433, 'destinatn': 30434, 'joelle': 30435, 'adrine': 30436, 'kaysey': 30437, 'liss': 30438, 'glorifying': 30439, '‘download’': 30440, '‘edit': 30441, '‘downloading': 30442, '1z2v7v': 30443, 'trailhead': 30444, 'salesforce1': 30445, 'andriod': 30446, 'msg2': 30447, 'tiro': 30448, 'fgs': 30449, '2142': 30450, '👎🏼👎🏼👎🏼': 30451, 'elmo': 30452, 'grouchland': 30453, '“definitely': 30454, 'laza': 30455, '🙋🏻💁🏻': 30456, 'comprehensive': 30457, '“sweet': 30458, 'tea”': 30459, 'notications': 30460, 'creatives': 30461, '🏖🏝☀️🌈': 30462, 'tai': 30463, 'hawai’': 30464, '9g04': 30465, 'mmbz': 30466, 'varan': 30467, 'trk': 30468, 'missent': 30469, 'contractors': 30470, 'yourmove': 30471, 'cntct': 30472, 'maryam': 30473, 'unwitting': 30474, 'supercilium': 30475, 'hawthorne': 30476, 'remais': 30477, 'smmfh': 30478, '70mins': 30479, 'rcn': 30480, 'transparentness': 30481, 'stewardship': 30482, 'cursing': 30483, '1701': 30484, 'phi': 30485, 'torpedo': 30486, '5mps': 30487, 'srvice': 30488, 'cme': 30489, 'posible': 30490, '08am': 30491, 'aggregate': 30492, 'casino': 30493, '3289': 30494, 'nadine': 30495, '“enjoy': 30496, 'music”': 30497, 'nuala': 30498, 'liners': 30499, 'evolving': 30500, 'alanis': 30501, 'akil': 30502, 'tangency': 30503, 'breeches': 30504, 'steroids': 30505, 'kami': 30506, 'responsable': 30507, 'sp2': 30508, 'shawty': 30509, '🌌': 30510, '❤️🧡💛💚💙💜🛫': 30511, 'redlands': 30512, 'exempted': 30513, 'tamebridgeparkway': 30514, 'espial': 30515, 'fulfulled': 30516, 'eh48': 30517, '😭💛': 30518, 'extremum': 30519, 'criminate': 30520, 'parkgate': 30521, 'kirby': 30522, 'breanne': 30523, 's9': 30524, 'snack…': 30525, 'prioritization': 30526, 'cailin': 30527, 'vestibules': 30528, 'initialization': 30529, 'jaclyn': 30530, 'portin': 30531, 'purposley': 30532, 'dafuq': 30533, 'shortcuts': 30534, 'f4': 30535, '💖😭☺️': 30536, 'phonecharger': 30537, 'dressings': 30538, 'mercedes': 30539, 'r350': 30540, 'herbal': 30541, 'teabags': 30542, '“suggestion': 30543, 'nauseam': 30544, 'rhetoric': 30545, 'connecti': 30546, 'infants': 30547, 'charleston…': 30548, 'outback': 30549, 'pinkberry': 30550, 'help😔😔😔😔😔😔😔😔😔😔😔😔😔': 30551, 'braking': 30552, 'accelerating': 30553, 'remakes': 30554, 'umbrella': 30555, 'hyper': 30556, 'jamo': 30557, 'pups': 30558, 'boarders': 30559, 'roughshod': 30560, 'chewable': 30561, 'grievances': 30562, 'cornchips': 30563, 'popchips': 30564, 'enactment': 30565, 'spry': 30566, 'universities': 30567, 'judgements': 30568, 'iris': 30569, 'shalee': 30570, 'biennial': 30571, 'shyt': 30572, 'xfiinity': 30573, 'outsourcing': 30574, 'adad': 30575, '“misrouted”': 30576, 'share”': 30577, 'kehinde': 30578, 'gigantic': 30579, 'warehouses': 30580, 'it😜': 30581, 'chemistry': 30582, 'chakrapani': 30583, 'g3': 30584, 'rgrding': 30585, 'mangalam': 30586, 'renews': 30587, '630am': 30588, 'garuantee': 30589, '£37': 30590, 'giveup': 30591, '12month': 30592, 'rooftops': 30593, '20x': 30594, 'aa3807': 30595, '3807': 30596, 'tvl': 30597, 'reigned': 30598, 'squeaking': 30599, 'tame': 30600, 'postcodes': 30601, 'sensitiveness': 30602, 'dehumanize': 30603, 'disceptation': 30604, 'picnic': 30605, 'kushtiya': 30606, '🙄😖': 30607, '5f': 30608, 'kingsx': 30609, 'affront': 30610, 'promice': 30611, 'stef': 30612, 'dunce': 30613, 'blistering': 30614, '😶😂': 30615, 'compassionate': 30616, 'outburst': 30617, 'twitching': 30618, 'amending': 30619, '2we': 30620, 'uris': 30621, 'kori': 30622, 'galling': 30623, 'bernardino': 30624, 'linksys': 30625, 'kip': 30626, 'quarters': 30627, '“set': 30628, 'reminder”': 30629, '🍓': 30630, 'pavlova': 30631, 'kazi': 30632, '1687': 30633, 'sweatbox': 30634, 'draws': 30635, 'ade': 30636, 'rein': 30637, 'nestle': 30638, 'waters': 30639, 'poland': 30640, 'doormat': 30641, 'beanbag': 30642, 'boking': 30643, 'sreshtha': 30644, 'offerd': 30645, '2price': 30646, '4flight': 30647, 'ergonomic': 30648, 'unresponsiveness': 30649, 'curve': 30650, 'line—': 30651, 'hattrell': 30652, 'slimy🤢': 30653, 'obstructing': 30654, 'icees': 30655, 'ba009': 30656, 'vickie': 30657, 'malty': 30658, 'citrus': 30659, 'zing': 30660, 'aftertaste': 30661, 'service🤤🤤🤤🤤': 30662, '“two': 30663, 'shipping”': 30664, 'twosome': 30665, 'them👎🏼': 30666, 'dared': 30667, 'signer': 30668, 'uniformadvantage': 30669, 'restrooms': 30670, 'flashy': 30671, '😑🙄': 30672, 'sisa': 30673, 'sommerlund': 30674, 'narendra': 30675, 'gupta': 30676, '5years': 30677, '1qewk': 30678, 'forzathon': 30679, 'leisurely': 30680, 'it😢': 30681, 'sebaceous': 30682, 'cyst': 30683, 'chi': 30684, 'bleh': 30685, 'sfmusictech': 30686, 'endanger': 30687, 'abis': 30688, 'mallows': 30689, 'monks': 30690, 'eww': 30691, 'transmutation': 30692, 'mete': 30693, 'chamber': 30694, 'grieving': 30695, 'zalora': 30696, 'keyed': 30697, 'xxi': 30698, '213error': 30699, '❤️💙': 30700, 'hmu': 30701, 'pushpalatha': 30702, 'shanaboganhally': 30703, 'kalappa': 30704, 'shameer': 30705, '20seconds': 30706, 'boardroom': 30707, 'adroitness': 30708, 'yaar': 30709, 'ruder': 30710, 'svces': 30711, 'longstone': 30712, 'ramona': 30713, 'ooops': 30714, 'iata': 30715, 'premuim': 30716, 'higinioaguirre': 30717, 'schott': 30718, 'crownwork': 30719, '2471': 30720, 'wellesbourne': 30721, 'zim': 30722, 'pres': 30723, 'ipsw': 30724, 'jaimo': 30725, 'caloric': 30726, '70rs': 30727, '1749': 30728, '1804': 30729, '1830': 30730, '2150': 30731, 'hardrive': 30732, 'previewed': 30733, 'ksh2': 30734, 'imt': 30735, 'sick😫😫': 30736, 'friendsgiving': 30737, '❓❓❓': 30738, 'blaring': 30739, 'outloud': 30740, 'plugboard': 30741, 'switchboard': 30742, 'uber😡😡😡': 30743, 'bunchofbankers': 30744, '“handling': 30745, 'care”': 30746, '0646': 30747, 'iphotos': 30748, 'supernatural': 30749, 'contacs': 30750, 'okaayy': 30751, 'targeted': 30752, 'staffs': 30753, '😳😭😳😭': 30754, 'bayesean': 30755, 'spudless': 30756, 'tyseley': 30757, '37pm': 30758, 'talia': 30759, 'ebenezer': 30760, 'embakasi': 30761, 'morehead': 30762, '🤘🤔': 30763, 'hemangioma': 30764, 'simplex': 30765, 'tanks': 30766, 'skins': 30767, '😷👍🏽': 30768, 'dde': 30769, 'pga': 30770, 'bankamericard': 30771, 'jerking': 30772, 'tine': 30773, 'democrat': 30774, 'regulators': 30775, 'cintiq': 30776, 'shrews': 30777, 'subcribers': 30778, 'relentless': 30779, 'try’': 30780, 'biswajeeta': 30781, 'bg3iwy': 30782, '34am': 30783, 'grafted': 30784, 'sociable': 30785, '48hr': 30786, 'prestigious': 30787, 'langport': 30788, 'peeling': 30789, 'revilement': 30790, 'seadl': 30791, 'yippee': 30792, 't10': 30793, 'sparkling': 30794, '85p': 30795, 'collects': 30796, 'schezwan': 30797, 'wubba': 30798, 'lubba': 30799, 'jovi': 30800, 'bekah': 30801, 'mera': 30802, 'tarikh': 30803, 'nikal': 30804, 'apna': 30805, 'jispe': 30806, 'transfar': 30807, 'frod': 30808, 'kharido': 30809, 'inspected': 30810, '11yrs': 30811, 'wss': 30812, 'misaligned': 30813, 'dll': 30814, 'win32': 30815, 'funda': 30816, 'starwars': 30817, 'recharge1': 30818, 'capsule': 30819, 'turret': 30820, 'gunner': 30821, '😒😒': 30822, 'chess': 30823, 'lasvegas': 30824, 'zve': 30825, 'again😡': 30826, 'amenties': 30827, '3db': 30828, '0db': 30829, 'techies': 30830, 'airteltigo': 30831, '678': 30832, 'bt7': 30833, 'iirc': 30834, 'ahahaha': 30835, 'wk😭': 30836, 'shitbrand': 30837, 'boilersuit': 30838, '⛺': 30839, 'skew': 30840, 'whiff': 30841, 'woodward': 30842, '🌽🍗thankmas': 30843, '🎄☃️celebration': 30844, 'emw': 30845, 'valerian': 30846, 'nuthing': 30847, '🤔🤷🏻\\u200d♀️': 30848, 'pools': 30849, 'insurer': 30850, 'jnr': 30851, 'chests': 30852, 'patti': 30853, 'blizzards': 30854, 'relink': 30855, 'gelt': 30856, 'adeel': 30857, 'chalmers': 30858, 'bullitt': 30859, 'worstern': 30860, 'supersede': 30861, '🤒😭': 30862, 'hopwood': 30863, 'exps': 30864, '2morrow': 30865, 'coalescence': 30866, 'complent': 30867, '5rs': 30868, 'reinforce': 30869, 'sexist': 30870, 'roles': 30871, 'wino': 30872, 'youdo': 30873, 'sill': 30874, 'zeroes': 30875, '🎤': 30876, 'salve': 30877, 'inwardness': 30878, 'footlocker': 30879, 'vandervoort': 30880, 'misrouted': 30881, 'emphasizes': 30882, 'bamboozles': 30883, 'toiletry': 30884, 'mislaid': 30885, '2097': 30886, 'realizing': 30887, 'limb': 30888, '“vile”': 30889, '£32': 30890, 'incovenience': 30891, 'comme': 30892, 'restus': 30893, 'plataform': 30894, 'abrohamvela': 30895, 'mehreen': 30896, 'lanthanum': 30897, 'cordial': 30898, 'rupay': 30899, 'kimat': 30900, 'samjhogi': 30901, 'mitali': 30902, 'respond😪': 30903, 'lora': 30904, 'dyke': 30905, '😔😡': 30906, '1702': 30907, 'heid': 30908, '“uhh': 30909, 'mayne': 30910, 'hindered': 30911, '😩🤦🏾\\u200d♀️': 30912, 'poppys': 30913, 'rememberence': 30914, 'sunday🌹good': 30915, 'att’': 30916, 'strapped': 30917, 'simmons': 30918, 'now😕': 30919, 'protects': 30920, 'nicolle': 30921, 'pawtucket': 30922, 'pricy': 30923, 'woonsocket': 30924, 'm33': 30925, 'australias': 30926, 'brightened': 30927, 'lollypop': 30928, 'error97': 30929, 'beeston': 30930, 'studentbeans': 30931, 'tact': 30932, 'trnsf': 30933, 'mgrto': 30934, 'calc': 30935, '75°': 30936, 'updateing': 30937, '9f': 30938, '3a': 30939, 'marshalling': 30940, 'e190': 30941, 'plummeted': 30942, 'landfill': 30943, 'alexia': 30944, 'kavan': 30945, 'undergone': 30946, 'nothingness': 30947, 'peekaboo': 30948, 'siraj': 30949, 'fuckingnlie': 30950, 'mythbusters': 30951, 'nosology': 30952, 'niven': 30953, 'assognment': 30954, 'ncaa': 30955, '😞🍩': 30956, 'fanboi': 30957, 'bexhill': 30958, '“systems': 30959, 'down”': 30960, 'breakfast🌚❤️': 30961, 'mcr': 30962, 'wriggler': 30963, '🐛': 30964, 'splitting': 30965, 'giy': 30966, '3v4': 30967, 'ba501': 30968, 'amazonfire': 30969, 'pitting': 30970, 'ofc': 30971, 'usair': 30972, 'chimney': 30973, 'svg': 30974, 'fk': 30975, 'depositary': 30976, 'req’': 30977, 'optimistic': 30978, 'woho': 30979, 'same1': 30980, 'logon': 30981, '‘no': 30982, 'connection’': 30983, 'n637': 30984, 'reddy': 30985, '😐😐': 30986, 'frederik': 30987, 'stooge': 30988, 'ruffle': 30989, 'moseem': 30990, 'arth': 30991, 'micahlev': 30992, 'rashes': 30993, '🥓': 30994, '548': 30995, 'penrhyn': 30996, 'jenson': 30997, 'fragments': 30998, 'changi': 30999, '–sdl': 31000, 'fractional': 31001, 'signalise': 31002, 'inhabit': 31003, '2587': 31004, 'scorching': 31005, 'remote…shattered': 31006, 'drop…and': 31007, 'capri': 31008, 'rubble': 31009, '615': 31010, 'gridiron': 31011, 'kill🙏🙏🙏🙏🙏🙏🙏': 31012, 'retract': 31013, 'frs': 31014, 'cba': 31015, 'ftolu': 31016, 'magnanimous': 31017, 'saginaw': 31018, 'irresponsibly': 31019, 'gilt': 31020, '33am': 31021, 'grander': 31022, 'diaried': 31023, 'ibra': 31024, 'grouped': 31025, 'baccy': 31026, 'tobacco': 31027, 'biko': 31028, 'oga': 31029, 'callcenter': 31030, '1881': 31031, 'straggle': 31032, 'answerableness': 31033, 'deportes': 31034, 'stab': 31035, 'qtips': 31036, 'punctured': 31037, 'contaminated': 31038, '😊👌👍🎃👏🙌': 31039, 'lancs': 31040, 'phases': 31041, 'payrise': 31042, 'reachability': 31043, 'nudged': 31044, 'aanndd': 31045, 'salsas': 31046, '😭☹️': 31047, 'bolocks': 31048, 'optimised': 31049, 'colloquialism': 31050, 'yate': 31051, 'mead': 31052, 'bibigarbage': 31053, 'shazia': 31054, 'aweezy': 31055, 'colonel': 31056, 'fluent': 31057, 'repackaged': 31058, 'wtheck': 31059, '😩😫': 31060, 'eratic': 31061, 'funtioning': 31062, 'karli': 31063, 'selvedge': 31064, 'waring': 31065, 'cashbk': 31066, 'well—': 31067, 'tortoise': 31068, 'weirder': 31069, 'multitouch': 31070, 'meth': 31071, 'munique': 31072, 'aplogies': 31073, 'officials': 31074, 'debatable': 31075, 'troop': 31076, '6369': 31077, 'crotas': 31078, 'miriam': 31079, 'upselling': 31080, '“economy': 31081, 'plus”': 31082, 'dells': 31083, 'apcoa': 31084, 'dante': 31085, '930am': 31086, 'dario': 31087, 'infor': 31088, 'lizbeth': 31089, 'anjellica': 31090, '1080p60fps': 31091, '“ticket': 31092, 'pending”': 31093, 'distaff': 31094, 'teenager': 31095, 'huddersfield': 31096, 'diversity': 31097, 'frowned': 31098, 'thereafter': 31099, '07p': 31100, 'ditta': 31101, '4419': 31102, 'gringo': 31103, '“is”': 31104, 'anete': 31105, 'bicole': 31106, 'dl4007': 31107, 'dl429': 31108, 'firsthand': 31109, 'inet': 31110, '2088': 31111, 'problematical': 31112, 'egyption': 31113, 'buyed': 31114, 'nosh': 31115, 'recive': 31116, 'cce': 31117, 'buzy': 31118, 'fumin': 31119, 'somthin': 31120, 'shoppn': 31121, 'underrated': 31122, 'gibber': 31123, 'basker': 31124, 'mindblowing': 31125, 'catcliffe': 31126, 'kolate': 31127, 'enterprises': 31128, 'pramila': 31129, 'kalwa': 31130, 'dafuckk': 31131, 'turgid': 31132, 'javi': 31133, 'maharajganj': 31134, 'doriganj': 31135, 'chapra': 31136, 'accentuate': 31137, 'failes': 31138, 'iheartradio': 31139, 'anneliese': 31140, 'sarismo': 31141, 'gourmet': 31142, '902': 31143, 'minibus': 31144, 'countermand': 31145, '“seat': 31146, 'itinerary”': 31147, 'graffitti': 31148, 'acle': 31149, 'surinder': 31150, 'eh54': 31151, 'giselle': 31152, 'stunt': 31153, 'bueller': 31154, 'foeman': 31155, 'fashioned': 31156, 'pixel2xl': 31157, 'stallion': 31158, '🤔🤥🙄': 31159, 'hymen': 31160, 'wüstlinger': 31161, 'theirselves': 31162, 'massachusetts': 31163, 'radiator': 31164, 'yatra': 31165, 'ecash': 31166, 'coriec': 31167, 'regal': 31168, 'crimbo': 31169, 'thanksto': 31170, 'mojang': 31171, 'work😭': 31172, 'madaraka': 31173, 'ratchet': 31174, 'otw2the': 31175, 'frontal': 31176, 'haute': 31177, 'couture': 31178, 'furhter': 31179, 'aroma': 31180, 'irina': 31181, 'cramlington': 31182, 'ba238': 31183, 'unkind': 31184, 'thaung': 31185, 'payouts': 31186, 'deodorant': 31187, 'armpit': 31188, 'forcer': 31189, 'taahirm': 31190, 'beigel': 31191, 'sadé': 31192, 'bionic': 31193, 'presses': 31194, '18a': 31195, 'screamed': 31196, '👂': 31197, 'ltr': 31198, 'kaushik': 31199, '😱home': 31200, 'objurgate': 31201, 'calendar…': 31202, 'carolm': 31203, 'thunder': 31204, 'trainer': 31205, 'haystack': 31206, '5597': 31207, '24”x18”x6”': 31208, 'databases': 31209, 'aswel': 31210, '886wp2': 31211, 'sheree': 31212, 'whoohoo': 31213, 'booze': 31214, '🙌🏻😬😬😬': 31215, 'cull': 31216, 'scumpy': 31217, 'chicagomdw': 31218, '🎁which': 31219, 'salon': 31220, '🤔😰😱': 31221, 'kilohertz': 31222, 'entanglement': 31223, 'schematics': 31224, 'faraz': 31225, 'ethically': 31226, 'haired': 31227, 'gum': 31228, 'wn178': 31229, 'sv1': 31230, 'hermiston': 31231, 'liquefied': 31232, 'vernal': 31233, '“what’': 31234, 'charan': 31235, 'ink48': 31236, 'deteriorated': 31237, 'slander': 31238, '–cm': 31239, '5702': 31240, 'otw': 31241, 'relentless😡': 31242, '“thank': 31243, 'blessed”': 31244, '1927': 31245, 'serge': 31246, 'kaiya': 31247, 'kramer': 31248, 'retrospect': 31249, 'losten': 31250, 'bialls': 31251, 'albulm': 31252, 'songs🙄': 31253, 'effed': 31254, 'pronoy': 31255, 'save50uk': 31256, 'grizzlies': 31257, 'sarita': 31258, 'eamon': 31259, 'vena': 31260, 'portae': 31261, 'loader': 31262, 'color😒': 31263, 'moldy😭😭😭😭': 31264, 'glat': 31265, 'preoder': 31266, 'chd': 31267, 'used…': 31268, 'arlaf': 31269, 'whine': 31270, 'srikant': 31271, 'crackle': 31272, '12pcs': 31273, 'intruder': 31274, 'bosie': 31275, '55am': 31276, 'wanda': 31277, '476': 31278, '7480': 31279, '😤👏🏼🎂': 31280, 'devils': 31281, 'wholeheartedly': 31282, 'l21': 31283, 'turnovers': 31284, 'tossing': 31285, 'incentivized': 31286, 'sickest': 31287, '😡🤬😡🤬': 31288, 'ba0292': 31289, 'structures': 31290, '😃✈️♥️': 31291, 'btizzell': 31292, 'kutti2k3': 31293, 'bthomas315': 31294, 'idowu': 31295, 'arecibo': 31296, '50mi': 31297, 'acerate': 31298, '5m': 31299, 'teaches': 31300, 'tractability': 31301, 'site’ll': 31302, 'mitigate': 31303, 'bureaucracy': 31304, 'phoneless': 31305, 'parwinder': 31306, 'teamplayer': 31307, '8ft': 31308, 'chatt': 31309, 'nbo': 31310, 'getcurrentinternal': 31311, 'reportrollbackevent': 31312, 'modus': 31313, 'operandi': 31314, 'adaptation': 31315, 'vallarta': 31316, 'zeba': 31317, 'vase': 31318, 'unintended': 31319, 'refuelled': 31320, 'transitioning': 31321, 'attainment': 31322, 'conjure': 31323, 'stump': 31324, 'wedlock': 31325, '1011': 31326, 'lds': 31327, 'abundance': 31328, 'flight278': 31329, '2418': 31330, '219': 31331, '3819': 31332, 'bgr': 31333, '903p': 31334, 'fariba': 31335, '330p': 31336, 'g7': 31337, 'skateboard': 31338, 'loaned': 31339, 'reappear': 31340, '50mbs': 31341, 'rmt': 31342, '01am': 31343, '56pm': 31344, 'goig': 31345, 'gregorovich': 31346, 'callcentre': 31347, '1628': 31348, 'paignton': 31349, 'briliant': 31350, 'ely': 31351, 'cambridgeshire': 31352, 'rewrote': 31353, 'albuquerque': 31354, 'rsl': 31355, 'sprectum': 31356, 'ony': 31357, 'cfc': 31358, 'substandard': 31359, 'nonfat': 31360, 'krakus': 31361, '4gx': 31362, '15yr': 31363, 'kruger': 31364, 'reall': 31365, 'uf': 31366, 'ylw': 31367, 'carat': 31368, 'trinitrotoluene': 31369, 'devon': 31370, 'farky': 31371, 'certs': 31372, 'naut': 31373, 'carapace': 31374, 'haringay': 31375, 'knuckle': 31376, 'economize': 31377, '“chat”': 31378, 'aa294': 31379, 'aa140': 31380, 'washine': 31381, 'zaul': 31382, '🛬': 31383, 'expressed': 31384, '“shipped”': 31385, '🙏😫': 31386, 'gloriously': 31387, 'authz”': 31388, 'authz': 31389, '😒👎🏼': 31390, 'weve': 31391, 'visitant': 31392, 'mcadecent': 31393, 'azam': 31394, '£22': 31395, 'dannie': 31396, 'reissued': 31397, 'senate': 31398, 'wickedness': 31399, 'nee': 31400, 'shortly”': 31401, 'newsflash': 31402, '’alls': 31403, 'amelia': 31404, 'porterville': 31405, '“specialists”': 31406, 'care😊': 31407, 'palkulangara': 31408, 'uhire': 31409, 'censoring': 31410, 'birthdate': 31411, 'lana': 31412, 'jodee': 31413, 'camberly': 31414, 'marginal': 31415, 'utile': 31416, 'got7’': 31417, 'please🙏🏼😭': 31418, 'chafford': 31419, 'hp5520': 31420, 'caretridges': 31421, '564': 31422, 'wahoo': 31423, 'prescott': 31424, '2002f': 31425, 'hardeman': 31426, 'projecting': 31427, 'btr': 31428, '845pm': 31429, 'highgate': 31430, 'glared': 31431, 'summarise': 31432, 'twice😁': 31433, 'bakersfield': 31434, 'leaven': 31435, 'consciousness': 31436, 'vehemence': 31437, 'r1500': 31438, 'clusterfuck': 31439, 'breeding': 31440, 'jonandbuddy': 31441, 'playtime': 31442, '4649': 31443, 'univalent': 31444, 'pnts': 31445, 'bu': 31446, 'solicited': 31447, 'arvi': 31448, 'pscx': 31449, '2085': 31450, 'wandsworth': 31451, 'bants': 31452, 'factored': 31453, 'rrp': 31454, 'wheeler': 31455, 'bordering': 31456, 'levi': 31457, 'knight': 31458, '👎🏿': 31459, '162': 31460, 'nissan': 31461, 'uncircumcise': 31462, 'impudence': 31463, 'hurling': 31464, 'grinch🤢': 31465, 'he’ll': 31466, 'karvachouth': 31467, 'ghee': 31468, 'tiamiyu': 31469, '“high': 31470, 'sons😞': 31471, 'rew': 31472, 'vod': 31473, 'temporally': 31474, 'vanderpump': 31475, 'housewives': 31476, 'hydrophobia': 31477, 'beverley': 31478, 'jester': 31479, 'laguardia': 31480, 'lady…': 31481, 'xfr': 31482, '🤢💔': 31483, 'sabra': 31484, 'strasser': 31485, 'guise': 31486, '4p9d6t8dg': 31487, 'outplayed': 31488, 'iphoto': 31489, 'synch': 31490, 'esme': 31491, 'debits': 31492, 'rajiv': 31493, 'sherri': 31494, 'semtex': 31495, 'mandatorily': 31496, 'tubbs': 31497, 'speciality': 31498, 'cellah': 31499, 'patrol': 31500, 'wingren': 31501, 'jumbles': 31502, 'weaknesses': 31503, 'easyjet': 31504, '0922': 31505, 'lengths': 31506, 'huntsville': 31507, '£349': 31508, 'bullshiting': 31509, 'brookelynn': 31510, 'lkb6530snc': 31511, 'ksh0': 31512, 'transsction': 31513, 'spammed': 31514, 'gaye': 31515, '75mbps': 31516, '“weather”': 31517, '💫': 31518, 'ocd': 31519, 'previewing': 31520, 'playlists🤧': 31521, 'sallie': 31522, 'vier': 31523, '£800': 31524, 'lambast': 31525, 'tbd': 31526, 'lorenzo': 31527, 'raided': 31528, 'surrounded': 31529, 'customizable': 31530, '🌈🦃': 31531, 'dys': 31532, 'satisfing': 31533, 'mated': 31534, 'umina': 31535, 'sneaks': 31536, 'ebayer': 31537, 'mikko': 31538, 'mgs': 31539, 'livin': 31540, '😉🤘': 31541, 'haridwar': 31542, '182cm': 31543, 'residue': 31544, 'berm': 31545, '11hrs': 31546, 'jist': 31547, 'featuring': 31548, 'materialistic': 31549, 'hi，my': 31550, 'eizkfs，gender': 31551, 'mr？': 31552, '1941': 31553, 'skates': 31554, 'assembling': 31555, '😊👌🏼📱': 31556, 'giles': 31557, '3773': 31558, 'front😩': 31559, 'funny😂🤷🏻\\u200d♀️': 31560, 'shoregping': 31561, 'ashore': 31562, 'literatly': 31563, 'ssh': 31564, 'curipus': 31565, 'sesional': 31566, 'grandson’': 31567, 'humongous': 31568, 'niles': 31569, 'reviving': 31570, 'nanosecond': 31571, 'shrimp🤔': 31572, 'homerton': 31573, 'senators': 31574, 'critically': 31575, 'hepatitis': 31576, 'coli': 31577, 'norovirus': 31578, 'campylobacter': 31579, 'jejuni': 31580, 'necessity': 31581, 'barter': 31582, 'crouton': 31583, 'sizers': 31584, '😒😒😒😒😒': 31585, 'lassie': 31586, 'baleigh': 31587, 'taz': 31588, 'mandar': 31589, 'ngicela': 31590, 'abuyise': 31591, 'imali': 31592, 'yami': 31593, 'gey': 31594, '🌈👙🌸🌴': 31595, 'stalker': 31596, 'astoria': 31597, 'dl553': 31598, 'sting': 31599, '“bright': 31600, 'networks”': 31601, 'upgradation': 31602, 'brla': 31603, 'educational': 31604, 'withing': 31605, 'sempiternal': 31606, 'fitchburg': 31607, 'extraordinary': 31608, 'outtaged': 31609, 'overtook': 31610, 'unsafely': 31611, 'beechwood': 31612, 'shaftesbury': 31613, 'v3': 31614, 'clamant': 31615, 'cgk': 31616, 'unfortuantley': 31617, 'onyi': 31618, '17yrs': 31619, 'immorally': 31620, 'incorrupt': 31621, 'selley': 31622, 'yaw': 31623, 'ssds': 31624, 'mktpl': 31625, '‘get': 31626, 'being—abysmal': 31627, 'fraction': 31628, '👍🏽👍🏽': 31629, 'ashvin': 31630, 'shah': 31631, 'rascist': 31632, 'substitutes': 31633, 'thanjs': 31634, '😂😂😂😂😂😂😂': 31635, 'smarts': 31636, 'deter': 31637, '🖒🖒': 31638, 'crawfish': 31639, 'seatec': 31640, 'culloden': 31641, 'spikelet': 31642, 'ghaleb': 31643, 'adt': 31644, 'wrongful': 31645, 'njoki': 31646, 'assur': 31647, 'harlington': 31648, '⚽': 31649, '£707': 31650, 'misti': 31651, 'muskegon': 31652, 'uterus': 31653, 'putrid': 31654, 'shouldve': 31655, 'nathanlovato': 31656, 'controll': 31657, '🎃😫': 31658, 'dl588': 31659, 'viz': 31660, 'meddled': 31661, '789': 31662, 'prasoon': 31663, 'anterior': 31664, 'eighteenth': 31665, 'powerswitch': 31666, 'scraping': 31667, '4pc': 31668, '3pc': 31669, 'repealed': 31670, 'equity': 31671, 'tomo': 31672, 'duj': 31673, '😐🤭😡': 31674, 'kthxbye': 31675, '“popular”': 31676, 'restoral': 31677, 'hoh': 31678, 'chronic': 31679, 'indispensable': 31680, 'amerind': 31681, 'whtat': 31682, 'unleash': 31683, 'sprt': 31684, 'sgested': 31685, '🤬🤬🤬🤬': 31686, 'matlock': 31687, 'muzak': 31688, 'duke': 31689, 'yoav': 31690, 'exabyte': 31691, 'mchale': 31692, 'evaporates': 31693, 'talentless': 31694, 'kardashians': 31695, 'cupboard': 31696, '🤢😰': 31697, 'addison': 31698, 'mtog': 31699, 'overpass': 31700, 'thang': 31701, 'pleases': 31702, 'quaffed': 31703, 'pleaze': 31704, 'reservable': 31705, 'finalises': 31706, 'miserableness': 31707, 'confrontational': 31708, 'weirded': 31709, '6155': 31710, 'clayey': 31711, '161st': 31712, 'thallium': 31713, 'educated': 31714, '419': 31715, 'stir': 31716, 'reynolds': 31717, 'fingerbreadth': 31718, 'biff': 31719, 'tyres': 31720, '401k': 31721, 'wilfred': 31722, 'nicj': 31723, 'uncorrectable': 31724, 'mindedness': 31725, 'furgauson': 31726, 'heaters': 31727, 'esto': 31728, 'pone': 31729, 'linseed': 31730, 'blindness': 31731, 'mutch': 31732, 'oeopke': 31733, 'ruc': 31734, 'overstretch': 31735, 'terrapin': 31736, '‘can’': 31737, 'error’': 31738, '🙌🙌🙌🙌🙌🙌🙌🙌🙌🙌🙌🙌': 31739, 'spoof': 31740, 'favours': 31741, 'pdfs': 31742, 'angles？': 31743, 'camilo': 31744, 'augusto': 31745, 'bagpacking': 31746, 'solver': 31747, 'money😔': 31748, 'autmoically': 31749, 'swtich': 31750, 'harmon': 31751, 'kardin': 31752, 'onyx': 31753, 'misbehaviour': 31754, 'pining': 31755, 'forewarning': 31756, 'xprncng': 31757, 'bothrd': 31758, 'assassinator': 31759, 'unbothered': 31760, 'jarrad': 31761, 'stephi': 31762, '10ft': 31763, 'impartial': 31764, 'disregarding': 31765, 'jounreys': 31766, 'forgo': 31767, 'vinodh': 31768, 'oma': 31769, 'malwarebytes': 31770, 'terrill': 31771, 'g2': 31772, 'izzy': 31773, 'rjm': 31774, 'draga': 31775, 'haz': 31776, 'ukeep': 31777, 'goddess': 31778, '😡put': 31779, 'selflessly': 31780, '870gb': 31781, 'hm5vfp': 31782, 'hnlihv': 31783, 'drunkenness': 31784, 'contrived': 31785, 'additive': 31786, 'impressment': 31787, 'predominate': 31788, 'hashbrown': 31789, 'rootle': 31790, 'guatemala': 31791, 'flt1613': 31792, 'cont1': 31793, 'nth': 31794, '“cleaning': 31795, 'controvert': 31796, 'dann': 31797, '0752': 31798, 'profligate': 31799, 'megaphone': 31800, 'zidan': 31801, 'zahraa': 31802, 'ansty': 31803, 'website😠': 31804, 'fee😐': 31805, 'v1': 31806, 'solicitor': 31807, 'wf🙌': 31808, 'demi': 31809, 'rokus': 31810, 'malformed': 31811, 'monaghan': 31812, 'vie': 31813, 'bumps': 31814, 'calmed': 31815, 'mandie': 31816, '✅🛫🇺🇸': 31817, 'safekeeping': 31818, 'scheana': 31819, 'spencerkalata': 31820, 'discharging': 31821, 'cae': 31822, 'aspire': 31823, 'dusting': 31824, 'sweeping': 31825, 'mopping': 31826, 'emblems': 31827, 'foreground': 31828, 'inauthentic': 31829, 'car’': 31830, 'udr': 31831, 'subnet': 31832, 'fortigate': 31833, 'ipv4': 31834, 'away😐😑': 31835, 'ageism': 31836, 'schoolers': 31837, 'treason': 31838, 'barkingside': 31839, 'wkg': 31840, 'minion': 31841, 'horley': 31842, 'snappiest': 31843, 'devolpers': 31844, 'har': 31845, 'addy': 31846, 'rigmarole': 31847, '😘😘😘🤗🤗🤗': 31848, 'o0o0o0': 31849, 'geogia': 31850, 'tidied': 31851, 'inspects': 31852, 'pov': 31853, '1833': 31854, 'guildford”': 31855, 'workaronds': 31856, 'gamston': 31857, 'charlene': 31858, 'maciie': 31859, 'julieanne': 31860, 'amyotrophic': 31861, 'lateral': 31862, 'sclerosis': 31863, 'k8note': 31864, '“buying”': 31865, '😊🖤': 31866, 'wazi': 31867, 'brathe': 31868, 'repors': 31869, 'ambitious': 31870, 'resourceful': 31871, 'slytherin': 31872, 'dbl': 31873, 'sauvignon': 31874, 'blanc': 31875, 'lively': 31876, 'denim': 31877, 'sufficiency': 31878, 'nhif': 31879, 'unextended': 31880, 'fink': 31881, 'pineapples': 31882, 'roadster': 31883, 'unbearlievable': 31884, 'ged': 31885, 'rocky': 31886, 'betraying': 31887, 'beliefs': 31888, 'choceur': 31889, 'cryptical': 31890, 'turks': 31891, 'caicos': 31892, 'sleet': 31893, 'baltic': 31894, 'warmly': 31895, 'icicles': 31896, '🤣❄️❄️❄️❄️❄️': 31897, 'lurid': 31898, '1side': 31899, 'outlandish': 31900, 'whic': 31901, 'brazenly': 31902, 'trampling': 31903, 'listeners': 31904, 'ba572': 31905, 'malpensa': 31906, '🏁your': 31907, 'colorism': 31908, '5700': 31909, 'overton': 31910, 'ridge': 31911, 'dakotah': 31912, 'xifinity': 31913, 'lakeside': 31914, 'degradation': 31915, 'exam': 31916, 'reguarding': 31917, '❔': 31918, 'lnk': 31919, 'apolpgise': 31920, 'exposition': 31921, 'uncharging': 31922, 'off🤗': 31923, 'plunger': 31924, '10x14x16': 31925, 'shidd': 31926, 'don‘': 31927, 'chunks': 31928, 'dl6227': 31929, 'suden': 31930, 'hartlepool': 31931, 'teasing': 31932, 'stourbridge': 31933, '5172': 31934, '367': 31935, 'intrusive': 31936, 'intimidate': 31937, 'mollified': 31938, 'relates': 31939, 'raven': 31940, 'converts': 31941, 'deepa': 31942, 'chatbots': 31943, 'venkatesh': 31944, 'vijaylaksmi': 31945, '‽': 31946, 'nod32': 31947, 'nishant': 31948, 'gurl': 31949, 'manjul': 31950, '“claim': 31951, 'submitted”': 31952, 'stigmatisation': 31953, 'quinta': 31954, 'relaxed': 31955, 'educatee': 31956, 'downpayment': 31957, '\\u200bis': 31958, '\\u200bit': 31959, '\\u200blike': 31960, '\\u200bset': 31961, '\\u200bgo': 31962, '\\u200bof': 31963, '\\u200bonly': 31964, '\\u200bto': 31965, '\\u200bfind': 31966, '\\u200bout': 31967, 'appriciate': 31968, 'assuring': 31969, 'southport': 31970, 'embarrased': 31971, '🍕👎': 31972, 'addlestone': 31973, 'hubbard’': 31974, '😂😂😂🤣🤣': 31975, 'serviceability': 31976, 'ducking': 31977, 'c9': 31978, '£980': 31979, '£340': 31980, 'habitue': 31981, 'josers': 31982, 'hmhq85shw3': 31983, 'eamil': 31984, 'chuffed': 31985, 'amazoned': 31986, 'fluff': 31987, 'compartments': 31988, 'xifinty': 31989, 'plenitude': 31990, 'dlvrd': 31991, 'tkng': 31992, 'pymnt': 31993, '1359': 31994, 'luqa': 31995, 'ramping': 31996, 'rushikesh': 31997, 'kolharkar': 31998, 'frustations': 31999, 'roxy': 32000, 'staybridge': 32001, 'iphone😈': 32002, 'knicker': 32003, 'bocker': 32004, 'oct7': 32005, 'skelmersdale': 32006, 'geek': 32007, 'anathemise': 32008, 'cheseestsak': 32009, 'poutine': 32010, 'gatorade': 32011, '2’': 32012, 'pampers': 32013, 'skirting': 32014, 'chickasha': 32015, 'aneurysm': 32016, 'promenade': 32017, 'bgi': 32018, 'khwice': 32019, 'demolished': 32020, 'fibres': 32021, 'wooho': 32022, 'weasal': 32023, 'customary': 32024, 'melanin': 32025, 'bereavement': 32026, 'shamia': 32027, 'biggleswade': 32028, '😥😭😭😭': 32029, 'immigrations': 32030, 'arrant': 32031, 'jambo': 32032, 'earmarked': 32033, 'avinash': 32034, 'kishore': 32035, 'platitudes': 32036, 'unnumberable': 32037, 'eyelet': 32038, 'country’': 32039, '👊🙌': 32040, '0915': 32041, 'wiper': 32042, '…and': 32043, 'customers…': 32044, '₹50': 32045, '1086': 32046, 'muscavado': 32047, 'longton': 32048, 'lightroom’': 32049, 'masterpiece': 32050, 'eldersburg': 32051, 'walburtons': 32052, 'sur': 32053, 'pocus': 32054, '👌🏻✨': 32055, 'draconis': 32056, 'fbi': 32057, 'shudnt': 32058, 'ptlc': 32059, 'ndeye': 32060, '😂and': 32061, 'freshen': 32062, 'lr6': 32063, 'infantry': 32064, '“knock”': 32065, 'having…': 32066, 'resloved': 32067, 'accredit': 32068, 'soon❤️': 32069, 'uncheck': 32070, 'uninstalls': 32071, 'primenow5': 32072, 'contraflow': 32073, 'firs': 32074, '7098': 32075, 'ritz': 32076, 'larue': 32077, '944': 32078, 'pt3': 32079, 'rupture': 32080, 'dilevery': 32081, '£1075': 32082, 'hwc': 32083, '60mps': 32084, 'curran': 32085, 'mpcg': 32086, 'patchway': 32087, 'discretionary': 32088, 'practises': 32089, 'groupchat': 32090, 'biodegradable': 32091, 'shortforms': 32092, 'snowhill': 32093, 'specialize': 32094, 'kidz': 32095, 'bop': 32096, '7min': 32097, '13mb': 32098, 'q6': 32099, 'exch': 32100, 'acal': 32101, 'carnt': 32102, 'youse': 32103, 'kickback': 32104, '😡😒📱': 32105, 'tarah': 32106, 'vines': 32107, 'refurbishment': 32108, '❤️ny': 32109, 'this’ll': 32110, 'unprofessionals': 32111, 'creamed': 32112, 'aving': 32113, 'plis': 32114, 'hank': 32115, '“works”': 32116, 'pollo': 32117, 'uncomfortably': 32118, 'joys': 32119, '0844': 32120, 'ofcom': 32121, 'getitright': 32122, 'tracert': 32123, 'lxxxvi': 32124, 'uugh': 32125, 'virtuous': 32126, 'mood🥂🤶🏻🎄': 32127, 'wesley…': 32128, 'eyewitness': 32129, 'reproduced': 32130, 'correlation': 32131, 'scientists': 32132, 'hearsay': 32133, 'justifying': 32134, 'j3': 32135, 'hart': 32136, 'adapts': 32137, 'hoarding': 32138, 'lastweek': 32139, 'olathe': 32140, 'stayi': 32141, 'questionable': 32142, '800s': 32143, 'criticizing': 32144, 'lpy': 32145, '3minutes': 32146, '“updating': 32147, 'location”': 32148, '👎🏼👎🏼': 32149, 'dúo': 32150, 'gayle': 32151, 'neding': 32152, 'hydra': 32153, 'succed': 32154, 'lusterlessness': 32155, 'thuis': 32156, 'autorip': 32157, 'aboutz': 32158, 'funderburke': 32159, 'ssis': 32160, 'illuminate': 32161, 'shirehampton': 32162, 'goring': 32163, 'buttoned': 32164, '11are': 32165, 'ein': 32166, 'gram': 32167, 'tyme': 32168, '✊️✊️✊️': 32169, 'aditional': 32170, 'packge': 32171, '1380': 32172, 'ruffian': 32173, '“prime': 32174, 'normalise': 32175, 'jolt': 32176, 'rancour': 32177, '🖒': 32178, 'tulsa': 32179, '…forcibly': 32180, 'account…': 32181, 'blacklisting': 32182, 'kristine': 32183, 'gaucherie': 32184, 'retentivity': 32185, 'morality': 32186, 'virtuously': 32187, 'avoidance': 32188, 'smarting': 32189, 'gayszf': 32190, 'ilysm': 32191, 'rami': 32192, 'linger': 32193, 'buh': 32194, 'shoveling': 32195, 'birdfeeder': 32196, 'autopayment': 32197, '😭😭❤️': 32198, '🤔🙃': 32199, 'guys🤗': 32200, 'boosted': 32201, 'stricter': 32202, 'disliking': 32203, 'backend': 32204, 'reggae': 32205, 'raymond': 32206, 'fx’': 32207, '😠😣': 32208, 'tps': 32209, '0103': 32210, '😎good': 32211, '👍just': 32212, 'mustn’': 32213, 'clearer': 32214, 'sanji': 32215, 'abbott': 32216, 'lammy': 32217, '1013': 32218, 'primarily': 32219, 'gorier': 32220, 'unexciting': 32221, 'minors': 32222, 'kirshan': 32223, '“full': 32224, 'seashore': 32225, 'statistic': 32226, 'contingencies': 32227, 'waffles': 32228, 'tightlipped': 32229, 'shantanu': 32230, 'shorthorn': 32231, 'heys': 32232, 'glitchs': 32233, 'mesmerised': 32234, 'a17': 32235, 'demeanor': 32236, 'charisma': 32237, 'huber': 32238, 'yippie': 32239, '1764': 32240, 'pleasd': 32241, 'automaton': 32242, 'beeswax': 32243, '👍🏻🌭': 32244, 'kotick': 32245, 'shaping': 32246, 'microbeads': 32247, 'relogging': 32248, 'gro': 32249, 'lsu': 32250, 'mtv2': 32251, 'inlaws': 32252, 'brushes': 32253, 'exported': 32254, 'suitbag': 32255, 'custm': 32256, '5numbers': 32257, 'unfollowing': 32258, 'epson': 32259, '£95': 32260, 'bilha': 32261, '“upgrade”': 32262, 'tueday': 32263, 'squashin': 32264, 'boeuf': 32265, 'scamerl': 32266, 'schemin': 32267, 'sooie': 32268, 'vacillation': 32269, 'slimeballs': 32270, 'pike': 32271, 'yalk': 32272, 'koji': 32273, 'sfc': 32274, 'assumes': 32275, 'seth': 32276, 'meyers': 32277, '💄🎄': 32278, 'cushion': 32279, 'slideshare': 32280, 'abyssal': 32281, '05pm': 32282, 'eat😠': 32283, 'innocents': 32284, 'sathish': 32285, 'aaah': 32286, 'overdrafting': 32287, 'repository': 32288, 'telemarketers': 32289, '29pm': 32290, 'vacuity': 32291, 'brv': 32292, 'starred': 32293, '0905': 32294, 'batshit': 32295, 'roue': 32296, 'chuckles': 32297, 'arnelo': 32298, 'nykki': 32299, 'bechamel': 32300, 'duane': 32301, 'morocco': 32302, 'blogging': 32303, 'explorations': 32304, '🌍': 32305, 'ecosystem': 32306, 'asinine': 32307, 'incommunicado': 32308, '“revoke': 32309, 'access”': 32310, 'aq': 32311, '603': 32312, 'robertson': 32313, 'sinced': 32314, '🍾✈️🦄': 32315, 'microbe': 32316, 'azimuth': 32317, 'ambuscade': 32318, 'appologies': 32319, '0320': 32320, 'behavior—this': 32321, 'untampered': 32322, 'consortium': 32323, 'delighting': 32324, 'scone': 32325, 'alfredo': 32326, 'minot': 32327, 'mandi': 32328, 'margherita': 32329, 'stonebaked': 32330, 'halifax': 32331, '🍕🍩': 32332, 'bloc': 32333, 'pastime': 32334, 'lincy': 32335, 'arrgh': 32336, 'anough': 32337, 'rileyred': 32338, '2xxp': 32339, 'samara': 32340, 'rudiment': 32341, '🙌😉': 32342, 'disallowing': 32343, 'single🙃': 32344, 'stylish': 32345, 'backwash': 32346, '4gz': 32347, 'skye': 32348, 'dustbin': 32349, 'ntfs': 32350, '・': 32351, 'ω・': 32352, 'ﾁﾗｯ': 32353, 'revival': 32354, 'preowned': 32355, 'sadder': 32356, '😤🤬': 32357, 'bismuth': 32358, 'muy': 32359, 'bueno👍': 32360, 'preciate': 32361, '😉you': 32362, 'brotha': 32363, 'ckh': 32364, 'copied': 32365, 'scat': 32366, '🎄⛄️🎅🏻': 32367, 'schema': 32368, 'pressured': 32369, '737ng': 32370, 'warrenty': 32371, 'bellyacher': 32372, '1750': 32373, 'alëna': 32374, '😊cheesecake': 32375, 'samplers': 32376, 'as3541': 32377, '👍now': 32378, 'mine…': 32379, 'asif': 32380, 'fsm': 32381, 'disconnections': 32382, 'aimbots': 32383, 'headshots': 32384, 'spiteful': 32385, '2024': 32386, 'rplc': 32387, 'kamrin': 32388, 'ottawa': 32389, 'kilos': 32390, 'heavier': 32391, '70lbs': 32392, 'mojo': 32393, 'you😍🔥': 32394, 'e5430': 32395, 'compatibile': 32396, '6ghz': 32397, 'sgl': 32398, '😄🎅🏼': 32399, '40yrs': 32400, 'ident': 32401, '1902': 32402, 'inevitable': 32403, 'ineptitude': 32404, 'guardduty': 32405, 'globular': 32406, 'fagos': 32407, 'tro': 32408, 'pratibha': 32409, 'massaman': 32410, 'connoisseur': 32411, 'bitterly': 32412, 'henna': 32413, 'ctct': 32414, 'slaving': 32415, 'saltiest😡😡': 32416, 'neville': 32417, 'mocking': 32418, 'impasse': 32419, 'prototypes': 32420, 'mvnos': 32421, 'portway': 32422, 'usinng': 32423, 'flamingo': 32424, 'transformation': 32425, 'bli': 32426, 'worrisome': 32427, 'distributes': 32428, 'creamers': 32429, 'portchester': 32430, 'sustentation': 32431, 'subscriptionnotfound': 32432, 'desepsi': 32433, 'pointy': 32434, 'bizzare': 32435, 'wierd': 32436, 'derived': 32437, 'carraiges': 32438, 'siding': 32439, 'unwisely': 32440, 'mubc': 32441, 'upsell': 32442, 'wassail': 32443, 'misquandering': 32444, 'shrub': 32445, '2036': 32446, 'redoing': 32447, 'franck': 32448, 'megatrain': 32449, 'franchises': 32450, 'severly': 32451, 'anychance': 32452, 'experimenting': 32453, 'boneheaded': 32454, 'pkges': 32455, '😚😚😚': 32456, 'cw47tk': 32457, 'ticking': 32458, 'mem': 32459, 'bookin': 32460, 'differents': 32461, 'fajitas': 32462, 'openso': 32463, 'hialeah': 32464, 'anant': 32465, 'waqar': 32466, 'alexsemsch': 32467, '☹️😒': 32468, 'nbi': 32469, 'robbers': 32470, 'mischarging': 32471, 'ngn': 32472, 'owain': 32473, 'pigeon': 32474, 'breathing': 32475, 'encrypt': 32476, 'po38a2a7fa': 32477, 'stitt': 32478, 'f7': 32479, '🙁11': 32480, 'surcharges': 32481, 'restorin': 32482, 'iphn': 32483, 'battry': 32484, 'freezin': 32485, 'krista': 32486, 'psychonauts': 32487, 'fuzion': 32488, '407th': 32489, 'clerics': 32490, 'orb': 32491, 'pipeline': 32492, 'shari': 32493, 'telephoned': 32494, 'ptsd': 32495, 'kitkat': 32496, 'bluing': 32497, 'availablity': 32498, '12mbs': 32499, 'stb': 32500, 'bholu': 32501, 'stunts': 32502, 'anshul': 32503, 'g17': 32504, '1468': 32505, 'later”': 32506, '🆘🆘🆘': 32507, 'ambersellers': 32508, 'reprehensible': 32509, 'decal': 32510, 'tomm': 32511, 'hiram': 32512, 'abdul': 32513, 'avg': 32514, 'bandeau': 32515, 'bmp': 32516, 'crunchwrap': 32517, 'amateur': 32518, 'wankstains': 32519, 'slapdick': 32520, 'gone😂😍': 32521, 'indy’': 32522, '🥣': 32523, 'praised': 32524, 'excelled': 32525, 'homeowner': 32526, '1998': 32527, 'altitude': 32528, 'promotes': 32529, 'agnostic': 32530, 'protocols': 32531, 'rss': 32532, 'programmatic': 32533, 'addin': 32534, 'matei': 32535, 'swirls': 32536, 'farida': 32537, 'canapes': 32538, '“big”': 32539, 'icy': 32540, '♥️♥️': 32541, 'hollis': 32542, 'webservice': 32543, 'clinics': 32544, 'rams': 32545, 'assaults': 32546, 'berkeley': 32547, 'cicero': 32548, 'nbr': 32549, 'characterisation': 32550, 'addre': 32551, 'nnaira': 32552, '“’ll': 32553, 'problems”': 32554, 'shadowplay': 32555, 'montage': 32556, 'grades': 32557, '🤔✌🏻': 32558, 'uberfr': 32559, 'specialbuys': 32560, 'redmere': 32561, 'brusels': 32562, 'goingn': 32563, 'gimpy': 32564, 'adjustor': 32565, '🎆🎂🎆': 32566, 'harvard': 32567, '😐😐😐': 32568, 'colloidal': 32569, '🌺🌺🌺': 32570, 'antonello': 32571, 'onw': 32572, '1407': 32573, 'eqd': 32574, '🍂': 32575, 'discomfit': 32576, 'elissa': 32577, 'reynauds': 32578, 'submersion': 32579, '8615': 32580, 'ringin': 32581, '🏘': 32582, '🍾': 32583, 'perm': 32584, 'it…': 32585, 't4': 32586, 'downsize': 32587, 'emoji’': 32588, 'vineland': 32589, 'ethnic': 32590, 'purpleness': 32591, 'absorber': 32592, 'decreases': 32593, 'erinj': 32594, 'reddish': 32595, 'toasties': 32596, 'armenian': 32597, 'idiom': 32598, 'hsv': 32599, 'shalim': 32600, 'wagyu': 32601, 'shiternet': 32602, 'collated': 32603, 'tmboile': 32604, 'brioche': 32605, 'normaly': 32606, 'sinceraly': 32607, '200gb': 32608, '£57': 32609, 'macdonalds': 32610, 'forensic': 32611, 'operamini': 32612, 'sprawled': 32613, '223': 32614, 'smudge': 32615, 'fiving': 32616, 'delivers👌🏼': 32617, '“watch': 32618, 'for”': 32619, 'aa438': 32620, '“clean”': 32621, 'aladdin': 32622, 'morning😂😭': 32623, 'suzi': 32624, 'cantact': 32625, 'fearing': 32626, '403rd': 32627, 'emer': 32628, 'guacula': 32629, 'vampire': 32630, 'uttar': 32631, 'pradesh': 32632, '’cos': 32633, '120fps': 32634, 'prj': 32635, '41am': 32636, 'betting': 32637, 'mtso': 32638, 'sellable': 32639, 'duad': 32640, 'their\\u200b': 32641, 'phonebooks': 32642, 'stroll': 32643, '❤️🇺🇸❤️': 32644, 'chirag': 32645, 'skinless': 32646, 'talocruralis': 32647, 'mw3': 32648, '🚍': 32649, '1485': 32650, 'rev': 32651, 'discriminated': 32652, '11k': 32653, 'cse': 32654, 'gerald': 32655, 'pelicase': 32656, 'intrigue': 32657, 'allegations': 32658, 'rophy': 32659, 'pascal': 32660, 'elders': 32661, 'jsut': 32662, 'kalana': 32663, 'hdr10': 32664, 'andreikab': 32665, 'ensured': 32666, '“message': 32667, 'failure”': 32668, '😱😅': 32669, 'spontaneous': 32670, 'kaushal': 32671, 'nutmeg': 32672, 'focuses': 32673, 'innodb': 32674, 'roseycloud': 32675, 'vinnyfrancisco': 32676, '14mo': 32677, '750prepaid': 32678, 'lebanon': 32679, 'mdn': 32680, 'clc': 32681, 'superviser': 32682, 'stephanietowers': 32683, 'defining': 32684, 'spec': 32685, '200°': 32686, '180°': 32687, '🌯🌮😋': 32688, 'bestial': 32689, '🗣️🗣️🗣️🗣️🗣️': 32690, 'frustation': 32691, 'redeemable': 32692, 'cnjshsh': 32693, 'botted': 32694, 'chelt': 32695, 'euro25': 32696, 'sushi': 32697, 'dox': 32698, 'overloaded': 32699, 'afte': 32700, 'dayton': 32701, 'ogg': 32702, '936': 32703, 'cubes': 32704, 'neptune': 32705, 'redirection': 32706, 'vandalism': 32707, 'intelecom': 32708, 'chrysanthemum’': 32709, 'availing': 32710, '₹550': 32711, 'x12': 32712, 'tilehurst': 32713, 'lavinia': 32714, 'os10': 32715, 'daphne': 32716, 'jpn2xx': 32717, 'willis': 32718, 'fuddled': 32719, '☺️☺️😚': 32720, 'far😍❤️❤️❤️': 32721, 'tday': 32722, 'tme': 32723, 'plgin': 32724, 'extrnl': 32725, 'hrd': 32726, 'dsk': 32727, 'wrkng': 32728, 'plurality': 32729, 'sellotpe': 32730, 'deftness': 32731, 'funk': 32732, '😴😴😴😴😴😴': 32733, 'dimon': 32734, 'bathampton': 32735, 'and…wow': 32736, 'blackened': 32737, '😱😡': 32738, 'sebastian': 32739, '“shared': 32740, 'links”': 32741, 'abhilash': 32742, 'honkers': 32743, 'shortformed': 32744, 'dpci': 32745, 'kbs': 32746, 'carbs': 32747, '😠not': 32748, 'gvs': 32749, 'travelocity': 32750, 'roleplay': 32751, 'cathode': 32752, 'oscilloscope': 32753, '6hra': 32754, 'reappearing': 32755, 'bliss': 32756, 'hanborough': 32757, 'peoples’': 32758, 'underhand': 32759, 'drawl': 32760, 'ilene': 32761, 'robertb': 32762, 'bicyclist': 32763, 'onset': 32764, 'loic': 32765, 'decipherable': 32766, '4682': 32767, 'fd398': 32768, 'bkk': 32769, 'croatian': 32770, 'zforce': 32771, 'ba724': 32772, '4layers': 32773, 'traincrew': 32774, '📞👌': 32775, '😕😬': 32776, '133': 32777, 'habitually': 32778, 'practical': 32779, 'medically': 32780, 'camouflage': 32781, '🤦🏾\\u200d♂️😭': 32782, 'deservedly': 32783, '😉🤣😜': 32784, 'buckley': 32785, 'stalechips': 32786, 'hearings': 32787, 'tamp': 32788, 'amercement': 32789, 'bundling': 32790, '26l': 32791, 'washes': 32792, 'seraph': 32793, 'meghanparks': 32794, 'sendet': 32795, 'verifications': 32796, '4it': 32797, 'lakshay': 32798, 'sensical': 32799, 'exhorbitant': 32800, 'storewide': 32801, 'reneg': 32802, 'fixable': 32803, 'lacklustre': 32804, 'lacie': 32805, 'replug': 32806, 'kindling': 32807, 'consultive': 32808, 'confederate': 32809, 'nickelodeon': 32810, 'comma': 32811, 'cajun': 32812, 'cxx': 32813, 'lbf': 32814, 'unkept': 32815, 'rubbers': 32816, '‘locked': 32817, 'in’': 32818, 'unfeignedly': 32819, 'mandate': 32820, 'out😭': 32821, 'aubrey': 32822, '1638mb': 32823, '🙁🙁🙁': 32824, 'gna': 32825, 'hong’': 32826, 'damien': 32827, 'aitel': 32828, 'vita': 32829, '3rcc': 32830, 'gpnm': 32831, '8cdb': 32832, 'fitzroy': 32833, 'msisdn': 32834, 'echecking': 32835, 'arch': 32836, 'scoured': 32837, 'handkerchiefs': 32838, 'andie': 32839, 'hahahahaha': 32840, 'scimitar': 32841, 'intercommunicate': 32842, 'extender': 32843, 'flac': 32844, 'neanderthal': 32845, 'totaly': 32846, 'serivs': 32847, 'rightnow': 32848, 'revel': 32849, 'registries': 32850, 'desirable': 32851, '‘re': 32852, 'check’': 32853, 'fetish': 32854, 'ghosties': 32855, 'battling': 32856, '🥇': 32857, 'liner': 32858, 'rialto': 32859, 'torturing': 32860, 'revolve': 32861, 'supposal': 32862, '0823': 32863, 'bello': 32864, 'smirking': 32865, 'laughter': 32866, 'unobliging': 32867, 'loner': 32868, '‘coveted': 32869, 'bundles’': 32870, 'hamper': 32871, 'hdv': 32872, 'transferral': 32873, 'perego': 32874, 'rzr': 32875, 'profitability': 32876, '0812': 32877, 'handlugagage': 32878, 'citing': 32879, 'chanelshiraishi': 32880, 'promisd': 32881, 'wtch': 32882, 'futurama': 32883, 'heaart': 32884, 'wap': 32885, 'fleets': 32886, 'stringent': 32887, 'visibleness': 32888, 'emerging': 32889, 'bruxelles': 32890, 'sharen': 32891, 'accross': 32892, 'comeing': 32893, 'soping': 32894, '850': 32895, 'ebikes': 32896, 'tocardiff': 32897, 'lumped': 32898, 'nawl': 32899, '👏👏best': 32900, '🦕🦕🦕thanks': 32901, 'telephonic': 32902, 'millswhen': 32903, 'lib': 32904, '“’”': 32905, 'honouring': 32906, 'betcha': 32907, 'revulsion': 32908, 'smidgen': 32909, 'agnize': 32910, 'thumbstick': 32911, '16€': 32912, 'jagdish': 32913, 'servc': 32914, 'cadh': 32915, 'reimbursment': 32916, 'murad': 32917, '₹40k': 32918, 'restlessness': 32919, '🐌': 32920, 'mono': 32921, 'stripe': 32922, 'qz510': 32923, 'yan': 32924, 'loh': 32925, 'yau': 32926, 'chingford': 32927, 'stopover': 32928, 'birm': 32929, '454': 32930, '0544': 32931, 'teton': 32932, 'leonardo': 32933, '02am': 32934, 'sportage': 32935, 'xat442': 32936, 'trostre': 32937, 'mask': 32938, 'jordon': 32939, 'quickpay': 32940, 'statment': 32941, 'reqrment': 32942, 'passcodes': 32943, 'apprenticeship': 32944, 'psychometric': 32945, 'البلايستيشن': 32946, 'ecexplat👍': 32947, 'elayna': 32948, '6monts': 32949, 'moji': 32950, '3kms': 32951, 'doubling': 32952, 'fangirling': 32953, 'welcomes': 32954, 'shepherd': 32955, 'newark’': 32956, 'catolouge': 32957, 'przl': 32958, 'lions': 32959, 'tigers': 32960, 'imperium': 32961, 'dellivery': 32962, 'yaser': 32963, '1615': 32964, '8740': 32965, 'replaceable': 32966, 'pickpocket': 32967, 'locket': 32968, 'opeyemi': 32969, 'contaminate': 32970, 'assignedseats': 32971, 'kathivaran': 32972, 'guesswork': 32973, '0732': 32974, 'tiling': 32975, 'pleasw': 32976, 'min—he': 32977, 'me—then': 32978, 'waterbury': 32979, 'establishments': 32980, '“well': 32981, 'drexel': 32982, 'summa': 32983, 'cumlaude': 32984, 'tomentum': 32985, 'imbed': 32986, 'lovingness': 32987, 'neptunium': 32988, 'francine': 32989, 'varshal': 32990, 'stucked': 32991, '20m': 32992, 'cumulatively': 32993, 'strengthen': 32994, 'transacting': 32995, 'bookbag': 32996, '•pic': 32997, '•brief': 32998, 'socmed': 32999, 'pis': 33000, 'refill': 33001, 'gainsay': 33002, 'longitude': 33003, 'channel😠': 33004, 'niggling': 33005, 'ghz': 33006, 'chandlodia': 33007, 'exportable': 33008, 'renovated': 33009, 'dl3623': 33010, '2night': 33011, '🙏🏼🙏🏼😘😘': 33012, 're…': 33013, 'booties': 33014, '“left': 33015, 'naples': 33016, 'pnc': 33017, 'wrecks': 33018, 'ba1431': 33019, 'omelette': 33020, 'farther': 33021, 'excepted': 33022, '11b': 33023, '✨🎄': 33024, 'thruu': 33025, '30’': 33026, 'riotous': 33027, 'porcine': 33028, 'seat…for': 33029, 'work…and': 33030, 'goto': 33031, 'heidy': 33032, 'oauth': 33033, 'scab': 33034, '😭😭😭😭❤️': 33035, 'longs': 33036, 'nore': 33037, 'subid': 33038, 'stragglers': 33039, 'rendezvous': 33040, 'koper': 33041, 'livin’': 33042, 'joshuah': 33043, 'hmdi': 33044, 'mirroring': 33045, 'issues🤦🏼\\u200d♀️': 33046, 'thro': 33047, 'andrewpelton': 33048, 'borderline': 33049, 'buon': 33050, 'divertimento': 33051, 'swifts': 33052, '6’': 33053, 'gnarly': 33054, 'tui': 33055, 'hgtv😤': 33056, 'goon': 33057, 'hell🔥': 33058, 'lynne': 33059, 'historic': 33060, '499': 33061, '671': 33062, 'gallows': 33063, 'hallway': 33064, 'bezerk': 33065, 'wrap🙏🏽❤️🎁🇺🇸🌎💫👊🏼': 33066, 'giuliana': 33067, 'steward': 33068, 'gautam': 33069, 'wg': 33070, 'locators': 33071, 'rwanda': 33072, 'magnus': 33073, '，': 33074, 'sandip': 33075, 'hao': 33076, 'hawangoji': 33077, 'maliza': 33078, 'siasa': 33079, '730': 33080, 'meagan': 33081, 'crutches': 33082, 'accustomed': 33083, '6’2”': 33084, 'wedged': 33085, 'urk': 33086, 'carl’': 33087, 'cognizance': 33088, 'slavery': 33089, 'instauration': 33090, 'permeating': 33091, 'narrative': 33092, 'ridic': 33093, 'converge': 33094, 'hampsthwaite': 33095, 'm4': 33096, 'looney': 33097, 'seymour': 33098, 'rb6': 33099, 'katgrisham': 33100, 'mentality': 33101, '19b': 33102, '12b': 33103, 'britanny': 33104, 'alston': 33105, 'cumbria': 33106, 'pih': 33107, 'dreamforce': 33108, '2364': 33109, 'morrison’': 33110, 'oatly': 33111, 'sheridan': 33112, 'itemized': 33113, 'roadworks': 33114, 'a426': 33115, 'bkn': 33116, 'dl3433': 33117, 'dari': 33118, 'paddington’': 33119, 'dadar': 33120, 'camicutsforth': 33121, 'ohwell': 33122, '🚒': 33123, 'chipw': 33124, 'catered': 33125, '0609': 33126, 'khandwa': 33127, 'madhyapradesh': 33128, 'chekcout': 33129, 'tutaweza': 33130, 'kweli': 33131, 'zitakuwa': 33132, 'zinaisha': 33133, 'peking': 33134, 'kneeling': 33135, 'hut': 33136, 'peyton': 33137, 'meteorology': 33138, 'exsists': 33139, 'wort': 33140, 'softcase': 33141, 'ba416': 33142, '417': 33143, 'csm': 33144, '“any': 33145, 'city”': 33146, 'ecuador': 33147, 'gurpreet': 33148, 'regulary': 33149, 'bhar': 33150, 'yahi': 33151, 'kaam': 33152, 'bacha': 33153, 'raho': 33154, 'karne': 33155, 'dhyan': 33156, 'doge': 33157, 'jyada': 33158, 'acha': 33159, 'rahega': 33160, 'unenviable': 33161, 'alma': 33162, 'reepair': 33163, 'powerfully': 33164, 'ensued': 33165, 'codyh': 33166, 'iphone5': 33167, 'gadgets': 33168, 'stews': 33169, 'festivities': 33170, 'grinstead': 33171, 'uproariously': 33172, 'prayin': 33173, 'exchanges': 33174, '1987': 33175, 'possessed': 33176, '👎🏻🍏📱': 33177, 'airfare': 33178, 'unreached': 33179, 'warefare': 33180, 'doom': 33181, 'gbp31': 33182, 'controler': 33183, 'communictaion': 33184, 'colney': 33185, 'departament': 33186, 'jiofi': 33187, 'bfj': 33188, 'ku6300': 33189, '£129': 33190, 'kugan': 33191, 'simular': 33192, 'earnt': 33193, '432': 33194, 'junie': 33195, 'jankey': 33196, 'airsick': 33197, 'manipulates': 33198, 'minuteswatching': 33199, 'compain': 33200, 'unsliced': 33201, 'fees😒': 33202, 'uattended': 33203, 'tomrrow': 33204, 'withdrew': 33205, '‘aa0850’': 33206, 'knots': 33207, '2ltr': 33208, 'bordesley': 33209, 'laguna': 33210, 'officiating': 33211, 'kaneisha': 33212, 'clique': 33213, 'pdp': 33214, '“available': 33215, '2”': 33216, 'deliberatly': 33217, 'e4plus': 33218, 'brokering': 33219, 'signingin': 33220, '26x18x12cm': 33221, 'marcela': 33222, 'ineffeciency': 33223, 'pasha': 33224, 'backcloth': 33225, '“for': 33226, 'hours”': 33227, 'b767': 33228, 'gogw': 33229, 'aria': 33230, 'transform': 33231, 'tanzania': 33232, 'waving': 33233, 'skimped🆘🆘': 33234, '“credit': 33235, 'check”': 33236, 'magnum': 33237, 'bsw': 33238, 'ba294': 33239, 'sandee': 33240, '“come': 33241, 'amxkz': 33242, 'woman😅😒': 33243, '£88': 33244, 'apps🙄': 33245, 'lauiv': 33246, 'wahey': 33247, '10c': 33248, '20c': 33249, 'squidgy': 33250, 'witan': 33251, '563': 33252, '9847': 33253, 'reconsidering': 33254, 'reprobate': 33255, '£135': 33256, 'lactose': 33257, 'refrigeration': 33258, 'wedge': 33259, 'device’': 33260, 'terrell': 33261, 'offe': 33262, 'prioritize': 33263, 'oblivion': 33264, '⏰': 33265, 'fireteam': 33266, 'escalatation': 33267, 'merl': 33268, 'merle': 33269, 'utmgbn': 33270, 'unproductive': 33271, 'dismissal': 33272, 'chunibyo': 33273, 'delusions': 33274, 'outstation': 33275, 'mentionme': 33276, 'juls': 33277, '😏😡': 33278, 'pooler': 33279, 'dissapointments': 33280, 'showers': 33281, 'seriah': 33282, 'chlo': 33283, 'comming': 33284, 'basilver': 33285, 'cemented': 33286, 'yearling': 33287, 'deadfall': 33288, 'gwg': 33289, 'gerrett': 33290, 'photosmart': 33291, '1803': 33292, 'mullercorner': 33293, 'inflate': 33294, 'foaming': 33295, '1th': 33296, 'eheh': 33297, 'hurst': 33298, 'prevail': 33299, 'services👇': 33300, 'jannaprivett': 33301, 'bloods': 33302, 'ep3': 33303, 'gabor': 33304, 'lololololololololol': 33305, 'arlo': 33306, 'doenload': 33307, 'speedway': 33308, 'pfa': 33309, 'commended': 33310, 'christchurch': 33311, 'taylor—only': 33312, 'cashiers': 33313, 'checklanes': 33314, 'shivek': 33315, 'ritesh': 33316, 'decode': 33317, 'paramore': 33318, 'kelvin': 33319, 'blushing': 33320, 'pangs': 33321, 'firestorm': 33322, 'justask': 33323, 'lauri': 33324, 'difficultly': 33325, 'thriller': 33326, 'fizz': 33327, 'buddies': 33328, 'cox…': 33329, '80m': 33330, 'radiation': 33331, 'worked🙄': 33332, 'edouardo': 33333, 'desynchronize': 33334, 'concentrate': 33335, 'inexorable': 33336, 'pennant': 33337, 'gand': 33338, 'uncaring': 33339, 'keren': 33340, 'fawziya': 33341, 'curbside': 33342, 'hix': 33343, 'kl518j': 33344, 'arsenio': 33345, '₦20': 33346, 'unauthentic': 33347, '“paperwork”': 33348, 'turing': 33349, 'bareley': 33350, 'courtly': 33351, 'nervousness': 33352, 'omnishambles': 33353, 'jarka': 33354, 'thoughtless': 33355, 'slow😡❗️': 33356, 'oswestry': 33357, 'compensations': 33358, 'tootsie': 33359, 'bushes': 33360, 'seeded': 33361, '😂after': 33362, 'dupe”': 33363, 'dl2824': 33364, 'n911dl': 33365, 'txs': 33366, 'dbmv': 33367, '2601': 33368, 'battles': 33369, 'notlw': 33370, 'usurious': 33371, 'amuse': 33372, 'guadalajara': 33373, 'nonesense': 33374, 'yestrday': 33375, 'indira': 33376, 'crest': 33377, 'redefined': 33378, '“helped”': 33379, 'rustico': 33380, 'flatts': 33381, 'eur': 33382, '1915': 33383, 'hijacks': 33384, 'aggregator': 33385, 'abgt': 33386, 'monrovia': 33387, 'itsy': 33388, 'ruimed': 33389, '🙌🙌': 33390, 'simultaneously': 33391, 'yvette': 33392, 'palermo': 33393, 'jankest': 33394, 'pigwash': 33395, '£119': 33396, '£99': 33397, 'annoucer': 33398, 'weakest': 33399, 'aweek': 33400, 'horned': 33401, 'chock': 33402, 'jayega': 33403, 'cloned': 33404, 'congratulate': 33405, 'beautifully': 33406, 'vs30': 33407, 'dos2': 33408, 'presidents': 33409, '😯': 33410, 'budding': 33411, 'chefs': 33412, 'bodunde': 33413, 'comfiest': 33414, 'enrolling': 33415, 'pixle': 33416, 'constrict': 33417, 'ranting': 33418, 'attestor': 33419, 'mcdonough': 33420, 'qqh5mk': 33421, 'leonie': 33422, 'misdemeanour': 33423, '“no”': 33424, 'inabilty': 33425, 'wrapz': 33426, 'nothings': 33427, 'joana': 33428, 'ofd': 33429, 'fg': 33430, '👍😀': 33431, 'twilight': 33432, 'nerf': 33433, 'espionage': 33434, 'robbery😡': 33435, 'dunedin': 33436, 'whey': 33437, 'soaring': 33438, '😂😭': 33439, 'vikash': 33440, 'maledict': 33441, '👀😊': 33442, 'pixie': 33443, 'erupt': 33444, '🎄😋': 33445, 'stimulant': 33446, 'perspire': 33447, 'declamatory': 33448, 'preethi': 33449, '25kg': 33450, '16myr': 33451, 'dandenong': 33452, 'audrina': 33453, 'propagate': 33454, 'kir': 33455, 'royale': 33456, 'fuzz': 33457, 'nwed': 33458, 'monet': 33459, 'miney': 33460, 'ews': 33461, 'geared': 33462, 'trenches': 33463, '228': 33464, 'unapproved': 33465, 'cush': 33466, 'practicable': 33467, 'subscript': 33468, 'karahi': 33469, 'bangin': 33470, 'trippen': 33471, 'commited': 33472, 'andd': 33473, '“system”': 33474, '38gb': 33475, 'methinks': 33476, 'satsuma': 33477, 'g900t': 33478, 'praxis': 33479, 'felonious': 33480, 'nirvana': 33481, 'cholesterin': 33482, '434th': 33483, 'overbooking': 33484, 'hubert': 33485, 'dab': 33486, 'sheelendra': 33487, 'chump': 33488, 'eliseblake': 33489, '“is': 33490, 'crowne': 33491, 'negligent': 33492, 'marmalade': 33493, 'inconspicuous': 33494, 'foodbar': 33495, '1966': 33496, '448': 33497, 'saphead': 33498, 'phising': 33499, 'investor': 33500, 'benighted': 33501, 'marseille': 33502, 'maintains': 33503, 'krti': 33504, 'sath': 33505, 'leaflets': 33506, '2512': 33507, 'fhr': 33508, 'kond': 33509, 'intiate': 33510, 'mthly': 33511, 'edwina': 33512, 'subscriptio': 33513, 'sanitary': 33514, 'tampons': 33515, 'sagarika': 33516, 'carnforth': 33517, '50”😒😒🤦🏽\\u200d♂️🙄': 33518, 'soundly': 33519, '7537': 33520, 'cranking': 33521, 'sneeze': 33522, 'decsribed': 33523, '150mps': 33524, 'dynamite': 33525, 'kuddos': 33526, 'jami': 33527, 'amazing…': 33528, '😊on': 33529, 'tdtd0p8n61': 33530, 'shahzad': 33531, '152': 33532, 'midle': 33533, '128kb': 33534, 'a3': 33535, '‘brain': 33536, 'fog’': 33537, 'addison’': 33538, 'tlbqes': 33539, 'celsea': 33540, 'ox10': 33541, '9qw': 33542, 'advices': 33543, 'olgpkd': 33544, 'bailed': 33545, 'cstmrs': 33546, 'thnkx': 33547, 'raindrops': 33548, '😙': 33549, 'c5': 33550, 'lapsed': 33551, 'stylers': 33552, 'me£200': 33553, 'sergei': 33554, 'reflectin': 33555, 'esclated': 33556, '“techs”': 33557, 'mayve': 33558, 'evangelist': 33559, 'dispxunt': 33560, 'iphonescam': 33561, 'alucard': 33562, 'maureenhailey': 33563, 'buing': 33564, '155': 33565, 'liters': 33566, 'tais': 33567, 'bootlegged': 33568, 'derivative': 33569, 'headquarter': 33570, 'dailys': 33571, 'weeklys': 33572, 'herlinda': 33573, 'cardigan': 33574, 'rectangular': 33575, 'pauly': 33576, 'charitable': 33577, 'bookmarker': 33578, 'wider': 33579, 'jasmyne': 33580, 'manakin': 33581, 'sabot': 33582, '☎️2day': 33583, 'preetivis20': 33584, 'circumventing': 33585, 'classrooms': 33586, 'veteran’': 33587, 'cruises': 33588, '0min': 33589, 'pander': 33590, 'correctness': 33591, 'insists': 33592, 'suffocating': 33593, '67': 33594, 'pupil': 33595, 'dietcoke': 33596, 'cocacola': 33597, 'clarfy': 33598, 'midterms': 33599, 'homebrewing': 33600, 'donors': 33601, 'brew': 33602, 'peresists': 33603, 'thx😊': 33604, 'you☺': 33605, 'aids': 33606, 'cowcatcher': 33607, 'hexham': 33608, 'forrader': 33609, 'imputed': 33610, 'through🙁': 33611, 'quarry': 33612, 'guilford': 33613, 'congresswoman': 33614, 'notarized': 33615, 'notary': 33616, 'witnesser': 33617, '1star': 33618, 'desirée': 33619, '10a': 33620, 'jailer': 33621, 'holidaays': 33622, 'infonotice': 33623, 'saturday😬': 33624, 'ido': 33625, '🙋⚓🎯💜': 33626, 'snob': 33627, 'decomposing': 33628, '😱😷': 33629, 'tyrone': 33630, 'diva': 33631, '📖': 33632, 'monoxide': 33633, 'resembling': 33634, 'negotiating': 33635, 'entites': 33636, 'answere': 33637, '🙁🙁😢😢': 33638, 'honk': 33639, 'equitable': 33640, 'veiled': 33641, 'shengi': 33642, 'quotidian': 33643, 'seraphic': 33644, 'crawdaddy30': 33645, 'thatcham': 33646, '251': 33647, 'disadvantage': 33648, 'reactions': 33649, 'taged': 33650, 'finaghy': 33651, 'breadstuff': 33652, 'orher': 33653, 'seat”': 33654, '14pc': 33655, '€21': 33656, '€28': 33657, 'holyhead': 33658, '3849': 33659, 'mor': 33660, 'sings': 33661, '🔥🔥🔥🔥': 33662, '😭🤦🏻\\u200d♀️🤦🏻\\u200d♀️🤦🏻\\u200d♀️🤦🏻\\u200d♀️🤦🏻\\u200d♀️🤦🏻\\u200d♀️🤦🏻\\u200d♀️': 33663, 'huluplus': 33664, '£”': 33665, 'premieres': 33666, '8c': 33667, 'beguile': 33668, 'duarte': 33669, 'deciphering': 33670, 'vonverms': 33671, 'reed': 33672, 'cumming': 33673, 'diamonds': 33674, 'glutenfree': 33675, 'cheeseboard': 33676, '😍🎄': 33677, '“eligible': 33678, 'feedback”': 33679, 'creditcards': 33680, 'accountholder': 33681, 'dora': 33682, 'butties': 33683, 'licitly': 33684, 'macchiato': 33685, 'siad': 33686, '‘on’': 33687, '3005': 33688, 'prefers': 33689, 'cfd': 33690, 'sez': 33691, 'smtimes': 33692, 'monition': 33693, 'happens🙄': 33694, 'idek': 33695, '😭😭😭🤔': 33696, 'unremarkable': 33697, 'tempt': 33698, 'indore': 33699, 'ploughshare': 33700, 'huchoki': 33701, 'kulia': 33702, 'gping': 33703, 'tayo': 33704, 'lyfteats': 33705, 'olden': 33706, '😟😟😟😟😟😟😟': 33707, 'strengthened': 33708, '🧡': 33709, 'acs': 33710, 'ruinous': 33711, 'mediaeval': 33712, '☹☹': 33713, 'yokelish': 33714, 'recreational': 33715, 'caiman': 33716, 'moshpit': 33717, 'reboarded': 33718, 'esculation': 33719, '👊🏼': 33720, 'envkq': 33721, 'positioned': 33722, 'transctionid': 33723, 'poly': 33724, 'epis': 33725, 'brethren': 33726, 'fiancés': 33727, 'unedited': 33728, 'deependara': 33729, 'categorically': 33730, 'there’re': 33731, 'wohout': 33732, 'dl2375': 33733, 'wouldve': 33734, '2send': 33735, 'carmine': 33736, 'rollback': 33737, 'a29': 33738, 'paramedics': 33739, 'j2inyh': 33740, 'chanceful': 33741, 'intimidated': 33742, 'rants': 33743, 'lockdown': 33744, 'incredulous': 33745, 'nlcs': 33746, 'fallon': 33747, 'resize': 33748, 'edibility…': 33749, '300mbs': 33750, 'creditsecure': 33751, 'schaumburg': 33752, 'censured😂': 33753, 'habitats': 33754, 'fuckery': 33755, 'nuisance': 33756, 'sups': 33757, 'ryt': 33758, 'sledgehammers': 33759, 'digitaly': 33760, 'publications': 33761, 'skylar': 33762, '632': 33763, 'chuckled': 33764, 'food😭😩': 33765, 'erika': 33766, 'expressions': 33767, '3yo': 33768, 'negativity': 33769, 'instd': 33770, 'madras': 33771, 'bonham': 33772, '👋🏼we': 33773, 'habitat': 33774, 'sainbury': 33775, 'upstream': 33776, '💫👏🏽👏🏽👏🏽👏🏽': 33777, '640x400': 33778, 'evet': 33779, 'c7v': 33780, 'oled': 33781, 'olanrewaju': 33782, 'wholesale': 33783, '0600': 33784, 'miscrosoft': 33785, 'keiron': 33786, 'cindered': 33787, 'terron': 33788, 'fandom': 33789, 'enchiridion': 33790, 'circumvent': 33791, '70bobs': 33792, 'jalg': 33793, 'plzhelp': 33794, 'ashaway': 33795, 'troubleshooted': 33796, '‘whatsapp': 33797, 'notifications’': 33798, 'payne': 33799, 'neds': 33800, 'otger': 33801, 'codeword': 33802, '1580': 33803, 'reposition': 33804, 'maa4': 33805, 'fba': 33806, '🍾👍🏻': 33807, 'swines': 33808, 'sherin': 33809, 'cottage': 33810, 'varkala': 33811, '2181': 33812, 'hinges': 33813, 'alday': 33814, 'kanye’': 33815, '808s': 33816, 'kittens': 33817, 'amirite': 33818, '…leakages': 33819, 'preformed': 33820, '13gb': 33821, 'simplified': 33822, 'costumer”': 33823, 'lorain': 33824, 'besotted': 33825, 'slipstream': 33826, 'omnichannel': 33827, '💞': 33828, '0551': 33829, 'importune': 33830, 'deploys': 33831, 'btls': 33832, '🔥😱😫': 33833, 'carenton': 33834, '5’5': 33835, '6’3': 33836, 'inoperable': 33837, 'fly’': 33838, 'trademore': 33839, 'von': 33840, 'lugbe': 33841, 'nova': 33842, 'jews': 33843, 'normale': 33844, 'illegirl': 33845, 'dramatically': 33846, '😍😭🎅🏻🤶🏻🎄': 33847, 'press’': 33848, '👍🏻😊': 33849, '🕵🏻\\u200d♀️🔍': 33850, 'ralph': 33851, '❤✊': 33852, 'oxygenos': 33853, 'claimng': 33854, 'givn': 33855, 'howevr': 33856, 'purchse': 33857, 'triples': 33858, 'staticky': 33859, 'esim': 33860, 'minty': 33861, 'incinerate': 33862, 'sympathetic': 33863, 'kendra': 33864, '“cast”': 33865, 'raspberries': 33866, 'blueberries': 33867, 'subterfuge': 33868, 'it🖕🏾': 33869, 'klunky': 33870, 'yubal': 33871, '“only': 33872, 'wifi”': 33873, 'maculation': 33874, '“settings”': 33875, 'worthful': 33876, 'did🙄': 33877, 'aa6008': 33878, 'berwick': 33879, '😃💖': 33880, '2080': 33881, '3ish': 33882, 'filo': 33883, 'trolled': 33884, '😤😤😤😤😤': 33885, 'botched': 33886, 'leesburg': 33887, 'coca': 33888, 'teesside': 33889, 'manhandled': 33890, 'seatmate': 33891, 'caribbean': 33892, 'suspects': 33893, 'emaar': 33894, '̇stanbul': 33895, 'bustard': 33896, 'sydenham': 33897, '😌😌': 33898, 'iseriously': 33899, 'whitchurch': 33900, 'some🤬': 33901, 'intercellular': 33902, 'kamlesh': 33903, 'lyfting': 33904, 'enrik': 33905, 'gathered': 33906, 'queued': 33907, 'honoree': 33908, 'obi': 33909, 'fount': 33910, 'appointee': 33911, 'apprehension': 33912, '0avios': 33913, '“lte”': 33914, 'jobo': 33915, 'cobbler': 33916, '😬tom': 33917, 'eplaced': 33918, 'nourish': 33919, 'blushed': 33920, 'peggy': 33921, '7yr': 33922, 'capitulum': 33923, 'myidea': 33924, 'broil': 33925, '“maybe”': 33926, 'be4': 33927, 'fearfulness': 33928, 'rayen': 33929, 'variations': 33930, 'flexuation': 33931, 'fernando': 33932, 'skhdjsjsjdjs': 33933, 'mayra': 33934, '😭😭😭😭💀': 33935, 'husker': 33936, 'stadium😂😂😂': 33937, 'bkd': 33938, 'bhiwandi': 33939, 'interchangeable': 33940, '😓😓😓😓😓😓': 33941, 'cked': 33942, '“let’': 33943, 'se”': 33944, 'crate': 33945, 'discusting': 33946, 'synchronizing': 33947, 'moorish': 33948, 'cerebration': 33949, 'succumbing': 33950, 'jackery': 33951, 'leeks': 33952, '“british”': 33953, 'solder': 33954, '750g': 33955, 'a6ish': 33956, 'amoeba': 33957, 'w7': 33958, 'michal': 33959, 'documentat': 33960, '433': 33961, 'raisins': 33962, 'janson': 33963, 'otto': 33964, 'theophano': 33965, 'emotion': 33966, 'pinche': 33967, 'injuries': 33968, 'lvii': 33969, 'creek': 33970, 'scunvegas': 33971, 'alif': 33972, 'is…sad': 33973, 'tmus': 33974, '🏎️🙌💚': 33975, 'eaters': 33976, 'lachs': 33977, 'unshelve': 33978, 'tfs': 33979, 'codelens': 33980, '“made': 33981, 'note”': 33982, '24pm': 33983, 'madman': 33984, 'mana': 33985, 'definitively': 33986, 'batavia': 33987, 'caption': 33988, 'refit': 33989, '⏳': 33990, '2the': 33991, 'affected😞': 33992, 'photocopy': 33993, 'helly': 33994, 'mimosa': 33995, 'handkerchief': 33996, 'timemachine': 33997, 'chemically': 33998, 'homeboy': 33999, 'footwear': 34000, 'jeffersonville': 34001, 'saladz': 34002, '0890': 34003, 'beige': 34004, '468': 34005, 'zion': 34006, 'kinsperson': 34007, '1906': 34008, 'compares': 34009, '😩😩😭': 34010, 'unplugs': 34011, 'bargains': 34012, 'demoed': 34013, 'monitored': 34014, 'sproutiness': 34015, 'counterbalance': 34016, 'recipt': 34017, 'decipher': 34018, '✈️💙❤️💛': 34019, '💣💥': 34020, 'edbatangan': 34021, 'pum': 34022, 'frizzed': 34023, '9c': 34024, 'rs99': 34025, 'd2h': 34026, 'unfunctioning': 34027, 'loadbalancer': 34028, 'vmss': 34029, 'cli': 34030, 'thows': 34031, 'oncology': 34032, 'structured': 34033, 'adhoc': 34034, 'icey”': 34035, 'roshan': 34036, 'unstopable': 34037, 'retured': 34038, 'malika': 34039, 'apex': 34040, 'ceaselessly': 34041, 'trackers': 34042, 'boyle': 34043, 'hogging': 34044, 'ba0043': 34045, 'shanna': 34046, 'subtle': 34047, 'mow': 34048, 'oman': 34049, 'okinawa': 34050, 'carnegie': 34051, 'getn': 34052, 'kuz': 34053, 'fukkn': 34054, 'cfe': 34055, '100lbs': 34056, 'heckin': 34057, 'prateek': 34058, 'syste': 34059, 'opportunistic': 34060, 'ariana': 34061, 'h1b': 34062, 'warehousescan': 34063, 'since12': 34064, 'syiokimau': 34065, 'lorella': 34066, 'stockyards': 34067, 'تبًا': 34068, 'لل': 34069, 'gtown': 34070, 'caterers': 34071, 'gameface': 34072, 'sate': 34073, 'cartroad': 34074, 'peace2u': 34075, 'usefulness': 34076, 'reallocated': 34077, 'cramps': 34078, 'ached': 34079, 'straws': 34080, 'presides': 34081, 'aabdoloutley': 34082, 'stationery': 34083, 'uner': 34084, 'circumvents': 34085, '🙌🏻💕': 34086, 'seychelles': 34087, '“under': 34088, 'investigation”': 34089, 'accusatory': 34090, '😭😅': 34091, 'groveport': 34092, 'grime': 34093, 'plebe': 34094, 'lop': 34095, 'ak306': 34096, 'brhf2r': 34097, 'bex': 34098, 'kokomo': 34099, 'insanely': 34100, 'showd': 34101, 'bukin': 34102, 'rewiring': 34103, 'aulia': 34104, 'chiptopia': 34105, '🐔': 34106, '0920': 34107, 'hhempstead': 34108, '😩😧': 34109, 'recked': 34110, 'literacy': 34111, 'ba0801': 34112, 'kef': 34113, 'tongued': 34114, 'shod': 34115, '£200': 34116, '2023': 34117, 'overlapping': 34118, 'weard': 34119, 'prelims': 34120, 'shaina': 34121, 'genu': 34122, 'stronly': 34123, 'budapest': 34124, 'antiblack': 34125, '“message”': 34126, 'overtaking': 34127, 'crapcast': 34128, 'breakdowns': 34129, 'especialy': 34130, 'batata': 34131, 'aapka': 34132, 'raag': 34133, 'alaap': 34134, 'dene': 34135, 'lameness': 34136, '4136': 34137, '2say': 34138, '2u': 34139, 'rally': 34140, 'matthierry': 34141, 'trot': 34142, 'noemi': 34143, 'fabricate': 34144, 'contributor': 34145, 'enough…': 34146, 'confused😂': 34147, '3100': 34148, 'intrum': 34149, '👎🏻👎🏻👎🏻': 34150, 'unkillable': 34151, 'safeguard”': 34152, 'too…': 34153, 'pento': 34154, 'pobox': 34155, 'rightful': 34156, 'cruz': 34157, 'feet😤': 34158, 'courage': 34159, 'tenacity': 34160, 'resourcefulness—and': 34161, 'gopi': 34162, 'pmi': 34163, 'chargebacks': 34164, 'shovel': 34165, 'vandals': 34166, 'outed': 34167, 'fisticuffs': 34168, 'thurgood': 34169, 'lizamarie': 34170, 'socked': 34171, 'f8f': 34172, 'dl436': 34173, 'at16': 34174, 'exmouth': 34175, 'lowestoft': 34176, 'cages': 34177, 'inkpad': 34178, 'apologists': 34179, 'raiding': 34180, 'postmate': 34181, 'flare': 34182, 'computed': 34183, 'unnumerable': 34184, 'graticule': 34185, 'sofie': 34186, '😥☹️so': 34187, 'miro': 34188, 'chiming': 34189, 'tcp': 34190, '910': 34191, 'uncongenial': 34192, 'sauce—it’': 34193, 'eforms': 34194, 'ameer': 34195, 'ticks': 34196, 'armband': 34197, 'floored': 34198, 'frauding': 34199, 'committedness': 34200, 'bemused': 34201, 'yhh': 34202, 'nodey': 34203, 'bia': 34204, 'improvised': 34205, 'support”': 34206, 'curbing': 34207, 'arraign': 34208, 'courtroom': 34209, 'servants': 34210, 'involvement': 34211, 'paysheet': 34212, 'ebays': 34213, 'berkhamsted': 34214, 'migrated': 34215, 'wrong😩😡': 34216, 'dispensary': 34217, '1905': 34218, 'wheeling': 34219, 'fluctuations': 34220, 'relations”': 34221, '“suck': 34222, 'fucker”': 34223, 'bakeables': 34224, 'lauch': 34225, 'prodigy': 34226, 'muhfucka': 34227, '20ast': 34228, '1hr15': 34229, '25hr15': 34230, 'immune': 34231, 'rival': 34232, 'comely': 34233, 'kaden': 34234, 'gtfoh': 34235, 'assurnces': 34236, 'fn0qlix4sumosn2tldgk2g': 34237, 'cupcakes': 34238, 'cockroach': 34239, 'carcass': 34240, 'arnold': 34241, 'schwarzenegger': 34242, 'alir': 34243, 'atypically': 34244, 'assemblable': 34245, 'carefree': 34246, 'linzi': 34247, 'unrecognizable': 34248, '🍿❤️🎉': 34249, 'burritos💀☠️': 34250, 'unapologetic': 34251, 'anze': 34252, 'unharness': 34253, 'vesica': 34254, 'abasement': 34255, 'weighs': 34256, 'jetty': 34257, 'polarity': 34258, 'tyou': 34259, 'lpool': 34260, 'kuyper': 34261, 'raphaela': 34262, '£55': 34263, 'charlee': 34264, '8tb': 34265, 'ps2': 34266, 'compatability': 34267, 'looseness': 34268, 'scholar': 34269, 'unfollowed': 34270, 'galilea': 34271, 'peterson': 34272, 'lightsail': 34273, 'brainwash': 34274, 'volatility': 34275, 'tripling': 34276, 'dropboxers': 34277, 'repetitive': 34278, 'intermittently': 34279, 'kindlyn': 34280, 'enlistment': 34281, 'previosuly': 34282, 'assembler': 34283, 'grows': 34284, 'agitated': 34285, 'screwdriver': 34286, 'particle': 34287, 'callously': 34288, 'xt': 34289, 'slothful': 34290, 'prasanjit': 34291, 'tennis': 34292, 'roosevelt': 34293, 'wretchedness': 34294, 'interrogate': 34295, 'westerns': 34296, 'dusseldorf': 34297, 'glom': 34298, 'methadone': 34299, 'cnut': 34300, 'confabulate': 34301, 'manipulator': 34302, 'itin': 34303, 'lever': 34304, '1min': 34305, 'smug': 34306, 'monopolists': 34307, 'apple👍may': 34308, '👓🤔': 34309, 'mujhe': 34310, 'janna': 34311, 'successfull': 34312, 'scrobbled': 34313, '✨🛩✨': 34314, '7640': 34315, 'markings': 34316, 'meeseeks': 34317, '⭐️⭐️⭐️⭐️⭐️': 34318, 'juliann': 34319, 'sassygirlsprobs': 34320, '😂✈️': 34321, 'tate': 34322, '😩🤔🤔🤔': 34323, 'sandesh': 34324, 'zandra': 34325, 'dearth': 34326, '1525': 34327, 'lobbyists': 34328, 'hkg': 34329, '8k': 34330, 'syn': 34331, 'hottest': 34332, 'subsciptions': 34333, '80fornothing': 34334, 'nighted': 34335, 'durban': 34336, 'jozi': 34337, 'airhostesses': 34338, 'chided': 34339, 'sachet': 34340, 'acerbic': 34341, 'sassing': 34342, 'krne': 34343, 'tak': 34344, 'spiced': 34345, 'northwich': 34346, 'kayoed': 34347, 'spence': 34348, '5600': 34349, 'exponent': 34350, 'webinars': 34351, 'carolion': 34352, 'upped': 34353, 'ipconfig': 34354, 'flushdns': 34355, 'netsh': 34356, 'winsock': 34357, 'dissapoint': 34358, 'maryrose': 34359, 'ebs': 34360, '🕖': 34361, 'championed': 34362, 'shitt': 34363, 'tosser': 34364, 'emanation': 34365, 'kevingray': 34366, 'this\\u200b': 34367, 'saniya': 34368, 'sacrificing': 34369, 'tel1': 34370, 'yesday': 34371, 'straiton': 34372, 'elicit': 34373, 'gluhwein': 34374, 'corresponds': 34375, 'unapologetically': 34376, '28k': 34377, 'slapper': 34378, 'piper': 34379, 'nigrum': 34380, 'because…': 34381, 'playmemories': 34382, 'johnanderson': 34383, '💀👽': 34384, 'trting': 34385, 'already‽': 34386, '14hrs': 34387, 'b5nj': 34388, 've0': 34389, 'hiltonhotels': 34390, 'blore': 34391, 'jayanagar': 34392, 'cuddly': 34393, 'aa1568': 34394, '15a': 34395, 'soa': 34396, 'aplenty': 34397, 'nimeweka': 34398, 'ksh50': 34399, 'litterally': 34400, 'unknowledgeable': 34401, 'moccasins': 34402, 'centime': 34403, 'karlee': 34404, 'fender': 34405, 'hitter': 34406, 'renz': 34407, 'giri': 34408, '🙃🙄': 34409, 'pout': 34410, 'feelin': 34411, '“next': 34412, '“enhancing': 34413, 'marketers': 34414, '☕': 34415, 'sensual': 34416, 'uncomplete': 34417, 'transonic': 34418, 'brynn': 34419, 'burns': 34420, 'colleenlicudine': 34421, 'pillars': 34422, 'lapape': 34423, 'sheetal': 34424, 'newtown': 34425, 'dirties': 34426, 'elly': 34427, 'caregiver': 34428, 'careen': 34429, 'hertford': 34430, 'thic': 34431, 'teleport': 34432, 'seafood': 34433, 'hib69c': 34434, 'bniti': 34435, 'pandai': 34436, 'binti': 34437, 'pandak': 34438, 'hallways': 34439, 'schlong': 34440, '£47': 34441, 'breezed': 34442, '🇺🇸🙌🏼': 34443, 'beneath': 34444, 'trimmed': 34445, 'stinger': 34446, 'spoonies': 34447, 'conscience': 34448, 'misspell': 34449, 'rpotentially': 34450, 'evenly': 34451, 'promulgated': 34452, 'cowgate': 34453, 'episodes—they': 34454, 'omw': 34455, 'velo': 34456, '£210': 34457, 'nadia': 34458, 'replugged': 34459, 'cid': 34460, 'job👍🏻': 34461, 'imbalanced': 34462, 'dem': 34463, 'brag': 34464, 'slickdeals': 34465, 'shimapan': 34466, 'rcvng': 34467, 'lnkng': 34468, 'mde': 34469, 'cmplsry': 34470, 'tkn': 34471, 'b17': 34472, 'coments': 34473, 'norcal': 34474, 'sludgy': 34475, 'twtr815': 34476, 'aa677': 34477, 'touchid': 34478, 'righto': 34479, 'yume': 34480, 'braddy': 34481, 'domes': 34482, 'rolo': 34483, 'roa': 34484, 'hilarity': 34485, 'ensues': 34486, 'encroachment': 34487, 'rosharon': 34488, 'garaunteed': 34489, 'scheduler': 34490, 'workflows': 34491, 'windows10upgrade9252': 34492, 'pathos': 34493, 'agust': 34494, 'ba0182': 34495, 'bletchly': 34496, 'eko': 34497, 'bulky': 34498, 'staten': 34499, 'viewable': 34500, 'stavely': 34501, 'rufe': 34502, 'richland': 34503, 'watauga': 34504, 'gloominess': 34505, 'galore': 34506, 'formality': 34507, 'resubscribed': 34508, '2r': 34509, 'placd': 34510, 'center😒': 34511, '148th': 34512, 'anteroom': 34513, 'thksgvg': 34514, 'rdtp': 34515, 'button’': 34516, 'mishandeld': 34517, '00a': 34518, 'ruzi': 34519, 'bakar': 34520, 'onlinetv': 34521, '4got': 34522, 'passwrd': 34523, 'bayleigho': 34524, 'caesar': 34525, 'ands': 34526, '18k': 34527, 'cmr': 34528, 'trudye': 34529, 'alonzow': 34530, 'queens': 34531, 'frenzied': 34532, 'bathing': 34533, 'churlish': 34534, 'vitamins': 34535, 'cancling': 34536, 'andresgt1215': 34537, 'retrain': 34538, 'redspottedhanky': 34539, 'anastasia': 34540, 'clustering': 34541, 'latent': 34542, 'threads': 34543, 'shoking': 34544, 'britten': 34545, 'generals': 34546, 'recommit': 34547, '’ees': 34548, 'slamming': 34549, 'raffles': 34550, '5781': 34551, '“bedtime”': 34552, 'abasi': 34553, 'buyin': 34554, 'manufactory': 34555, 'husbandry': 34556, 'debasement': 34557, 'deforestation': 34558, 'richness': 34559, 'selfishness': 34560, 'tele': 34561, '“cancel': 34562, 'prime”': 34563, 'outtages': 34564, '‘change’': 34565, '583': 34566, 'eke': 34567, 'pt2': 34568, '“yolks': 34569, 'phone🙄': 34570, 'pallets': 34571, 'arwa': 34572, 'krud': 34573, 'kutter': 34574, 'manfully': 34575, '😩🤦🏽\\u200d♀️': 34576, '👶🏻': 34577, 'axs': 34578, 'bathtub': 34579, 'collapsing': 34580, 'utsav': 34581, 'queu': 34582, 'edited': 34583, 'eshopping': 34584, 'fricking': 34585, 'kirstenhartford': 34586, 'panzer': 34587, 'isolating': 34588, 'clsic': 34589, 'bankofamerica': 34590, 'hashbrowns': 34591, 'raph': 34592, 'unenjoyable': 34593, 'immobile': 34594, 'hydrogen': 34595, 'peckham': 34596, '043': 34597, 'adhesive': 34598, 'downcast': 34599, 'katrin': 34600, 'micromillimetre': 34601, 'federally': 34602, 'metallica': 34603, 'discography': 34604, 'runner': 34605, 'crumbs': 34606, 'destine': 34607, 'scales': 34608, 'qtoq': 34609, 'specturm': 34610, 'desaster': 34611, 'directories': 34612, 'possess': 34613, 'seaport': 34614, 'peasants': 34615, 'stannis': 34616, 'cautious': 34617, 'pravalika': 34618, 'doraville': 34619, 'deliv': 34620, 'swage': 34621, 'respecting': 34622, 'rcd': 34623, 'b6': 34624, 'sonic': 34625, '35th': 34626, 'garrison': 34627, 'masala': 34628, 'snn➡️cdg': 34629, '106': 34630, 'alarming': 34631, 'loud😐': 34632, 'speedily': 34633, 'flatly': 34634, 'bish': 34635, 'disorganise': 34636, 'rightclick': 34637, 'sheena': 34638, 'minites': 34639, 'insults': 34640, 'hrss': 34641, 'harit': 34642, '🤰🏼✈️😴': 34643, '40mbps': 34644, 'anushka': 34645, 'pape': 34646, 'danforth': 34647, 'reclamation': 34648, 'misconfigured': 34649, 'ajaxextended': 34650, 'pierpoint': 34651, 'langley': 34652, 'lgg': 34653, 'tmr': 34654, '155mb': 34655, 'st30dm001': 34656, 'faliure': 34657, 'tipple': 34658, 'satish': 34659, 'ambika': 34660, 'nps': 34661, 'grin': 34662, 'englis': 34663, 'baja': 34664, 'seltzer': 34665, 'flavoring': 34666, 'inf': 34667, 'megabox': 34668, 'filler': 34669, 'd26': 34670, 'maul': 34671, 'mcgriddle’': 34672, '😻😻': 34673, 'randpm': 34674, 'earns': 34675, 'drown': 34676, 'cabbies': 34677, 'beanie': 34678, 'tore': 34679, 'doensnt': 34680, 'premiss': 34681, 'arabian': 34682, 'dannah': 34683, 'forw': 34684, '01a': 34685, 'katherinen': 34686, 'amazon❌🚫': 34687, 'benihana': 34688, 'hock': 34689, 'are👌': 34690, '🍛': 34691, '🎉🍰🎉': 34692, '‘braving': 34693, 'wilderness’': 34694, '🤯🤨can’': 34695, 'pressurized': 34696, 'reactor': 34697, 'gullible': 34698, 'chiropteran': 34699, 'clarita': 34700, '“online”': 34701, '“start': 34702, 'capitalizes': 34703, '🙅🏾\\u200d♂️': 34704, 'scurf': 34705, 'maladministration': 34706, 'suggstd': 34707, 'kuku': 34708, 'dl11': 34709, 'bobsleigh': 34710, 'singlet': 34711, 'eec': 34712, 'nuke': 34713, 'christie': 34714, '1¢': 34715, 'preventative': 34716, '512': 34717, '1989': 34718, '“from”': 34719, 'cringing': 34720, 'grieved': 34721, 'colton': 34722, 'intertwined': 34723, 'upturned': 34724, 'melton': 34725, 'wretch': 34726, 'eventhe': 34727, 'chegaram': 34728, 'obrigada': 34729, 'savant': 34730, 'nuttery': 34731, 'me💔💔💔💔': 34732, 'sasha': 34733, 'boden': 34734, 'smog': 34735, '2yrs': 34736, 'fears': 34737, 'crapulence': 34738, '24min': 34739, 'allentown': 34740, 'c9c': 34741, 'carpenters': 34742, '‘halloween’': 34743, 'fumble': 34744, '2mbps': 34745, '“leadership': 34746, 'team”': 34747, 'issue😔': 34748, 'hpsmart': 34749, 'lars': 34750, 'mta': 34751, 'vinaigrette': 34752, 'minister': 34753, 'prehistoric': 34754, 'netgear': 34755, '“lte': 34756, 'esm': 34757, 'emm': 34758, '13”': 34759, '😫😭': 34760, 'mpsea': 34761, 'raciness': 34762, 'whisker': 34763, 'blonde': 34764, 'gentry': 34765, 'dl2437': 34766, 'keele': 34767, '😛😬😬': 34768, 'cropsey': 34769, '288': 34770, 'sagemcgowan': 34771, 'deliveried': 34772, 'industriousness': 34773, 'ravda': 34774, 'bulgaria': 34775, '1738miles': 34776, 'mpg': 34777, 'twit': 34778, 'brice': 34779, 'overreacted': 34780, '👇🏻👇🏻': 34781, 'patreon': 34782, 'shelisa': 34783, 'emily’': 34784, 'modernisation': 34785, '“2': 34786, 'departure”': 34787, 'vape': 34788, 'premisis': 34789, 'bystanders': 34790, 'metrocentre': 34791, 'undersold': 34792, 'aqll': 34793, 'recalls': 34794, 'gplay': 34795, 'henri': 34796, 'bendel': 34797, 'you😄': 34798, 'pond': 34799, 'leicestershire': 34800, '19yr': 34801, 'gbye': 34802, 'myverizon': 34803, 'movie’': 34804, '“unfortunate”': 34805, 'mercii': 34806, 'peachy': 34807, 'receptionist': 34808, 'gibraltar': 34809, 'shrewsburyto': 34810, 'bipeds': 34811, '🌲': 34812, 'mangled': 34813, 'shiz': 34814, 'nits': 34815, 'nationhb': 34816, 'binged': 34817, '310': 34818, 'disfunctional': 34819, 'mammal': 34820, 'hosed': 34821, 'dinged': 34822, 'dride': 34823, 'pinged': 34824, '“special': 34825, 'instructions”': 34826, 'suspiration': 34827, '19sep': 34828, '749': 34829, 'dl2415': 34830, 'service😒': 34831, 'shitbirds': 34832, '15gb': 34833, '…version': 34834, 'and…': 34835, 'vilification': 34836, '510am': 34837, 'geraint': 34838, 'kellogg': 34839, 'scty': 34840, 'theat': 34841, 'molarity': 34842, 'gastropub': 34843, 'crabmeat': 34844, 'croute': 34845, 'mush': 34846, 'pls☺': 34847, '0815': 34848, 'gling': 34849, 'treyach': 34850, '😕😕': 34851, 'hour🤥': 34852, 'john’': 34853, 'flagler': 34854, 'chauffeur': 34855, 'twat': 34856, '🤦🏾\\u200d♂️🤦🏾\\u200d♂️🤦🏾\\u200d♂️': 34857, 'relegate': 34858, 'roasted': 34859, 'absence': 34860, 'flavour☹️': 34861, 'wig': 34862, 'destroys': 34863, 'gustav': 34864, 'canon': 34865, '50rs': 34866, 'moes': 34867, 'ashton': 34868, 'harmonise': 34869, 'wiggles': 34870, '0721': 34871, '0658': 34872, 'stuff”': 34873, 'gummed': 34874, 'fragrance': 34875, 'conservation': 34876, '👌🏾👏🏾😂': 34877, 'meatballs': 34878, 'aftermath': 34879, 'disappointed😒': 34880, 'custody': 34881, 'bafana': 34882, 'justhad': 34883, 'committal': 34884, 'comformation': 34885, 'mindi': 34886, 'nsmart': 34887, 'malayalam': 34888, 'impersonate': 34889, 'stoneleigh': 34890, 'washer': 34891, '23minutes': 34892, '👌😍': 34893, 'debts': 34894, 'amassing': 34895, 'tobi': 34896, 'braulio': 34897, 'deidra': 34898, 'fullsized': 34899, 'nhglyy': 34900, 'omdz': 34901, 'childs': 34902, 'tallahassee': 34903, 'welwyn': 34904, '“despite': 34905, 'euros': 34906, 'manuscripts': 34907, 'shaharita': 34908, '📱😍': 34909, 'desks': 34910, 'dl0460': 34911, 'modeling': 34912, 'fuse': 34913, 'freshest': 34914, 'scientist': 34915, 'tosh': 34916, 'dl6269': 34917, 'rollouts': 34918, 'camel': 34919, 'melcombe': 34920, 'livford': 34921, 'carlilse': 34922, '1819': 34923, 'turtlenecks': 34924, '💛🧡': 34925, '❤️❤️': 34926, 'account”': 34927, 'foliofirst': 34928, 'odinaka': 34929, 'hotspotting': 34930, '240p': 34931, 'witnessing': 34932, 'larne': 34933, 'multigrain': 34934, 'approved28': 34935, 'talkd': 34936, 'centr': 34937, 'tantamounts': 34938, 'maha': 34939, 'rs100': 34940, 'gurugram': 34941, 'riddle': 34942, 'lustrous': 34943, 'accelerate': 34944, 'pvr': 34945, 'nebo': 34946, '1cent': 34947, 'finitely': 34948, 'preloaded': 34949, 'kalyan': 34950, 'cintia': 34951, '301': 34952, 'woodlands': 34953, 'hartland': 34954, '458s': 34955, 'recital': 34956, 'etas': 34957, '24h': 34958, 'kwen': 34959, 'hbb': 34960, 'brownlow': 34961, 'ba1491': 34962, '😑😤😒': 34963, 'romaine': 34964, 'disappointedwith': 34965, '😟😤': 34966, 'householder': 34967, 'gford': 34968, 'right😍😍': 34969, 'hipperholme': 34970, '114': 34971, 'esurient': 34972, 'bucketful': 34973, '2me': 34974, 'cate': 34975, 'collectible': 34976, 'brazilian': 34977, 'supoirtem': 34978, 'bahi': 34979, 'cosmetics': 34980, 'atrocities': 34981, 'leeches': 34982, 'kmart': 34983, 'haymarket': 34984, 'debut': 34985, 'oci': 34986, 'immi': 34987, '1p': 34988, 'turrible': 34989, 'pagers': 34990, 'entryway': 34991, 'chinaware': 34992, 'irascible': 34993, 'strangulate': 34994, 'arlita': 34995, 'nonoperational': 34996, 'overprice': 34997, 'modernization': 34998, 'cassettes': 34999, '1980': 35000, 'glam': 35001, 'goo': 35002, 'sleaford': 35003, 'mongo': 35004, 'propperly': 35005, 'nauseum': 35006, 'equipt': 35007, 'ramprakash': 35008, 'foregather': 35009, 'woolton': 35010, 'roller': 35011, 'skating': 35012, 'boardwalk': 35013, 'reclined': 35014, 'nazis': 35015, '🐖': 35016, 'cma': 35017, 'barracks': 35018, 'capterra': 35019, '“permission': 35020, 'mutating': 35021, 'there’ll': 35022, 'relish': 35023, 'dafaq': 35024, 'frugal': 35025, 'corprit': 35026, 'htm': 35027, 'seaton': 35028, 'dl1697': 35029, 'myriad': 35030, 'xone': 35031, 'renovate': 35032, 'congested': 35033, '🚽': 35034, 'finola': 35035, 'verzon': 35036, '48h': 35037, 'thriving': 35038, 'mcafee': 35039, '535dx': 35040, 'permutations': 35041, 'experice': 35042, '687': 35043, 'akexi': 35044, 'dudde': 35045, 'ritennow': 35046, 'gbp': 35047, '😭😭☠️': 35048, 'millionaire': 35049, 'wofford': 35050, 'smarta': 35051, 'nikol': 35052, 'vastral': 35053, 'abe': 35054, 'aisi': 35055, 'taisi': 35056, 'dimag': 35057, 'dahi': 35058, 'deutschmark': 35059, 'felling': 35060, 'alreaday': 35061, 'driblet': 35062, 'roseville': 35063, 'verizonup': 35064, 'hierarchy': 35065, 'highs': 35066, 'pauline': 35067, 'socialist': 35068, 'willi': 35069, 'cribbing': 35070, 'ques': 35071, 'frustating': 35072, 'reagrding': 35073, 'nohelp': 35074, 'joins': 35075, 'taylorbarnett': 35076, 'interfacing': 35077, 'theodore': 35078, 'gtd': 35079, 'autotune': 35080, 'discernment': 35081, 'grenades': 35082, 'durin': 35083, 'bezel': 35084, 'teamed': 35085, 'rivulet': 35086, 'brekkie': 35087, 'apparantly': 35088, '20days': 35089, 'bling': 35090, 'vales': 35091, 'verga': 35092, 'alldayhavoc': 35093, 'taramasalata': 35094, 'greyish': 35095, '👻👻': 35096, '😭🖕🏼': 35097, 'unfermented': 35098, 'reillyleritz': 35099, '669': 35100, '21km': 35101, '458': 35102, 'cider': 35103, '50twitter': 35104, 'kingham': 35105, 'vins': 35106, 'gs7': 35107, 'misunderstood': 35108, 'tez': 35109, '“wasting': 35110, 'iconic': 35111, 'usikmg': 35112, 'vault': 35113, 'noww': 35114, 'mwas': 35115, 'lolo': 35116, 'hongkong': 35117, 'l68da5': 35118, '425': 35119, 'stitch': 35120, 'pinpoint': 35121, '8604': 35122, '4x4': 35123, 'mimo': 35124, 'sporadically': 35125, 'tweak': 35126, 'handers': 35127, 'echosonic': 35128, 'koko': 35129, 'mpumalanga': 35130, 'ba6234': 35131, 'not😠': 35132, 'fizzing': 35133, 'slovenly': 35134, 'anjali': 35135, 'ourself': 35136, '630': 35137, 'evrydae': 35138, 'cn5bb2j1k4': 35139, 'tup': 35140, 'flints': 35141, 'commander': 35142, 'ingrid': 35143, 'pressuring': 35144, 'pubs': 35145, 'scrat': 35146, 'tanyafalandysz': 35147, 'gut': 35148, 'wrenching': 35149, 'greyhound': 35150, '💃🏻🕺🏼': 35151, 'vociferous': 35152, 'kaylie': 35153, 'dissemble': 35154, '“️”been': 35155, '😒😕': 35156, 'nyes': 35157, 'or1': 35158, 'castaigne': 35159, 'displayport': 35160, '😡😡😡👿👿👿😤😤😤': 35161, '140k': 35162, 'ikhsani': 35163, 'enkindle': 35164, 'stucks': 35165, 'michaelphillips': 35166, 'belto': 35167, 'nshit': 35168, 'garland': 35169, 'conformation': 35170, 'bcd': 35171, 'ntel': 35172, 'seasoned': 35173, 'puri': 35174, 'istanbul': 35175, '😩👎': 35176, 'bitesquad': 35177, '“incorrect”': 35178, 'disorders': 35179, 'dissertation': 35180, 'dysprosium': 35181, 'rut': 35182, 'willoughby': 35183, 'overwarn': 35184, 'meteorologically': 35185, 'fishfingers': 35186, 'prague': 35187, 'ffdp': 35188, '👍😊🙂': 35189, 'ebony': 35190, 'ashlie': 35191, '😜😆😆': 35192, 'cinderella': 35193, 'cheetah': 35194, 'angery': 35195, 'sesion': 35196, 'fullfil': 35197, 'exaggerates': 35198, 'husk': 35199, '30secs': 35200, 'colonial': 35201, 'dublin’': 35202, 'perch': 35203, 'zurich': 35204, '£146': 35205, 'garfield': 35206, 'adore': 35207, 'poached': 35208, 'controlls': 35209, '🙈🧀👍🏼': 35210, '❤️😍': 35211, 'camilla': 35212, 'crawled': 35213, 'rs1500': 35214, '1of': 35215, 'shi': 35216, '70s': 35217, '1009': 35218, 'comparing': 35219, '😀😀😀😀😀': 35220, 'beerbohm': 35221, 'assail': 35222, 'cobham': 35223, '😭cox': 35224, 'depositing': 35225, '68th': 35226, 'unwind': 35227, 'climber': 35228, 'grenada': 35229, 'balcony': 35230, 'rowan': 35231, 'oakengates': 35232, 'albrighton': 35233, 'reneging': 35234, 'poss': 35235, 'ta😀': 35236, '6118': 35237, '6090': 35238, 'mitchell': 35239, '012': 35240, 'realeases': 35241, 'swiftie': 35242, '👏👏👏': 35243, 'phoneline': 35244, 'ferocity': 35245, 'arya': 35246, 'wre': 35247, 'pugs': 35248, 'brutus': 35249, 'elkridge': 35250, '1460': 35251, 'ott': 35252, '🎄🎁🎄🎁': 35253, 'craptastic': 35254, 'pinball': 35255, '‘thing’': 35256, 'vein': 35257, '👩\\u200d✈️': 35258, '👨\\u200d✈️': 35259, 'geraldb': 35260, 'conversate': 35261, 'ostracism': 35262, '1510': 35263, 'bhx': 35264, 'leagal': 35265, 'theodolite': 35266, '0😎🎁': 35267, 'rewarded': 35268, 'cryptokeys': 35269, '1140': 35270, 'unlooked': 35271, 'ios9': 35272, 'ios8': 35273, '2249': 35274, 'warns': 35275, 'yussuf': 35276, 'facetiming': 35277, 'schlepped': 35278, 'arkley': 35279, 'anm': 35280, 'warmth': 35281, 'ak6137': 35282, 'auths': 35283, 'depts': 35284, 'mans': 35285, '😭😂': 35286, 'lavi': 35287, 'problens': 35288, 'larley': 35289, 'dour': 35290, 'gravitation': 35291, 'nimble': 35292, 'reunification': 35293, 'constructed': 35294, 'achomplished': 35295, 'michellej': 35296, 'toodling': 35297, 'taxiways': 35298, 'yuge': 35299, 'pleasse': 35300, 'spoons': 35301, 'respose': 35302, 'shoobie': 35303, 'odering': 35304, 'reponse': 35305, 'tey': 35306, 'schooltime': 35307, '✨🤗✨💞✨🤗': 35308, 'constellations': 35309, 'smilie': 35310, 'grandads': 35311, 'lovley': 35312, 'roderick': 35313, 'selves': 35314, 'pri': 35315, '255pm': 35316, 'streaked': 35317, 'abysm': 35318, 'nono': 35319, '4t': 35320, 'tmob': 35321, 'bronchitis': 35322, 'monetarily': 35323, '“sponsor”': 35324, 'niwaulize': 35325, 'yenu': 35326, 'ivi': 35327, 'madharau': 35328, 'fulani': 35329, 'poa': 35330, 'spoiler': 35331, 'carolinas': 35332, 'd410a': 35333, 'mollycoddler': 35334, 'plunderer': 35335, 'reston': 35336, '81': 35337, '“works': 35338, 'intended”': 35339, 'zubair': 35340, 'ba0354': 35341, 'replan': 35342, 'ingenuity': 35343, 'nitpicky': 35344, 'handbrake': 35345, 'doku': 35346, 'succes': 35347, '🖕🏼🖕🏼🖕🏼': 35348, 'inexperienced': 35349, 'inimical': 35350, 'riveting': 35351, 'brussel': 35352, 'pronouncing': 35353, 'mockingly': 35354, 'mock': 35355, 'togethers': 35356, '✌🏻✌🏻✌🏻': 35357, 'snickers': 35358, '😰😰': 35359, 'chandru': 35360, 'chadwick': 35361, 'ingathering': 35362, 'pta': 35363, '😨😨😨': 35364, 'b41': 35365, 'pungently': 35366, 'unflavoured': 35367, '“solution”': 35368, 'platyrrhine’': 35369, 'kinsman': 35370, 'matriculate': 35371, 'diurnal': 35372, 'cranked': 35373, '2nite': 35374, 'bottomland': 35375, 'buzzing': 35376, 'wowee': 35377, 'pickings': 35378, 'lfas': 35379, 'webmaster': 35380, 'checkbox': 35381, 'blandest': 35382, 'phan': 35383, 'delores': 35384, 'overcook': 35385, 'nipper': 35386, 'uncalled': 35387, 'wowza': 35388, 'meadowhall': 35389, 'informational': 35390, 'dcpi': 35391, 'bethnal': 35392, 'nightbus': 35393, 'refer1': 35394, '“dead': 35395, 'zone”': 35396, 'payu': 35397, 'implies': 35398, 'exhaustion': 35399, 'repelling': 35400, '🍒': 35401, 'wsm': 35402, 'circumstantial': 35403, 'fawn': 35404, 'blister': 35405, 'grimsby': 35406, 'coleslaw': 35407, 'builtin': 35408, 'whatnow': 35409, 'oppressed': 35410, 'loathe': 35411, 'ep1': 35412, 'ep4': 35413, 'tlc': 35414, 'setlat': 35415, 'penalizing': 35416, 'pastors': 35417, 'rdu➡️sju': 35418, '😅👍🏼': 35419, 'cashew': 35420, 'orchis': 35421, 'hairsbreadth': 35422, '👏🏼🥂😃👯\\u200d♂️🎄': 35423, 'suero': 35424, 'griselidis': 35425, 'showdown': 35426, 'chanel': 35427, '848': 35428, 'rva': 35429, 'ip6s': 35430, 'grinds': 35431, '🎧📡enjoy': 35432, 'heffa': 35433, 'loaner': 35434, 'altercations': 35435, 'tv4': 35436, 'britany': 35437, 'inordinately': 35438, '84year': 35439, 'soloution': 35440, 'parenthesis': 35441, 'whirligig': 35442, 'mylitta': 35443, 'jostle': 35444, 'hi’ya': 35445, '🙋🏻you': 35446, 'surfed': 35447, 'regoingfor': 35448, 'dl1859': 35449, 'lbutton': 35450, 'frivolous': 35451, 'dup': 35452, 'nous': 35453, 'markaylae': 35454, 'cyclist': 35455, 'shatakshi': 35456, 'slag': 35457, 'unsocial': 35458, 'saddo': 35459, 'hardman': 35460, '2h45': 35461, 'vram': 35462, 'heartwarming': 35463, 'mortem': 35464, '505': 35465, 'yosemite': 35466, 'rustique': 35467, 'parisienne': 35468, 'stephie': 35469, 'magsara': 35470, '300cr': 35471, 'fustian': 35472, 'atl➡️phx': 35473, '“failed': 35474, 'data”': 35475, 'lumpy': 35476, 'ellipsis': 35477, 'boppers': 35478, '🥕💕🥕': 35479, 'optimum': 35480, 'you🌹❤️': 35481, 'naitik': 35482, 'charging\\u200b': 35483, 'charater': 35484, 'gamora': 35485, 'nebula': 35486, 'scarlet': 35487, 'widow': 35488, 'jewelry': 35489, 'carrell': 35490, '😂👍': 35491, '100kbps': 35492, 'onspot': 35493, 'manchesterpicc': 35494, '£169': 35495, '£338': 35496, 'israeli': 35497, 'butbis': 35498, '817': 35499, '💔💔💔💔': 35500, 'drainpipe': 35501, 'rollbacks': 35502, 'aziz': 35503, 'paras': 35504, 'talisman': 35505, 'dj6': 35506, 'ame': 35507, 'tacolneston': 35508, 'mills': 35509, '“usual': 35510, 'congestion”': 35511, 'tang': 35512, 'clan': 35513, 'fidel': 35514, 'impulsive': 35515, 'perturb': 35516, 'javid': 35517, 'thankyou！': 35518, 'eggcellent': 35519, 'padlock': 35520, 'projected': 35521, 'nilly': 35522, 'enslaving': 35523, 'ked': 35524, 'stephens': 35525, '💚🙌🏻': 35526, '143': 35527, 'dumbfounded': 35528, 'rachem': 35529, 'firenze': 35530, 'pisa': 35531, 'retentiveness': 35532, 'designedly': 35533, 'bastian': 35534, 'uberwav': 35535, 'emailbox': 35536, '😡😠😡': 35537, '60mbs': 35538, '9gb': 35539, 'zahrah': 35540, 'punches': 35541, '69€': 35542, 'weinstein': 35543, '“share': 35544, '0805x': 35545, '245': 35546, '226': 35547, 'badmon': 35548, 'ting': 35549, 'pinot': 35550, 'noir': 35551, '710': 35552, 'nadeen': 35553, 'feasibly': 35554, 'shield': 35555, 'jugg': 35556, '🤬😤': 35557, 'brentford': 35558, 'barnes': 35559, 'others’': 35560, '🤷🏼\\u200d♀️🤦🏼\\u200d♀️': 35561, 'cosmic': 35562, 'rita': 35563, 'mahabalipuram': 35564, '🤔🤔🙋🙋🇨🇦🇨🇦☀️☀️🤡🤡🎪🎪🆗🆗👍👍💎💎🎸🎸📚📚🦉🦉😎😎📡📡😂😂🙏🙏🤔🤔🌹🌹': 35565, '😂😂😳😳😎😎📝📝❤️❤️📚📚🙏🙏': 35566, 'cornucopia': 35567, '8’': 35568, 'neglected': 35569, 'needy': 35570, 'placeholder': 35571, '‘goo': 35572, 'gl’': 35573, 'help😄😄': 35574, 'jhonny': 35575, 'rfdtv': 35576, '0xd': 35577, 'immediatly': 35578, 'utilizing': 35579, 'lfty': 35580, 'disappearance': 35581, 'henriot': 35582, 'rajeshwary': 35583, 'inconsistently': 35584, 'rrkt8p': 35585, 'papatrack': 35586, 'aviod': 35587, 'alondra': 35588, '👏👏👏bravo': 35589, 'consistency👌this': 35590, '🍔': 35591, 'hengrove': 35592, '2108': 35593, 'duologue': 35594, 'knocks': 35595, 'cking': 35596, '40p': 35597, 'drilled': 35598, 'reuben': 35599, 'paltry': 35600, 'loma': 35601, 'safemode': 35602, 'epical': 35603, 'decay': 35604, 'apartment😕': 35605, 'iphone5s': 35606, 'somerford': 35607, 'bea…': 35608, 'faares': 35609, 'transcontinental': 35610, 'sitara': 35611, 'vinay': 35612, 'cheapen': 35613, 'janesville': 35614, 'klok': 35615, 'thawt': 35616, 'credential': 35617, '1y': 35618, '3m': 35619, 'swordplay': 35620, 'wager': 35621, 'hothers': 35622, 'abhorrent': 35623, '4n': 35624, 'kingsway': 35625, 'pak': 35626, 'muslims': 35627, 'maryellen': 35628, 'ubhave': 35629, 'njc4vj': 35630, 'procurement': 35631, 'snr': 35632, 'friar': 35633, 'sidharth': 35634, 'tequila': 35635, '“landing': 35636, 'shot”': 35637, '🤣👏🏼': 35638, 'merci': 35639, '“apple”': 35640, 'napkin': 35641, 'employments': 35642, 'thre': 35643, 'wildwin': 35644, 'lifting': 35645, 'assualt': 35646, 'rifles': 35647, 'shotguns': 35648, 'tonia': 35649, 'vivan': 35650, 'graze': 35651, 'sheds': 35652, 'n134': 35653, 'sola': 35654, 'irs': 35655, 'manure': 35656, '😡fix': 35657, 'publius': 35658, 'aelius': 35659, 'hadrianus': 35660, 'iraki': 35661, 'airstrike': 35662, '60hours': 35663, 'implied': 35664, 'rentals': 35665, 'fay': 35666, 'r6': 35667, 'accessory': 35668, '😭😭😭😭but': 35669, 'charlton': 35670, 'one4allas': 35671, 'assuage': 35672, 'jessamyn': 35673, 'pranavmishra5582': 35674, 'sergeant': 35675, 'financially': 35676, 'blizzard': 35677, 'highchair': 35678, 'straps': 35679, 'barrel': 35680, 'mounted': 35681, 'mounts': 35682, 'zizzis': 35683, '💁🏼': 35684, '😫😫😫😫': 35685, 'austell': 35686, '250gms': 35687, '60p': 35688, 'rises': 35689, 'rajat': 35690, 'brah': 35691, 'mariel': 35692, 'anymore😡😡😡😡😡': 35693, 'contactable': 35694, 'wrestle': 35695, 'stretched': 35696, 'hopoli': 35697, 'marvin': 35698, 'cuisine': 35699, 'availableness': 35700, 'katelyn': 35701, 'rax': 35702, 'barclay': 35703, 'inflict': 35704, 'snog': 35705, 'beelzebub': 35706, 'wedu': 35707, 'ezeiza': 35708, 'shadab': 35709, 'witted': 35710, 'reaper': 35711, 'belizon': 35712, 'divyang': 35713, 'storing': 35714, '12a': 35715, '184': 35716, '71st': 35717, 'naaring': 35718, 'victimised': 35719, 'mugging': 35720, 'kingx': 35721, 'westgate': 35722, 'loggin': 35723, 'hollie': 35724, 'globorrow': 35725, 'owing': 35726, '🤦🏽\\u200d♀️🤦🏽\\u200d♀️🤦🏽\\u200d♀️🤦🏽\\u200d♀️': 35727, 'fayetteville': 35728, 'waited😂': 35729, 'humiliating': 35730, 'reprimand': 35731, 'missionary': 35732, 'slimming': 35733, 'ppi': 35734, 'reqstd': 35735, 'actress': 35736, 'auditions': 35737, 'gamelobby': 35738, 'laterr': 35739, 'we´re': 35740, 'cheques': 35741, 'them😒': 35742, 'danton': 35743, 'assessing': 35744, 'dementia': 35745, 'freedata': 35746, 'contrary': 35747, 'makeshift': 35748, 'parlour': 35749, 'cum': 35750, 'upholding': 35751, 'shooter': 35752, 'speci': 35753, 'aircool': 35754, 'overspending': 35755, '👠': 35756, 'seedlip': 35757, 'kristian': 35758, '2540': 35759, 'goodluck': 35760, '1drive': 35761, 'time😩': 35762, 'numerical': 35763, '⚡️': 35764, 'yakup': 35765, 'bestbuy': 35766, 'keyrings': 35767, 'bluewater': 35768, 'droppedmysmartphonegalaxy': 35769, 'wastryinggettingoutofthe': 35770, 'wasnotout': 35771, 'broadb': 35772, 'airman': 35773, 'acer': 35774, 'w1': 35775, 'canley': 35776, 'dons': 35777, 'yahtzee': 35778, '15f': 35779, 'dearly': 35780, 'chooser': 35781, 'shortest': 35782, 'muhurat': 35783, 'pundit': 35784, 'veracious': 35785, 'nem': 35786, 'neh': 35787, 'oaklawn': 35788, '6716': 35789, 'pendolinos': 35790, 'flitwick': 35791, 'civilise': 35792, '“resident”who': 35793, 'shh🤫': 35794, 'rofl': 35795, 'gren': 35796, 'mitcham': 35797, 'jct': 35798, 'fergus': 35799, 'downslope': 35800, 'personel': 35801, 'fulfillmnt': 35802, 'tare': 35803, 'ctr': 35804, 'dampened': 35805, 'lahe': 35806, 'filmstruck': 35807, 'emphasis': 35808, 'agmt': 35809, 'cribbs': 35810, 'liska': 35811, '15mb': 35812, 'pokers': 35813, 'misstake': 35814, 'serenaded': 35815, 'steakbake': 35816, 'gristle🤢🤢🤢come': 35817, 'hometime': 35818, '🇬🇧😴🥂🥂': 35819, 'suvarnabhumi': 35820, 'procedural': 35821, 'contented': 35822, 'plussed': 35823, 'cooies': 35824, 'puss': 35825, 'memorialise': 35826, 'imaps': 35827, 'balling': 35828, 'watch’': 35829, '2284': 35830, 'feelsbadman': 35831, 'barrow': 35832, 'furness': 35833, 'flubbed': 35834, 'lessen': 35835, 'lessing': 35836, 'vedio': 35837, '530am': 35838, '20piece': 35839, 'egal': 35840, 'saireh': 35841, 'statestreet': 35842, 'skimps': 35843, 'hostility': 35844, 'fukinghell': 35845, 'vs15': 35846, 'sorcerer': 35847, '😩bye': 35848, 'squirt': 35849, 'weekend”': 35850, 'loseer': 35851, '9m': 35852, 'youtubers': 35853, 'lacto': 35854, 'ovo': 35855, 'kinsly': 35856, 'corgi': 35857, 'ingrain': 35858, 'thugga': 35859, 'trapstar': 35860, 'brady': 35861, 'on🤔': 35862, 'lms': 35863, 'fraiche': 35864, '25gb': 35865, 'wsreset': 35866, 'windowsapps': 35867, 'terrified': 35868, 'bandmate': 35869, 'fvf': 35870, 'ethnical': 35871, 'couchsurfed': 35872, 'packer': 35873, 'woolwich': 35874, 'great😒': 35875, 'lea': 35876, 'modicum': 35877, '🚝☕️🍸': 35878, 'marines': 35879, '5£': 35880, 'headspace': 35881, 'testis': 35882, 'rocker': 35883, 'retan': 35884, 't1': 35885, '826': 35886, 'optimise': 35887, 'primitivism': 35888, 'becaus': 35889, 'reformatting': 35890, '1055': 35891, 'bruins': 35892, 'subscription”': 35893, '40am': 35894, 'leshaybaker': 35895, 'ak717': 35896, 'affaire': 35897, 'brielle': 35898, 'hungover': 35899, 'stigmatize': 35900, 'aquaguard': 35901, 'yet👎😏': 35902, 'neteller': 35903, 'deh': 35904, 'visacard': 35905, '1654': 35906, 'fished': 35907, 'cheezyjokez': 35908, 'dl4064': 35909, 'portobello': 35910, 'siddhi': 35911, 'finsbury': 35912, 'rokki': 35913, 'nantgarw': 35914, 'maciej': 35915, 'sqaure': 35916, 'bindon': 35917, 'gentile': 35918, 'promissed': 35919, 'solvin': 35920, 'frnz': 35921, '3z': 35922, '£36': 35923, 'unseeable': 35924, 'wiener': 35925, 'rici': 35926, 'abhishekg': 35927, 'elsa': 35928, 'aplied': 35929, 'spawning': 35930, 'spawned': 35931, '“review”': 35932, 'tansactions': 35933, 'iwireless': 35934, 'miminal': 35935, '5290': 35936, 'expressjet': 35937, 'dipesh': 35938, 'northwest': 35939, 'ninth': 35940, '2late': 35941, 'ophelia’': 35942, 'posessions': 35943, 'priya': 35944, 'allanah': 35945, 'dl2540': 35946, 'nyree': 35947, '1ze2w': 35948, '£51': 35949, 'ambient': 35950, 'multicity': 35951, 'fructify': 35952, 'relationships': 35953, 'barclays': 35954, 'luggages': 35955, '2799': 35956, '1499': 35957, '1199': 35958, 'ringback': 35959, 'maandamano': 35960, 'teargas': 35961, 'officious': 35962, 'jones': 35963, '14yrs': 35964, 'drip': 35965, 'scrnshot': 35966, 'wavered': 35967, 'banal': 35968, 'lineament': 35969, 'more😔': 35970, 'porthmadog': 35971, 'irene': 35972, 'nitwits': 35973, 'sheryl': 35974, '661': 35975, 'goran': 35976, 'whym': 35977, 'curlicue': 35978, 'saloon': 35979, 'nicety': 35980, 'catie': 35981, 'alaskan': 35982, 'yeadon': 35983, 'unappealing': 35984, 'exhibited': 35985, 'aplomb': 35986, 'bullshits': 35987, 'sucks😧': 35988, 'varistors': 35989, 'movs': 35990, 'alok': 35991, 'freddie': 35992, 'donutty': 35993, 'ebayers': 35994, 'canc': 35995, 'craziness': 35996, 'ridwaan': 35997, 'opelika': 35998, 'tabi': 35999, 'passkey': 36000, 'olmstead': 36001, 'noriyuki': 36002, 'funfair': 36003, 'lettering': 36004, 'ojb': 36005, 'consistantly': 36006, '😭😩': 36007, 'wait🙄🙄🙄🙄': 36008, 'mnc': 36009, 'discontent': 36010, 'hesitating': 36011, 'raved': 36012, 'dived': 36013, 'melvat': 36014, 'veey': 36015, '9ut': 36016, 'a350’': 36017, 'martens': 36018, 'curtesy': 36019, 'misc': 36020, 'cleverness': 36021, 'annetra': 36022, 'datv': 36023, '😬🙄': 36024, 'peat': 36025, 'bog': 36026, 'redesigned': 36027, '✈️feat': 36028, 'remotes': 36029, 'turnin': 36030, '‼️‼️‼️‼️‼️‼️‼️‼️‼️‼️‼️‼️‼️‼️‼️‼️‼️‼️‼️‼️‼️‼️‼️‼️‼️‼️': 36031, 'lajuan': 36032, 'adorbs': 36033, 'chive': 36034, 'prog': 36035, '🎵': 36036, 'bootable': 36037, 'obstructive': 36038, 'snottily': 36039, '☺️☺️': 36040, 'inwondered': 36041, 'synology': 36042, 'campbeltown': 36043, 'mags': 36044, '3292': 36045, 'garw': 36046, 'respek': 36047, 'deeze': 36048, 'kerrin': 36049, 'obligate': 36050, 'iits': 36051, 'tif': 36052, 'off😂': 36053, 'lansrk': 36054, 'freezers': 36055, '9560': 36056, 'discreet': 36057, 'possessions': 36058, 'frys': 36059, 'cheddington': 36060, 'numeric': 36061, 'erro': 36062, 'neve': 36063, 'stijn': 36064, '889': 36065, 'duchess': 36066, 'comcastcares': 36067, 'bellicose': 36068, 'broadside': 36069, 'pertis': 36070, 'beaulieu': 36071, 'disused': 36072, 'invitesfor': 36073, 'busters': 36074, 'rangers': 36075, '7ish': 36076, 'snowing': 36077, 'ugliness': 36078, 'hillary': 36079, '489k': 36080, 'kib': 36081, 'vance': 36082, 'rabidity': 36083, 'granola': 36084, '10kms': 36085, 'swarovski': 36086, 'dryers': 36087, 'buffett': 36088, 'repacking': 36089, 'barbaric': 36090, 'header': 36091, 'brooms': 36092, 'westcroft': 36093, 'lomick': 36094, 'excrete': 36095, 'bicycle': 36096, 'please…': 36097, 'abate': 36098, 'tryon': 36099, 'sentenced': 36100, 'interviews': 36101, 'stresses': 36102, 'cu': 36103, 'ttl3e2': 36104, 'randa': 36105, 'tires': 36106, 'replyin': 36107, '0655': 36108, 'vareity': 36109, '—telling': 36110, 'rubenhernandez': 36111, '👨\\u200d⚕️💚': 36112, 'madhukar': 36113, 'dialogues': 36114, 'squirrels': 36115, 'consulted': 36116, 'ignorantly': 36117, 'persona': 36118, 'aggravate': 36119, 'saveral': 36120, 'sutherland': 36121, 'gangan': 36122, '158': 36123, 'gawd': 36124, 'family😂😂': 36125, 'lj60k96usc': 36126, 'ba9233': 36127, 'nba2k18': 36128, 'kits': 36129, 'chane': 36130, 'hitmarkers': 36131, 'persil': 36132, 'keegan': 36133, 'complainted': 36134, 'softwere': 36135, 'marital': 36136, 'harmony': 36137, 'venn': 36138, 'uqbah': 36139, 'coordinator': 36140, 'pulp': 36141, 'latley': 36142, '☺️🎯': 36143, 'sheik': 36144, 'thery': 36145, 'assosiated': 36146, '😶😶😶😶': 36147, 'gimmie': 36148, 'utilised': 36149, 'stalk': 36150, 'unsated': 36151, 'dl167': 36152, 'poncho': 36153, 'painless': 36154, 'palpebra': 36155, 'fen': 36156, 'outlaw': 36157, 'tattered': 36158, 'blinker': 36159, 'whitelisted': 36160, 'instructing': 36161, 'pocatello': 36162, 'skirts': 36163, '🎀': 36164, 'decs': 36165, 'far😕': 36166, 'lbz': 36167, 'airgo': 36168, 'septa': 36169, 'cursed': 36170, 'comeback': 36171, '😲😍': 36172, 'firework': 36173, 'fixed‼️‼️': 36174, 'randavi': 36175, 'nric': 36176, '565': 36177, 'bvn': 36178, 'hayatie': 36179, 'prioritized': 36180, 'jinnie': 36181, 'tipoff': 36182, 'shayan': 36183, 'retuned': 36184, '09pm': 36185, '🤔😰': 36186, 'barton': 36187, 'needwood': 36188, 'disrespectfuk': 36189, 'renton': 36190, 'hellom': 36191, '12mins': 36192, 'scariest': 36193, 'nameservers': 36194, 'doer': 36195, '5134': 36196, '0130': 36197, 'painfull': 36198, 'aircon': 36199, 'boobed': 36200, 'aa1379': 36201, 'elephantine': 36202, 'coventry’': 36203, 'ventura': 36204, 'jaci': 36205, 'disloyally': 36206, '1ios': 36207, 'browbeat': 36208, 's20': 36209, 'nontextual': 36210, 'caseyn': 36211, 'sidestep': 36212, 'boastful': 36213, '185': 36214, 'contemn': 36215, 'ghoul': 36216, 'leger': 36217, 'recos': 36218, '4061': 36219, 'darion': 36220, 'menlo': 36221, 'revolves': 36222, 'question👀': 36223, 'timelessness': 36224, '3️⃣8️⃣8️⃣': 36225, '🏊': 36226, 'maycee': 36227, 'multicoloured': 36228, 'sophisticated': 36229, 'yellows': 36230, 'pastels': 36231, 'stream”': 36232, 'aysha': 36233, 'screened': 36234, 'pershian': 36235, 'ezitag': 36236, '‘send’': 36237, 'trespasses': 36238, 'pressures': 36239, 'jordyn': 36240, 'g4637b02a': 36241, 'ivy': 36242, 'pegi': 36243, 'unboarded': 36244, 'reboard': 36245, 'eachother': 36246, 'hakim': 36247, '1541': 36248, 'conductors': 36249, '😞😞': 36250, 'embargo': 36251, 'leggings': 36252, 'betas': 36253, 'zebulon': 36254, 'butterscotch': 36255, 'tdbank': 36256, 'cath': 36257, 'after…': 36258, 'installed😡😡': 36259, 'meagre': 36260, 'hvng': 36261, 'computer…any': 36262, '₹25': 36263, 'summarily': 36264, '2325': 36265, 'eyebrows': 36266, '😬🤣': 36267, 'comedic': 36268, 'airline’': 36269, 'rostered': 36270, 'unwellness': 36271, 'mala': 36272, 'glop': 36273, 'snax': 36274, '1000000': 36275, 'aa4145': 36276, 'sidetrack': 36277, 'filpkart': 36278, 'faff': 36279, 'conciliate': 36280, 'gurion': 36281, 'pkt': 36282, '🙌🙌hurry': 36283}\n",
      "(72000, 50)\n",
      "[[ 276   60  354 ...    0    0    0]\n",
      " [   3   10   26 ...    0    0    0]\n",
      " [   4  175  984 ...    0    0    0]\n",
      " ...\n",
      " [ 158  542  376 ...    0    0    0]\n",
      " [ 339    2    3 ...    0    0    0]\n",
      " [  38 7022   17 ...    0    0    0]]\n"
     ]
    }
   ],
   "source": [
    "from keras.preprocessing.text import Tokenizer\n",
    "from keras.preprocessing.sequence import pad_sequences\n",
    "\n",
    "if use_tokenizer:\n",
    "    # Apply preprocessing before tokenization\n",
    "    x_train = x_train.swifter.apply(preproc_for_model)\n",
    "    x_test = x_test.swifter.apply(preproc_for_model)\n",
    "\n",
    "    # Add 1 vocabulary space for OOV (out-of-vocabulary) word\n",
    "    max_vocab += 1\n",
    "\n",
    "    # There's no empty token for one hot encoding (only OOV)\n",
    "    # https://www.tensorflow.org/api_docs/python/tf/keras/preprocessing/text/Tokenizer\n",
    "    tokenizer = Tokenizer(num_words = max_vocab, oov_token='[UNK]')\n",
    "\n",
    "    # Build vocabulary based on texts (only the most frequent words will be saved)\n",
    "    # Will generate word index (vocabulary), word index must match between training and test data\n",
    "    tokenizer.fit_on_texts(x_train)\n",
    "    # \"text_to_sequences\" will transform words to its index (like int mode in TextVectorization layer)\n",
    "    # To transform words to other forms (TF-IDF, etc) use \"texts_to_matrix\" instead\n",
    "    x_train = tokenizer.texts_to_sequences(x_train)\n",
    "\n",
    "    # Don't use \"fit_on_texts\" on test data, because the word index (vocabulary) will be regenerated again\n",
    "    # If the vocabulary between training and test data doesn't match, the model will have a bad accuracy\n",
    "    # We only need to use \"texts_to_sequences\", any unknown word will be converted to OOV (index 1)\n",
    "    x_test = tokenizer.texts_to_sequences(x_test)\n",
    "\n",
    "    # Make sure all arrays have the same length (will follow the longest sentence if maxlen is not specified)\n",
    "    # TextVectorization will use post-padding by default (uncustomizable), so we apply the same for reproducibility\n",
    "    # Setting max length is optional, but by setting it, we can use a standardized model input shape\n",
    "    # The length should be less/equal than the longest sentence, setting more will only increase memory usage\n",
    "    x_train = pad_sequences(x_train, padding = 'post', truncating = 'post', maxlen = max_len) \n",
    "    x_test = pad_sequences(x_test, padding = 'post', truncating = 'post', maxlen = max_len)\n",
    "\n",
    "    print(tokenizer.word_index)\n",
    "    print(x_train.shape)\n",
    "    print(x_train)"
   ]
  },
  {
   "cell_type": "code",
   "execution_count": 33,
   "metadata": {},
   "outputs": [],
   "source": [
    "import tensorflow as tf\n",
    "import keras\n",
    "\n",
    "# Encoding to interpret the text (to be passed to the model)\n",
    "# Some encodings can remove \"unique\" characters such as emojis (e.g. latin-1)\n",
    "encoding = 'utf-8'\n",
    "\n",
    "# This is a hacky function to automate text preprocessing as part of the model\n",
    "# There is no need to apply preprocessing separately (unless you use Tokenizer)\n",
    "def custom_standardization(input_data):\n",
    "    # Skip if the layer is just initialized (no data yet)\n",
    "    if tf.is_symbolic_tensor(input_data): return input_data\n",
    "\n",
    "    # Convert tensor to Numpy's array (for easier manipulation)\n",
    "    # The array will have byte as it's data type\n",
    "    input_data = input_data.numpy()\n",
    "\n",
    "    \"\"\" # TODO Apply vectorization\n",
    "    for i in range(len(input_data)):\n",
    "        # Apply preprocessing\n",
    "        # Convect byte to string and vice versa\n",
    "        input_data[i] = bytes(\n",
    "            preproc_for_model(input_data[i].decode('utf-8')),\n",
    "            'utf-8'\n",
    "        ) \"\"\"\n",
    "\n",
    "    __preproc_for_model = np.vectorize(\n",
    "        lambda sentence: bytes(\n",
    "            # Please change to \"preproc_all\" instead for unseen data\n",
    "            # Since we did sentiment analysis earlier, \"preproc_useless_info\" is already applied\n",
    "            # So all that's left is to apply \"preproc_for_model\" (remove punctuations, etc)\n",
    "            preproc_for_model(sentence.decode(encoding)),\n",
    "            encoding\n",
    "        ),\n",
    "        cache = True\n",
    "    )\n",
    "\n",
    "    # Appply preprocessing and convert back Numpy's byte array to tensor\n",
    "    input_data = __preproc_for_model(input_data)\n",
    "    input_data = tf.convert_to_tensor(input_data)\n",
    "\n",
    "    return input_data"
   ]
  },
  {
   "cell_type": "code",
   "execution_count": 34,
   "metadata": {},
   "outputs": [
    {
     "name": "stdout",
     "output_type": "stream",
     "text": [
      "WARNING:tensorflow:From c:\\Users\\Dhika\\Documents\\Projects\\Proto\\Python\\NLP_Cust\\.venv\\Lib\\site-packages\\keras\\src\\backend.py:873: The name tf.get_default_graph is deprecated. Please use tf.compat.v1.get_default_graph instead.\n",
      "\n",
      "WARNING:tensorflow:From c:\\Users\\Dhika\\Documents\\Projects\\Proto\\Python\\NLP_Cust\\.venv\\Lib\\site-packages\\keras\\src\\utils\\tf_utils.py:492: The name tf.ragged.RaggedTensorValue is deprecated. Please use tf.compat.v1.ragged.RaggedTensorValue instead.\n",
      "\n",
      "Vocabulary: ['', '[UNK]', 'is', 'the', 'service', 'not', 'The', '🤩', 'you', 'so-so,', 'so', 'rude!!!', 'provided', 'guy', 'good', 'especially', 'either', 'customer', 'contacted', 'company', 'but', 'best,', 'bad', 'at', 'all,', 'Your', 'NOT', 'I', 'GOOD'] \n",
      "\n",
      "Output vector: tf.Tensor([], shape=(3, 0), dtype=int64)\n"
     ]
    }
   ],
   "source": [
    "# 2 spaces will be reserved to for empty word and OOV (out-of-vocabulary)\n",
    "# Unlike Tokenizer which only take 1 vocabulary space (OOV only)\n",
    "if not use_tokenizer: max_vocab += 2\n",
    "\n",
    "# Based on the docs, Tokenizer is already deprecated, use TextVectorization instead\n",
    "# TextVectorization can integrate preprocessing (standardization) function such as part of the layer\n",
    "# https://www.tensorflow.org/api_docs/python/tf/keras/layers/TextVectorization\n",
    "# https://www.tensorflow.org/guide/keras/preprocessing_layers\n",
    "vectorization_layer = keras.layers.TextVectorization(\n",
    "    # Low vocabulary may affect accuracy, while high vocabulary can affect complexity & memory usage\n",
    "    max_tokens = max_vocab,\n",
    "    # \"lower_and_strip_punctuation\", \"lower\", \"strip_punctuation\", None, or custom function\n",
    "    # FIXME Currently, the custom function won't affect the vocabulary list (lowercase won't be applied, etc)\n",
    "    standardize = custom_standardization,\n",
    "    # Use 2 or higher to possibly detect idioms, negation, slang words, etc\n",
    "    # None means no N-grams when splitting words aka 1-gram\n",
    "    ngrams = None,\n",
    "    # Either \"int\" (index array), \"multi_hot\" (0/1 array), \"count\" (count array), or \"tf_idf\" (ratio array)\n",
    "    # Use \"int\" to minimize array size, but may be a burden for computation later (e.g. multiplication)\n",
    "    output_mode = 'int',\n",
    "    # Apply post-padding (all zeros) to each array up to max tokens, ignored if using \"int\" mode\n",
    "    # Warning: will consume a large amount of memory if the vocabulary list is huge\n",
    "    # Regardless it's used or not, all arrays will always have uniform length\n",
    "    pad_to_max_tokens = False,\n",
    "    # Limit or set array size for each sample, only applies to \"int\" mode\n",
    "    # Useful to further reduce memory usage and limit garbage words, but can affect accuracy\n",
    "    # If the array size is less than the specified length, post-padding will be applied\n",
    "    # And if it is bigger than embedding input size, truncation will be applied\n",
    "    output_sequence_length = False,\n",
    "    # Encoding to interpret the text\n",
    "    # Some encodings can remove \"unique\" characters such as emojis (e.g. latin-1)\n",
    "    encoding = encoding,\n",
    "    # Layer name (optional)\n",
    "    name = 'text_vectorization'\n",
    ")\n",
    "\n",
    "text = [\n",
    "    'Your company is the best, especially the service you provided 🤩',\n",
    "    'The customer service is so-so, not good but not bad either',\n",
    "    'The service is NOT GOOD at all, the guy I contacted is so rude!!!'\n",
    "]\n",
    "\n",
    "# Experiment with the hyperparameters above, then test the result\n",
    "vectorization_layer.adapt(text)\n",
    "print('Vocabulary:', vectorization_layer.get_vocabulary(), '\\n')\n",
    "print('Output vector:', vectorization_layer(text))"
   ]
  },
  {
   "cell_type": "markdown",
   "metadata": {},
   "source": [
    "Note: Currently, the custom standardization function won't affect the vocabulary list (lowercase won't be applied, etc). I have filled an issue here: [#62653](https://github.com/tensorflow/tensorflow/issues/62653). In the meantime, we will use `Tokenizer` function instead of the `TextVectorization` layer."
   ]
  },
  {
   "cell_type": "code",
   "execution_count": 35,
   "metadata": {},
   "outputs": [],
   "source": [
    "if not use_tokenizer:\n",
    "    # Rebuild the vocabulary using the whole training data (no need to adapt the test data)\n",
    "    # If the vocabulary between training and test data is different, the model will be confused\n",
    "    vectorization_layer.adapt(x_train)\n",
    "    print(vectorization_layer.vocabulary_size)"
   ]
  },
  {
   "cell_type": "code",
   "execution_count": 36,
   "metadata": {},
   "outputs": [
    {
     "name": "stdout",
     "output_type": "stream",
     "text": [
      "WARNING:tensorflow:From c:\\Users\\Dhika\\Documents\\Projects\\Proto\\Python\\NLP_Cust\\.venv\\Lib\\site-packages\\keras\\src\\backend.py:6642: The name tf.nn.max_pool is deprecated. Please use tf.nn.max_pool2d instead.\n",
      "\n",
      "Model: \"sequential\"\n",
      "_________________________________________________________________\n",
      " Layer (type)                Output Shape              Param #   \n",
      "=================================================================\n",
      " lambda (Lambda)             (None, 50)                0         \n",
      "                                                                 \n",
      " embedding (Embedding)       (None, 50, 32)            384032    \n",
      "                                                                 \n",
      " conv1d (Conv1D)             (None, 50, 32)            1056      \n",
      "                                                                 \n",
      " max_pooling1d (MaxPooling1  (None, 25, 32)            0         \n",
      " D)                                                              \n",
      "                                                                 \n",
      " bidirectional (Bidirection  (None, 128)               49664     \n",
      " al)                                                             \n",
      "                                                                 \n",
      " dropout (Dropout)           (None, 128)               0         \n",
      "                                                                 \n",
      " dense (Dense)               (None, 128)               16512     \n",
      "                                                                 \n",
      " dense_1 (Dense)             (None, 64)                8256      \n",
      "                                                                 \n",
      " dense_2 (Dense)             (None, 3)                 195       \n",
      "                                                                 \n",
      "=================================================================\n",
      "Total params: 459715 (1.75 MB)\n",
      "Trainable params: 459715 (1.75 MB)\n",
      "Non-trainable params: 0 (0.00 Byte)\n",
      "_________________________________________________________________\n"
     ]
    }
   ],
   "source": [
    "# Reset Keras layers/models to their initial state\n",
    "keras.backend.clear_session()\n",
    "\n",
    "# Set model input shape\n",
    "if use_tokenizer:\n",
    "    # Sentences already vectorized\n",
    "    input_shape = (x_train.shape[1],)\n",
    "    input_dtype = tf.int64\n",
    "else:\n",
    "    # Still just sentences\n",
    "    input_shape = (1,)\n",
    "    input_dtype = tf.string\n",
    "\n",
    "# https://keras.io/examples/nlp/text_classification_from_scratch\n",
    "model = keras.models.Sequential([\n",
    "    keras.layers.Input(shape = input_shape, dtype = input_dtype),\n",
    "\n",
    "    # TODO Make a custom layer subclass instead of using lambda\n",
    "    # keras.layers.Lambda(custom_standardization),\n",
    "    keras.layers.Lambda(lambda x: x if use_tokenizer else vectorization_layer(x)),\n",
    "    # vectorization_layer,\n",
    "\n",
    "    # Truncation may be applied if the array size is longer than input length\n",
    "    keras.layers.Embedding(input_dim = max_vocab, output_dim = 32, input_length = max_len),\n",
    "\n",
    "    keras.layers.Conv1D(filters = 32, kernel_size = 1, padding = 'same', activation = 'relu'),\n",
    "    keras.layers.MaxPooling1D(pool_size = 2),\n",
    "\n",
    "    keras.layers.Bidirectional(keras.layers.LSTM(units = 64)),\n",
    "    keras.layers.Dropout(rate = 0.4),\n",
    "\n",
    "    keras.layers.Dense(units = 128, activation = 'relu'),\n",
    "    keras.layers.Dense(units = 64, activation = 'relu'),\n",
    "\n",
    "    # Positive, neutral, negative sentiment (3 classes)\n",
    "    keras.layers.Dense(units = 3, activation = 'softmax'),\n",
    "])\n",
    "\n",
    "model.summary()"
   ]
  },
  {
   "cell_type": "markdown",
   "metadata": {},
   "source": [
    "#### **Begin Model Training**"
   ]
  },
  {
   "cell_type": "code",
   "execution_count": 54,
   "metadata": {},
   "outputs": [],
   "source": [
    "import json\n",
    "\n",
    "# Encoder to save model training history\n",
    "class NumpyEncoder(json.JSONEncoder):\n",
    "    def default(self, obj):\n",
    "        # Some Numpy objects can't be encoded to json directly\n",
    "        if isinstance(obj, np.ndarray): return obj.tolist()\n",
    "        elif isinstance(obj, np.float32): return float(obj)\n",
    "        return super().default(self, obj)\n",
    "\n",
    "# =======================\n",
    "# Callback Function\n",
    "# =======================\n",
    "\n",
    "# https://www.tensorflow.org/api_docs/python/tf/keras/callbacks/ModelCheckpoint\n",
    "checkpoint = keras.callbacks.ModelCheckpoint(\n",
    "    # Don't save as keras if using the lambda layer\n",
    "    filepath = f'misc/model.tf',\n",
    "    monitor = 'val_acc',\n",
    "    mode = 'max',\n",
    "    save_best_only = True,\n",
    "    save_weights_only = False,\n",
    "    verbose = 1\n",
    ")\n",
    "\n",
    "# https://keras.io/api/callbacks/reduce_lr_on_plateau/\n",
    "reduce_lr = keras.callbacks.ReduceLROnPlateau(\n",
    "    monitor = 'val_loss',\n",
    "    patience = 5,\n",
    "    factor = 0.5,\n",
    "    min_lr = 0.0001,\n",
    "    verbose = 1\n",
    ")\n",
    "\n",
    "# Data must be shuffled if you want to use early stopping\n",
    "# https://www.tensorflow.org/api_docs/python/tf/keras/callbacks/EarlyStopping\n",
    "early_stopping = keras.callbacks.EarlyStopping(\n",
    "    monitor = 'val_loss',\n",
    "    min_delta = 0,\n",
    "    patience = 10,\n",
    "    restore_best_weights = True,\n",
    "    verbose = 1\n",
    ")\n",
    "\n",
    "# =======================\n",
    "# Training Model\n",
    "# =======================\n",
    "\n",
    "model.compile(\n",
    "    optimizer = keras.optimizers.Adam(),\n",
    "    # Change loss depending on the label type (one hot/binary) and preferred output (probability/label)\n",
    "    # Sparse categorical = probability (e.g. [0.5 0.3 0.2]), categorical = label (e.g. [1 0 0])\n",
    "    # Use \"from_logits = False\" if the output is already normalized (e.g. using softmax)\n",
    "    loss = keras.losses.SparseCategoricalCrossentropy(from_logits = False),\n",
    "    metrics = [ keras.metrics.SparseCategoricalAccuracy(name = 'acc') ]\n",
    ")\n",
    "\n",
    "# Try to load existing model first\n",
    "if os.path.isfile(f'misc/model.hist'):\n",
    "    is_training = False\n",
    "    model = keras.models.load_model(f'misc/model.tf')\n",
    "    with open(f'misc/model.hist') as hist:\n",
    "        history = json.load(hist)\n",
    "else:\n",
    "    is_training = True\n",
    "    # Train model from beginning\n",
    "    train = model.fit(\n",
    "        x_train,\n",
    "        y_train,\n",
    "        epochs = 50,\n",
    "        validation_data = (x_test, y_test),\n",
    "        # Weight model akan tersimpan otomatis lewat callbacks\n",
    "        callbacks = [ checkpoint, early_stopping, reduce_lr ],\n",
    "        verbose = 1\n",
    "    )\n",
    "    # Restore the best model from training (not always the last epoch)\n",
    "    model = keras.models.load_model(f'misc/model.tf')\n",
    "    # Save the model training history\n",
    "    with open(f'misc/model.hist', 'w') as hist:\n",
    "        json.dump(train.history, hist, cls = NumpyEncoder)\n",
    "    history = train.history"
   ]
  },
  {
   "cell_type": "code",
   "execution_count": 55,
   "metadata": {},
   "outputs": [
    {
     "data": {
      "application/vnd.plotly.v1+json": {
       "config": {
        "plotlyServerURL": "https://plot.ly"
       },
       "data": [
        {
         "mode": "markers+lines",
         "name": "Akurasi Training",
         "type": "scatter",
         "x": [
          0,
          1,
          2,
          3,
          4,
          5,
          6,
          7,
          8,
          9,
          10,
          11,
          12
         ],
         "y": [
          0.8117222189903259,
          0.8883888721466064,
          0.909166693687439,
          0.9242500066757202,
          0.9347361326217651,
          0.9432083368301392,
          0.9502639174461365,
          0.9572916626930237,
          0.9678750038146973,
          0.9729305505752563,
          0.9760833382606506,
          0.9777916669845581,
          0.9798471927642822
         ]
        },
        {
         "mode": "markers+lines",
         "name": "Akurasi Validasi",
         "type": "scatter",
         "x": [
          0,
          1,
          2,
          3,
          4,
          5,
          6,
          7,
          8,
          9,
          10,
          11,
          12
         ],
         "y": [
          0.8671666383743286,
          0.879111111164093,
          0.8852221965789795,
          0.8808333277702332,
          0.8851110935211182,
          0.886888861656189,
          0.8820555806159973,
          0.8819999823570251,
          0.8845555830001831,
          0.8874444670677185,
          0.8932777915000916,
          0.8963889074325562,
          0.9035555410385132
         ]
        },
        {
         "mode": "markers+lines",
         "name": "Loss Training",
         "type": "scatter",
         "x": [
          0,
          1,
          2,
          3,
          4,
          5,
          6,
          7,
          8,
          9,
          10,
          11,
          12
         ],
         "y": [
          0.45184534788131714,
          0.2933630347251892,
          0.24300414323806763,
          0.20238570868968964,
          0.17472270131111145,
          0.15430906414985657,
          0.13603024184703827,
          0.11923821270465851,
          0.08927366137504578,
          0.07638479024171829,
          0.06853815913200378,
          0.06271500140428543,
          0.056979358196258545
         ]
        },
        {
         "mode": "markers+lines",
         "name": "Loss Validasi",
         "type": "scatter",
         "x": [
          0,
          1,
          2,
          3,
          4,
          5,
          6,
          7,
          8,
          9,
          10,
          11,
          12
         ],
         "y": [
          0.33644649386405945,
          0.3098336458206177,
          0.29636165499687195,
          0.3294074833393097,
          0.3376861810684204,
          0.3520996868610382,
          0.3571693003177643,
          0.3889974355697632,
          0.46180805563926697,
          0.49555885791778564,
          0.5488675832748413,
          0.6274638772010803,
          0.6224164962768555
         ]
        }
       ],
       "layout": {
        "hoverlabel": {
         "namelength": -1
        },
        "hovermode": "x unified",
        "template": {
         "data": {
          "bar": [
           {
            "error_x": {
             "color": "#2a3f5f"
            },
            "error_y": {
             "color": "#2a3f5f"
            },
            "marker": {
             "line": {
              "color": "#E5ECF6",
              "width": 0.5
             },
             "pattern": {
              "fillmode": "overlay",
              "size": 10,
              "solidity": 0.2
             }
            },
            "type": "bar"
           }
          ],
          "barpolar": [
           {
            "marker": {
             "line": {
              "color": "#E5ECF6",
              "width": 0.5
             },
             "pattern": {
              "fillmode": "overlay",
              "size": 10,
              "solidity": 0.2
             }
            },
            "type": "barpolar"
           }
          ],
          "carpet": [
           {
            "aaxis": {
             "endlinecolor": "#2a3f5f",
             "gridcolor": "white",
             "linecolor": "white",
             "minorgridcolor": "white",
             "startlinecolor": "#2a3f5f"
            },
            "baxis": {
             "endlinecolor": "#2a3f5f",
             "gridcolor": "white",
             "linecolor": "white",
             "minorgridcolor": "white",
             "startlinecolor": "#2a3f5f"
            },
            "type": "carpet"
           }
          ],
          "choropleth": [
           {
            "colorbar": {
             "outlinewidth": 0,
             "ticks": ""
            },
            "type": "choropleth"
           }
          ],
          "contour": [
           {
            "colorbar": {
             "outlinewidth": 0,
             "ticks": ""
            },
            "colorscale": [
             [
              0,
              "#0d0887"
             ],
             [
              0.1111111111111111,
              "#46039f"
             ],
             [
              0.2222222222222222,
              "#7201a8"
             ],
             [
              0.3333333333333333,
              "#9c179e"
             ],
             [
              0.4444444444444444,
              "#bd3786"
             ],
             [
              0.5555555555555556,
              "#d8576b"
             ],
             [
              0.6666666666666666,
              "#ed7953"
             ],
             [
              0.7777777777777778,
              "#fb9f3a"
             ],
             [
              0.8888888888888888,
              "#fdca26"
             ],
             [
              1,
              "#f0f921"
             ]
            ],
            "type": "contour"
           }
          ],
          "contourcarpet": [
           {
            "colorbar": {
             "outlinewidth": 0,
             "ticks": ""
            },
            "type": "contourcarpet"
           }
          ],
          "heatmap": [
           {
            "colorbar": {
             "outlinewidth": 0,
             "ticks": ""
            },
            "colorscale": [
             [
              0,
              "#0d0887"
             ],
             [
              0.1111111111111111,
              "#46039f"
             ],
             [
              0.2222222222222222,
              "#7201a8"
             ],
             [
              0.3333333333333333,
              "#9c179e"
             ],
             [
              0.4444444444444444,
              "#bd3786"
             ],
             [
              0.5555555555555556,
              "#d8576b"
             ],
             [
              0.6666666666666666,
              "#ed7953"
             ],
             [
              0.7777777777777778,
              "#fb9f3a"
             ],
             [
              0.8888888888888888,
              "#fdca26"
             ],
             [
              1,
              "#f0f921"
             ]
            ],
            "type": "heatmap"
           }
          ],
          "heatmapgl": [
           {
            "colorbar": {
             "outlinewidth": 0,
             "ticks": ""
            },
            "colorscale": [
             [
              0,
              "#0d0887"
             ],
             [
              0.1111111111111111,
              "#46039f"
             ],
             [
              0.2222222222222222,
              "#7201a8"
             ],
             [
              0.3333333333333333,
              "#9c179e"
             ],
             [
              0.4444444444444444,
              "#bd3786"
             ],
             [
              0.5555555555555556,
              "#d8576b"
             ],
             [
              0.6666666666666666,
              "#ed7953"
             ],
             [
              0.7777777777777778,
              "#fb9f3a"
             ],
             [
              0.8888888888888888,
              "#fdca26"
             ],
             [
              1,
              "#f0f921"
             ]
            ],
            "type": "heatmapgl"
           }
          ],
          "histogram": [
           {
            "marker": {
             "pattern": {
              "fillmode": "overlay",
              "size": 10,
              "solidity": 0.2
             }
            },
            "type": "histogram"
           }
          ],
          "histogram2d": [
           {
            "colorbar": {
             "outlinewidth": 0,
             "ticks": ""
            },
            "colorscale": [
             [
              0,
              "#0d0887"
             ],
             [
              0.1111111111111111,
              "#46039f"
             ],
             [
              0.2222222222222222,
              "#7201a8"
             ],
             [
              0.3333333333333333,
              "#9c179e"
             ],
             [
              0.4444444444444444,
              "#bd3786"
             ],
             [
              0.5555555555555556,
              "#d8576b"
             ],
             [
              0.6666666666666666,
              "#ed7953"
             ],
             [
              0.7777777777777778,
              "#fb9f3a"
             ],
             [
              0.8888888888888888,
              "#fdca26"
             ],
             [
              1,
              "#f0f921"
             ]
            ],
            "type": "histogram2d"
           }
          ],
          "histogram2dcontour": [
           {
            "colorbar": {
             "outlinewidth": 0,
             "ticks": ""
            },
            "colorscale": [
             [
              0,
              "#0d0887"
             ],
             [
              0.1111111111111111,
              "#46039f"
             ],
             [
              0.2222222222222222,
              "#7201a8"
             ],
             [
              0.3333333333333333,
              "#9c179e"
             ],
             [
              0.4444444444444444,
              "#bd3786"
             ],
             [
              0.5555555555555556,
              "#d8576b"
             ],
             [
              0.6666666666666666,
              "#ed7953"
             ],
             [
              0.7777777777777778,
              "#fb9f3a"
             ],
             [
              0.8888888888888888,
              "#fdca26"
             ],
             [
              1,
              "#f0f921"
             ]
            ],
            "type": "histogram2dcontour"
           }
          ],
          "mesh3d": [
           {
            "colorbar": {
             "outlinewidth": 0,
             "ticks": ""
            },
            "type": "mesh3d"
           }
          ],
          "parcoords": [
           {
            "line": {
             "colorbar": {
              "outlinewidth": 0,
              "ticks": ""
             }
            },
            "type": "parcoords"
           }
          ],
          "pie": [
           {
            "automargin": true,
            "type": "pie"
           }
          ],
          "scatter": [
           {
            "fillpattern": {
             "fillmode": "overlay",
             "size": 10,
             "solidity": 0.2
            },
            "type": "scatter"
           }
          ],
          "scatter3d": [
           {
            "line": {
             "colorbar": {
              "outlinewidth": 0,
              "ticks": ""
             }
            },
            "marker": {
             "colorbar": {
              "outlinewidth": 0,
              "ticks": ""
             }
            },
            "type": "scatter3d"
           }
          ],
          "scattercarpet": [
           {
            "marker": {
             "colorbar": {
              "outlinewidth": 0,
              "ticks": ""
             }
            },
            "type": "scattercarpet"
           }
          ],
          "scattergeo": [
           {
            "marker": {
             "colorbar": {
              "outlinewidth": 0,
              "ticks": ""
             }
            },
            "type": "scattergeo"
           }
          ],
          "scattergl": [
           {
            "marker": {
             "colorbar": {
              "outlinewidth": 0,
              "ticks": ""
             }
            },
            "type": "scattergl"
           }
          ],
          "scattermapbox": [
           {
            "marker": {
             "colorbar": {
              "outlinewidth": 0,
              "ticks": ""
             }
            },
            "type": "scattermapbox"
           }
          ],
          "scatterpolar": [
           {
            "marker": {
             "colorbar": {
              "outlinewidth": 0,
              "ticks": ""
             }
            },
            "type": "scatterpolar"
           }
          ],
          "scatterpolargl": [
           {
            "marker": {
             "colorbar": {
              "outlinewidth": 0,
              "ticks": ""
             }
            },
            "type": "scatterpolargl"
           }
          ],
          "scatterternary": [
           {
            "marker": {
             "colorbar": {
              "outlinewidth": 0,
              "ticks": ""
             }
            },
            "type": "scatterternary"
           }
          ],
          "surface": [
           {
            "colorbar": {
             "outlinewidth": 0,
             "ticks": ""
            },
            "colorscale": [
             [
              0,
              "#0d0887"
             ],
             [
              0.1111111111111111,
              "#46039f"
             ],
             [
              0.2222222222222222,
              "#7201a8"
             ],
             [
              0.3333333333333333,
              "#9c179e"
             ],
             [
              0.4444444444444444,
              "#bd3786"
             ],
             [
              0.5555555555555556,
              "#d8576b"
             ],
             [
              0.6666666666666666,
              "#ed7953"
             ],
             [
              0.7777777777777778,
              "#fb9f3a"
             ],
             [
              0.8888888888888888,
              "#fdca26"
             ],
             [
              1,
              "#f0f921"
             ]
            ],
            "type": "surface"
           }
          ],
          "table": [
           {
            "cells": {
             "fill": {
              "color": "#EBF0F8"
             },
             "line": {
              "color": "white"
             }
            },
            "header": {
             "fill": {
              "color": "#C8D4E3"
             },
             "line": {
              "color": "white"
             }
            },
            "type": "table"
           }
          ]
         },
         "layout": {
          "annotationdefaults": {
           "arrowcolor": "#2a3f5f",
           "arrowhead": 0,
           "arrowwidth": 1
          },
          "autotypenumbers": "strict",
          "coloraxis": {
           "colorbar": {
            "outlinewidth": 0,
            "ticks": ""
           }
          },
          "colorscale": {
           "diverging": [
            [
             0,
             "#8e0152"
            ],
            [
             0.1,
             "#c51b7d"
            ],
            [
             0.2,
             "#de77ae"
            ],
            [
             0.3,
             "#f1b6da"
            ],
            [
             0.4,
             "#fde0ef"
            ],
            [
             0.5,
             "#f7f7f7"
            ],
            [
             0.6,
             "#e6f5d0"
            ],
            [
             0.7,
             "#b8e186"
            ],
            [
             0.8,
             "#7fbc41"
            ],
            [
             0.9,
             "#4d9221"
            ],
            [
             1,
             "#276419"
            ]
           ],
           "sequential": [
            [
             0,
             "#0d0887"
            ],
            [
             0.1111111111111111,
             "#46039f"
            ],
            [
             0.2222222222222222,
             "#7201a8"
            ],
            [
             0.3333333333333333,
             "#9c179e"
            ],
            [
             0.4444444444444444,
             "#bd3786"
            ],
            [
             0.5555555555555556,
             "#d8576b"
            ],
            [
             0.6666666666666666,
             "#ed7953"
            ],
            [
             0.7777777777777778,
             "#fb9f3a"
            ],
            [
             0.8888888888888888,
             "#fdca26"
            ],
            [
             1,
             "#f0f921"
            ]
           ],
           "sequentialminus": [
            [
             0,
             "#0d0887"
            ],
            [
             0.1111111111111111,
             "#46039f"
            ],
            [
             0.2222222222222222,
             "#7201a8"
            ],
            [
             0.3333333333333333,
             "#9c179e"
            ],
            [
             0.4444444444444444,
             "#bd3786"
            ],
            [
             0.5555555555555556,
             "#d8576b"
            ],
            [
             0.6666666666666666,
             "#ed7953"
            ],
            [
             0.7777777777777778,
             "#fb9f3a"
            ],
            [
             0.8888888888888888,
             "#fdca26"
            ],
            [
             1,
             "#f0f921"
            ]
           ]
          },
          "colorway": [
           "#636efa",
           "#EF553B",
           "#00cc96",
           "#ab63fa",
           "#FFA15A",
           "#19d3f3",
           "#FF6692",
           "#B6E880",
           "#FF97FF",
           "#FECB52"
          ],
          "font": {
           "color": "#2a3f5f"
          },
          "geo": {
           "bgcolor": "white",
           "lakecolor": "white",
           "landcolor": "#E5ECF6",
           "showlakes": true,
           "showland": true,
           "subunitcolor": "white"
          },
          "hoverlabel": {
           "align": "left"
          },
          "hovermode": "closest",
          "mapbox": {
           "style": "light"
          },
          "paper_bgcolor": "white",
          "plot_bgcolor": "#E5ECF6",
          "polar": {
           "angularaxis": {
            "gridcolor": "white",
            "linecolor": "white",
            "ticks": ""
           },
           "bgcolor": "#E5ECF6",
           "radialaxis": {
            "gridcolor": "white",
            "linecolor": "white",
            "ticks": ""
           }
          },
          "scene": {
           "xaxis": {
            "backgroundcolor": "#E5ECF6",
            "gridcolor": "white",
            "gridwidth": 2,
            "linecolor": "white",
            "showbackground": true,
            "ticks": "",
            "zerolinecolor": "white"
           },
           "yaxis": {
            "backgroundcolor": "#E5ECF6",
            "gridcolor": "white",
            "gridwidth": 2,
            "linecolor": "white",
            "showbackground": true,
            "ticks": "",
            "zerolinecolor": "white"
           },
           "zaxis": {
            "backgroundcolor": "#E5ECF6",
            "gridcolor": "white",
            "gridwidth": 2,
            "linecolor": "white",
            "showbackground": true,
            "ticks": "",
            "zerolinecolor": "white"
           }
          },
          "shapedefaults": {
           "line": {
            "color": "#2a3f5f"
           }
          },
          "ternary": {
           "aaxis": {
            "gridcolor": "white",
            "linecolor": "white",
            "ticks": ""
           },
           "baxis": {
            "gridcolor": "white",
            "linecolor": "white",
            "ticks": ""
           },
           "bgcolor": "#E5ECF6",
           "caxis": {
            "gridcolor": "white",
            "linecolor": "white",
            "ticks": ""
           }
          },
          "title": {
           "x": 0.05
          },
          "xaxis": {
           "automargin": true,
           "gridcolor": "white",
           "linecolor": "white",
           "ticks": "",
           "title": {
            "standoff": 15
           },
           "zerolinecolor": "white",
           "zerolinewidth": 2
          },
          "yaxis": {
           "automargin": true,
           "gridcolor": "white",
           "linecolor": "white",
           "ticks": "",
           "title": {
            "standoff": 15
           },
           "zerolinecolor": "white",
           "zerolinewidth": 2
          }
         }
        },
        "title": {
         "text": "Model Training - Accuracy and Loss"
        },
        "xaxis": {
         "title": {
          "text": "Epoch"
         }
        },
        "yaxis": {
         "title": {
          "text": "Accuracy/Loss"
         }
        }
       }
      },
      "text/html": [
       "<html>\n",
       "<head><meta charset=\"utf-8\" /></head>\n",
       "<body>\n",
       "    <div>            <script src=\"https://cdnjs.cloudflare.com/ajax/libs/mathjax/2.7.5/MathJax.js?config=TeX-AMS-MML_SVG\"></script><script type=\"text/javascript\">if (window.MathJax && window.MathJax.Hub && window.MathJax.Hub.Config) {window.MathJax.Hub.Config({SVG: {font: \"STIX-Web\"}});}</script>                <script type=\"text/javascript\">window.PlotlyConfig = {MathJaxConfig: 'local'};</script>\n",
       "        <script charset=\"utf-8\" src=\"https://cdn.plot.ly/plotly-2.27.0.min.js\"></script>                <div id=\"60d92d0a-cb20-4000-a3c4-fbdbcc7f494c\" class=\"plotly-graph-div\" style=\"height:525px; width:100%;\"></div>            <script type=\"text/javascript\">                                    window.PLOTLYENV=window.PLOTLYENV || {};                                    if (document.getElementById(\"60d92d0a-cb20-4000-a3c4-fbdbcc7f494c\")) {                    Plotly.newPlot(                        \"60d92d0a-cb20-4000-a3c4-fbdbcc7f494c\",                        [{\"name\":\"Akurasi Training\",\"x\":[0,1,2,3,4,5,6,7,8,9,10,11,12],\"y\":[0.8117222189903259,0.8883888721466064,0.909166693687439,0.9242500066757202,0.9347361326217651,0.9432083368301392,0.9502639174461365,0.9572916626930237,0.9678750038146973,0.9729305505752563,0.9760833382606506,0.9777916669845581,0.9798471927642822],\"type\":\"scatter\",\"mode\":\"markers+lines\"},{\"name\":\"Akurasi Validasi\",\"x\":[0,1,2,3,4,5,6,7,8,9,10,11,12],\"y\":[0.8671666383743286,0.879111111164093,0.8852221965789795,0.8808333277702332,0.8851110935211182,0.886888861656189,0.8820555806159973,0.8819999823570251,0.8845555830001831,0.8874444670677185,0.8932777915000916,0.8963889074325562,0.9035555410385132],\"type\":\"scatter\",\"mode\":\"markers+lines\"},{\"name\":\"Loss Training\",\"x\":[0,1,2,3,4,5,6,7,8,9,10,11,12],\"y\":[0.45184534788131714,0.2933630347251892,0.24300414323806763,0.20238570868968964,0.17472270131111145,0.15430906414985657,0.13603024184703827,0.11923821270465851,0.08927366137504578,0.07638479024171829,0.06853815913200378,0.06271500140428543,0.056979358196258545],\"type\":\"scatter\",\"mode\":\"markers+lines\"},{\"name\":\"Loss Validasi\",\"x\":[0,1,2,3,4,5,6,7,8,9,10,11,12],\"y\":[0.33644649386405945,0.3098336458206177,0.29636165499687195,0.3294074833393097,0.3376861810684204,0.3520996868610382,0.3571693003177643,0.3889974355697632,0.46180805563926697,0.49555885791778564,0.5488675832748413,0.6274638772010803,0.6224164962768555],\"type\":\"scatter\",\"mode\":\"markers+lines\"}],                        {\"template\":{\"data\":{\"histogram2dcontour\":[{\"type\":\"histogram2dcontour\",\"colorbar\":{\"outlinewidth\":0,\"ticks\":\"\"},\"colorscale\":[[0.0,\"#0d0887\"],[0.1111111111111111,\"#46039f\"],[0.2222222222222222,\"#7201a8\"],[0.3333333333333333,\"#9c179e\"],[0.4444444444444444,\"#bd3786\"],[0.5555555555555556,\"#d8576b\"],[0.6666666666666666,\"#ed7953\"],[0.7777777777777778,\"#fb9f3a\"],[0.8888888888888888,\"#fdca26\"],[1.0,\"#f0f921\"]]}],\"choropleth\":[{\"type\":\"choropleth\",\"colorbar\":{\"outlinewidth\":0,\"ticks\":\"\"}}],\"histogram2d\":[{\"type\":\"histogram2d\",\"colorbar\":{\"outlinewidth\":0,\"ticks\":\"\"},\"colorscale\":[[0.0,\"#0d0887\"],[0.1111111111111111,\"#46039f\"],[0.2222222222222222,\"#7201a8\"],[0.3333333333333333,\"#9c179e\"],[0.4444444444444444,\"#bd3786\"],[0.5555555555555556,\"#d8576b\"],[0.6666666666666666,\"#ed7953\"],[0.7777777777777778,\"#fb9f3a\"],[0.8888888888888888,\"#fdca26\"],[1.0,\"#f0f921\"]]}],\"heatmap\":[{\"type\":\"heatmap\",\"colorbar\":{\"outlinewidth\":0,\"ticks\":\"\"},\"colorscale\":[[0.0,\"#0d0887\"],[0.1111111111111111,\"#46039f\"],[0.2222222222222222,\"#7201a8\"],[0.3333333333333333,\"#9c179e\"],[0.4444444444444444,\"#bd3786\"],[0.5555555555555556,\"#d8576b\"],[0.6666666666666666,\"#ed7953\"],[0.7777777777777778,\"#fb9f3a\"],[0.8888888888888888,\"#fdca26\"],[1.0,\"#f0f921\"]]}],\"heatmapgl\":[{\"type\":\"heatmapgl\",\"colorbar\":{\"outlinewidth\":0,\"ticks\":\"\"},\"colorscale\":[[0.0,\"#0d0887\"],[0.1111111111111111,\"#46039f\"],[0.2222222222222222,\"#7201a8\"],[0.3333333333333333,\"#9c179e\"],[0.4444444444444444,\"#bd3786\"],[0.5555555555555556,\"#d8576b\"],[0.6666666666666666,\"#ed7953\"],[0.7777777777777778,\"#fb9f3a\"],[0.8888888888888888,\"#fdca26\"],[1.0,\"#f0f921\"]]}],\"contourcarpet\":[{\"type\":\"contourcarpet\",\"colorbar\":{\"outlinewidth\":0,\"ticks\":\"\"}}],\"contour\":[{\"type\":\"contour\",\"colorbar\":{\"outlinewidth\":0,\"ticks\":\"\"},\"colorscale\":[[0.0,\"#0d0887\"],[0.1111111111111111,\"#46039f\"],[0.2222222222222222,\"#7201a8\"],[0.3333333333333333,\"#9c179e\"],[0.4444444444444444,\"#bd3786\"],[0.5555555555555556,\"#d8576b\"],[0.6666666666666666,\"#ed7953\"],[0.7777777777777778,\"#fb9f3a\"],[0.8888888888888888,\"#fdca26\"],[1.0,\"#f0f921\"]]}],\"surface\":[{\"type\":\"surface\",\"colorbar\":{\"outlinewidth\":0,\"ticks\":\"\"},\"colorscale\":[[0.0,\"#0d0887\"],[0.1111111111111111,\"#46039f\"],[0.2222222222222222,\"#7201a8\"],[0.3333333333333333,\"#9c179e\"],[0.4444444444444444,\"#bd3786\"],[0.5555555555555556,\"#d8576b\"],[0.6666666666666666,\"#ed7953\"],[0.7777777777777778,\"#fb9f3a\"],[0.8888888888888888,\"#fdca26\"],[1.0,\"#f0f921\"]]}],\"mesh3d\":[{\"type\":\"mesh3d\",\"colorbar\":{\"outlinewidth\":0,\"ticks\":\"\"}}],\"scatter\":[{\"fillpattern\":{\"fillmode\":\"overlay\",\"size\":10,\"solidity\":0.2},\"type\":\"scatter\"}],\"parcoords\":[{\"type\":\"parcoords\",\"line\":{\"colorbar\":{\"outlinewidth\":0,\"ticks\":\"\"}}}],\"scatterpolargl\":[{\"type\":\"scatterpolargl\",\"marker\":{\"colorbar\":{\"outlinewidth\":0,\"ticks\":\"\"}}}],\"bar\":[{\"error_x\":{\"color\":\"#2a3f5f\"},\"error_y\":{\"color\":\"#2a3f5f\"},\"marker\":{\"line\":{\"color\":\"#E5ECF6\",\"width\":0.5},\"pattern\":{\"fillmode\":\"overlay\",\"size\":10,\"solidity\":0.2}},\"type\":\"bar\"}],\"scattergeo\":[{\"type\":\"scattergeo\",\"marker\":{\"colorbar\":{\"outlinewidth\":0,\"ticks\":\"\"}}}],\"scatterpolar\":[{\"type\":\"scatterpolar\",\"marker\":{\"colorbar\":{\"outlinewidth\":0,\"ticks\":\"\"}}}],\"histogram\":[{\"marker\":{\"pattern\":{\"fillmode\":\"overlay\",\"size\":10,\"solidity\":0.2}},\"type\":\"histogram\"}],\"scattergl\":[{\"type\":\"scattergl\",\"marker\":{\"colorbar\":{\"outlinewidth\":0,\"ticks\":\"\"}}}],\"scatter3d\":[{\"type\":\"scatter3d\",\"line\":{\"colorbar\":{\"outlinewidth\":0,\"ticks\":\"\"}},\"marker\":{\"colorbar\":{\"outlinewidth\":0,\"ticks\":\"\"}}}],\"scattermapbox\":[{\"type\":\"scattermapbox\",\"marker\":{\"colorbar\":{\"outlinewidth\":0,\"ticks\":\"\"}}}],\"scatterternary\":[{\"type\":\"scatterternary\",\"marker\":{\"colorbar\":{\"outlinewidth\":0,\"ticks\":\"\"}}}],\"scattercarpet\":[{\"type\":\"scattercarpet\",\"marker\":{\"colorbar\":{\"outlinewidth\":0,\"ticks\":\"\"}}}],\"carpet\":[{\"aaxis\":{\"endlinecolor\":\"#2a3f5f\",\"gridcolor\":\"white\",\"linecolor\":\"white\",\"minorgridcolor\":\"white\",\"startlinecolor\":\"#2a3f5f\"},\"baxis\":{\"endlinecolor\":\"#2a3f5f\",\"gridcolor\":\"white\",\"linecolor\":\"white\",\"minorgridcolor\":\"white\",\"startlinecolor\":\"#2a3f5f\"},\"type\":\"carpet\"}],\"table\":[{\"cells\":{\"fill\":{\"color\":\"#EBF0F8\"},\"line\":{\"color\":\"white\"}},\"header\":{\"fill\":{\"color\":\"#C8D4E3\"},\"line\":{\"color\":\"white\"}},\"type\":\"table\"}],\"barpolar\":[{\"marker\":{\"line\":{\"color\":\"#E5ECF6\",\"width\":0.5},\"pattern\":{\"fillmode\":\"overlay\",\"size\":10,\"solidity\":0.2}},\"type\":\"barpolar\"}],\"pie\":[{\"automargin\":true,\"type\":\"pie\"}]},\"layout\":{\"autotypenumbers\":\"strict\",\"colorway\":[\"#636efa\",\"#EF553B\",\"#00cc96\",\"#ab63fa\",\"#FFA15A\",\"#19d3f3\",\"#FF6692\",\"#B6E880\",\"#FF97FF\",\"#FECB52\"],\"font\":{\"color\":\"#2a3f5f\"},\"hovermode\":\"closest\",\"hoverlabel\":{\"align\":\"left\"},\"paper_bgcolor\":\"white\",\"plot_bgcolor\":\"#E5ECF6\",\"polar\":{\"bgcolor\":\"#E5ECF6\",\"angularaxis\":{\"gridcolor\":\"white\",\"linecolor\":\"white\",\"ticks\":\"\"},\"radialaxis\":{\"gridcolor\":\"white\",\"linecolor\":\"white\",\"ticks\":\"\"}},\"ternary\":{\"bgcolor\":\"#E5ECF6\",\"aaxis\":{\"gridcolor\":\"white\",\"linecolor\":\"white\",\"ticks\":\"\"},\"baxis\":{\"gridcolor\":\"white\",\"linecolor\":\"white\",\"ticks\":\"\"},\"caxis\":{\"gridcolor\":\"white\",\"linecolor\":\"white\",\"ticks\":\"\"}},\"coloraxis\":{\"colorbar\":{\"outlinewidth\":0,\"ticks\":\"\"}},\"colorscale\":{\"sequential\":[[0.0,\"#0d0887\"],[0.1111111111111111,\"#46039f\"],[0.2222222222222222,\"#7201a8\"],[0.3333333333333333,\"#9c179e\"],[0.4444444444444444,\"#bd3786\"],[0.5555555555555556,\"#d8576b\"],[0.6666666666666666,\"#ed7953\"],[0.7777777777777778,\"#fb9f3a\"],[0.8888888888888888,\"#fdca26\"],[1.0,\"#f0f921\"]],\"sequentialminus\":[[0.0,\"#0d0887\"],[0.1111111111111111,\"#46039f\"],[0.2222222222222222,\"#7201a8\"],[0.3333333333333333,\"#9c179e\"],[0.4444444444444444,\"#bd3786\"],[0.5555555555555556,\"#d8576b\"],[0.6666666666666666,\"#ed7953\"],[0.7777777777777778,\"#fb9f3a\"],[0.8888888888888888,\"#fdca26\"],[1.0,\"#f0f921\"]],\"diverging\":[[0,\"#8e0152\"],[0.1,\"#c51b7d\"],[0.2,\"#de77ae\"],[0.3,\"#f1b6da\"],[0.4,\"#fde0ef\"],[0.5,\"#f7f7f7\"],[0.6,\"#e6f5d0\"],[0.7,\"#b8e186\"],[0.8,\"#7fbc41\"],[0.9,\"#4d9221\"],[1,\"#276419\"]]},\"xaxis\":{\"gridcolor\":\"white\",\"linecolor\":\"white\",\"ticks\":\"\",\"title\":{\"standoff\":15},\"zerolinecolor\":\"white\",\"automargin\":true,\"zerolinewidth\":2},\"yaxis\":{\"gridcolor\":\"white\",\"linecolor\":\"white\",\"ticks\":\"\",\"title\":{\"standoff\":15},\"zerolinecolor\":\"white\",\"automargin\":true,\"zerolinewidth\":2},\"scene\":{\"xaxis\":{\"backgroundcolor\":\"#E5ECF6\",\"gridcolor\":\"white\",\"linecolor\":\"white\",\"showbackground\":true,\"ticks\":\"\",\"zerolinecolor\":\"white\",\"gridwidth\":2},\"yaxis\":{\"backgroundcolor\":\"#E5ECF6\",\"gridcolor\":\"white\",\"linecolor\":\"white\",\"showbackground\":true,\"ticks\":\"\",\"zerolinecolor\":\"white\",\"gridwidth\":2},\"zaxis\":{\"backgroundcolor\":\"#E5ECF6\",\"gridcolor\":\"white\",\"linecolor\":\"white\",\"showbackground\":true,\"ticks\":\"\",\"zerolinecolor\":\"white\",\"gridwidth\":2}},\"shapedefaults\":{\"line\":{\"color\":\"#2a3f5f\"}},\"annotationdefaults\":{\"arrowcolor\":\"#2a3f5f\",\"arrowhead\":0,\"arrowwidth\":1},\"geo\":{\"bgcolor\":\"white\",\"landcolor\":\"#E5ECF6\",\"subunitcolor\":\"white\",\"showland\":true,\"showlakes\":true,\"lakecolor\":\"white\"},\"title\":{\"x\":0.05},\"mapbox\":{\"style\":\"light\"}}},\"title\":{\"text\":\"Model Training - Accuracy and Loss\"},\"hoverlabel\":{\"namelength\":-1},\"xaxis\":{\"title\":{\"text\":\"Epoch\"}},\"yaxis\":{\"title\":{\"text\":\"Accuracy\\u002fLoss\"}},\"hovermode\":\"x unified\"},                        {\"responsive\": true}                    ).then(function(){\n",
       "                            \n",
       "var gd = document.getElementById('60d92d0a-cb20-4000-a3c4-fbdbcc7f494c');\n",
       "var x = new MutationObserver(function (mutations, observer) {{\n",
       "        var display = window.getComputedStyle(gd).display;\n",
       "        if (!display || display === 'none') {{\n",
       "            console.log([gd, 'removed!']);\n",
       "            Plotly.purge(gd);\n",
       "            observer.disconnect();\n",
       "        }}\n",
       "}});\n",
       "\n",
       "// Listen for the removal of the full notebook cells\n",
       "var notebookContainer = gd.closest('#notebook-container');\n",
       "if (notebookContainer) {{\n",
       "    x.observe(notebookContainer, {childList: true});\n",
       "}}\n",
       "\n",
       "// Listen for the clearing of the current output cell\n",
       "var outputEl = gd.closest('.output');\n",
       "if (outputEl) {{\n",
       "    x.observe(outputEl, {childList: true});\n",
       "}}\n",
       "\n",
       "                        })                };                            </script>        </div>\n",
       "</body>\n",
       "</html>"
      ]
     },
     "metadata": {},
     "output_type": "display_data"
    }
   ],
   "source": [
    "fig = go.Figure()\n",
    "\n",
    "fig.add_trace(\n",
    "    go.Scatter(\n",
    "        x = [ i for i in range(len(history['acc'])) ],\n",
    "        y = history['acc'],\n",
    "        name = 'Akurasi Training'\n",
    "    )\n",
    ")\n",
    "\n",
    "fig.add_trace(\n",
    "    go.Scatter(\n",
    "        x = [ i for i in range(len(history['acc'])) ],\n",
    "        y = history['val_acc'],\n",
    "        name = 'Akurasi Validasi'\n",
    "    )\n",
    ")\n",
    "\n",
    "fig.add_trace(\n",
    "    go.Scatter(\n",
    "        x = [ i for i in range(len(history['acc'])) ],\n",
    "        y = history['loss'],\n",
    "        name = 'Loss Training'\n",
    "    )\n",
    ")\n",
    "\n",
    "fig.add_trace(\n",
    "    go.Scatter(\n",
    "        x = [ i for i in range(len(history['acc'])) ],\n",
    "        y = history['val_loss'],\n",
    "        name = 'Loss Validasi'\n",
    "    )\n",
    ")\n",
    "\n",
    "fig.update_traces(mode = 'markers+lines')\n",
    "\n",
    "fig.update_layout(\n",
    "    # https://plotly.com/python/reference/layout/\n",
    "    title = { 'text': 'Model Training - Accuracy and Loss' },\n",
    "    # https://plotly.com/python/reference/layout/xaxis/\n",
    "    xaxis = { 'title': 'Epoch' },\n",
    "    # https://plotly.com/python/reference/layout/yaxis/\n",
    "    yaxis = { 'title': 'Accuracy/Loss' },\n",
    "    hovermode = 'x unified',\n",
    "    hoverlabel = { 'namelength': -1 }\n",
    ")\n",
    "\n",
    "fig.show()"
   ]
  },
  {
   "cell_type": "code",
   "execution_count": 46,
   "metadata": {},
   "outputs": [
    {
     "name": "stdout",
     "output_type": "stream",
     "text": [
      "1/1 [==============================] - 0s 56ms/step\n",
      "Your customer service is bad\n",
      "LSTM -> [0.00064 0.04245 0.95691] Negative\n",
      "VADER -> Negative \n",
      "\n",
      "Your customer service is good\n",
      "LSTM -> [0.33655 0.66063 0.00283] Neutral\n",
      "VADER -> Neutral \n",
      "\n",
      "Your customer service is good 😊\n",
      "LSTM -> [0.99997 0.00003 0.     ] Positive\n",
      "VADER -> Positive \n",
      "\n"
     ]
    }
   ],
   "source": [
    "def predict_tweets(tweets: list):\n",
    "    if use_tokenizer:\n",
    "        # \"preproc_all\" = \"preproc_useless_info\" + \"preproc_for_model\"\n",
    "        tweets = [ preproc_all(i) for i in tweets ]\n",
    "\n",
    "        # Convert sentences to vector\n",
    "        tweets = tokenizer.texts_to_sequences(tweets)\n",
    "        tweets = pad_sequences(tweets, padding = 'post', truncating = 'post', maxlen = max_len)\n",
    "    else:\n",
    "        # \"preproc_for_model\" will be called by TextVectorization layer\n",
    "        tweets = [ preproc_useless_info(i) for i in tweets ]\n",
    "\n",
    "    return model.predict(tweets)\n",
    "\n",
    "def sparse_to_label(array: np.ndarray):\n",
    "    i = array.argmax()\n",
    "    return ['Positive', 'Neutral', 'Negative'][i]\n",
    "\n",
    "text = [\n",
    "    'Your customer service is bad',\n",
    "    'Your customer service is good',\n",
    "    'Your customer service is good 😊'\n",
    "]\n",
    "\n",
    "with np.printoptions(precision = 5, suppress = True):\n",
    "    result = predict_tweets(text)\n",
    "    for i in range(len(result)):\n",
    "        print(f'{text[i]}')\n",
    "        print(f'LSTM -> {result[i]} {sparse_to_label(result[i])}')\n",
    "        print(f'VADER -> {vader_sentiment(text[i], \"label\")}', '\\n')"
   ]
  },
  {
   "cell_type": "markdown",
   "metadata": {},
   "source": [
    "Although the model is overfit, it still can predict tweet sentiment correctly. As seen above, even the existence of the smile emoji will also affect the score (from neutral to positive). Therefore, I can say that the model is good enough.\n",
    "\n",
    "The overfit may be caused by the small sample size, from almost 3 million tweets (including augmented data), we only take 90000 data, and it's still reduced further so only 72000 data is used for training (18000 data for test)."
   ]
  },
  {
   "cell_type": "markdown",
   "metadata": {},
   "source": [
    "### **Changelog**\n",
    "\n",
    "- v1: Vectorization 5000 vocab size, embedding 32 output dims & 50 input length, Conv1D 32 filters, LSTM 32 units, dropout 0.4, dense 128, dense 64. Trained with 14 epoch resulting 60% accuracy using stratified undersampling 0.1 frac. Callback reduce LR 3, early stop 6\n",
    "- v2: Added max pool layer with pool size = 2 after Conv1D. Stopped manually at 7 epoch with accuracy 60%\n",
    "- v3: Switched to Bi-LSTM, increased vocab size to 20000. Stopped manually at 7 epoch with accuracy 60%. Sample size reduced to 0.01\n",
    "- v4: Bi-LSTM 64, batch size changed to 128 (the default is 32). Early stop at 23 epoch with 60% accuracy\n",
    "- v5: Using original data only (not combined with augmented data). Early stop at epoch 15 with 64% accuracy (slightly increased)\n",
    "- v6: Changed to disproportionate undersampling with N = 15000. Accuracy decreased to 50%, early stop at epoch 23.\n",
    "- v7: Switched to normal LSTM (not Bi-LSTM), with 9000 vocab size. Re-adapt text with training data (turns out vectorization layer doesn't automatically readapt when begining training). Accuracy improved to 81%, early stop at epoch 9. Graph overfit on training data\n",
    "- v8: Stratified undersampling 0.02 (~58000 data). Reduce LR increased to 5 and early stop at 10, vocab size 12000. Still overfit training\n",
    "- v9: Stratified undersampling 0.03 (~88000 data). Manual stop at epoch 9, vocab size 12000. Still overfit training\n",
    "- v10: Stratified undersampling 0.03 (~88000 data). Manual stop at epoch 9, vocab size 21000. Still overfit training\n",
    "- v11: Disproportionate undersampling 30000 (90000 data). Manual stop at epoch 9, vocab 21000. Still overfit training\n",
    "- v12: Switch to normal Tokenizer instead of TextVectorization layer, since there preprocessing is not applied correctly. Use Bi-LSTM again. Early stop at epoch 13. Still overfit training"
   ]
  },
  {
   "cell_type": "markdown",
   "metadata": {},
   "source": [
    "### **Todo**\n",
    "\n",
    "- Inspect the output of each model layer like CNN\n",
    "- Reduce overfit without increasing sample size (switch embedding with TF-IDF? use pretrained embedding?) - [Reference](https://medium.com/@dcameronsteinke/tf-idf-vs-word-embedding-a-comparison-and-code-tutorial-5ba341379ab0)\n",
    "- EDA (the worst customer service, wordcloud, etc)"
   ]
  }
 ],
 "metadata": {
  "kernelspec": {
   "display_name": ".venv",
   "language": "python",
   "name": "python3"
  },
  "language_info": {
   "codemirror_mode": {
    "name": "ipython",
    "version": 3
   },
   "file_extension": ".py",
   "mimetype": "text/x-python",
   "name": "python",
   "nbconvert_exporter": "python",
   "pygments_lexer": "ipython3",
   "version": "3.11.5"
  }
 },
 "nbformat": 4,
 "nbformat_minor": 2
}
