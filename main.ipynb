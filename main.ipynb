{
 "cells": [
  {
   "cell_type": "markdown",
   "metadata": {},
   "source": [
    "# **Customer Support Sentiment Analysis**\n",
    "- Code: [AndhikaWB](https://github.com/AndhikaWB/TweetCustServiceNLP)\n",
    "- Dataset: [Kaggle](https://www.kaggle.com/datasets/thoughtvector/customer-support-on-twitter)"
   ]
  },
  {
   "cell_type": "markdown",
   "metadata": {},
   "source": [
    "### **Set Renderer**"
   ]
  },
  {
   "cell_type": "code",
   "execution_count": 1,
   "metadata": {},
   "outputs": [
    {
     "name": "stdout",
     "output_type": "stream",
     "text": [
      "Renderers configuration\n",
      "-----------------------\n",
      "    Default renderer: 'vscode'\n",
      "    Available renderers:\n",
      "        ['plotly_mimetype', 'jupyterlab', 'nteract', 'vscode',\n",
      "         'notebook', 'notebook_connected', 'kaggle', 'azure', 'colab',\n",
      "         'cocalc', 'databricks', 'json', 'png', 'jpeg', 'jpg', 'svg',\n",
      "         'pdf', 'browser', 'firefox', 'chrome', 'chromium', 'iframe',\n",
      "         'iframe_connected', 'sphinx_gallery', 'sphinx_gallery_png']\n",
      "\n"
     ]
    }
   ],
   "source": [
    "import plotly.io as io\n",
    "\n",
    "# Disable interactive visualization\n",
    "print(io.renderers)\n",
    "io.renderers.default = 'png'"
   ]
  },
  {
   "cell_type": "markdown",
   "metadata": {},
   "source": [
    "### **Extract and Read Dataset**"
   ]
  },
  {
   "cell_type": "code",
   "execution_count": 2,
   "metadata": {},
   "outputs": [],
   "source": [
    "import glob\n",
    "import shutil\n",
    "import zipfile\n",
    "import os\n",
    "\n",
    "# Combine multi-part zip files\n",
    "with open('archive.zip', 'wb') as final_zip:\n",
    "    for zip_part in glob.glob('archive.zip.*'):\n",
    "        with open(zip_part, 'rb') as f:\n",
    "            shutil.copyfileobj(f, final_zip)\n",
    "\n",
    "# Extract the archive if it hasn't been extracted already\n",
    "if not os.path.isfile('data/twcs.csv'):\n",
    "    with zipfile.ZipFile('archive.zip') as zip:\n",
    "        zip.extractall('data')"
   ]
  },
  {
   "cell_type": "code",
   "execution_count": 3,
   "metadata": {},
   "outputs": [
    {
     "data": {
      "text/html": [
       "<div>\n",
       "<style scoped>\n",
       "    .dataframe tbody tr th:only-of-type {\n",
       "        vertical-align: middle;\n",
       "    }\n",
       "\n",
       "    .dataframe tbody tr th {\n",
       "        vertical-align: top;\n",
       "    }\n",
       "\n",
       "    .dataframe thead th {\n",
       "        text-align: right;\n",
       "    }\n",
       "</style>\n",
       "<table border=\"1\" class=\"dataframe\">\n",
       "  <thead>\n",
       "    <tr style=\"text-align: right;\">\n",
       "      <th></th>\n",
       "      <th>tweet_id</th>\n",
       "      <th>author_id</th>\n",
       "      <th>inbound</th>\n",
       "      <th>created_at</th>\n",
       "      <th>text</th>\n",
       "      <th>response_tweet_id</th>\n",
       "      <th>in_response_to_tweet_id</th>\n",
       "    </tr>\n",
       "  </thead>\n",
       "  <tbody>\n",
       "    <tr>\n",
       "      <th>0</th>\n",
       "      <td>1</td>\n",
       "      <td>sprintcare</td>\n",
       "      <td>False</td>\n",
       "      <td>Tue Oct 31 22:10:47 +0000 2017</td>\n",
       "      <td>@115712 I understand. I would like to assist y...</td>\n",
       "      <td>2</td>\n",
       "      <td>3.0</td>\n",
       "    </tr>\n",
       "    <tr>\n",
       "      <th>1</th>\n",
       "      <td>2</td>\n",
       "      <td>115712</td>\n",
       "      <td>True</td>\n",
       "      <td>Tue Oct 31 22:11:45 +0000 2017</td>\n",
       "      <td>@sprintcare and how do you propose we do that</td>\n",
       "      <td>NaN</td>\n",
       "      <td>1.0</td>\n",
       "    </tr>\n",
       "    <tr>\n",
       "      <th>2</th>\n",
       "      <td>3</td>\n",
       "      <td>115712</td>\n",
       "      <td>True</td>\n",
       "      <td>Tue Oct 31 22:08:27 +0000 2017</td>\n",
       "      <td>@sprintcare I have sent several private messag...</td>\n",
       "      <td>1</td>\n",
       "      <td>4.0</td>\n",
       "    </tr>\n",
       "    <tr>\n",
       "      <th>3</th>\n",
       "      <td>4</td>\n",
       "      <td>sprintcare</td>\n",
       "      <td>False</td>\n",
       "      <td>Tue Oct 31 21:54:49 +0000 2017</td>\n",
       "      <td>@115712 Please send us a Private Message so th...</td>\n",
       "      <td>3</td>\n",
       "      <td>5.0</td>\n",
       "    </tr>\n",
       "    <tr>\n",
       "      <th>4</th>\n",
       "      <td>5</td>\n",
       "      <td>115712</td>\n",
       "      <td>True</td>\n",
       "      <td>Tue Oct 31 21:49:35 +0000 2017</td>\n",
       "      <td>@sprintcare I did.</td>\n",
       "      <td>4</td>\n",
       "      <td>6.0</td>\n",
       "    </tr>\n",
       "    <tr>\n",
       "      <th>...</th>\n",
       "      <td>...</td>\n",
       "      <td>...</td>\n",
       "      <td>...</td>\n",
       "      <td>...</td>\n",
       "      <td>...</td>\n",
       "      <td>...</td>\n",
       "      <td>...</td>\n",
       "    </tr>\n",
       "    <tr>\n",
       "      <th>2811769</th>\n",
       "      <td>2987947</td>\n",
       "      <td>sprintcare</td>\n",
       "      <td>False</td>\n",
       "      <td>Wed Nov 22 08:43:51 +0000 2017</td>\n",
       "      <td>@823869 Hey, we'd be happy to look into this f...</td>\n",
       "      <td>NaN</td>\n",
       "      <td>2987948.0</td>\n",
       "    </tr>\n",
       "    <tr>\n",
       "      <th>2811770</th>\n",
       "      <td>2987948</td>\n",
       "      <td>823869</td>\n",
       "      <td>True</td>\n",
       "      <td>Wed Nov 22 08:35:16 +0000 2017</td>\n",
       "      <td>@115714 wtf!? I’ve been having really shitty s...</td>\n",
       "      <td>2987947</td>\n",
       "      <td>NaN</td>\n",
       "    </tr>\n",
       "    <tr>\n",
       "      <th>2811771</th>\n",
       "      <td>2812240</td>\n",
       "      <td>121673</td>\n",
       "      <td>True</td>\n",
       "      <td>Thu Nov 23 04:13:07 +0000 2017</td>\n",
       "      <td>@143549 @sprintcare You have to go to https://...</td>\n",
       "      <td>NaN</td>\n",
       "      <td>2812239.0</td>\n",
       "    </tr>\n",
       "    <tr>\n",
       "      <th>2811772</th>\n",
       "      <td>2987949</td>\n",
       "      <td>AldiUK</td>\n",
       "      <td>False</td>\n",
       "      <td>Wed Nov 22 08:31:24 +0000 2017</td>\n",
       "      <td>@823870 Sounds delicious, Sarah! 😋 https://t.c...</td>\n",
       "      <td>NaN</td>\n",
       "      <td>2987950.0</td>\n",
       "    </tr>\n",
       "    <tr>\n",
       "      <th>2811773</th>\n",
       "      <td>2987950</td>\n",
       "      <td>823870</td>\n",
       "      <td>True</td>\n",
       "      <td>Tue Nov 21 22:01:04 +0000 2017</td>\n",
       "      <td>@AldiUK  warm sloe gin mince pies with ice cre...</td>\n",
       "      <td>2987951,2987949</td>\n",
       "      <td>NaN</td>\n",
       "    </tr>\n",
       "  </tbody>\n",
       "</table>\n",
       "<p>2811774 rows × 7 columns</p>\n",
       "</div>"
      ],
      "text/plain": [
       "         tweet_id   author_id  inbound                      created_at  \\\n",
       "0               1  sprintcare    False  Tue Oct 31 22:10:47 +0000 2017   \n",
       "1               2      115712     True  Tue Oct 31 22:11:45 +0000 2017   \n",
       "2               3      115712     True  Tue Oct 31 22:08:27 +0000 2017   \n",
       "3               4  sprintcare    False  Tue Oct 31 21:54:49 +0000 2017   \n",
       "4               5      115712     True  Tue Oct 31 21:49:35 +0000 2017   \n",
       "...           ...         ...      ...                             ...   \n",
       "2811769   2987947  sprintcare    False  Wed Nov 22 08:43:51 +0000 2017   \n",
       "2811770   2987948      823869     True  Wed Nov 22 08:35:16 +0000 2017   \n",
       "2811771   2812240      121673     True  Thu Nov 23 04:13:07 +0000 2017   \n",
       "2811772   2987949      AldiUK    False  Wed Nov 22 08:31:24 +0000 2017   \n",
       "2811773   2987950      823870     True  Tue Nov 21 22:01:04 +0000 2017   \n",
       "\n",
       "                                                      text response_tweet_id  \\\n",
       "0        @115712 I understand. I would like to assist y...                 2   \n",
       "1            @sprintcare and how do you propose we do that               NaN   \n",
       "2        @sprintcare I have sent several private messag...                 1   \n",
       "3        @115712 Please send us a Private Message so th...                 3   \n",
       "4                                       @sprintcare I did.                 4   \n",
       "...                                                    ...               ...   \n",
       "2811769  @823869 Hey, we'd be happy to look into this f...               NaN   \n",
       "2811770  @115714 wtf!? I’ve been having really shitty s...           2987947   \n",
       "2811771  @143549 @sprintcare You have to go to https://...               NaN   \n",
       "2811772  @823870 Sounds delicious, Sarah! 😋 https://t.c...               NaN   \n",
       "2811773  @AldiUK  warm sloe gin mince pies with ice cre...   2987951,2987949   \n",
       "\n",
       "         in_response_to_tweet_id  \n",
       "0                            3.0  \n",
       "1                            1.0  \n",
       "2                            4.0  \n",
       "3                            5.0  \n",
       "4                            6.0  \n",
       "...                          ...  \n",
       "2811769                2987948.0  \n",
       "2811770                      NaN  \n",
       "2811771                2812239.0  \n",
       "2811772                2987950.0  \n",
       "2811773                      NaN  \n",
       "\n",
       "[2811774 rows x 7 columns]"
      ]
     },
     "execution_count": 3,
     "metadata": {},
     "output_type": "execute_result"
    }
   ],
   "source": [
    "import pandas as pd\n",
    "\n",
    "df = pd.read_csv('data/twcs.csv')\n",
    "df"
   ]
  },
  {
   "cell_type": "markdown",
   "metadata": {},
   "source": [
    "`inbound` here means whether it's directed to a company's customer support or not."
   ]
  },
  {
   "cell_type": "markdown",
   "metadata": {},
   "source": [
    "### **Data/Text Preprocessing**"
   ]
  },
  {
   "cell_type": "markdown",
   "metadata": {},
   "source": [
    "#### **Data Type Correction**\n",
    "For possible Exploratory Data Analysis (EDA) at the end\n",
    "- String to datetime (`created_at`)\n",
    "- String to integer array (`response_tweet_id`)\n",
    "- Float to integer (other tweet IDs)"
   ]
  },
  {
   "cell_type": "code",
   "execution_count": 4,
   "metadata": {},
   "outputs": [
    {
     "name": "stdout",
     "output_type": "stream",
     "text": [
      "<class 'pandas.core.frame.DataFrame'>\n",
      "RangeIndex: 2811774 entries, 0 to 2811773\n",
      "Data columns (total 7 columns):\n",
      " #   Column                   Non-Null Count    Dtype  \n",
      "---  ------                   --------------    -----  \n",
      " 0   tweet_id                 2811774 non-null  int64  \n",
      " 1   author_id                2811774 non-null  object \n",
      " 2   inbound                  2811774 non-null  bool   \n",
      " 3   created_at               2811774 non-null  object \n",
      " 4   text                     2811774 non-null  object \n",
      " 5   response_tweet_id        1771145 non-null  object \n",
      " 6   in_response_to_tweet_id  2017439 non-null  float64\n",
      "dtypes: bool(1), float64(1), int64(1), object(4)\n",
      "memory usage: 131.4+ MB\n"
     ]
    }
   ],
   "source": [
    "# Check data types and memory usage\n",
    "df.info(show_counts = True)"
   ]
  },
  {
   "cell_type": "code",
   "execution_count": 5,
   "metadata": {},
   "outputs": [
    {
     "data": {
      "text/html": [
       "<div>\n",
       "<style scoped>\n",
       "    .dataframe tbody tr th:only-of-type {\n",
       "        vertical-align: middle;\n",
       "    }\n",
       "\n",
       "    .dataframe tbody tr th {\n",
       "        vertical-align: top;\n",
       "    }\n",
       "\n",
       "    .dataframe thead th {\n",
       "        text-align: right;\n",
       "    }\n",
       "</style>\n",
       "<table border=\"1\" class=\"dataframe\">\n",
       "  <thead>\n",
       "    <tr style=\"text-align: right;\">\n",
       "      <th></th>\n",
       "      <th>tweet_id</th>\n",
       "      <th>author_id</th>\n",
       "      <th>inbound</th>\n",
       "      <th>created_at</th>\n",
       "      <th>text</th>\n",
       "      <th>response_tweet_id</th>\n",
       "      <th>in_response_to_tweet_id</th>\n",
       "    </tr>\n",
       "  </thead>\n",
       "  <tbody>\n",
       "    <tr>\n",
       "      <th>5</th>\n",
       "      <td>6</td>\n",
       "      <td>sprintcare</td>\n",
       "      <td>False</td>\n",
       "      <td>Tue Oct 31 21:46:24 +0000 2017</td>\n",
       "      <td>@115712 Can you please send us a private messa...</td>\n",
       "      <td>5,7</td>\n",
       "      <td>8.0</td>\n",
       "    </tr>\n",
       "    <tr>\n",
       "      <th>6</th>\n",
       "      <td>8</td>\n",
       "      <td>115712</td>\n",
       "      <td>True</td>\n",
       "      <td>Tue Oct 31 21:45:10 +0000 2017</td>\n",
       "      <td>@sprintcare is the worst customer service</td>\n",
       "      <td>9,6,10</td>\n",
       "      <td>NaN</td>\n",
       "    </tr>\n",
       "    <tr>\n",
       "      <th>8</th>\n",
       "      <td>12</td>\n",
       "      <td>115713</td>\n",
       "      <td>True</td>\n",
       "      <td>Tue Oct 31 22:04:47 +0000 2017</td>\n",
       "      <td>@sprintcare You gonna magically change your co...</td>\n",
       "      <td>11,13,14</td>\n",
       "      <td>15.0</td>\n",
       "    </tr>\n",
       "    <tr>\n",
       "      <th>15</th>\n",
       "      <td>21</td>\n",
       "      <td>Ask_Spectrum</td>\n",
       "      <td>False</td>\n",
       "      <td>Tue Oct 31 22:14:37 +0000 2017</td>\n",
       "      <td>@115716 What information is incorrect? ^JK</td>\n",
       "      <td>22,23</td>\n",
       "      <td>24.0</td>\n",
       "    </tr>\n",
       "    <tr>\n",
       "      <th>60</th>\n",
       "      <td>66</td>\n",
       "      <td>115728</td>\n",
       "      <td>True</td>\n",
       "      <td>Tue Oct 31 22:03:38 +0000 2017</td>\n",
       "      <td>@ChipotleTweets @28 \\nI don't fit in my Veggie...</td>\n",
       "      <td>64,67</td>\n",
       "      <td>NaN</td>\n",
       "    </tr>\n",
       "  </tbody>\n",
       "</table>\n",
       "</div>"
      ],
      "text/plain": [
       "    tweet_id     author_id  inbound                      created_at  \\\n",
       "5          6    sprintcare    False  Tue Oct 31 21:46:24 +0000 2017   \n",
       "6          8        115712     True  Tue Oct 31 21:45:10 +0000 2017   \n",
       "8         12        115713     True  Tue Oct 31 22:04:47 +0000 2017   \n",
       "15        21  Ask_Spectrum    False  Tue Oct 31 22:14:37 +0000 2017   \n",
       "60        66        115728     True  Tue Oct 31 22:03:38 +0000 2017   \n",
       "\n",
       "                                                 text response_tweet_id  \\\n",
       "5   @115712 Can you please send us a private messa...               5,7   \n",
       "6           @sprintcare is the worst customer service            9,6,10   \n",
       "8   @sprintcare You gonna magically change your co...          11,13,14   \n",
       "15         @115716 What information is incorrect? ^JK             22,23   \n",
       "60  @ChipotleTweets @28 \\nI don't fit in my Veggie...             64,67   \n",
       "\n",
       "    in_response_to_tweet_id  \n",
       "5                       8.0  \n",
       "6                       NaN  \n",
       "8                      15.0  \n",
       "15                     24.0  \n",
       "60                      NaN  "
      ]
     },
     "execution_count": 5,
     "metadata": {},
     "output_type": "execute_result"
    }
   ],
   "source": [
    "# Let's see why \"response_tweet_id\" is an object, not int/float\n",
    "df[df['response_tweet_id'].notna() & df['response_tweet_id'].str.contains(',')].head()"
   ]
  },
  {
   "cell_type": "markdown",
   "metadata": {},
   "source": [
    "It turns out that `response_tweet_id` is a list (array), so we need to parse it correctly before fixing the data type. However, note that the `response_tweet_id` value can also be nan (float)."
   ]
  },
  {
   "cell_type": "code",
   "execution_count": 6,
   "metadata": {},
   "outputs": [],
   "source": [
    "import math\n",
    "import numpy as np\n",
    "\n",
    "def tweet_id_to_arr(value):\n",
    "    # If empty/nan (aka the first tweet) then no need to make it as an array\n",
    "    if type(value) == float and math.isnan(value): return pd.NA\n",
    "    # Numpy's int array doesn't support nan, while Pandas' array does\n",
    "    # However, converting to Pandas' array can be a lot slower\n",
    "    return np.array(value.split(','), dtype = np.int64)\n",
    "\n",
    "df['response_tweet_id'] = df['response_tweet_id'].apply(tweet_id_to_arr)\n",
    "\n",
    "# https://strftime.org/\n",
    "df['created_at'] = pd.to_datetime(df['created_at'], format = '%a %b %d %H:%M:%S %z %Y')\n",
    "\n",
    "# Convert float to Pandas' Int64 (support nan)\n",
    "# Pandas' Int64 array will use \"pd.NA\" rather than \"np.nan\"\n",
    "# https://pandas.pydata.org/docs/user_guide/integer_na.html\n",
    "cols = ['tweet_id', 'in_response_to_tweet_id']\n",
    "df[cols] = df[cols].astype('Int64')"
   ]
  },
  {
   "cell_type": "code",
   "execution_count": 7,
   "metadata": {},
   "outputs": [
    {
     "name": "stdout",
     "output_type": "stream",
     "text": [
      "<class 'numpy.int64'>\n",
      "<class 'pandas._libs.missing.NAType'>\n",
      "<class 'numpy.int64'>\n",
      "<class 'pandas._libs.missing.NAType'>\n"
     ]
    }
   ],
   "source": [
    "# Check whether Numpy's array and Pandas' array and use the same data type\n",
    "print(type(df['response_tweet_id'].iloc[0][0])) # value row\n",
    "print(type(df['response_tweet_id'].iloc[1])) # nan row\n",
    "\n",
    "print(type(df['in_response_to_tweet_id'].iloc[0])) # value row\n",
    "print(type(df['in_response_to_tweet_id'].iloc[6])) # nan row"
   ]
  },
  {
   "cell_type": "code",
   "execution_count": 8,
   "metadata": {},
   "outputs": [
    {
     "name": "stdout",
     "output_type": "stream",
     "text": [
      "<class 'pandas.core.frame.DataFrame'>\n",
      "RangeIndex: 2811774 entries, 0 to 2811773\n",
      "Data columns (total 7 columns):\n",
      " #   Column                   Non-Null Count    Dtype              \n",
      "---  ------                   --------------    -----              \n",
      " 0   tweet_id                 2811774 non-null  Int64              \n",
      " 1   author_id                2811774 non-null  object             \n",
      " 2   inbound                  2811774 non-null  bool               \n",
      " 3   created_at               2811774 non-null  datetime64[ns, UTC]\n",
      " 4   text                     2811774 non-null  object             \n",
      " 5   response_tweet_id        1771145 non-null  object             \n",
      " 6   in_response_to_tweet_id  2017439 non-null  Int64              \n",
      "dtypes: Int64(2), bool(1), datetime64[ns, UTC](1), object(3)\n",
      "memory usage: 136.8+ MB\n"
     ]
    }
   ],
   "source": [
    "df.info(show_counts = True)"
   ]
  },
  {
   "cell_type": "markdown",
   "metadata": {},
   "source": [
    "#### **Basic Text Preprocessing (1)**\n",
    "Before moving on to sentiment analysis, we need to do some text preprocessing first. However, not everything has to be preprocessed/cleaned before doing the analysis. Some sentiment analysis libraries (e.g. [VADER](https://github.com/cjhutto/vaderSentiment)) are able to process raw text or even make a better prediction compared to cleaned text, so we only need to:\n",
    "- Remove non-English tweets\n",
    "- Remove URLs\n",
    "- Remove HTML tags ([entities](https://www.w3schools.com/html/html_entities.asp) currently won't be checked, e.g. `%20`, `&nbsp`)\n",
    "- Remove emails (must be prioritized before mentions)\n",
    "- Remove mentions and hashtags\n",
    "- Remove phone numbers (it's easier to just remove all numbers, but might mess with slang words or emoticons)\n",
    "- Replace repeated characters (3 times+)\n",
    "- Replace non-standard or multiple whitespaces (can be done last)\n",
    "\n",
    "Depending on the libraries/algorithms, we may also need to do:\n",
    "- Slang words and idioms conversion (to a more common words)\n",
    "- Emojis and emoticons removal (or describe it as words)\n",
    "\n",
    "**Note:** Be aware that some (if not most) sentiment analysis libraries are only able to score 1-gram word. [Splitting or describing](https://www.kaggle.com/code/sudalairajkumar/getting-started-with-text-preprocessing) emojis/emoticons/slang as multiple words can also drastically [affect the score](https://medium.com/analytics-vidhya/sentiment-analysis-with-nltk-textblob-and-flair-a321d1460867) (e.g. \"happy smile\" will likely have more positive score than just \"happy\" or \"smile\").\n",
    "\n",
    "See more info about VADER on the next section."
   ]
  },
  {
   "cell_type": "code",
   "execution_count": 9,
   "metadata": {},
   "outputs": [
    {
     "name": "stdout",
     "output_type": "stream",
     "text": [
      "ja\n",
      "False\n"
     ]
    }
   ],
   "source": [
    "# fastText is a NLP library made by Facebook\n",
    "# https://github.com/facebookresearch/fastText\n",
    "import fasttext\n",
    "# Regex\n",
    "import re\n",
    "\n",
    "# Suppress warning on fastText v0.9.2\n",
    "fasttext.FastText.eprint = lambda x: None\n",
    "\n",
    "# Predict language to remove non-English tweets\n",
    "# https://fasttext.cc/docs/en/language-identification.html\n",
    "lang_detector = fasttext.load_model('misc/fastText/lid.176.ftz')\n",
    "\n",
    "def lang_predict(value: str):\n",
    "    # Replace newline and possibly other unsupported whitespace characters\n",
    "    # The model will complain since it thinks each newline might have a different language\n",
    "    value = re.sub(r'\\s+', ' ', value)\n",
    "    # Will return nested tuple (each contains the language code and probability)\n",
    "    result = lang_detector.predict(value)\n",
    "    # ISO-639-1 or ISO-639-2\n",
    "    lang_code = result[0][0].split('__label__')[1]\n",
    "    return lang_code\n",
    "\n",
    "def is_english(value: str):\n",
    "    return lang_predict(value) == 'en'\n",
    "\n",
    "# Check whether fastText can handle non-ASCII text or not\n",
    "# Since there are also non-English tweets (e.g. Japanese)\n",
    "text = 'こんにちは 😊'\n",
    "print(lang_predict(text))\n",
    "print(is_english(text))"
   ]
  },
  {
   "cell_type": "code",
   "execution_count": 10,
   "metadata": {},
   "outputs": [
    {
     "name": "stdout",
     "output_type": "stream",
     "text": [
      "Before non-English language removal: 2811774\n"
     ]
    },
    {
     "data": {
      "application/vnd.jupyter.widget-view+json": {
       "model_id": "462a5b0c4f544652bb8c25e5315ba1f6",
       "version_major": 2,
       "version_minor": 0
      },
      "text/plain": [
       "Pandas Apply:   0%|          | 0/2811774 [00:00<?, ?it/s]"
      ]
     },
     "metadata": {},
     "output_type": "display_data"
    },
    {
     "name": "stdout",
     "output_type": "stream",
     "text": [
      "After non-English language removal: 2674836\n"
     ]
    },
    {
     "data": {
      "text/html": [
       "<div>\n",
       "<style scoped>\n",
       "    .dataframe tbody tr th:only-of-type {\n",
       "        vertical-align: middle;\n",
       "    }\n",
       "\n",
       "    .dataframe tbody tr th {\n",
       "        vertical-align: top;\n",
       "    }\n",
       "\n",
       "    .dataframe thead th {\n",
       "        text-align: right;\n",
       "    }\n",
       "</style>\n",
       "<table border=\"1\" class=\"dataframe\">\n",
       "  <thead>\n",
       "    <tr style=\"text-align: right;\">\n",
       "      <th></th>\n",
       "      <th>tweet_id</th>\n",
       "      <th>author_id</th>\n",
       "      <th>inbound</th>\n",
       "      <th>created_at</th>\n",
       "      <th>text</th>\n",
       "      <th>response_tweet_id</th>\n",
       "      <th>in_response_to_tweet_id</th>\n",
       "    </tr>\n",
       "  </thead>\n",
       "  <tbody>\n",
       "    <tr>\n",
       "      <th>0</th>\n",
       "      <td>1</td>\n",
       "      <td>sprintcare</td>\n",
       "      <td>False</td>\n",
       "      <td>2017-10-31 22:10:47+00:00</td>\n",
       "      <td>@115712 I understand. I would like to assist y...</td>\n",
       "      <td>[2]</td>\n",
       "      <td>3</td>\n",
       "    </tr>\n",
       "    <tr>\n",
       "      <th>1</th>\n",
       "      <td>2</td>\n",
       "      <td>115712</td>\n",
       "      <td>True</td>\n",
       "      <td>2017-10-31 22:11:45+00:00</td>\n",
       "      <td>@sprintcare and how do you propose we do that</td>\n",
       "      <td>&lt;NA&gt;</td>\n",
       "      <td>1</td>\n",
       "    </tr>\n",
       "    <tr>\n",
       "      <th>2</th>\n",
       "      <td>3</td>\n",
       "      <td>115712</td>\n",
       "      <td>True</td>\n",
       "      <td>2017-10-31 22:08:27+00:00</td>\n",
       "      <td>@sprintcare I have sent several private messag...</td>\n",
       "      <td>[1]</td>\n",
       "      <td>4</td>\n",
       "    </tr>\n",
       "    <tr>\n",
       "      <th>3</th>\n",
       "      <td>4</td>\n",
       "      <td>sprintcare</td>\n",
       "      <td>False</td>\n",
       "      <td>2017-10-31 21:54:49+00:00</td>\n",
       "      <td>@115712 Please send us a Private Message so th...</td>\n",
       "      <td>[3]</td>\n",
       "      <td>5</td>\n",
       "    </tr>\n",
       "    <tr>\n",
       "      <th>4</th>\n",
       "      <td>5</td>\n",
       "      <td>115712</td>\n",
       "      <td>True</td>\n",
       "      <td>2017-10-31 21:49:35+00:00</td>\n",
       "      <td>@sprintcare I did.</td>\n",
       "      <td>[4]</td>\n",
       "      <td>6</td>\n",
       "    </tr>\n",
       "  </tbody>\n",
       "</table>\n",
       "</div>"
      ],
      "text/plain": [
       "   tweet_id   author_id  inbound                created_at  \\\n",
       "0         1  sprintcare    False 2017-10-31 22:10:47+00:00   \n",
       "1         2      115712     True 2017-10-31 22:11:45+00:00   \n",
       "2         3      115712     True 2017-10-31 22:08:27+00:00   \n",
       "3         4  sprintcare    False 2017-10-31 21:54:49+00:00   \n",
       "4         5      115712     True 2017-10-31 21:49:35+00:00   \n",
       "\n",
       "                                                text response_tweet_id  \\\n",
       "0  @115712 I understand. I would like to assist y...               [2]   \n",
       "1      @sprintcare and how do you propose we do that              <NA>   \n",
       "2  @sprintcare I have sent several private messag...               [1]   \n",
       "3  @115712 Please send us a Private Message so th...               [3]   \n",
       "4                                 @sprintcare I did.               [4]   \n",
       "\n",
       "   in_response_to_tweet_id  \n",
       "0                        3  \n",
       "1                        1  \n",
       "2                        4  \n",
       "3                        5  \n",
       "4                        6  "
      ]
     },
     "execution_count": 10,
     "metadata": {},
     "output_type": "execute_result"
    }
   ],
   "source": [
    "import swifter\n",
    "\n",
    "# Pandas' \"apply\" function is not very efficient and may only use single core\n",
    "# https://stackoverflow.com/questions/45545110/make-pandas-dataframe-apply-use-all-cores\n",
    "# https://github.com/jmcarpenter2/swifter/blob/master/docs/documentation.md\n",
    "swifter.set_defaults(allow_dask_on_strings = True, force_parallel = True)\n",
    "\n",
    "print(f'Before non-English language removal: {len(df)}')\n",
    "\n",
    "# Now remove the non-English languages from the dataset (1-3 minutes)\n",
    "df['text'] = df['text'].swifter.apply(lambda x: x if is_english(x) else pd.NA)\n",
    "df.dropna(subset = ['text'], inplace = True)\n",
    "\n",
    "print(f'After non-English language removal: {len(df)}')\n",
    "\n",
    "df.head()"
   ]
  },
  {
   "cell_type": "code",
   "execution_count": 11,
   "metadata": {},
   "outputs": [
    {
     "name": "stdout",
     "output_type": "stream",
     "text": [
      "Hi @user_name please contact us at aaa@aaa.com or +1 (234) 567-890 #Support\n",
      "Hi please contact us at or \n"
     ]
    }
   ],
   "source": [
    "def preproc_useless_info(value: str):\n",
    "    # Compile regex or not?\n",
    "    # https://stackoverflow.com/questions/452104/is-it-worth-using-pythons-re-compile\n",
    "\n",
    "    # Remove URLs\n",
    "    value = re.sub(r'https?://\\S+|www\\.\\S+', ' ', value)\n",
    "    # Remove HTML tags\n",
    "    value = re.sub(r'<.*?>', ' ', value)\n",
    "    # Remove emails (underscore is already included as part of \"\\w\")\n",
    "    value = re.sub(r'[\\w\\.\\-]+@[\\w\\.]+', ' ', value)\n",
    "    # Remove mentions and hashtags\n",
    "    value = re.sub(r'[@|#]\\w+', ' ', value)\n",
    "    # Remove phone numbers\n",
    "    # +12345678, +1 234-5678, +1 (234) 5678, etc\n",
    "    # https://uibakery.io/regex-library/phone-number-python\n",
    "    phone_re = r'\\+?\\d{1,4}?[-.\\s]?\\(?\\d{1,3}?\\)?[-.\\s]?\\d{1,4}[-.\\s]?\\d{1,4}[-.\\s]?\\d{1,9}'\n",
    "    value = re.sub(phone_re, ' ', value)\n",
    "    # Replace repeating characters 3 times+ (e.g. buuut -> but)\n",
    "    value = re.sub(r'(\\w)(\\1{2,})', r'\\1', value)\n",
    "    # FIXME Replace repeating words/emojis 2 times+ (e.g. very very bad, 🤮🤮🤮)\n",
    "    # value = re.sub(r'\\b(\\w+)\\s+\\1\\b', r'\\1', value)\n",
    "\n",
    "    # Replace non-standard or multiple whitespaces with a normal space\n",
    "    value = re.sub(r'\\s+', ' ', value)\n",
    "\n",
    "    return value\n",
    "\n",
    "# Test the preprocessing function\n",
    "text = 'Hi @user_name please contact us at aaa@aaa.com or +1 (234) 567-890 #Support'\n",
    "print(text)\n",
    "print(preproc_useless_info(text))"
   ]
  },
  {
   "cell_type": "code",
   "execution_count": 12,
   "metadata": {},
   "outputs": [
    {
     "data": {
      "application/vnd.jupyter.widget-view+json": {
       "model_id": "0e500927120240c9918fee87418bf54c",
       "version_major": 2,
       "version_minor": 0
      },
      "text/plain": [
       "Pandas Apply:   0%|          | 0/2674836 [00:00<?, ?it/s]"
      ]
     },
     "metadata": {},
     "output_type": "display_data"
    },
    {
     "data": {
      "text/html": [
       "<div>\n",
       "<style scoped>\n",
       "    .dataframe tbody tr th:only-of-type {\n",
       "        vertical-align: middle;\n",
       "    }\n",
       "\n",
       "    .dataframe tbody tr th {\n",
       "        vertical-align: top;\n",
       "    }\n",
       "\n",
       "    .dataframe thead th {\n",
       "        text-align: right;\n",
       "    }\n",
       "</style>\n",
       "<table border=\"1\" class=\"dataframe\">\n",
       "  <thead>\n",
       "    <tr style=\"text-align: right;\">\n",
       "      <th></th>\n",
       "      <th>tweet_id</th>\n",
       "      <th>author_id</th>\n",
       "      <th>inbound</th>\n",
       "      <th>created_at</th>\n",
       "      <th>text</th>\n",
       "      <th>response_tweet_id</th>\n",
       "      <th>in_response_to_tweet_id</th>\n",
       "    </tr>\n",
       "  </thead>\n",
       "  <tbody>\n",
       "    <tr>\n",
       "      <th>0</th>\n",
       "      <td>1</td>\n",
       "      <td>sprintcare</td>\n",
       "      <td>False</td>\n",
       "      <td>2017-10-31 22:10:47+00:00</td>\n",
       "      <td>I understand. I would like to assist you. We ...</td>\n",
       "      <td>[2]</td>\n",
       "      <td>3</td>\n",
       "    </tr>\n",
       "    <tr>\n",
       "      <th>1</th>\n",
       "      <td>2</td>\n",
       "      <td>115712</td>\n",
       "      <td>True</td>\n",
       "      <td>2017-10-31 22:11:45+00:00</td>\n",
       "      <td>and how do you propose we do that</td>\n",
       "      <td>&lt;NA&gt;</td>\n",
       "      <td>1</td>\n",
       "    </tr>\n",
       "    <tr>\n",
       "      <th>2</th>\n",
       "      <td>3</td>\n",
       "      <td>115712</td>\n",
       "      <td>True</td>\n",
       "      <td>2017-10-31 22:08:27+00:00</td>\n",
       "      <td>I have sent several private messages and no o...</td>\n",
       "      <td>[1]</td>\n",
       "      <td>4</td>\n",
       "    </tr>\n",
       "    <tr>\n",
       "      <th>3</th>\n",
       "      <td>4</td>\n",
       "      <td>sprintcare</td>\n",
       "      <td>False</td>\n",
       "      <td>2017-10-31 21:54:49+00:00</td>\n",
       "      <td>Please send us a Private Message so that we c...</td>\n",
       "      <td>[3]</td>\n",
       "      <td>5</td>\n",
       "    </tr>\n",
       "    <tr>\n",
       "      <th>4</th>\n",
       "      <td>5</td>\n",
       "      <td>115712</td>\n",
       "      <td>True</td>\n",
       "      <td>2017-10-31 21:49:35+00:00</td>\n",
       "      <td>I did.</td>\n",
       "      <td>[4]</td>\n",
       "      <td>6</td>\n",
       "    </tr>\n",
       "  </tbody>\n",
       "</table>\n",
       "</div>"
      ],
      "text/plain": [
       "   tweet_id   author_id  inbound                created_at  \\\n",
       "0         1  sprintcare    False 2017-10-31 22:10:47+00:00   \n",
       "1         2      115712     True 2017-10-31 22:11:45+00:00   \n",
       "2         3      115712     True 2017-10-31 22:08:27+00:00   \n",
       "3         4  sprintcare    False 2017-10-31 21:54:49+00:00   \n",
       "4         5      115712     True 2017-10-31 21:49:35+00:00   \n",
       "\n",
       "                                                text response_tweet_id  \\\n",
       "0   I understand. I would like to assist you. We ...               [2]   \n",
       "1                  and how do you propose we do that              <NA>   \n",
       "2   I have sent several private messages and no o...               [1]   \n",
       "3   Please send us a Private Message so that we c...               [3]   \n",
       "4                                             I did.               [4]   \n",
       "\n",
       "   in_response_to_tweet_id  \n",
       "0                        3  \n",
       "1                        1  \n",
       "2                        4  \n",
       "3                        5  \n",
       "4                        6  "
      ]
     },
     "execution_count": 12,
     "metadata": {},
     "output_type": "execute_result"
    }
   ],
   "source": [
    "# Preprocess the dataset for sentiment analysis (1-2 minutes)\n",
    "df['text'] = df['text'].swifter.apply(preproc_useless_info)\n",
    "df.head()"
   ]
  },
  {
   "cell_type": "markdown",
   "metadata": {},
   "source": [
    "#### **Sentiment Analysis**\n",
    "I'm going to use VADER ([standalone](https://github.com/cjhutto/vaderSentiment) | [NLTK](https://www.nltk.org/_modules/nltk/sentiment/vader.html)) as the sentiment analysis library. Based on the docs, VADER has/can detect:\n",
    "- 7520 [vocabulary](https://github.com/cjhutto/vaderSentiment/blob/master/vaderSentiment/vader_lexicon.txt) (includes emoticons) and 3570 [emojis](https://github.com/cjhutto/vaderSentiment/blob/master/vaderSentiment/emoji_utf8_lexicon.txt)\n",
    "- Negation and contrasted negation: `not good`, `wasn't very good`\n",
    "- Upper case and punctuation: `I'M ANGRY!!!`\n",
    "- Slang words: `kinda`, `lol`, `sux`, etc\n",
    "- Emojis and emoticons: `:)`, 😁, 💘, etc\n",
    "\n",
    "Obviously, there are also other sentiment analysis algorithms, but VADER seems to be the best for now, with a few [issues](https://github.com/cjhutto/vaderSentiment/issues):\n",
    "- Can't detect irony/satire/sarcasm (like all other alternatives)\n",
    "- Can only work accurately on English language\n",
    "- May not be able to detect N-gram words and idioms (fed up, piece of cake, etc), though it still work with negated/intensified word like `not`, `very`, etc\n",
    "- Most likely not all slang words and emojis/emoticons are covered (especially all that are newer than VADER itself)\n",
    "- When using VADER via NLTK, emojis won't be checked, it is probably using the outdated VADER version\n",
    "\n",
    "VADER alternatives (comparison [[1](https://www.researchgate.net/publication/343473213)] [[2](https://towardsdatascience.com/ab561f834f89)] [[3](https://towardsdatascience.com/the-best-python-sentiment-analysis-package-1-huge-common-mistake-d6da9ad6cdeb)] [[4](https://medium.com/analytics-vidhya/sentiment-analysis-with-nltk-textblob-and-flair-a321d1460867)] [[5](https://www.kaggle.com/discussions/questions-and-answers/231701)]):\n",
    "- AFINN\n",
    "- SentiWordNet\n",
    "- TextBlob\n",
    "- FLAIR (good alternative)\n",
    "- fastText (need model)\n",
    "- Naive Bayes\n",
    "- RNN/LSTM/GRU (which we are gonna do later)"
   ]
  },
  {
   "cell_type": "code",
   "execution_count": 13,
   "metadata": {},
   "outputs": [],
   "source": [
    "# Use the \"misc\" folder to look up for NLTK data\n",
    "# Doesn't always work, may be hardcoded somewhere\n",
    "os.environ['NLTK_DATA'] = os.path.abspath('misc')\n",
    "\n",
    "import nltk\n",
    "nltk.data.path.append(os.path.abspath('misc'))"
   ]
  },
  {
   "cell_type": "code",
   "execution_count": 14,
   "metadata": {},
   "outputs": [
    {
     "name": "stdout",
     "output_type": "stream",
     "text": [
      "Positive: 0\n",
      "Neutral: 1\n",
      "Negative: 2\n"
     ]
    }
   ],
   "source": [
    "import numpy as np\n",
    "# import nltk.sentiment.vader as vader\n",
    "import vaderSentiment.vaderSentiment as vader\n",
    "\n",
    "try:\n",
    "    # Load the pre-downloaded vocabulary (v3.3.2), for NLTK\n",
    "    sia = vader.SentimentIntensityAnalyzer('misc/sentiment/vader_lexicon.txt')\n",
    "except:\n",
    "    # Load the default vocabulary\n",
    "    sia = vader.SentimentIntensityAnalyzer()\n",
    "\n",
    "def vader_sentiment(value: str, class_mode = 'binary'):\n",
    "    # https://github.com/cjhutto/vaderSentiment#about-the-scoring\n",
    "    scores = sia.polarity_scores(value)\n",
    "\n",
    "    if class_mode == 'label':\n",
    "        if scores['compound'] >= 0.5: return 'Positive'\n",
    "        elif scores['compound'] <= -0.5: return 'Negative'\n",
    "        return 'Neutral'\n",
    "    elif class_mode == 'binary':\n",
    "        if scores['compound'] >= 0.5: return 0\n",
    "        elif scores['compound'] <= -0.5: return 2\n",
    "        return 1\n",
    "    elif class_mode == 'one_hot':\n",
    "        if scores['compound'] >= 0.5: return np.array([1, 0, 0])\n",
    "        elif scores['compound'] <= -0.5: return np.array([0, 0, 1])\n",
    "        return np.array([0, 1, 0])\n",
    "\n",
    "# Test the sentiment analysis\n",
    "# Note that NLTK's VADER doesn't support emojis (use standalone VADER instead)\n",
    "print('Positive:', vader_sentiment('It is ok 😁'))\n",
    "print('Neutral:', vader_sentiment('Your customer service is so-so'))\n",
    "print('Negative:', vader_sentiment('The service is NOT GOOD at all!'))"
   ]
  },
  {
   "cell_type": "code",
   "execution_count": 15,
   "metadata": {},
   "outputs": [
    {
     "data": {
      "application/vnd.jupyter.widget-view+json": {
       "model_id": "08101bf4ce6c4452a8e10c7820a2a8d6",
       "version_major": 2,
       "version_minor": 0
      },
      "text/plain": [
       "Pandas Apply:   0%|          | 0/2674836 [00:00<?, ?it/s]"
      ]
     },
     "metadata": {},
     "output_type": "display_data"
    },
    {
     "data": {
      "text/html": [
       "<div>\n",
       "<style scoped>\n",
       "    .dataframe tbody tr th:only-of-type {\n",
       "        vertical-align: middle;\n",
       "    }\n",
       "\n",
       "    .dataframe tbody tr th {\n",
       "        vertical-align: top;\n",
       "    }\n",
       "\n",
       "    .dataframe thead th {\n",
       "        text-align: right;\n",
       "    }\n",
       "</style>\n",
       "<table border=\"1\" class=\"dataframe\">\n",
       "  <thead>\n",
       "    <tr style=\"text-align: right;\">\n",
       "      <th></th>\n",
       "      <th>tweet_id</th>\n",
       "      <th>author_id</th>\n",
       "      <th>inbound</th>\n",
       "      <th>created_at</th>\n",
       "      <th>text</th>\n",
       "      <th>response_tweet_id</th>\n",
       "      <th>in_response_to_tweet_id</th>\n",
       "      <th>label</th>\n",
       "    </tr>\n",
       "  </thead>\n",
       "  <tbody>\n",
       "    <tr>\n",
       "      <th>0</th>\n",
       "      <td>1</td>\n",
       "      <td>sprintcare</td>\n",
       "      <td>False</td>\n",
       "      <td>2017-10-31 22:10:47+00:00</td>\n",
       "      <td>I understand. I would like to assist you. We ...</td>\n",
       "      <td>[2]</td>\n",
       "      <td>3</td>\n",
       "      <td>0</td>\n",
       "    </tr>\n",
       "    <tr>\n",
       "      <th>1</th>\n",
       "      <td>2</td>\n",
       "      <td>115712</td>\n",
       "      <td>True</td>\n",
       "      <td>2017-10-31 22:11:45+00:00</td>\n",
       "      <td>and how do you propose we do that</td>\n",
       "      <td>&lt;NA&gt;</td>\n",
       "      <td>1</td>\n",
       "      <td>1</td>\n",
       "    </tr>\n",
       "    <tr>\n",
       "      <th>2</th>\n",
       "      <td>3</td>\n",
       "      <td>115712</td>\n",
       "      <td>True</td>\n",
       "      <td>2017-10-31 22:08:27+00:00</td>\n",
       "      <td>I have sent several private messages and no o...</td>\n",
       "      <td>[1]</td>\n",
       "      <td>4</td>\n",
       "      <td>1</td>\n",
       "    </tr>\n",
       "    <tr>\n",
       "      <th>3</th>\n",
       "      <td>4</td>\n",
       "      <td>sprintcare</td>\n",
       "      <td>False</td>\n",
       "      <td>2017-10-31 21:54:49+00:00</td>\n",
       "      <td>Please send us a Private Message so that we c...</td>\n",
       "      <td>[3]</td>\n",
       "      <td>5</td>\n",
       "      <td>1</td>\n",
       "    </tr>\n",
       "    <tr>\n",
       "      <th>4</th>\n",
       "      <td>5</td>\n",
       "      <td>115712</td>\n",
       "      <td>True</td>\n",
       "      <td>2017-10-31 21:49:35+00:00</td>\n",
       "      <td>I did.</td>\n",
       "      <td>[4]</td>\n",
       "      <td>6</td>\n",
       "      <td>1</td>\n",
       "    </tr>\n",
       "  </tbody>\n",
       "</table>\n",
       "</div>"
      ],
      "text/plain": [
       "   tweet_id   author_id  inbound                created_at  \\\n",
       "0         1  sprintcare    False 2017-10-31 22:10:47+00:00   \n",
       "1         2      115712     True 2017-10-31 22:11:45+00:00   \n",
       "2         3      115712     True 2017-10-31 22:08:27+00:00   \n",
       "3         4  sprintcare    False 2017-10-31 21:54:49+00:00   \n",
       "4         5      115712     True 2017-10-31 21:49:35+00:00   \n",
       "\n",
       "                                                text response_tweet_id  \\\n",
       "0   I understand. I would like to assist you. We ...               [2]   \n",
       "1                  and how do you propose we do that              <NA>   \n",
       "2   I have sent several private messages and no o...               [1]   \n",
       "3   Please send us a Private Message so that we c...               [3]   \n",
       "4                                             I did.               [4]   \n",
       "\n",
       "   in_response_to_tweet_id  label  \n",
       "0                        3      0  \n",
       "1                        1      1  \n",
       "2                        4      1  \n",
       "3                        5      1  \n",
       "4                        6      1  "
      ]
     },
     "execution_count": 15,
     "metadata": {},
     "output_type": "execute_result"
    }
   ],
   "source": [
    "# Analyze tweets sentiment analysis (2-4 minute)\n",
    "df['label'] = df['text'].swifter.apply(vader_sentiment)\n",
    "df.head()"
   ]
  },
  {
   "cell_type": "code",
   "execution_count": 16,
   "metadata": {},
   "outputs": [
    {
     "data": {
      "image/png": "[encoded data removed]"
     },
     "metadata": {},
     "output_type": "display_data"
    }
   ],
   "source": [
    "import plotly.express as px\n",
    "import plotly.graph_objects as go\n",
    "\n",
    "fig = go.Figure(\n",
    "    go.Bar(\n",
    "        x = ['Positive', 'Neutral', 'Negative'],\n",
    "        # Binary label\n",
    "        y = df['label'].value_counts().sort_index()\n",
    "        # One hot label\n",
    "        # y = np.sum(df['label'].values)\n",
    "    )\n",
    ")\n",
    "\n",
    "fig.update_layout(title_text = 'Tweet Sentiment Distribution')\n",
    "fig.show()"
   ]
  },
  {
   "cell_type": "markdown",
   "metadata": {},
   "source": [
    "The distribution is not balanced, we need to apply either downsampling and/or upsampling (augmentation) after this."
   ]
  },
  {
   "cell_type": "markdown",
   "metadata": {},
   "source": [
    "##### **Tweet Augmentation**\n",
    "As you can see from the earlier graph, the tweet distribution is not balanced, so we need to augment some tweets to increase the data (especially the minority class). There are a few ready-made libraries we can use:\n",
    "- `nlpaug`: Slower, but provide more authentic data (synonym/antonym, insert new word, etc)\n",
    "- `imblearn`: Faster, but the augmented word may not represent real data (vector level augmentation, e.g. SMOTE)\n",
    "\n",
    "Note that augmentation is a form of oversampling, since the data is already huge, we can also apply undersampling at the end of this section."
   ]
  },
  {
   "cell_type": "code",
   "execution_count": 17,
   "metadata": {},
   "outputs": [
    {
     "name": "stdout",
     "output_type": "stream",
     "text": [
      "Original: Your service is trully the worst!\n",
      "Synonym: Your robert william service is trully the big!\n",
      "Antonym: Your service is trully the unregretful!\n"
     ]
    }
   ],
   "source": [
    "from nltk.corpus import stopwords\n",
    "import nlpaug.augmenter.word as naw\n",
    "import multiprocessing as mp\n",
    "\n",
    "try:\n",
    "    # Import the stopwords list\n",
    "    # Very important, especially for antonym augmentation\n",
    "    # Words like not, very, etc may have opposite effect if not ignored\n",
    "    stop_words = set(stopwords.words('english'))\n",
    "except:\n",
    "    nltk.download('stopwords')\n",
    "    stop_words = set(stopwords.words('english'))\n",
    "\n",
    "# Don't reinitialize the augmenter on every function call\n",
    "# \"aug_p\" is the percentage of words to be augmented\n",
    "# \"stopwords\" will ignore specified words, but doesn't replace/remove them\n",
    "aug_ant = naw.AntonymAug(aug_p = 0.8, stopwords = stop_words)\n",
    "aug_syn = naw.SynonymAug(aug_src = 'wordnet', aug_p = 0.6, stopwords = stop_words)\n",
    "\n",
    "# Replace words in a sentence with their synonym or antonym\n",
    "# https://github.com/makcedward/nlpaug/blob/master/example/textual_augmenter.ipynb\n",
    "def preproc_augment(value: str, synonym = True):\n",
    "    if synonym:\n",
    "        # Augment will return a list, even if there is only 1 output\n",
    "        value = aug_syn.augment(value, num_thread = mp.cpu_count())[0]\n",
    "    else:\n",
    "        # Note that for antonym, the augmenter doesn't replace emojis with their inverse variants\n",
    "        # So we will need to remove emojis (and/or emoticons) after applying the antonym\n",
    "        # https://stackoverflow.com/questions/33404752/removing-emojis-from-a-string-in-python/\n",
    "        value = aug_ant.augment(value, num_thread = mp.cpu_count())[0]\n",
    "        value = value.encode('latin-1', 'ignore').decode('latin-1')\n",
    "\n",
    "    return value\n",
    "\n",
    "text = 'Your service is trully the worst!'\n",
    "print('Original:', text)\n",
    "\n",
    "print('Synonym:', preproc_augment(text))\n",
    "print('Antonym:', preproc_augment(text, False))"
   ]
  },
  {
   "cell_type": "markdown",
   "metadata": {},
   "source": [
    "Based on my observation, `nlpaug`'s built-in tokenizer will not lowercase words, it only use regex `\\w` (alphabet + digit) match and then split it (check the `WordAugmenter` source code to see it).\n",
    "\n",
    "If there is a stopword in a sentence that contains mixed/upper case (e.g. `It`, `IT`), it will still be processed (not ignored). In this case, the word may be replaced with `information technology` (which is wrong if the original sentence is `IT IS BAD!!!`). The side effect is not that severe in the case of sentiment analysis, but still need caution."
   ]
  },
  {
   "cell_type": "code",
   "execution_count": 18,
   "metadata": {},
   "outputs": [],
   "source": [
    "def label_equal(label, df):\n",
    "    # The usual Pandas value query won't work if the data type is an array\n",
    "    # It will assign the array to replace the whole column instead\n",
    "\n",
    "    # Workaround to filter tweets belonging to a certain \"label\" (one hot array)\n",
    "    # \"label\" is either positive (100), neutral (010), or negative (001)\n",
    "    return df['label'].apply(lambda x:\n",
    "        # One hot label\n",
    "        np.array_equal(x, label)\n",
    "        if type(x) == np.ndarray\n",
    "        # Binary label\n",
    "        else x == np.argmax(label)\n",
    "    )"
   ]
  },
  {
   "cell_type": "code",
   "execution_count": 19,
   "metadata": {},
   "outputs": [
    {
     "name": "stdout",
     "output_type": "stream",
     "text": [
      "234006\n"
     ]
    },
    {
     "data": {
      "text/html": [
       "<div>\n",
       "<style scoped>\n",
       "    .dataframe tbody tr th:only-of-type {\n",
       "        vertical-align: middle;\n",
       "    }\n",
       "\n",
       "    .dataframe tbody tr th {\n",
       "        vertical-align: top;\n",
       "    }\n",
       "\n",
       "    .dataframe thead th {\n",
       "        text-align: right;\n",
       "    }\n",
       "</style>\n",
       "<table border=\"1\" class=\"dataframe\">\n",
       "  <thead>\n",
       "    <tr style=\"text-align: right;\">\n",
       "      <th></th>\n",
       "      <th>tweet_id</th>\n",
       "      <th>author_id</th>\n",
       "      <th>inbound</th>\n",
       "      <th>created_at</th>\n",
       "      <th>text</th>\n",
       "      <th>response_tweet_id</th>\n",
       "      <th>in_response_to_tweet_id</th>\n",
       "      <th>label</th>\n",
       "      <th>augmented</th>\n",
       "    </tr>\n",
       "  </thead>\n",
       "  <tbody>\n",
       "    <tr>\n",
       "      <th>0</th>\n",
       "      <td>8</td>\n",
       "      <td>115712</td>\n",
       "      <td>True</td>\n",
       "      <td>2017-10-31 21:45:10</td>\n",
       "      <td>is the bad client military service</td>\n",
       "      <td>[ 9  6 10]</td>\n",
       "      <td>NaN</td>\n",
       "      <td>2</td>\n",
       "      <td>True</td>\n",
       "    </tr>\n",
       "    <tr>\n",
       "      <th>1</th>\n",
       "      <td>11</td>\n",
       "      <td>sprintcare</td>\n",
       "      <td>False</td>\n",
       "      <td>2017-10-31 22:10:35</td>\n",
       "      <td>This is sadden to take heed. Please sprout ame...</td>\n",
       "      <td>NaN</td>\n",
       "      <td>12.0</td>\n",
       "      <td>2</td>\n",
       "      <td>True</td>\n",
       "    </tr>\n",
       "    <tr>\n",
       "      <th>2</th>\n",
       "      <td>12</td>\n",
       "      <td>115713</td>\n",
       "      <td>True</td>\n",
       "      <td>2017-10-31 22:04:47</td>\n",
       "      <td>You gonna as if by magic convert your connecti...</td>\n",
       "      <td>[11 13 14]</td>\n",
       "      <td>15.0</td>\n",
       "      <td>2</td>\n",
       "      <td>True</td>\n",
       "    </tr>\n",
       "    <tr>\n",
       "      <th>3</th>\n",
       "      <td>36</td>\n",
       "      <td>115719</td>\n",
       "      <td>True</td>\n",
       "      <td>2017-10-31 22:10:46</td>\n",
       "      <td>mortal from please assist me 😩 😩 😩 😩 1 ' m hav...</td>\n",
       "      <td>[34]</td>\n",
       "      <td>NaN</td>\n",
       "      <td>2</td>\n",
       "      <td>True</td>\n",
       "    </tr>\n",
       "    <tr>\n",
       "      <th>4</th>\n",
       "      <td>57</td>\n",
       "      <td>115723</td>\n",
       "      <td>True</td>\n",
       "      <td>2017-10-31 19:58:22</td>\n",
       "      <td>Cut out every xx second this is derisory</td>\n",
       "      <td>[56]</td>\n",
       "      <td>58.0</td>\n",
       "      <td>2</td>\n",
       "      <td>True</td>\n",
       "    </tr>\n",
       "  </tbody>\n",
       "</table>\n",
       "</div>"
      ],
      "text/plain": [
       "   tweet_id   author_id  inbound           created_at  \\\n",
       "0         8      115712     True  2017-10-31 21:45:10   \n",
       "1        11  sprintcare    False  2017-10-31 22:10:35   \n",
       "2        12      115713     True  2017-10-31 22:04:47   \n",
       "3        36      115719     True  2017-10-31 22:10:46   \n",
       "4        57      115723     True  2017-10-31 19:58:22   \n",
       "\n",
       "                                                text response_tweet_id  \\\n",
       "0                 is the bad client military service        [ 9  6 10]   \n",
       "1  This is sadden to take heed. Please sprout ame...               NaN   \n",
       "2  You gonna as if by magic convert your connecti...        [11 13 14]   \n",
       "3  mortal from please assist me 😩 😩 😩 😩 1 ' m hav...              [34]   \n",
       "4           Cut out every xx second this is derisory              [56]   \n",
       "\n",
       "   in_response_to_tweet_id  label  augmented  \n",
       "0                      NaN      2       True  \n",
       "1                     12.0      2       True  \n",
       "2                     15.0      2       True  \n",
       "3                      NaN      2       True  \n",
       "4                     58.0      2       True  "
      ]
     },
     "execution_count": 19,
     "metadata": {},
     "output_type": "execute_result"
    }
   ],
   "source": [
    "# Mark all members of the original dataframe as real data (not augmented)\n",
    "df['augmented'] = False\n",
    "\n",
    "if os.path.isfile('data/df_neg_1.csv'):\n",
    "    # Load the saved augmented data if available\n",
    "    df_neg_1 = pd.read_csv('data/df_neg_1.csv')\n",
    "else:\n",
    "    # Apply synonym augmentation to negative tweets (20-23 minutes)\n",
    "    df_neg_1 = df[ label_equal(np.array([0, 0, 1]), df) ]\n",
    "    df_neg_1['text'] = df_neg_1['text'].swifter.apply(preproc_augment)\n",
    "    # Mark the augmented data\n",
    "    df_neg_1['augmented'] = True\n",
    "\n",
    "print(len(df_neg_1))\n",
    "df_neg_1.head()"
   ]
  },
  {
   "cell_type": "markdown",
   "metadata": {},
   "source": [
    "- Negative tweets (combined with the original) after the previous augmentation should be around 468k (234k * 2)\n",
    "- It's still less than the positive tweets count (730k), so we need more augmentation (apply antonym to positive tweets)"
   ]
  },
  {
   "cell_type": "code",
   "execution_count": 20,
   "metadata": {},
   "outputs": [
    {
     "name": "stdout",
     "output_type": "stream",
     "text": [
      "After filter: 30208\n"
     ]
    },
    {
     "data": {
      "text/html": [
       "<div>\n",
       "<style scoped>\n",
       "    .dataframe tbody tr th:only-of-type {\n",
       "        vertical-align: middle;\n",
       "    }\n",
       "\n",
       "    .dataframe tbody tr th {\n",
       "        vertical-align: top;\n",
       "    }\n",
       "\n",
       "    .dataframe thead th {\n",
       "        text-align: right;\n",
       "    }\n",
       "</style>\n",
       "<table border=\"1\" class=\"dataframe\">\n",
       "  <thead>\n",
       "    <tr style=\"text-align: right;\">\n",
       "      <th></th>\n",
       "      <th>tweet_id</th>\n",
       "      <th>author_id</th>\n",
       "      <th>inbound</th>\n",
       "      <th>created_at</th>\n",
       "      <th>text</th>\n",
       "      <th>response_tweet_id</th>\n",
       "      <th>in_response_to_tweet_id</th>\n",
       "      <th>label</th>\n",
       "      <th>augmented</th>\n",
       "    </tr>\n",
       "  </thead>\n",
       "  <tbody>\n",
       "    <tr>\n",
       "      <th>0</th>\n",
       "      <td>159</td>\n",
       "      <td>115736</td>\n",
       "      <td>True</td>\n",
       "      <td>2017-10-31 22:00:10</td>\n",
       "      <td>Btw starve out $ 3 burritos if you undress up ...</td>\n",
       "      <td>[158]</td>\n",
       "      <td>NaN</td>\n",
       "      <td>2</td>\n",
       "      <td>True</td>\n",
       "    </tr>\n",
       "    <tr>\n",
       "      <th>1</th>\n",
       "      <td>316</td>\n",
       "      <td>115785</td>\n",
       "      <td>True</td>\n",
       "      <td>2017-11-01 01:13:10</td>\n",
       "      <td>Kinda obviate to unmake uncertain I have 680 $...</td>\n",
       "      <td>NaN</td>\n",
       "      <td>315.0</td>\n",
       "      <td>2</td>\n",
       "      <td>True</td>\n",
       "    </tr>\n",
       "    <tr>\n",
       "      <th>2</th>\n",
       "      <td>311</td>\n",
       "      <td>115785</td>\n",
       "      <td>True</td>\n",
       "      <td>2017-10-31 20:04:15</td>\n",
       "      <td>Would dislike to ignore so I can break uncerta...</td>\n",
       "      <td>[309]</td>\n",
       "      <td>318.0</td>\n",
       "      <td>2</td>\n",
       "      <td>True</td>\n",
       "    </tr>\n",
       "    <tr>\n",
       "      <th>3</th>\n",
       "      <td>337</td>\n",
       "      <td>115797</td>\n",
       "      <td>True</td>\n",
       "      <td>2017-11-09 20:15:48</td>\n",
       "      <td>Hi! i would dislike to ignore on my itenerary ...</td>\n",
       "      <td>[338]</td>\n",
       "      <td>335.0</td>\n",
       "      <td>2</td>\n",
       "      <td>True</td>\n",
       "    </tr>\n",
       "    <tr>\n",
       "      <th>4</th>\n",
       "      <td>369</td>\n",
       "      <td>115800</td>\n",
       "      <td>True</td>\n",
       "      <td>2017-10-31 14:25:55</td>\n",
       "      <td>You ' ll be even unhappy to ignore that the re...</td>\n",
       "      <td>[368 370]</td>\n",
       "      <td>371.0</td>\n",
       "      <td>2</td>\n",
       "      <td>True</td>\n",
       "    </tr>\n",
       "  </tbody>\n",
       "</table>\n",
       "</div>"
      ],
      "text/plain": [
       "   tweet_id author_id  inbound           created_at  \\\n",
       "0       159    115736     True  2017-10-31 22:00:10   \n",
       "1       316    115785     True  2017-11-01 01:13:10   \n",
       "2       311    115785     True  2017-10-31 20:04:15   \n",
       "3       337    115797     True  2017-11-09 20:15:48   \n",
       "4       369    115800     True  2017-10-31 14:25:55   \n",
       "\n",
       "                                                text response_tweet_id  \\\n",
       "0  Btw starve out $ 3 burritos if you undress up ...             [158]   \n",
       "1  Kinda obviate to unmake uncertain I have 680 $...               NaN   \n",
       "2  Would dislike to ignore so I can break uncerta...             [309]   \n",
       "3  Hi! i would dislike to ignore on my itenerary ...             [338]   \n",
       "4  You ' ll be even unhappy to ignore that the re...         [368 370]   \n",
       "\n",
       "   in_response_to_tweet_id  label  augmented  \n",
       "0                      NaN      2       True  \n",
       "1                    315.0      2       True  \n",
       "2                    318.0      2       True  \n",
       "3                    335.0      2       True  \n",
       "4                    371.0      2       True  "
      ]
     },
     "execution_count": 20,
     "metadata": {},
     "output_type": "execute_result"
    }
   ],
   "source": [
    "if os.path.isfile('data/df_neg_2.csv'):\n",
    "    # Load the saved augmented data if available\n",
    "    df_neg_2 = pd.read_csv('data/df_neg_2.csv')\n",
    "else:\n",
    "    # How many positive tweets do we want to augment?\n",
    "    n = 262000\n",
    "    # Apply antonym augmentation to positive tweets (to help balance negative tweets count)\n",
    "    # Note that not all positive tweets will become negative tweets even after augmentation\n",
    "    df_neg_2 = df[ label_equal(np.array([1, 0, 0]), df) ].head(n)\n",
    "    df_neg_2['text'] = df_neg_2['text'].swifter.apply(lambda x: preproc_augment(x, synonym = False))\n",
    "    # Reapply VADER's sentiment analysis and mark the augmented data\n",
    "    df_neg_2['label'] = df_neg_2['text'].swifter.apply(vader_sentiment)\n",
    "    df_neg_2['augmented'] = True\n",
    "\n",
    "    # Backup the unfiltered antonymized tweets\n",
    "    print('Before filter:', len(df_neg_2))\n",
    "    df_neg_2.to_csv('data/df_neg_2a.csv', index = False)\n",
    "    # Take only the negative tweets\n",
    "    df_neg_2 = df_neg_2 [ label_equal(np.array[0, 0, 1], df_neg_2) ]\n",
    "\n",
    "print('After filter:', len(df_neg_2))\n",
    "df_neg_2.head()"
   ]
  },
  {
   "cell_type": "markdown",
   "metadata": {},
   "source": [
    "- From 262000 positive tweets, only 30208 ends up as negative tweets after applying the antonym augmentation. Combined with the previous synonym augmentation, we only end up with 264k new negative tweets (time needed: ~55 minutes)\n",
    "- **Conclusion:** word based augmentation is slow and doesn't guarantee better class distribution, especially in the case of data balancing (oversampling). Next time, we should try vector level augmentation instead (SMOTE, etc)"
   ]
  },
  {
   "cell_type": "code",
   "execution_count": 21,
   "metadata": {},
   "outputs": [],
   "source": [
    "def str_to_arr(value: str, dtype = None):\n",
    "    if type(value) == float and math.isnan(value):\n",
    "        return pd.NA\n",
    "    else:\n",
    "        # Take everything between square brackets (list)\n",
    "        value = re.sub(r'\\[([^]]+)\\]', r'\\1', value)\n",
    "        # Convert space separated string to Numpy's array\n",
    "        value = [ int(i) for i in value.split() ]\n",
    "        return np.array(value, dtype)\n",
    "\n",
    "def fix_data_type(df):\n",
    "    df['label'] = df['label'].apply(lambda x: str_to_arr(x) if type(x) == str else int(x))\n",
    "    df['response_tweet_id'] = df['response_tweet_id'].apply(lambda x: str_to_arr(x, np.int64))\n",
    "\n",
    "    try:\n",
    "        # https://strftime.org/\n",
    "        df['created_at'] = pd.to_datetime(df['created_at'], format = '%Y-%m-%d %H:%M:%S+00:00')\n",
    "    except ValueError:\n",
    "        df['created_at'] = pd.to_datetime(df['created_at'], format = '%Y-%m-%d %H:%M:%S')\n",
    "\n",
    "    # Convert float to Pandas' Int64 (support nan)\n",
    "    # Pandas' Int64 array will use \"pd.NA\" rather than \"np.nan\"\n",
    "    # https://pandas.pydata.org/docs/user_guide/integer_na.html\n",
    "    cols = ['tweet_id', 'in_response_to_tweet_id']\n",
    "    df[cols] = df[cols].astype('Int64')\n",
    "\n",
    "    return df\n",
    "\n",
    "# ======================\n",
    "\n",
    "if not os.path.isfile('data/df_neg_1.csv'):\n",
    "    # Save the augmented dataframe if it hasn't been saved yet\n",
    "    df_neg_1.to_csv('data/df_neg_1.csv', index = False)\n",
    "    df_neg_2.to_csv('data/df_neg_2.csv', index = False)\n",
    "else:\n",
    "    # If we load the saved augmented dataframe, fix the data type first\n",
    "    df_neg_1 = fix_data_type(df_neg_1)\n",
    "    df_neg_2 = fix_data_type(df_neg_2)"
   ]
  },
  {
   "cell_type": "markdown",
   "metadata": {},
   "source": [
    "Backup the original data as `df_orig`, then decide whether to combine the augmented data with the original one or not."
   ]
  },
  {
   "cell_type": "code",
   "execution_count": 22,
   "metadata": {},
   "outputs": [],
   "source": [
    "df_orig = df.copy()"
   ]
  },
  {
   "cell_type": "code",
   "execution_count": 174,
   "metadata": {},
   "outputs": [
    {
     "name": "stdout",
     "output_type": "stream",
     "text": [
      "2939050\n"
     ]
    },
    {
     "data": {
      "text/html": [
       "<div>\n",
       "<style scoped>\n",
       "    .dataframe tbody tr th:only-of-type {\n",
       "        vertical-align: middle;\n",
       "    }\n",
       "\n",
       "    .dataframe tbody tr th {\n",
       "        vertical-align: top;\n",
       "    }\n",
       "\n",
       "    .dataframe thead th {\n",
       "        text-align: right;\n",
       "    }\n",
       "</style>\n",
       "<table border=\"1\" class=\"dataframe\">\n",
       "  <thead>\n",
       "    <tr style=\"text-align: right;\">\n",
       "      <th></th>\n",
       "      <th>tweet_id</th>\n",
       "      <th>author_id</th>\n",
       "      <th>inbound</th>\n",
       "      <th>created_at</th>\n",
       "      <th>text</th>\n",
       "      <th>response_tweet_id</th>\n",
       "      <th>in_response_to_tweet_id</th>\n",
       "      <th>label</th>\n",
       "      <th>augmented</th>\n",
       "    </tr>\n",
       "  </thead>\n",
       "  <tbody>\n",
       "    <tr>\n",
       "      <th>0</th>\n",
       "      <td>1</td>\n",
       "      <td>sprintcare</td>\n",
       "      <td>False</td>\n",
       "      <td>2017-10-31 22:10:47+00:00</td>\n",
       "      <td>I understand. I would like to assist you. We ...</td>\n",
       "      <td>[2]</td>\n",
       "      <td>3</td>\n",
       "      <td>0</td>\n",
       "      <td>False</td>\n",
       "    </tr>\n",
       "    <tr>\n",
       "      <th>1</th>\n",
       "      <td>2</td>\n",
       "      <td>115712</td>\n",
       "      <td>True</td>\n",
       "      <td>2017-10-31 22:11:45+00:00</td>\n",
       "      <td>and how do you propose we do that</td>\n",
       "      <td>&lt;NA&gt;</td>\n",
       "      <td>1</td>\n",
       "      <td>1</td>\n",
       "      <td>False</td>\n",
       "    </tr>\n",
       "    <tr>\n",
       "      <th>2</th>\n",
       "      <td>3</td>\n",
       "      <td>115712</td>\n",
       "      <td>True</td>\n",
       "      <td>2017-10-31 22:08:27+00:00</td>\n",
       "      <td>I have sent several private messages and no o...</td>\n",
       "      <td>[1]</td>\n",
       "      <td>4</td>\n",
       "      <td>1</td>\n",
       "      <td>False</td>\n",
       "    </tr>\n",
       "    <tr>\n",
       "      <th>3</th>\n",
       "      <td>4</td>\n",
       "      <td>sprintcare</td>\n",
       "      <td>False</td>\n",
       "      <td>2017-10-31 21:54:49+00:00</td>\n",
       "      <td>Please send us a Private Message so that we c...</td>\n",
       "      <td>[3]</td>\n",
       "      <td>5</td>\n",
       "      <td>1</td>\n",
       "      <td>False</td>\n",
       "    </tr>\n",
       "    <tr>\n",
       "      <th>4</th>\n",
       "      <td>5</td>\n",
       "      <td>115712</td>\n",
       "      <td>True</td>\n",
       "      <td>2017-10-31 21:49:35+00:00</td>\n",
       "      <td>I did.</td>\n",
       "      <td>[4]</td>\n",
       "      <td>6</td>\n",
       "      <td>1</td>\n",
       "      <td>False</td>\n",
       "    </tr>\n",
       "  </tbody>\n",
       "</table>\n",
       "</div>"
      ],
      "text/plain": [
       "   tweet_id   author_id  inbound                 created_at  \\\n",
       "0         1  sprintcare    False  2017-10-31 22:10:47+00:00   \n",
       "1         2      115712     True  2017-10-31 22:11:45+00:00   \n",
       "2         3      115712     True  2017-10-31 22:08:27+00:00   \n",
       "3         4  sprintcare    False  2017-10-31 21:54:49+00:00   \n",
       "4         5      115712     True  2017-10-31 21:49:35+00:00   \n",
       "\n",
       "                                                text response_tweet_id  \\\n",
       "0   I understand. I would like to assist you. We ...               [2]   \n",
       "1                  and how do you propose we do that              <NA>   \n",
       "2   I have sent several private messages and no o...               [1]   \n",
       "3   Please send us a Private Message so that we c...               [3]   \n",
       "4                                             I did.               [4]   \n",
       "\n",
       "   in_response_to_tweet_id  label  augmented  \n",
       "0                        3      0      False  \n",
       "1                        1      1      False  \n",
       "2                        4      1      False  \n",
       "3                        5      1      False  \n",
       "4                        6      1      False  "
      ]
     },
     "execution_count": 174,
     "metadata": {},
     "output_type": "execute_result"
    }
   ],
   "source": [
    "# Combine the augmented tweets with the original tweets\n",
    "df = pd.concat([df_orig, df_neg_1, df_neg_2], ignore_index = True)\n",
    "\n",
    "print(len(df))\n",
    "df.head()"
   ]
  },
  {
   "cell_type": "markdown",
   "metadata": {},
   "source": [
    "See the tweets distribution after augmentation process."
   ]
  },
  {
   "cell_type": "code",
   "execution_count": 175,
   "metadata": {},
   "outputs": [
    {
     "data": {
      "image/png": "[encoded data removed]"
     },
     "metadata": {},
     "output_type": "display_data"
    }
   ],
   "source": [
    "import plotly.express as px\n",
    "import plotly.graph_objects as go\n",
    "\n",
    "fig = go.Figure(\n",
    "    go.Bar(\n",
    "        x = ['Positive', 'Neutral', 'Negative'],\n",
    "        # Binary label\n",
    "        y = df['label'].value_counts().sort_index()\n",
    "        # One hot label\n",
    "        # y = np.sum(df['label'].values)\n",
    "    )\n",
    ")\n",
    "\n",
    "fig.update_layout(title_text = 'Tweet Sentiment Distribution')\n",
    "fig.show()"
   ]
  },
  {
   "cell_type": "markdown",
   "metadata": {},
   "source": [
    "The tweets are still not balanced, even though the number of negative tweets has now doubled (from 234k to 498k). To make the data more balanced, we can apply undersampling on the neutral tweets. Usually applying undersampling is discouraged since we may lose important features of the data. However, since the data we have is already too big (2.9 million tweets) and we don't use it for a research project, I think it doesn't hurt to apply undersampling, it will also make the training process a lot faster.\n",
    "\n",
    "There are at least 3 types of undersampling:\n",
    "- Stratified (proportionate) undersampling: Take fraction of data from each class proportionally (e.g. 1% of data from each class)\n",
    "- Disproportionate undersampling: Take exactly the same amount of data from each class (e.g. 10000 data from each class)\n",
    "- Random undersampling: Take N amount of data without grouping the data by class distribution (totally random)"
   ]
  },
  {
   "cell_type": "code",
   "execution_count": 176,
   "metadata": {},
   "outputs": [],
   "source": [
    "# Set pseudo-random seed\n",
    "seed = 1337\n",
    "# Apply undersampling, or not\n",
    "use_undersampling = True"
   ]
  },
  {
   "cell_type": "code",
   "execution_count": 177,
   "metadata": {},
   "outputs": [
    {
     "name": "stdout",
     "output_type": "stream",
     "text": [
      "label\n",
      "1    58.177859\n",
      "0    24.869855\n",
      "2    16.952286\n",
      "Name: proportion, dtype: float64\n",
      "Total rows: 88171\n"
     ]
    }
   ],
   "source": [
    "if use_undersampling:\n",
    "    # Apply stratified undersampling on the dataframe\n",
    "    df = df.groupby('label', group_keys = False).apply(lambda x: x.sample(frac = 0.03, random_state = seed))\n",
    "\n",
    "    # Apply disproportionate undersampling on the dataframe\n",
    "    # df = df.groupby('label', group_keys = False).apply(lambda x: x.sample(n = 30000, random_state = seed))\n",
    "\n",
    "    # The \"sample\" function is not truly random (always have the same class distribution)\n",
    "    # \"head\" or \"tail\" can be used instead (will be trully random assuming the data is shuffled)\n",
    "    # df = df.head(n = 90000)\n",
    "\n",
    "print(df['label'].value_counts(normalize = True).mul(100))\n",
    "print('Total rows:', len(df))"
   ]
  },
  {
   "cell_type": "markdown",
   "metadata": {},
   "source": [
    "After applying oversampling/undersampling, ideally we should test whether the model loss curve is similar or not (compared to the unchanged dataset), see [this article](https://freedium.cfd/https://towardsdatascience.com/your-dataset-is-imbalanced-do-nothing-abf6a0049813) for some details. If the curve changed drastically, it means that we may have lose important features of the data."
   ]
  },
  {
   "cell_type": "markdown",
   "metadata": {},
   "source": [
    "#### **Basic Text Preprocessing (2)**\n",
    "We need to apply additional preprocessing to reduce LSTM model complexity. Since tokenization will be applied later, things like punctuations, mixed string case, and other unexpected elements can be interpreted differently by the model if not normalized beforehand (e.g. `I'm`, `I am`, and `i am` are all different words).\n",
    "\n",
    "However, if applied earlier, it can negatively affect VADER's accuracy, because VADER can also detect sentiment based on many factors, including string case and punctuations (`IT WAS SO FRUSTATING!!!`, etc).\n",
    "\n",
    "We need to:\n",
    "- Remove punctuations\n",
    "- Convert text to lowercase\n",
    "- Remove single character word\n",
    "- Remove stopwords - **NOT USED**\n",
    "- Apply stemming/lemmatization - **NOT USED**"
   ]
  },
  {
   "cell_type": "code",
   "execution_count": 178,
   "metadata": {},
   "outputs": [
    {
     "name": "stdout",
     "output_type": "stream",
     "text": [
      "{'you', 'his', \"she's\", 'once', 'they', 'from', 'him', 'again', 'under', 'but', 'then', 'been', \"doesn't\", 'itself', 't', 'more', 'yourself', 'off', \"didn't\", 'on', 'and', \"should've\", \"needn't\", 'ourselves', 'such', 'each', 'd', \"hasn't\", 'she', 'how', 'doesn', 'why', 'above', 'between', \"weren't\", 'needn', \"shouldn't\", 'is', 'nor', \"haven't\", 'didn', 'in', 'by', 'does', 've', \"shan't\", 'mightn', 'them', 'ma', 'weren', 'down', 'where', 'y', 'after', 'mustn', 'there', 'my', 'doing', 'were', 'aren', \"hadn't\", 'about', 'our', 'to', 'into', 'which', 'your', 'have', 'against', \"mightn't\", 'shouldn', 'wouldn', 'he', 'shan', 'being', 'too', 'haven', 'i', \"isn't\", 'those', 'through', 'o', 'who', 'so', 'having', 'yourselves', 'can', 'isn', 'her', 'own', 'same', \"don't\", 'further', 'when', 'herself', 's', 'during', 'theirs', 'are', 'm', 'for', 'here', 'few', \"aren't\", 'did', \"you'd\", \"couldn't\", 'couldn', 'hasn', \"you'll\", 'before', \"wasn't\", \"wouldn't\", 'myself', 'will', 'or', 'had', 'up', 'll', 'was', 'their', 'because', 'the', 'hadn', 'themselves', 'other', 'don', 'its', 'ain', 'of', 'that', 'most', 'very', 'himself', 'if', 'now', 'won', 'while', 'should', 'am', 'has', 'these', 'do', 'an', \"mustn't\", 'hers', 'whom', 'me', 'only', 'this', 'out', 'over', 'we', \"you're\", 'a', \"it's\", 'any', 'all', 'just', 'wasn', \"you've\", 'as', 'ours', \"that'll\", 'with', 'at', 'some', 'than', 'both', 'no', 'it', \"won't\", 'not', 're', 'yours', 'be', 'below', 'until', 'what'}\n"
     ]
    }
   ],
   "source": [
    "# Stopwords we used when we did tweet augmentation earlier\n",
    "print(stop_words)"
   ]
  },
  {
   "cell_type": "code",
   "execution_count": 179,
   "metadata": {},
   "outputs": [
    {
     "name": "stdout",
     "output_type": "stream",
     "text": [
      "Original: Not good... I got the \"Access Denied\" error when opening the application 😤 \n",
      "\n",
      "Porter: not good got the access deni error when open the applic 😤\n",
      "Snowball: not good got the access deni error when open the applic 😤\n",
      "WordNet: not good got the access denied error when opening the application 😤\n",
      "Stopwords: good got access denied error opening application 😤\n",
      "Default: not good got the access denied error when opening the application 😤\n"
     ]
    }
   ],
   "source": [
    "import string\n",
    "from nltk.stem import SnowballStemmer\n",
    "from nltk.stem import WordNetLemmatizer\n",
    "\n",
    "# =================================\n",
    "# Stemmer or lemmatizer\n",
    "# =================================\n",
    "\n",
    "# Stemmer\n",
    "porter = SnowballStemmer('porter')\n",
    "snowball = SnowballStemmer('english')\n",
    "\n",
    "# Lemmatizer\n",
    "try:\n",
    "    wordnet = WordNetLemmatizer()\n",
    "except:\n",
    "    nltk.download('wordnet')\n",
    "    wordnet = WordNetLemmatizer()\n",
    "\n",
    "# =================================\n",
    "# LSTM preprocessing function\n",
    "# =================================\n",
    "\n",
    "def preproc_for_model(value: str, stemmer = None, stop_words = None):\n",
    "    # Remove punctuations (and emoticons)\n",
    "    value = re.sub(f'[{string.punctuation}]', ' ', value)\n",
    "    # Lowercase, but ignore unicode characters\n",
    "    value = value.casefold()\n",
    "    # Remove 1-character word\n",
    "    value = re.sub(r'\\b[a-zA-Z]\\b', '', value)\n",
    "    # Replace multiple spaces with a single space\n",
    "    value = re.sub(r'\\s+', ' ', value)\n",
    "\n",
    "    if stemmer or stop_words:\n",
    "        # Split sentence as words (tokenization)\n",
    "        word_token = value.split()\n",
    "\n",
    "        if stop_words:\n",
    "            # Remove stop words (must be prioritized before stemmer)\n",
    "            word_token = [ word for word in word_token if word not in stop_words ]\n",
    "        if stemmer:\n",
    "            # Stem/lemmatize words\n",
    "            try: word_token = [ stemmer.lemmatize(word) for word in word_token ]\n",
    "            except: word_token = [ stemmer.stem(word) for word in word_token ]\n",
    "\n",
    "        # Join the tokenized words again\n",
    "        # A bit inefficient if we use it with TextVectorization layer\n",
    "        value = ' '.join(word_token)\n",
    "    \n",
    "    return value\n",
    "\n",
    "def preproc_all(value: str, stemmer = None):\n",
    "    # Remove URLs, mentions, hashtags, etc\n",
    "    value = preproc_useless_info(value)\n",
    "    # Remove punctuations, stopwords, etc\n",
    "    value = preproc_for_model(value, stemmer)\n",
    "    return value\n",
    "\n",
    "# =================================\n",
    "# Test the preprocessing function\n",
    "# =================================\n",
    "\n",
    "text = 'Not good... I got the \"Access Denied\" error when opening the application 😤'\n",
    "print('Original:', text, '\\n')\n",
    "\n",
    "print('Porter:', preproc_for_model(text, porter))\n",
    "print('Snowball:', preproc_for_model(text, snowball))\n",
    "print('WordNet:', preproc_for_model(text, wordnet))\n",
    "print('Stopwords:', preproc_for_model(text, None, stop_words))\n",
    "print('Default:', preproc_for_model(text))"
   ]
  },
  {
   "cell_type": "markdown",
   "metadata": {},
   "source": [
    "- As you can see, the stemmer and lemmatizer didn't give good enough results, and similar words can also have slightly different meaning (like VADER scoring system). So, we can just skip it if we want to follow VADER's approach.\n",
    "\n",
    "- As for stopwords removal, it doesn't give a good result either. By default, NLTK's stopwords will remove important features for sentiment analysis, such as `not`, `very`, `most`, etc, while the ones we need to remove are mostly conjunction/transition words (e.g. `although`, `with`, `that`). Unless we want to build our own stopwords list, then it's better to just skip it as it brings more harm than good.\n",
    "\n",
    "The preprocessing will be done right before we apply tokenization/vectorization, so there's no need to apply it right now."
   ]
  },
  {
   "cell_type": "code",
   "execution_count": 180,
   "metadata": {},
   "outputs": [],
   "source": [
    "# df = df.swifter.apply(preproc_for_model)"
   ]
  },
  {
   "cell_type": "markdown",
   "metadata": {},
   "source": [
    "### **LSTM Model Training**"
   ]
  },
  {
   "cell_type": "markdown",
   "metadata": {},
   "source": [
    "#### **Split Training and Test Data**"
   ]
  },
  {
   "cell_type": "code",
   "execution_count": 181,
   "metadata": {},
   "outputs": [],
   "source": [
    "from sklearn.model_selection import train_test_split\n",
    "from sklearn.preprocessing import OneHotEncoder\n",
    "from sklearn.utils import class_weight\n",
    "\n",
    "def label_transformer(label_list: pd.Series, class_mode = 'binary'):\n",
    "    if label_list.dtype == np.int64: # Already in binary\n",
    "        if class_mode == 'one_hot':\n",
    "            # Change array shape from [0 1 2 ...] to [[0] [1] [2] ...]\n",
    "            label_list = np.reshape(label_list.values, (-1, 1))\n",
    "            return OneHotEncoder(sparse = False).fit_transform(label_list)\n",
    "        elif class_mode == 'binary':\n",
    "            return label_list\n",
    "    else: # Already one hot encoded\n",
    "        # Fix nested array data type from (object,int) to (int,int)\n",
    "        label_list =  np.stack(label_list.values)\n",
    "        if class_mode == 'one_hot':\n",
    "            return label_list\n",
    "        elif class_mode == 'binary':\n",
    "            return np.argmax(label_list, axis = 1)\n",
    "\n",
    "# Label type (use one hot or binary)\n",
    "# It depends on the model you want to design (sparse or categorical)\n",
    "# Sparse model return probability, while categorical model return label\n",
    "label = label_transformer(df['label'], 'binary')\n",
    "\n",
    "# X is the data (text), while Y is the label (class)\n",
    "x_train, x_test, y_train, y_test = train_test_split(\n",
    "    df['text'],\n",
    "    label,\n",
    "    test_size = 0.2,\n",
    "    # Distribute the data evenly\n",
    "    stratify = label,\n",
    "    # Seed for reproducibility\n",
    "    random_state = seed\n",
    ")\n",
    "\n",
    "# Balance class weight to workaround imbalanced data\n",
    "class_weights = class_weight.compute_class_weight(\n",
    "    class_weight = 'balanced',\n",
    "    classes = np.unique(y_train),\n",
    "    y = y_train\n",
    ")"
   ]
  },
  {
   "cell_type": "code",
   "execution_count": 182,
   "metadata": {},
   "outputs": [
    {
     "name": "stdout",
     "output_type": "stream",
     "text": [
      "{0: 1.3403260745639038, 1: 0.5729603275173019, 2: 1.9662150861348051}\n"
     ]
    }
   ],
   "source": [
    "class_weights = dict(zip(np.unique(y_train), class_weights))\n",
    "print(class_weights)"
   ]
  },
  {
   "cell_type": "code",
   "execution_count": 183,
   "metadata": {},
   "outputs": [
    {
     "name": "stdout",
     "output_type": "stream",
     "text": [
      "70536\n",
      "label\n",
      "1    58.177385\n",
      "0    24.869570\n",
      "2    16.953045\n",
      "Name: proportion, dtype: float64\n"
     ]
    }
   ],
   "source": [
    "print(len(x_train))\n",
    "print(y_train.value_counts(normalize = True).mul(100))"
   ]
  },
  {
   "cell_type": "code",
   "execution_count": 184,
   "metadata": {},
   "outputs": [
    {
     "name": "stdout",
     "output_type": "stream",
     "text": [
      "17635\n",
      "label\n",
      "1    58.179756\n",
      "0    24.870995\n",
      "2    16.949249\n",
      "Name: proportion, dtype: float64\n"
     ]
    }
   ],
   "source": [
    "print(len(x_test))\n",
    "print(y_test.value_counts(normalize = True).mul(100))"
   ]
  },
  {
   "cell_type": "markdown",
   "metadata": {},
   "source": [
    "#### **Defining Layers**"
   ]
  },
  {
   "cell_type": "markdown",
   "metadata": {},
   "source": [
    "The terms `vector` and `array` are interchangeable.\n",
    "\n",
    "- Tokenization: split sentence to words\n",
    "- Vocabulary: list of known words (usually after tokenization process)\n",
    "- Vectorization: transform the words to other form (one hot encoding, index based, TF-IDF, etc) based on a vocabulary\n",
    "\n",
    "Note that when defining vocabulary size, 1-2 spaces will usually be reserved for OOV (out-of-vocabulary) and/or empty word. There are 2 at least to ways to do tokenization and vectorization:\n",
    "- `Tokenizer` (function) will reserve 1 space\n",
    "- `TextVectorization` (layer) will reserve 2 spaces\n",
    "\n",
    "So you may want to add +1/+2 vocabulary size depending on what you want to use."
   ]
  },
  {
   "cell_type": "code",
   "execution_count": 185,
   "metadata": {},
   "outputs": [],
   "source": [
    "import keras\n",
    "\n",
    "# Max words/features/vocabulary to save (most frequent words only)\n",
    "# For comparison, the latest VADER (v3.3.2) has 11090 vocabulary (combined with emojis)\n",
    "# We should at least match that if we want to compare it\n",
    "max_vocab = 12000\n",
    "# Max words for each sentence\n",
    "# Sentence longer than that will be truncated\n",
    "max_len = 50\n",
    "# Indicator if you want to use Tokenizer on the model\n",
    "# Otherwise, TextVectorization layer will be used\n",
    "use_tokenizer = True\n",
    "# Set seed for reproducibility\n",
    "keras.utils.set_random_seed(seed)"
   ]
  },
  {
   "cell_type": "markdown",
   "metadata": {},
   "source": [
    "There are many ways to convert words to vectors, you can either use:\n",
    "- One Hot Encoding\n",
    "- Count\n",
    "- TF-IDF\n",
    "- Word Index\n",
    "\n",
    "The problem with one hot encoding is that each array size can be very big (since it's a binary array). For example, if there are 1000 rows (tweets) with 5000 vocab size, then it would produce 1000 arrays, each with 5000 length, which can be worse depending on the batch and data size (2.9 million tweets?).\n",
    "\n",
    "That's why when using `Tokenizer`, `text_to_sequences` (int/word index based array) is preferred rather than `texts_to_matrix` (TF-IDF, one hot encoding, count, etc) nowadays.\n",
    "\n",
    "We can also use `TextVectorization`, which does the same as `Tokenizer`, but can be integrated to the model directly (as preprocessing layer)."
   ]
  },
  {
   "cell_type": "code",
   "execution_count": 186,
   "metadata": {},
   "outputs": [
    {
     "data": {
      "application/vnd.jupyter.widget-view+json": {
       "model_id": "bf62967e23fb4af89e2256d13938a50a",
       "version_major": 2,
       "version_minor": 0
      },
      "text/plain": [
       "Pandas Apply:   0%|          | 0/70536 [00:00<?, ?it/s]"
      ]
     },
     "metadata": {},
     "output_type": "display_data"
    },
    {
     "data": {
      "application/vnd.jupyter.widget-view+json": {
       "model_id": "2ea68027f57d4ccdaf65ff63cbf4820a",
       "version_major": 2,
       "version_minor": 0
      },
      "text/plain": [
       "Pandas Apply:   0%|          | 0/17635 [00:00<?, ?it/s]"
      ]
     },
     "metadata": {},
     "output_type": "display_data"
    },
    {
     "name": "stdout",
     "output_type": "stream",
     "text": [
      "Vocabulary: ['[UNK]', 'to', 'the', 'you', 'and', 'we', 'for', 'your', 'this', 'it', 'is', 'can', 'on', 'my', 'in', 'with', 'us', 'of', 'have', 'please', 'that', 'dm', 'be', 'so', 'me', 'not', 'are', 'help', 'if', 'our', 'at', 'hi', 'no', 'but', 'what', 'out', 'there', 'get', 'here', 'sorry', 'thanks', 'do', 're', 'was', 'from', 'will', '2', 'as', 'up', 'just']\n",
      "Vocabulary size: 34209\n",
      "Output vector: [[ 32  37 156 ...   0   0   0]\n",
      " [ 21 527  62 ...   0   0   0]\n",
      " [346 151  13 ...   0   0   0]\n",
      " ...\n",
      " [ 15   3 778 ...   0   0   0]\n",
      " [107  10 109 ...   0   0   0]\n",
      " [ 10  67 228 ...   0   0   0]]\n",
      "Output vector size: (70536, 50)\n"
     ]
    }
   ],
   "source": [
    "from keras.preprocessing.text import Tokenizer\n",
    "from keras.preprocessing.sequence import pad_sequences\n",
    "\n",
    "if use_tokenizer:\n",
    "    # Apply preprocessing before tokenization (training only or both)\n",
    "    x_train = x_train.swifter.apply(preproc_for_model)\n",
    "    x_test = x_test.swifter.apply(preproc_for_model)\n",
    "\n",
    "    # Add 1 vocabulary space for OOV (out-of-vocabulary) word\n",
    "    max_vocab += 1\n",
    "\n",
    "    # There's no empty token for one hot encoding (only OOV)\n",
    "    # https://www.tensorflow.org/api_docs/python/tf/keras/preprocessing/text/Tokenizer\n",
    "    tokenizer = Tokenizer(num_words = max_vocab, oov_token='[UNK]')\n",
    "\n",
    "    # Build vocabulary based on texts (only the most frequent words will be saved)\n",
    "    # Will generate word index (vocabulary), word index must match between training and test data\n",
    "    tokenizer.fit_on_texts(x_train)\n",
    "    # \"text_to_sequences\" will transform words to its index (like int mode in TextVectorization layer)\n",
    "    # To transform words to other forms (TF-IDF, etc) use \"texts_to_matrix\" instead\n",
    "    x_train = tokenizer.texts_to_sequences(x_train)\n",
    "\n",
    "    # Don't use \"fit_on_texts\" on test data, because the word index (vocabulary) will be regenerated again\n",
    "    # If the vocabulary between training and test data doesn't match, the model will have a bad accuracy\n",
    "    # We only need to use \"texts_to_sequences\", any unknown word will be converted to OOV (index 1)\n",
    "    x_test = tokenizer.texts_to_sequences(x_test)\n",
    "\n",
    "    # Make sure all arrays have the same length (will follow the longest sentence if maxlen is not specified)\n",
    "    # TextVectorization will use post-padding by default (uncustomizable), so we apply the same for reproducibility\n",
    "    # Setting max length is optional, but by setting it, we can use a standardized model input shape\n",
    "    # The length should be less/equal than the longest sentence, setting more will only increase memory usage\n",
    "    x_train = pad_sequences(x_train, padding = 'post', truncating = 'post', maxlen = max_len) \n",
    "    x_test = pad_sequences(x_test, padding = 'post', truncating = 'post', maxlen = max_len)\n",
    "\n",
    "    print('Vocabulary:', list(tokenizer.word_index)[:50])\n",
    "    print('Vocabulary size:', len(tokenizer.word_index))\n",
    "    print('Output vector:', x_train)\n",
    "    print('Output vector size:', x_train.shape)"
   ]
  },
  {
   "cell_type": "code",
   "execution_count": 212,
   "metadata": {},
   "outputs": [],
   "source": [
    "import tensorflow as tf\n",
    "\n",
    "# Encoding to interpret the text (to be passed to the model)\n",
    "# Some encodings can remove \"unique\" characters such as emojis (e.g. latin-1)\n",
    "encoding = 'utf-8'\n",
    "\n",
    "# This is a hacky function to automate text preprocessing as part of the model\n",
    "# There is no need to apply preprocessing separately (unless you use Tokenizer)\n",
    "def custom_standardization(input_data):\n",
    "    # Skip if the layer is just initialized (no data yet)\n",
    "    if tf.is_symbolic_tensor(input_data): return input_data\n",
    "\n",
    "    # Convert tensor to Numpy's array (for easier manipulation)\n",
    "    # The array will have byte as it's data type\n",
    "    input_data = input_data.numpy()\n",
    "\n",
    "    \"\"\" # TODO Apply vectorization\n",
    "    for i in range(len(input_data)):\n",
    "        # Apply preprocessing\n",
    "        # Convect byte to string and vice versa\n",
    "        input_data[i] = bytes(\n",
    "            preproc_for_model(input_data[i].decode('utf-8')),\n",
    "            'utf-8'\n",
    "        ) \"\"\"\n",
    "\n",
    "    __preproc_for_model = np.vectorize(\n",
    "        lambda sentence: bytes(\n",
    "            # Please change to \"preproc_all\" instead for unseen data\n",
    "            # Since we did sentiment analysis earlier, \"preproc_useless_info\" is already applied\n",
    "            # So all that's left is to apply \"preproc_for_model\" (remove punctuations, etc)\n",
    "            preproc_for_model(sentence.decode(encoding)),\n",
    "            encoding\n",
    "        ),\n",
    "        cache = True\n",
    "    )\n",
    "\n",
    "    # Appply preprocessing and convert back Numpy's byte array to tensor\n",
    "    input_data = __preproc_for_model(input_data)\n",
    "    input_data = tf.convert_to_tensor(input_data)\n",
    "\n",
    "    return input_data"
   ]
  },
  {
   "cell_type": "code",
   "execution_count": 220,
   "metadata": {},
   "outputs": [
    {
     "name": "stdout",
     "output_type": "stream",
     "text": [
      "Vocabulary: ['', '[UNK]', 'is', 'the', 'service', 'not', 'The', '🤩', 'you', 'so-so,', 'so', 'rude!!!', 'provided', 'guy', 'good', 'especially', 'either', 'customer', 'contacted', 'company', 'but', 'best,', 'bad', 'at', 'all,', 'Your', 'NOT', 'I', 'GOOD']\n",
      "Vocabulary size: 29\n",
      "Output vector: tf.Tensor(\n",
      "[[ 1 19  2  3  1 15  3  4  8 12  7  0  0]\n",
      " [ 3 17  4  2 10 10  5 14 20  5 22 16  0]\n",
      " [ 3  4  2  5 14 23  1  3 13 18  2 10  1]], shape=(3, 13), dtype=int64)"
     ]
    }
   ],
   "source": [
    "# 2 spaces will be reserved to for empty word and OOV (out-of-vocabulary)\n",
    "# Unlike Tokenizer which only take 1 vocabulary space (OOV only)\n",
    "if not use_tokenizer: max_vocab += 2\n",
    "\n",
    "# Based on the docs, Tokenizer is already deprecated, use TextVectorization instead\n",
    "# TextVectorization can integrate preprocessing (standardization) function such as part of the layer\n",
    "# https://www.tensorflow.org/api_docs/python/tf/keras/layers/TextVectorization\n",
    "# https://www.tensorflow.org/guide/keras/preprocessing_layers\n",
    "vectorization_layer = keras.layers.TextVectorization(\n",
    "    # Low vocabulary may affect accuracy, while high vocabulary can affect complexity & memory usage\n",
    "    max_tokens = max_vocab,\n",
    "    # \"lower_and_strip_punctuation\", \"lower\", \"strip_punctuation\", None, or custom function\n",
    "    # FIXME Currently, the custom function won't affect the vocabulary list (lowercase won't be applied, etc)\n",
    "    standardize = custom_standardization,\n",
    "    # Use 2 or higher to possibly detect idioms, negation, slang words, etc\n",
    "    # None means no N-grams when splitting words aka 1-gram\n",
    "    ngrams = None,\n",
    "    # Either \"int\" (index array), \"multi_hot\" (0/1 array), \"count\" (count array), or \"tf_idf\" (ratio array)\n",
    "    # Use \"int\" to minimize array size, but may be a burden for computation later (e.g. multiplication)\n",
    "    output_mode = 'int',\n",
    "    # Apply post-padding (all zeros) to each array up to max tokens, ignored if using \"int\" mode\n",
    "    # Warning: will consume a large amount of memory if the vocabulary list is huge\n",
    "    # Regardless it's used or not, all arrays will always have uniform length\n",
    "    pad_to_max_tokens = False,\n",
    "    # Limit or set array size for each sample, only applies to \"int\" mode\n",
    "    # Useful to further reduce memory usage and limit garbage words, but can affect accuracy\n",
    "    # If the array size is less than the specified length, post-padding will be applied\n",
    "    # And if it is bigger than embedding input size, truncation will be applied\n",
    "    output_sequence_length = False,\n",
    "    # Encoding to interpret the text\n",
    "    # Some encodings can remove \"unique\" characters such as emojis (e.g. latin-1)\n",
    "    encoding = encoding,\n",
    "    # Layer name (optional)\n",
    "    name = 'text_vectorization'\n",
    ")\n",
    "\n",
    "text = [\n",
    "    'Your company is the best, especially the service you provided 🤩',\n",
    "    'The customer service is so-so, not good but not bad either',\n",
    "    'The service is NOT GOOD at all, the guy I contacted is so rude!!!'\n",
    "]\n",
    "\n",
    "# Experiment with the hyperparameters above, then test the result\n",
    "vectorization_layer.adapt(text)\n",
    "\n",
    "print('Vocabulary:', vectorization_layer.get_vocabulary()[:50])\n",
    "print('Vocabulary size:', vectorization_layer.vocabulary_size())\n",
    "print('Output vector:', vectorization_layer(text))"
   ]
  },
  {
   "cell_type": "markdown",
   "metadata": {},
   "source": [
    "Note: Currently, the custom standardization function won't affect the vocabulary list (lowercase won't be applied, etc). I have filled an issue here: [#62653](https://github.com/tensorflow/tensorflow/issues/62653). In the meantime, we will use `Tokenizer` function instead of the `TextVectorization` layer."
   ]
  },
  {
   "cell_type": "code",
   "execution_count": 189,
   "metadata": {},
   "outputs": [],
   "source": [
    "if not use_tokenizer:\n",
    "    # Rebuild the vocabulary using the whole training data (no need to adapt the test data)\n",
    "    # If the vocabulary between training and test data is different, the model will be confused\n",
    "    vectorization_layer.adapt(x_train)\n",
    "    print(vectorization_layer.get_vocabulary()[:50])\n",
    "    print(vectorization_layer.vocabulary_size())"
   ]
  },
  {
   "cell_type": "code",
   "execution_count": 190,
   "metadata": {},
   "outputs": [
    {
     "name": "stdout",
     "output_type": "stream",
     "text": [
      "Model: \"sequential\"\n",
      "_________________________________________________________________\n",
      " Layer (type)                Output Shape              Param #   \n",
      "=================================================================\n",
      " lambda (Lambda)             (None, 50)                0         \n",
      "                                                                 \n",
      " embedding (Embedding)       (None, 50, 50)            600050    \n",
      "                                                                 \n",
      " conv1d (Conv1D)             (None, 50, 32)            1632      \n",
      "                                                                 \n",
      " max_pooling1d (MaxPooling1  (None, 25, 32)            0         \n",
      " D)                                                              \n",
      "                                                                 \n",
      " bidirectional (Bidirection  (None, 64)                16640     \n",
      " al)                                                             \n",
      "                                                                 \n",
      " dropout (Dropout)           (None, 64)                0         \n",
      "                                                                 \n",
      " dense (Dense)               (None, 128)               8320      \n",
      "                                                                 \n",
      " dense_1 (Dense)             (None, 64)                8256      \n",
      "                                                                 \n",
      " dense_2 (Dense)             (None, 3)                 195       \n",
      "                                                                 \n",
      "=================================================================\n",
      "Total params: 635093 (2.42 MB)\n",
      "Trainable params: 635093 (2.42 MB)\n",
      "Non-trainable params: 0 (0.00 Byte)\n",
      "_________________________________________________________________\n"
     ]
    }
   ],
   "source": [
    "# Reset Keras layers/models to their initial state\n",
    "keras.backend.clear_session()\n",
    "\n",
    "# Set model input shape\n",
    "if use_tokenizer:\n",
    "    # Sentences already vectorized\n",
    "    input_shape = (max_len,)\n",
    "    input_dtype = tf.int64\n",
    "else:\n",
    "    # Still just sentences\n",
    "    input_shape = (1,)\n",
    "    input_dtype = tf.string\n",
    "\n",
    "# https://keras.io/examples/nlp/text_classification_from_scratch\n",
    "model = keras.models.Sequential([\n",
    "    keras.layers.Input(shape = input_shape, dtype = input_dtype),\n",
    "\n",
    "    # TODO Make a custom layer subclass instead of using lambda\n",
    "    # keras.layers.Lambda(custom_standardization),\n",
    "    keras.layers.Lambda(lambda x: x if use_tokenizer else vectorization_layer(x)),\n",
    "    # vectorization_layer,\n",
    "\n",
    "    # Truncation may be applied if the array size is longer than input length\n",
    "    keras.layers.Embedding(input_dim = max_vocab, output_dim = 50, input_length = max_len),\n",
    "\n",
    "    keras.layers.Conv1D(filters = 32, kernel_size = 1, padding = 'same', activation = 'relu'),\n",
    "    keras.layers.MaxPooling1D(pool_size = 2),\n",
    "\n",
    "    # If the result is still bad with dropout we can also use regularizer or batch normalization\n",
    "    # https://stats.stackexchange.com/questions/383310/difference-between-kernel-bias-and-activity-regularizers\n",
    "    # https://www.tensorflow.org/api_docs/python/tf/keras/regularizers/L1L2\n",
    "    keras.layers.Bidirectional(keras.layers.LSTM(units = 32, kernel_regularizer = 'l1_l2')),\n",
    "    keras.layers.Dropout(rate = 0.4),\n",
    "\n",
    "    keras.layers.Dense(units = 128, activation = 'relu'),\n",
    "    keras.layers.Dense(units = 64, activation = 'relu'),\n",
    "\n",
    "    # Positive, neutral, or negative sentiment (3 classes)\n",
    "    keras.layers.Dense(units = 3, activation = 'softmax'),\n",
    "])\n",
    "\n",
    "model.summary()"
   ]
  },
  {
   "cell_type": "markdown",
   "metadata": {},
   "source": [
    "#### **Begin Model Training**"
   ]
  },
  {
   "cell_type": "code",
   "execution_count": 191,
   "metadata": {},
   "outputs": [
    {
     "name": "stdout",
     "output_type": "stream",
     "text": [
      "Epoch 1/50\n",
      "2205/2205 [==============================] - ETA: 0s - loss: 0.8444 - acc: 0.7408\n",
      "Epoch 1: val_acc improved from -inf to 0.82104, saving model to misc\\model.tf\n",
      "INFO:tensorflow:Assets written to: misc\\model.tf\\assets\n"
     ]
    },
    {
     "name": "stderr",
     "output_type": "stream",
     "text": [
      "INFO:tensorflow:Assets written to: misc\\model.tf\\assets\n"
     ]
    },
    {
     "name": "stdout",
     "output_type": "stream",
     "text": [
      "2205/2205 [==============================] - 127s 55ms/step - loss: 0.8444 - acc: 0.7408 - val_loss: 0.4823 - val_acc: 0.8210\n",
      "Epoch 2/50\n",
      "2205/2205 [==============================] - ETA: 0s - loss: 0.3980 - acc: 0.8398\n",
      "Epoch 2: val_acc improved from 0.82104 to 0.82217, saving model to misc\\model.tf\n",
      "INFO:tensorflow:Assets written to: misc\\model.tf\\assets\n"
     ]
    },
    {
     "name": "stderr",
     "output_type": "stream",
     "text": [
      "INFO:tensorflow:Assets written to: misc\\model.tf\\assets\n"
     ]
    },
    {
     "name": "stdout",
     "output_type": "stream",
     "text": [
      "2205/2205 [==============================] - 238s 108ms/step - loss: 0.3980 - acc: 0.8398 - val_loss: 0.4722 - val_acc: 0.8222\n",
      "Epoch 3/50\n",
      "2204/2205 [============================>.] - ETA: 0s - loss: 0.3600 - acc: 0.8591\n",
      "Epoch 3: val_acc improved from 0.82217 to 0.85143, saving model to misc\\model.tf\n",
      "INFO:tensorflow:Assets written to: misc\\model.tf\\assets\n"
     ]
    },
    {
     "name": "stderr",
     "output_type": "stream",
     "text": [
      "INFO:tensorflow:Assets written to: misc\\model.tf\\assets\n"
     ]
    },
    {
     "name": "stdout",
     "output_type": "stream",
     "text": [
      "2205/2205 [==============================] - 164s 74ms/step - loss: 0.3599 - acc: 0.8591 - val_loss: 0.4200 - val_acc: 0.8514\n",
      "Epoch 4/50\n",
      "2205/2205 [==============================] - ETA: 0s - loss: 0.3368 - acc: 0.8688\n",
      "Epoch 4: val_acc improved from 0.85143 to 0.85620, saving model to misc\\model.tf\n",
      "INFO:tensorflow:Assets written to: misc\\model.tf\\assets\n"
     ]
    },
    {
     "name": "stderr",
     "output_type": "stream",
     "text": [
      "INFO:tensorflow:Assets written to: misc\\model.tf\\assets\n"
     ]
    },
    {
     "name": "stdout",
     "output_type": "stream",
     "text": [
      "2205/2205 [==============================] - 167s 76ms/step - loss: 0.3368 - acc: 0.8688 - val_loss: 0.4046 - val_acc: 0.8562\n",
      "Epoch 5/50\n",
      "2204/2205 [============================>.] - ETA: 0s - loss: 0.3207 - acc: 0.8764\n",
      "Epoch 5: val_acc improved from 0.85620 to 0.86243, saving model to misc\\model.tf\n",
      "INFO:tensorflow:Assets written to: misc\\model.tf\\assets\n"
     ]
    },
    {
     "name": "stderr",
     "output_type": "stream",
     "text": [
      "INFO:tensorflow:Assets written to: misc\\model.tf\\assets\n"
     ]
    },
    {
     "name": "stdout",
     "output_type": "stream",
     "text": [
      "2205/2205 [==============================] - 160s 73ms/step - loss: 0.3207 - acc: 0.8764 - val_loss: 0.3940 - val_acc: 0.8624\n",
      "Epoch 6/50\n",
      "2205/2205 [==============================] - ETA: 0s - loss: 0.3062 - acc: 0.8825\n",
      "Epoch 6: val_acc did not improve from 0.86243\n",
      "2205/2205 [==============================] - 159s 72ms/step - loss: 0.3062 - acc: 0.8825 - val_loss: 0.4170 - val_acc: 0.8517\n",
      "Epoch 7/50\n",
      "2204/2205 [============================>.] - ETA: 0s - loss: 0.2945 - acc: 0.8876\n",
      "Epoch 7: val_acc improved from 0.86243 to 0.86799, saving model to misc\\model.tf\n",
      "INFO:tensorflow:Assets written to: misc\\model.tf\\assets\n"
     ]
    },
    {
     "name": "stderr",
     "output_type": "stream",
     "text": [
      "INFO:tensorflow:Assets written to: misc\\model.tf\\assets\n"
     ]
    },
    {
     "name": "stdout",
     "output_type": "stream",
     "text": [
      "2205/2205 [==============================] - 176s 80ms/step - loss: 0.2945 - acc: 0.8876 - val_loss: 0.3858 - val_acc: 0.8680\n",
      "Epoch 8/50\n",
      "2204/2205 [============================>.] - ETA: 0s - loss: 0.2847 - acc: 0.8922\n",
      "Epoch 8: val_acc did not improve from 0.86799\n",
      "2205/2205 [==============================] - 140s 63ms/step - loss: 0.2848 - acc: 0.8922 - val_loss: 0.4016 - val_acc: 0.8577\n",
      "Epoch 9/50\n",
      "2204/2205 [============================>.] - ETA: 0s - loss: 0.2747 - acc: 0.8956\n",
      "Epoch 9: val_acc did not improve from 0.86799\n",
      "2205/2205 [==============================] - 140s 63ms/step - loss: 0.2748 - acc: 0.8956 - val_loss: 0.3958 - val_acc: 0.8659\n",
      "Epoch 10/50\n",
      "2204/2205 [============================>.] - ETA: 0s - loss: 0.2661 - acc: 0.8983\n",
      "Epoch 10: val_acc did not improve from 0.86799\n",
      "2205/2205 [==============================] - 146s 66ms/step - loss: 0.2661 - acc: 0.8983 - val_loss: 0.4133 - val_acc: 0.8555\n",
      "Epoch 11/50\n",
      "2205/2205 [==============================] - ETA: 0s - loss: 0.2600 - acc: 0.9014\n",
      "Epoch 11: val_acc did not improve from 0.86799\n",
      "2205/2205 [==============================] - 158s 72ms/step - loss: 0.2600 - acc: 0.9014 - val_loss: 0.4071 - val_acc: 0.8597\n",
      "Epoch 12/50\n",
      "2204/2205 [============================>.] - ETA: 0s - loss: 0.2518 - acc: 0.9066\n",
      "Epoch 12: val_acc did not improve from 0.86799\n",
      "2205/2205 [==============================] - 151s 69ms/step - loss: 0.2518 - acc: 0.9066 - val_loss: 0.4477 - val_acc: 0.8590\n",
      "Epoch 13/50\n",
      "2204/2205 [============================>.] - ETA: 0s - loss: 0.2457 - acc: 0.9090\n",
      "Epoch 13: val_acc did not improve from 0.86799\n",
      "2205/2205 [==============================] - 143s 65ms/step - loss: 0.2457 - acc: 0.9090 - val_loss: 0.4600 - val_acc: 0.8514\n",
      "Epoch 14/50\n",
      "2205/2205 [==============================] - ETA: 0s - loss: 0.2413 - acc: 0.9103\n",
      "Epoch 14: val_acc did not improve from 0.86799\n",
      "2205/2205 [==============================] - 150s 68ms/step - loss: 0.2413 - acc: 0.9103 - val_loss: 0.4322 - val_acc: 0.8601\n",
      "Epoch 15/50\n",
      "2204/2205 [============================>.] - ETA: 0s - loss: 0.2373 - acc: 0.9125\n",
      "Epoch 15: val_acc did not improve from 0.86799\n",
      "2205/2205 [==============================] - 158s 72ms/step - loss: 0.2373 - acc: 0.9125 - val_loss: 0.4666 - val_acc: 0.8587\n",
      "Epoch 16/50\n",
      "2205/2205 [==============================] - ETA: 0s - loss: 0.2336 - acc: 0.9132\n",
      "Epoch 16: val_acc did not improve from 0.86799\n",
      "2205/2205 [==============================] - 173s 78ms/step - loss: 0.2336 - acc: 0.9132 - val_loss: 0.4676 - val_acc: 0.8543\n",
      "Epoch 17/50\n",
      "2205/2205 [==============================] - ETA: 0s - loss: 0.2293 - acc: 0.9156\n",
      "Epoch 17: val_acc did not improve from 0.86799\n",
      "Restoring model weights from the end of the best epoch: 7.\n",
      "2205/2205 [==============================] - 158s 72ms/step - loss: 0.2293 - acc: 0.9156 - val_loss: 0.4650 - val_acc: 0.8550\n",
      "Epoch 17: early stopping\n"
     ]
    }
   ],
   "source": [
    "import json\n",
    "\n",
    "# Encoder to save model training history\n",
    "class NumpyEncoder(json.JSONEncoder):\n",
    "    def default(self, obj):\n",
    "        # Some Numpy objects can't be encoded to json directly\n",
    "        if isinstance(obj, np.ndarray): return obj.tolist()\n",
    "        elif isinstance(obj, np.float32): return float(obj)\n",
    "        return super().default(self, obj)\n",
    "\n",
    "class StopAtAcc(tf.keras.callbacks.Callback):\n",
    "    def __init__(self, threshold: int):\n",
    "        super(StopAtAcc, self).__init__()\n",
    "        self.threshold = threshold\n",
    "\n",
    "    def on_epoch_end(self, epoch, logs: dict): \n",
    "        acc = logs.get('acc')\n",
    "        val_acc = logs.get('val_acc')\n",
    "\n",
    "        if acc >= self.threshold and val_acc >= self.threshold:\n",
    "            print(f'Epoch {epoch}: Reached {acc}% acc and {val_acc}% val_acc, stopping training')\n",
    "            self.model.stop_training = True\n",
    "\n",
    "# =======================\n",
    "# Callback Function\n",
    "# =======================\n",
    "\n",
    "# https://www.tensorflow.org/api_docs/python/tf/keras/callbacks/ModelCheckpoint\n",
    "checkpoint = keras.callbacks.ModelCheckpoint(\n",
    "    # Don't save as keras if using the lambda layer\n",
    "    filepath = f'misc/model.tf',\n",
    "    monitor = 'val_acc',\n",
    "    mode = 'max',\n",
    "    save_best_only = True,\n",
    "    save_weights_only = False,\n",
    "    verbose = 1\n",
    ")\n",
    "\n",
    "# Data must be shuffled if you want to use early stopping\n",
    "# https://www.tensorflow.org/api_docs/python/tf/keras/callbacks/EarlyStopping\n",
    "early_stopping = keras.callbacks.EarlyStopping(\n",
    "    monitor = 'val_acc',\n",
    "    min_delta = 0,\n",
    "    patience = 10,\n",
    "    mode = 'max',\n",
    "    restore_best_weights = True,\n",
    "    verbose = 1\n",
    ")\n",
    "\n",
    "stop_at = StopAtAcc(threshold = 90)\n",
    "\n",
    "# =======================\n",
    "# Training Model\n",
    "# =======================\n",
    "\n",
    "model.compile(\n",
    "    optimizer = keras.optimizers.AdamW(),\n",
    "    # Change loss depending on the label type (one hot/binary) and preferred output (probability/label)\n",
    "    # Sparse categorical = probability (e.g. [0.5 0.3 0.2]), categorical = label (e.g. [1 0 0])\n",
    "    # Use \"from_logits = False\" if the output is already normalized (e.g. using softmax)\n",
    "    loss = keras.losses.SparseCategoricalCrossentropy(from_logits = False),\n",
    "    metrics = [ keras.metrics.SparseCategoricalAccuracy(name = 'acc') ]\n",
    ")\n",
    "\n",
    "# Try to load existing model first\n",
    "if os.path.isfile(f'misc/model.hist'):\n",
    "    is_training = False\n",
    "    model = keras.models.load_model(f'misc/model.tf')\n",
    "    with open(f'misc/model.hist') as hist:\n",
    "        history = json.load(hist)\n",
    "else:\n",
    "    is_training = True\n",
    "    # Train model from beginning\n",
    "    train = model.fit(\n",
    "        x_train,\n",
    "        y_train,\n",
    "        epochs = 50,\n",
    "        validation_data = (x_test, y_test),\n",
    "        # Give more weight to class with less members\n",
    "        class_weight = class_weights,\n",
    "        # Model will be saved via checkpoint callbacks\n",
    "        callbacks = [ checkpoint, early_stopping, stop_at ],\n",
    "        verbose = 1\n",
    "    )\n",
    "    # Restore the best model from training (not always the last epoch)\n",
    "    model = keras.models.load_model(f'misc/model.tf')\n",
    "    # Save the model training history\n",
    "    with open(f'misc/model.hist', 'w') as hist:\n",
    "        json.dump(train.history, hist, cls = NumpyEncoder)\n",
    "    history = train.history"
   ]
  },
  {
   "cell_type": "markdown",
   "metadata": {},
   "source": [
    "Note that only model with the best `val_acc` will be saved and used, so the last epoch is just an indicator when the training stop."
   ]
  },
  {
   "cell_type": "code",
   "execution_count": 192,
   "metadata": {},
   "outputs": [
    {
     "data": {
      "image/png": "[encoded data removed]"
     },
     "metadata": {},
     "output_type": "display_data"
    }
   ],
   "source": [
    "fig = go.Figure()\n",
    "\n",
    "fig.add_trace(\n",
    "    go.Scatter(\n",
    "        x = [ i for i in range(len(history['acc'])) ],\n",
    "        y = history['acc'],\n",
    "        name = 'Training Accuracy'\n",
    "    )\n",
    ")\n",
    "\n",
    "fig.add_trace(\n",
    "    go.Scatter(\n",
    "        x = [ i for i in range(len(history['acc'])) ],\n",
    "        y = history['val_acc'],\n",
    "        name = 'Validation Accuracy'\n",
    "    )\n",
    ")\n",
    "\n",
    "fig.add_trace(\n",
    "    go.Scatter(\n",
    "        x = [ i for i in range(len(history['acc'])) ],\n",
    "        y = history['loss'],\n",
    "        name = 'Training Loss'\n",
    "    )\n",
    ")\n",
    "\n",
    "fig.add_trace(\n",
    "    go.Scatter(\n",
    "        x = [ i for i in range(len(history['acc'])) ],\n",
    "        y = history['val_loss'],\n",
    "        name = 'Validation Loss'\n",
    "    )\n",
    ")\n",
    "\n",
    "fig.update_traces(mode = 'markers+lines')\n",
    "\n",
    "fig.update_layout(\n",
    "    # https://plotly.com/python/reference/layout/\n",
    "    title = { 'text': 'Model Training - Accuracy and Loss' },\n",
    "    # https://plotly.com/python/reference/layout/xaxis/\n",
    "    xaxis = { 'title': 'Epoch' },\n",
    "    # https://plotly.com/python/reference/layout/yaxis/\n",
    "    yaxis = { 'title': 'Accuracy/Loss' },\n",
    "    hovermode = 'x unified',\n",
    "    hoverlabel = { 'namelength': -1 }\n",
    ")\n",
    "\n",
    "fig.show()"
   ]
  },
  {
   "cell_type": "markdown",
   "metadata": {},
   "source": [
    "Stopped at epoch 17, but the best `val_acc` is at epoch 7, so model from epoch 7 will be used instead."
   ]
  },
  {
   "cell_type": "code",
   "execution_count": 197,
   "metadata": {},
   "outputs": [
    {
     "name": "stdout",
     "output_type": "stream",
     "text": [
      "1/1 [==============================] - 0s 66ms/step\n",
      "Your customer service is awful\n",
      "LSTM -> [0.00861 0.38315 0.60824] Negative\n",
      "VADER -> Neutral \n",
      "\n",
      "Your customer service is awful 👿\n",
      "LSTM -> [0.00864 0.36702 0.62434] Negative\n",
      "VADER -> Negative \n",
      "\n",
      "Your customer service is ok\n",
      "LSTM -> [0.04808 0.9392  0.01271] Neutral\n",
      "VADER -> Neutral \n",
      "\n",
      "Your customer service is good\n",
      "LSTM -> [0.22569 0.65428 0.12003] Neutral\n",
      "VADER -> Neutral \n",
      "\n",
      "Your customer service is good 😊\n",
      "LSTM -> [0.98203 0.0172  0.00077] Positive\n",
      "VADER -> Positive \n",
      "\n"
     ]
    }
   ],
   "source": [
    "def predict_tweets(tweets: list):\n",
    "    if use_tokenizer:\n",
    "        # \"preproc_all\" = \"preproc_useless_info\" + \"preproc_for_model\"\n",
    "        tweets = [ preproc_all(i) for i in tweets ]\n",
    "\n",
    "        # Convert sentences to vector\n",
    "        tweets = tokenizer.texts_to_sequences(tweets)\n",
    "        tweets = pad_sequences(tweets, padding = 'post', truncating = 'post', maxlen = max_len)\n",
    "    else:\n",
    "        # \"preproc_for_model\" will be called by TextVectorization layer\n",
    "        tweets = [ preproc_useless_info(i) for i in tweets ]\n",
    "\n",
    "    return model.predict(tweets)\n",
    "\n",
    "def sparse_to_label(array: np.ndarray):\n",
    "    i = array.argmax()\n",
    "    return ['Positive', 'Neutral', 'Negative'][i]\n",
    "\n",
    "text = [\n",
    "    'Your customer service is awful',\n",
    "    'Your customer service is awful 👿',\n",
    "    'Your customer service is ok',\n",
    "    'Your customer service is good',\n",
    "    'Your customer service is good 😊'\n",
    "]\n",
    "\n",
    "with np.printoptions(precision = 5, suppress = True):\n",
    "    result = predict_tweets(text)\n",
    "    for i in range(len(result)):\n",
    "        print(f'{text[i]}')\n",
    "        print(f'LSTM -> {result[i]} {sparse_to_label(result[i])}')\n",
    "        print(f'VADER -> {vader_sentiment(text[i], \"label\")}', '\\n')"
   ]
  },
  {
   "cell_type": "markdown",
   "metadata": {},
   "source": [
    "Even though the model's training accuracy is not good (less than 90% accuracy), it can still predict tweet sentiment correctly (using words and emojis). Therefore, I can conclude that this model is good enough."
   ]
  },
  {
   "cell_type": "markdown",
   "metadata": {},
   "source": [
    "### **Changelog**\n",
    "\n",
    "- v1: Vectorization 5000 vocab size, embedding 32 output dims & 50 input length, Conv1D 32 filters, LSTM 32 units, dropout 0.4, dense 128, dense 64. Trained with 14 epoch resulting 60% accuracy using stratified undersampling 0.1 frac. Callback reduce LR 3, early stop 6\n",
    "- v2: Added max pool layer with pool size = 2 after Conv1D. Stopped manually at 7 epoch with accuracy 60%\n",
    "- v3: Switched to Bi-LSTM, increased vocab size to 20000. Stopped manually at 7 epoch with accuracy 60%. Sample size reduced to 0.01\n",
    "- v4: Bi-LSTM 64, batch size changed to 128 (the default is 32). Early stop at 23 epoch with 60% accuracy\n",
    "- v5: Using original data only (not combined with augmented data). Early stop at epoch 15 with 64% accuracy (slightly increased)\n",
    "- v6: Changed to disproportionate undersampling with N = 15000. Accuracy decreased to 50%, early stop at epoch 23.\n",
    "- v7: Switched to normal LSTM (not Bi-LSTM), with 9000 vocab size. Re-adapt text with training data (turns out vectorization layer doesn't automatically readapt when begining training). Accuracy improved to 81%, early stop at epoch 9. Graph overfit\n",
    "- v8: Stratified undersampling 0.02 (~58000 data). Reduce LR increased to 5 and early stop at 10, vocab size 12000. Still overfit training\n",
    "- v9: Stratified undersampling 0.03 (~88000 data). Manual stop at epoch 9, vocab size 12000. Still overfit\n",
    "- v10: Stratified undersampling 0.03 (~88000 data). Manual stop at epoch 9, vocab size 21000. Still overfit\n",
    "- v11: Disproportionate undersampling 30000 (90000 data). Manual stop at epoch 9, vocab size 21000. Still overfit\n",
    "- v12: Switch to Tokenizer instead of TextVectorization layer, since the preprocessing wasn't applied correctly. Used Bi-LSTM again. Early stop at epoch 13. Still overfit\n",
    "- v13: Reduced LSTM units to 32 for faster training. Used class weight balancing and stratified undersampling. Changed optimizer from Adam to AdamW"
   ]
  },
  {
   "cell_type": "markdown",
   "metadata": {},
   "source": [
    "### **Todo**\n",
    "\n",
    "- Inspect the output of each model layer like CNN\n",
    "- Reduce overfit without increasing sample size (switch embedding with TF-IDF? use pretrained embedding?) - [Reference](https://medium.com/@dcameronsteinke/tf-idf-vs-word-embedding-a-comparison-and-code-tutorial-5ba341379ab0)\n",
    "- EDA (the worst customer service, wordcloud, etc)"
   ]
  }
 ],
 "metadata": {
  "kernelspec": {
   "display_name": ".venv",
   "language": "python",
   "name": "python3"
  },
  "language_info": {
   "codemirror_mode": {
    "name": "ipython",
    "version": 3
   },
   "file_extension": ".py",
   "mimetype": "text/x-python",
   "name": "python",
   "nbconvert_exporter": "python",
   "pygments_lexer": "ipython3",
   "version": "3.11.5"
  }
 },
 "nbformat": 4,
 "nbformat_minor": 2
}
